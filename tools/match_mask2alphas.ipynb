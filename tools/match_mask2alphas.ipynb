{
 "cells": [
  {
   "cell_type": "code",
   "execution_count": 1,
   "metadata": {},
   "outputs": [],
   "source": [
    "import os\n",
    "import numpy as np\n",
    "import cv2\n",
    "from PIL import Image\n",
    "import tqdm\n",
    "import shutil"
   ]
  },
  {
   "cell_type": "code",
   "execution_count": 2,
   "metadata": {},
   "outputs": [],
   "source": [
    "alpha_dir = '/home/chuongh/vm2m/data/HHM/synthesized/masks'\n",
    "mask_dir = '/home/chuongh/vm2m/data/HHM/synthesized/alphas'\n",
    "out_dir = '/home/chuongh/vm2m/data/HHM/synthesized/masks_matched'"
   ]
  },
  {
   "cell_type": "code",
   "execution_count": 3,
   "metadata": {},
   "outputs": [
    {
     "name": "stderr",
     "output_type": "stream",
     "text": [
      "  0%|          | 2/49737 [00:00<47:31, 17.44it/s]"
     ]
    },
    {
     "name": "stderr",
     "output_type": "stream",
     "text": [
      "  0%|          | 24/49737 [00:01<1:03:43, 13.00it/s]"
     ]
    },
    {
     "name": "stdout",
     "output_type": "stream",
     "text": [
      "0.26794108160297625\n",
      "no match for /home/chuongh/vm2m/data/HHM/synthesized/masks/17289/0.png\n"
     ]
    },
    {
     "name": "stderr",
     "output_type": "stream",
     "text": [
      "  0%|          | 62/49737 [00:04<1:15:39, 10.94it/s]"
     ]
    },
    {
     "name": "stdout",
     "output_type": "stream",
     "text": [
      "0.2941732911760793\n",
      "no match for /home/chuongh/vm2m/data/HHM/synthesized/masks/17589/2.png\n"
     ]
    },
    {
     "name": "stderr",
     "output_type": "stream",
     "text": [
      "  0%|          | 97/49737 [00:07<57:29, 14.39it/s]  "
     ]
    },
    {
     "name": "stdout",
     "output_type": "stream",
     "text": [
      "0.02848543531856044\n",
      "no match for /home/chuongh/vm2m/data/HHM/synthesized/masks/24722/0.png\n"
     ]
    },
    {
     "name": "stderr",
     "output_type": "stream",
     "text": [
      "  0%|          | 126/49737 [00:09<1:10:59, 11.65it/s]"
     ]
    },
    {
     "name": "stdout",
     "output_type": "stream",
     "text": [
      "0.2485098365796592\n",
      "no match for /home/chuongh/vm2m/data/HHM/synthesized/masks/3599/3.png\n",
      "0.002274350862353298\n",
      "no match for /home/chuongh/vm2m/data/HHM/synthesized/masks/6859/0.png\n"
     ]
    },
    {
     "name": "stderr",
     "output_type": "stream",
     "text": [
      "  0%|          | 179/49737 [00:13<1:03:25, 13.02it/s]"
     ]
    },
    {
     "name": "stdout",
     "output_type": "stream",
     "text": [
      "0.002924467068743392\n",
      "no match for /home/chuongh/vm2m/data/HHM/synthesized/masks/37732/1.png\n"
     ]
    },
    {
     "name": "stderr",
     "output_type": "stream",
     "text": [
      "  0%|          | 187/49737 [00:14<1:10:52, 11.65it/s]"
     ]
    },
    {
     "name": "stdout",
     "output_type": "stream",
     "text": [
      "0.12651004349565317\n",
      "no match for /home/chuongh/vm2m/data/HHM/synthesized/masks/31488/0.png\n"
     ]
    },
    {
     "name": "stderr",
     "output_type": "stream",
     "text": [
      "  0%|          | 196/49737 [00:15<1:07:41, 12.20it/s]"
     ]
    },
    {
     "name": "stdout",
     "output_type": "stream",
     "text": [
      "0.18455009417670673\n",
      "no match for /home/chuongh/vm2m/data/HHM/synthesized/masks/843/1.png\n"
     ]
    },
    {
     "name": "stderr",
     "output_type": "stream",
     "text": [
      "  0%|          | 226/49737 [00:17<1:06:16, 12.45it/s]"
     ]
    },
    {
     "name": "stdout",
     "output_type": "stream",
     "text": [
      "0.1094135626263233\n",
      "no match for /home/chuongh/vm2m/data/HHM/synthesized/masks/18537/1.png\n"
     ]
    },
    {
     "name": "stderr",
     "output_type": "stream",
     "text": [
      "  0%|          | 231/49737 [00:18<56:21, 14.64it/s]  "
     ]
    },
    {
     "name": "stdout",
     "output_type": "stream",
     "text": [
      "0.22383761701003785\n",
      "no match for /home/chuongh/vm2m/data/HHM/synthesized/masks/16490/1.png\n"
     ]
    },
    {
     "name": "stderr",
     "output_type": "stream",
     "text": [
      "  1%|          | 264/49737 [00:20<55:33, 14.84it/s]  "
     ]
    },
    {
     "name": "stdout",
     "output_type": "stream",
     "text": [
      "0.014212012727329066\n",
      "no match for /home/chuongh/vm2m/data/HHM/synthesized/masks/46745/0.png\n"
     ]
    },
    {
     "name": "stderr",
     "output_type": "stream",
     "text": [
      "  1%|          | 276/49737 [00:21<55:56, 14.73it/s]  "
     ]
    },
    {
     "name": "stdout",
     "output_type": "stream",
     "text": [
      "0.253812479426795\n",
      "no match for /home/chuongh/vm2m/data/HHM/synthesized/masks/38301/1.png\n"
     ]
    },
    {
     "name": "stderr",
     "output_type": "stream",
     "text": [
      "  1%|          | 284/49737 [00:22<1:07:48, 12.16it/s]"
     ]
    },
    {
     "name": "stdout",
     "output_type": "stream",
     "text": [
      "0.16161096686711457\n",
      "no match for /home/chuongh/vm2m/data/HHM/synthesized/masks/45853/2.png\n"
     ]
    },
    {
     "name": "stderr",
     "output_type": "stream",
     "text": [
      "  1%|          | 320/49737 [00:25<1:18:04, 10.55it/s]"
     ]
    },
    {
     "name": "stdout",
     "output_type": "stream",
     "text": [
      "0.22973889096990682\n",
      "no match for /home/chuongh/vm2m/data/HHM/synthesized/masks/30957/0.png\n",
      "0.00010763683332420703\n",
      "no match for /home/chuongh/vm2m/data/HHM/synthesized/masks/10530/0.png\n"
     ]
    },
    {
     "name": "stderr",
     "output_type": "stream",
     "text": [
      "  1%|          | 330/49737 [00:25<55:45, 14.77it/s]  "
     ]
    },
    {
     "name": "stdout",
     "output_type": "stream",
     "text": [
      "0.23714295719017642\n",
      "no match for /home/chuongh/vm2m/data/HHM/synthesized/masks/39094/0.png\n"
     ]
    },
    {
     "name": "stderr",
     "output_type": "stream",
     "text": [
      "  1%|          | 345/49737 [00:26<58:30, 14.07it/s]  "
     ]
    },
    {
     "name": "stdout",
     "output_type": "stream",
     "text": [
      "0.26975610728734195\n",
      "no match for /home/chuongh/vm2m/data/HHM/synthesized/masks/43050/0.png\n"
     ]
    },
    {
     "name": "stderr",
     "output_type": "stream",
     "text": [
      "  1%|          | 390/49737 [00:30<43:07, 19.07it/s]  "
     ]
    },
    {
     "name": "stdout",
     "output_type": "stream",
     "text": [
      "0.1365182603483323\n",
      "no match for /home/chuongh/vm2m/data/HHM/synthesized/masks/27293/1.png\n"
     ]
    },
    {
     "name": "stderr",
     "output_type": "stream",
     "text": [
      "  1%|          | 447/49737 [00:34<52:48, 15.55it/s]  "
     ]
    },
    {
     "name": "stdout",
     "output_type": "stream",
     "text": [
      "0.005099770122430823\n",
      "no match for /home/chuongh/vm2m/data/HHM/synthesized/masks/14432/0.png\n"
     ]
    },
    {
     "name": "stderr",
     "output_type": "stream",
     "text": [
      "  1%|          | 449/49737 [00:34<1:01:26, 13.37it/s]"
     ]
    },
    {
     "name": "stdout",
     "output_type": "stream",
     "text": [
      "0.29809063862687285\n",
      "no match for /home/chuongh/vm2m/data/HHM/synthesized/masks/5055/1.png\n"
     ]
    },
    {
     "name": "stderr",
     "output_type": "stream",
     "text": [
      "  1%|          | 459/49737 [00:35<57:44, 14.22it/s]  "
     ]
    },
    {
     "name": "stdout",
     "output_type": "stream",
     "text": [
      "0.13081297998021668\n",
      "no match for /home/chuongh/vm2m/data/HHM/synthesized/masks/41573/0.png\n"
     ]
    },
    {
     "name": "stderr",
     "output_type": "stream",
     "text": [
      "  1%|          | 461/49737 [00:35<1:00:58, 13.47it/s]"
     ]
    },
    {
     "name": "stdout",
     "output_type": "stream",
     "text": [
      "0.23412513748924335\n",
      "no match for /home/chuongh/vm2m/data/HHM/synthesized/masks/19791/1.png\n",
      "0.13905899603143104\n",
      "no match for /home/chuongh/vm2m/data/HHM/synthesized/masks/19791/2.png\n"
     ]
    },
    {
     "name": "stderr",
     "output_type": "stream",
     "text": [
      "  1%|          | 477/49737 [00:37<1:17:43, 10.56it/s]"
     ]
    },
    {
     "name": "stdout",
     "output_type": "stream",
     "text": [
      "0.23286542334763344\n",
      "no match for /home/chuongh/vm2m/data/HHM/synthesized/masks/36244/0.png\n"
     ]
    },
    {
     "name": "stderr",
     "output_type": "stream",
     "text": [
      "  1%|          | 487/49737 [00:37<52:13, 15.72it/s]  "
     ]
    },
    {
     "name": "stdout",
     "output_type": "stream",
     "text": [
      "0.12892949943603357\n",
      "no match for /home/chuongh/vm2m/data/HHM/synthesized/masks/20087/1.png\n"
     ]
    },
    {
     "name": "stderr",
     "output_type": "stream",
     "text": [
      "  1%|          | 530/49737 [00:40<1:00:01, 13.66it/s]"
     ]
    },
    {
     "name": "stdout",
     "output_type": "stream",
     "text": [
      "0\n",
      "no match for /home/chuongh/vm2m/data/HHM/synthesized/masks/6643/0.png\n"
     ]
    },
    {
     "name": "stderr",
     "output_type": "stream",
     "text": [
      "  1%|          | 540/49737 [00:41<1:06:31, 12.33it/s]"
     ]
    },
    {
     "name": "stdout",
     "output_type": "stream",
     "text": [
      "0.12410348676760428\n",
      "no match for /home/chuongh/vm2m/data/HHM/synthesized/masks/4929/1.png\n"
     ]
    },
    {
     "name": "stderr",
     "output_type": "stream",
     "text": [
      "  1%|          | 563/49737 [00:43<1:04:55, 12.62it/s]"
     ]
    },
    {
     "name": "stdout",
     "output_type": "stream",
     "text": [
      "0.014313661758453762\n",
      "no match for /home/chuongh/vm2m/data/HHM/synthesized/masks/31099/1.png\n"
     ]
    },
    {
     "name": "stderr",
     "output_type": "stream",
     "text": [
      "  1%|▏         | 672/49737 [00:52<1:18:33, 10.41it/s]"
     ]
    },
    {
     "name": "stdout",
     "output_type": "stream",
     "text": [
      "0.0014622789578281304\n",
      "no match for /home/chuongh/vm2m/data/HHM/synthesized/masks/36588/1.png\n"
     ]
    },
    {
     "name": "stderr",
     "output_type": "stream",
     "text": [
      "  1%|▏         | 711/49737 [00:55<1:12:59, 11.19it/s]"
     ]
    },
    {
     "name": "stdout",
     "output_type": "stream",
     "text": [
      "0.18183720278323376\n",
      "no match for /home/chuongh/vm2m/data/HHM/synthesized/masks/5560/0.png\n"
     ]
    },
    {
     "name": "stderr",
     "output_type": "stream",
     "text": [
      "  1%|▏         | 724/49737 [00:56<54:28, 14.99it/s]  "
     ]
    },
    {
     "name": "stdout",
     "output_type": "stream",
     "text": [
      "0\n",
      "no match for /home/chuongh/vm2m/data/HHM/synthesized/masks/18195/0.png\n"
     ]
    },
    {
     "name": "stderr",
     "output_type": "stream",
     "text": [
      "  2%|▏         | 763/49737 [00:59<1:05:43, 12.42it/s]"
     ]
    },
    {
     "name": "stdout",
     "output_type": "stream",
     "text": [
      "0.2949671748400918\n",
      "no match for /home/chuongh/vm2m/data/HHM/synthesized/masks/29398/0.png\n"
     ]
    },
    {
     "name": "stderr",
     "output_type": "stream",
     "text": [
      "  2%|▏         | 771/49737 [01:00<1:16:05, 10.73it/s]"
     ]
    },
    {
     "name": "stdout",
     "output_type": "stream",
     "text": [
      "0.2922870518911962\n",
      "no match for /home/chuongh/vm2m/data/HHM/synthesized/masks/44665/0.png\n"
     ]
    },
    {
     "name": "stderr",
     "output_type": "stream",
     "text": [
      "  2%|▏         | 780/49737 [01:01<58:12, 14.02it/s]  "
     ]
    },
    {
     "name": "stdout",
     "output_type": "stream",
     "text": [
      "0.1990625341542199\n",
      "no match for /home/chuongh/vm2m/data/HHM/synthesized/masks/14240/0.png\n"
     ]
    },
    {
     "name": "stderr",
     "output_type": "stream",
     "text": [
      "  2%|▏         | 784/49737 [01:01<53:03, 15.37it/s]"
     ]
    },
    {
     "name": "stdout",
     "output_type": "stream",
     "text": [
      "0.25366101718979384\n",
      "no match for /home/chuongh/vm2m/data/HHM/synthesized/masks/34701/2.png\n"
     ]
    },
    {
     "name": "stderr",
     "output_type": "stream",
     "text": [
      "  2%|▏         | 791/49737 [01:01<57:43, 14.13it/s]"
     ]
    },
    {
     "name": "stdout",
     "output_type": "stream",
     "text": [
      "0.15905929739008845\n",
      "no match for /home/chuongh/vm2m/data/HHM/synthesized/masks/18910/1.png\n"
     ]
    },
    {
     "name": "stderr",
     "output_type": "stream",
     "text": [
      "  2%|▏         | 839/49737 [01:05<1:19:32, 10.25it/s]"
     ]
    },
    {
     "name": "stdout",
     "output_type": "stream",
     "text": [
      "0.002940989352279799\n",
      "no match for /home/chuongh/vm2m/data/HHM/synthesized/masks/47461/0.png\n"
     ]
    },
    {
     "name": "stderr",
     "output_type": "stream",
     "text": [
      "  2%|▏         | 877/49737 [01:08<1:18:15, 10.41it/s]"
     ]
    },
    {
     "name": "stdout",
     "output_type": "stream",
     "text": [
      "0.27322773939884243\n",
      "no match for /home/chuongh/vm2m/data/HHM/synthesized/masks/15075/0.png\n"
     ]
    },
    {
     "name": "stderr",
     "output_type": "stream",
     "text": [
      "  2%|▏         | 897/49737 [01:10<1:10:41, 11.51it/s]"
     ]
    },
    {
     "name": "stdout",
     "output_type": "stream",
     "text": [
      "0\n",
      "no match for /home/chuongh/vm2m/data/HHM/synthesized/masks/34362/0.png\n"
     ]
    },
    {
     "name": "stderr",
     "output_type": "stream",
     "text": [
      "  2%|▏         | 902/49737 [01:10<1:18:09, 10.41it/s]"
     ]
    },
    {
     "name": "stdout",
     "output_type": "stream",
     "text": [
      "0.29307274785306286\n",
      "no match for /home/chuongh/vm2m/data/HHM/synthesized/masks/30318/0.png\n"
     ]
    },
    {
     "name": "stderr",
     "output_type": "stream",
     "text": [
      "  2%|▏         | 913/49737 [01:11<1:02:07, 13.10it/s]"
     ]
    },
    {
     "name": "stdout",
     "output_type": "stream",
     "text": [
      "0.022621281451934355\n",
      "no match for /home/chuongh/vm2m/data/HHM/synthesized/masks/37454/0.png\n"
     ]
    },
    {
     "name": "stderr",
     "output_type": "stream",
     "text": [
      "  2%|▏         | 952/49737 [01:14<1:07:46, 12.00it/s]"
     ]
    },
    {
     "name": "stdout",
     "output_type": "stream",
     "text": [
      "0\n",
      "no match for /home/chuongh/vm2m/data/HHM/synthesized/masks/14188/2.png\n"
     ]
    },
    {
     "name": "stderr",
     "output_type": "stream",
     "text": [
      "  2%|▏         | 987/49737 [01:17<1:01:09, 13.29it/s]"
     ]
    },
    {
     "name": "stdout",
     "output_type": "stream",
     "text": [
      "0.0030082002118214947\n",
      "no match for /home/chuongh/vm2m/data/HHM/synthesized/masks/8099/1.png\n"
     ]
    },
    {
     "name": "stderr",
     "output_type": "stream",
     "text": [
      "  2%|▏         | 1015/49737 [01:19<59:52, 13.56it/s]  "
     ]
    },
    {
     "name": "stdout",
     "output_type": "stream",
     "text": [
      "0.004849832683370007\n",
      "no match for /home/chuongh/vm2m/data/HHM/synthesized/masks/2379/1.png\n"
     ]
    },
    {
     "name": "stderr",
     "output_type": "stream",
     "text": [
      "  2%|▏         | 1044/49737 [01:21<54:00, 15.02it/s]  "
     ]
    },
    {
     "name": "stdout",
     "output_type": "stream",
     "text": [
      "0.2920233363898824\n",
      "no match for /home/chuongh/vm2m/data/HHM/synthesized/masks/24009/1.png\n",
      "0.007989363589223763\n",
      "no match for /home/chuongh/vm2m/data/HHM/synthesized/masks/38630/0.png\n"
     ]
    },
    {
     "name": "stderr",
     "output_type": "stream",
     "text": [
      "  2%|▏         | 1069/49737 [01:23<40:29, 20.03it/s]  "
     ]
    },
    {
     "name": "stdout",
     "output_type": "stream",
     "text": [
      "0\n",
      "no match for /home/chuongh/vm2m/data/HHM/synthesized/masks/28914/2.png\n"
     ]
    },
    {
     "name": "stderr",
     "output_type": "stream",
     "text": [
      "  2%|▏         | 1107/49737 [01:26<56:49, 14.26it/s]  "
     ]
    },
    {
     "name": "stdout",
     "output_type": "stream",
     "text": [
      "0.018709872870616047\n",
      "no match for /home/chuongh/vm2m/data/HHM/synthesized/masks/28057/0.png\n"
     ]
    },
    {
     "name": "stderr",
     "output_type": "stream",
     "text": [
      "  2%|▏         | 1114/49737 [01:26<1:04:00, 12.66it/s]"
     ]
    },
    {
     "name": "stdout",
     "output_type": "stream",
     "text": [
      "0.2728880288903032\n",
      "no match for /home/chuongh/vm2m/data/HHM/synthesized/masks/9433/0.png\n",
      "0.036896805401201216\n",
      "no match for /home/chuongh/vm2m/data/HHM/synthesized/masks/9288/0.png\n"
     ]
    },
    {
     "name": "stderr",
     "output_type": "stream",
     "text": [
      "  2%|▏         | 1141/49737 [01:28<1:01:10, 13.24it/s]"
     ]
    },
    {
     "name": "stdout",
     "output_type": "stream",
     "text": [
      "0.024038992187854817\n",
      "no match for /home/chuongh/vm2m/data/HHM/synthesized/masks/2123/0.png\n"
     ]
    },
    {
     "name": "stderr",
     "output_type": "stream",
     "text": [
      "  2%|▏         | 1158/49737 [01:30<49:04, 16.50it/s]  "
     ]
    },
    {
     "name": "stdout",
     "output_type": "stream",
     "text": [
      "0.24653327892388446\n",
      "no match for /home/chuongh/vm2m/data/HHM/synthesized/masks/37465/0.png\n"
     ]
    },
    {
     "name": "stderr",
     "output_type": "stream",
     "text": [
      "  2%|▏         | 1176/49737 [01:31<56:04, 14.43it/s]  "
     ]
    },
    {
     "name": "stdout",
     "output_type": "stream",
     "text": [
      "0.06762320963924343\n",
      "no match for /home/chuongh/vm2m/data/HHM/synthesized/masks/8117/1.png\n"
     ]
    },
    {
     "name": "stderr",
     "output_type": "stream",
     "text": [
      "  3%|▎         | 1256/49737 [01:37<53:53, 15.00it/s]  "
     ]
    },
    {
     "name": "stdout",
     "output_type": "stream",
     "text": [
      "0.24375384367750894\n",
      "no match for /home/chuongh/vm2m/data/HHM/synthesized/masks/31962/1.png\n"
     ]
    },
    {
     "name": "stderr",
     "output_type": "stream",
     "text": [
      "  3%|▎         | 1296/49737 [01:40<1:11:00, 11.37it/s]"
     ]
    },
    {
     "name": "stdout",
     "output_type": "stream",
     "text": [
      "0.28726995895591356\n",
      "no match for /home/chuongh/vm2m/data/HHM/synthesized/masks/18134/1.png\n"
     ]
    },
    {
     "name": "stderr",
     "output_type": "stream",
     "text": [
      "  3%|▎         | 1302/49737 [01:40<1:03:24, 12.73it/s]"
     ]
    },
    {
     "name": "stdout",
     "output_type": "stream",
     "text": [
      "0.18400168346271692\n",
      "no match for /home/chuongh/vm2m/data/HHM/synthesized/masks/42064/2.png\n"
     ]
    },
    {
     "name": "stderr",
     "output_type": "stream",
     "text": [
      "  3%|▎         | 1310/49737 [01:41<1:03:39, 12.68it/s]"
     ]
    },
    {
     "name": "stdout",
     "output_type": "stream",
     "text": [
      "0.1330321425927397\n",
      "no match for /home/chuongh/vm2m/data/HHM/synthesized/masks/18704/0.png\n"
     ]
    },
    {
     "name": "stderr",
     "output_type": "stream",
     "text": [
      "  3%|▎         | 1320/49737 [01:42<51:57, 15.53it/s]  "
     ]
    },
    {
     "name": "stdout",
     "output_type": "stream",
     "text": [
      "0.13747392266987868\n",
      "no match for /home/chuongh/vm2m/data/HHM/synthesized/masks/1348/0.png\n"
     ]
    },
    {
     "name": "stderr",
     "output_type": "stream",
     "text": [
      "  3%|▎         | 1409/49737 [01:49<1:12:05, 11.17it/s]"
     ]
    },
    {
     "name": "stdout",
     "output_type": "stream",
     "text": [
      "0.001236308213596001\n",
      "no match for /home/chuongh/vm2m/data/HHM/synthesized/masks/27535/0.png\n"
     ]
    },
    {
     "name": "stderr",
     "output_type": "stream",
     "text": [
      "  3%|▎         | 1429/49737 [01:50<58:40, 13.72it/s]  "
     ]
    },
    {
     "name": "stdout",
     "output_type": "stream",
     "text": [
      "0\n",
      "no match for /home/chuongh/vm2m/data/HHM/synthesized/masks/43912/0.png\n"
     ]
    },
    {
     "name": "stderr",
     "output_type": "stream",
     "text": [
      "  3%|▎         | 1436/49737 [01:51<1:21:35,  9.87it/s]"
     ]
    },
    {
     "name": "stdout",
     "output_type": "stream",
     "text": [
      "0.2892571478428649\n",
      "no match for /home/chuongh/vm2m/data/HHM/synthesized/masks/47139/3.png\n"
     ]
    },
    {
     "name": "stderr",
     "output_type": "stream",
     "text": [
      "  3%|▎         | 1486/49737 [01:55<53:23, 15.06it/s]  "
     ]
    },
    {
     "name": "stdout",
     "output_type": "stream",
     "text": [
      "0.23743749975170908\n",
      "no match for /home/chuongh/vm2m/data/HHM/synthesized/masks/9252/2.png\n"
     ]
    },
    {
     "name": "stderr",
     "output_type": "stream",
     "text": [
      "  3%|▎         | 1520/49737 [01:57<47:03, 17.07it/s]"
     ]
    },
    {
     "name": "stdout",
     "output_type": "stream",
     "text": [
      "0.015391618365519798\n",
      "no match for /home/chuongh/vm2m/data/HHM/synthesized/masks/13399/0.png\n"
     ]
    },
    {
     "name": "stderr",
     "output_type": "stream",
     "text": [
      "  3%|▎         | 1533/49737 [01:58<1:12:32, 11.08it/s]"
     ]
    },
    {
     "name": "stdout",
     "output_type": "stream",
     "text": [
      "0.2712598876517754\n",
      "no match for /home/chuongh/vm2m/data/HHM/synthesized/masks/4463/0.png\n"
     ]
    },
    {
     "name": "stderr",
     "output_type": "stream",
     "text": [
      "  3%|▎         | 1576/49737 [02:01<1:03:53, 12.56it/s]"
     ]
    },
    {
     "name": "stdout",
     "output_type": "stream",
     "text": [
      "0.2214262117740479\n",
      "no match for /home/chuongh/vm2m/data/HHM/synthesized/masks/12223/0.png\n"
     ]
    },
    {
     "name": "stderr",
     "output_type": "stream",
     "text": [
      "  3%|▎         | 1595/49737 [02:02<56:58, 14.08it/s]  "
     ]
    },
    {
     "name": "stdout",
     "output_type": "stream",
     "text": [
      "0.279633377498193\n",
      "no match for /home/chuongh/vm2m/data/HHM/synthesized/masks/39969/0.png\n",
      "0.2788183033456886\n",
      "no match for /home/chuongh/vm2m/data/HHM/synthesized/masks/33141/0.png\n"
     ]
    },
    {
     "name": "stderr",
     "output_type": "stream",
     "text": [
      "  3%|▎         | 1617/49737 [02:04<59:11, 13.55it/s]  "
     ]
    },
    {
     "name": "stdout",
     "output_type": "stream",
     "text": [
      "0.28658491487031573\n",
      "no match for /home/chuongh/vm2m/data/HHM/synthesized/masks/8138/1.png\n"
     ]
    },
    {
     "name": "stderr",
     "output_type": "stream",
     "text": [
      "  3%|▎         | 1621/49737 [02:05<1:12:17, 11.09it/s]"
     ]
    },
    {
     "name": "stdout",
     "output_type": "stream",
     "text": [
      "0.22035522289340245\n",
      "no match for /home/chuongh/vm2m/data/HHM/synthesized/masks/22528/0.png\n"
     ]
    },
    {
     "name": "stderr",
     "output_type": "stream",
     "text": [
      "  3%|▎         | 1678/49737 [02:09<1:10:36, 11.34it/s]"
     ]
    },
    {
     "name": "stdout",
     "output_type": "stream",
     "text": [
      "0.005636105727047796\n",
      "no match for /home/chuongh/vm2m/data/HHM/synthesized/masks/16265/1.png\n"
     ]
    },
    {
     "name": "stderr",
     "output_type": "stream",
     "text": [
      "  3%|▎         | 1685/49737 [02:10<1:01:39, 12.99it/s]"
     ]
    },
    {
     "name": "stdout",
     "output_type": "stream",
     "text": [
      "0.009773741526666302\n",
      "no match for /home/chuongh/vm2m/data/HHM/synthesized/masks/38661/0.png\n"
     ]
    },
    {
     "name": "stderr",
     "output_type": "stream",
     "text": [
      "  3%|▎         | 1696/49737 [02:10<55:30, 14.42it/s]  "
     ]
    },
    {
     "name": "stdout",
     "output_type": "stream",
     "text": [
      "0.005262608661881018\n",
      "no match for /home/chuongh/vm2m/data/HHM/synthesized/masks/18325/0.png\n"
     ]
    },
    {
     "name": "stderr",
     "output_type": "stream",
     "text": [
      "  4%|▎         | 1797/49737 [02:18<1:07:00, 11.92it/s]"
     ]
    },
    {
     "name": "stdout",
     "output_type": "stream",
     "text": [
      "0.13038456971995058\n",
      "no match for /home/chuongh/vm2m/data/HHM/synthesized/masks/389/0.png\n"
     ]
    },
    {
     "name": "stderr",
     "output_type": "stream",
     "text": [
      "  4%|▎         | 1828/49737 [02:21<59:00, 13.53it/s]  "
     ]
    },
    {
     "name": "stdout",
     "output_type": "stream",
     "text": [
      "0.021807863638882787\n",
      "no match for /home/chuongh/vm2m/data/HHM/synthesized/masks/17653/0.png\n"
     ]
    },
    {
     "name": "stderr",
     "output_type": "stream",
     "text": [
      "  4%|▎         | 1847/49737 [02:22<59:51, 13.34it/s]  "
     ]
    },
    {
     "name": "stdout",
     "output_type": "stream",
     "text": [
      "0.0007095214315009974\n",
      "no match for /home/chuongh/vm2m/data/HHM/synthesized/masks/43210/0.png\n",
      "0.02580080411576654\n",
      "no match for /home/chuongh/vm2m/data/HHM/synthesized/masks/43974/1.png\n"
     ]
    },
    {
     "name": "stderr",
     "output_type": "stream",
     "text": [
      "  4%|▍         | 1873/49737 [02:24<54:18, 14.69it/s]  "
     ]
    },
    {
     "name": "stdout",
     "output_type": "stream",
     "text": [
      "0.25618249626873035\n",
      "no match for /home/chuongh/vm2m/data/HHM/synthesized/masks/33514/0.png\n"
     ]
    },
    {
     "name": "stderr",
     "output_type": "stream",
     "text": [
      "  4%|▍         | 1904/49737 [02:26<50:38, 15.74it/s]  "
     ]
    },
    {
     "name": "stdout",
     "output_type": "stream",
     "text": [
      "0.2818309504379537\n",
      "no match for /home/chuongh/vm2m/data/HHM/synthesized/masks/41426/1.png\n"
     ]
    },
    {
     "name": "stderr",
     "output_type": "stream",
     "text": [
      "  4%|▍         | 1929/49737 [02:28<59:35, 13.37it/s]  "
     ]
    },
    {
     "name": "stdout",
     "output_type": "stream",
     "text": [
      "0.2564871469966052\n",
      "no match for /home/chuongh/vm2m/data/HHM/synthesized/masks/38631/0.png\n"
     ]
    },
    {
     "name": "stderr",
     "output_type": "stream",
     "text": [
      "  4%|▍         | 1971/49737 [02:31<1:06:16, 12.01it/s]"
     ]
    },
    {
     "name": "stdout",
     "output_type": "stream",
     "text": [
      "0.0955539195564223\n",
      "no match for /home/chuongh/vm2m/data/HHM/synthesized/masks/14261/0.png\n",
      "0.02641665297270305\n",
      "no match for /home/chuongh/vm2m/data/HHM/synthesized/masks/13834/0.png\n"
     ]
    },
    {
     "name": "stderr",
     "output_type": "stream",
     "text": [
      "  4%|▍         | 2010/49737 [02:34<55:13, 14.40it/s]  "
     ]
    },
    {
     "name": "stdout",
     "output_type": "stream",
     "text": [
      "0.09539206195454607\n",
      "no match for /home/chuongh/vm2m/data/HHM/synthesized/masks/48629/2.png\n"
     ]
    },
    {
     "name": "stderr",
     "output_type": "stream",
     "text": [
      "  4%|▍         | 2027/49737 [02:35<1:15:20, 10.55it/s]"
     ]
    },
    {
     "name": "stdout",
     "output_type": "stream",
     "text": [
      "0.2529643137637437\n",
      "no match for /home/chuongh/vm2m/data/HHM/synthesized/masks/47791/0.png\n",
      "0.1561391687037613\n",
      "no match for /home/chuongh/vm2m/data/HHM/synthesized/masks/916/0.png\n"
     ]
    },
    {
     "name": "stderr",
     "output_type": "stream",
     "text": [
      "  4%|▍         | 2113/49737 [02:41<1:01:35, 12.89it/s]"
     ]
    },
    {
     "name": "stdout",
     "output_type": "stream",
     "text": [
      "0.08224360376084738\n",
      "no match for /home/chuongh/vm2m/data/HHM/synthesized/masks/38572/0.png\n"
     ]
    },
    {
     "name": "stderr",
     "output_type": "stream",
     "text": [
      "  4%|▍         | 2117/49737 [02:41<1:03:54, 12.42it/s]"
     ]
    },
    {
     "name": "stdout",
     "output_type": "stream",
     "text": [
      "0.005011766896637487\n",
      "no match for /home/chuongh/vm2m/data/HHM/synthesized/masks/9239/2.png\n"
     ]
    },
    {
     "name": "stderr",
     "output_type": "stream",
     "text": [
      "  4%|▍         | 2121/49737 [02:42<1:13:29, 10.80it/s]"
     ]
    },
    {
     "name": "stdout",
     "output_type": "stream",
     "text": [
      "0.058365262922988534\n",
      "no match for /home/chuongh/vm2m/data/HHM/synthesized/masks/24586/0.png\n"
     ]
    },
    {
     "name": "stderr",
     "output_type": "stream",
     "text": [
      "  4%|▍         | 2134/49737 [02:43<56:04, 14.15it/s]  "
     ]
    },
    {
     "name": "stdout",
     "output_type": "stream",
     "text": [
      "0.15178997820561133\n",
      "no match for /home/chuongh/vm2m/data/HHM/synthesized/masks/16280/0.png\n"
     ]
    },
    {
     "name": "stderr",
     "output_type": "stream",
     "text": [
      "  4%|▍         | 2159/49737 [02:45<55:28, 14.29it/s]  "
     ]
    },
    {
     "name": "stdout",
     "output_type": "stream",
     "text": [
      "0.012191185792092274\n",
      "no match for /home/chuongh/vm2m/data/HHM/synthesized/masks/29107/0.png\n",
      "0.11114861364453801\n",
      "no match for /home/chuongh/vm2m/data/HHM/synthesized/masks/40374/1.png\n"
     ]
    },
    {
     "name": "stderr",
     "output_type": "stream",
     "text": [
      "  4%|▍         | 2188/49737 [02:47<1:04:32, 12.28it/s]"
     ]
    },
    {
     "name": "stdout",
     "output_type": "stream",
     "text": [
      "0.10126568592788882\n",
      "no match for /home/chuongh/vm2m/data/HHM/synthesized/masks/49066/1.png\n"
     ]
    },
    {
     "name": "stderr",
     "output_type": "stream",
     "text": [
      "  5%|▍         | 2249/49737 [02:52<1:01:08, 12.94it/s]"
     ]
    },
    {
     "name": "stdout",
     "output_type": "stream",
     "text": [
      "0.0323025287303893\n",
      "no match for /home/chuongh/vm2m/data/HHM/synthesized/masks/7003/1.png\n"
     ]
    },
    {
     "name": "stderr",
     "output_type": "stream",
     "text": [
      "  5%|▍         | 2270/49737 [02:53<54:07, 14.62it/s]  "
     ]
    },
    {
     "name": "stdout",
     "output_type": "stream",
     "text": [
      "0.09598676661223496\n",
      "no match for /home/chuongh/vm2m/data/HHM/synthesized/masks/8541/0.png\n"
     ]
    },
    {
     "name": "stderr",
     "output_type": "stream",
     "text": [
      "  5%|▍         | 2286/49737 [02:54<57:39, 13.72it/s]  "
     ]
    },
    {
     "name": "stdout",
     "output_type": "stream",
     "text": [
      "0.02045056644386917\n",
      "no match for /home/chuongh/vm2m/data/HHM/synthesized/masks/33237/0.png\n"
     ]
    },
    {
     "name": "stderr",
     "output_type": "stream",
     "text": [
      "  5%|▍         | 2302/49737 [02:56<1:02:32, 12.64it/s]"
     ]
    },
    {
     "name": "stdout",
     "output_type": "stream",
     "text": [
      "0\n",
      "no match for /home/chuongh/vm2m/data/HHM/synthesized/masks/5750/1.png\n"
     ]
    },
    {
     "name": "stderr",
     "output_type": "stream",
     "text": [
      "  5%|▍         | 2314/49737 [02:57<1:01:02, 12.95it/s]"
     ]
    },
    {
     "name": "stdout",
     "output_type": "stream",
     "text": [
      "0.005289061926085108\n",
      "no match for /home/chuongh/vm2m/data/HHM/synthesized/masks/4687/1.png\n"
     ]
    },
    {
     "name": "stderr",
     "output_type": "stream",
     "text": [
      "  5%|▍         | 2344/49737 [02:59<44:31, 17.74it/s]  "
     ]
    },
    {
     "name": "stdout",
     "output_type": "stream",
     "text": [
      "0.2690799933108375\n",
      "no match for /home/chuongh/vm2m/data/HHM/synthesized/masks/43556/0.png\n"
     ]
    },
    {
     "name": "stderr",
     "output_type": "stream",
     "text": [
      "  5%|▍         | 2347/49737 [02:59<51:59, 15.19it/s]"
     ]
    },
    {
     "name": "stdout",
     "output_type": "stream",
     "text": [
      "0.0857649280978585\n",
      "no match for /home/chuongh/vm2m/data/HHM/synthesized/masks/46809/0.png\n"
     ]
    },
    {
     "name": "stderr",
     "output_type": "stream",
     "text": [
      "  5%|▍         | 2368/49737 [03:01<1:07:57, 11.62it/s]"
     ]
    },
    {
     "name": "stdout",
     "output_type": "stream",
     "text": [
      "0.02833685703943188\n",
      "no match for /home/chuongh/vm2m/data/HHM/synthesized/masks/23553/0.png\n",
      "0.256342372370588\n",
      "no match for /home/chuongh/vm2m/data/HHM/synthesized/masks/5580/0.png\n"
     ]
    },
    {
     "name": "stderr",
     "output_type": "stream",
     "text": [
      "  5%|▍         | 2380/49737 [03:02<54:57, 14.36it/s]  "
     ]
    },
    {
     "name": "stdout",
     "output_type": "stream",
     "text": [
      "0.2128512075739621\n",
      "no match for /home/chuongh/vm2m/data/HHM/synthesized/masks/31421/2.png\n"
     ]
    },
    {
     "name": "stderr",
     "output_type": "stream",
     "text": [
      "  5%|▍         | 2382/49737 [03:02<52:29, 15.03it/s]"
     ]
    },
    {
     "name": "stdout",
     "output_type": "stream",
     "text": [
      "0.22448660433618947\n",
      "no match for /home/chuongh/vm2m/data/HHM/synthesized/masks/42722/0.png\n"
     ]
    },
    {
     "name": "stderr",
     "output_type": "stream",
     "text": [
      "  5%|▍         | 2407/49737 [03:04<49:42, 15.87it/s]  "
     ]
    },
    {
     "name": "stdout",
     "output_type": "stream",
     "text": [
      "0\n",
      "no match for /home/chuongh/vm2m/data/HHM/synthesized/masks/36666/2.png\n"
     ]
    },
    {
     "name": "stderr",
     "output_type": "stream",
     "text": [
      "  5%|▍         | 2410/49737 [03:04<48:29, 16.27it/s]"
     ]
    },
    {
     "name": "stdout",
     "output_type": "stream",
     "text": [
      "0\n",
      "no match for /home/chuongh/vm2m/data/HHM/synthesized/masks/15138/1.png\n"
     ]
    },
    {
     "name": "stderr",
     "output_type": "stream",
     "text": [
      "  5%|▍         | 2414/49737 [03:04<53:02, 14.87it/s]"
     ]
    },
    {
     "name": "stdout",
     "output_type": "stream",
     "text": [
      "0.14755995241338035\n",
      "no match for /home/chuongh/vm2m/data/HHM/synthesized/masks/19009/0.png\n"
     ]
    },
    {
     "name": "stderr",
     "output_type": "stream",
     "text": [
      "  5%|▍         | 2423/49737 [03:05<54:31, 14.46it/s]  "
     ]
    },
    {
     "name": "stdout",
     "output_type": "stream",
     "text": [
      "0\n",
      "no match for /home/chuongh/vm2m/data/HHM/synthesized/masks/40722/0.png\n"
     ]
    },
    {
     "name": "stderr",
     "output_type": "stream",
     "text": [
      "  5%|▍         | 2476/49737 [03:09<1:10:14, 11.21it/s]"
     ]
    },
    {
     "name": "stdout",
     "output_type": "stream",
     "text": [
      "0.007662901226042204\n",
      "no match for /home/chuongh/vm2m/data/HHM/synthesized/masks/6610/2.png\n"
     ]
    },
    {
     "name": "stderr",
     "output_type": "stream",
     "text": [
      "  5%|▌         | 2490/49737 [03:10<58:21, 13.49it/s]  "
     ]
    },
    {
     "name": "stdout",
     "output_type": "stream",
     "text": [
      "0.09677210166938893\n",
      "no match for /home/chuongh/vm2m/data/HHM/synthesized/masks/19665/0.png\n"
     ]
    },
    {
     "name": "stderr",
     "output_type": "stream",
     "text": [
      "  5%|▌         | 2558/49737 [03:15<1:07:20, 11.68it/s]"
     ]
    },
    {
     "name": "stdout",
     "output_type": "stream",
     "text": [
      "0.020532537117977562\n",
      "no match for /home/chuongh/vm2m/data/HHM/synthesized/masks/4305/1.png\n"
     ]
    },
    {
     "name": "stderr",
     "output_type": "stream",
     "text": [
      "  5%|▌         | 2583/49737 [03:17<1:06:17, 11.86it/s]"
     ]
    },
    {
     "name": "stdout",
     "output_type": "stream",
     "text": [
      "0.0003223717669020841\n",
      "no match for /home/chuongh/vm2m/data/HHM/synthesized/masks/17559/0.png\n"
     ]
    },
    {
     "name": "stderr",
     "output_type": "stream",
     "text": [
      "  5%|▌         | 2589/49737 [03:18<1:13:14, 10.73it/s]"
     ]
    },
    {
     "name": "stdout",
     "output_type": "stream",
     "text": [
      "0.0057841000686412805\n",
      "no match for /home/chuongh/vm2m/data/HHM/synthesized/masks/18876/2.png\n"
     ]
    },
    {
     "name": "stderr",
     "output_type": "stream",
     "text": [
      "  5%|▌         | 2601/49737 [03:19<53:57, 14.56it/s]  "
     ]
    },
    {
     "name": "stdout",
     "output_type": "stream",
     "text": [
      "0.04546972443010726\n",
      "no match for /home/chuongh/vm2m/data/HHM/synthesized/masks/35183/1.png\n"
     ]
    },
    {
     "name": "stderr",
     "output_type": "stream",
     "text": [
      "  5%|▌         | 2608/49737 [03:19<53:42, 14.62it/s]"
     ]
    },
    {
     "name": "stdout",
     "output_type": "stream",
     "text": [
      "0.2046066262085758\n",
      "no match for /home/chuongh/vm2m/data/HHM/synthesized/masks/44774/0.png\n"
     ]
    },
    {
     "name": "stderr",
     "output_type": "stream",
     "text": [
      "  5%|▌         | 2623/49737 [03:21<59:15, 13.25it/s]  "
     ]
    },
    {
     "name": "stdout",
     "output_type": "stream",
     "text": [
      "0.10321877756100852\n",
      "no match for /home/chuongh/vm2m/data/HHM/synthesized/masks/9674/2.png\n"
     ]
    },
    {
     "name": "stderr",
     "output_type": "stream",
     "text": [
      "  5%|▌         | 2652/49737 [03:23<56:02, 14.00it/s]  "
     ]
    },
    {
     "name": "stdout",
     "output_type": "stream",
     "text": [
      "0.2690878945140887\n",
      "no match for /home/chuongh/vm2m/data/HHM/synthesized/masks/16807/1.png\n"
     ]
    },
    {
     "name": "stderr",
     "output_type": "stream",
     "text": [
      "  5%|▌         | 2687/49737 [03:26<56:40, 13.84it/s]  "
     ]
    },
    {
     "name": "stdout",
     "output_type": "stream",
     "text": [
      "0.020876399053886077\n",
      "no match for /home/chuongh/vm2m/data/HHM/synthesized/masks/33051/1.png\n"
     ]
    },
    {
     "name": "stderr",
     "output_type": "stream",
     "text": [
      "  5%|▌         | 2715/49737 [03:28<50:11, 15.61it/s]  "
     ]
    },
    {
     "name": "stdout",
     "output_type": "stream",
     "text": [
      "0\n",
      "no match for /home/chuongh/vm2m/data/HHM/synthesized/masks/34232/1.png\n"
     ]
    },
    {
     "name": "stderr",
     "output_type": "stream",
     "text": [
      "  6%|▌         | 2737/49737 [03:29<47:41, 16.42it/s]"
     ]
    },
    {
     "name": "stdout",
     "output_type": "stream",
     "text": [
      "0.2685310482039186\n",
      "no match for /home/chuongh/vm2m/data/HHM/synthesized/masks/32373/1.png\n"
     ]
    },
    {
     "name": "stderr",
     "output_type": "stream",
     "text": [
      "  6%|▌         | 2788/49737 [03:33<50:14, 15.58it/s]  "
     ]
    },
    {
     "name": "stdout",
     "output_type": "stream",
     "text": [
      "0.21783466075569033\n",
      "no match for /home/chuongh/vm2m/data/HHM/synthesized/masks/2900/2.png\n"
     ]
    },
    {
     "name": "stderr",
     "output_type": "stream",
     "text": [
      "  6%|▌         | 2798/49737 [03:33<52:00, 15.04it/s]"
     ]
    },
    {
     "name": "stdout",
     "output_type": "stream",
     "text": [
      "0.15207067820654335\n",
      "no match for /home/chuongh/vm2m/data/HHM/synthesized/masks/21986/1.png\n"
     ]
    },
    {
     "name": "stderr",
     "output_type": "stream",
     "text": [
      "  6%|▌         | 2810/49737 [03:34<59:48, 13.08it/s]  "
     ]
    },
    {
     "name": "stdout",
     "output_type": "stream",
     "text": [
      "0\n",
      "no match for /home/chuongh/vm2m/data/HHM/synthesized/masks/15757/1.png\n"
     ]
    },
    {
     "name": "stderr",
     "output_type": "stream",
     "text": [
      "  6%|▌         | 2816/49737 [03:35<1:08:08, 11.48it/s]"
     ]
    },
    {
     "name": "stdout",
     "output_type": "stream",
     "text": [
      "0\n",
      "no match for /home/chuongh/vm2m/data/HHM/synthesized/masks/28558/1.png\n"
     ]
    },
    {
     "name": "stderr",
     "output_type": "stream",
     "text": [
      "  6%|▌         | 2828/49737 [03:36<1:16:57, 10.16it/s]"
     ]
    },
    {
     "name": "stdout",
     "output_type": "stream",
     "text": [
      "0.20760620155897563\n",
      "no match for /home/chuongh/vm2m/data/HHM/synthesized/masks/29481/1.png\n",
      "0.022522855689161455\n",
      "no match for /home/chuongh/vm2m/data/HHM/synthesized/masks/33563/1.png\n"
     ]
    },
    {
     "name": "stderr",
     "output_type": "stream",
     "text": [
      "  6%|▌         | 2863/49737 [03:39<55:59, 13.95it/s]  "
     ]
    },
    {
     "name": "stdout",
     "output_type": "stream",
     "text": [
      "0.003591338554167836\n",
      "no match for /home/chuongh/vm2m/data/HHM/synthesized/masks/26573/0.png\n"
     ]
    },
    {
     "name": "stderr",
     "output_type": "stream",
     "text": [
      "  6%|▌         | 2893/49737 [03:41<1:01:09, 12.77it/s]"
     ]
    },
    {
     "name": "stdout",
     "output_type": "stream",
     "text": [
      "0.08255349042903984\n",
      "no match for /home/chuongh/vm2m/data/HHM/synthesized/masks/602/1.png\n"
     ]
    },
    {
     "name": "stderr",
     "output_type": "stream",
     "text": [
      "  6%|▌         | 2930/49737 [03:44<55:51, 13.97it/s]  "
     ]
    },
    {
     "name": "stdout",
     "output_type": "stream",
     "text": [
      "0.04928240642037791\n",
      "no match for /home/chuongh/vm2m/data/HHM/synthesized/masks/24339/1.png\n"
     ]
    },
    {
     "name": "stderr",
     "output_type": "stream",
     "text": [
      "  6%|▌         | 2933/49737 [03:44<53:14, 14.65it/s]"
     ]
    },
    {
     "name": "stdout",
     "output_type": "stream",
     "text": [
      "0\n",
      "no match for /home/chuongh/vm2m/data/HHM/synthesized/masks/1384/1.png\n"
     ]
    },
    {
     "name": "stderr",
     "output_type": "stream",
     "text": [
      "  6%|▌         | 2992/49737 [03:49<51:11, 15.22it/s]  "
     ]
    },
    {
     "name": "stdout",
     "output_type": "stream",
     "text": [
      "0.11791420431268367\n",
      "no match for /home/chuongh/vm2m/data/HHM/synthesized/masks/42510/2.png\n"
     ]
    },
    {
     "name": "stderr",
     "output_type": "stream",
     "text": [
      "  6%|▌         | 3004/49737 [03:50<54:35, 14.27it/s]  "
     ]
    },
    {
     "name": "stdout",
     "output_type": "stream",
     "text": [
      "0.1378782333800983\n",
      "no match for /home/chuongh/vm2m/data/HHM/synthesized/masks/2535/0.png\n"
     ]
    },
    {
     "name": "stderr",
     "output_type": "stream",
     "text": [
      "  6%|▌         | 3031/49737 [03:52<57:49, 13.46it/s]"
     ]
    },
    {
     "name": "stdout",
     "output_type": "stream",
     "text": [
      "0.01684604122972924\n",
      "no match for /home/chuongh/vm2m/data/HHM/synthesized/masks/38509/0.png\n"
     ]
    },
    {
     "name": "stderr",
     "output_type": "stream",
     "text": [
      "  6%|▌         | 3066/49737 [03:54<51:44, 15.04it/s]  "
     ]
    },
    {
     "name": "stdout",
     "output_type": "stream",
     "text": [
      "0.00021384805630672533\n",
      "no match for /home/chuongh/vm2m/data/HHM/synthesized/masks/1411/0.png\n"
     ]
    },
    {
     "name": "stderr",
     "output_type": "stream",
     "text": [
      "  6%|▌         | 3072/49737 [03:55<1:02:18, 12.48it/s]"
     ]
    },
    {
     "name": "stdout",
     "output_type": "stream",
     "text": [
      "0.254074953008763\n",
      "no match for /home/chuongh/vm2m/data/HHM/synthesized/masks/48349/0.png\n"
     ]
    },
    {
     "name": "stderr",
     "output_type": "stream",
     "text": [
      "  6%|▌         | 3076/49737 [03:55<53:50, 14.44it/s]  "
     ]
    },
    {
     "name": "stdout",
     "output_type": "stream",
     "text": [
      "0.014628471162579013\n",
      "no match for /home/chuongh/vm2m/data/HHM/synthesized/masks/14685/0.png\n"
     ]
    },
    {
     "name": "stderr",
     "output_type": "stream",
     "text": [
      "  6%|▌         | 3100/49737 [03:57<45:07, 17.23it/s]  "
     ]
    },
    {
     "name": "stdout",
     "output_type": "stream",
     "text": [
      "0.0020281131536858373\n",
      "no match for /home/chuongh/vm2m/data/HHM/synthesized/masks/15693/0.png\n"
     ]
    },
    {
     "name": "stderr",
     "output_type": "stream",
     "text": [
      "  6%|▌         | 3104/49737 [03:57<50:29, 15.39it/s]"
     ]
    },
    {
     "name": "stdout",
     "output_type": "stream",
     "text": [
      "0.16693952319354108\n",
      "no match for /home/chuongh/vm2m/data/HHM/synthesized/masks/9094/2.png\n"
     ]
    },
    {
     "name": "stderr",
     "output_type": "stream",
     "text": [
      "  6%|▋         | 3118/49737 [03:58<1:03:33, 12.23it/s]"
     ]
    },
    {
     "name": "stdout",
     "output_type": "stream",
     "text": [
      "0.021396714376625322\n",
      "no match for /home/chuongh/vm2m/data/HHM/synthesized/masks/20872/1.png\n"
     ]
    },
    {
     "name": "stderr",
     "output_type": "stream",
     "text": [
      "  6%|▋         | 3169/49737 [04:02<1:03:34, 12.21it/s]"
     ]
    },
    {
     "name": "stdout",
     "output_type": "stream",
     "text": [
      "0.091919649424175\n",
      "no match for /home/chuongh/vm2m/data/HHM/synthesized/masks/17491/2.png\n"
     ]
    },
    {
     "name": "stderr",
     "output_type": "stream",
     "text": [
      "  6%|▋         | 3178/49737 [04:03<56:36, 13.71it/s]  "
     ]
    },
    {
     "name": "stdout",
     "output_type": "stream",
     "text": [
      "0.20142231473018543\n",
      "no match for /home/chuongh/vm2m/data/HHM/synthesized/masks/13039/1.png\n"
     ]
    },
    {
     "name": "stderr",
     "output_type": "stream",
     "text": [
      "  6%|▋         | 3185/49737 [04:03<50:38, 15.32it/s]  "
     ]
    },
    {
     "name": "stdout",
     "output_type": "stream",
     "text": [
      "0.015686945449066948\n",
      "no match for /home/chuongh/vm2m/data/HHM/synthesized/masks/1635/1.png\n"
     ]
    },
    {
     "name": "stderr",
     "output_type": "stream",
     "text": [
      "  6%|▋         | 3216/49737 [04:06<54:50, 14.14it/s]  "
     ]
    },
    {
     "name": "stdout",
     "output_type": "stream",
     "text": [
      "0.015136970283695317\n",
      "no match for /home/chuongh/vm2m/data/HHM/synthesized/masks/41796/0.png\n"
     ]
    },
    {
     "name": "stderr",
     "output_type": "stream",
     "text": [
      "  7%|▋         | 3251/49737 [04:08<48:22, 16.02it/s]  "
     ]
    },
    {
     "name": "stdout",
     "output_type": "stream",
     "text": [
      "0.29239814205185155\n",
      "no match for /home/chuongh/vm2m/data/HHM/synthesized/masks/30471/1.png\n"
     ]
    },
    {
     "name": "stderr",
     "output_type": "stream",
     "text": [
      "  7%|▋         | 3281/49737 [04:11<1:07:35, 11.46it/s]"
     ]
    },
    {
     "name": "stdout",
     "output_type": "stream",
     "text": [
      "0.19388511473957384\n",
      "no match for /home/chuongh/vm2m/data/HHM/synthesized/masks/2892/0.png\n"
     ]
    },
    {
     "name": "stderr",
     "output_type": "stream",
     "text": [
      "  7%|▋         | 3325/49737 [04:14<1:05:16, 11.85it/s]"
     ]
    },
    {
     "name": "stdout",
     "output_type": "stream",
     "text": [
      "0.251174404815484\n",
      "no match for /home/chuongh/vm2m/data/HHM/synthesized/masks/777/0.png\n"
     ]
    },
    {
     "name": "stderr",
     "output_type": "stream",
     "text": [
      "  7%|▋         | 3334/49737 [04:15<56:11, 13.76it/s]  "
     ]
    },
    {
     "name": "stdout",
     "output_type": "stream",
     "text": [
      "0.1290573524127225\n",
      "no match for /home/chuongh/vm2m/data/HHM/synthesized/masks/13751/0.png\n"
     ]
    },
    {
     "name": "stderr",
     "output_type": "stream",
     "text": [
      "  7%|▋         | 3346/49737 [04:16<52:03, 14.85it/s]  "
     ]
    },
    {
     "name": "stdout",
     "output_type": "stream",
     "text": [
      "0.012675349259551516\n",
      "no match for /home/chuongh/vm2m/data/HHM/synthesized/masks/21208/0.png\n"
     ]
    },
    {
     "name": "stderr",
     "output_type": "stream",
     "text": [
      "  7%|▋         | 3365/49737 [04:17<1:03:51, 12.10it/s]"
     ]
    },
    {
     "name": "stdout",
     "output_type": "stream",
     "text": [
      "0.011840925915310784\n",
      "no match for /home/chuongh/vm2m/data/HHM/synthesized/masks/23461/0.png\n"
     ]
    },
    {
     "name": "stderr",
     "output_type": "stream",
     "text": [
      "  7%|▋         | 3370/49737 [04:17<53:13, 14.52it/s]  "
     ]
    },
    {
     "name": "stdout",
     "output_type": "stream",
     "text": [
      "0.19326065723496877\n",
      "no match for /home/chuongh/vm2m/data/HHM/synthesized/masks/46893/0.png\n"
     ]
    },
    {
     "name": "stderr",
     "output_type": "stream",
     "text": [
      "  7%|▋         | 3417/49737 [04:21<56:45, 13.60it/s]  "
     ]
    },
    {
     "name": "stdout",
     "output_type": "stream",
     "text": [
      "0.004847884955521432\n",
      "no match for /home/chuongh/vm2m/data/HHM/synthesized/masks/45258/1.png\n"
     ]
    },
    {
     "name": "stderr",
     "output_type": "stream",
     "text": [
      "  7%|▋         | 3467/49737 [04:25<1:29:19,  8.63it/s]"
     ]
    },
    {
     "name": "stdout",
     "output_type": "stream",
     "text": [
      "0.005101573143077628\n",
      "no match for /home/chuongh/vm2m/data/HHM/synthesized/masks/17394/0.png\n",
      "0.2702796261381674\n",
      "no match for /home/chuongh/vm2m/data/HHM/synthesized/masks/17394/3.png\n"
     ]
    },
    {
     "name": "stderr",
     "output_type": "stream",
     "text": [
      "  7%|▋         | 3534/49737 [04:30<1:07:50, 11.35it/s]"
     ]
    },
    {
     "name": "stdout",
     "output_type": "stream",
     "text": [
      "0.00998172800824869\n",
      "no match for /home/chuongh/vm2m/data/HHM/synthesized/masks/43430/0.png\n"
     ]
    },
    {
     "name": "stderr",
     "output_type": "stream",
     "text": [
      "  7%|▋         | 3572/49737 [04:33<56:06, 13.71it/s]  "
     ]
    },
    {
     "name": "stdout",
     "output_type": "stream",
     "text": [
      "0.16415555486748631\n",
      "no match for /home/chuongh/vm2m/data/HHM/synthesized/masks/25237/0.png\n"
     ]
    },
    {
     "name": "stderr",
     "output_type": "stream",
     "text": [
      "  7%|▋         | 3589/49737 [04:34<55:59, 13.74it/s]  "
     ]
    },
    {
     "name": "stdout",
     "output_type": "stream",
     "text": [
      "0.2955118494155587\n",
      "no match for /home/chuongh/vm2m/data/HHM/synthesized/masks/14861/0.png\n"
     ]
    },
    {
     "name": "stderr",
     "output_type": "stream",
     "text": [
      "  7%|▋         | 3630/49737 [04:37<1:05:02, 11.82it/s]"
     ]
    },
    {
     "name": "stdout",
     "output_type": "stream",
     "text": [
      "0.17154400287604984\n",
      "no match for /home/chuongh/vm2m/data/HHM/synthesized/masks/20026/1.png\n",
      "0.25806762523034443\n",
      "no match for /home/chuongh/vm2m/data/HHM/synthesized/masks/9943/1.png\n"
     ]
    },
    {
     "name": "stderr",
     "output_type": "stream",
     "text": [
      "  7%|▋         | 3653/49737 [04:39<1:02:56, 12.20it/s]"
     ]
    },
    {
     "name": "stdout",
     "output_type": "stream",
     "text": [
      "0.002643591343464411\n",
      "no match for /home/chuongh/vm2m/data/HHM/synthesized/masks/42093/0.png\n"
     ]
    },
    {
     "name": "stderr",
     "output_type": "stream",
     "text": [
      "  7%|▋         | 3657/49737 [04:39<59:09, 12.98it/s]  "
     ]
    },
    {
     "name": "stdout",
     "output_type": "stream",
     "text": [
      "0.021692291926879877\n",
      "no match for /home/chuongh/vm2m/data/HHM/synthesized/masks/42992/1.png\n"
     ]
    },
    {
     "name": "stderr",
     "output_type": "stream",
     "text": [
      "  7%|▋         | 3665/49737 [04:40<56:08, 13.68it/s]"
     ]
    },
    {
     "name": "stdout",
     "output_type": "stream",
     "text": [
      "0.14753357417562704\n",
      "no match for /home/chuongh/vm2m/data/HHM/synthesized/masks/17442/2.png\n"
     ]
    },
    {
     "name": "stderr",
     "output_type": "stream",
     "text": [
      "  7%|▋         | 3667/49737 [04:40<54:55, 13.98it/s]"
     ]
    },
    {
     "name": "stdout",
     "output_type": "stream",
     "text": [
      "0\n",
      "no match for /home/chuongh/vm2m/data/HHM/synthesized/masks/3795/2.png\n",
      "0.10004714729199579\n",
      "no match for /home/chuongh/vm2m/data/HHM/synthesized/masks/1757/1.png\n"
     ]
    },
    {
     "name": "stderr",
     "output_type": "stream",
     "text": [
      "  7%|▋         | 3693/49737 [04:42<1:04:35, 11.88it/s]"
     ]
    },
    {
     "name": "stdout",
     "output_type": "stream",
     "text": [
      "0.26816402625927854\n",
      "no match for /home/chuongh/vm2m/data/HHM/synthesized/masks/40004/0.png\n"
     ]
    },
    {
     "name": "stderr",
     "output_type": "stream",
     "text": [
      "  7%|▋         | 3698/49737 [04:42<53:04, 14.46it/s]  "
     ]
    },
    {
     "name": "stdout",
     "output_type": "stream",
     "text": [
      "0.2732921638192203\n",
      "no match for /home/chuongh/vm2m/data/HHM/synthesized/masks/25438/0.png\n"
     ]
    },
    {
     "name": "stderr",
     "output_type": "stream",
     "text": [
      "  7%|▋         | 3727/49737 [04:44<58:47, 13.04it/s]  "
     ]
    },
    {
     "name": "stdout",
     "output_type": "stream",
     "text": [
      "0.25059529146740295\n",
      "no match for /home/chuongh/vm2m/data/HHM/synthesized/masks/2199/1.png\n"
     ]
    },
    {
     "name": "stderr",
     "output_type": "stream",
     "text": [
      "  8%|▊         | 3731/49737 [04:45<55:00, 13.94it/s]"
     ]
    },
    {
     "name": "stdout",
     "output_type": "stream",
     "text": [
      "0.033060079818652624\n",
      "no match for /home/chuongh/vm2m/data/HHM/synthesized/masks/35687/2.png\n"
     ]
    },
    {
     "name": "stderr",
     "output_type": "stream",
     "text": [
      "  8%|▊         | 3742/49737 [04:45<45:39, 16.79it/s]"
     ]
    },
    {
     "name": "stdout",
     "output_type": "stream",
     "text": [
      "0.28834669200889096\n",
      "no match for /home/chuongh/vm2m/data/HHM/synthesized/masks/36870/0.png\n"
     ]
    },
    {
     "name": "stderr",
     "output_type": "stream",
     "text": [
      "  8%|▊         | 3748/49737 [04:46<52:23, 14.63it/s]"
     ]
    },
    {
     "name": "stdout",
     "output_type": "stream",
     "text": [
      "0.24546542193082874\n",
      "no match for /home/chuongh/vm2m/data/HHM/synthesized/masks/14203/0.png\n"
     ]
    },
    {
     "name": "stderr",
     "output_type": "stream",
     "text": [
      "  8%|▊         | 3754/49737 [04:46<59:54, 12.79it/s]  "
     ]
    },
    {
     "name": "stdout",
     "output_type": "stream",
     "text": [
      "0.29519673682640446\n",
      "no match for /home/chuongh/vm2m/data/HHM/synthesized/masks/25888/0.png\n"
     ]
    },
    {
     "name": "stderr",
     "output_type": "stream",
     "text": [
      "  8%|▊         | 3759/49737 [04:47<55:56, 13.70it/s]  "
     ]
    },
    {
     "name": "stdout",
     "output_type": "stream",
     "text": [
      "0.25409205947239527\n",
      "no match for /home/chuongh/vm2m/data/HHM/synthesized/masks/19030/0.png\n"
     ]
    },
    {
     "name": "stderr",
     "output_type": "stream",
     "text": [
      "  8%|▊         | 3770/49737 [04:47<49:05, 15.61it/s]"
     ]
    },
    {
     "name": "stdout",
     "output_type": "stream",
     "text": [
      "0.1502121746961324\n",
      "no match for /home/chuongh/vm2m/data/HHM/synthesized/masks/41014/0.png\n",
      "0\n",
      "no match for /home/chuongh/vm2m/data/HHM/synthesized/masks/7841/0.png\n"
     ]
    },
    {
     "name": "stderr",
     "output_type": "stream",
     "text": [
      "  8%|▊         | 3790/49737 [04:49<1:03:18, 12.10it/s]"
     ]
    },
    {
     "name": "stdout",
     "output_type": "stream",
     "text": [
      "0.1537917563136075\n",
      "no match for /home/chuongh/vm2m/data/HHM/synthesized/masks/14882/0.png\n"
     ]
    },
    {
     "name": "stderr",
     "output_type": "stream",
     "text": [
      "  8%|▊         | 3829/49737 [04:53<1:07:13, 11.38it/s]"
     ]
    },
    {
     "name": "stdout",
     "output_type": "stream",
     "text": [
      "0.11600389157474855\n",
      "no match for /home/chuongh/vm2m/data/HHM/synthesized/masks/18761/1.png\n"
     ]
    },
    {
     "name": "stderr",
     "output_type": "stream",
     "text": [
      "  8%|▊         | 3842/49737 [04:54<52:47, 14.49it/s]  "
     ]
    },
    {
     "name": "stdout",
     "output_type": "stream",
     "text": [
      "0.011042935731052967\n",
      "no match for /home/chuongh/vm2m/data/HHM/synthesized/masks/30548/0.png\n"
     ]
    },
    {
     "name": "stderr",
     "output_type": "stream",
     "text": [
      "  8%|▊         | 3845/49737 [04:54<50:46, 15.06it/s]"
     ]
    },
    {
     "name": "stdout",
     "output_type": "stream",
     "text": [
      "0.003950839304680182\n",
      "no match for /home/chuongh/vm2m/data/HHM/synthesized/masks/7202/0.png\n"
     ]
    },
    {
     "name": "stderr",
     "output_type": "stream",
     "text": [
      "  8%|▊         | 3888/49737 [04:57<1:00:28, 12.64it/s]"
     ]
    },
    {
     "name": "stdout",
     "output_type": "stream",
     "text": [
      "0.014927970461798801\n",
      "no match for /home/chuongh/vm2m/data/HHM/synthesized/masks/29804/0.png\n"
     ]
    },
    {
     "name": "stderr",
     "output_type": "stream",
     "text": [
      "  8%|▊         | 3953/49737 [05:02<54:45, 13.93it/s]  "
     ]
    },
    {
     "name": "stdout",
     "output_type": "stream",
     "text": [
      "0\n",
      "no match for /home/chuongh/vm2m/data/HHM/synthesized/masks/8095/0.png\n"
     ]
    },
    {
     "name": "stderr",
     "output_type": "stream",
     "text": [
      "  8%|▊         | 3968/49737 [05:03<53:16, 14.32it/s]  "
     ]
    },
    {
     "name": "stdout",
     "output_type": "stream",
     "text": [
      "0.12794687991125328\n",
      "no match for /home/chuongh/vm2m/data/HHM/synthesized/masks/22425/0.png\n"
     ]
    },
    {
     "name": "stderr",
     "output_type": "stream",
     "text": [
      "  8%|▊         | 3997/49737 [05:06<54:06, 14.09it/s]  "
     ]
    },
    {
     "name": "stdout",
     "output_type": "stream",
     "text": [
      "0.2728537725152151\n",
      "no match for /home/chuongh/vm2m/data/HHM/synthesized/masks/40485/0.png\n"
     ]
    },
    {
     "name": "stderr",
     "output_type": "stream",
     "text": [
      "  8%|▊         | 4005/49737 [05:06<1:02:16, 12.24it/s]"
     ]
    },
    {
     "name": "stdout",
     "output_type": "stream",
     "text": [
      "0.027554077368133482\n",
      "no match for /home/chuongh/vm2m/data/HHM/synthesized/masks/11872/0.png\n"
     ]
    },
    {
     "name": "stderr",
     "output_type": "stream",
     "text": [
      "  8%|▊         | 4077/49737 [05:12<55:13, 13.78it/s]  "
     ]
    },
    {
     "name": "stdout",
     "output_type": "stream",
     "text": [
      "0.07097965480147984\n",
      "no match for /home/chuongh/vm2m/data/HHM/synthesized/masks/40502/1.png\n"
     ]
    },
    {
     "name": "stderr",
     "output_type": "stream",
     "text": [
      "  8%|▊         | 4102/49737 [05:14<55:50, 13.62it/s]  "
     ]
    },
    {
     "name": "stdout",
     "output_type": "stream",
     "text": [
      "0\n",
      "no match for /home/chuongh/vm2m/data/HHM/synthesized/masks/4968/0.png\n"
     ]
    },
    {
     "name": "stderr",
     "output_type": "stream",
     "text": [
      "  8%|▊         | 4129/49737 [05:16<1:09:08, 10.99it/s]"
     ]
    },
    {
     "name": "stdout",
     "output_type": "stream",
     "text": [
      "0.02583777443234213\n",
      "no match for /home/chuongh/vm2m/data/HHM/synthesized/masks/14571/0.png\n"
     ]
    },
    {
     "name": "stderr",
     "output_type": "stream",
     "text": [
      "  8%|▊         | 4134/49737 [05:17<54:45, 13.88it/s]  "
     ]
    },
    {
     "name": "stdout",
     "output_type": "stream",
     "text": [
      "0.24029603321587048\n",
      "no match for /home/chuongh/vm2m/data/HHM/synthesized/masks/42522/1.png\n"
     ]
    },
    {
     "name": "stderr",
     "output_type": "stream",
     "text": [
      "  8%|▊         | 4188/49737 [05:21<51:58, 14.61it/s]  "
     ]
    },
    {
     "name": "stdout",
     "output_type": "stream",
     "text": [
      "0\n",
      "no match for /home/chuongh/vm2m/data/HHM/synthesized/masks/44701/1.png\n"
     ]
    },
    {
     "name": "stderr",
     "output_type": "stream",
     "text": [
      "  8%|▊         | 4206/49737 [05:22<59:48, 12.69it/s]"
     ]
    },
    {
     "name": "stdout",
     "output_type": "stream",
     "text": [
      "0.1310149164525071\n",
      "no match for /home/chuongh/vm2m/data/HHM/synthesized/masks/6597/0.png\n"
     ]
    },
    {
     "name": "stderr",
     "output_type": "stream",
     "text": [
      "  9%|▊         | 4299/49737 [05:29<55:28, 13.65it/s]  "
     ]
    },
    {
     "name": "stdout",
     "output_type": "stream",
     "text": [
      "0.12387054872126159\n",
      "no match for /home/chuongh/vm2m/data/HHM/synthesized/masks/47520/0.png\n"
     ]
    },
    {
     "name": "stderr",
     "output_type": "stream",
     "text": [
      "  9%|▊         | 4314/49737 [05:31<50:33, 14.98it/s]  "
     ]
    },
    {
     "name": "stdout",
     "output_type": "stream",
     "text": [
      "0\n",
      "no match for /home/chuongh/vm2m/data/HHM/synthesized/masks/19775/0.png\n"
     ]
    },
    {
     "name": "stderr",
     "output_type": "stream",
     "text": [
      "  9%|▊         | 4320/49737 [05:31<1:00:19, 12.55it/s]"
     ]
    },
    {
     "name": "stdout",
     "output_type": "stream",
     "text": [
      "0.24690000302560258\n",
      "no match for /home/chuongh/vm2m/data/HHM/synthesized/masks/25835/0.png\n"
     ]
    },
    {
     "name": "stderr",
     "output_type": "stream",
     "text": [
      "  9%|▊         | 4338/49737 [05:32<51:53, 14.58it/s]  "
     ]
    },
    {
     "name": "stdout",
     "output_type": "stream",
     "text": [
      "0.14175824933845396\n",
      "no match for /home/chuongh/vm2m/data/HHM/synthesized/masks/32825/0.png\n"
     ]
    },
    {
     "name": "stderr",
     "output_type": "stream",
     "text": [
      "  9%|▉         | 4403/49737 [05:37<52:55, 14.28it/s]  "
     ]
    },
    {
     "name": "stdout",
     "output_type": "stream",
     "text": [
      "0\n",
      "no match for /home/chuongh/vm2m/data/HHM/synthesized/masks/42428/1.png\n"
     ]
    },
    {
     "name": "stderr",
     "output_type": "stream",
     "text": [
      "  9%|▉         | 4430/49737 [05:40<1:07:49, 11.13it/s]"
     ]
    },
    {
     "name": "stdout",
     "output_type": "stream",
     "text": [
      "0.21318426395506074\n",
      "no match for /home/chuongh/vm2m/data/HHM/synthesized/masks/16734/2.png\n"
     ]
    },
    {
     "name": "stderr",
     "output_type": "stream",
     "text": [
      "  9%|▉         | 4461/49737 [05:42<50:47, 14.86it/s]  "
     ]
    },
    {
     "name": "stdout",
     "output_type": "stream",
     "text": [
      "0.0020956996123793524\n",
      "no match for /home/chuongh/vm2m/data/HHM/synthesized/masks/34207/1.png\n"
     ]
    },
    {
     "name": "stderr",
     "output_type": "stream",
     "text": [
      "  9%|▉         | 4496/49737 [05:45<1:04:51, 11.62it/s]"
     ]
    },
    {
     "name": "stdout",
     "output_type": "stream",
     "text": [
      "0\n",
      "no match for /home/chuongh/vm2m/data/HHM/synthesized/masks/981/2.png\n"
     ]
    },
    {
     "name": "stderr",
     "output_type": "stream",
     "text": [
      "  9%|▉         | 4502/49737 [05:45<50:06, 15.05it/s]  "
     ]
    },
    {
     "name": "stdout",
     "output_type": "stream",
     "text": [
      "0.19780250224376683\n",
      "no match for /home/chuongh/vm2m/data/HHM/synthesized/masks/35002/0.png\n"
     ]
    },
    {
     "name": "stderr",
     "output_type": "stream",
     "text": [
      "  9%|▉         | 4518/49737 [05:46<1:08:06, 11.07it/s]"
     ]
    },
    {
     "name": "stdout",
     "output_type": "stream",
     "text": [
      "0.07039577675020328\n",
      "no match for /home/chuongh/vm2m/data/HHM/synthesized/masks/29624/0.png\n"
     ]
    },
    {
     "name": "stderr",
     "output_type": "stream",
     "text": [
      "  9%|▉         | 4539/49737 [05:48<52:14, 14.42it/s]  "
     ]
    },
    {
     "name": "stdout",
     "output_type": "stream",
     "text": [
      "0.002532223194706149\n",
      "no match for /home/chuongh/vm2m/data/HHM/synthesized/masks/19815/0.png\n",
      "0.03308374099143638\n",
      "no match for /home/chuongh/vm2m/data/HHM/synthesized/masks/7761/1.png\n"
     ]
    },
    {
     "name": "stderr",
     "output_type": "stream",
     "text": [
      "  9%|▉         | 4578/49737 [05:51<53:18, 14.12it/s]"
     ]
    },
    {
     "name": "stdout",
     "output_type": "stream",
     "text": [
      "0.1325313413393497\n",
      "no match for /home/chuongh/vm2m/data/HHM/synthesized/masks/21658/0.png\n"
     ]
    },
    {
     "name": "stderr",
     "output_type": "stream",
     "text": [
      "  9%|▉         | 4600/49737 [05:52<52:17, 14.39it/s]  "
     ]
    },
    {
     "name": "stdout",
     "output_type": "stream",
     "text": [
      "0.0004962991029247058\n",
      "no match for /home/chuongh/vm2m/data/HHM/synthesized/masks/45997/1.png\n"
     ]
    },
    {
     "name": "stderr",
     "output_type": "stream",
     "text": [
      "  9%|▉         | 4639/49737 [05:56<57:31, 13.07it/s]  "
     ]
    },
    {
     "name": "stdout",
     "output_type": "stream",
     "text": [
      "0.273152610218808\n",
      "no match for /home/chuongh/vm2m/data/HHM/synthesized/masks/4736/0.png\n"
     ]
    },
    {
     "name": "stderr",
     "output_type": "stream",
     "text": [
      "  9%|▉         | 4643/49737 [05:56<59:51, 12.56it/s]"
     ]
    },
    {
     "name": "stdout",
     "output_type": "stream",
     "text": [
      "0\n",
      "no match for /home/chuongh/vm2m/data/HHM/synthesized/masks/38151/1.png\n"
     ]
    },
    {
     "name": "stderr",
     "output_type": "stream",
     "text": [
      "  9%|▉         | 4658/49737 [05:57<51:07, 14.70it/s]  "
     ]
    },
    {
     "name": "stdout",
     "output_type": "stream",
     "text": [
      "0.2928619344572713\n",
      "no match for /home/chuongh/vm2m/data/HHM/synthesized/masks/42875/2.png\n"
     ]
    },
    {
     "name": "stderr",
     "output_type": "stream",
     "text": [
      "  9%|▉         | 4680/49737 [05:59<1:03:19, 11.86it/s]"
     ]
    },
    {
     "name": "stdout",
     "output_type": "stream",
     "text": [
      "0.021169749908524563\n",
      "no match for /home/chuongh/vm2m/data/HHM/synthesized/masks/34942/1.png\n"
     ]
    },
    {
     "name": "stderr",
     "output_type": "stream",
     "text": [
      "  9%|▉         | 4694/49737 [06:00<54:41, 13.73it/s]  "
     ]
    },
    {
     "name": "stdout",
     "output_type": "stream",
     "text": [
      "0.0037876757915416277\n",
      "no match for /home/chuongh/vm2m/data/HHM/synthesized/masks/24124/0.png\n"
     ]
    },
    {
     "name": "stderr",
     "output_type": "stream",
     "text": [
      " 10%|▉         | 4729/49737 [06:03<1:12:58, 10.28it/s]"
     ]
    },
    {
     "name": "stdout",
     "output_type": "stream",
     "text": [
      "0.15896701249811968\n",
      "no match for /home/chuongh/vm2m/data/HHM/synthesized/masks/20250/1.png\n"
     ]
    },
    {
     "name": "stderr",
     "output_type": "stream",
     "text": [
      " 10%|▉         | 4750/49737 [06:05<53:16, 14.07it/s]  "
     ]
    },
    {
     "name": "stdout",
     "output_type": "stream",
     "text": [
      "0.010169278860700341\n",
      "no match for /home/chuongh/vm2m/data/HHM/synthesized/masks/42293/0.png\n"
     ]
    },
    {
     "name": "stderr",
     "output_type": "stream",
     "text": [
      " 10%|▉         | 4778/49737 [06:07<50:50, 14.74it/s]  "
     ]
    },
    {
     "name": "stdout",
     "output_type": "stream",
     "text": [
      "0.00693201640123095\n",
      "no match for /home/chuongh/vm2m/data/HHM/synthesized/masks/5097/0.png\n"
     ]
    },
    {
     "name": "stderr",
     "output_type": "stream",
     "text": [
      " 10%|▉         | 4793/49737 [06:08<44:50, 16.71it/s]  "
     ]
    },
    {
     "name": "stdout",
     "output_type": "stream",
     "text": [
      "0.27479310502413357\n",
      "no match for /home/chuongh/vm2m/data/HHM/synthesized/masks/13838/1.png\n"
     ]
    },
    {
     "name": "stderr",
     "output_type": "stream",
     "text": [
      " 10%|▉         | 4795/49737 [06:08<48:49, 15.34it/s]"
     ]
    },
    {
     "name": "stdout",
     "output_type": "stream",
     "text": [
      "0.29977454030717005\n",
      "no match for /home/chuongh/vm2m/data/HHM/synthesized/masks/16616/0.png\n"
     ]
    },
    {
     "name": "stderr",
     "output_type": "stream",
     "text": [
      " 10%|▉         | 4800/49737 [06:08<44:40, 16.76it/s]"
     ]
    },
    {
     "name": "stdout",
     "output_type": "stream",
     "text": [
      "0.036117797535959874\n",
      "no match for /home/chuongh/vm2m/data/HHM/synthesized/masks/7475/1.png\n"
     ]
    },
    {
     "name": "stderr",
     "output_type": "stream",
     "text": [
      " 10%|▉         | 4809/49737 [06:09<53:15, 14.06it/s]  "
     ]
    },
    {
     "name": "stdout",
     "output_type": "stream",
     "text": [
      "0.13674691546528955\n",
      "no match for /home/chuongh/vm2m/data/HHM/synthesized/masks/23239/0.png\n"
     ]
    },
    {
     "name": "stderr",
     "output_type": "stream",
     "text": [
      " 10%|▉         | 4833/49737 [06:11<1:06:08, 11.32it/s]"
     ]
    },
    {
     "name": "stdout",
     "output_type": "stream",
     "text": [
      "0.003522588015868679\n",
      "no match for /home/chuongh/vm2m/data/HHM/synthesized/masks/24823/1.png\n"
     ]
    },
    {
     "name": "stderr",
     "output_type": "stream",
     "text": [
      " 10%|▉         | 4854/49737 [06:13<55:56, 13.37it/s]  "
     ]
    },
    {
     "name": "stdout",
     "output_type": "stream",
     "text": [
      "0.12713783939583417\n",
      "no match for /home/chuongh/vm2m/data/HHM/synthesized/masks/16041/1.png\n"
     ]
    },
    {
     "name": "stderr",
     "output_type": "stream",
     "text": [
      " 10%|▉         | 4864/49737 [06:14<53:40, 13.93it/s]  "
     ]
    },
    {
     "name": "stdout",
     "output_type": "stream",
     "text": [
      "0.2890481746943655\n",
      "no match for /home/chuongh/vm2m/data/HHM/synthesized/masks/27119/1.png\n"
     ]
    },
    {
     "name": "stderr",
     "output_type": "stream",
     "text": [
      " 10%|▉         | 4905/49737 [06:17<54:44, 13.65it/s]  "
     ]
    },
    {
     "name": "stdout",
     "output_type": "stream",
     "text": [
      "0.1012477718358066\n",
      "no match for /home/chuongh/vm2m/data/HHM/synthesized/masks/27501/0.png\n"
     ]
    },
    {
     "name": "stderr",
     "output_type": "stream",
     "text": [
      " 10%|▉         | 4953/49737 [06:21<1:08:09, 10.95it/s]"
     ]
    },
    {
     "name": "stdout",
     "output_type": "stream",
     "text": [
      "0.23285322988087948\n",
      "no match for /home/chuongh/vm2m/data/HHM/synthesized/masks/20268/0.png\n"
     ]
    },
    {
     "name": "stderr",
     "output_type": "stream",
     "text": [
      " 10%|█         | 4983/49737 [06:23<1:10:49, 10.53it/s]"
     ]
    },
    {
     "name": "stdout",
     "output_type": "stream",
     "text": [
      "0.2727811597334046\n",
      "no match for /home/chuongh/vm2m/data/HHM/synthesized/masks/16218/1.png\n"
     ]
    },
    {
     "name": "stderr",
     "output_type": "stream",
     "text": [
      " 10%|█         | 4992/49737 [06:24<50:40, 14.72it/s]  "
     ]
    },
    {
     "name": "stdout",
     "output_type": "stream",
     "text": [
      "0.00849434067224654\n",
      "no match for /home/chuongh/vm2m/data/HHM/synthesized/masks/16921/0.png\n"
     ]
    },
    {
     "name": "stderr",
     "output_type": "stream",
     "text": [
      " 10%|█         | 5003/49737 [06:25<1:03:52, 11.67it/s]"
     ]
    },
    {
     "name": "stdout",
     "output_type": "stream",
     "text": [
      "0.26421609335976143\n",
      "no match for /home/chuongh/vm2m/data/HHM/synthesized/masks/8270/2.png\n"
     ]
    },
    {
     "name": "stderr",
     "output_type": "stream",
     "text": [
      " 10%|█         | 5009/49737 [06:25<1:08:23, 10.90it/s]"
     ]
    },
    {
     "name": "stdout",
     "output_type": "stream",
     "text": [
      "0.06667916041961158\n",
      "no match for /home/chuongh/vm2m/data/HHM/synthesized/masks/26155/1.png\n"
     ]
    },
    {
     "name": "stderr",
     "output_type": "stream",
     "text": [
      " 10%|█         | 5019/49737 [06:26<57:59, 12.85it/s]  "
     ]
    },
    {
     "name": "stdout",
     "output_type": "stream",
     "text": [
      "0.23184811691005203\n",
      "no match for /home/chuongh/vm2m/data/HHM/synthesized/masks/5069/2.png\n"
     ]
    },
    {
     "name": "stderr",
     "output_type": "stream",
     "text": [
      " 10%|█         | 5066/49737 [06:30<1:06:56, 11.12it/s]"
     ]
    },
    {
     "name": "stdout",
     "output_type": "stream",
     "text": [
      "0.05373314419652879\n",
      "no match for /home/chuongh/vm2m/data/HHM/synthesized/masks/33841/0.png\n"
     ]
    },
    {
     "name": "stderr",
     "output_type": "stream",
     "text": [
      " 10%|█         | 5110/49737 [06:33<48:26, 15.36it/s]  "
     ]
    },
    {
     "name": "stdout",
     "output_type": "stream",
     "text": [
      "0.008983191355522186\n",
      "no match for /home/chuongh/vm2m/data/HHM/synthesized/masks/44994/0.png\n"
     ]
    },
    {
     "name": "stderr",
     "output_type": "stream",
     "text": [
      " 10%|█         | 5140/49737 [06:35<43:51, 16.94it/s]  "
     ]
    },
    {
     "name": "stdout",
     "output_type": "stream",
     "text": [
      "0.27740506674130766\n",
      "no match for /home/chuongh/vm2m/data/HHM/synthesized/masks/13014/0.png\n",
      "0.18821651879547593\n",
      "no match for /home/chuongh/vm2m/data/HHM/synthesized/masks/13014/2.png\n"
     ]
    },
    {
     "name": "stderr",
     "output_type": "stream",
     "text": [
      " 10%|█         | 5206/49737 [06:40<56:40, 13.10it/s]  "
     ]
    },
    {
     "name": "stdout",
     "output_type": "stream",
     "text": [
      "0.18883568842616558\n",
      "no match for /home/chuongh/vm2m/data/HHM/synthesized/masks/36000/0.png\n"
     ]
    },
    {
     "name": "stderr",
     "output_type": "stream",
     "text": [
      " 10%|█         | 5208/49737 [06:41<52:35, 14.11it/s]"
     ]
    },
    {
     "name": "stdout",
     "output_type": "stream",
     "text": [
      "0.22248950123794128\n",
      "no match for /home/chuongh/vm2m/data/HHM/synthesized/masks/8722/0.png\n",
      "0\n",
      "no match for /home/chuongh/vm2m/data/HHM/synthesized/masks/34060/2.png\n"
     ]
    },
    {
     "name": "stderr",
     "output_type": "stream",
     "text": [
      " 10%|█         | 5219/49737 [06:41<1:00:32, 12.26it/s]"
     ]
    },
    {
     "name": "stdout",
     "output_type": "stream",
     "text": [
      "0.01800227589255101\n",
      "no match for /home/chuongh/vm2m/data/HHM/synthesized/masks/34281/0.png\n",
      "0.00826104915320616\n",
      "no match for /home/chuongh/vm2m/data/HHM/synthesized/masks/889/0.png\n"
     ]
    },
    {
     "name": "stderr",
     "output_type": "stream",
     "text": [
      " 11%|█         | 5262/49737 [06:45<56:06, 13.21it/s]  "
     ]
    },
    {
     "name": "stdout",
     "output_type": "stream",
     "text": [
      "0.22301573902676206\n",
      "no match for /home/chuongh/vm2m/data/HHM/synthesized/masks/28764/0.png\n"
     ]
    },
    {
     "name": "stderr",
     "output_type": "stream",
     "text": [
      " 11%|█         | 5270/49737 [06:45<54:07, 13.69it/s]"
     ]
    },
    {
     "name": "stdout",
     "output_type": "stream",
     "text": [
      "0.17303194735015615\n",
      "no match for /home/chuongh/vm2m/data/HHM/synthesized/masks/41990/1.png\n"
     ]
    },
    {
     "name": "stderr",
     "output_type": "stream",
     "text": [
      " 11%|█         | 5291/49737 [06:47<1:03:27, 11.67it/s]"
     ]
    },
    {
     "name": "stdout",
     "output_type": "stream",
     "text": [
      "0.13477826392807013\n",
      "no match for /home/chuongh/vm2m/data/HHM/synthesized/masks/41508/3.png\n",
      "0.2390513436900026\n",
      "no match for /home/chuongh/vm2m/data/HHM/synthesized/masks/41508/2.png\n",
      "0.1658202768267214\n",
      "no match for /home/chuongh/vm2m/data/HHM/synthesized/masks/5702/2.png\n"
     ]
    },
    {
     "name": "stderr",
     "output_type": "stream",
     "text": [
      " 11%|█         | 5305/49737 [06:48<1:03:08, 11.73it/s]"
     ]
    },
    {
     "name": "stdout",
     "output_type": "stream",
     "text": [
      "0.16051388042246295\n",
      "no match for /home/chuongh/vm2m/data/HHM/synthesized/masks/9597/2.png\n",
      "0.2978286190129111\n",
      "no match for /home/chuongh/vm2m/data/HHM/synthesized/masks/38597/0.png\n"
     ]
    },
    {
     "name": "stderr",
     "output_type": "stream",
     "text": [
      " 11%|█         | 5317/49737 [06:49<56:30, 13.10it/s]  "
     ]
    },
    {
     "name": "stdout",
     "output_type": "stream",
     "text": [
      "0.10474306520141904\n",
      "no match for /home/chuongh/vm2m/data/HHM/synthesized/masks/20568/2.png\n"
     ]
    },
    {
     "name": "stderr",
     "output_type": "stream",
     "text": [
      " 11%|█         | 5330/49737 [06:50<1:05:56, 11.22it/s]"
     ]
    },
    {
     "name": "stdout",
     "output_type": "stream",
     "text": [
      "0.2851550345285833\n",
      "no match for /home/chuongh/vm2m/data/HHM/synthesized/masks/12797/2.png\n"
     ]
    },
    {
     "name": "stderr",
     "output_type": "stream",
     "text": [
      " 11%|█         | 5373/49737 [06:54<1:04:41, 11.43it/s]"
     ]
    },
    {
     "name": "stdout",
     "output_type": "stream",
     "text": [
      "0.16014396355720992\n",
      "no match for /home/chuongh/vm2m/data/HHM/synthesized/masks/12891/2.png\n",
      "0.06168443835411512\n",
      "no match for /home/chuongh/vm2m/data/HHM/synthesized/masks/693/2.png\n"
     ]
    },
    {
     "name": "stderr",
     "output_type": "stream",
     "text": [
      " 11%|█         | 5388/49737 [06:55<48:04, 15.37it/s]  "
     ]
    },
    {
     "name": "stdout",
     "output_type": "stream",
     "text": [
      "0.008374449577251801\n",
      "no match for /home/chuongh/vm2m/data/HHM/synthesized/masks/40275/0.png\n"
     ]
    },
    {
     "name": "stderr",
     "output_type": "stream",
     "text": [
      " 11%|█         | 5408/49737 [06:56<45:44, 16.15it/s]"
     ]
    },
    {
     "name": "stdout",
     "output_type": "stream",
     "text": [
      "0.08355049218574716\n",
      "no match for /home/chuongh/vm2m/data/HHM/synthesized/masks/34494/0.png\n"
     ]
    },
    {
     "name": "stderr",
     "output_type": "stream",
     "text": [
      " 11%|█         | 5412/49737 [06:57<52:43, 14.01it/s]"
     ]
    },
    {
     "name": "stdout",
     "output_type": "stream",
     "text": [
      "0.25665661830654707\n",
      "no match for /home/chuongh/vm2m/data/HHM/synthesized/masks/20179/0.png\n"
     ]
    },
    {
     "name": "stderr",
     "output_type": "stream",
     "text": [
      " 11%|█         | 5437/49737 [06:58<51:46, 14.26it/s]  "
     ]
    },
    {
     "name": "stdout",
     "output_type": "stream",
     "text": [
      "0.2993928738538328\n",
      "no match for /home/chuongh/vm2m/data/HHM/synthesized/masks/14737/0.png\n"
     ]
    },
    {
     "name": "stderr",
     "output_type": "stream",
     "text": [
      " 11%|█         | 5440/49737 [06:59<46:44, 15.80it/s]"
     ]
    },
    {
     "name": "stdout",
     "output_type": "stream",
     "text": [
      "0\n",
      "no match for /home/chuongh/vm2m/data/HHM/synthesized/masks/31794/0.png\n"
     ]
    },
    {
     "name": "stderr",
     "output_type": "stream",
     "text": [
      " 11%|█         | 5450/49737 [06:59<1:01:24, 12.02it/s]"
     ]
    },
    {
     "name": "stdout",
     "output_type": "stream",
     "text": [
      "0.2394973733621839\n",
      "no match for /home/chuongh/vm2m/data/HHM/synthesized/masks/12912/0.png\n"
     ]
    },
    {
     "name": "stderr",
     "output_type": "stream",
     "text": [
      " 11%|█         | 5498/49737 [07:03<49:14, 14.97it/s]  "
     ]
    },
    {
     "name": "stdout",
     "output_type": "stream",
     "text": [
      "0.29714304692194243\n",
      "no match for /home/chuongh/vm2m/data/HHM/synthesized/masks/41584/1.png\n"
     ]
    },
    {
     "name": "stderr",
     "output_type": "stream",
     "text": [
      " 11%|█         | 5518/49737 [07:05<50:19, 14.64it/s]"
     ]
    },
    {
     "name": "stdout",
     "output_type": "stream",
     "text": [
      "0.030173653691787077\n",
      "no match for /home/chuongh/vm2m/data/HHM/synthesized/masks/41987/0.png\n"
     ]
    },
    {
     "name": "stderr",
     "output_type": "stream",
     "text": [
      " 11%|█         | 5532/49737 [07:05<50:13, 14.67it/s]"
     ]
    },
    {
     "name": "stdout",
     "output_type": "stream",
     "text": [
      "0.18703539069690509\n",
      "no match for /home/chuongh/vm2m/data/HHM/synthesized/masks/33755/1.png\n"
     ]
    },
    {
     "name": "stderr",
     "output_type": "stream",
     "text": [
      " 11%|█         | 5560/49737 [07:08<48:25, 15.21it/s]  "
     ]
    },
    {
     "name": "stdout",
     "output_type": "stream",
     "text": [
      "0.2833098579588871\n",
      "no match for /home/chuongh/vm2m/data/HHM/synthesized/masks/24179/0.png\n"
     ]
    },
    {
     "name": "stderr",
     "output_type": "stream",
     "text": [
      " 11%|█▏        | 5642/49737 [07:14<48:10, 15.26it/s]  "
     ]
    },
    {
     "name": "stdout",
     "output_type": "stream",
     "text": [
      "0.012390299216602825\n",
      "no match for /home/chuongh/vm2m/data/HHM/synthesized/masks/9666/0.png\n",
      "0.2842942634408777\n",
      "no match for /home/chuongh/vm2m/data/HHM/synthesized/masks/18694/1.png\n",
      "0.2797729664035336\n",
      "no match for /home/chuongh/vm2m/data/HHM/synthesized/masks/18694/2.png\n"
     ]
    },
    {
     "name": "stderr",
     "output_type": "stream",
     "text": [
      " 11%|█▏        | 5647/49737 [07:14<49:16, 14.91it/s]"
     ]
    },
    {
     "name": "stdout",
     "output_type": "stream",
     "text": [
      "0.0003484049675051947\n",
      "no match for /home/chuongh/vm2m/data/HHM/synthesized/masks/46536/3.png\n"
     ]
    },
    {
     "name": "stderr",
     "output_type": "stream",
     "text": [
      " 11%|█▏        | 5663/49737 [07:16<58:54, 12.47it/s]  "
     ]
    },
    {
     "name": "stdout",
     "output_type": "stream",
     "text": [
      "0.26237776137785707\n",
      "no match for /home/chuongh/vm2m/data/HHM/synthesized/masks/44291/0.png\n"
     ]
    },
    {
     "name": "stderr",
     "output_type": "stream",
     "text": [
      " 11%|█▏        | 5710/49737 [07:19<1:08:28, 10.72it/s]"
     ]
    },
    {
     "name": "stdout",
     "output_type": "stream",
     "text": [
      "0.018002801639032208\n",
      "no match for /home/chuongh/vm2m/data/HHM/synthesized/masks/41080/1.png\n"
     ]
    },
    {
     "name": "stderr",
     "output_type": "stream",
     "text": [
      " 11%|█▏        | 5712/49737 [07:19<1:11:26, 10.27it/s]"
     ]
    },
    {
     "name": "stdout",
     "output_type": "stream",
     "text": [
      "0.07607866578976369\n",
      "no match for /home/chuongh/vm2m/data/HHM/synthesized/masks/41292/1.png\n"
     ]
    },
    {
     "name": "stderr",
     "output_type": "stream",
     "text": [
      " 11%|█▏        | 5716/49737 [07:20<1:02:01, 11.83it/s]"
     ]
    },
    {
     "name": "stdout",
     "output_type": "stream",
     "text": [
      "0\n",
      "no match for /home/chuongh/vm2m/data/HHM/synthesized/masks/28094/0.png\n",
      "0.005491937657468536\n",
      "no match for /home/chuongh/vm2m/data/HHM/synthesized/masks/28094/3.png\n"
     ]
    },
    {
     "name": "stderr",
     "output_type": "stream",
     "text": [
      " 12%|█▏        | 5753/49737 [07:23<1:05:42, 11.16it/s]"
     ]
    },
    {
     "name": "stdout",
     "output_type": "stream",
     "text": [
      "0.1826076690934819\n",
      "no match for /home/chuongh/vm2m/data/HHM/synthesized/masks/46011/0.png\n"
     ]
    },
    {
     "name": "stderr",
     "output_type": "stream",
     "text": [
      " 12%|█▏        | 5773/49737 [07:24<46:45, 15.67it/s]  "
     ]
    },
    {
     "name": "stdout",
     "output_type": "stream",
     "text": [
      "0\n",
      "no match for /home/chuongh/vm2m/data/HHM/synthesized/masks/32167/1.png\n"
     ]
    },
    {
     "name": "stderr",
     "output_type": "stream",
     "text": [
      " 12%|█▏        | 5789/49737 [07:25<45:32, 16.08it/s]  "
     ]
    },
    {
     "name": "stdout",
     "output_type": "stream",
     "text": [
      "0.008326831056733553\n",
      "no match for /home/chuongh/vm2m/data/HHM/synthesized/masks/4674/1.png\n"
     ]
    },
    {
     "name": "stderr",
     "output_type": "stream",
     "text": [
      " 12%|█▏        | 5799/49737 [07:26<54:12, 13.51it/s]"
     ]
    },
    {
     "name": "stdout",
     "output_type": "stream",
     "text": [
      "0.21885171183817145\n",
      "no match for /home/chuongh/vm2m/data/HHM/synthesized/masks/30571/0.png\n"
     ]
    },
    {
     "name": "stderr",
     "output_type": "stream",
     "text": [
      " 12%|█▏        | 5830/49737 [07:29<1:03:03, 11.61it/s]"
     ]
    },
    {
     "name": "stdout",
     "output_type": "stream",
     "text": [
      "0.24746467237134104\n",
      "no match for /home/chuongh/vm2m/data/HHM/synthesized/masks/20853/1.png\n",
      "0.05390876876854087\n",
      "no match for /home/chuongh/vm2m/data/HHM/synthesized/masks/22515/0.png\n"
     ]
    },
    {
     "name": "stderr",
     "output_type": "stream",
     "text": [
      " 12%|█▏        | 5857/49737 [07:31<55:42, 13.13it/s]  "
     ]
    },
    {
     "name": "stdout",
     "output_type": "stream",
     "text": [
      "0.2909812903409055\n",
      "no match for /home/chuongh/vm2m/data/HHM/synthesized/masks/9422/0.png\n"
     ]
    },
    {
     "name": "stderr",
     "output_type": "stream",
     "text": [
      " 12%|█▏        | 5890/49737 [07:34<56:55, 12.84it/s]  "
     ]
    },
    {
     "name": "stdout",
     "output_type": "stream",
     "text": [
      "0.2024134806852162\n",
      "no match for /home/chuongh/vm2m/data/HHM/synthesized/masks/5493/2.png\n"
     ]
    },
    {
     "name": "stderr",
     "output_type": "stream",
     "text": [
      " 12%|█▏        | 5908/49737 [07:35<54:37, 13.37it/s]  "
     ]
    },
    {
     "name": "stdout",
     "output_type": "stream",
     "text": [
      "0.22431991090575004\n",
      "no match for /home/chuongh/vm2m/data/HHM/synthesized/masks/4261/0.png\n"
     ]
    },
    {
     "name": "stderr",
     "output_type": "stream",
     "text": [
      " 12%|█▏        | 5934/49737 [07:38<1:03:16, 11.54it/s]"
     ]
    },
    {
     "name": "stdout",
     "output_type": "stream",
     "text": [
      "0.27052622943984855\n",
      "no match for /home/chuongh/vm2m/data/HHM/synthesized/masks/29623/2.png\n"
     ]
    },
    {
     "name": "stderr",
     "output_type": "stream",
     "text": [
      " 12%|█▏        | 5948/49737 [07:39<55:05, 13.25it/s]  "
     ]
    },
    {
     "name": "stdout",
     "output_type": "stream",
     "text": [
      "0.21444357684575976\n",
      "no match for /home/chuongh/vm2m/data/HHM/synthesized/masks/21896/2.png\n"
     ]
    },
    {
     "name": "stderr",
     "output_type": "stream",
     "text": [
      " 12%|█▏        | 5962/49737 [07:40<57:24, 12.71it/s]  "
     ]
    },
    {
     "name": "stdout",
     "output_type": "stream",
     "text": [
      "0.012696324711840096\n",
      "no match for /home/chuongh/vm2m/data/HHM/synthesized/masks/17523/2.png\n"
     ]
    },
    {
     "name": "stderr",
     "output_type": "stream",
     "text": [
      " 12%|█▏        | 5974/49737 [07:41<48:23, 15.07it/s]"
     ]
    },
    {
     "name": "stdout",
     "output_type": "stream",
     "text": [
      "0.04072105838204755\n",
      "no match for /home/chuongh/vm2m/data/HHM/synthesized/masks/15066/1.png\n"
     ]
    },
    {
     "name": "stderr",
     "output_type": "stream",
     "text": [
      " 12%|█▏        | 6021/49737 [07:44<54:23, 13.40it/s]  "
     ]
    },
    {
     "name": "stdout",
     "output_type": "stream",
     "text": [
      "0.27451731359292947\n",
      "no match for /home/chuongh/vm2m/data/HHM/synthesized/masks/28491/0.png\n"
     ]
    },
    {
     "name": "stderr",
     "output_type": "stream",
     "text": [
      " 12%|█▏        | 6043/49737 [07:46<49:24, 14.74it/s]"
     ]
    },
    {
     "name": "stdout",
     "output_type": "stream",
     "text": [
      "0.09666482811515525\n",
      "no match for /home/chuongh/vm2m/data/HHM/synthesized/masks/10541/1.png\n"
     ]
    },
    {
     "name": "stderr",
     "output_type": "stream",
     "text": [
      " 12%|█▏        | 6047/49737 [07:46<59:33, 12.23it/s]"
     ]
    },
    {
     "name": "stdout",
     "output_type": "stream",
     "text": [
      "0.038081667186064976\n",
      "no match for /home/chuongh/vm2m/data/HHM/synthesized/masks/11792/0.png\n"
     ]
    },
    {
     "name": "stderr",
     "output_type": "stream",
     "text": [
      " 12%|█▏        | 6052/49737 [07:47<51:38, 14.10it/s]  "
     ]
    },
    {
     "name": "stdout",
     "output_type": "stream",
     "text": [
      "0.03550969105336811\n",
      "no match for /home/chuongh/vm2m/data/HHM/synthesized/masks/34031/0.png\n",
      "0.004982500304708668\n",
      "no match for /home/chuongh/vm2m/data/HHM/synthesized/masks/35999/2.png\n"
     ]
    },
    {
     "name": "stderr",
     "output_type": "stream",
     "text": [
      " 12%|█▏        | 6058/49737 [07:47<50:17, 14.48it/s]"
     ]
    },
    {
     "name": "stdout",
     "output_type": "stream",
     "text": [
      "0\n",
      "no match for /home/chuongh/vm2m/data/HHM/synthesized/masks/25568/0.png\n"
     ]
    },
    {
     "name": "stderr",
     "output_type": "stream",
     "text": [
      " 12%|█▏        | 6073/49737 [07:48<1:02:11, 11.70it/s]"
     ]
    },
    {
     "name": "stdout",
     "output_type": "stream",
     "text": [
      "0.025380207902137294\n",
      "no match for /home/chuongh/vm2m/data/HHM/synthesized/masks/13899/0.png\n"
     ]
    },
    {
     "name": "stderr",
     "output_type": "stream",
     "text": [
      " 13%|█▎        | 6233/49737 [08:00<50:01, 14.49it/s]  "
     ]
    },
    {
     "name": "stdout",
     "output_type": "stream",
     "text": [
      "0.282633876500461\n",
      "no match for /home/chuongh/vm2m/data/HHM/synthesized/masks/30771/2.png\n"
     ]
    },
    {
     "name": "stderr",
     "output_type": "stream",
     "text": [
      " 13%|█▎        | 6246/49737 [08:01<1:07:41, 10.71it/s]"
     ]
    },
    {
     "name": "stdout",
     "output_type": "stream",
     "text": [
      "0.08635286245665955\n",
      "no match for /home/chuongh/vm2m/data/HHM/synthesized/masks/10657/1.png\n"
     ]
    },
    {
     "name": "stderr",
     "output_type": "stream",
     "text": [
      " 13%|█▎        | 6271/49737 [08:03<1:01:39, 11.75it/s]"
     ]
    },
    {
     "name": "stdout",
     "output_type": "stream",
     "text": [
      "0.011524686322477528\n",
      "no match for /home/chuongh/vm2m/data/HHM/synthesized/masks/12648/0.png\n"
     ]
    },
    {
     "name": "stderr",
     "output_type": "stream",
     "text": [
      " 13%|█▎        | 6277/49737 [08:04<53:43, 13.48it/s]  "
     ]
    },
    {
     "name": "stdout",
     "output_type": "stream",
     "text": [
      "0\n",
      "no match for /home/chuongh/vm2m/data/HHM/synthesized/masks/45825/0.png\n"
     ]
    },
    {
     "name": "stderr",
     "output_type": "stream",
     "text": [
      " 13%|█▎        | 6285/49737 [08:05<59:58, 12.08it/s]"
     ]
    },
    {
     "name": "stdout",
     "output_type": "stream",
     "text": [
      "0.29379662828909797\n",
      "no match for /home/chuongh/vm2m/data/HHM/synthesized/masks/19313/1.png\n"
     ]
    },
    {
     "name": "stderr",
     "output_type": "stream",
     "text": [
      " 13%|█▎        | 6294/49737 [08:05<43:57, 16.47it/s]"
     ]
    },
    {
     "name": "stdout",
     "output_type": "stream",
     "text": [
      "0.23843524788408127\n",
      "no match for /home/chuongh/vm2m/data/HHM/synthesized/masks/27868/1.png\n"
     ]
    },
    {
     "name": "stderr",
     "output_type": "stream",
     "text": [
      " 13%|█▎        | 6364/49737 [08:11<48:50, 14.80it/s]  "
     ]
    },
    {
     "name": "stdout",
     "output_type": "stream",
     "text": [
      "0.003917794318403387\n",
      "no match for /home/chuongh/vm2m/data/HHM/synthesized/masks/5606/1.png\n"
     ]
    },
    {
     "name": "stderr",
     "output_type": "stream",
     "text": [
      " 13%|█▎        | 6385/49737 [08:12<1:03:52, 11.31it/s]"
     ]
    },
    {
     "name": "stdout",
     "output_type": "stream",
     "text": [
      "0.2744692486234193\n",
      "no match for /home/chuongh/vm2m/data/HHM/synthesized/masks/4470/0.png\n"
     ]
    },
    {
     "name": "stderr",
     "output_type": "stream",
     "text": [
      " 13%|█▎        | 6404/49737 [08:14<43:57, 16.43it/s]  "
     ]
    },
    {
     "name": "stdout",
     "output_type": "stream",
     "text": [
      "0.26132815850720736\n",
      "no match for /home/chuongh/vm2m/data/HHM/synthesized/masks/26355/1.png\n"
     ]
    },
    {
     "name": "stderr",
     "output_type": "stream",
     "text": [
      " 13%|█▎        | 6449/49737 [08:17<1:04:11, 11.24it/s]"
     ]
    },
    {
     "name": "stdout",
     "output_type": "stream",
     "text": [
      "0.01604421166794139\n",
      "no match for /home/chuongh/vm2m/data/HHM/synthesized/masks/24421/2.png\n"
     ]
    },
    {
     "name": "stderr",
     "output_type": "stream",
     "text": [
      " 13%|█▎        | 6476/49737 [08:19<49:57, 14.43it/s]  "
     ]
    },
    {
     "name": "stdout",
     "output_type": "stream",
     "text": [
      "0.1969396313636799\n",
      "no match for /home/chuongh/vm2m/data/HHM/synthesized/masks/550/1.png\n"
     ]
    },
    {
     "name": "stderr",
     "output_type": "stream",
     "text": [
      " 13%|█▎        | 6494/49737 [08:20<56:15, 12.81it/s]  "
     ]
    },
    {
     "name": "stdout",
     "output_type": "stream",
     "text": [
      "0.24885254304226484\n",
      "no match for /home/chuongh/vm2m/data/HHM/synthesized/masks/20622/0.png\n"
     ]
    },
    {
     "name": "stderr",
     "output_type": "stream",
     "text": [
      " 13%|█▎        | 6544/49737 [08:25<1:01:50, 11.64it/s]"
     ]
    },
    {
     "name": "stdout",
     "output_type": "stream",
     "text": [
      "0.16543827404129027\n",
      "no match for /home/chuongh/vm2m/data/HHM/synthesized/masks/17231/0.png\n"
     ]
    },
    {
     "name": "stderr",
     "output_type": "stream",
     "text": [
      " 13%|█▎        | 6577/49737 [08:27<55:38, 12.93it/s]  "
     ]
    },
    {
     "name": "stdout",
     "output_type": "stream",
     "text": [
      "0\n",
      "no match for /home/chuongh/vm2m/data/HHM/synthesized/masks/6926/1.png\n"
     ]
    },
    {
     "name": "stderr",
     "output_type": "stream",
     "text": [
      " 13%|█▎        | 6607/49737 [08:30<56:35, 12.70it/s]  "
     ]
    },
    {
     "name": "stdout",
     "output_type": "stream",
     "text": [
      "0.012285433245425897\n",
      "no match for /home/chuongh/vm2m/data/HHM/synthesized/masks/11065/2.png\n"
     ]
    },
    {
     "name": "stderr",
     "output_type": "stream",
     "text": [
      " 13%|█▎        | 6634/49737 [08:32<1:17:33,  9.26it/s]"
     ]
    },
    {
     "name": "stdout",
     "output_type": "stream",
     "text": [
      "0.19465055453225424\n",
      "no match for /home/chuongh/vm2m/data/HHM/synthesized/masks/34697/1.png\n"
     ]
    },
    {
     "name": "stderr",
     "output_type": "stream",
     "text": [
      " 13%|█▎        | 6684/49737 [08:36<52:10, 13.75it/s]  "
     ]
    },
    {
     "name": "stdout",
     "output_type": "stream",
     "text": [
      "0.2607934422820633\n",
      "no match for /home/chuongh/vm2m/data/HHM/synthesized/masks/30574/0.png\n"
     ]
    },
    {
     "name": "stderr",
     "output_type": "stream",
     "text": [
      " 14%|█▎        | 6729/49737 [08:40<1:04:41, 11.08it/s]"
     ]
    },
    {
     "name": "stdout",
     "output_type": "stream",
     "text": [
      "0.024789647812725878\n",
      "no match for /home/chuongh/vm2m/data/HHM/synthesized/masks/35966/1.png\n"
     ]
    },
    {
     "name": "stderr",
     "output_type": "stream",
     "text": [
      " 14%|█▎        | 6735/49737 [08:40<54:12, 13.22it/s]  "
     ]
    },
    {
     "name": "stdout",
     "output_type": "stream",
     "text": [
      "0.09817792950252263\n",
      "no match for /home/chuongh/vm2m/data/HHM/synthesized/masks/30968/0.png\n"
     ]
    },
    {
     "name": "stderr",
     "output_type": "stream",
     "text": [
      " 14%|█▎        | 6739/49737 [08:41<1:03:07, 11.35it/s]"
     ]
    },
    {
     "name": "stdout",
     "output_type": "stream",
     "text": [
      "0.17203989934111028\n",
      "no match for /home/chuongh/vm2m/data/HHM/synthesized/masks/47974/1.png\n"
     ]
    },
    {
     "name": "stderr",
     "output_type": "stream",
     "text": [
      " 14%|█▎        | 6743/49737 [08:41<1:02:35, 11.45it/s]"
     ]
    },
    {
     "name": "stdout",
     "output_type": "stream",
     "text": [
      "0.22975843988672748\n",
      "no match for /home/chuongh/vm2m/data/HHM/synthesized/masks/44123/2.png\n"
     ]
    },
    {
     "name": "stderr",
     "output_type": "stream",
     "text": [
      " 14%|█▎        | 6747/49737 [08:41<58:50, 12.18it/s]  "
     ]
    },
    {
     "name": "stdout",
     "output_type": "stream",
     "text": [
      "0.1620067635827276\n",
      "no match for /home/chuongh/vm2m/data/HHM/synthesized/masks/19365/2.png\n"
     ]
    },
    {
     "name": "stderr",
     "output_type": "stream",
     "text": [
      " 14%|█▎        | 6812/49737 [08:47<1:01:41, 11.60it/s]"
     ]
    },
    {
     "name": "stdout",
     "output_type": "stream",
     "text": [
      "0.2624009863265599\n",
      "no match for /home/chuongh/vm2m/data/HHM/synthesized/masks/47129/1.png\n"
     ]
    },
    {
     "name": "stderr",
     "output_type": "stream",
     "text": [
      " 14%|█▍        | 6861/49737 [08:50<45:55, 15.56it/s]  "
     ]
    },
    {
     "name": "stdout",
     "output_type": "stream",
     "text": [
      "0\n",
      "no match for /home/chuongh/vm2m/data/HHM/synthesized/masks/19444/1.png\n"
     ]
    },
    {
     "name": "stderr",
     "output_type": "stream",
     "text": [
      " 14%|█▍        | 6867/49737 [08:50<48:58, 14.59it/s]"
     ]
    },
    {
     "name": "stdout",
     "output_type": "stream",
     "text": [
      "0.10350053644688548\n",
      "no match for /home/chuongh/vm2m/data/HHM/synthesized/masks/5915/0.png\n"
     ]
    },
    {
     "name": "stderr",
     "output_type": "stream",
     "text": [
      " 14%|█▍        | 6882/49737 [08:51<36:55, 19.34it/s]"
     ]
    },
    {
     "name": "stdout",
     "output_type": "stream",
     "text": [
      "0.27692295724579574\n",
      "no match for /home/chuongh/vm2m/data/HHM/synthesized/masks/6956/1.png\n"
     ]
    },
    {
     "name": "stderr",
     "output_type": "stream",
     "text": [
      " 14%|█▍        | 6897/49737 [08:52<1:00:53, 11.73it/s]"
     ]
    },
    {
     "name": "stdout",
     "output_type": "stream",
     "text": [
      "0.09887981226838635\n",
      "no match for /home/chuongh/vm2m/data/HHM/synthesized/masks/33996/3.png\n"
     ]
    },
    {
     "name": "stderr",
     "output_type": "stream",
     "text": [
      " 14%|█▍        | 6911/49737 [08:53<55:47, 12.79it/s]  "
     ]
    },
    {
     "name": "stdout",
     "output_type": "stream",
     "text": [
      "0.04262822755560549\n",
      "no match for /home/chuongh/vm2m/data/HHM/synthesized/masks/44745/1.png\n"
     ]
    },
    {
     "name": "stderr",
     "output_type": "stream",
     "text": [
      " 14%|█▍        | 6932/49737 [08:55<56:46, 12.57it/s]  "
     ]
    },
    {
     "name": "stdout",
     "output_type": "stream",
     "text": [
      "0.008602708823799777\n",
      "no match for /home/chuongh/vm2m/data/HHM/synthesized/masks/39816/0.png\n"
     ]
    },
    {
     "name": "stderr",
     "output_type": "stream",
     "text": [
      " 14%|█▍        | 6969/49737 [08:58<52:15, 13.64it/s]  "
     ]
    },
    {
     "name": "stdout",
     "output_type": "stream",
     "text": [
      "0.0030290320069811965\n",
      "no match for /home/chuongh/vm2m/data/HHM/synthesized/masks/42763/1.png\n"
     ]
    },
    {
     "name": "stderr",
     "output_type": "stream",
     "text": [
      " 14%|█▍        | 6977/49737 [08:59<52:38, 13.54it/s]"
     ]
    },
    {
     "name": "stdout",
     "output_type": "stream",
     "text": [
      "0.2076312742309069\n",
      "no match for /home/chuongh/vm2m/data/HHM/synthesized/masks/16756/2.png\n"
     ]
    },
    {
     "name": "stderr",
     "output_type": "stream",
     "text": [
      " 14%|█▍        | 6990/49737 [08:59<42:43, 16.68it/s]"
     ]
    },
    {
     "name": "stdout",
     "output_type": "stream",
     "text": [
      "0\n",
      "no match for /home/chuongh/vm2m/data/HHM/synthesized/masks/67/0.png\n"
     ]
    },
    {
     "name": "stderr",
     "output_type": "stream",
     "text": [
      " 14%|█▍        | 7053/49737 [09:04<51:23, 13.84it/s]  "
     ]
    },
    {
     "name": "stdout",
     "output_type": "stream",
     "text": [
      "0.0032016350097171923\n",
      "no match for /home/chuongh/vm2m/data/HHM/synthesized/masks/47849/1.png\n"
     ]
    },
    {
     "name": "stderr",
     "output_type": "stream",
     "text": [
      " 14%|█▍        | 7069/49737 [09:06<47:01, 15.12it/s]  "
     ]
    },
    {
     "name": "stdout",
     "output_type": "stream",
     "text": [
      "0\n",
      "no match for /home/chuongh/vm2m/data/HHM/synthesized/masks/26453/0.png\n",
      "0\n",
      "no match for /home/chuongh/vm2m/data/HHM/synthesized/masks/49393/1.png\n"
     ]
    },
    {
     "name": "stderr",
     "output_type": "stream",
     "text": [
      " 14%|█▍        | 7081/49737 [09:06<46:28, 15.30it/s]  "
     ]
    },
    {
     "name": "stdout",
     "output_type": "stream",
     "text": [
      "0.0102849403156785\n",
      "no match for /home/chuongh/vm2m/data/HHM/synthesized/masks/19568/0.png\n"
     ]
    },
    {
     "name": "stderr",
     "output_type": "stream",
     "text": [
      " 14%|█▍        | 7112/49737 [09:09<1:02:48, 11.31it/s]"
     ]
    },
    {
     "name": "stdout",
     "output_type": "stream",
     "text": [
      "0.0010507483031807706\n",
      "no match for /home/chuongh/vm2m/data/HHM/synthesized/masks/16776/0.png\n"
     ]
    },
    {
     "name": "stderr",
     "output_type": "stream",
     "text": [
      " 14%|█▍        | 7130/49737 [09:10<48:56, 14.51it/s]  "
     ]
    },
    {
     "name": "stdout",
     "output_type": "stream",
     "text": [
      "0.010636019895074645\n",
      "no match for /home/chuongh/vm2m/data/HHM/synthesized/masks/31578/1.png\n"
     ]
    },
    {
     "name": "stderr",
     "output_type": "stream",
     "text": [
      " 14%|█▍        | 7140/49737 [09:11<52:53, 13.42it/s]  "
     ]
    },
    {
     "name": "stdout",
     "output_type": "stream",
     "text": [
      "0.13302827889642865\n",
      "no match for /home/chuongh/vm2m/data/HHM/synthesized/masks/36227/1.png\n"
     ]
    },
    {
     "name": "stderr",
     "output_type": "stream",
     "text": [
      " 14%|█▍        | 7194/49737 [09:15<56:35, 12.53it/s]  "
     ]
    },
    {
     "name": "stdout",
     "output_type": "stream",
     "text": [
      "0\n",
      "no match for /home/chuongh/vm2m/data/HHM/synthesized/masks/26886/0.png\n"
     ]
    },
    {
     "name": "stderr",
     "output_type": "stream",
     "text": [
      " 14%|█▍        | 7203/49737 [09:16<52:47, 13.43it/s]"
     ]
    },
    {
     "name": "stdout",
     "output_type": "stream",
     "text": [
      "0\n",
      "no match for /home/chuongh/vm2m/data/HHM/synthesized/masks/19143/1.png\n"
     ]
    },
    {
     "name": "stderr",
     "output_type": "stream",
     "text": [
      " 14%|█▍        | 7207/49737 [09:16<47:00, 15.08it/s]"
     ]
    },
    {
     "name": "stdout",
     "output_type": "stream",
     "text": [
      "0.20437642955253135\n",
      "no match for /home/chuongh/vm2m/data/HHM/synthesized/masks/26093/0.png\n"
     ]
    },
    {
     "name": "stderr",
     "output_type": "stream",
     "text": [
      " 14%|█▍        | 7210/49737 [09:16<46:28, 15.25it/s]"
     ]
    },
    {
     "name": "stdout",
     "output_type": "stream",
     "text": [
      "0.2474813916145586\n",
      "no match for /home/chuongh/vm2m/data/HHM/synthesized/masks/30460/0.png\n"
     ]
    },
    {
     "name": "stderr",
     "output_type": "stream",
     "text": [
      " 15%|█▍        | 7213/49737 [09:16<47:38, 14.88it/s]"
     ]
    },
    {
     "name": "stdout",
     "output_type": "stream",
     "text": [
      "0.024118347361587324\n",
      "no match for /home/chuongh/vm2m/data/HHM/synthesized/masks/34855/0.png\n"
     ]
    },
    {
     "name": "stderr",
     "output_type": "stream",
     "text": [
      " 15%|█▍        | 7294/49737 [09:23<1:01:51, 11.44it/s]"
     ]
    },
    {
     "name": "stdout",
     "output_type": "stream",
     "text": [
      "0\n",
      "no match for /home/chuongh/vm2m/data/HHM/synthesized/masks/46665/0.png\n"
     ]
    },
    {
     "name": "stderr",
     "output_type": "stream",
     "text": [
      " 15%|█▍        | 7355/49737 [09:27<59:52, 11.80it/s]  "
     ]
    },
    {
     "name": "stdout",
     "output_type": "stream",
     "text": [
      "0.032868036836185166\n",
      "no match for /home/chuongh/vm2m/data/HHM/synthesized/masks/3033/2.png\n"
     ]
    },
    {
     "name": "stderr",
     "output_type": "stream",
     "text": [
      " 15%|█▍        | 7364/49737 [09:28<50:59, 13.85it/s]"
     ]
    },
    {
     "name": "stdout",
     "output_type": "stream",
     "text": [
      "0.0021974744577204722\n",
      "no match for /home/chuongh/vm2m/data/HHM/synthesized/masks/42042/0.png\n"
     ]
    },
    {
     "name": "stderr",
     "output_type": "stream",
     "text": [
      " 15%|█▍        | 7370/49737 [09:28<50:37, 13.95it/s]"
     ]
    },
    {
     "name": "stdout",
     "output_type": "stream",
     "text": [
      "0.0710024280262318\n",
      "no match for /home/chuongh/vm2m/data/HHM/synthesized/masks/47698/0.png\n"
     ]
    },
    {
     "name": "stderr",
     "output_type": "stream",
     "text": [
      " 15%|█▍        | 7398/49737 [09:30<57:47, 12.21it/s]  "
     ]
    },
    {
     "name": "stdout",
     "output_type": "stream",
     "text": [
      "0.2967377711398937\n",
      "no match for /home/chuongh/vm2m/data/HHM/synthesized/masks/41968/1.png\n"
     ]
    },
    {
     "name": "stderr",
     "output_type": "stream",
     "text": [
      " 15%|█▌        | 7489/49737 [09:37<43:31, 16.18it/s]  "
     ]
    },
    {
     "name": "stdout",
     "output_type": "stream",
     "text": [
      "0.29467517097159646\n",
      "no match for /home/chuongh/vm2m/data/HHM/synthesized/masks/9725/0.png\n"
     ]
    },
    {
     "name": "stderr",
     "output_type": "stream",
     "text": [
      " 15%|█▌        | 7495/49737 [09:38<41:24, 17.00it/s]"
     ]
    },
    {
     "name": "stdout",
     "output_type": "stream",
     "text": [
      "0.09152761096753054\n",
      "no match for /home/chuongh/vm2m/data/HHM/synthesized/masks/23268/0.png\n"
     ]
    },
    {
     "name": "stderr",
     "output_type": "stream",
     "text": [
      " 15%|█▌        | 7509/49737 [09:39<51:09, 13.76it/s]"
     ]
    },
    {
     "name": "stdout",
     "output_type": "stream",
     "text": [
      "0.22410427389058848\n",
      "no match for /home/chuongh/vm2m/data/HHM/synthesized/masks/41073/1.png\n"
     ]
    },
    {
     "name": "stderr",
     "output_type": "stream",
     "text": [
      " 15%|█▌        | 7533/49737 [09:41<54:46, 12.84it/s]  "
     ]
    },
    {
     "name": "stdout",
     "output_type": "stream",
     "text": [
      "0\n",
      "no match for /home/chuongh/vm2m/data/HHM/synthesized/masks/25445/0.png\n"
     ]
    },
    {
     "name": "stderr",
     "output_type": "stream",
     "text": [
      " 15%|█▌        | 7537/49737 [09:41<53:51, 13.06it/s]"
     ]
    },
    {
     "name": "stdout",
     "output_type": "stream",
     "text": [
      "0.23293048377045616\n",
      "no match for /home/chuongh/vm2m/data/HHM/synthesized/masks/8046/0.png\n"
     ]
    },
    {
     "name": "stderr",
     "output_type": "stream",
     "text": [
      " 15%|█▌        | 7575/49737 [09:44<44:04, 15.94it/s]  "
     ]
    },
    {
     "name": "stdout",
     "output_type": "stream",
     "text": [
      "0\n",
      "no match for /home/chuongh/vm2m/data/HHM/synthesized/masks/6200/0.png\n"
     ]
    },
    {
     "name": "stderr",
     "output_type": "stream",
     "text": [
      " 15%|█▌        | 7593/49737 [09:45<54:39, 12.85it/s]  "
     ]
    },
    {
     "name": "stdout",
     "output_type": "stream",
     "text": [
      "0.2643084719064932\n",
      "no match for /home/chuongh/vm2m/data/HHM/synthesized/masks/24222/1.png\n"
     ]
    },
    {
     "name": "stderr",
     "output_type": "stream",
     "text": [
      " 15%|█▌        | 7601/49737 [09:46<49:11, 14.28it/s]"
     ]
    },
    {
     "name": "stdout",
     "output_type": "stream",
     "text": [
      "0.11234435970889843\n",
      "no match for /home/chuongh/vm2m/data/HHM/synthesized/masks/19257/0.png\n"
     ]
    },
    {
     "name": "stderr",
     "output_type": "stream",
     "text": [
      " 15%|█▌        | 7607/49737 [09:46<52:34, 13.36it/s]"
     ]
    },
    {
     "name": "stdout",
     "output_type": "stream",
     "text": [
      "0.01426060966662259\n",
      "no match for /home/chuongh/vm2m/data/HHM/synthesized/masks/48838/1.png\n"
     ]
    },
    {
     "name": "stderr",
     "output_type": "stream",
     "text": [
      " 15%|█▌        | 7612/49737 [09:47<51:27, 13.64it/s]"
     ]
    },
    {
     "name": "stdout",
     "output_type": "stream",
     "text": [
      "0.28671635868813666\n",
      "no match for /home/chuongh/vm2m/data/HHM/synthesized/masks/22563/1.png\n"
     ]
    },
    {
     "name": "stderr",
     "output_type": "stream",
     "text": [
      " 15%|█▌        | 7624/49737 [09:48<50:31, 13.89it/s]  "
     ]
    },
    {
     "name": "stdout",
     "output_type": "stream",
     "text": [
      "0.19711879653721776\n",
      "no match for /home/chuongh/vm2m/data/HHM/synthesized/masks/45116/0.png\n"
     ]
    },
    {
     "name": "stderr",
     "output_type": "stream",
     "text": [
      " 15%|█▌        | 7641/49737 [09:49<45:25, 15.44it/s]  "
     ]
    },
    {
     "name": "stdout",
     "output_type": "stream",
     "text": [
      "0.27378708871705304\n",
      "no match for /home/chuongh/vm2m/data/HHM/synthesized/masks/13304/1.png\n"
     ]
    },
    {
     "name": "stderr",
     "output_type": "stream",
     "text": [
      " 16%|█▌        | 7719/49737 [09:54<52:19, 13.38it/s]  "
     ]
    },
    {
     "name": "stdout",
     "output_type": "stream",
     "text": [
      "0.216751790971827\n",
      "no match for /home/chuongh/vm2m/data/HHM/synthesized/masks/2391/0.png\n"
     ]
    },
    {
     "name": "stderr",
     "output_type": "stream",
     "text": [
      " 16%|█▌        | 7736/49737 [09:56<51:08, 13.69it/s]  "
     ]
    },
    {
     "name": "stdout",
     "output_type": "stream",
     "text": [
      "0.24473762544520358\n",
      "no match for /home/chuongh/vm2m/data/HHM/synthesized/masks/20352/0.png\n",
      "0.02832434953666057\n",
      "no match for /home/chuongh/vm2m/data/HHM/synthesized/masks/1241/0.png\n"
     ]
    },
    {
     "name": "stderr",
     "output_type": "stream",
     "text": [
      " 16%|█▌        | 7778/49737 [09:59<1:11:12,  9.82it/s]"
     ]
    },
    {
     "name": "stdout",
     "output_type": "stream",
     "text": [
      "0\n",
      "no match for /home/chuongh/vm2m/data/HHM/synthesized/masks/38504/0.png\n"
     ]
    },
    {
     "name": "stderr",
     "output_type": "stream",
     "text": [
      " 16%|█▌        | 7793/49737 [10:00<44:53, 15.57it/s]  "
     ]
    },
    {
     "name": "stdout",
     "output_type": "stream",
     "text": [
      "0.04312240788188808\n",
      "no match for /home/chuongh/vm2m/data/HHM/synthesized/masks/29121/1.png\n"
     ]
    },
    {
     "name": "stderr",
     "output_type": "stream",
     "text": [
      " 16%|█▌        | 7806/49737 [10:01<51:00, 13.70it/s]"
     ]
    },
    {
     "name": "stdout",
     "output_type": "stream",
     "text": [
      "0.2541042682933286\n",
      "no match for /home/chuongh/vm2m/data/HHM/synthesized/masks/6353/1.png\n"
     ]
    },
    {
     "name": "stderr",
     "output_type": "stream",
     "text": [
      " 16%|█▌        | 7818/49737 [10:02<39:41, 17.60it/s]"
     ]
    },
    {
     "name": "stdout",
     "output_type": "stream",
     "text": [
      "0.025406280329512018\n",
      "no match for /home/chuongh/vm2m/data/HHM/synthesized/masks/23018/0.png\n"
     ]
    },
    {
     "name": "stderr",
     "output_type": "stream",
     "text": [
      " 16%|█▌        | 7894/49737 [10:07<56:15, 12.40it/s]"
     ]
    },
    {
     "name": "stdout",
     "output_type": "stream",
     "text": [
      "0.28485468913441203\n",
      "no match for /home/chuongh/vm2m/data/HHM/synthesized/masks/21378/0.png\n"
     ]
    },
    {
     "name": "stderr",
     "output_type": "stream",
     "text": [
      " 16%|█▌        | 7911/49737 [10:08<1:00:47, 11.47it/s]"
     ]
    },
    {
     "name": "stdout",
     "output_type": "stream",
     "text": [
      "0.03266476238852284\n",
      "no match for /home/chuongh/vm2m/data/HHM/synthesized/masks/25343/0.png\n"
     ]
    },
    {
     "name": "stderr",
     "output_type": "stream",
     "text": [
      " 16%|█▌        | 7922/49737 [10:09<42:10, 16.52it/s]  "
     ]
    },
    {
     "name": "stdout",
     "output_type": "stream",
     "text": [
      "0.28552085580805736\n",
      "no match for /home/chuongh/vm2m/data/HHM/synthesized/masks/2873/1.png\n"
     ]
    },
    {
     "name": "stderr",
     "output_type": "stream",
     "text": [
      " 16%|█▌        | 7972/49737 [10:12<53:59, 12.89it/s]  "
     ]
    },
    {
     "name": "stdout",
     "output_type": "stream",
     "text": [
      "0.0965736407232951\n",
      "no match for /home/chuongh/vm2m/data/HHM/synthesized/masks/581/2.png\n"
     ]
    },
    {
     "name": "stderr",
     "output_type": "stream",
     "text": [
      " 16%|█▌        | 8000/49737 [10:15<1:00:46, 11.44it/s]"
     ]
    },
    {
     "name": "stdout",
     "output_type": "stream",
     "text": [
      "0.02482799432194059\n",
      "no match for /home/chuongh/vm2m/data/HHM/synthesized/masks/22103/1.png\n"
     ]
    },
    {
     "name": "stderr",
     "output_type": "stream",
     "text": [
      " 16%|█▋        | 8119/49737 [10:24<54:58, 12.62it/s]  "
     ]
    },
    {
     "name": "stdout",
     "output_type": "stream",
     "text": [
      "0.005921370872799234\n",
      "no match for /home/chuongh/vm2m/data/HHM/synthesized/masks/40357/0.png\n"
     ]
    },
    {
     "name": "stderr",
     "output_type": "stream",
     "text": [
      " 16%|█▋        | 8132/49737 [10:26<57:14, 12.11it/s]"
     ]
    },
    {
     "name": "stdout",
     "output_type": "stream",
     "text": [
      "0.17331728954664471\n",
      "no match for /home/chuongh/vm2m/data/HHM/synthesized/masks/22494/1.png\n"
     ]
    },
    {
     "name": "stderr",
     "output_type": "stream",
     "text": [
      " 16%|█▋        | 8139/49737 [10:26<54:26, 12.73it/s]"
     ]
    },
    {
     "name": "stdout",
     "output_type": "stream",
     "text": [
      "0.21826318511277942\n",
      "no match for /home/chuongh/vm2m/data/HHM/synthesized/masks/48395/0.png\n",
      "0\n",
      "no match for /home/chuongh/vm2m/data/HHM/synthesized/masks/27396/1.png\n"
     ]
    },
    {
     "name": "stderr",
     "output_type": "stream",
     "text": [
      " 16%|█▋        | 8164/49737 [10:28<51:16, 13.51it/s]"
     ]
    },
    {
     "name": "stdout",
     "output_type": "stream",
     "text": [
      "0.2942214928907001\n",
      "no match for /home/chuongh/vm2m/data/HHM/synthesized/masks/3186/0.png\n"
     ]
    },
    {
     "name": "stderr",
     "output_type": "stream",
     "text": [
      " 16%|█▋        | 8194/49737 [10:30<44:45, 15.47it/s]  "
     ]
    },
    {
     "name": "stdout",
     "output_type": "stream",
     "text": [
      "0.07951903516383536\n",
      "no match for /home/chuongh/vm2m/data/HHM/synthesized/masks/40873/1.png\n"
     ]
    },
    {
     "name": "stderr",
     "output_type": "stream",
     "text": [
      " 16%|█▋        | 8198/49737 [10:31<51:00, 13.57it/s]"
     ]
    },
    {
     "name": "stdout",
     "output_type": "stream",
     "text": [
      "0\n",
      "no match for /home/chuongh/vm2m/data/HHM/synthesized/masks/4794/0.png\n",
      "0\n",
      "no match for /home/chuongh/vm2m/data/HHM/synthesized/masks/4794/1.png\n"
     ]
    },
    {
     "name": "stderr",
     "output_type": "stream",
     "text": [
      " 17%|█▋        | 8282/49737 [10:36<41:26, 16.67it/s]  "
     ]
    },
    {
     "name": "stdout",
     "output_type": "stream",
     "text": [
      "0.25808897876466746\n",
      "no match for /home/chuongh/vm2m/data/HHM/synthesized/masks/16951/0.png\n"
     ]
    },
    {
     "name": "stderr",
     "output_type": "stream",
     "text": [
      " 17%|█▋        | 8291/49737 [10:37<38:49, 17.79it/s]"
     ]
    },
    {
     "name": "stdout",
     "output_type": "stream",
     "text": [
      "0.2956421879380927\n",
      "no match for /home/chuongh/vm2m/data/HHM/synthesized/masks/4079/2.png\n"
     ]
    },
    {
     "name": "stderr",
     "output_type": "stream",
     "text": [
      " 17%|█▋        | 8297/49737 [10:38<58:21, 11.84it/s]"
     ]
    },
    {
     "name": "stdout",
     "output_type": "stream",
     "text": [
      "0.28785585462628727\n",
      "no match for /home/chuongh/vm2m/data/HHM/synthesized/masks/20031/2.png\n"
     ]
    },
    {
     "name": "stderr",
     "output_type": "stream",
     "text": [
      " 17%|█▋        | 8303/49737 [10:38<57:30, 12.01it/s]  "
     ]
    },
    {
     "name": "stdout",
     "output_type": "stream",
     "text": [
      "0.1460991322084764\n",
      "no match for /home/chuongh/vm2m/data/HHM/synthesized/masks/20539/2.png\n"
     ]
    },
    {
     "name": "stderr",
     "output_type": "stream",
     "text": [
      " 17%|█▋        | 8318/49737 [10:39<44:07, 15.64it/s]"
     ]
    },
    {
     "name": "stdout",
     "output_type": "stream",
     "text": [
      "0.008855266244381595\n",
      "no match for /home/chuongh/vm2m/data/HHM/synthesized/masks/21584/1.png\n"
     ]
    },
    {
     "name": "stderr",
     "output_type": "stream",
     "text": [
      " 17%|█▋        | 8333/49737 [10:40<50:31, 13.66it/s]  "
     ]
    },
    {
     "name": "stdout",
     "output_type": "stream",
     "text": [
      "0\n",
      "no match for /home/chuongh/vm2m/data/HHM/synthesized/masks/13833/1.png\n"
     ]
    },
    {
     "name": "stderr",
     "output_type": "stream",
     "text": [
      " 17%|█▋        | 8340/49737 [10:41<49:53, 13.83it/s]"
     ]
    },
    {
     "name": "stdout",
     "output_type": "stream",
     "text": [
      "0.1832301514147978\n",
      "no match for /home/chuongh/vm2m/data/HHM/synthesized/masks/34099/2.png\n"
     ]
    },
    {
     "name": "stderr",
     "output_type": "stream",
     "text": [
      " 17%|█▋        | 8348/49737 [10:41<42:49, 16.11it/s]"
     ]
    },
    {
     "name": "stdout",
     "output_type": "stream",
     "text": [
      "0.2829175861834778\n",
      "no match for /home/chuongh/vm2m/data/HHM/synthesized/masks/1138/0.png\n"
     ]
    },
    {
     "name": "stderr",
     "output_type": "stream",
     "text": [
      " 17%|█▋        | 8362/49737 [10:42<43:07, 15.99it/s]  "
     ]
    },
    {
     "name": "stdout",
     "output_type": "stream",
     "text": [
      "0.27883013119950195\n",
      "no match for /home/chuongh/vm2m/data/HHM/synthesized/masks/46865/0.png\n"
     ]
    },
    {
     "name": "stderr",
     "output_type": "stream",
     "text": [
      " 17%|█▋        | 8390/49737 [10:44<45:37, 15.10it/s]  "
     ]
    },
    {
     "name": "stdout",
     "output_type": "stream",
     "text": [
      "0.24941889226805214\n",
      "no match for /home/chuongh/vm2m/data/HHM/synthesized/masks/21995/0.png\n"
     ]
    },
    {
     "name": "stderr",
     "output_type": "stream",
     "text": [
      " 17%|█▋        | 8427/49737 [10:47<47:17, 14.56it/s]  "
     ]
    },
    {
     "name": "stdout",
     "output_type": "stream",
     "text": [
      "0.24959313121974672\n",
      "no match for /home/chuongh/vm2m/data/HHM/synthesized/masks/28895/0.png\n"
     ]
    },
    {
     "name": "stderr",
     "output_type": "stream",
     "text": [
      " 17%|█▋        | 8479/49737 [10:51<1:10:48,  9.71it/s]"
     ]
    },
    {
     "name": "stdout",
     "output_type": "stream",
     "text": [
      "0.18801707031539\n",
      "no match for /home/chuongh/vm2m/data/HHM/synthesized/masks/33336/0.png\n"
     ]
    },
    {
     "name": "stderr",
     "output_type": "stream",
     "text": [
      " 17%|█▋        | 8483/49737 [10:52<57:52, 11.88it/s]  "
     ]
    },
    {
     "name": "stdout",
     "output_type": "stream",
     "text": [
      "0\n",
      "no match for /home/chuongh/vm2m/data/HHM/synthesized/masks/4161/0.png\n"
     ]
    },
    {
     "name": "stderr",
     "output_type": "stream",
     "text": [
      " 17%|█▋        | 8487/49737 [10:52<1:01:40, 11.15it/s]"
     ]
    },
    {
     "name": "stdout",
     "output_type": "stream",
     "text": [
      "0.05327201906612409\n",
      "no match for /home/chuongh/vm2m/data/HHM/synthesized/masks/44116/2.png\n",
      "0.19031227111192073\n",
      "no match for /home/chuongh/vm2m/data/HHM/synthesized/masks/10650/0.png\n"
     ]
    },
    {
     "name": "stderr",
     "output_type": "stream",
     "text": [
      " 17%|█▋        | 8509/49737 [10:54<1:10:27,  9.75it/s]"
     ]
    },
    {
     "name": "stdout",
     "output_type": "stream",
     "text": [
      "0.13885769188277367\n",
      "no match for /home/chuongh/vm2m/data/HHM/synthesized/masks/30442/0.png\n"
     ]
    },
    {
     "name": "stderr",
     "output_type": "stream",
     "text": [
      " 17%|█▋        | 8542/49737 [10:56<46:45, 14.68it/s]  "
     ]
    },
    {
     "name": "stdout",
     "output_type": "stream",
     "text": [
      "0.2744706243756794\n",
      "no match for /home/chuongh/vm2m/data/HHM/synthesized/masks/40305/0.png\n"
     ]
    },
    {
     "name": "stderr",
     "output_type": "stream",
     "text": [
      " 17%|█▋        | 8553/49737 [10:57<59:56, 11.45it/s]  "
     ]
    },
    {
     "name": "stdout",
     "output_type": "stream",
     "text": [
      "0.062343591800569545\n",
      "no match for /home/chuongh/vm2m/data/HHM/synthesized/masks/3568/1.png\n"
     ]
    },
    {
     "name": "stderr",
     "output_type": "stream",
     "text": [
      " 17%|█▋        | 8592/49737 [11:00<47:42, 14.37it/s]  "
     ]
    },
    {
     "name": "stdout",
     "output_type": "stream",
     "text": [
      "0.08652560831198315\n",
      "no match for /home/chuongh/vm2m/data/HHM/synthesized/masks/30691/0.png\n",
      "0.12658747185736285\n",
      "no match for /home/chuongh/vm2m/data/HHM/synthesized/masks/30691/2.png\n"
     ]
    },
    {
     "name": "stderr",
     "output_type": "stream",
     "text": [
      " 17%|█▋        | 8598/49737 [11:01<55:54, 12.26it/s]"
     ]
    },
    {
     "name": "stdout",
     "output_type": "stream",
     "text": [
      "0.02960831358457196\n",
      "no match for /home/chuongh/vm2m/data/HHM/synthesized/masks/43150/0.png\n",
      "0.10121386380753424\n",
      "no match for /home/chuongh/vm2m/data/HHM/synthesized/masks/11031/1.png\n"
     ]
    },
    {
     "name": "stderr",
     "output_type": "stream",
     "text": [
      " 17%|█▋        | 8606/49737 [11:01<44:24, 15.44it/s]"
     ]
    },
    {
     "name": "stdout",
     "output_type": "stream",
     "text": [
      "0.2511624687492342\n",
      "no match for /home/chuongh/vm2m/data/HHM/synthesized/masks/25415/1.png\n"
     ]
    },
    {
     "name": "stderr",
     "output_type": "stream",
     "text": [
      " 17%|█▋        | 8624/49737 [11:03<52:51, 12.96it/s]"
     ]
    },
    {
     "name": "stdout",
     "output_type": "stream",
     "text": [
      "0.15295359697060484\n",
      "no match for /home/chuongh/vm2m/data/HHM/synthesized/masks/8932/1.png\n"
     ]
    },
    {
     "name": "stderr",
     "output_type": "stream",
     "text": [
      " 17%|█▋        | 8644/49737 [11:04<55:23, 12.36it/s]  "
     ]
    },
    {
     "name": "stdout",
     "output_type": "stream",
     "text": [
      "0.005172989432770902\n",
      "no match for /home/chuongh/vm2m/data/HHM/synthesized/masks/21925/0.png\n"
     ]
    },
    {
     "name": "stderr",
     "output_type": "stream",
     "text": [
      " 17%|█▋        | 8650/49737 [11:05<49:44, 13.77it/s]"
     ]
    },
    {
     "name": "stdout",
     "output_type": "stream",
     "text": [
      "0.22891767778249547\n",
      "no match for /home/chuongh/vm2m/data/HHM/synthesized/masks/1117/0.png\n"
     ]
    },
    {
     "name": "stderr",
     "output_type": "stream",
     "text": [
      " 17%|█▋        | 8665/49737 [11:06<1:01:50, 11.07it/s]"
     ]
    },
    {
     "name": "stdout",
     "output_type": "stream",
     "text": [
      "0\n",
      "no match for /home/chuongh/vm2m/data/HHM/synthesized/masks/35513/2.png\n"
     ]
    },
    {
     "name": "stderr",
     "output_type": "stream",
     "text": [
      " 17%|█▋        | 8675/49737 [11:07<1:20:03,  8.55it/s]"
     ]
    },
    {
     "name": "stdout",
     "output_type": "stream",
     "text": [
      "0.2683188377145214\n",
      "no match for /home/chuongh/vm2m/data/HHM/synthesized/masks/49864/0.png\n",
      "0.2932965905647238\n",
      "no match for /home/chuongh/vm2m/data/HHM/synthesized/masks/5588/1.png\n"
     ]
    },
    {
     "name": "stderr",
     "output_type": "stream",
     "text": [
      " 17%|█▋        | 8684/49737 [11:08<58:35, 11.68it/s]  "
     ]
    },
    {
     "name": "stdout",
     "output_type": "stream",
     "text": [
      "0.028536502753060272\n",
      "no match for /home/chuongh/vm2m/data/HHM/synthesized/masks/1564/0.png\n"
     ]
    },
    {
     "name": "stderr",
     "output_type": "stream",
     "text": [
      " 18%|█▊        | 8750/49737 [11:13<44:26, 15.37it/s]  "
     ]
    },
    {
     "name": "stdout",
     "output_type": "stream",
     "text": [
      "0\n",
      "no match for /home/chuongh/vm2m/data/HHM/synthesized/masks/15391/1.png\n",
      "0\n",
      "no match for /home/chuongh/vm2m/data/HHM/synthesized/masks/3877/0.png\n"
     ]
    },
    {
     "name": "stderr",
     "output_type": "stream",
     "text": [
      " 18%|█▊        | 8762/49737 [11:13<43:41, 15.63it/s]"
     ]
    },
    {
     "name": "stdout",
     "output_type": "stream",
     "text": [
      "3.581867155698099e-06\n",
      "no match for /home/chuongh/vm2m/data/HHM/synthesized/masks/12365/2.png\n"
     ]
    },
    {
     "name": "stderr",
     "output_type": "stream",
     "text": [
      " 18%|█▊        | 8784/49737 [11:15<39:40, 17.21it/s]"
     ]
    },
    {
     "name": "stdout",
     "output_type": "stream",
     "text": [
      "0.0416270429351625\n",
      "no match for /home/chuongh/vm2m/data/HHM/synthesized/masks/12799/2.png\n"
     ]
    },
    {
     "name": "stderr",
     "output_type": "stream",
     "text": [
      " 18%|█▊        | 8854/49737 [11:20<1:03:33, 10.72it/s]"
     ]
    },
    {
     "name": "stdout",
     "output_type": "stream",
     "text": [
      "0.07515618712774452\n",
      "no match for /home/chuongh/vm2m/data/HHM/synthesized/masks/6425/1.png\n"
     ]
    },
    {
     "name": "stderr",
     "output_type": "stream",
     "text": [
      " 18%|█▊        | 8923/49737 [11:25<55:37, 12.23it/s]  "
     ]
    },
    {
     "name": "stdout",
     "output_type": "stream",
     "text": [
      "0.24854048635989984\n",
      "no match for /home/chuongh/vm2m/data/HHM/synthesized/masks/14029/1.png\n"
     ]
    },
    {
     "name": "stderr",
     "output_type": "stream",
     "text": [
      " 18%|█▊        | 8927/49737 [11:25<53:57, 12.61it/s]  "
     ]
    },
    {
     "name": "stdout",
     "output_type": "stream",
     "text": [
      "0.017145176938100002\n",
      "no match for /home/chuongh/vm2m/data/HHM/synthesized/masks/8144/0.png\n"
     ]
    },
    {
     "name": "stderr",
     "output_type": "stream",
     "text": [
      " 18%|█▊        | 8931/49737 [11:26<50:41, 13.42it/s]"
     ]
    },
    {
     "name": "stdout",
     "output_type": "stream",
     "text": [
      "0\n",
      "no match for /home/chuongh/vm2m/data/HHM/synthesized/masks/25647/1.png\n",
      "0.054252499614213086\n",
      "no match for /home/chuongh/vm2m/data/HHM/synthesized/masks/4699/0.png\n"
     ]
    },
    {
     "name": "stderr",
     "output_type": "stream",
     "text": [
      " 18%|█▊        | 8948/49737 [11:27<38:59, 17.43it/s]"
     ]
    },
    {
     "name": "stdout",
     "output_type": "stream",
     "text": [
      "0\n",
      "no match for /home/chuongh/vm2m/data/HHM/synthesized/masks/2902/0.png\n"
     ]
    },
    {
     "name": "stderr",
     "output_type": "stream",
     "text": [
      " 18%|█▊        | 8975/49737 [11:29<1:06:07, 10.27it/s]"
     ]
    },
    {
     "name": "stdout",
     "output_type": "stream",
     "text": [
      "0.038646520167557805\n",
      "no match for /home/chuongh/vm2m/data/HHM/synthesized/masks/34188/0.png\n"
     ]
    },
    {
     "name": "stderr",
     "output_type": "stream",
     "text": [
      " 18%|█▊        | 9003/49737 [11:31<49:34, 13.70it/s]  "
     ]
    },
    {
     "name": "stdout",
     "output_type": "stream",
     "text": [
      "0.011800420071546205\n",
      "no match for /home/chuongh/vm2m/data/HHM/synthesized/masks/34283/2.png\n"
     ]
    },
    {
     "name": "stderr",
     "output_type": "stream",
     "text": [
      " 18%|█▊        | 9013/49737 [11:32<55:32, 12.22it/s]"
     ]
    },
    {
     "name": "stdout",
     "output_type": "stream",
     "text": [
      "0.008136221416895238\n",
      "no match for /home/chuongh/vm2m/data/HHM/synthesized/masks/6206/0.png\n"
     ]
    },
    {
     "name": "stderr",
     "output_type": "stream",
     "text": [
      " 18%|█▊        | 9017/49737 [11:32<51:44, 13.12it/s]"
     ]
    },
    {
     "name": "stdout",
     "output_type": "stream",
     "text": [
      "0.2611981527264942\n",
      "no match for /home/chuongh/vm2m/data/HHM/synthesized/masks/31038/0.png\n"
     ]
    },
    {
     "name": "stderr",
     "output_type": "stream",
     "text": [
      " 18%|█▊        | 9035/49737 [11:34<53:49, 12.60it/s]  "
     ]
    },
    {
     "name": "stdout",
     "output_type": "stream",
     "text": [
      "0.2972376983247869\n",
      "no match for /home/chuongh/vm2m/data/HHM/synthesized/masks/20791/0.png\n",
      "0.08131980046432119\n",
      "no match for /home/chuongh/vm2m/data/HHM/synthesized/masks/7026/1.png\n"
     ]
    },
    {
     "name": "stderr",
     "output_type": "stream",
     "text": [
      " 18%|█▊        | 9040/49737 [11:34<47:09, 14.38it/s]"
     ]
    },
    {
     "name": "stdout",
     "output_type": "stream",
     "text": [
      "0.2901235317139227\n",
      "no match for /home/chuongh/vm2m/data/HHM/synthesized/masks/27575/1.png\n"
     ]
    },
    {
     "name": "stderr",
     "output_type": "stream",
     "text": [
      " 18%|█▊        | 9048/49737 [11:35<36:08, 18.77it/s]"
     ]
    },
    {
     "name": "stdout",
     "output_type": "stream",
     "text": [
      "0.014622714699206233\n",
      "no match for /home/chuongh/vm2m/data/HHM/synthesized/masks/47299/1.png\n"
     ]
    },
    {
     "name": "stderr",
     "output_type": "stream",
     "text": [
      " 18%|█▊        | 9072/49737 [11:36<49:05, 13.81it/s]  "
     ]
    },
    {
     "name": "stdout",
     "output_type": "stream",
     "text": [
      "0.2891604666584182\n",
      "no match for /home/chuongh/vm2m/data/HHM/synthesized/masks/30371/3.png\n",
      "0\n",
      "no match for /home/chuongh/vm2m/data/HHM/synthesized/masks/31155/0.png\n"
     ]
    },
    {
     "name": "stderr",
     "output_type": "stream",
     "text": [
      " 18%|█▊        | 9076/49737 [11:37<42:21, 16.00it/s]"
     ]
    },
    {
     "name": "stdout",
     "output_type": "stream",
     "text": [
      "0.024381912456633962\n",
      "no match for /home/chuongh/vm2m/data/HHM/synthesized/masks/3217/0.png\n"
     ]
    },
    {
     "name": "stderr",
     "output_type": "stream",
     "text": [
      " 18%|█▊        | 9083/49737 [11:37<41:20, 16.39it/s]"
     ]
    },
    {
     "name": "stdout",
     "output_type": "stream",
     "text": [
      "0\n",
      "no match for /home/chuongh/vm2m/data/HHM/synthesized/masks/9760/0.png\n"
     ]
    },
    {
     "name": "stderr",
     "output_type": "stream",
     "text": [
      " 18%|█▊        | 9109/49737 [11:39<52:22, 12.93it/s]  "
     ]
    },
    {
     "name": "stdout",
     "output_type": "stream",
     "text": [
      "0.027426910456072734\n",
      "no match for /home/chuongh/vm2m/data/HHM/synthesized/masks/37528/2.png\n"
     ]
    },
    {
     "name": "stderr",
     "output_type": "stream",
     "text": [
      " 18%|█▊        | 9122/49737 [11:40<56:33, 11.97it/s]  "
     ]
    },
    {
     "name": "stdout",
     "output_type": "stream",
     "text": [
      "0.21809358234538628\n",
      "no match for /home/chuongh/vm2m/data/HHM/synthesized/masks/42810/2.png\n"
     ]
    },
    {
     "name": "stderr",
     "output_type": "stream",
     "text": [
      " 18%|█▊        | 9129/49737 [11:41<52:04, 13.00it/s]"
     ]
    },
    {
     "name": "stdout",
     "output_type": "stream",
     "text": [
      "0.26334551728092775\n",
      "no match for /home/chuongh/vm2m/data/HHM/synthesized/masks/45404/0.png\n"
     ]
    },
    {
     "name": "stderr",
     "output_type": "stream",
     "text": [
      " 18%|█▊        | 9150/49737 [11:43<51:13, 13.21it/s]  "
     ]
    },
    {
     "name": "stdout",
     "output_type": "stream",
     "text": [
      "0.008766265669065245\n",
      "no match for /home/chuongh/vm2m/data/HHM/synthesized/masks/2168/0.png\n"
     ]
    },
    {
     "name": "stderr",
     "output_type": "stream",
     "text": [
      " 18%|█▊        | 9184/49737 [11:45<46:58, 14.39it/s]"
     ]
    },
    {
     "name": "stdout",
     "output_type": "stream",
     "text": [
      "0.09109061119971164\n",
      "no match for /home/chuongh/vm2m/data/HHM/synthesized/masks/47512/1.png\n"
     ]
    },
    {
     "name": "stderr",
     "output_type": "stream",
     "text": [
      " 19%|█▊        | 9204/49737 [11:47<1:06:40, 10.13it/s]"
     ]
    },
    {
     "name": "stdout",
     "output_type": "stream",
     "text": [
      "0.010688777197231132\n",
      "no match for /home/chuongh/vm2m/data/HHM/synthesized/masks/24528/0.png\n",
      "0.23831499165575298\n",
      "no match for /home/chuongh/vm2m/data/HHM/synthesized/masks/9522/0.png\n"
     ]
    },
    {
     "name": "stderr",
     "output_type": "stream",
     "text": [
      " 19%|█▊        | 9212/49737 [11:48<1:06:13, 10.20it/s]"
     ]
    },
    {
     "name": "stdout",
     "output_type": "stream",
     "text": [
      "0.1599604662357958\n",
      "no match for /home/chuongh/vm2m/data/HHM/synthesized/masks/49785/0.png\n",
      "0.22082698195111786\n",
      "no match for /home/chuongh/vm2m/data/HHM/synthesized/masks/49828/1.png\n"
     ]
    },
    {
     "name": "stderr",
     "output_type": "stream",
     "text": [
      " 19%|█▊        | 9216/49737 [11:48<1:02:42, 10.77it/s]"
     ]
    },
    {
     "name": "stdout",
     "output_type": "stream",
     "text": [
      "0.2428731724180051\n",
      "no match for /home/chuongh/vm2m/data/HHM/synthesized/masks/6436/0.png\n"
     ]
    },
    {
     "name": "stderr",
     "output_type": "stream",
     "text": [
      " 19%|█▊        | 9239/49737 [11:50<45:00, 15.00it/s]  "
     ]
    },
    {
     "name": "stdout",
     "output_type": "stream",
     "text": [
      "0.055468671664111825\n",
      "no match for /home/chuongh/vm2m/data/HHM/synthesized/masks/16492/0.png\n"
     ]
    },
    {
     "name": "stderr",
     "output_type": "stream",
     "text": [
      " 19%|█▊        | 9286/49737 [11:53<45:00, 14.98it/s]"
     ]
    },
    {
     "name": "stdout",
     "output_type": "stream",
     "text": [
      "0.2808502119570705\n",
      "no match for /home/chuongh/vm2m/data/HHM/synthesized/masks/18307/0.png\n"
     ]
    },
    {
     "name": "stderr",
     "output_type": "stream",
     "text": [
      " 19%|█▉        | 9337/49737 [11:57<44:41, 15.07it/s]"
     ]
    },
    {
     "name": "stdout",
     "output_type": "stream",
     "text": [
      "0.2972261981530307\n",
      "no match for /home/chuongh/vm2m/data/HHM/synthesized/masks/42364/1.png\n"
     ]
    },
    {
     "name": "stderr",
     "output_type": "stream",
     "text": [
      " 19%|█▉        | 9347/49737 [11:58<1:03:48, 10.55it/s]"
     ]
    },
    {
     "name": "stdout",
     "output_type": "stream",
     "text": [
      "0.07849370338626509\n",
      "no match for /home/chuongh/vm2m/data/HHM/synthesized/masks/22013/0.png\n"
     ]
    },
    {
     "name": "stderr",
     "output_type": "stream",
     "text": [
      " 19%|█▉        | 9400/49737 [12:01<48:18, 13.92it/s]  "
     ]
    },
    {
     "name": "stdout",
     "output_type": "stream",
     "text": [
      "0.14712345620170886\n",
      "no match for /home/chuongh/vm2m/data/HHM/synthesized/masks/4584/0.png\n"
     ]
    },
    {
     "name": "stderr",
     "output_type": "stream",
     "text": [
      " 19%|█▉        | 9406/49737 [12:02<48:22, 13.90it/s]"
     ]
    },
    {
     "name": "stdout",
     "output_type": "stream",
     "text": [
      "0.15467455039769165\n",
      "no match for /home/chuongh/vm2m/data/HHM/synthesized/masks/49365/0.png\n"
     ]
    },
    {
     "name": "stderr",
     "output_type": "stream",
     "text": [
      " 19%|█▉        | 9437/49737 [12:04<47:45, 14.06it/s]  "
     ]
    },
    {
     "name": "stdout",
     "output_type": "stream",
     "text": [
      "0.016068897308175192\n",
      "no match for /home/chuongh/vm2m/data/HHM/synthesized/masks/27295/0.png\n"
     ]
    },
    {
     "name": "stderr",
     "output_type": "stream",
     "text": [
      " 19%|█▉        | 9439/49737 [12:04<51:35, 13.02it/s]"
     ]
    },
    {
     "name": "stdout",
     "output_type": "stream",
     "text": [
      "0.09302747133974658\n",
      "no match for /home/chuongh/vm2m/data/HHM/synthesized/masks/47612/1.png\n"
     ]
    },
    {
     "name": "stderr",
     "output_type": "stream",
     "text": [
      " 19%|█▉        | 9494/49737 [12:09<51:14, 13.09it/s]  "
     ]
    },
    {
     "name": "stdout",
     "output_type": "stream",
     "text": [
      "0.07095147944073035\n",
      "no match for /home/chuongh/vm2m/data/HHM/synthesized/masks/30580/2.png\n"
     ]
    },
    {
     "name": "stderr",
     "output_type": "stream",
     "text": [
      " 19%|█▉        | 9501/49737 [12:09<51:12, 13.10it/s]"
     ]
    },
    {
     "name": "stdout",
     "output_type": "stream",
     "text": [
      "0.08376688161035864\n",
      "no match for /home/chuongh/vm2m/data/HHM/synthesized/masks/25027/0.png\n"
     ]
    },
    {
     "name": "stderr",
     "output_type": "stream",
     "text": [
      " 19%|█▉        | 9503/49737 [12:10<1:03:07, 10.62it/s]"
     ]
    },
    {
     "name": "stdout",
     "output_type": "stream",
     "text": [
      "0.007167152947205646\n",
      "no match for /home/chuongh/vm2m/data/HHM/synthesized/masks/8153/0.png\n"
     ]
    },
    {
     "name": "stderr",
     "output_type": "stream",
     "text": [
      " 19%|█▉        | 9535/49737 [12:12<46:50, 14.31it/s]  "
     ]
    },
    {
     "name": "stdout",
     "output_type": "stream",
     "text": [
      "0\n",
      "no match for /home/chuongh/vm2m/data/HHM/synthesized/masks/16642/1.png\n"
     ]
    },
    {
     "name": "stderr",
     "output_type": "stream",
     "text": [
      " 19%|█▉        | 9541/49737 [12:12<55:21, 12.10it/s]"
     ]
    },
    {
     "name": "stdout",
     "output_type": "stream",
     "text": [
      "0.01700944678771393\n",
      "no match for /home/chuongh/vm2m/data/HHM/synthesized/masks/40214/1.png\n"
     ]
    },
    {
     "name": "stderr",
     "output_type": "stream",
     "text": [
      " 19%|█▉        | 9544/49737 [12:13<47:37, 14.06it/s]"
     ]
    },
    {
     "name": "stdout",
     "output_type": "stream",
     "text": [
      "0.00035797203726908763\n",
      "no match for /home/chuongh/vm2m/data/HHM/synthesized/masks/19504/0.png\n"
     ]
    },
    {
     "name": "stderr",
     "output_type": "stream",
     "text": [
      " 19%|█▉        | 9551/49737 [12:13<50:48, 13.18it/s]"
     ]
    },
    {
     "name": "stdout",
     "output_type": "stream",
     "text": [
      "0\n",
      "no match for /home/chuongh/vm2m/data/HHM/synthesized/masks/41692/1.png\n"
     ]
    },
    {
     "name": "stderr",
     "output_type": "stream",
     "text": [
      " 19%|█▉        | 9587/49737 [12:16<41:32, 16.11it/s]  "
     ]
    },
    {
     "name": "stdout",
     "output_type": "stream",
     "text": [
      "0.21376629298253463\n",
      "no match for /home/chuongh/vm2m/data/HHM/synthesized/masks/3831/1.png\n"
     ]
    },
    {
     "name": "stderr",
     "output_type": "stream",
     "text": [
      " 19%|█▉        | 9599/49737 [12:17<45:34, 14.68it/s]"
     ]
    },
    {
     "name": "stdout",
     "output_type": "stream",
     "text": [
      "0.01636900244537251\n",
      "no match for /home/chuongh/vm2m/data/HHM/synthesized/masks/40329/1.png\n"
     ]
    },
    {
     "name": "stderr",
     "output_type": "stream",
     "text": [
      " 19%|█▉        | 9601/49737 [12:17<44:22, 15.07it/s]"
     ]
    },
    {
     "name": "stdout",
     "output_type": "stream",
     "text": [
      "0.1991986663348093\n",
      "no match for /home/chuongh/vm2m/data/HHM/synthesized/masks/49356/1.png\n",
      "0.008709740064515099\n",
      "no match for /home/chuongh/vm2m/data/HHM/synthesized/masks/26618/0.png\n"
     ]
    },
    {
     "name": "stderr",
     "output_type": "stream",
     "text": [
      " 19%|█▉        | 9625/49737 [12:19<47:35, 14.05it/s]  "
     ]
    },
    {
     "name": "stdout",
     "output_type": "stream",
     "text": [
      "0.0012634705541121405\n",
      "no match for /home/chuongh/vm2m/data/HHM/synthesized/masks/30867/1.png\n"
     ]
    },
    {
     "name": "stderr",
     "output_type": "stream",
     "text": [
      " 19%|█▉        | 9638/49737 [12:19<37:29, 17.83it/s]"
     ]
    },
    {
     "name": "stdout",
     "output_type": "stream",
     "text": [
      "0.022975370509429036\n",
      "no match for /home/chuongh/vm2m/data/HHM/synthesized/masks/42656/0.png\n"
     ]
    },
    {
     "name": "stderr",
     "output_type": "stream",
     "text": [
      " 19%|█▉        | 9644/49737 [12:20<44:42, 14.94it/s]"
     ]
    },
    {
     "name": "stdout",
     "output_type": "stream",
     "text": [
      "0\n",
      "no match for /home/chuongh/vm2m/data/HHM/synthesized/masks/44446/0.png\n"
     ]
    },
    {
     "name": "stderr",
     "output_type": "stream",
     "text": [
      " 19%|█▉        | 9675/49737 [12:22<45:24, 14.70it/s]  "
     ]
    },
    {
     "name": "stdout",
     "output_type": "stream",
     "text": [
      "0.01054416166386319\n",
      "no match for /home/chuongh/vm2m/data/HHM/synthesized/masks/3560/0.png\n"
     ]
    },
    {
     "name": "stderr",
     "output_type": "stream",
     "text": [
      " 20%|█▉        | 9701/49737 [12:24<50:34, 13.19it/s]  "
     ]
    },
    {
     "name": "stdout",
     "output_type": "stream",
     "text": [
      "0\n",
      "no match for /home/chuongh/vm2m/data/HHM/synthesized/masks/23776/0.png\n",
      "0\n",
      "no match for /home/chuongh/vm2m/data/HHM/synthesized/masks/23776/2.png\n"
     ]
    },
    {
     "name": "stderr",
     "output_type": "stream",
     "text": [
      " 20%|█▉        | 9706/49737 [12:25<45:12, 14.76it/s]"
     ]
    },
    {
     "name": "stdout",
     "output_type": "stream",
     "text": [
      "0.1948799957232443\n",
      "no match for /home/chuongh/vm2m/data/HHM/synthesized/masks/14941/1.png\n"
     ]
    },
    {
     "name": "stderr",
     "output_type": "stream",
     "text": [
      " 20%|█▉        | 9708/49737 [12:25<47:15, 14.12it/s]"
     ]
    },
    {
     "name": "stdout",
     "output_type": "stream",
     "text": [
      "0.035947456898149\n",
      "no match for /home/chuongh/vm2m/data/HHM/synthesized/masks/31924/2.png\n"
     ]
    },
    {
     "name": "stderr",
     "output_type": "stream",
     "text": [
      " 20%|█▉        | 9714/49737 [12:25<50:25, 13.23it/s]"
     ]
    },
    {
     "name": "stdout",
     "output_type": "stream",
     "text": [
      "0.02453274318469155\n",
      "no match for /home/chuongh/vm2m/data/HHM/synthesized/masks/33712/1.png\n"
     ]
    },
    {
     "name": "stderr",
     "output_type": "stream",
     "text": [
      " 20%|█▉        | 9732/49737 [12:27<36:33, 18.24it/s]"
     ]
    },
    {
     "name": "stdout",
     "output_type": "stream",
     "text": [
      "0.146118795934504\n",
      "no match for /home/chuongh/vm2m/data/HHM/synthesized/masks/32461/1.png\n"
     ]
    },
    {
     "name": "stderr",
     "output_type": "stream",
     "text": [
      " 20%|█▉        | 9739/49737 [12:27<48:56, 13.62it/s]"
     ]
    },
    {
     "name": "stdout",
     "output_type": "stream",
     "text": [
      "0.13408262018586461\n",
      "no match for /home/chuongh/vm2m/data/HHM/synthesized/masks/40115/2.png\n"
     ]
    },
    {
     "name": "stderr",
     "output_type": "stream",
     "text": [
      " 20%|█▉        | 9762/49737 [12:29<44:46, 14.88it/s]"
     ]
    },
    {
     "name": "stdout",
     "output_type": "stream",
     "text": [
      "0.2154278065953534\n",
      "no match for /home/chuongh/vm2m/data/HHM/synthesized/masks/39391/0.png\n"
     ]
    },
    {
     "name": "stderr",
     "output_type": "stream",
     "text": [
      " 20%|█▉        | 9767/49737 [12:29<52:27, 12.70it/s]"
     ]
    },
    {
     "name": "stdout",
     "output_type": "stream",
     "text": [
      "0.18448775847695645\n",
      "no match for /home/chuongh/vm2m/data/HHM/synthesized/masks/15290/2.png\n"
     ]
    },
    {
     "name": "stderr",
     "output_type": "stream",
     "text": [
      " 20%|█▉        | 9773/49737 [12:30<51:15, 12.99it/s]"
     ]
    },
    {
     "name": "stdout",
     "output_type": "stream",
     "text": [
      "0.025734476809457993\n",
      "no match for /home/chuongh/vm2m/data/HHM/synthesized/masks/28187/1.png\n"
     ]
    },
    {
     "name": "stderr",
     "output_type": "stream",
     "text": [
      " 20%|█▉        | 9787/49737 [12:31<59:08, 11.26it/s]  "
     ]
    },
    {
     "name": "stdout",
     "output_type": "stream",
     "text": [
      "0.051240558582595026\n",
      "no match for /home/chuongh/vm2m/data/HHM/synthesized/masks/44419/0.png\n",
      "0.00018896326834930504\n",
      "no match for /home/chuongh/vm2m/data/HHM/synthesized/masks/12635/1.png\n"
     ]
    },
    {
     "name": "stderr",
     "output_type": "stream",
     "text": [
      " 20%|█▉        | 9843/49737 [12:35<54:13, 12.26it/s]  "
     ]
    },
    {
     "name": "stdout",
     "output_type": "stream",
     "text": [
      "0.13938319265187132\n",
      "no match for /home/chuongh/vm2m/data/HHM/synthesized/masks/25440/0.png\n"
     ]
    },
    {
     "name": "stderr",
     "output_type": "stream",
     "text": [
      " 20%|█▉        | 9854/49737 [12:36<1:01:09, 10.87it/s]"
     ]
    },
    {
     "name": "stdout",
     "output_type": "stream",
     "text": [
      "0.10143464531663782\n",
      "no match for /home/chuongh/vm2m/data/HHM/synthesized/masks/44337/0.png\n"
     ]
    },
    {
     "name": "stderr",
     "output_type": "stream",
     "text": [
      " 20%|█▉        | 9900/49737 [12:40<48:05, 13.81it/s]  "
     ]
    },
    {
     "name": "stdout",
     "output_type": "stream",
     "text": [
      "0.014410583510486451\n",
      "no match for /home/chuongh/vm2m/data/HHM/synthesized/masks/33451/0.png\n"
     ]
    },
    {
     "name": "stderr",
     "output_type": "stream",
     "text": [
      " 20%|██        | 9956/49737 [12:44<40:27, 16.39it/s]  "
     ]
    },
    {
     "name": "stdout",
     "output_type": "stream",
     "text": [
      "0.01183961094042575\n",
      "no match for /home/chuongh/vm2m/data/HHM/synthesized/masks/3933/0.png\n"
     ]
    },
    {
     "name": "stderr",
     "output_type": "stream",
     "text": [
      " 20%|██        | 9984/49737 [12:46<51:34, 12.85it/s]"
     ]
    },
    {
     "name": "stdout",
     "output_type": "stream",
     "text": [
      "0.011721527765499739\n",
      "no match for /home/chuongh/vm2m/data/HHM/synthesized/masks/37504/1.png\n"
     ]
    },
    {
     "name": "stderr",
     "output_type": "stream",
     "text": [
      " 20%|██        | 10038/49737 [12:50<50:39, 13.06it/s]  "
     ]
    },
    {
     "name": "stdout",
     "output_type": "stream",
     "text": [
      "0.003112830427220563\n",
      "no match for /home/chuongh/vm2m/data/HHM/synthesized/masks/17096/2.png\n"
     ]
    },
    {
     "name": "stderr",
     "output_type": "stream",
     "text": [
      " 20%|██        | 10040/49737 [12:51<58:33, 11.30it/s]"
     ]
    },
    {
     "name": "stdout",
     "output_type": "stream",
     "text": [
      "0.1832626410094281\n",
      "no match for /home/chuongh/vm2m/data/HHM/synthesized/masks/2980/2.png\n"
     ]
    },
    {
     "name": "stderr",
     "output_type": "stream",
     "text": [
      " 20%|██        | 10054/49737 [12:52<57:07, 11.58it/s]  "
     ]
    },
    {
     "name": "stdout",
     "output_type": "stream",
     "text": [
      "0.12681478540924185\n",
      "no match for /home/chuongh/vm2m/data/HHM/synthesized/masks/22556/1.png\n"
     ]
    },
    {
     "name": "stderr",
     "output_type": "stream",
     "text": [
      " 20%|██        | 10079/49737 [12:53<45:09, 14.63it/s]"
     ]
    },
    {
     "name": "stdout",
     "output_type": "stream",
     "text": [
      "0.0021375862222082964\n",
      "no match for /home/chuongh/vm2m/data/HHM/synthesized/masks/16655/0.png\n"
     ]
    },
    {
     "name": "stderr",
     "output_type": "stream",
     "text": [
      " 20%|██        | 10113/49737 [12:56<54:50, 12.04it/s]  "
     ]
    },
    {
     "name": "stdout",
     "output_type": "stream",
     "text": [
      "0.2670096955257822\n",
      "no match for /home/chuongh/vm2m/data/HHM/synthesized/masks/14103/0.png\n"
     ]
    },
    {
     "name": "stderr",
     "output_type": "stream",
     "text": [
      " 20%|██        | 10176/49737 [13:01<50:37, 13.02it/s]  "
     ]
    },
    {
     "name": "stdout",
     "output_type": "stream",
     "text": [
      "0.1650707803089712\n",
      "no match for /home/chuongh/vm2m/data/HHM/synthesized/masks/35907/1.png\n",
      "0.1784914091101244\n",
      "no match for /home/chuongh/vm2m/data/HHM/synthesized/masks/12483/0.png\n"
     ]
    },
    {
     "name": "stderr",
     "output_type": "stream",
     "text": [
      " 20%|██        | 10184/49737 [13:02<49:26, 13.33it/s]"
     ]
    },
    {
     "name": "stdout",
     "output_type": "stream",
     "text": [
      "0.008758752595986083\n",
      "no match for /home/chuongh/vm2m/data/HHM/synthesized/masks/11719/0.png\n"
     ]
    },
    {
     "name": "stderr",
     "output_type": "stream",
     "text": [
      " 20%|██        | 10186/49737 [13:02<44:35, 14.78it/s]"
     ]
    },
    {
     "name": "stdout",
     "output_type": "stream",
     "text": [
      "8.233411733686911e-06\n",
      "no match for /home/chuongh/vm2m/data/HHM/synthesized/masks/39424/0.png\n"
     ]
    },
    {
     "name": "stderr",
     "output_type": "stream",
     "text": [
      " 20%|██        | 10190/49737 [13:02<52:24, 12.58it/s]"
     ]
    },
    {
     "name": "stdout",
     "output_type": "stream",
     "text": [
      "0.002231601556629469\n",
      "no match for /home/chuongh/vm2m/data/HHM/synthesized/masks/48355/1.png\n",
      "0.19960349251628523\n",
      "no match for /home/chuongh/vm2m/data/HHM/synthesized/masks/30729/1.png\n"
     ]
    },
    {
     "name": "stderr",
     "output_type": "stream",
     "text": [
      " 21%|██        | 10228/49737 [13:05<42:33, 15.47it/s]  "
     ]
    },
    {
     "name": "stdout",
     "output_type": "stream",
     "text": [
      "0.012803064360165777\n",
      "no match for /home/chuongh/vm2m/data/HHM/synthesized/masks/40799/1.png\n"
     ]
    },
    {
     "name": "stderr",
     "output_type": "stream",
     "text": [
      " 21%|██        | 10250/49737 [13:07<49:24, 13.32it/s]"
     ]
    },
    {
     "name": "stdout",
     "output_type": "stream",
     "text": [
      "0.27069926170091163\n",
      "no match for /home/chuongh/vm2m/data/HHM/synthesized/masks/43486/0.png\n"
     ]
    },
    {
     "name": "stderr",
     "output_type": "stream",
     "text": [
      " 21%|██        | 10257/49737 [13:07<39:51, 16.51it/s]"
     ]
    },
    {
     "name": "stdout",
     "output_type": "stream",
     "text": [
      "0\n",
      "no match for /home/chuongh/vm2m/data/HHM/synthesized/masks/19666/0.png\n"
     ]
    },
    {
     "name": "stderr",
     "output_type": "stream",
     "text": [
      " 21%|██        | 10260/49737 [13:07<41:08, 15.99it/s]"
     ]
    },
    {
     "name": "stdout",
     "output_type": "stream",
     "text": [
      "0\n",
      "no match for /home/chuongh/vm2m/data/HHM/synthesized/masks/28184/0.png\n",
      "0.2958244827870002\n",
      "no match for /home/chuongh/vm2m/data/HHM/synthesized/masks/28184/1.png\n"
     ]
    },
    {
     "name": "stderr",
     "output_type": "stream",
     "text": [
      " 21%|██        | 10296/49737 [13:10<1:02:26, 10.53it/s]"
     ]
    },
    {
     "name": "stdout",
     "output_type": "stream",
     "text": [
      "0\n",
      "no match for /home/chuongh/vm2m/data/HHM/synthesized/masks/6758/0.png\n"
     ]
    },
    {
     "name": "stderr",
     "output_type": "stream",
     "text": [
      " 21%|██        | 10301/49737 [13:10<51:10, 12.84it/s]  "
     ]
    },
    {
     "name": "stdout",
     "output_type": "stream",
     "text": [
      "0.19023566646389312\n",
      "no match for /home/chuongh/vm2m/data/HHM/synthesized/masks/9832/0.png\n"
     ]
    },
    {
     "name": "stderr",
     "output_type": "stream",
     "text": [
      " 21%|██        | 10324/49737 [13:12<43:58, 14.94it/s]  "
     ]
    },
    {
     "name": "stdout",
     "output_type": "stream",
     "text": [
      "0.01130603229772564\n",
      "no match for /home/chuongh/vm2m/data/HHM/synthesized/masks/19174/0.png\n",
      "0.22914838475236166\n",
      "no match for /home/chuongh/vm2m/data/HHM/synthesized/masks/25563/0.png\n"
     ]
    },
    {
     "name": "stderr",
     "output_type": "stream",
     "text": [
      " 21%|██        | 10390/49737 [13:18<49:57, 13.13it/s]  "
     ]
    },
    {
     "name": "stdout",
     "output_type": "stream",
     "text": [
      "0.156035944418654\n",
      "no match for /home/chuongh/vm2m/data/HHM/synthesized/masks/47276/2.png\n"
     ]
    },
    {
     "name": "stderr",
     "output_type": "stream",
     "text": [
      " 21%|██        | 10432/49737 [13:21<43:26, 15.08it/s]  "
     ]
    },
    {
     "name": "stdout",
     "output_type": "stream",
     "text": [
      "0\n",
      "no match for /home/chuongh/vm2m/data/HHM/synthesized/masks/5798/0.png\n"
     ]
    },
    {
     "name": "stderr",
     "output_type": "stream",
     "text": [
      " 21%|██        | 10446/49737 [13:22<40:01, 16.36it/s]"
     ]
    },
    {
     "name": "stdout",
     "output_type": "stream",
     "text": [
      "0.06736399071823608\n",
      "no match for /home/chuongh/vm2m/data/HHM/synthesized/masks/45518/1.png\n"
     ]
    },
    {
     "name": "stderr",
     "output_type": "stream",
     "text": [
      " 21%|██        | 10466/49737 [13:24<51:31, 12.70it/s]  "
     ]
    },
    {
     "name": "stdout",
     "output_type": "stream",
     "text": [
      "0.2009115457386955\n",
      "no match for /home/chuongh/vm2m/data/HHM/synthesized/masks/28136/0.png\n",
      "0.17812776820589482\n",
      "no match for /home/chuongh/vm2m/data/HHM/synthesized/masks/28136/1.png\n",
      "0.2144545346848525\n",
      "no match for /home/chuongh/vm2m/data/HHM/synthesized/masks/5865/0.png\n"
     ]
    },
    {
     "name": "stderr",
     "output_type": "stream",
     "text": [
      " 21%|██        | 10472/49737 [13:24<47:28, 13.79it/s]"
     ]
    },
    {
     "name": "stdout",
     "output_type": "stream",
     "text": [
      "0.0032040023767289498\n",
      "no match for /home/chuongh/vm2m/data/HHM/synthesized/masks/48842/0.png\n"
     ]
    },
    {
     "name": "stderr",
     "output_type": "stream",
     "text": [
      " 21%|██        | 10505/49737 [13:27<1:03:16, 10.33it/s]"
     ]
    },
    {
     "name": "stdout",
     "output_type": "stream",
     "text": [
      "0.01573118106491951\n",
      "no match for /home/chuongh/vm2m/data/HHM/synthesized/masks/47238/0.png\n"
     ]
    },
    {
     "name": "stderr",
     "output_type": "stream",
     "text": [
      " 21%|██        | 10509/49737 [13:27<55:33, 11.77it/s]  "
     ]
    },
    {
     "name": "stdout",
     "output_type": "stream",
     "text": [
      "0\n",
      "no match for /home/chuongh/vm2m/data/HHM/synthesized/masks/46589/2.png\n"
     ]
    },
    {
     "name": "stderr",
     "output_type": "stream",
     "text": [
      " 21%|██        | 10559/49737 [13:32<1:04:42, 10.09it/s]"
     ]
    },
    {
     "name": "stdout",
     "output_type": "stream",
     "text": [
      "0\n",
      "no match for /home/chuongh/vm2m/data/HHM/synthesized/masks/24252/1.png\n"
     ]
    },
    {
     "name": "stderr",
     "output_type": "stream",
     "text": [
      " 21%|██▏       | 10578/49737 [13:33<45:32, 14.33it/s]  "
     ]
    },
    {
     "name": "stdout",
     "output_type": "stream",
     "text": [
      "0.29099057999545647\n",
      "no match for /home/chuongh/vm2m/data/HHM/synthesized/masks/30273/2.png\n"
     ]
    },
    {
     "name": "stderr",
     "output_type": "stream",
     "text": [
      " 21%|██▏       | 10644/49737 [13:38<50:47, 12.83it/s]  "
     ]
    },
    {
     "name": "stdout",
     "output_type": "stream",
     "text": [
      "0.02064980233121567\n",
      "no match for /home/chuongh/vm2m/data/HHM/synthesized/masks/588/0.png\n"
     ]
    },
    {
     "name": "stderr",
     "output_type": "stream",
     "text": [
      " 21%|██▏       | 10666/49737 [13:40<1:00:23, 10.78it/s]"
     ]
    },
    {
     "name": "stdout",
     "output_type": "stream",
     "text": [
      "0.29282388235330997\n",
      "no match for /home/chuongh/vm2m/data/HHM/synthesized/masks/20715/3.png\n"
     ]
    },
    {
     "name": "stderr",
     "output_type": "stream",
     "text": [
      " 21%|██▏       | 10672/49737 [13:41<1:06:59,  9.72it/s]"
     ]
    },
    {
     "name": "stdout",
     "output_type": "stream",
     "text": [
      "0.29547708843356585\n",
      "no match for /home/chuongh/vm2m/data/HHM/synthesized/masks/500/3.png\n"
     ]
    },
    {
     "name": "stderr",
     "output_type": "stream",
     "text": [
      " 22%|██▏       | 10698/49737 [13:43<47:02, 13.83it/s]  "
     ]
    },
    {
     "name": "stdout",
     "output_type": "stream",
     "text": [
      "0.10425838223588273\n",
      "no match for /home/chuongh/vm2m/data/HHM/synthesized/masks/20639/2.png\n"
     ]
    },
    {
     "name": "stderr",
     "output_type": "stream",
     "text": [
      " 22%|██▏       | 10708/49737 [13:44<52:20, 12.43it/s]  "
     ]
    },
    {
     "name": "stdout",
     "output_type": "stream",
     "text": [
      "0.15944820292354586\n",
      "no match for /home/chuongh/vm2m/data/HHM/synthesized/masks/29581/0.png\n"
     ]
    },
    {
     "name": "stderr",
     "output_type": "stream",
     "text": [
      " 22%|██▏       | 10714/49737 [13:44<1:02:59, 10.32it/s]"
     ]
    },
    {
     "name": "stdout",
     "output_type": "stream",
     "text": [
      "0.037584950565387194\n",
      "no match for /home/chuongh/vm2m/data/HHM/synthesized/masks/17425/0.png\n"
     ]
    },
    {
     "name": "stderr",
     "output_type": "stream",
     "text": [
      " 22%|██▏       | 10725/49737 [13:45<48:35, 13.38it/s]  "
     ]
    },
    {
     "name": "stdout",
     "output_type": "stream",
     "text": [
      "0\n",
      "no match for /home/chuongh/vm2m/data/HHM/synthesized/masks/23272/0.png\n"
     ]
    },
    {
     "name": "stderr",
     "output_type": "stream",
     "text": [
      " 22%|██▏       | 10735/49737 [13:46<38:22, 16.94it/s]"
     ]
    },
    {
     "name": "stdout",
     "output_type": "stream",
     "text": [
      "0.22745297935468964\n",
      "no match for /home/chuongh/vm2m/data/HHM/synthesized/masks/26487/0.png\n"
     ]
    },
    {
     "name": "stderr",
     "output_type": "stream",
     "text": [
      " 22%|██▏       | 10772/49737 [13:49<46:31, 13.96it/s]"
     ]
    },
    {
     "name": "stdout",
     "output_type": "stream",
     "text": [
      "0\n",
      "no match for /home/chuongh/vm2m/data/HHM/synthesized/masks/8043/0.png\n"
     ]
    },
    {
     "name": "stderr",
     "output_type": "stream",
     "text": [
      " 22%|██▏       | 10804/49737 [13:51<45:23, 14.30it/s]"
     ]
    },
    {
     "name": "stdout",
     "output_type": "stream",
     "text": [
      "0.017409325923626748\n",
      "no match for /home/chuongh/vm2m/data/HHM/synthesized/masks/10910/1.png\n"
     ]
    },
    {
     "name": "stderr",
     "output_type": "stream",
     "text": [
      " 22%|██▏       | 10887/49737 [13:57<45:46, 14.15it/s]  "
     ]
    },
    {
     "name": "stdout",
     "output_type": "stream",
     "text": [
      "0.01807463953421958\n",
      "no match for /home/chuongh/vm2m/data/HHM/synthesized/masks/24963/0.png\n"
     ]
    },
    {
     "name": "stderr",
     "output_type": "stream",
     "text": [
      " 22%|██▏       | 10889/49737 [13:57<48:58, 13.22it/s]"
     ]
    },
    {
     "name": "stdout",
     "output_type": "stream",
     "text": [
      "0.02214694172353955\n",
      "no match for /home/chuongh/vm2m/data/HHM/synthesized/masks/3780/1.png\n",
      "0.2486859196688439\n",
      "no match for /home/chuongh/vm2m/data/HHM/synthesized/masks/36287/1.png\n"
     ]
    },
    {
     "name": "stderr",
     "output_type": "stream",
     "text": [
      " 22%|██▏       | 10894/49737 [13:57<53:17, 12.15it/s]"
     ]
    },
    {
     "name": "stdout",
     "output_type": "stream",
     "text": [
      "0.27603127961637447\n",
      "no match for /home/chuongh/vm2m/data/HHM/synthesized/masks/39348/2.png\n"
     ]
    },
    {
     "name": "stderr",
     "output_type": "stream",
     "text": [
      " 22%|██▏       | 10908/49737 [13:58<47:40, 13.57it/s]"
     ]
    },
    {
     "name": "stdout",
     "output_type": "stream",
     "text": [
      "0.13356545016593077\n",
      "no match for /home/chuongh/vm2m/data/HHM/synthesized/masks/49101/0.png\n"
     ]
    },
    {
     "name": "stderr",
     "output_type": "stream",
     "text": [
      " 22%|██▏       | 10912/49737 [13:59<41:40, 15.52it/s]"
     ]
    },
    {
     "name": "stdout",
     "output_type": "stream",
     "text": [
      "0.0900465932877333\n",
      "no match for /home/chuongh/vm2m/data/HHM/synthesized/masks/23453/1.png\n"
     ]
    },
    {
     "name": "stderr",
     "output_type": "stream",
     "text": [
      " 22%|██▏       | 10916/49737 [13:59<49:21, 13.11it/s]"
     ]
    },
    {
     "name": "stdout",
     "output_type": "stream",
     "text": [
      "0.12332085535764277\n",
      "no match for /home/chuongh/vm2m/data/HHM/synthesized/masks/2160/0.png\n"
     ]
    },
    {
     "name": "stderr",
     "output_type": "stream",
     "text": [
      " 22%|██▏       | 10924/49737 [14:00<47:10, 13.71it/s]"
     ]
    },
    {
     "name": "stdout",
     "output_type": "stream",
     "text": [
      "0.012495307118387157\n",
      "no match for /home/chuongh/vm2m/data/HHM/synthesized/masks/47709/1.png\n"
     ]
    },
    {
     "name": "stderr",
     "output_type": "stream",
     "text": [
      " 22%|██▏       | 10936/49737 [14:00<42:03, 15.38it/s]"
     ]
    },
    {
     "name": "stdout",
     "output_type": "stream",
     "text": [
      "0.16834625404592413\n",
      "no match for /home/chuongh/vm2m/data/HHM/synthesized/masks/15297/1.png\n"
     ]
    },
    {
     "name": "stderr",
     "output_type": "stream",
     "text": [
      " 22%|██▏       | 11005/49737 [14:06<49:29, 13.04it/s]  "
     ]
    },
    {
     "name": "stdout",
     "output_type": "stream",
     "text": [
      "0.2199002749425045\n",
      "no match for /home/chuongh/vm2m/data/HHM/synthesized/masks/45848/1.png\n"
     ]
    },
    {
     "name": "stderr",
     "output_type": "stream",
     "text": [
      " 22%|██▏       | 11031/49737 [14:08<38:30, 16.75it/s]"
     ]
    },
    {
     "name": "stdout",
     "output_type": "stream",
     "text": [
      "0\n",
      "no match for /home/chuongh/vm2m/data/HHM/synthesized/masks/16453/0.png\n",
      "0.0076918685055010596\n",
      "no match for /home/chuongh/vm2m/data/HHM/synthesized/masks/10149/0.png\n"
     ]
    },
    {
     "name": "stderr",
     "output_type": "stream",
     "text": [
      " 22%|██▏       | 11061/49737 [14:10<46:40, 13.81it/s]"
     ]
    },
    {
     "name": "stdout",
     "output_type": "stream",
     "text": [
      "0\n",
      "no match for /home/chuongh/vm2m/data/HHM/synthesized/masks/18057/0.png\n"
     ]
    },
    {
     "name": "stderr",
     "output_type": "stream",
     "text": [
      " 22%|██▏       | 11160/49737 [14:17<41:00, 15.68it/s]  "
     ]
    },
    {
     "name": "stdout",
     "output_type": "stream",
     "text": [
      "0.01577295540320985\n",
      "no match for /home/chuongh/vm2m/data/HHM/synthesized/masks/37872/0.png\n"
     ]
    },
    {
     "name": "stderr",
     "output_type": "stream",
     "text": [
      " 22%|██▏       | 11166/49737 [14:17<49:52, 12.89it/s]"
     ]
    },
    {
     "name": "stdout",
     "output_type": "stream",
     "text": [
      "0.0054998878132236275\n",
      "no match for /home/chuongh/vm2m/data/HHM/synthesized/masks/28695/0.png\n"
     ]
    },
    {
     "name": "stderr",
     "output_type": "stream",
     "text": [
      " 22%|██▏       | 11170/49737 [14:18<53:41, 11.97it/s]"
     ]
    },
    {
     "name": "stdout",
     "output_type": "stream",
     "text": [
      "0.03653153471277445\n",
      "no match for /home/chuongh/vm2m/data/HHM/synthesized/masks/29762/1.png\n"
     ]
    },
    {
     "name": "stderr",
     "output_type": "stream",
     "text": [
      " 23%|██▎       | 11221/49737 [14:21<45:01, 14.26it/s]"
     ]
    },
    {
     "name": "stdout",
     "output_type": "stream",
     "text": [
      "0.0023686072877945265\n",
      "no match for /home/chuongh/vm2m/data/HHM/synthesized/masks/40053/1.png\n"
     ]
    },
    {
     "name": "stderr",
     "output_type": "stream",
     "text": [
      " 23%|██▎       | 11245/49737 [14:23<37:50, 16.95it/s]"
     ]
    },
    {
     "name": "stdout",
     "output_type": "stream",
     "text": [
      "0.11352869817744539\n",
      "no match for /home/chuongh/vm2m/data/HHM/synthesized/masks/31015/1.png\n"
     ]
    },
    {
     "name": "stderr",
     "output_type": "stream",
     "text": [
      " 23%|██▎       | 11277/49737 [14:25<45:16, 14.16it/s]"
     ]
    },
    {
     "name": "stdout",
     "output_type": "stream",
     "text": [
      "0\n",
      "no match for /home/chuongh/vm2m/data/HHM/synthesized/masks/20696/0.png\n",
      "0\n",
      "no match for /home/chuongh/vm2m/data/HHM/synthesized/masks/20696/1.png\n"
     ]
    },
    {
     "name": "stderr",
     "output_type": "stream",
     "text": [
      " 23%|██▎       | 11306/49737 [14:28<48:26, 13.22it/s]  "
     ]
    },
    {
     "name": "stdout",
     "output_type": "stream",
     "text": [
      "0\n",
      "no match for /home/chuongh/vm2m/data/HHM/synthesized/masks/919/0.png\n"
     ]
    },
    {
     "name": "stderr",
     "output_type": "stream",
     "text": [
      " 23%|██▎       | 11328/49737 [14:30<1:04:28,  9.93it/s]"
     ]
    },
    {
     "name": "stdout",
     "output_type": "stream",
     "text": [
      "0.035405960402401467\n",
      "no match for /home/chuongh/vm2m/data/HHM/synthesized/masks/40940/0.png\n"
     ]
    },
    {
     "name": "stderr",
     "output_type": "stream",
     "text": [
      " 23%|██▎       | 11358/49737 [14:32<39:47, 16.07it/s]  "
     ]
    },
    {
     "name": "stdout",
     "output_type": "stream",
     "text": [
      "0.08955514289853322\n",
      "no match for /home/chuongh/vm2m/data/HHM/synthesized/masks/19711/1.png\n"
     ]
    },
    {
     "name": "stderr",
     "output_type": "stream",
     "text": [
      " 23%|██▎       | 11365/49737 [14:33<45:46, 13.97it/s]"
     ]
    },
    {
     "name": "stdout",
     "output_type": "stream",
     "text": [
      "0.04133481820287957\n",
      "no match for /home/chuongh/vm2m/data/HHM/synthesized/masks/25976/0.png\n"
     ]
    },
    {
     "name": "stderr",
     "output_type": "stream",
     "text": [
      " 23%|██▎       | 11384/49737 [14:34<45:23, 14.08it/s]"
     ]
    },
    {
     "name": "stdout",
     "output_type": "stream",
     "text": [
      "0.00027278640824139226\n",
      "no match for /home/chuongh/vm2m/data/HHM/synthesized/masks/38647/1.png\n"
     ]
    },
    {
     "name": "stderr",
     "output_type": "stream",
     "text": [
      " 23%|██▎       | 11404/49737 [14:36<49:26, 12.92it/s]"
     ]
    },
    {
     "name": "stdout",
     "output_type": "stream",
     "text": [
      "0.2288657343410241\n",
      "no match for /home/chuongh/vm2m/data/HHM/synthesized/masks/4198/2.png\n"
     ]
    },
    {
     "name": "stderr",
     "output_type": "stream",
     "text": [
      " 23%|██▎       | 11410/49737 [14:36<52:44, 12.11it/s]"
     ]
    },
    {
     "name": "stdout",
     "output_type": "stream",
     "text": [
      "0.18157832558782794\n",
      "no match for /home/chuongh/vm2m/data/HHM/synthesized/masks/44770/0.png\n",
      "0.17485039842042466\n",
      "no match for /home/chuongh/vm2m/data/HHM/synthesized/masks/43325/2.png\n"
     ]
    },
    {
     "name": "stderr",
     "output_type": "stream",
     "text": [
      " 23%|██▎       | 11448/49737 [14:39<51:36, 12.36it/s]"
     ]
    },
    {
     "name": "stdout",
     "output_type": "stream",
     "text": [
      "0.22934757339917916\n",
      "no match for /home/chuongh/vm2m/data/HHM/synthesized/masks/9465/1.png\n"
     ]
    },
    {
     "name": "stderr",
     "output_type": "stream",
     "text": [
      " 23%|██▎       | 11457/49737 [14:40<50:05, 12.74it/s]"
     ]
    },
    {
     "name": "stdout",
     "output_type": "stream",
     "text": [
      "0.052091535164433544\n",
      "no match for /home/chuongh/vm2m/data/HHM/synthesized/masks/36086/0.png\n"
     ]
    },
    {
     "name": "stderr",
     "output_type": "stream",
     "text": [
      " 23%|██▎       | 11538/49737 [14:46<41:29, 15.34it/s]  "
     ]
    },
    {
     "name": "stdout",
     "output_type": "stream",
     "text": [
      "0.15725146970612786\n",
      "no match for /home/chuongh/vm2m/data/HHM/synthesized/masks/30883/0.png\n"
     ]
    },
    {
     "name": "stderr",
     "output_type": "stream",
     "text": [
      " 23%|██▎       | 11542/49737 [14:47<42:34, 14.95it/s]"
     ]
    },
    {
     "name": "stdout",
     "output_type": "stream",
     "text": [
      "0.11756216278533273\n",
      "no match for /home/chuongh/vm2m/data/HHM/synthesized/masks/8261/1.png\n"
     ]
    },
    {
     "name": "stderr",
     "output_type": "stream",
     "text": [
      " 23%|██▎       | 11560/49737 [14:48<55:29, 11.47it/s]"
     ]
    },
    {
     "name": "stdout",
     "output_type": "stream",
     "text": [
      "0.2716760173440498\n",
      "no match for /home/chuongh/vm2m/data/HHM/synthesized/masks/562/1.png\n"
     ]
    },
    {
     "name": "stderr",
     "output_type": "stream",
     "text": [
      " 23%|██▎       | 11566/49737 [14:49<54:32, 11.66it/s]  "
     ]
    },
    {
     "name": "stdout",
     "output_type": "stream",
     "text": [
      "0.11515120471026175\n",
      "no match for /home/chuongh/vm2m/data/HHM/synthesized/masks/32047/1.png\n"
     ]
    },
    {
     "name": "stderr",
     "output_type": "stream",
     "text": [
      " 23%|██▎       | 11573/49737 [14:49<41:56, 15.16it/s]"
     ]
    },
    {
     "name": "stdout",
     "output_type": "stream",
     "text": [
      "0.2930864761133431\n",
      "no match for /home/chuongh/vm2m/data/HHM/synthesized/masks/930/0.png\n"
     ]
    },
    {
     "name": "stderr",
     "output_type": "stream",
     "text": [
      " 23%|██▎       | 11580/49737 [14:49<32:32, 19.54it/s]"
     ]
    },
    {
     "name": "stdout",
     "output_type": "stream",
     "text": [
      "0.09462414183005068\n",
      "no match for /home/chuongh/vm2m/data/HHM/synthesized/masks/20145/0.png\n"
     ]
    },
    {
     "name": "stderr",
     "output_type": "stream",
     "text": [
      " 23%|██▎       | 11583/49737 [14:50<35:13, 18.05it/s]"
     ]
    },
    {
     "name": "stdout",
     "output_type": "stream",
     "text": [
      "0.116152703520999\n",
      "no match for /home/chuongh/vm2m/data/HHM/synthesized/masks/23412/0.png\n"
     ]
    },
    {
     "name": "stderr",
     "output_type": "stream",
     "text": [
      " 23%|██▎       | 11614/49737 [14:52<47:57, 13.25it/s]"
     ]
    },
    {
     "name": "stdout",
     "output_type": "stream",
     "text": [
      "0.11040570751054198\n",
      "no match for /home/chuongh/vm2m/data/HHM/synthesized/masks/17452/2.png\n"
     ]
    },
    {
     "name": "stderr",
     "output_type": "stream",
     "text": [
      " 23%|██▎       | 11629/49737 [14:53<51:56, 12.23it/s]"
     ]
    },
    {
     "name": "stdout",
     "output_type": "stream",
     "text": [
      "0.2890903258070806\n",
      "no match for /home/chuongh/vm2m/data/HHM/synthesized/masks/1533/0.png\n"
     ]
    },
    {
     "name": "stderr",
     "output_type": "stream",
     "text": [
      " 23%|██▎       | 11643/49737 [14:54<51:44, 12.27it/s]"
     ]
    },
    {
     "name": "stdout",
     "output_type": "stream",
     "text": [
      "0.008557082677296468\n",
      "no match for /home/chuongh/vm2m/data/HHM/synthesized/masks/19105/0.png\n"
     ]
    },
    {
     "name": "stderr",
     "output_type": "stream",
     "text": [
      " 23%|██▎       | 11656/49737 [14:56<1:02:09, 10.21it/s]"
     ]
    },
    {
     "name": "stdout",
     "output_type": "stream",
     "text": [
      "0.08169461390420028\n",
      "no match for /home/chuongh/vm2m/data/HHM/synthesized/masks/29208/2.png\n"
     ]
    },
    {
     "name": "stderr",
     "output_type": "stream",
     "text": [
      " 23%|██▎       | 11667/49737 [14:56<48:59, 12.95it/s]  "
     ]
    },
    {
     "name": "stdout",
     "output_type": "stream",
     "text": [
      "0\n",
      "no match for /home/chuongh/vm2m/data/HHM/synthesized/masks/38023/0.png\n"
     ]
    },
    {
     "name": "stderr",
     "output_type": "stream",
     "text": [
      " 23%|██▎       | 11688/49737 [14:58<56:49, 11.16it/s]  "
     ]
    },
    {
     "name": "stdout",
     "output_type": "stream",
     "text": [
      "0.027606634177072126\n",
      "no match for /home/chuongh/vm2m/data/HHM/synthesized/masks/4761/0.png\n"
     ]
    },
    {
     "name": "stderr",
     "output_type": "stream",
     "text": [
      " 24%|██▎       | 11694/49737 [14:58<47:44, 13.28it/s]"
     ]
    },
    {
     "name": "stdout",
     "output_type": "stream",
     "text": [
      "0.29060772009649605\n",
      "no match for /home/chuongh/vm2m/data/HHM/synthesized/masks/29861/1.png\n",
      "0.1894854143747204\n",
      "no match for /home/chuongh/vm2m/data/HHM/synthesized/masks/31717/0.png\n",
      "0.2705681385303501\n",
      "no match for /home/chuongh/vm2m/data/HHM/synthesized/masks/3015/2.png\n"
     ]
    },
    {
     "name": "stderr",
     "output_type": "stream",
     "text": [
      " 24%|██▎       | 11702/49737 [14:59<1:02:04, 10.21it/s]"
     ]
    },
    {
     "name": "stdout",
     "output_type": "stream",
     "text": [
      "0.025040134695906182\n",
      "no match for /home/chuongh/vm2m/data/HHM/synthesized/masks/31592/0.png\n"
     ]
    },
    {
     "name": "stderr",
     "output_type": "stream",
     "text": [
      " 24%|██▎       | 11710/49737 [15:00<44:57, 14.10it/s]  "
     ]
    },
    {
     "name": "stdout",
     "output_type": "stream",
     "text": [
      "0.06734854445300054\n",
      "no match for /home/chuongh/vm2m/data/HHM/synthesized/masks/16598/1.png\n"
     ]
    },
    {
     "name": "stderr",
     "output_type": "stream",
     "text": [
      " 24%|██▎       | 11727/49737 [15:01<51:43, 12.25it/s]"
     ]
    },
    {
     "name": "stdout",
     "output_type": "stream",
     "text": [
      "0.02271236599452738\n",
      "no match for /home/chuongh/vm2m/data/HHM/synthesized/masks/23330/0.png\n"
     ]
    },
    {
     "name": "stderr",
     "output_type": "stream",
     "text": [
      " 24%|██▎       | 11747/49737 [15:03<1:02:36, 10.11it/s]"
     ]
    },
    {
     "name": "stdout",
     "output_type": "stream",
     "text": [
      "0.1353069369178554\n",
      "no match for /home/chuongh/vm2m/data/HHM/synthesized/masks/12274/1.png\n"
     ]
    },
    {
     "name": "stderr",
     "output_type": "stream",
     "text": [
      " 24%|██▎       | 11780/49737 [15:05<41:04, 15.40it/s]  "
     ]
    },
    {
     "name": "stdout",
     "output_type": "stream",
     "text": [
      "0.02397987592447071\n",
      "no match for /home/chuongh/vm2m/data/HHM/synthesized/masks/10359/0.png\n"
     ]
    },
    {
     "name": "stderr",
     "output_type": "stream",
     "text": [
      " 24%|██▎       | 11788/49737 [15:06<59:15, 10.67it/s]  "
     ]
    },
    {
     "name": "stdout",
     "output_type": "stream",
     "text": [
      "0.24308421064865673\n",
      "no match for /home/chuongh/vm2m/data/HHM/synthesized/masks/16111/0.png\n"
     ]
    },
    {
     "name": "stderr",
     "output_type": "stream",
     "text": [
      " 24%|██▎       | 11800/49737 [15:07<53:15, 11.87it/s]  "
     ]
    },
    {
     "name": "stdout",
     "output_type": "stream",
     "text": [
      "0.04885956422037739\n",
      "no match for /home/chuongh/vm2m/data/HHM/synthesized/masks/1896/0.png\n"
     ]
    },
    {
     "name": "stderr",
     "output_type": "stream",
     "text": [
      " 24%|██▍       | 11844/49737 [15:11<1:00:51, 10.38it/s]"
     ]
    },
    {
     "name": "stdout",
     "output_type": "stream",
     "text": [
      "0.0017774717747193107\n",
      "no match for /home/chuongh/vm2m/data/HHM/synthesized/masks/42348/1.png\n"
     ]
    },
    {
     "name": "stderr",
     "output_type": "stream",
     "text": [
      " 24%|██▍       | 11854/49737 [15:12<1:03:42,  9.91it/s]"
     ]
    },
    {
     "name": "stdout",
     "output_type": "stream",
     "text": [
      "0.27415736554824627\n",
      "no match for /home/chuongh/vm2m/data/HHM/synthesized/masks/25765/3.png\n"
     ]
    },
    {
     "name": "stderr",
     "output_type": "stream",
     "text": [
      " 24%|██▍       | 11868/49737 [15:13<1:03:37,  9.92it/s]"
     ]
    },
    {
     "name": "stdout",
     "output_type": "stream",
     "text": [
      "0.2182745986090409\n",
      "no match for /home/chuongh/vm2m/data/HHM/synthesized/masks/40001/1.png\n"
     ]
    },
    {
     "name": "stderr",
     "output_type": "stream",
     "text": [
      " 24%|██▍       | 11879/49737 [15:14<51:26, 12.27it/s]  "
     ]
    },
    {
     "name": "stdout",
     "output_type": "stream",
     "text": [
      "0.1328622611459679\n",
      "no match for /home/chuongh/vm2m/data/HHM/synthesized/masks/27648/0.png\n",
      "0.0014494833862362029\n",
      "no match for /home/chuongh/vm2m/data/HHM/synthesized/masks/19459/1.png\n"
     ]
    },
    {
     "name": "stderr",
     "output_type": "stream",
     "text": [
      " 24%|██▍       | 11908/49737 [15:17<43:20, 14.54it/s]  "
     ]
    },
    {
     "name": "stdout",
     "output_type": "stream",
     "text": [
      "0.15937282665832825\n",
      "no match for /home/chuongh/vm2m/data/HHM/synthesized/masks/173/1.png\n"
     ]
    },
    {
     "name": "stderr",
     "output_type": "stream",
     "text": [
      " 24%|██▍       | 11934/49737 [15:19<36:53, 17.07it/s]  "
     ]
    },
    {
     "name": "stdout",
     "output_type": "stream",
     "text": [
      "0.17169589065175786\n",
      "no match for /home/chuongh/vm2m/data/HHM/synthesized/masks/34268/0.png\n"
     ]
    },
    {
     "name": "stderr",
     "output_type": "stream",
     "text": [
      " 24%|██▍       | 11943/49737 [15:19<40:56, 15.38it/s]"
     ]
    },
    {
     "name": "stdout",
     "output_type": "stream",
     "text": [
      "0\n",
      "no match for /home/chuongh/vm2m/data/HHM/synthesized/masks/32975/0.png\n"
     ]
    },
    {
     "name": "stderr",
     "output_type": "stream",
     "text": [
      " 24%|██▍       | 11947/49737 [15:20<38:12, 16.49it/s]"
     ]
    },
    {
     "name": "stdout",
     "output_type": "stream",
     "text": [
      "0.19056198416674316\n",
      "no match for /home/chuongh/vm2m/data/HHM/synthesized/masks/29771/0.png\n"
     ]
    },
    {
     "name": "stderr",
     "output_type": "stream",
     "text": [
      " 24%|██▍       | 11957/49737 [15:21<1:01:23, 10.26it/s]"
     ]
    },
    {
     "name": "stdout",
     "output_type": "stream",
     "text": [
      "0.08205062009434345\n",
      "no match for /home/chuongh/vm2m/data/HHM/synthesized/masks/3770/0.png\n"
     ]
    },
    {
     "name": "stderr",
     "output_type": "stream",
     "text": [
      " 24%|██▍       | 11965/49737 [15:21<51:13, 12.29it/s]  "
     ]
    },
    {
     "name": "stdout",
     "output_type": "stream",
     "text": [
      "0.007724691416924347\n",
      "no match for /home/chuongh/vm2m/data/HHM/synthesized/masks/475/0.png\n",
      "0.18058532188857476\n",
      "no match for /home/chuongh/vm2m/data/HHM/synthesized/masks/43111/0.png\n"
     ]
    },
    {
     "name": "stderr",
     "output_type": "stream",
     "text": [
      " 24%|██▍       | 12004/49737 [15:24<42:04, 14.95it/s]"
     ]
    },
    {
     "name": "stdout",
     "output_type": "stream",
     "text": [
      "0.006468761866455653\n",
      "no match for /home/chuongh/vm2m/data/HHM/synthesized/masks/2903/0.png\n"
     ]
    },
    {
     "name": "stderr",
     "output_type": "stream",
     "text": [
      " 24%|██▍       | 12016/49737 [15:25<1:05:00,  9.67it/s]"
     ]
    },
    {
     "name": "stdout",
     "output_type": "stream",
     "text": [
      "0.24763298900597894\n",
      "no match for /home/chuongh/vm2m/data/HHM/synthesized/masks/28938/2.png\n"
     ]
    },
    {
     "name": "stderr",
     "output_type": "stream",
     "text": [
      " 24%|██▍       | 12042/49737 [15:27<52:36, 11.94it/s]  "
     ]
    },
    {
     "name": "stdout",
     "output_type": "stream",
     "text": [
      "0.12710974879379\n",
      "no match for /home/chuongh/vm2m/data/HHM/synthesized/masks/1481/2.png\n"
     ]
    },
    {
     "name": "stderr",
     "output_type": "stream",
     "text": [
      " 24%|██▍       | 12072/49737 [15:30<48:38, 12.91it/s]  "
     ]
    },
    {
     "name": "stdout",
     "output_type": "stream",
     "text": [
      "0.28876034300729303\n",
      "no match for /home/chuongh/vm2m/data/HHM/synthesized/masks/47752/3.png\n"
     ]
    },
    {
     "name": "stderr",
     "output_type": "stream",
     "text": [
      " 24%|██▍       | 12112/49737 [15:33<40:08, 15.62it/s]"
     ]
    },
    {
     "name": "stdout",
     "output_type": "stream",
     "text": [
      "0.00396598533962124\n",
      "no match for /home/chuongh/vm2m/data/HHM/synthesized/masks/22804/1.png\n"
     ]
    },
    {
     "name": "stderr",
     "output_type": "stream",
     "text": [
      " 24%|██▍       | 12128/49737 [15:34<44:14, 14.17it/s]  "
     ]
    },
    {
     "name": "stdout",
     "output_type": "stream",
     "text": [
      "0.20673416708695985\n",
      "no match for /home/chuongh/vm2m/data/HHM/synthesized/masks/42640/0.png\n",
      "0.2086881861399282\n",
      "no match for /home/chuongh/vm2m/data/HHM/synthesized/masks/120/1.png\n"
     ]
    },
    {
     "name": "stderr",
     "output_type": "stream",
     "text": [
      " 24%|██▍       | 12173/49737 [15:37<47:19, 13.23it/s]  "
     ]
    },
    {
     "name": "stdout",
     "output_type": "stream",
     "text": [
      "0.012856735373998718\n",
      "no match for /home/chuongh/vm2m/data/HHM/synthesized/masks/39514/0.png\n"
     ]
    },
    {
     "name": "stderr",
     "output_type": "stream",
     "text": [
      " 24%|██▍       | 12181/49737 [15:38<46:18, 13.52it/s]"
     ]
    },
    {
     "name": "stdout",
     "output_type": "stream",
     "text": [
      "0.2938935065443724\n",
      "no match for /home/chuongh/vm2m/data/HHM/synthesized/masks/19490/1.png\n"
     ]
    },
    {
     "name": "stderr",
     "output_type": "stream",
     "text": [
      " 25%|██▍       | 12194/49737 [15:39<49:24, 12.66it/s]  "
     ]
    },
    {
     "name": "stdout",
     "output_type": "stream",
     "text": [
      "0.175160068579215\n",
      "no match for /home/chuongh/vm2m/data/HHM/synthesized/masks/49917/2.png\n"
     ]
    },
    {
     "name": "stderr",
     "output_type": "stream",
     "text": [
      " 25%|██▍       | 12228/49737 [15:42<53:56, 11.59it/s]"
     ]
    },
    {
     "name": "stdout",
     "output_type": "stream",
     "text": [
      "0.015406084002601792\n",
      "no match for /home/chuongh/vm2m/data/HHM/synthesized/masks/18402/0.png\n"
     ]
    },
    {
     "name": "stderr",
     "output_type": "stream",
     "text": [
      " 25%|██▍       | 12311/49737 [15:49<50:57, 12.24it/s]  "
     ]
    },
    {
     "name": "stdout",
     "output_type": "stream",
     "text": [
      "0.20493553596571323\n",
      "no match for /home/chuongh/vm2m/data/HHM/synthesized/masks/20802/0.png\n"
     ]
    },
    {
     "name": "stderr",
     "output_type": "stream",
     "text": [
      " 25%|██▍       | 12324/49737 [15:50<44:59, 13.86it/s]"
     ]
    },
    {
     "name": "stdout",
     "output_type": "stream",
     "text": [
      "0.15124617498412174\n",
      "no match for /home/chuongh/vm2m/data/HHM/synthesized/masks/7445/2.png\n",
      "0.15874019731820543\n",
      "no match for /home/chuongh/vm2m/data/HHM/synthesized/masks/9964/0.png\n"
     ]
    },
    {
     "name": "stderr",
     "output_type": "stream",
     "text": [
      " 25%|██▍       | 12328/49737 [15:50<46:44, 13.34it/s]"
     ]
    },
    {
     "name": "stdout",
     "output_type": "stream",
     "text": [
      "0.26058963664963236\n",
      "no match for /home/chuongh/vm2m/data/HHM/synthesized/masks/45760/0.png\n"
     ]
    },
    {
     "name": "stderr",
     "output_type": "stream",
     "text": [
      " 25%|██▍       | 12345/49737 [15:51<34:51, 17.88it/s]"
     ]
    },
    {
     "name": "stdout",
     "output_type": "stream",
     "text": [
      "3.154056747779058e-05\n",
      "no match for /home/chuongh/vm2m/data/HHM/synthesized/masks/36461/0.png\n"
     ]
    },
    {
     "name": "stderr",
     "output_type": "stream",
     "text": [
      " 25%|██▍       | 12359/49737 [15:52<54:59, 11.33it/s]"
     ]
    },
    {
     "name": "stdout",
     "output_type": "stream",
     "text": [
      "0.23945726895940925\n",
      "no match for /home/chuongh/vm2m/data/HHM/synthesized/masks/34877/1.png\n"
     ]
    },
    {
     "name": "stderr",
     "output_type": "stream",
     "text": [
      " 25%|██▍       | 12392/49737 [15:55<43:50, 14.20it/s]"
     ]
    },
    {
     "name": "stdout",
     "output_type": "stream",
     "text": [
      "0.21638863326500796\n",
      "no match for /home/chuongh/vm2m/data/HHM/synthesized/masks/29949/1.png\n"
     ]
    },
    {
     "name": "stderr",
     "output_type": "stream",
     "text": [
      " 25%|██▍       | 12412/49737 [15:56<44:29, 13.98it/s]"
     ]
    },
    {
     "name": "stdout",
     "output_type": "stream",
     "text": [
      "0\n",
      "no match for /home/chuongh/vm2m/data/HHM/synthesized/masks/15004/1.png\n",
      "0.24204610236474458\n",
      "no match for /home/chuongh/vm2m/data/HHM/synthesized/masks/45629/2.png\n"
     ]
    },
    {
     "name": "stderr",
     "output_type": "stream",
     "text": [
      " 25%|██▍       | 12421/49737 [15:57<45:03, 13.80it/s]"
     ]
    },
    {
     "name": "stdout",
     "output_type": "stream",
     "text": [
      "0\n",
      "no match for /home/chuongh/vm2m/data/HHM/synthesized/masks/19969/0.png\n"
     ]
    },
    {
     "name": "stderr",
     "output_type": "stream",
     "text": [
      " 25%|██▌       | 12459/49737 [16:00<46:00, 13.50it/s]"
     ]
    },
    {
     "name": "stdout",
     "output_type": "stream",
     "text": [
      "0.19414988282076387\n",
      "no match for /home/chuongh/vm2m/data/HHM/synthesized/masks/15094/1.png\n",
      "0.07214533187987607\n",
      "no match for /home/chuongh/vm2m/data/HHM/synthesized/masks/14110/0.png\n"
     ]
    },
    {
     "name": "stderr",
     "output_type": "stream",
     "text": [
      " 25%|██▌       | 12471/49737 [16:00<42:26, 14.63it/s]"
     ]
    },
    {
     "name": "stdout",
     "output_type": "stream",
     "text": [
      "0.022132716097463853\n",
      "no match for /home/chuongh/vm2m/data/HHM/synthesized/masks/34026/0.png\n"
     ]
    },
    {
     "name": "stderr",
     "output_type": "stream",
     "text": [
      " 25%|██▌       | 12497/49737 [16:02<37:13, 16.68it/s]"
     ]
    },
    {
     "name": "stdout",
     "output_type": "stream",
     "text": [
      "0.012055055995448701\n",
      "no match for /home/chuongh/vm2m/data/HHM/synthesized/masks/38603/1.png\n"
     ]
    },
    {
     "name": "stderr",
     "output_type": "stream",
     "text": [
      " 25%|██▌       | 12504/49737 [16:03<46:56, 13.22it/s]"
     ]
    },
    {
     "name": "stdout",
     "output_type": "stream",
     "text": [
      "0.012632046324856596\n",
      "no match for /home/chuongh/vm2m/data/HHM/synthesized/masks/8242/0.png\n"
     ]
    },
    {
     "name": "stderr",
     "output_type": "stream",
     "text": [
      " 25%|██▌       | 12510/49737 [16:03<49:06, 12.63it/s]"
     ]
    },
    {
     "name": "stdout",
     "output_type": "stream",
     "text": [
      "0.1726141609186639\n",
      "no match for /home/chuongh/vm2m/data/HHM/synthesized/masks/45408/2.png\n"
     ]
    },
    {
     "name": "stderr",
     "output_type": "stream",
     "text": [
      " 25%|██▌       | 12529/49737 [16:05<48:09, 12.88it/s]"
     ]
    },
    {
     "name": "stdout",
     "output_type": "stream",
     "text": [
      "0.08752185208340758\n",
      "no match for /home/chuongh/vm2m/data/HHM/synthesized/masks/6674/3.png\n"
     ]
    },
    {
     "name": "stderr",
     "output_type": "stream",
     "text": [
      " 25%|██▌       | 12550/49737 [16:06<46:02, 13.46it/s]"
     ]
    },
    {
     "name": "stdout",
     "output_type": "stream",
     "text": [
      "0.13701639582191238\n",
      "no match for /home/chuongh/vm2m/data/HHM/synthesized/masks/48475/0.png\n"
     ]
    },
    {
     "name": "stderr",
     "output_type": "stream",
     "text": [
      " 25%|██▌       | 12557/49737 [16:07<55:43, 11.12it/s]"
     ]
    },
    {
     "name": "stdout",
     "output_type": "stream",
     "text": [
      "0.1421993762517502\n",
      "no match for /home/chuongh/vm2m/data/HHM/synthesized/masks/38080/3.png\n"
     ]
    },
    {
     "name": "stderr",
     "output_type": "stream",
     "text": [
      " 25%|██▌       | 12576/49737 [16:08<39:11, 15.80it/s]"
     ]
    },
    {
     "name": "stdout",
     "output_type": "stream",
     "text": [
      "0\n",
      "no match for /home/chuongh/vm2m/data/HHM/synthesized/masks/45839/1.png\n"
     ]
    },
    {
     "name": "stderr",
     "output_type": "stream",
     "text": [
      " 25%|██▌       | 12623/49737 [16:12<1:00:38, 10.20it/s]"
     ]
    },
    {
     "name": "stdout",
     "output_type": "stream",
     "text": [
      "0.031214416967104426\n",
      "no match for /home/chuongh/vm2m/data/HHM/synthesized/masks/5715/2.png\n"
     ]
    },
    {
     "name": "stderr",
     "output_type": "stream",
     "text": [
      " 25%|██▌       | 12636/49737 [16:13<45:57, 13.46it/s]  "
     ]
    },
    {
     "name": "stdout",
     "output_type": "stream",
     "text": [
      "0.27608886367264984\n",
      "no match for /home/chuongh/vm2m/data/HHM/synthesized/masks/41820/1.png\n"
     ]
    },
    {
     "name": "stderr",
     "output_type": "stream",
     "text": [
      " 26%|██▌       | 12689/49737 [16:18<50:16, 12.28it/s]  "
     ]
    },
    {
     "name": "stdout",
     "output_type": "stream",
     "text": [
      "0.13928068854888873\n",
      "no match for /home/chuongh/vm2m/data/HHM/synthesized/masks/29728/0.png\n"
     ]
    },
    {
     "name": "stderr",
     "output_type": "stream",
     "text": [
      " 26%|██▌       | 12710/49737 [16:19<45:26, 13.58it/s]"
     ]
    },
    {
     "name": "stdout",
     "output_type": "stream",
     "text": [
      "0.011978878457317078\n",
      "no match for /home/chuongh/vm2m/data/HHM/synthesized/masks/28554/0.png\n"
     ]
    },
    {
     "name": "stderr",
     "output_type": "stream",
     "text": [
      " 26%|██▌       | 12732/49737 [16:21<43:26, 14.20it/s]"
     ]
    },
    {
     "name": "stdout",
     "output_type": "stream",
     "text": [
      "0.04764085628294826\n",
      "no match for /home/chuongh/vm2m/data/HHM/synthesized/masks/2869/0.png\n"
     ]
    },
    {
     "name": "stderr",
     "output_type": "stream",
     "text": [
      " 26%|██▌       | 12818/49737 [16:27<46:18, 13.29it/s]"
     ]
    },
    {
     "name": "stdout",
     "output_type": "stream",
     "text": [
      "0.054092004811326914\n",
      "no match for /home/chuongh/vm2m/data/HHM/synthesized/masks/37425/1.png\n",
      "0.0022241786756754954\n",
      "no match for /home/chuongh/vm2m/data/HHM/synthesized/masks/20425/1.png\n",
      "0.006389433465416998\n",
      "no match for /home/chuongh/vm2m/data/HHM/synthesized/masks/20425/2.png\n"
     ]
    },
    {
     "name": "stderr",
     "output_type": "stream",
     "text": [
      " 26%|██▌       | 12834/49737 [16:28<37:25, 16.43it/s]"
     ]
    },
    {
     "name": "stdout",
     "output_type": "stream",
     "text": [
      "0.2803667920009202\n",
      "no match for /home/chuongh/vm2m/data/HHM/synthesized/masks/21209/1.png\n"
     ]
    },
    {
     "name": "stderr",
     "output_type": "stream",
     "text": [
      " 26%|██▌       | 12839/49737 [16:29<39:12, 15.68it/s]"
     ]
    },
    {
     "name": "stdout",
     "output_type": "stream",
     "text": [
      "0.016106471238233472\n",
      "no match for /home/chuongh/vm2m/data/HHM/synthesized/masks/35854/1.png\n"
     ]
    },
    {
     "name": "stderr",
     "output_type": "stream",
     "text": [
      " 26%|██▌       | 12849/49737 [16:30<53:50, 11.42it/s]"
     ]
    },
    {
     "name": "stdout",
     "output_type": "stream",
     "text": [
      "0.06831377045474858\n",
      "no match for /home/chuongh/vm2m/data/HHM/synthesized/masks/6763/0.png\n"
     ]
    },
    {
     "name": "stderr",
     "output_type": "stream",
     "text": [
      " 26%|██▌       | 12862/49737 [16:31<51:52, 11.85it/s]"
     ]
    },
    {
     "name": "stdout",
     "output_type": "stream",
     "text": [
      "0.004383442581386472\n",
      "no match for /home/chuongh/vm2m/data/HHM/synthesized/masks/44442/0.png\n",
      "0.2512319684606695\n",
      "no match for /home/chuongh/vm2m/data/HHM/synthesized/masks/32563/1.png\n"
     ]
    },
    {
     "name": "stderr",
     "output_type": "stream",
     "text": [
      " 26%|██▌       | 12866/49737 [16:31<42:41, 14.39it/s]"
     ]
    },
    {
     "name": "stdout",
     "output_type": "stream",
     "text": [
      "0.07816257275749443\n",
      "no match for /home/chuongh/vm2m/data/HHM/synthesized/masks/41217/0.png\n"
     ]
    },
    {
     "name": "stderr",
     "output_type": "stream",
     "text": [
      " 26%|██▌       | 12874/49737 [16:32<56:35, 10.86it/s]  "
     ]
    },
    {
     "name": "stdout",
     "output_type": "stream",
     "text": [
      "0.02476417968644728\n",
      "no match for /home/chuongh/vm2m/data/HHM/synthesized/masks/16978/0.png\n"
     ]
    },
    {
     "name": "stderr",
     "output_type": "stream",
     "text": [
      " 26%|██▌       | 12920/49737 [16:35<43:28, 14.12it/s]  "
     ]
    },
    {
     "name": "stdout",
     "output_type": "stream",
     "text": [
      "0.2573486858413039\n",
      "no match for /home/chuongh/vm2m/data/HHM/synthesized/masks/20136/1.png\n"
     ]
    },
    {
     "name": "stderr",
     "output_type": "stream",
     "text": [
      " 26%|██▌       | 12989/49737 [16:40<35:18, 17.35it/s]"
     ]
    },
    {
     "name": "stdout",
     "output_type": "stream",
     "text": [
      "0.20566729580515775\n",
      "no match for /home/chuongh/vm2m/data/HHM/synthesized/masks/17859/0.png\n",
      "0.046581033085100636\n",
      "no match for /home/chuongh/vm2m/data/HHM/synthesized/masks/26999/1.png\n"
     ]
    },
    {
     "name": "stderr",
     "output_type": "stream",
     "text": [
      " 26%|██▌       | 13000/49737 [16:41<38:38, 15.85it/s]"
     ]
    },
    {
     "name": "stdout",
     "output_type": "stream",
     "text": [
      "0.2895747280692601\n",
      "no match for /home/chuongh/vm2m/data/HHM/synthesized/masks/31577/0.png\n",
      "0.1995692961903666\n",
      "no match for /home/chuongh/vm2m/data/HHM/synthesized/masks/45262/0.png\n"
     ]
    },
    {
     "name": "stderr",
     "output_type": "stream",
     "text": [
      " 26%|██▌       | 13017/49737 [16:42<41:31, 14.74it/s]"
     ]
    },
    {
     "name": "stdout",
     "output_type": "stream",
     "text": [
      "0.25160532527713375\n",
      "no match for /home/chuongh/vm2m/data/HHM/synthesized/masks/46847/0.png\n"
     ]
    },
    {
     "name": "stderr",
     "output_type": "stream",
     "text": [
      " 26%|██▌       | 13046/49737 [16:44<51:13, 11.94it/s]  "
     ]
    },
    {
     "name": "stdout",
     "output_type": "stream",
     "text": [
      "0.01261320252151901\n",
      "no match for /home/chuongh/vm2m/data/HHM/synthesized/masks/3381/0.png\n"
     ]
    },
    {
     "name": "stderr",
     "output_type": "stream",
     "text": [
      " 26%|██▌       | 13050/49737 [16:45<50:08, 12.19it/s]"
     ]
    },
    {
     "name": "stdout",
     "output_type": "stream",
     "text": [
      "0.1520511365702684\n",
      "no match for /home/chuongh/vm2m/data/HHM/synthesized/masks/11445/1.png\n"
     ]
    },
    {
     "name": "stderr",
     "output_type": "stream",
     "text": [
      " 26%|██▋       | 13066/49737 [16:46<42:04, 14.53it/s]"
     ]
    },
    {
     "name": "stdout",
     "output_type": "stream",
     "text": [
      "0\n",
      "no match for /home/chuongh/vm2m/data/HHM/synthesized/masks/17865/0.png\n"
     ]
    },
    {
     "name": "stderr",
     "output_type": "stream",
     "text": [
      " 26%|██▋       | 13073/49737 [16:46<43:50, 13.94it/s]"
     ]
    },
    {
     "name": "stdout",
     "output_type": "stream",
     "text": [
      "0.007396770347882512\n",
      "no match for /home/chuongh/vm2m/data/HHM/synthesized/masks/7474/0.png\n"
     ]
    },
    {
     "name": "stderr",
     "output_type": "stream",
     "text": [
      " 26%|██▋       | 13131/49737 [16:51<53:56, 11.31it/s]  "
     ]
    },
    {
     "name": "stdout",
     "output_type": "stream",
     "text": [
      "0\n",
      "no match for /home/chuongh/vm2m/data/HHM/synthesized/masks/1923/1.png\n"
     ]
    },
    {
     "name": "stderr",
     "output_type": "stream",
     "text": [
      " 27%|██▋       | 13212/49737 [16:57<50:14, 12.12it/s]  "
     ]
    },
    {
     "name": "stdout",
     "output_type": "stream",
     "text": [
      "0.23389450286513735\n",
      "no match for /home/chuongh/vm2m/data/HHM/synthesized/masks/39754/1.png\n"
     ]
    },
    {
     "name": "stderr",
     "output_type": "stream",
     "text": [
      " 27%|██▋       | 13315/49737 [17:05<31:17, 19.39it/s]  "
     ]
    },
    {
     "name": "stdout",
     "output_type": "stream",
     "text": [
      "0\n",
      "no match for /home/chuongh/vm2m/data/HHM/synthesized/masks/9703/0.png\n",
      "0.17814595113800266\n",
      "no match for /home/chuongh/vm2m/data/HHM/synthesized/masks/17552/0.png\n"
     ]
    },
    {
     "name": "stderr",
     "output_type": "stream",
     "text": [
      " 27%|██▋       | 13322/49737 [17:06<37:46, 16.07it/s]"
     ]
    },
    {
     "name": "stdout",
     "output_type": "stream",
     "text": [
      "0\n",
      "no match for /home/chuongh/vm2m/data/HHM/synthesized/masks/19261/0.png\n"
     ]
    },
    {
     "name": "stderr",
     "output_type": "stream",
     "text": [
      " 27%|██▋       | 13326/49737 [17:06<52:50, 11.48it/s]"
     ]
    },
    {
     "name": "stdout",
     "output_type": "stream",
     "text": [
      "0.15926991834487636\n",
      "no match for /home/chuongh/vm2m/data/HHM/synthesized/masks/33817/1.png\n"
     ]
    },
    {
     "name": "stderr",
     "output_type": "stream",
     "text": [
      " 27%|██▋       | 13339/49737 [17:07<46:17, 13.10it/s]"
     ]
    },
    {
     "name": "stdout",
     "output_type": "stream",
     "text": [
      "0.20806379709789008\n",
      "no match for /home/chuongh/vm2m/data/HHM/synthesized/masks/44649/1.png\n"
     ]
    },
    {
     "name": "stderr",
     "output_type": "stream",
     "text": [
      " 27%|██▋       | 13396/49737 [17:12<51:42, 11.71it/s]  "
     ]
    },
    {
     "name": "stdout",
     "output_type": "stream",
     "text": [
      "0.2740216162098805\n",
      "no match for /home/chuongh/vm2m/data/HHM/synthesized/masks/42935/1.png\n"
     ]
    },
    {
     "name": "stderr",
     "output_type": "stream",
     "text": [
      " 27%|██▋       | 13400/49737 [17:12<43:49, 13.82it/s]"
     ]
    },
    {
     "name": "stdout",
     "output_type": "stream",
     "text": [
      "0.2806621259852638\n",
      "no match for /home/chuongh/vm2m/data/HHM/synthesized/masks/14768/2.png\n"
     ]
    },
    {
     "name": "stderr",
     "output_type": "stream",
     "text": [
      " 27%|██▋       | 13404/49737 [17:13<46:40, 12.98it/s]"
     ]
    },
    {
     "name": "stdout",
     "output_type": "stream",
     "text": [
      "0.1293262639845322\n",
      "no match for /home/chuongh/vm2m/data/HHM/synthesized/masks/34384/1.png\n"
     ]
    },
    {
     "name": "stderr",
     "output_type": "stream",
     "text": [
      " 27%|██▋       | 13432/49737 [17:15<50:11, 12.06it/s]"
     ]
    },
    {
     "name": "stdout",
     "output_type": "stream",
     "text": [
      "0.11251509601183429\n",
      "no match for /home/chuongh/vm2m/data/HHM/synthesized/masks/9161/1.png\n"
     ]
    },
    {
     "name": "stderr",
     "output_type": "stream",
     "text": [
      " 27%|██▋       | 13442/49737 [17:16<56:51, 10.64it/s]"
     ]
    },
    {
     "name": "stdout",
     "output_type": "stream",
     "text": [
      "0.29160197413964467\n",
      "no match for /home/chuongh/vm2m/data/HHM/synthesized/masks/25585/0.png\n"
     ]
    },
    {
     "name": "stderr",
     "output_type": "stream",
     "text": [
      " 27%|██▋       | 13467/49737 [17:18<43:00, 14.05it/s]"
     ]
    },
    {
     "name": "stdout",
     "output_type": "stream",
     "text": [
      "0.003040930600643309\n",
      "no match for /home/chuongh/vm2m/data/HHM/synthesized/masks/47072/1.png\n"
     ]
    },
    {
     "name": "stderr",
     "output_type": "stream",
     "text": [
      " 27%|██▋       | 13478/49737 [17:18<44:50, 13.47it/s]"
     ]
    },
    {
     "name": "stdout",
     "output_type": "stream",
     "text": [
      "0.08891897933414461\n",
      "no match for /home/chuongh/vm2m/data/HHM/synthesized/masks/30666/0.png\n",
      "0.005293004029433735\n",
      "no match for /home/chuongh/vm2m/data/HHM/synthesized/masks/30666/2.png\n"
     ]
    },
    {
     "name": "stderr",
     "output_type": "stream",
     "text": [
      " 27%|██▋       | 13501/49737 [17:20<56:11, 10.75it/s]  "
     ]
    },
    {
     "name": "stdout",
     "output_type": "stream",
     "text": [
      "0.007365329789254827\n",
      "no match for /home/chuongh/vm2m/data/HHM/synthesized/masks/35761/2.png\n",
      "0\n",
      "no match for /home/chuongh/vm2m/data/HHM/synthesized/masks/45270/0.png\n",
      "0.14127304874917448\n",
      "no match for /home/chuongh/vm2m/data/HHM/synthesized/masks/6914/2.png\n"
     ]
    },
    {
     "name": "stderr",
     "output_type": "stream",
     "text": [
      " 27%|██▋       | 13509/49737 [17:21<48:32, 12.44it/s]"
     ]
    },
    {
     "name": "stdout",
     "output_type": "stream",
     "text": [
      "0.026279319010464056\n",
      "no match for /home/chuongh/vm2m/data/HHM/synthesized/masks/26683/0.png\n"
     ]
    },
    {
     "name": "stderr",
     "output_type": "stream",
     "text": [
      " 27%|██▋       | 13541/49737 [17:23<59:53, 10.07it/s]"
     ]
    },
    {
     "name": "stdout",
     "output_type": "stream",
     "text": [
      "9.072791002183298e-05\n",
      "no match for /home/chuongh/vm2m/data/HHM/synthesized/masks/49773/0.png\n"
     ]
    },
    {
     "name": "stderr",
     "output_type": "stream",
     "text": [
      " 27%|██▋       | 13566/49737 [17:25<33:14, 18.14it/s]"
     ]
    },
    {
     "name": "stdout",
     "output_type": "stream",
     "text": [
      "0.24209717635894037\n",
      "no match for /home/chuongh/vm2m/data/HHM/synthesized/masks/28345/0.png\n"
     ]
    },
    {
     "name": "stderr",
     "output_type": "stream",
     "text": [
      " 27%|██▋       | 13584/49737 [17:26<43:20, 13.90it/s]"
     ]
    },
    {
     "name": "stdout",
     "output_type": "stream",
     "text": [
      "0.2704628455363381\n",
      "no match for /home/chuongh/vm2m/data/HHM/synthesized/masks/6448/1.png\n"
     ]
    },
    {
     "name": "stderr",
     "output_type": "stream",
     "text": [
      " 27%|██▋       | 13598/49737 [17:28<48:38, 12.38it/s]"
     ]
    },
    {
     "name": "stdout",
     "output_type": "stream",
     "text": [
      "0.015652152961573913\n",
      "no match for /home/chuongh/vm2m/data/HHM/synthesized/masks/26221/3.png\n",
      "0.27207853122396114\n",
      "no match for /home/chuongh/vm2m/data/HHM/synthesized/masks/26221/2.png\n"
     ]
    },
    {
     "name": "stderr",
     "output_type": "stream",
     "text": [
      " 27%|██▋       | 13618/49737 [17:29<39:26, 15.26it/s]  "
     ]
    },
    {
     "name": "stdout",
     "output_type": "stream",
     "text": [
      "0.048429553412276054\n",
      "no match for /home/chuongh/vm2m/data/HHM/synthesized/masks/8330/0.png\n"
     ]
    },
    {
     "name": "stderr",
     "output_type": "stream",
     "text": [
      " 27%|██▋       | 13648/49737 [17:32<43:45, 13.75it/s]"
     ]
    },
    {
     "name": "stdout",
     "output_type": "stream",
     "text": [
      "0.19065798086875882\n",
      "no match for /home/chuongh/vm2m/data/HHM/synthesized/masks/5954/0.png\n"
     ]
    },
    {
     "name": "stderr",
     "output_type": "stream",
     "text": [
      " 27%|██▋       | 13656/49737 [17:32<41:28, 14.50it/s]"
     ]
    },
    {
     "name": "stdout",
     "output_type": "stream",
     "text": [
      "0.2641522453971987\n",
      "no match for /home/chuongh/vm2m/data/HHM/synthesized/masks/27336/2.png\n"
     ]
    },
    {
     "name": "stderr",
     "output_type": "stream",
     "text": [
      " 27%|██▋       | 13663/49737 [17:33<47:17, 12.71it/s]"
     ]
    },
    {
     "name": "stdout",
     "output_type": "stream",
     "text": [
      "0.0786355757500395\n",
      "no match for /home/chuongh/vm2m/data/HHM/synthesized/masks/44011/0.png\n"
     ]
    },
    {
     "name": "stderr",
     "output_type": "stream",
     "text": [
      " 28%|██▊       | 13681/49737 [17:34<39:27, 15.23it/s]"
     ]
    },
    {
     "name": "stdout",
     "output_type": "stream",
     "text": [
      "0.06549749463103612\n",
      "no match for /home/chuongh/vm2m/data/HHM/synthesized/masks/21309/0.png\n"
     ]
    },
    {
     "name": "stderr",
     "output_type": "stream",
     "text": [
      " 28%|██▊       | 13692/49737 [17:35<47:02, 12.77it/s]"
     ]
    },
    {
     "name": "stdout",
     "output_type": "stream",
     "text": [
      "0.255697631312017\n",
      "no match for /home/chuongh/vm2m/data/HHM/synthesized/masks/49576/0.png\n"
     ]
    },
    {
     "name": "stderr",
     "output_type": "stream",
     "text": [
      " 28%|██▊       | 13696/49737 [17:35<42:06, 14.27it/s]"
     ]
    },
    {
     "name": "stdout",
     "output_type": "stream",
     "text": [
      "0.012929978557825107\n",
      "no match for /home/chuongh/vm2m/data/HHM/synthesized/masks/6850/0.png\n"
     ]
    },
    {
     "name": "stderr",
     "output_type": "stream",
     "text": [
      " 28%|██▊       | 13712/49737 [17:36<43:06, 13.93it/s]"
     ]
    },
    {
     "name": "stdout",
     "output_type": "stream",
     "text": [
      "0.014705682528417039\n",
      "no match for /home/chuongh/vm2m/data/HHM/synthesized/masks/36449/1.png\n"
     ]
    },
    {
     "name": "stderr",
     "output_type": "stream",
     "text": [
      " 28%|██▊       | 13740/49737 [17:38<44:33, 13.47it/s]"
     ]
    },
    {
     "name": "stdout",
     "output_type": "stream",
     "text": [
      "0.012764967480645987\n",
      "no match for /home/chuongh/vm2m/data/HHM/synthesized/masks/11086/1.png\n"
     ]
    },
    {
     "name": "stderr",
     "output_type": "stream",
     "text": [
      " 28%|██▊       | 13775/49737 [17:41<56:02, 10.70it/s]"
     ]
    },
    {
     "name": "stdout",
     "output_type": "stream",
     "text": [
      "0.008853732085182352\n",
      "no match for /home/chuongh/vm2m/data/HHM/synthesized/masks/6028/1.png\n"
     ]
    },
    {
     "name": "stderr",
     "output_type": "stream",
     "text": [
      " 28%|██▊       | 13817/49737 [17:45<52:35, 11.38it/s]  "
     ]
    },
    {
     "name": "stdout",
     "output_type": "stream",
     "text": [
      "0\n",
      "no match for /home/chuongh/vm2m/data/HHM/synthesized/masks/22275/0.png\n"
     ]
    },
    {
     "name": "stderr",
     "output_type": "stream",
     "text": [
      " 28%|██▊       | 13854/49737 [17:47<44:36, 13.41it/s]  "
     ]
    },
    {
     "name": "stdout",
     "output_type": "stream",
     "text": [
      "0.28537072304984806\n",
      "no match for /home/chuongh/vm2m/data/HHM/synthesized/masks/15392/1.png\n"
     ]
    },
    {
     "name": "stderr",
     "output_type": "stream",
     "text": [
      " 28%|██▊       | 13884/49737 [17:50<49:21, 12.11it/s]"
     ]
    },
    {
     "name": "stdout",
     "output_type": "stream",
     "text": [
      "0\n",
      "no match for /home/chuongh/vm2m/data/HHM/synthesized/masks/14635/0.png\n"
     ]
    },
    {
     "name": "stderr",
     "output_type": "stream",
     "text": [
      " 28%|██▊       | 13898/49737 [17:51<47:16, 12.64it/s]"
     ]
    },
    {
     "name": "stdout",
     "output_type": "stream",
     "text": [
      "0.12692359750211288\n",
      "no match for /home/chuongh/vm2m/data/HHM/synthesized/masks/15358/1.png\n"
     ]
    },
    {
     "name": "stderr",
     "output_type": "stream",
     "text": [
      " 28%|██▊       | 13923/49737 [17:53<52:17, 11.42it/s]"
     ]
    },
    {
     "name": "stdout",
     "output_type": "stream",
     "text": [
      "0.22407313687305705\n",
      "no match for /home/chuongh/vm2m/data/HHM/synthesized/masks/8733/1.png\n"
     ]
    },
    {
     "name": "stderr",
     "output_type": "stream",
     "text": [
      " 28%|██▊       | 13940/49737 [17:54<45:06, 13.22it/s]"
     ]
    },
    {
     "name": "stdout",
     "output_type": "stream",
     "text": [
      "0.2553083162328144\n",
      "no match for /home/chuongh/vm2m/data/HHM/synthesized/masks/36733/0.png\n"
     ]
    },
    {
     "name": "stderr",
     "output_type": "stream",
     "text": [
      " 28%|██▊       | 13961/49737 [17:56<39:58, 14.91it/s]"
     ]
    },
    {
     "name": "stdout",
     "output_type": "stream",
     "text": [
      "0.20707897366409217\n",
      "no match for /home/chuongh/vm2m/data/HHM/synthesized/masks/44040/0.png\n"
     ]
    },
    {
     "name": "stderr",
     "output_type": "stream",
     "text": [
      " 28%|██▊       | 14025/49737 [18:01<47:05, 12.64it/s]"
     ]
    },
    {
     "name": "stdout",
     "output_type": "stream",
     "text": [
      "0.24121944959653416\n",
      "no match for /home/chuongh/vm2m/data/HHM/synthesized/masks/39280/2.png\n"
     ]
    },
    {
     "name": "stderr",
     "output_type": "stream",
     "text": [
      " 28%|██▊       | 14054/49737 [18:03<59:23, 10.01it/s]"
     ]
    },
    {
     "name": "stdout",
     "output_type": "stream",
     "text": [
      "0.08566555602700916\n",
      "no match for /home/chuongh/vm2m/data/HHM/synthesized/masks/45981/3.png\n"
     ]
    },
    {
     "name": "stderr",
     "output_type": "stream",
     "text": [
      " 28%|██▊       | 14072/49737 [18:05<37:47, 15.73it/s]"
     ]
    },
    {
     "name": "stdout",
     "output_type": "stream",
     "text": [
      "0.051685165304189144\n",
      "no match for /home/chuongh/vm2m/data/HHM/synthesized/masks/21319/0.png\n"
     ]
    },
    {
     "name": "stderr",
     "output_type": "stream",
     "text": [
      " 28%|██▊       | 14077/49737 [18:05<43:32, 13.65it/s]"
     ]
    },
    {
     "name": "stdout",
     "output_type": "stream",
     "text": [
      "0.0006626696118633331\n",
      "no match for /home/chuongh/vm2m/data/HHM/synthesized/masks/5354/0.png\n"
     ]
    },
    {
     "name": "stderr",
     "output_type": "stream",
     "text": [
      " 28%|██▊       | 14127/49737 [18:09<44:34, 13.31it/s]"
     ]
    },
    {
     "name": "stdout",
     "output_type": "stream",
     "text": [
      "0.09233086488885618\n",
      "no match for /home/chuongh/vm2m/data/HHM/synthesized/masks/13045/0.png\n",
      "0.23275628472632487\n",
      "no match for /home/chuongh/vm2m/data/HHM/synthesized/masks/21947/1.png\n"
     ]
    },
    {
     "name": "stderr",
     "output_type": "stream",
     "text": [
      " 28%|██▊       | 14158/49737 [18:11<47:08, 12.58it/s]"
     ]
    },
    {
     "name": "stdout",
     "output_type": "stream",
     "text": [
      "0.013098300663008178\n",
      "no match for /home/chuongh/vm2m/data/HHM/synthesized/masks/3503/3.png\n"
     ]
    },
    {
     "name": "stderr",
     "output_type": "stream",
     "text": [
      " 28%|██▊       | 14164/49737 [18:12<50:02, 11.85it/s]"
     ]
    },
    {
     "name": "stdout",
     "output_type": "stream",
     "text": [
      "0.0013753894691445208\n",
      "no match for /home/chuongh/vm2m/data/HHM/synthesized/masks/30164/0.png\n"
     ]
    },
    {
     "name": "stderr",
     "output_type": "stream",
     "text": [
      " 29%|██▊       | 14179/49737 [18:13<38:55, 15.22it/s]"
     ]
    },
    {
     "name": "stdout",
     "output_type": "stream",
     "text": [
      "0.22044997730629512\n",
      "no match for /home/chuongh/vm2m/data/HHM/synthesized/masks/18467/1.png\n"
     ]
    },
    {
     "name": "stderr",
     "output_type": "stream",
     "text": [
      " 29%|██▊       | 14202/49737 [18:15<58:58, 10.04it/s]"
     ]
    },
    {
     "name": "stdout",
     "output_type": "stream",
     "text": [
      "0.26950092327732156\n",
      "no match for /home/chuongh/vm2m/data/HHM/synthesized/masks/43445/2.png\n"
     ]
    },
    {
     "name": "stderr",
     "output_type": "stream",
     "text": [
      " 29%|██▊       | 14219/49737 [18:16<34:30, 17.15it/s]"
     ]
    },
    {
     "name": "stdout",
     "output_type": "stream",
     "text": [
      "0\n",
      "no match for /home/chuongh/vm2m/data/HHM/synthesized/masks/17945/1.png\n"
     ]
    },
    {
     "name": "stderr",
     "output_type": "stream",
     "text": [
      " 29%|██▊       | 14229/49737 [18:17<47:30, 12.46it/s]"
     ]
    },
    {
     "name": "stdout",
     "output_type": "stream",
     "text": [
      "0.005016137865111822\n",
      "no match for /home/chuongh/vm2m/data/HHM/synthesized/masks/15787/2.png\n",
      "0.006871617921536158\n",
      "no match for /home/chuongh/vm2m/data/HHM/synthesized/masks/17227/0.png\n"
     ]
    },
    {
     "name": "stderr",
     "output_type": "stream",
     "text": [
      " 29%|██▊       | 14268/49737 [18:20<56:38, 10.44it/s]  "
     ]
    },
    {
     "name": "stdout",
     "output_type": "stream",
     "text": [
      "0.0024770165192806583\n",
      "no match for /home/chuongh/vm2m/data/HHM/synthesized/masks/18133/1.png\n"
     ]
    },
    {
     "name": "stderr",
     "output_type": "stream",
     "text": [
      " 29%|██▉       | 14316/49737 [18:24<39:29, 14.95it/s]"
     ]
    },
    {
     "name": "stdout",
     "output_type": "stream",
     "text": [
      "0.29828027741522456\n",
      "no match for /home/chuongh/vm2m/data/HHM/synthesized/masks/18268/0.png\n"
     ]
    },
    {
     "name": "stderr",
     "output_type": "stream",
     "text": [
      " 29%|██▉       | 14357/49737 [18:27<43:50, 13.45it/s]  "
     ]
    },
    {
     "name": "stdout",
     "output_type": "stream",
     "text": [
      "0\n",
      "no match for /home/chuongh/vm2m/data/HHM/synthesized/masks/23818/1.png\n"
     ]
    },
    {
     "name": "stderr",
     "output_type": "stream",
     "text": [
      " 29%|██▉       | 14399/49737 [18:30<40:22, 14.59it/s]"
     ]
    },
    {
     "name": "stdout",
     "output_type": "stream",
     "text": [
      "0.2532175572969721\n",
      "no match for /home/chuongh/vm2m/data/HHM/synthesized/masks/36088/1.png\n"
     ]
    },
    {
     "name": "stderr",
     "output_type": "stream",
     "text": [
      " 29%|██▉       | 14411/49737 [18:31<43:19, 13.59it/s]"
     ]
    },
    {
     "name": "stdout",
     "output_type": "stream",
     "text": [
      "0.14930735475801932\n",
      "no match for /home/chuongh/vm2m/data/HHM/synthesized/masks/15694/1.png\n"
     ]
    },
    {
     "name": "stderr",
     "output_type": "stream",
     "text": [
      " 29%|██▉       | 14443/49737 [18:33<49:26, 11.90it/s]"
     ]
    },
    {
     "name": "stdout",
     "output_type": "stream",
     "text": [
      "0.2784908514159524\n",
      "no match for /home/chuongh/vm2m/data/HHM/synthesized/masks/31755/2.png\n"
     ]
    },
    {
     "name": "stderr",
     "output_type": "stream",
     "text": [
      " 29%|██▉       | 14477/49737 [18:36<50:21, 11.67it/s]"
     ]
    },
    {
     "name": "stdout",
     "output_type": "stream",
     "text": [
      "0.16883928778125568\n",
      "no match for /home/chuongh/vm2m/data/HHM/synthesized/masks/23102/2.png\n",
      "0.21225343910885014\n",
      "no match for /home/chuongh/vm2m/data/HHM/synthesized/masks/14026/0.png\n"
     ]
    },
    {
     "name": "stderr",
     "output_type": "stream",
     "text": [
      " 29%|██▉       | 14481/49737 [18:36<41:15, 14.24it/s]"
     ]
    },
    {
     "name": "stdout",
     "output_type": "stream",
     "text": [
      "0.21179197450349027\n",
      "no match for /home/chuongh/vm2m/data/HHM/synthesized/masks/14026/2.png\n"
     ]
    },
    {
     "name": "stderr",
     "output_type": "stream",
     "text": [
      " 29%|██▉       | 14493/49737 [18:37<52:04, 11.28it/s]"
     ]
    },
    {
     "name": "stdout",
     "output_type": "stream",
     "text": [
      "0.29193627110685527\n",
      "no match for /home/chuongh/vm2m/data/HHM/synthesized/masks/32623/1.png\n"
     ]
    },
    {
     "name": "stderr",
     "output_type": "stream",
     "text": [
      " 29%|██▉       | 14519/49737 [18:39<42:44, 13.73it/s]"
     ]
    },
    {
     "name": "stdout",
     "output_type": "stream",
     "text": [
      "0.02609428684548397\n",
      "no match for /home/chuongh/vm2m/data/HHM/synthesized/masks/14678/0.png\n"
     ]
    },
    {
     "name": "stderr",
     "output_type": "stream",
     "text": [
      " 29%|██▉       | 14523/49737 [18:39<44:27, 13.20it/s]"
     ]
    },
    {
     "name": "stdout",
     "output_type": "stream",
     "text": [
      "0.23727176449706175\n",
      "no match for /home/chuongh/vm2m/data/HHM/synthesized/masks/23877/1.png\n"
     ]
    },
    {
     "name": "stderr",
     "output_type": "stream",
     "text": [
      " 29%|██▉       | 14537/49737 [18:40<42:25, 13.83it/s]"
     ]
    },
    {
     "name": "stdout",
     "output_type": "stream",
     "text": [
      "0.274604483905099\n",
      "no match for /home/chuongh/vm2m/data/HHM/synthesized/masks/27161/2.png\n"
     ]
    },
    {
     "name": "stderr",
     "output_type": "stream",
     "text": [
      " 29%|██▉       | 14551/49737 [18:41<46:23, 12.64it/s]"
     ]
    },
    {
     "name": "stdout",
     "output_type": "stream",
     "text": [
      "0.012375081428763948\n",
      "no match for /home/chuongh/vm2m/data/HHM/synthesized/masks/31733/0.png\n"
     ]
    },
    {
     "name": "stderr",
     "output_type": "stream",
     "text": [
      " 29%|██▉       | 14599/49737 [18:45<44:51, 13.05it/s]"
     ]
    },
    {
     "name": "stdout",
     "output_type": "stream",
     "text": [
      "0.2662433519446462\n",
      "no match for /home/chuongh/vm2m/data/HHM/synthesized/masks/36481/0.png\n"
     ]
    },
    {
     "name": "stderr",
     "output_type": "stream",
     "text": [
      " 29%|██▉       | 14601/49737 [18:45<45:04, 12.99it/s]"
     ]
    },
    {
     "name": "stdout",
     "output_type": "stream",
     "text": [
      "0.003031654408140596\n",
      "no match for /home/chuongh/vm2m/data/HHM/synthesized/masks/7537/0.png\n"
     ]
    },
    {
     "name": "stderr",
     "output_type": "stream",
     "text": [
      " 29%|██▉       | 14645/49737 [18:49<45:51, 12.75it/s]"
     ]
    },
    {
     "name": "stdout",
     "output_type": "stream",
     "text": [
      "0.22378666598235103\n",
      "no match for /home/chuongh/vm2m/data/HHM/synthesized/masks/49415/1.png\n",
      "0.17741940975177192\n",
      "no match for /home/chuongh/vm2m/data/HHM/synthesized/masks/44132/1.png\n"
     ]
    },
    {
     "name": "stderr",
     "output_type": "stream",
     "text": [
      " 29%|██▉       | 14669/49737 [18:50<30:46, 19.00it/s]"
     ]
    },
    {
     "name": "stdout",
     "output_type": "stream",
     "text": [
      "0.1272482943970249\n",
      "no match for /home/chuongh/vm2m/data/HHM/synthesized/masks/5496/1.png\n",
      "0.04160106428397836\n",
      "no match for /home/chuongh/vm2m/data/HHM/synthesized/masks/22229/1.png\n"
     ]
    },
    {
     "name": "stderr",
     "output_type": "stream",
     "text": [
      " 30%|██▉       | 14723/49737 [18:54<39:34, 14.74it/s]  "
     ]
    },
    {
     "name": "stdout",
     "output_type": "stream",
     "text": [
      "0.29882876637287276\n",
      "no match for /home/chuongh/vm2m/data/HHM/synthesized/masks/34580/2.png\n"
     ]
    },
    {
     "name": "stderr",
     "output_type": "stream",
     "text": [
      " 30%|██▉       | 14727/49737 [18:55<41:21, 14.11it/s]"
     ]
    },
    {
     "name": "stdout",
     "output_type": "stream",
     "text": [
      "0.2877465467725424\n",
      "no match for /home/chuongh/vm2m/data/HHM/synthesized/masks/37519/0.png\n"
     ]
    },
    {
     "name": "stderr",
     "output_type": "stream",
     "text": [
      " 30%|██▉       | 14729/49737 [18:55<49:29, 11.79it/s]"
     ]
    },
    {
     "name": "stdout",
     "output_type": "stream",
     "text": [
      "0.1572205867753894\n",
      "no match for /home/chuongh/vm2m/data/HHM/synthesized/masks/22361/0.png\n"
     ]
    },
    {
     "name": "stderr",
     "output_type": "stream",
     "text": [
      " 30%|██▉       | 14739/49737 [18:55<34:31, 16.89it/s]"
     ]
    },
    {
     "name": "stdout",
     "output_type": "stream",
     "text": [
      "0.2812133589127165\n",
      "no match for /home/chuongh/vm2m/data/HHM/synthesized/masks/28050/2.png\n"
     ]
    },
    {
     "name": "stderr",
     "output_type": "stream",
     "text": [
      " 30%|██▉       | 14747/49737 [18:56<46:44, 12.48it/s]"
     ]
    },
    {
     "name": "stdout",
     "output_type": "stream",
     "text": [
      "0\n",
      "no match for /home/chuongh/vm2m/data/HHM/synthesized/masks/13679/2.png\n"
     ]
    },
    {
     "name": "stderr",
     "output_type": "stream",
     "text": [
      " 30%|██▉       | 14768/49737 [18:57<36:41, 15.89it/s]"
     ]
    },
    {
     "name": "stdout",
     "output_type": "stream",
     "text": [
      "0\n",
      "no match for /home/chuongh/vm2m/data/HHM/synthesized/masks/10741/0.png\n",
      "0.20722533604593343\n",
      "no match for /home/chuongh/vm2m/data/HHM/synthesized/masks/21545/0.png\n"
     ]
    },
    {
     "name": "stderr",
     "output_type": "stream",
     "text": [
      " 30%|██▉       | 14797/49737 [19:00<41:52, 13.91it/s]"
     ]
    },
    {
     "name": "stdout",
     "output_type": "stream",
     "text": [
      "0.2180485987256756\n",
      "no match for /home/chuongh/vm2m/data/HHM/synthesized/masks/32325/0.png\n"
     ]
    },
    {
     "name": "stderr",
     "output_type": "stream",
     "text": [
      " 30%|██▉       | 14819/49737 [19:01<47:23, 12.28it/s]"
     ]
    },
    {
     "name": "stdout",
     "output_type": "stream",
     "text": [
      "0.28522978121147613\n",
      "no match for /home/chuongh/vm2m/data/HHM/synthesized/masks/35653/0.png\n"
     ]
    },
    {
     "name": "stderr",
     "output_type": "stream",
     "text": [
      " 30%|██▉       | 14821/49737 [19:01<45:52, 12.68it/s]"
     ]
    },
    {
     "name": "stdout",
     "output_type": "stream",
     "text": [
      "0.28427781100443045\n",
      "no match for /home/chuongh/vm2m/data/HHM/synthesized/masks/30316/0.png\n",
      "0.09653380596531612\n",
      "no match for /home/chuongh/vm2m/data/HHM/synthesized/masks/29614/1.png\n"
     ]
    },
    {
     "name": "stderr",
     "output_type": "stream",
     "text": [
      " 30%|██▉       | 14830/49737 [19:02<44:14, 13.15it/s]"
     ]
    },
    {
     "name": "stdout",
     "output_type": "stream",
     "text": [
      "0.12208638687124108\n",
      "no match for /home/chuongh/vm2m/data/HHM/synthesized/masks/20126/0.png\n"
     ]
    },
    {
     "name": "stderr",
     "output_type": "stream",
     "text": [
      " 30%|██▉       | 14841/49737 [19:03<36:21, 16.00it/s]"
     ]
    },
    {
     "name": "stdout",
     "output_type": "stream",
     "text": [
      "0.1737777648051258\n",
      "no match for /home/chuongh/vm2m/data/HHM/synthesized/masks/18647/1.png\n"
     ]
    },
    {
     "name": "stderr",
     "output_type": "stream",
     "text": [
      " 30%|██▉       | 14846/49737 [19:03<36:41, 15.85it/s]"
     ]
    },
    {
     "name": "stdout",
     "output_type": "stream",
     "text": [
      "0.15032179731217288\n",
      "no match for /home/chuongh/vm2m/data/HHM/synthesized/masks/42370/2.png\n"
     ]
    },
    {
     "name": "stderr",
     "output_type": "stream",
     "text": [
      " 30%|██▉       | 14864/49737 [19:05<43:59, 13.21it/s]"
     ]
    },
    {
     "name": "stdout",
     "output_type": "stream",
     "text": [
      "0.00597041284267948\n",
      "no match for /home/chuongh/vm2m/data/HHM/synthesized/masks/27252/1.png\n",
      "0.2192854456557905\n",
      "no match for /home/chuongh/vm2m/data/HHM/synthesized/masks/9050/1.png\n"
     ]
    },
    {
     "name": "stderr",
     "output_type": "stream",
     "text": [
      " 30%|██▉       | 14908/49737 [19:08<35:38, 16.29it/s]"
     ]
    },
    {
     "name": "stdout",
     "output_type": "stream",
     "text": [
      "0\n",
      "no match for /home/chuongh/vm2m/data/HHM/synthesized/masks/32549/0.png\n"
     ]
    },
    {
     "name": "stderr",
     "output_type": "stream",
     "text": [
      " 30%|███       | 14924/49737 [19:09<47:24, 12.24it/s]"
     ]
    },
    {
     "name": "stdout",
     "output_type": "stream",
     "text": [
      "0.0025577822750619795\n",
      "no match for /home/chuongh/vm2m/data/HHM/synthesized/masks/25661/0.png\n"
     ]
    },
    {
     "name": "stderr",
     "output_type": "stream",
     "text": [
      " 30%|███       | 14946/49737 [19:11<34:34, 16.77it/s]  "
     ]
    },
    {
     "name": "stdout",
     "output_type": "stream",
     "text": [
      "0\n",
      "no match for /home/chuongh/vm2m/data/HHM/synthesized/masks/39976/0.png\n"
     ]
    },
    {
     "name": "stderr",
     "output_type": "stream",
     "text": [
      " 30%|███       | 15006/49737 [19:15<42:35, 13.59it/s]"
     ]
    },
    {
     "name": "stdout",
     "output_type": "stream",
     "text": [
      "0.012569271350034753\n",
      "no match for /home/chuongh/vm2m/data/HHM/synthesized/masks/44661/2.png\n"
     ]
    },
    {
     "name": "stderr",
     "output_type": "stream",
     "text": [
      " 30%|███       | 15021/49737 [19:16<40:00, 14.46it/s]"
     ]
    },
    {
     "name": "stdout",
     "output_type": "stream",
     "text": [
      "0\n",
      "no match for /home/chuongh/vm2m/data/HHM/synthesized/masks/12862/0.png\n"
     ]
    },
    {
     "name": "stderr",
     "output_type": "stream",
     "text": [
      " 30%|███       | 15047/49737 [19:18<30:37, 18.88it/s]"
     ]
    },
    {
     "name": "stdout",
     "output_type": "stream",
     "text": [
      "0.2582551297877561\n",
      "no match for /home/chuongh/vm2m/data/HHM/synthesized/masks/18464/1.png\n"
     ]
    },
    {
     "name": "stderr",
     "output_type": "stream",
     "text": [
      " 30%|███       | 15054/49737 [19:19<43:33, 13.27it/s]"
     ]
    },
    {
     "name": "stdout",
     "output_type": "stream",
     "text": [
      "0.2429954174774347\n",
      "no match for /home/chuongh/vm2m/data/HHM/synthesized/masks/42594/2.png\n"
     ]
    },
    {
     "name": "stderr",
     "output_type": "stream",
     "text": [
      " 30%|███       | 15067/49737 [19:20<46:31, 12.42it/s]"
     ]
    },
    {
     "name": "stdout",
     "output_type": "stream",
     "text": [
      "0.047236981600639744\n",
      "no match for /home/chuongh/vm2m/data/HHM/synthesized/masks/10083/0.png\n"
     ]
    },
    {
     "name": "stderr",
     "output_type": "stream",
     "text": [
      " 30%|███       | 15089/49737 [19:21<30:04, 19.20it/s]"
     ]
    },
    {
     "name": "stdout",
     "output_type": "stream",
     "text": [
      "0\n",
      "no match for /home/chuongh/vm2m/data/HHM/synthesized/masks/557/0.png\n"
     ]
    },
    {
     "name": "stderr",
     "output_type": "stream",
     "text": [
      " 30%|███       | 15167/49737 [19:27<45:22, 12.70it/s]"
     ]
    },
    {
     "name": "stdout",
     "output_type": "stream",
     "text": [
      "0.0208885772924828\n",
      "no match for /home/chuongh/vm2m/data/HHM/synthesized/masks/39258/0.png\n"
     ]
    },
    {
     "name": "stderr",
     "output_type": "stream",
     "text": [
      " 31%|███       | 15183/49737 [19:28<33:38, 17.12it/s]"
     ]
    },
    {
     "name": "stdout",
     "output_type": "stream",
     "text": [
      "0.23995189287410434\n",
      "no match for /home/chuongh/vm2m/data/HHM/synthesized/masks/8613/1.png\n"
     ]
    },
    {
     "name": "stderr",
     "output_type": "stream",
     "text": [
      " 31%|███       | 15218/49737 [19:30<39:42, 14.49it/s]"
     ]
    },
    {
     "name": "stdout",
     "output_type": "stream",
     "text": [
      "0\n",
      "no match for /home/chuongh/vm2m/data/HHM/synthesized/masks/25038/0.png\n",
      "0.10928144928698799\n",
      "no match for /home/chuongh/vm2m/data/HHM/synthesized/masks/22704/1.png\n"
     ]
    },
    {
     "name": "stderr",
     "output_type": "stream",
     "text": [
      " 31%|███       | 15233/49737 [19:32<1:00:25,  9.52it/s]"
     ]
    },
    {
     "name": "stdout",
     "output_type": "stream",
     "text": [
      "0.04317666931888777\n",
      "no match for /home/chuongh/vm2m/data/HHM/synthesized/masks/35240/0.png\n"
     ]
    },
    {
     "name": "stderr",
     "output_type": "stream",
     "text": [
      " 31%|███       | 15243/49737 [19:33<50:51, 11.30it/s]  "
     ]
    },
    {
     "name": "stdout",
     "output_type": "stream",
     "text": [
      "0.00024503860634230096\n",
      "no match for /home/chuongh/vm2m/data/HHM/synthesized/masks/20417/1.png\n"
     ]
    },
    {
     "name": "stderr",
     "output_type": "stream",
     "text": [
      " 31%|███       | 15317/49737 [19:38<49:25, 11.61it/s]"
     ]
    },
    {
     "name": "stdout",
     "output_type": "stream",
     "text": [
      "0\n",
      "no match for /home/chuongh/vm2m/data/HHM/synthesized/masks/32919/2.png\n"
     ]
    },
    {
     "name": "stderr",
     "output_type": "stream",
     "text": [
      " 31%|███       | 15331/49737 [19:39<36:34, 15.68it/s]"
     ]
    },
    {
     "name": "stdout",
     "output_type": "stream",
     "text": [
      "0.06775412845155415\n",
      "no match for /home/chuongh/vm2m/data/HHM/synthesized/masks/8480/0.png\n",
      "0\n",
      "no match for /home/chuongh/vm2m/data/HHM/synthesized/masks/40579/1.png\n"
     ]
    },
    {
     "name": "stderr",
     "output_type": "stream",
     "text": [
      " 31%|███       | 15410/49737 [19:45<43:35, 13.13it/s]"
     ]
    },
    {
     "name": "stdout",
     "output_type": "stream",
     "text": [
      "0.010306754473984743\n",
      "no match for /home/chuongh/vm2m/data/HHM/synthesized/masks/40766/0.png\n"
     ]
    },
    {
     "name": "stderr",
     "output_type": "stream",
     "text": [
      " 31%|███       | 15420/49737 [19:46<43:59, 13.00it/s]"
     ]
    },
    {
     "name": "stdout",
     "output_type": "stream",
     "text": [
      "0.19304985925907406\n",
      "no match for /home/chuongh/vm2m/data/HHM/synthesized/masks/15186/2.png\n"
     ]
    },
    {
     "name": "stderr",
     "output_type": "stream",
     "text": [
      " 31%|███       | 15486/49737 [19:51<44:31, 12.82it/s]"
     ]
    },
    {
     "name": "stdout",
     "output_type": "stream",
     "text": [
      "0.021713748383753964\n",
      "no match for /home/chuongh/vm2m/data/HHM/synthesized/masks/32571/0.png\n"
     ]
    },
    {
     "name": "stderr",
     "output_type": "stream",
     "text": [
      " 31%|███       | 15513/49737 [19:53<37:58, 15.02it/s]  "
     ]
    },
    {
     "name": "stdout",
     "output_type": "stream",
     "text": [
      "0.0843761396195168\n",
      "no match for /home/chuongh/vm2m/data/HHM/synthesized/masks/35675/2.png\n"
     ]
    },
    {
     "name": "stderr",
     "output_type": "stream",
     "text": [
      " 31%|███       | 15523/49737 [19:54<43:19, 13.16it/s]"
     ]
    },
    {
     "name": "stdout",
     "output_type": "stream",
     "text": [
      "0.17379517955117815\n",
      "no match for /home/chuongh/vm2m/data/HHM/synthesized/masks/43183/0.png\n",
      "0.024124330061684372\n",
      "no match for /home/chuongh/vm2m/data/HHM/synthesized/masks/21773/1.png\n"
     ]
    },
    {
     "name": "stderr",
     "output_type": "stream",
     "text": [
      " 31%|███▏      | 15559/49737 [19:57<42:50, 13.30it/s]"
     ]
    },
    {
     "name": "stdout",
     "output_type": "stream",
     "text": [
      "0.03456721267740387\n",
      "no match for /home/chuongh/vm2m/data/HHM/synthesized/masks/16854/1.png\n"
     ]
    },
    {
     "name": "stderr",
     "output_type": "stream",
     "text": [
      " 31%|███▏      | 15592/49737 [19:59<36:29, 15.60it/s]"
     ]
    },
    {
     "name": "stdout",
     "output_type": "stream",
     "text": [
      "0.2518471009902224\n",
      "no match for /home/chuongh/vm2m/data/HHM/synthesized/masks/47373/1.png\n"
     ]
    },
    {
     "name": "stderr",
     "output_type": "stream",
     "text": [
      " 31%|███▏      | 15616/49737 [20:01<56:13, 10.12it/s]"
     ]
    },
    {
     "name": "stdout",
     "output_type": "stream",
     "text": [
      "0.18770409226653087\n",
      "no match for /home/chuongh/vm2m/data/HHM/synthesized/masks/952/0.png\n"
     ]
    },
    {
     "name": "stderr",
     "output_type": "stream",
     "text": [
      " 31%|███▏      | 15622/49737 [20:01<37:52, 15.01it/s]"
     ]
    },
    {
     "name": "stdout",
     "output_type": "stream",
     "text": [
      "0.21006611049856352\n",
      "no match for /home/chuongh/vm2m/data/HHM/synthesized/masks/40800/1.png\n"
     ]
    },
    {
     "name": "stderr",
     "output_type": "stream",
     "text": [
      " 31%|███▏      | 15631/49737 [20:02<35:44, 15.91it/s]"
     ]
    },
    {
     "name": "stdout",
     "output_type": "stream",
     "text": [
      "0.17266698859936244\n",
      "no match for /home/chuongh/vm2m/data/HHM/synthesized/masks/22068/1.png\n"
     ]
    },
    {
     "name": "stderr",
     "output_type": "stream",
     "text": [
      " 31%|███▏      | 15652/49737 [20:04<39:48, 14.27it/s]"
     ]
    },
    {
     "name": "stdout",
     "output_type": "stream",
     "text": [
      "0.01650380063950233\n",
      "no match for /home/chuongh/vm2m/data/HHM/synthesized/masks/43560/0.png\n",
      "0.008553455189739082\n",
      "no match for /home/chuongh/vm2m/data/HHM/synthesized/masks/3905/0.png\n"
     ]
    },
    {
     "name": "stderr",
     "output_type": "stream",
     "text": [
      " 31%|███▏      | 15659/49737 [20:04<40:49, 13.91it/s]"
     ]
    },
    {
     "name": "stdout",
     "output_type": "stream",
     "text": [
      "0.20104474058598196\n",
      "no match for /home/chuongh/vm2m/data/HHM/synthesized/masks/5044/0.png\n"
     ]
    },
    {
     "name": "stderr",
     "output_type": "stream",
     "text": [
      " 32%|███▏      | 15743/49737 [20:10<43:36, 12.99it/s]"
     ]
    },
    {
     "name": "stdout",
     "output_type": "stream",
     "text": [
      "0.14249699683719488\n",
      "no match for /home/chuongh/vm2m/data/HHM/synthesized/masks/3383/2.png\n"
     ]
    },
    {
     "name": "stderr",
     "output_type": "stream",
     "text": [
      " 32%|███▏      | 15747/49737 [20:11<39:12, 14.45it/s]"
     ]
    },
    {
     "name": "stdout",
     "output_type": "stream",
     "text": [
      "0.0004024265464507159\n",
      "no match for /home/chuongh/vm2m/data/HHM/synthesized/masks/15015/0.png\n"
     ]
    },
    {
     "name": "stderr",
     "output_type": "stream",
     "text": [
      " 32%|███▏      | 15762/49737 [20:12<30:52, 18.34it/s]"
     ]
    },
    {
     "name": "stdout",
     "output_type": "stream",
     "text": [
      "0.2995590233310831\n",
      "no match for /home/chuongh/vm2m/data/HHM/synthesized/masks/25191/2.png\n"
     ]
    },
    {
     "name": "stderr",
     "output_type": "stream",
     "text": [
      " 32%|███▏      | 15769/49737 [20:12<27:50, 20.33it/s]"
     ]
    },
    {
     "name": "stdout",
     "output_type": "stream",
     "text": [
      "0\n",
      "no match for /home/chuongh/vm2m/data/HHM/synthesized/masks/43536/1.png\n",
      "0.011952952336369211\n",
      "no match for /home/chuongh/vm2m/data/HHM/synthesized/masks/35427/1.png\n"
     ]
    },
    {
     "name": "stderr",
     "output_type": "stream",
     "text": [
      " 32%|███▏      | 15776/49737 [20:12<31:53, 17.75it/s]"
     ]
    },
    {
     "name": "stdout",
     "output_type": "stream",
     "text": [
      "0\n",
      "no match for /home/chuongh/vm2m/data/HHM/synthesized/masks/3020/1.png\n"
     ]
    },
    {
     "name": "stderr",
     "output_type": "stream",
     "text": [
      " 32%|███▏      | 15787/49737 [20:13<38:06, 14.85it/s]"
     ]
    },
    {
     "name": "stdout",
     "output_type": "stream",
     "text": [
      "0.11648119521584299\n",
      "no match for /home/chuongh/vm2m/data/HHM/synthesized/masks/43120/1.png\n"
     ]
    },
    {
     "name": "stderr",
     "output_type": "stream",
     "text": [
      " 32%|███▏      | 15795/49737 [20:14<45:57, 12.31it/s]"
     ]
    },
    {
     "name": "stdout",
     "output_type": "stream",
     "text": [
      "0.01881458886635021\n",
      "no match for /home/chuongh/vm2m/data/HHM/synthesized/masks/42281/0.png\n",
      "0.11623062217982742\n",
      "no match for /home/chuongh/vm2m/data/HHM/synthesized/masks/29631/0.png\n"
     ]
    },
    {
     "name": "stderr",
     "output_type": "stream",
     "text": [
      " 32%|███▏      | 15802/49737 [20:15<47:35, 11.88it/s]"
     ]
    },
    {
     "name": "stdout",
     "output_type": "stream",
     "text": [
      "0.042072934178061315\n",
      "no match for /home/chuongh/vm2m/data/HHM/synthesized/masks/15298/0.png\n"
     ]
    },
    {
     "name": "stderr",
     "output_type": "stream",
     "text": [
      " 32%|███▏      | 15842/49737 [20:18<45:58, 12.29it/s]"
     ]
    },
    {
     "name": "stdout",
     "output_type": "stream",
     "text": [
      "0.24989598698756763\n",
      "no match for /home/chuongh/vm2m/data/HHM/synthesized/masks/13519/0.png\n"
     ]
    },
    {
     "name": "stderr",
     "output_type": "stream",
     "text": [
      " 32%|███▏      | 15844/49737 [20:18<41:54, 13.48it/s]"
     ]
    },
    {
     "name": "stdout",
     "output_type": "stream",
     "text": [
      "0.21124544591838484\n",
      "no match for /home/chuongh/vm2m/data/HHM/synthesized/masks/3424/0.png\n"
     ]
    },
    {
     "name": "stderr",
     "output_type": "stream",
     "text": [
      " 32%|███▏      | 15864/49737 [20:20<38:56, 14.49it/s]"
     ]
    },
    {
     "name": "stdout",
     "output_type": "stream",
     "text": [
      "0.27036337211852296\n",
      "no match for /home/chuongh/vm2m/data/HHM/synthesized/masks/1916/0.png\n"
     ]
    },
    {
     "name": "stderr",
     "output_type": "stream",
     "text": [
      " 32%|███▏      | 15868/49737 [20:20<41:41, 13.54it/s]"
     ]
    },
    {
     "name": "stdout",
     "output_type": "stream",
     "text": [
      "0.28014342754885896\n",
      "no match for /home/chuongh/vm2m/data/HHM/synthesized/masks/38723/1.png\n"
     ]
    },
    {
     "name": "stderr",
     "output_type": "stream",
     "text": [
      " 32%|███▏      | 15894/49737 [20:22<42:10, 13.37it/s]"
     ]
    },
    {
     "name": "stdout",
     "output_type": "stream",
     "text": [
      "0.11610727981333929\n",
      "no match for /home/chuongh/vm2m/data/HHM/synthesized/masks/49591/2.png\n"
     ]
    },
    {
     "name": "stderr",
     "output_type": "stream",
     "text": [
      " 32%|███▏      | 15921/49737 [20:24<37:29, 15.03it/s]"
     ]
    },
    {
     "name": "stdout",
     "output_type": "stream",
     "text": [
      "0.1931633057293897\n",
      "no match for /home/chuongh/vm2m/data/HHM/synthesized/masks/26431/2.png\n"
     ]
    },
    {
     "name": "stderr",
     "output_type": "stream",
     "text": [
      " 32%|███▏      | 15986/49737 [20:28<33:41, 16.70it/s]"
     ]
    },
    {
     "name": "stdout",
     "output_type": "stream",
     "text": [
      "0.004727506822678101\n",
      "no match for /home/chuongh/vm2m/data/HHM/synthesized/masks/44669/1.png\n"
     ]
    },
    {
     "name": "stderr",
     "output_type": "stream",
     "text": [
      " 32%|███▏      | 16026/49737 [20:31<41:29, 13.54it/s]"
     ]
    },
    {
     "name": "stdout",
     "output_type": "stream",
     "text": [
      "0.10942036738453387\n",
      "no match for /home/chuongh/vm2m/data/HHM/synthesized/masks/28038/1.png\n"
     ]
    },
    {
     "name": "stderr",
     "output_type": "stream",
     "text": [
      " 32%|███▏      | 16082/49737 [20:35<34:10, 16.42it/s]"
     ]
    },
    {
     "name": "stdout",
     "output_type": "stream",
     "text": [
      "0.16740240630092615\n",
      "no match for /home/chuongh/vm2m/data/HHM/synthesized/masks/11739/1.png\n"
     ]
    },
    {
     "name": "stderr",
     "output_type": "stream",
     "text": [
      " 32%|███▏      | 16139/49737 [20:40<47:26, 11.80it/s]"
     ]
    },
    {
     "name": "stdout",
     "output_type": "stream",
     "text": [
      "0.06476889202719922\n",
      "no match for /home/chuongh/vm2m/data/HHM/synthesized/masks/8829/2.png\n"
     ]
    },
    {
     "name": "stderr",
     "output_type": "stream",
     "text": [
      " 32%|███▏      | 16145/49737 [20:40<50:24, 11.11it/s]"
     ]
    },
    {
     "name": "stdout",
     "output_type": "stream",
     "text": [
      "0.05361949142315706\n",
      "no match for /home/chuongh/vm2m/data/HHM/synthesized/masks/11296/0.png\n"
     ]
    },
    {
     "name": "stderr",
     "output_type": "stream",
     "text": [
      " 33%|███▎      | 16176/49737 [20:43<46:10, 12.11it/s]  "
     ]
    },
    {
     "name": "stdout",
     "output_type": "stream",
     "text": [
      "0.0763407028963403\n",
      "no match for /home/chuongh/vm2m/data/HHM/synthesized/masks/17428/3.png\n"
     ]
    },
    {
     "name": "stderr",
     "output_type": "stream",
     "text": [
      " 33%|███▎      | 16207/49737 [20:45<36:07, 15.47it/s]"
     ]
    },
    {
     "name": "stdout",
     "output_type": "stream",
     "text": [
      "0.0706166340278616\n",
      "no match for /home/chuongh/vm2m/data/HHM/synthesized/masks/20439/0.png\n"
     ]
    },
    {
     "name": "stderr",
     "output_type": "stream",
     "text": [
      " 33%|███▎      | 16231/49737 [20:47<31:06, 17.95it/s]"
     ]
    },
    {
     "name": "stdout",
     "output_type": "stream",
     "text": [
      "0.2073332221443308\n",
      "no match for /home/chuongh/vm2m/data/HHM/synthesized/masks/38935/1.png\n"
     ]
    },
    {
     "name": "stderr",
     "output_type": "stream",
     "text": [
      " 33%|███▎      | 16236/49737 [20:47<38:11, 14.62it/s]"
     ]
    },
    {
     "name": "stdout",
     "output_type": "stream",
     "text": [
      "0.21580008354721822\n",
      "no match for /home/chuongh/vm2m/data/HHM/synthesized/masks/37026/0.png\n"
     ]
    },
    {
     "name": "stderr",
     "output_type": "stream",
     "text": [
      " 33%|███▎      | 16272/49737 [20:50<36:37, 15.23it/s]"
     ]
    },
    {
     "name": "stdout",
     "output_type": "stream",
     "text": [
      "0.004085474535866388\n",
      "no match for /home/chuongh/vm2m/data/HHM/synthesized/masks/45837/1.png\n"
     ]
    },
    {
     "name": "stderr",
     "output_type": "stream",
     "text": [
      " 33%|███▎      | 16290/49737 [20:52<42:47, 13.03it/s]"
     ]
    },
    {
     "name": "stdout",
     "output_type": "stream",
     "text": [
      "0.0028381136709136525\n",
      "no match for /home/chuongh/vm2m/data/HHM/synthesized/masks/13653/1.png\n"
     ]
    },
    {
     "name": "stderr",
     "output_type": "stream",
     "text": [
      " 33%|███▎      | 16307/49737 [20:53<40:10, 13.87it/s]"
     ]
    },
    {
     "name": "stdout",
     "output_type": "stream",
     "text": [
      "0.011952103842631134\n",
      "no match for /home/chuongh/vm2m/data/HHM/synthesized/masks/20688/0.png\n"
     ]
    },
    {
     "name": "stderr",
     "output_type": "stream",
     "text": [
      " 33%|███▎      | 16314/49737 [20:54<52:35, 10.59it/s]"
     ]
    },
    {
     "name": "stdout",
     "output_type": "stream",
     "text": [
      "0.29391532658304337\n",
      "no match for /home/chuongh/vm2m/data/HHM/synthesized/masks/34526/0.png\n",
      "0.07854241978993987\n",
      "no match for /home/chuongh/vm2m/data/HHM/synthesized/masks/11136/2.png\n"
     ]
    },
    {
     "name": "stderr",
     "output_type": "stream",
     "text": [
      " 33%|███▎      | 16351/49737 [20:57<43:59, 12.65it/s]"
     ]
    },
    {
     "name": "stdout",
     "output_type": "stream",
     "text": [
      "0.19750920064656258\n",
      "no match for /home/chuongh/vm2m/data/HHM/synthesized/masks/27669/1.png\n",
      "0.18632449291100964\n",
      "no match for /home/chuongh/vm2m/data/HHM/synthesized/masks/42771/2.png\n"
     ]
    },
    {
     "name": "stderr",
     "output_type": "stream",
     "text": [
      " 33%|███▎      | 16362/49737 [20:58<39:07, 14.22it/s]"
     ]
    },
    {
     "name": "stdout",
     "output_type": "stream",
     "text": [
      "0.021779894616233385\n",
      "no match for /home/chuongh/vm2m/data/HHM/synthesized/masks/32672/0.png\n"
     ]
    },
    {
     "name": "stderr",
     "output_type": "stream",
     "text": [
      " 33%|███▎      | 16399/49737 [21:00<37:43, 14.73it/s]"
     ]
    },
    {
     "name": "stdout",
     "output_type": "stream",
     "text": [
      "0.2563001600638998\n",
      "no match for /home/chuongh/vm2m/data/HHM/synthesized/masks/49391/0.png\n"
     ]
    },
    {
     "name": "stderr",
     "output_type": "stream",
     "text": [
      " 33%|███▎      | 16411/49737 [21:01<28:34, 19.43it/s]"
     ]
    },
    {
     "name": "stdout",
     "output_type": "stream",
     "text": [
      "0.0023880650279290774\n",
      "no match for /home/chuongh/vm2m/data/HHM/synthesized/masks/20594/1.png\n",
      "0.01155174467067527\n",
      "no match for /home/chuongh/vm2m/data/HHM/synthesized/masks/42318/0.png\n"
     ]
    },
    {
     "name": "stderr",
     "output_type": "stream",
     "text": [
      " 33%|███▎      | 16419/49737 [21:02<42:53, 12.95it/s]"
     ]
    },
    {
     "name": "stdout",
     "output_type": "stream",
     "text": [
      "0.2924226084383367\n",
      "no match for /home/chuongh/vm2m/data/HHM/synthesized/masks/29661/0.png\n"
     ]
    },
    {
     "name": "stderr",
     "output_type": "stream",
     "text": [
      " 33%|███▎      | 16458/49737 [21:05<44:59, 12.33it/s]"
     ]
    },
    {
     "name": "stdout",
     "output_type": "stream",
     "text": [
      "0.29404073085787086\n",
      "no match for /home/chuongh/vm2m/data/HHM/synthesized/masks/16519/2.png\n"
     ]
    },
    {
     "name": "stderr",
     "output_type": "stream",
     "text": [
      " 33%|███▎      | 16492/49737 [21:07<36:35, 15.14it/s]"
     ]
    },
    {
     "name": "stdout",
     "output_type": "stream",
     "text": [
      "0.03400898058535013\n",
      "no match for /home/chuongh/vm2m/data/HHM/synthesized/masks/39238/0.png\n"
     ]
    },
    {
     "name": "stderr",
     "output_type": "stream",
     "text": [
      " 33%|███▎      | 16496/49737 [21:08<41:37, 13.31it/s]"
     ]
    },
    {
     "name": "stdout",
     "output_type": "stream",
     "text": [
      "0.28832119583057975\n",
      "no match for /home/chuongh/vm2m/data/HHM/synthesized/masks/39518/2.png\n"
     ]
    },
    {
     "name": "stderr",
     "output_type": "stream",
     "text": [
      " 33%|███▎      | 16508/49737 [21:09<52:36, 10.53it/s]  "
     ]
    },
    {
     "name": "stdout",
     "output_type": "stream",
     "text": [
      "0.2932433515117482\n",
      "no match for /home/chuongh/vm2m/data/HHM/synthesized/masks/38232/1.png\n"
     ]
    },
    {
     "name": "stderr",
     "output_type": "stream",
     "text": [
      " 33%|███▎      | 16519/49737 [21:10<41:17, 13.41it/s]"
     ]
    },
    {
     "name": "stdout",
     "output_type": "stream",
     "text": [
      "0.08125372312742592\n",
      "no match for /home/chuongh/vm2m/data/HHM/synthesized/masks/45836/0.png\n"
     ]
    },
    {
     "name": "stderr",
     "output_type": "stream",
     "text": [
      " 33%|███▎      | 16585/49737 [21:14<34:49, 15.86it/s]"
     ]
    },
    {
     "name": "stdout",
     "output_type": "stream",
     "text": [
      "0.2361618434735188\n",
      "no match for /home/chuongh/vm2m/data/HHM/synthesized/masks/20578/0.png\n"
     ]
    },
    {
     "name": "stderr",
     "output_type": "stream",
     "text": [
      " 33%|███▎      | 16591/49737 [21:15<45:27, 12.15it/s]"
     ]
    },
    {
     "name": "stdout",
     "output_type": "stream",
     "text": [
      "0.19845093700048053\n",
      "no match for /home/chuongh/vm2m/data/HHM/synthesized/masks/1954/2.png\n",
      "0.021214943743782334\n",
      "no match for /home/chuongh/vm2m/data/HHM/synthesized/masks/42948/0.png\n"
     ]
    },
    {
     "name": "stderr",
     "output_type": "stream",
     "text": [
      " 33%|███▎      | 16606/49737 [21:16<46:40, 11.83it/s]"
     ]
    },
    {
     "name": "stdout",
     "output_type": "stream",
     "text": [
      "0.296741960799279\n",
      "no match for /home/chuongh/vm2m/data/HHM/synthesized/masks/9481/1.png\n"
     ]
    },
    {
     "name": "stderr",
     "output_type": "stream",
     "text": [
      " 33%|███▎      | 16616/49737 [21:17<35:05, 15.73it/s]"
     ]
    },
    {
     "name": "stdout",
     "output_type": "stream",
     "text": [
      "0.24890338852910282\n",
      "no match for /home/chuongh/vm2m/data/HHM/synthesized/masks/32933/2.png\n"
     ]
    },
    {
     "name": "stderr",
     "output_type": "stream",
     "text": [
      " 33%|███▎      | 16625/49737 [21:17<45:40, 12.08it/s]"
     ]
    },
    {
     "name": "stdout",
     "output_type": "stream",
     "text": [
      "0.09794378323601433\n",
      "no match for /home/chuongh/vm2m/data/HHM/synthesized/masks/404/0.png\n"
     ]
    },
    {
     "name": "stderr",
     "output_type": "stream",
     "text": [
      " 33%|███▎      | 16631/49737 [21:18<40:52, 13.50it/s]"
     ]
    },
    {
     "name": "stdout",
     "output_type": "stream",
     "text": [
      "0.09456423640240762\n",
      "no match for /home/chuongh/vm2m/data/HHM/synthesized/masks/13740/3.png\n"
     ]
    },
    {
     "name": "stderr",
     "output_type": "stream",
     "text": [
      " 33%|███▎      | 16635/49737 [21:18<43:36, 12.65it/s]"
     ]
    },
    {
     "name": "stdout",
     "output_type": "stream",
     "text": [
      "0.009382516947267307\n",
      "no match for /home/chuongh/vm2m/data/HHM/synthesized/masks/48132/0.png\n"
     ]
    },
    {
     "name": "stderr",
     "output_type": "stream",
     "text": [
      " 33%|███▎      | 16647/49737 [21:19<51:09, 10.78it/s]"
     ]
    },
    {
     "name": "stdout",
     "output_type": "stream",
     "text": [
      "0.188089432703676\n",
      "no match for /home/chuongh/vm2m/data/HHM/synthesized/masks/29413/2.png\n"
     ]
    },
    {
     "name": "stderr",
     "output_type": "stream",
     "text": [
      " 34%|███▎      | 16674/49737 [21:21<35:36, 15.48it/s]"
     ]
    },
    {
     "name": "stdout",
     "output_type": "stream",
     "text": [
      "0.2997274225374621\n",
      "no match for /home/chuongh/vm2m/data/HHM/synthesized/masks/19516/0.png\n"
     ]
    },
    {
     "name": "stderr",
     "output_type": "stream",
     "text": [
      " 34%|███▎      | 16693/49737 [21:23<41:14, 13.35it/s]"
     ]
    },
    {
     "name": "stdout",
     "output_type": "stream",
     "text": [
      "0.021575376912442372\n",
      "no match for /home/chuongh/vm2m/data/HHM/synthesized/masks/8654/0.png\n"
     ]
    },
    {
     "name": "stderr",
     "output_type": "stream",
     "text": [
      " 34%|███▎      | 16768/49737 [21:28<36:43, 14.96it/s]"
     ]
    },
    {
     "name": "stdout",
     "output_type": "stream",
     "text": [
      "0.2597336086337886\n",
      "no match for /home/chuongh/vm2m/data/HHM/synthesized/masks/6706/0.png\n"
     ]
    },
    {
     "name": "stderr",
     "output_type": "stream",
     "text": [
      " 34%|███▍      | 16850/49737 [21:34<33:04, 16.57it/s]"
     ]
    },
    {
     "name": "stdout",
     "output_type": "stream",
     "text": [
      "0\n",
      "no match for /home/chuongh/vm2m/data/HHM/synthesized/masks/42212/0.png\n"
     ]
    },
    {
     "name": "stderr",
     "output_type": "stream",
     "text": [
      " 34%|███▍      | 16863/49737 [21:35<37:07, 14.76it/s]"
     ]
    },
    {
     "name": "stdout",
     "output_type": "stream",
     "text": [
      "0.06905065075167172\n",
      "no match for /home/chuongh/vm2m/data/HHM/synthesized/masks/4757/2.png\n",
      "0.26481443989288705\n",
      "no match for /home/chuongh/vm2m/data/HHM/synthesized/masks/31131/0.png\n"
     ]
    },
    {
     "name": "stderr",
     "output_type": "stream",
     "text": [
      " 34%|███▍      | 16867/49737 [21:35<34:47, 15.75it/s]"
     ]
    },
    {
     "name": "stdout",
     "output_type": "stream",
     "text": [
      "0.16573856109255675\n",
      "no match for /home/chuongh/vm2m/data/HHM/synthesized/masks/37485/1.png\n"
     ]
    },
    {
     "name": "stderr",
     "output_type": "stream",
     "text": [
      " 34%|███▍      | 16892/49737 [21:37<37:34, 14.57it/s]"
     ]
    },
    {
     "name": "stdout",
     "output_type": "stream",
     "text": [
      "0.16030355416191464\n",
      "no match for /home/chuongh/vm2m/data/HHM/synthesized/masks/42981/0.png\n"
     ]
    },
    {
     "name": "stderr",
     "output_type": "stream",
     "text": [
      " 34%|███▍      | 16906/49737 [21:38<43:54, 12.46it/s]"
     ]
    },
    {
     "name": "stdout",
     "output_type": "stream",
     "text": [
      "0.268134535211076\n",
      "no match for /home/chuongh/vm2m/data/HHM/synthesized/masks/6351/0.png\n",
      "0.2270630965440377\n",
      "no match for /home/chuongh/vm2m/data/HHM/synthesized/masks/6351/2.png\n"
     ]
    },
    {
     "name": "stderr",
     "output_type": "stream",
     "text": [
      " 34%|███▍      | 16925/49737 [21:40<40:19, 13.56it/s]"
     ]
    },
    {
     "name": "stdout",
     "output_type": "stream",
     "text": [
      "0.20080140626660667\n",
      "no match for /home/chuongh/vm2m/data/HHM/synthesized/masks/517/2.png\n"
     ]
    },
    {
     "name": "stderr",
     "output_type": "stream",
     "text": [
      " 34%|███▍      | 16954/49737 [21:43<55:59,  9.76it/s]  "
     ]
    },
    {
     "name": "stdout",
     "output_type": "stream",
     "text": [
      "0.07478548823840415\n",
      "no match for /home/chuongh/vm2m/data/HHM/synthesized/masks/32336/1.png\n"
     ]
    },
    {
     "name": "stderr",
     "output_type": "stream",
     "text": [
      " 34%|███▍      | 17040/49737 [21:49<30:54, 17.63it/s]"
     ]
    },
    {
     "name": "stdout",
     "output_type": "stream",
     "text": [
      "0.0931129838327892\n",
      "no match for /home/chuongh/vm2m/data/HHM/synthesized/masks/14460/1.png\n"
     ]
    },
    {
     "name": "stderr",
     "output_type": "stream",
     "text": [
      " 34%|███▍      | 17047/49737 [21:49<38:19, 14.22it/s]"
     ]
    },
    {
     "name": "stdout",
     "output_type": "stream",
     "text": [
      "0.11370867552030847\n",
      "no match for /home/chuongh/vm2m/data/HHM/synthesized/masks/3069/2.png\n"
     ]
    },
    {
     "name": "stderr",
     "output_type": "stream",
     "text": [
      " 34%|███▍      | 17061/49737 [21:51<48:33, 11.22it/s]"
     ]
    },
    {
     "name": "stdout",
     "output_type": "stream",
     "text": [
      "0.04793111721073404\n",
      "no match for /home/chuongh/vm2m/data/HHM/synthesized/masks/28364/1.png\n"
     ]
    },
    {
     "name": "stderr",
     "output_type": "stream",
     "text": [
      " 34%|███▍      | 17063/49737 [21:51<52:36, 10.35it/s]"
     ]
    },
    {
     "name": "stdout",
     "output_type": "stream",
     "text": [
      "0.016127627200296975\n",
      "no match for /home/chuongh/vm2m/data/HHM/synthesized/masks/41531/1.png\n"
     ]
    },
    {
     "name": "stderr",
     "output_type": "stream",
     "text": [
      " 34%|███▍      | 17107/49737 [21:54<55:36,  9.78it/s]"
     ]
    },
    {
     "name": "stdout",
     "output_type": "stream",
     "text": [
      "0.02895026795650833\n",
      "no match for /home/chuongh/vm2m/data/HHM/synthesized/masks/7641/0.png\n"
     ]
    },
    {
     "name": "stderr",
     "output_type": "stream",
     "text": [
      " 34%|███▍      | 17129/49737 [21:55<32:31, 16.71it/s]"
     ]
    },
    {
     "name": "stdout",
     "output_type": "stream",
     "text": [
      "0\n",
      "no match for /home/chuongh/vm2m/data/HHM/synthesized/masks/35657/1.png\n"
     ]
    },
    {
     "name": "stderr",
     "output_type": "stream",
     "text": [
      " 35%|███▍      | 17195/49737 [22:01<52:19, 10.36it/s]"
     ]
    },
    {
     "name": "stdout",
     "output_type": "stream",
     "text": [
      "0.27853159851247183\n",
      "no match for /home/chuongh/vm2m/data/HHM/synthesized/masks/30439/1.png\n"
     ]
    },
    {
     "name": "stderr",
     "output_type": "stream",
     "text": [
      " 35%|███▍      | 17211/49737 [22:02<38:18, 14.15it/s]"
     ]
    },
    {
     "name": "stdout",
     "output_type": "stream",
     "text": [
      "0\n",
      "no match for /home/chuongh/vm2m/data/HHM/synthesized/masks/21672/1.png\n",
      "0.11020575135305744\n",
      "no match for /home/chuongh/vm2m/data/HHM/synthesized/masks/48713/0.png\n"
     ]
    },
    {
     "name": "stderr",
     "output_type": "stream",
     "text": [
      " 35%|███▍      | 17219/49737 [22:03<35:00, 15.48it/s]"
     ]
    },
    {
     "name": "stdout",
     "output_type": "stream",
     "text": [
      "0.18083139949539256\n",
      "no match for /home/chuongh/vm2m/data/HHM/synthesized/masks/5032/0.png\n"
     ]
    },
    {
     "name": "stderr",
     "output_type": "stream",
     "text": [
      " 35%|███▍      | 17222/49737 [22:03<35:28, 15.28it/s]"
     ]
    },
    {
     "name": "stdout",
     "output_type": "stream",
     "text": [
      "0.08771712430083708\n",
      "no match for /home/chuongh/vm2m/data/HHM/synthesized/masks/47655/1.png\n"
     ]
    },
    {
     "name": "stderr",
     "output_type": "stream",
     "text": [
      " 35%|███▍      | 17238/49737 [22:04<37:46, 14.34it/s]"
     ]
    },
    {
     "name": "stdout",
     "output_type": "stream",
     "text": [
      "0.07692981718665219\n",
      "no match for /home/chuongh/vm2m/data/HHM/synthesized/masks/12699/0.png\n"
     ]
    },
    {
     "name": "stderr",
     "output_type": "stream",
     "text": [
      " 35%|███▍      | 17242/49737 [22:04<37:32, 14.42it/s]"
     ]
    },
    {
     "name": "stdout",
     "output_type": "stream",
     "text": [
      "0.03345817422225979\n",
      "no match for /home/chuongh/vm2m/data/HHM/synthesized/masks/10687/0.png\n"
     ]
    },
    {
     "name": "stderr",
     "output_type": "stream",
     "text": [
      " 35%|███▍      | 17335/49737 [22:11<32:18, 16.71it/s]"
     ]
    },
    {
     "name": "stdout",
     "output_type": "stream",
     "text": [
      "0.21656912815521154\n",
      "no match for /home/chuongh/vm2m/data/HHM/synthesized/masks/27247/0.png\n"
     ]
    },
    {
     "name": "stderr",
     "output_type": "stream",
     "text": [
      " 35%|███▍      | 17352/49737 [22:12<33:08, 16.29it/s]"
     ]
    },
    {
     "name": "stdout",
     "output_type": "stream",
     "text": [
      "0.10408586385388792\n",
      "no match for /home/chuongh/vm2m/data/HHM/synthesized/masks/6327/0.png\n"
     ]
    },
    {
     "name": "stderr",
     "output_type": "stream",
     "text": [
      " 35%|███▍      | 17377/49737 [22:14<31:05, 17.35it/s]"
     ]
    },
    {
     "name": "stdout",
     "output_type": "stream",
     "text": [
      "0.04808718207032985\n",
      "no match for /home/chuongh/vm2m/data/HHM/synthesized/masks/49516/1.png\n"
     ]
    },
    {
     "name": "stderr",
     "output_type": "stream",
     "text": [
      " 35%|███▌      | 17421/49737 [22:17<47:24, 11.36it/s]"
     ]
    },
    {
     "name": "stdout",
     "output_type": "stream",
     "text": [
      "0.11585751876573173\n",
      "no match for /home/chuongh/vm2m/data/HHM/synthesized/masks/7510/0.png\n"
     ]
    },
    {
     "name": "stderr",
     "output_type": "stream",
     "text": [
      " 35%|███▌      | 17468/49737 [22:21<47:51, 11.24it/s]"
     ]
    },
    {
     "name": "stdout",
     "output_type": "stream",
     "text": [
      "0.17542472714762974\n",
      "no match for /home/chuongh/vm2m/data/HHM/synthesized/masks/10120/3.png\n"
     ]
    },
    {
     "name": "stderr",
     "output_type": "stream",
     "text": [
      " 35%|███▌      | 17484/49737 [22:22<40:13, 13.37it/s]"
     ]
    },
    {
     "name": "stdout",
     "output_type": "stream",
     "text": [
      "0.29241138922482407\n",
      "no match for /home/chuongh/vm2m/data/HHM/synthesized/masks/2060/1.png\n"
     ]
    },
    {
     "name": "stderr",
     "output_type": "stream",
     "text": [
      " 35%|███▌      | 17530/49737 [22:26<33:37, 15.97it/s]"
     ]
    },
    {
     "name": "stdout",
     "output_type": "stream",
     "text": [
      "0.00686124931178764\n",
      "no match for /home/chuongh/vm2m/data/HHM/synthesized/masks/27779/0.png\n"
     ]
    },
    {
     "name": "stderr",
     "output_type": "stream",
     "text": [
      " 35%|███▌      | 17539/49737 [22:26<29:47, 18.01it/s]"
     ]
    },
    {
     "name": "stdout",
     "output_type": "stream",
     "text": [
      "0.0002260426215915258\n",
      "no match for /home/chuongh/vm2m/data/HHM/synthesized/masks/21965/1.png\n"
     ]
    },
    {
     "name": "stderr",
     "output_type": "stream",
     "text": [
      " 35%|███▌      | 17557/49737 [22:28<33:11, 16.16it/s]"
     ]
    },
    {
     "name": "stdout",
     "output_type": "stream",
     "text": [
      "0.13418063848202808\n",
      "no match for /home/chuongh/vm2m/data/HHM/synthesized/masks/29813/0.png\n",
      "0.2296257982500866\n",
      "no match for /home/chuongh/vm2m/data/HHM/synthesized/masks/40251/1.png\n"
     ]
    },
    {
     "name": "stderr",
     "output_type": "stream",
     "text": [
      " 35%|███▌      | 17633/49737 [22:33<32:28, 16.48it/s]"
     ]
    },
    {
     "name": "stdout",
     "output_type": "stream",
     "text": [
      "0.23301492227336246\n",
      "no match for /home/chuongh/vm2m/data/HHM/synthesized/masks/27768/0.png\n"
     ]
    },
    {
     "name": "stderr",
     "output_type": "stream",
     "text": [
      " 35%|███▌      | 17648/49737 [22:34<34:30, 15.50it/s]"
     ]
    },
    {
     "name": "stdout",
     "output_type": "stream",
     "text": [
      "0.0010156682735273461\n",
      "no match for /home/chuongh/vm2m/data/HHM/synthesized/masks/16103/0.png\n"
     ]
    },
    {
     "name": "stderr",
     "output_type": "stream",
     "text": [
      " 36%|███▌      | 17663/49737 [22:35<39:31, 13.52it/s]"
     ]
    },
    {
     "name": "stdout",
     "output_type": "stream",
     "text": [
      "0\n",
      "no match for /home/chuongh/vm2m/data/HHM/synthesized/masks/27157/1.png\n"
     ]
    },
    {
     "name": "stderr",
     "output_type": "stream",
     "text": [
      " 36%|███▌      | 17695/49737 [22:38<48:38, 10.98it/s]"
     ]
    },
    {
     "name": "stdout",
     "output_type": "stream",
     "text": [
      "0.0216475302759881\n",
      "no match for /home/chuongh/vm2m/data/HHM/synthesized/masks/19384/0.png\n"
     ]
    },
    {
     "name": "stderr",
     "output_type": "stream",
     "text": [
      " 36%|███▌      | 17716/49737 [22:40<56:19,  9.48it/s]"
     ]
    },
    {
     "name": "stdout",
     "output_type": "stream",
     "text": [
      "9.338463262450642e-05\n",
      "no match for /home/chuongh/vm2m/data/HHM/synthesized/masks/22290/2.png\n"
     ]
    },
    {
     "name": "stderr",
     "output_type": "stream",
     "text": [
      " 36%|███▌      | 17728/49737 [22:40<36:24, 14.66it/s]"
     ]
    },
    {
     "name": "stdout",
     "output_type": "stream",
     "text": [
      "0.00011801156138639605\n",
      "no match for /home/chuongh/vm2m/data/HHM/synthesized/masks/42806/2.png\n"
     ]
    },
    {
     "name": "stderr",
     "output_type": "stream",
     "text": [
      " 36%|███▌      | 17736/49737 [22:41<40:38, 13.12it/s]"
     ]
    },
    {
     "name": "stdout",
     "output_type": "stream",
     "text": [
      "0.017241462114325583\n",
      "no match for /home/chuongh/vm2m/data/HHM/synthesized/masks/19357/3.png\n"
     ]
    },
    {
     "name": "stderr",
     "output_type": "stream",
     "text": [
      " 36%|███▌      | 17740/49737 [22:41<39:32, 13.49it/s]"
     ]
    },
    {
     "name": "stdout",
     "output_type": "stream",
     "text": [
      "0.22353102893981885\n",
      "no match for /home/chuongh/vm2m/data/HHM/synthesized/masks/39595/0.png\n"
     ]
    },
    {
     "name": "stderr",
     "output_type": "stream",
     "text": [
      " 36%|███▌      | 17751/49737 [22:42<37:59, 14.03it/s]"
     ]
    },
    {
     "name": "stdout",
     "output_type": "stream",
     "text": [
      "0.293780623345002\n",
      "no match for /home/chuongh/vm2m/data/HHM/synthesized/masks/6838/0.png\n"
     ]
    },
    {
     "name": "stderr",
     "output_type": "stream",
     "text": [
      " 36%|███▌      | 17775/49737 [22:44<42:47, 12.45it/s]"
     ]
    },
    {
     "name": "stdout",
     "output_type": "stream",
     "text": [
      "0.18091893289600688\n",
      "no match for /home/chuongh/vm2m/data/HHM/synthesized/masks/11034/1.png\n"
     ]
    },
    {
     "name": "stderr",
     "output_type": "stream",
     "text": [
      " 36%|███▌      | 17888/49737 [22:52<45:51, 11.57it/s]"
     ]
    },
    {
     "name": "stdout",
     "output_type": "stream",
     "text": [
      "0.18656925544807784\n",
      "no match for /home/chuongh/vm2m/data/HHM/synthesized/masks/42152/2.png\n"
     ]
    },
    {
     "name": "stderr",
     "output_type": "stream",
     "text": [
      " 36%|███▌      | 17910/49737 [22:54<39:35, 13.40it/s]"
     ]
    },
    {
     "name": "stdout",
     "output_type": "stream",
     "text": [
      "0.012681595722336488\n",
      "no match for /home/chuongh/vm2m/data/HHM/synthesized/masks/4007/0.png\n"
     ]
    },
    {
     "name": "stderr",
     "output_type": "stream",
     "text": [
      " 36%|███▌      | 17916/49737 [22:54<32:16, 16.44it/s]"
     ]
    },
    {
     "name": "stdout",
     "output_type": "stream",
     "text": [
      "0.15951942382009865\n",
      "no match for /home/chuongh/vm2m/data/HHM/synthesized/masks/9631/0.png\n"
     ]
    },
    {
     "name": "stderr",
     "output_type": "stream",
     "text": [
      " 36%|███▌      | 17927/49737 [22:55<34:27, 15.38it/s]"
     ]
    },
    {
     "name": "stdout",
     "output_type": "stream",
     "text": [
      "0.021774162667176532\n",
      "no match for /home/chuongh/vm2m/data/HHM/synthesized/masks/21282/1.png\n"
     ]
    },
    {
     "name": "stderr",
     "output_type": "stream",
     "text": [
      " 36%|███▌      | 17942/49737 [22:56<33:11, 15.96it/s]"
     ]
    },
    {
     "name": "stdout",
     "output_type": "stream",
     "text": [
      "0.22886050243385817\n",
      "no match for /home/chuongh/vm2m/data/HHM/synthesized/masks/5694/2.png\n"
     ]
    },
    {
     "name": "stderr",
     "output_type": "stream",
     "text": [
      " 36%|███▌      | 17971/49737 [22:58<32:56, 16.07it/s]"
     ]
    },
    {
     "name": "stdout",
     "output_type": "stream",
     "text": [
      "0.009629055306676007\n",
      "no match for /home/chuongh/vm2m/data/HHM/synthesized/masks/42632/0.png\n"
     ]
    },
    {
     "name": "stderr",
     "output_type": "stream",
     "text": [
      " 36%|███▌      | 17975/49737 [22:58<38:56, 13.59it/s]"
     ]
    },
    {
     "name": "stdout",
     "output_type": "stream",
     "text": [
      "0.24604885629318218\n",
      "no match for /home/chuongh/vm2m/data/HHM/synthesized/masks/14257/1.png\n"
     ]
    },
    {
     "name": "stderr",
     "output_type": "stream",
     "text": [
      " 36%|███▌      | 17997/49737 [23:00<36:33, 14.47it/s]"
     ]
    },
    {
     "name": "stdout",
     "output_type": "stream",
     "text": [
      "0.027003378402478122\n",
      "no match for /home/chuongh/vm2m/data/HHM/synthesized/masks/19903/0.png\n",
      "0.2629640222388626\n",
      "no match for /home/chuongh/vm2m/data/HHM/synthesized/masks/19903/1.png\n"
     ]
    },
    {
     "name": "stderr",
     "output_type": "stream",
     "text": [
      " 36%|███▋      | 18030/49737 [23:02<36:07, 14.63it/s]"
     ]
    },
    {
     "name": "stdout",
     "output_type": "stream",
     "text": [
      "0.016832212033712723\n",
      "no match for /home/chuongh/vm2m/data/HHM/synthesized/masks/45583/0.png\n"
     ]
    },
    {
     "name": "stderr",
     "output_type": "stream",
     "text": [
      " 36%|███▋      | 18059/49737 [23:04<51:18, 10.29it/s]"
     ]
    },
    {
     "name": "stdout",
     "output_type": "stream",
     "text": [
      "0.2177961114691359\n",
      "no match for /home/chuongh/vm2m/data/HHM/synthesized/masks/38756/0.png\n"
     ]
    },
    {
     "name": "stderr",
     "output_type": "stream",
     "text": [
      " 36%|███▋      | 18130/49737 [23:10<29:32, 17.83it/s]"
     ]
    },
    {
     "name": "stdout",
     "output_type": "stream",
     "text": [
      "0\n",
      "no match for /home/chuongh/vm2m/data/HHM/synthesized/masks/7070/0.png\n"
     ]
    },
    {
     "name": "stderr",
     "output_type": "stream",
     "text": [
      " 37%|███▋      | 18167/49737 [23:13<42:46, 12.30it/s]"
     ]
    },
    {
     "name": "stdout",
     "output_type": "stream",
     "text": [
      "0.011209022832355161\n",
      "no match for /home/chuongh/vm2m/data/HHM/synthesized/masks/43216/0.png\n"
     ]
    },
    {
     "name": "stderr",
     "output_type": "stream",
     "text": [
      " 37%|███▋      | 18205/49737 [23:16<35:47, 14.68it/s]"
     ]
    },
    {
     "name": "stdout",
     "output_type": "stream",
     "text": [
      "0\n",
      "no match for /home/chuongh/vm2m/data/HHM/synthesized/masks/10724/0.png\n"
     ]
    },
    {
     "name": "stderr",
     "output_type": "stream",
     "text": [
      " 37%|███▋      | 18211/49737 [23:16<37:23, 14.05it/s]"
     ]
    },
    {
     "name": "stdout",
     "output_type": "stream",
     "text": [
      "0\n",
      "no match for /home/chuongh/vm2m/data/HHM/synthesized/masks/35634/1.png\n"
     ]
    },
    {
     "name": "stderr",
     "output_type": "stream",
     "text": [
      " 37%|███▋      | 18219/49737 [23:17<40:53, 12.85it/s]"
     ]
    },
    {
     "name": "stdout",
     "output_type": "stream",
     "text": [
      "0.03833461861132626\n",
      "no match for /home/chuongh/vm2m/data/HHM/synthesized/masks/10333/0.png\n"
     ]
    },
    {
     "name": "stderr",
     "output_type": "stream",
     "text": [
      " 37%|███▋      | 18226/49737 [23:17<35:34, 14.76it/s]"
     ]
    },
    {
     "name": "stdout",
     "output_type": "stream",
     "text": [
      "0.17073931435779408\n",
      "no match for /home/chuongh/vm2m/data/HHM/synthesized/masks/43172/0.png\n",
      "0.12232127613743589\n",
      "no match for /home/chuongh/vm2m/data/HHM/synthesized/masks/8286/0.png\n"
     ]
    },
    {
     "name": "stderr",
     "output_type": "stream",
     "text": [
      " 37%|███▋      | 18297/49737 [23:22<38:17, 13.69it/s]"
     ]
    },
    {
     "name": "stdout",
     "output_type": "stream",
     "text": [
      "0.21544950857078063\n",
      "no match for /home/chuongh/vm2m/data/HHM/synthesized/masks/18374/0.png\n"
     ]
    },
    {
     "name": "stderr",
     "output_type": "stream",
     "text": [
      " 37%|███▋      | 18312/49737 [23:23<33:01, 15.86it/s]"
     ]
    },
    {
     "name": "stdout",
     "output_type": "stream",
     "text": [
      "0.26985326378229746\n",
      "no match for /home/chuongh/vm2m/data/HHM/synthesized/masks/38311/0.png\n"
     ]
    },
    {
     "name": "stderr",
     "output_type": "stream",
     "text": [
      " 37%|███▋      | 18394/49737 [23:29<26:29, 19.72it/s]"
     ]
    },
    {
     "name": "stdout",
     "output_type": "stream",
     "text": [
      "0.1574324829103672\n",
      "no match for /home/chuongh/vm2m/data/HHM/synthesized/masks/13870/0.png\n"
     ]
    },
    {
     "name": "stderr",
     "output_type": "stream",
     "text": [
      " 37%|███▋      | 18401/49737 [23:30<36:00, 14.51it/s]"
     ]
    },
    {
     "name": "stdout",
     "output_type": "stream",
     "text": [
      "0.2934840967446569\n",
      "no match for /home/chuongh/vm2m/data/HHM/synthesized/masks/20780/0.png\n"
     ]
    },
    {
     "name": "stderr",
     "output_type": "stream",
     "text": [
      " 37%|███▋      | 18421/49737 [23:31<36:27, 14.32it/s]"
     ]
    },
    {
     "name": "stdout",
     "output_type": "stream",
     "text": [
      "0\n",
      "no match for /home/chuongh/vm2m/data/HHM/synthesized/masks/9100/1.png\n"
     ]
    },
    {
     "name": "stderr",
     "output_type": "stream",
     "text": [
      " 37%|███▋      | 18457/49737 [23:34<41:33, 12.55it/s]"
     ]
    },
    {
     "name": "stdout",
     "output_type": "stream",
     "text": [
      "0.011425859279893435\n",
      "no match for /home/chuongh/vm2m/data/HHM/synthesized/masks/9584/1.png\n"
     ]
    },
    {
     "name": "stderr",
     "output_type": "stream",
     "text": [
      " 37%|███▋      | 18497/49737 [23:37<35:43, 14.58it/s]"
     ]
    },
    {
     "name": "stdout",
     "output_type": "stream",
     "text": [
      "0.14774029613174502\n",
      "no match for /home/chuongh/vm2m/data/HHM/synthesized/masks/12853/1.png\n",
      "0\n",
      "no match for /home/chuongh/vm2m/data/HHM/synthesized/masks/40375/2.png\n"
     ]
    },
    {
     "name": "stderr",
     "output_type": "stream",
     "text": [
      " 37%|███▋      | 18502/49737 [23:37<36:49, 14.14it/s]"
     ]
    },
    {
     "name": "stdout",
     "output_type": "stream",
     "text": [
      "0.023189460753997193\n",
      "no match for /home/chuongh/vm2m/data/HHM/synthesized/masks/17809/0.png\n"
     ]
    },
    {
     "name": "stderr",
     "output_type": "stream",
     "text": [
      " 37%|███▋      | 18517/49737 [23:38<33:19, 15.61it/s]"
     ]
    },
    {
     "name": "stdout",
     "output_type": "stream",
     "text": [
      "0.2341469739377253\n",
      "no match for /home/chuongh/vm2m/data/HHM/synthesized/masks/5314/0.png\n"
     ]
    },
    {
     "name": "stderr",
     "output_type": "stream",
     "text": [
      " 37%|███▋      | 18590/49737 [23:44<37:09, 13.97it/s]"
     ]
    },
    {
     "name": "stdout",
     "output_type": "stream",
     "text": [
      "0.16494321599450507\n",
      "no match for /home/chuongh/vm2m/data/HHM/synthesized/masks/25573/0.png\n"
     ]
    },
    {
     "name": "stderr",
     "output_type": "stream",
     "text": [
      " 37%|███▋      | 18595/49737 [23:44<37:23, 13.88it/s]"
     ]
    },
    {
     "name": "stdout",
     "output_type": "stream",
     "text": [
      "0.25336958434728085\n",
      "no match for /home/chuongh/vm2m/data/HHM/synthesized/masks/29082/1.png\n",
      "0.046087215538358574\n",
      "no match for /home/chuongh/vm2m/data/HHM/synthesized/masks/16528/0.png\n"
     ]
    },
    {
     "name": "stderr",
     "output_type": "stream",
     "text": [
      " 37%|███▋      | 18603/49737 [23:45<39:13, 13.23it/s]"
     ]
    },
    {
     "name": "stdout",
     "output_type": "stream",
     "text": [
      "0\n",
      "no match for /home/chuongh/vm2m/data/HHM/synthesized/masks/21674/0.png\n",
      "0.17045729403772145\n",
      "no match for /home/chuongh/vm2m/data/HHM/synthesized/masks/4191/1.png\n"
     ]
    },
    {
     "name": "stderr",
     "output_type": "stream",
     "text": [
      " 37%|███▋      | 18625/49737 [23:47<49:36, 10.45it/s]"
     ]
    },
    {
     "name": "stdout",
     "output_type": "stream",
     "text": [
      "0.26460567628748194\n",
      "no match for /home/chuongh/vm2m/data/HHM/synthesized/masks/22559/2.png\n"
     ]
    },
    {
     "name": "stderr",
     "output_type": "stream",
     "text": [
      " 38%|███▊      | 18652/49737 [23:49<37:47, 13.71it/s]"
     ]
    },
    {
     "name": "stdout",
     "output_type": "stream",
     "text": [
      "0.07973284960398684\n",
      "no match for /home/chuongh/vm2m/data/HHM/synthesized/masks/3018/2.png\n"
     ]
    },
    {
     "name": "stderr",
     "output_type": "stream",
     "text": [
      " 38%|███▊      | 18663/49737 [23:50<42:57, 12.05it/s]"
     ]
    },
    {
     "name": "stdout",
     "output_type": "stream",
     "text": [
      "0.257066070493813\n",
      "no match for /home/chuongh/vm2m/data/HHM/synthesized/masks/26398/0.png\n"
     ]
    },
    {
     "name": "stderr",
     "output_type": "stream",
     "text": [
      " 38%|███▊      | 18688/49737 [23:52<43:45, 11.83it/s]"
     ]
    },
    {
     "name": "stdout",
     "output_type": "stream",
     "text": [
      "0.2144732934567851\n",
      "no match for /home/chuongh/vm2m/data/HHM/synthesized/masks/19592/0.png\n"
     ]
    },
    {
     "name": "stderr",
     "output_type": "stream",
     "text": [
      " 38%|███▊      | 18692/49737 [23:52<43:18, 11.95it/s]"
     ]
    },
    {
     "name": "stdout",
     "output_type": "stream",
     "text": [
      "0.17811255458318\n",
      "no match for /home/chuongh/vm2m/data/HHM/synthesized/masks/957/0.png\n"
     ]
    },
    {
     "name": "stderr",
     "output_type": "stream",
     "text": [
      " 38%|███▊      | 18700/49737 [23:53<41:55, 12.34it/s]"
     ]
    },
    {
     "name": "stdout",
     "output_type": "stream",
     "text": [
      "0\n",
      "no match for /home/chuongh/vm2m/data/HHM/synthesized/masks/33276/0.png\n"
     ]
    },
    {
     "name": "stderr",
     "output_type": "stream",
     "text": [
      " 38%|███▊      | 18807/49737 [24:01<40:31, 12.72it/s]"
     ]
    },
    {
     "name": "stdout",
     "output_type": "stream",
     "text": [
      "0.010013736228189516\n",
      "no match for /home/chuongh/vm2m/data/HHM/synthesized/masks/37211/0.png\n"
     ]
    },
    {
     "name": "stderr",
     "output_type": "stream",
     "text": [
      " 38%|███▊      | 18821/49737 [24:02<49:19, 10.45it/s]"
     ]
    },
    {
     "name": "stdout",
     "output_type": "stream",
     "text": [
      "0.28913697352906215\n",
      "no match for /home/chuongh/vm2m/data/HHM/synthesized/masks/17341/3.png\n",
      "0.012558829416472342\n",
      "no match for /home/chuongh/vm2m/data/HHM/synthesized/masks/47882/0.png\n"
     ]
    },
    {
     "name": "stderr",
     "output_type": "stream",
     "text": [
      " 38%|███▊      | 18852/49737 [24:05<35:29, 14.50it/s]  "
     ]
    },
    {
     "name": "stdout",
     "output_type": "stream",
     "text": [
      "0.014052152167382533\n",
      "no match for /home/chuongh/vm2m/data/HHM/synthesized/masks/42030/0.png\n"
     ]
    },
    {
     "name": "stderr",
     "output_type": "stream",
     "text": [
      " 38%|███▊      | 18856/49737 [24:05<47:24, 10.86it/s]"
     ]
    },
    {
     "name": "stdout",
     "output_type": "stream",
     "text": [
      "0.2752917997544695\n",
      "no match for /home/chuongh/vm2m/data/HHM/synthesized/masks/16591/3.png\n"
     ]
    },
    {
     "name": "stderr",
     "output_type": "stream",
     "text": [
      " 38%|███▊      | 18874/49737 [24:07<37:15, 13.81it/s]"
     ]
    },
    {
     "name": "stdout",
     "output_type": "stream",
     "text": [
      "0.24561380162001148\n",
      "no match for /home/chuongh/vm2m/data/HHM/synthesized/masks/23057/0.png\n"
     ]
    },
    {
     "name": "stderr",
     "output_type": "stream",
     "text": [
      " 38%|███▊      | 18898/49737 [24:09<37:07, 13.84it/s]"
     ]
    },
    {
     "name": "stdout",
     "output_type": "stream",
     "text": [
      "0.21866763409501247\n",
      "no match for /home/chuongh/vm2m/data/HHM/synthesized/masks/47150/0.png\n"
     ]
    },
    {
     "name": "stderr",
     "output_type": "stream",
     "text": [
      " 38%|███▊      | 18946/49737 [24:12<36:53, 13.91it/s]"
     ]
    },
    {
     "name": "stdout",
     "output_type": "stream",
     "text": [
      "0.28389042251437097\n",
      "no match for /home/chuongh/vm2m/data/HHM/synthesized/masks/46720/0.png\n"
     ]
    },
    {
     "name": "stderr",
     "output_type": "stream",
     "text": [
      " 38%|███▊      | 18948/49737 [24:12<38:19, 13.39it/s]"
     ]
    },
    {
     "name": "stdout",
     "output_type": "stream",
     "text": [
      "0.13345636790095441\n",
      "no match for /home/chuongh/vm2m/data/HHM/synthesized/masks/13350/1.png\n"
     ]
    },
    {
     "name": "stderr",
     "output_type": "stream",
     "text": [
      " 38%|███▊      | 18991/49737 [24:15<29:22, 17.45it/s]"
     ]
    },
    {
     "name": "stdout",
     "output_type": "stream",
     "text": [
      "0\n",
      "no match for /home/chuongh/vm2m/data/HHM/synthesized/masks/31694/0.png\n"
     ]
    },
    {
     "name": "stderr",
     "output_type": "stream",
     "text": [
      " 38%|███▊      | 19025/49737 [24:18<38:01, 13.46it/s]"
     ]
    },
    {
     "name": "stdout",
     "output_type": "stream",
     "text": [
      "0.016652966274644413\n",
      "no match for /home/chuongh/vm2m/data/HHM/synthesized/masks/33874/0.png\n"
     ]
    },
    {
     "name": "stderr",
     "output_type": "stream",
     "text": [
      " 38%|███▊      | 19063/49737 [24:20<30:11, 16.94it/s]"
     ]
    },
    {
     "name": "stdout",
     "output_type": "stream",
     "text": [
      "0.0043795076315086764\n",
      "no match for /home/chuongh/vm2m/data/HHM/synthesized/masks/44565/0.png\n",
      "0.27112756824015916\n",
      "no match for /home/chuongh/vm2m/data/HHM/synthesized/masks/25138/0.png\n"
     ]
    },
    {
     "name": "stderr",
     "output_type": "stream",
     "text": [
      " 38%|███▊      | 19118/49737 [24:25<37:01, 13.79it/s]"
     ]
    },
    {
     "name": "stdout",
     "output_type": "stream",
     "text": [
      "0.1599655687092508\n",
      "no match for /home/chuongh/vm2m/data/HHM/synthesized/masks/11630/1.png\n"
     ]
    },
    {
     "name": "stderr",
     "output_type": "stream",
     "text": [
      " 38%|███▊      | 19129/49737 [24:26<44:56, 11.35it/s]"
     ]
    },
    {
     "name": "stdout",
     "output_type": "stream",
     "text": [
      "0\n",
      "no match for /home/chuongh/vm2m/data/HHM/synthesized/masks/13219/3.png\n"
     ]
    },
    {
     "name": "stderr",
     "output_type": "stream",
     "text": [
      " 38%|███▊      | 19132/49737 [24:26<37:41, 13.54it/s]"
     ]
    },
    {
     "name": "stdout",
     "output_type": "stream",
     "text": [
      "0.23772724526534544\n",
      "no match for /home/chuongh/vm2m/data/HHM/synthesized/masks/23871/0.png\n"
     ]
    },
    {
     "name": "stderr",
     "output_type": "stream",
     "text": [
      " 38%|███▊      | 19138/49737 [24:26<40:05, 12.72it/s]"
     ]
    },
    {
     "name": "stdout",
     "output_type": "stream",
     "text": [
      "0.21681513828188223\n",
      "no match for /home/chuongh/vm2m/data/HHM/synthesized/masks/29319/0.png\n"
     ]
    },
    {
     "name": "stderr",
     "output_type": "stream",
     "text": [
      " 39%|███▊      | 19152/49737 [24:27<34:45, 14.67it/s]"
     ]
    },
    {
     "name": "stdout",
     "output_type": "stream",
     "text": [
      "0.28383317392965296\n",
      "no match for /home/chuongh/vm2m/data/HHM/synthesized/masks/32536/0.png\n"
     ]
    },
    {
     "name": "stderr",
     "output_type": "stream",
     "text": [
      " 39%|███▊      | 19176/49737 [24:29<31:13, 16.31it/s]"
     ]
    },
    {
     "name": "stdout",
     "output_type": "stream",
     "text": [
      "0.059287873698226384\n",
      "no match for /home/chuongh/vm2m/data/HHM/synthesized/masks/1514/0.png\n"
     ]
    },
    {
     "name": "stderr",
     "output_type": "stream",
     "text": [
      " 39%|███▊      | 19205/49737 [24:31<40:24, 12.59it/s]"
     ]
    },
    {
     "name": "stdout",
     "output_type": "stream",
     "text": [
      "0.23697009409647996\n",
      "no match for /home/chuongh/vm2m/data/HHM/synthesized/masks/35276/0.png\n"
     ]
    },
    {
     "name": "stderr",
     "output_type": "stream",
     "text": [
      " 39%|███▊      | 19227/49737 [24:33<28:58, 17.55it/s]"
     ]
    },
    {
     "name": "stdout",
     "output_type": "stream",
     "text": [
      "0.1399634840063676\n",
      "no match for /home/chuongh/vm2m/data/HHM/synthesized/masks/33304/0.png\n",
      "0.15585817927624687\n",
      "no match for /home/chuongh/vm2m/data/HHM/synthesized/masks/34689/1.png\n"
     ]
    },
    {
     "name": "stderr",
     "output_type": "stream",
     "text": [
      " 39%|███▊      | 19268/49737 [24:36<39:38, 12.81it/s]"
     ]
    },
    {
     "name": "stdout",
     "output_type": "stream",
     "text": [
      "0.0016617851727179609\n",
      "no match for /home/chuongh/vm2m/data/HHM/synthesized/masks/45072/0.png\n"
     ]
    },
    {
     "name": "stderr",
     "output_type": "stream",
     "text": [
      " 39%|███▉      | 19274/49737 [24:37<47:08, 10.77it/s]"
     ]
    },
    {
     "name": "stdout",
     "output_type": "stream",
     "text": [
      "0.2280655902334346\n",
      "no match for /home/chuongh/vm2m/data/HHM/synthesized/masks/43279/1.png\n"
     ]
    },
    {
     "name": "stderr",
     "output_type": "stream",
     "text": [
      " 39%|███▉      | 19301/49737 [24:39<35:01, 14.49it/s]"
     ]
    },
    {
     "name": "stdout",
     "output_type": "stream",
     "text": [
      "0.16526024762547512\n",
      "no match for /home/chuongh/vm2m/data/HHM/synthesized/masks/6578/0.png\n"
     ]
    },
    {
     "name": "stderr",
     "output_type": "stream",
     "text": [
      " 39%|███▉      | 19309/49737 [24:39<36:52, 13.75it/s]"
     ]
    },
    {
     "name": "stdout",
     "output_type": "stream",
     "text": [
      "0.006862029933307196\n",
      "no match for /home/chuongh/vm2m/data/HHM/synthesized/masks/22369/3.png\n"
     ]
    },
    {
     "name": "stderr",
     "output_type": "stream",
     "text": [
      " 39%|███▉      | 19319/49737 [24:40<32:59, 15.36it/s]"
     ]
    },
    {
     "name": "stdout",
     "output_type": "stream",
     "text": [
      "0.29458017879527476\n",
      "no match for /home/chuongh/vm2m/data/HHM/synthesized/masks/12879/1.png\n"
     ]
    },
    {
     "name": "stderr",
     "output_type": "stream",
     "text": [
      " 39%|███▉      | 19336/49737 [24:41<36:18, 13.95it/s]"
     ]
    },
    {
     "name": "stdout",
     "output_type": "stream",
     "text": [
      "0.27253191740507343\n",
      "no match for /home/chuongh/vm2m/data/HHM/synthesized/masks/37298/0.png\n"
     ]
    },
    {
     "name": "stderr",
     "output_type": "stream",
     "text": [
      " 39%|███▉      | 19353/49737 [24:43<44:27, 11.39it/s]"
     ]
    },
    {
     "name": "stdout",
     "output_type": "stream",
     "text": [
      "0.11361009639821606\n",
      "no match for /home/chuongh/vm2m/data/HHM/synthesized/masks/42026/0.png\n"
     ]
    },
    {
     "name": "stderr",
     "output_type": "stream",
     "text": [
      " 39%|███▉      | 19460/49737 [24:51<36:49, 13.70it/s]"
     ]
    },
    {
     "name": "stdout",
     "output_type": "stream",
     "text": [
      "0.2462789060000125\n",
      "no match for /home/chuongh/vm2m/data/HHM/synthesized/masks/34621/1.png\n"
     ]
    },
    {
     "name": "stderr",
     "output_type": "stream",
     "text": [
      " 39%|███▉      | 19487/49737 [24:53<35:24, 14.24it/s]"
     ]
    },
    {
     "name": "stdout",
     "output_type": "stream",
     "text": [
      "0\n",
      "no match for /home/chuongh/vm2m/data/HHM/synthesized/masks/23136/0.png\n",
      "0.19417424390931945\n",
      "no match for /home/chuongh/vm2m/data/HHM/synthesized/masks/39467/1.png\n"
     ]
    },
    {
     "name": "stderr",
     "output_type": "stream",
     "text": [
      " 39%|███▉      | 19496/49737 [24:53<35:04, 14.37it/s]"
     ]
    },
    {
     "name": "stdout",
     "output_type": "stream",
     "text": [
      "0.18730388165601702\n",
      "no match for /home/chuongh/vm2m/data/HHM/synthesized/masks/34667/0.png\n"
     ]
    },
    {
     "name": "stderr",
     "output_type": "stream",
     "text": [
      " 39%|███▉      | 19516/49737 [24:55<41:06, 12.25it/s]"
     ]
    },
    {
     "name": "stdout",
     "output_type": "stream",
     "text": [
      "0.04401859045461344\n",
      "no match for /home/chuongh/vm2m/data/HHM/synthesized/masks/44671/0.png\n"
     ]
    },
    {
     "name": "stderr",
     "output_type": "stream",
     "text": [
      " 39%|███▉      | 19525/49737 [24:55<31:29, 15.99it/s]"
     ]
    },
    {
     "name": "stdout",
     "output_type": "stream",
     "text": [
      "0.025681691598443492\n",
      "no match for /home/chuongh/vm2m/data/HHM/synthesized/masks/25279/0.png\n"
     ]
    },
    {
     "name": "stderr",
     "output_type": "stream",
     "text": [
      " 39%|███▉      | 19552/49737 [24:57<33:35, 14.98it/s]"
     ]
    },
    {
     "name": "stdout",
     "output_type": "stream",
     "text": [
      "0.021867700128378912\n",
      "no match for /home/chuongh/vm2m/data/HHM/synthesized/masks/43984/0.png\n"
     ]
    },
    {
     "name": "stderr",
     "output_type": "stream",
     "text": [
      " 39%|███▉      | 19566/49737 [24:59<45:12, 11.12it/s]"
     ]
    },
    {
     "name": "stdout",
     "output_type": "stream",
     "text": [
      "0.2081098358634244\n",
      "no match for /home/chuongh/vm2m/data/HHM/synthesized/masks/15935/0.png\n"
     ]
    },
    {
     "name": "stderr",
     "output_type": "stream",
     "text": [
      " 39%|███▉      | 19572/49737 [24:59<38:04, 13.20it/s]"
     ]
    },
    {
     "name": "stdout",
     "output_type": "stream",
     "text": [
      "0.2680269432175036\n",
      "no match for /home/chuongh/vm2m/data/HHM/synthesized/masks/40487/2.png\n"
     ]
    },
    {
     "name": "stderr",
     "output_type": "stream",
     "text": [
      " 39%|███▉      | 19601/49737 [25:01<37:34, 13.37it/s]"
     ]
    },
    {
     "name": "stdout",
     "output_type": "stream",
     "text": [
      "0.014338910652196791\n",
      "no match for /home/chuongh/vm2m/data/HHM/synthesized/masks/49793/1.png\n"
     ]
    },
    {
     "name": "stderr",
     "output_type": "stream",
     "text": [
      " 39%|███▉      | 19616/49737 [25:02<44:28, 11.29it/s]"
     ]
    },
    {
     "name": "stdout",
     "output_type": "stream",
     "text": [
      "0.020530775968868015\n",
      "no match for /home/chuongh/vm2m/data/HHM/synthesized/masks/8656/0.png\n"
     ]
    },
    {
     "name": "stderr",
     "output_type": "stream",
     "text": [
      " 39%|███▉      | 19622/49737 [25:03<41:23, 12.13it/s]"
     ]
    },
    {
     "name": "stdout",
     "output_type": "stream",
     "text": [
      "0.008421795595684862\n",
      "no match for /home/chuongh/vm2m/data/HHM/synthesized/masks/42850/0.png\n",
      "0.016948509680360345\n",
      "no match for /home/chuongh/vm2m/data/HHM/synthesized/masks/14620/1.png\n"
     ]
    },
    {
     "name": "stderr",
     "output_type": "stream",
     "text": [
      " 39%|███▉      | 19644/49737 [25:04<29:40, 16.90it/s]"
     ]
    },
    {
     "name": "stdout",
     "output_type": "stream",
     "text": [
      "0.00843540418842435\n",
      "no match for /home/chuongh/vm2m/data/HHM/synthesized/masks/17780/0.png\n"
     ]
    },
    {
     "name": "stderr",
     "output_type": "stream",
     "text": [
      " 40%|███▉      | 19696/49737 [25:08<33:20, 15.02it/s]"
     ]
    },
    {
     "name": "stdout",
     "output_type": "stream",
     "text": [
      "0.28748086147414903\n",
      "no match for /home/chuongh/vm2m/data/HHM/synthesized/masks/29824/0.png\n"
     ]
    },
    {
     "name": "stderr",
     "output_type": "stream",
     "text": [
      " 40%|███▉      | 19717/49737 [25:10<31:07, 16.08it/s]"
     ]
    },
    {
     "name": "stdout",
     "output_type": "stream",
     "text": [
      "0.0943183424603276\n",
      "no match for /home/chuongh/vm2m/data/HHM/synthesized/masks/28210/1.png\n"
     ]
    },
    {
     "name": "stderr",
     "output_type": "stream",
     "text": [
      " 40%|███▉      | 19745/49737 [25:12<30:47, 16.23it/s]"
     ]
    },
    {
     "name": "stdout",
     "output_type": "stream",
     "text": [
      "0.26884093917076507\n",
      "no match for /home/chuongh/vm2m/data/HHM/synthesized/masks/12167/1.png\n"
     ]
    },
    {
     "name": "stderr",
     "output_type": "stream",
     "text": [
      " 40%|███▉      | 19782/49737 [25:14<40:44, 12.25it/s]"
     ]
    },
    {
     "name": "stdout",
     "output_type": "stream",
     "text": [
      "0.1895348736419069\n",
      "no match for /home/chuongh/vm2m/data/HHM/synthesized/masks/18218/0.png\n"
     ]
    },
    {
     "name": "stderr",
     "output_type": "stream",
     "text": [
      " 40%|███▉      | 19796/49737 [25:16<38:32, 12.95it/s]"
     ]
    },
    {
     "name": "stdout",
     "output_type": "stream",
     "text": [
      "0\n",
      "no match for /home/chuongh/vm2m/data/HHM/synthesized/masks/8162/0.png\n"
     ]
    },
    {
     "name": "stderr",
     "output_type": "stream",
     "text": [
      " 40%|███▉      | 19807/49737 [25:16<35:45, 13.95it/s]"
     ]
    },
    {
     "name": "stdout",
     "output_type": "stream",
     "text": [
      "0.2940815215076533\n",
      "no match for /home/chuongh/vm2m/data/HHM/synthesized/masks/944/2.png\n"
     ]
    },
    {
     "name": "stderr",
     "output_type": "stream",
     "text": [
      " 40%|███▉      | 19845/49737 [25:19<30:11, 16.50it/s]"
     ]
    },
    {
     "name": "stdout",
     "output_type": "stream",
     "text": [
      "0.21864118744549071\n",
      "no match for /home/chuongh/vm2m/data/HHM/synthesized/masks/19505/1.png\n",
      "0.010219104529296912\n",
      "no match for /home/chuongh/vm2m/data/HHM/synthesized/masks/35246/0.png\n"
     ]
    },
    {
     "name": "stderr",
     "output_type": "stream",
     "text": [
      " 40%|███▉      | 19862/49737 [25:20<30:33, 16.30it/s]"
     ]
    },
    {
     "name": "stdout",
     "output_type": "stream",
     "text": [
      "0.03790609812560229\n",
      "no match for /home/chuongh/vm2m/data/HHM/synthesized/masks/22748/1.png\n"
     ]
    },
    {
     "name": "stderr",
     "output_type": "stream",
     "text": [
      " 40%|███▉      | 19889/49737 [25:22<38:59, 12.76it/s]"
     ]
    },
    {
     "name": "stdout",
     "output_type": "stream",
     "text": [
      "0\n",
      "no match for /home/chuongh/vm2m/data/HHM/synthesized/masks/37507/0.png\n"
     ]
    },
    {
     "name": "stderr",
     "output_type": "stream",
     "text": [
      " 40%|████      | 19916/49737 [25:24<44:29, 11.17it/s]"
     ]
    },
    {
     "name": "stdout",
     "output_type": "stream",
     "text": [
      "0.14508856551455\n",
      "no match for /home/chuongh/vm2m/data/HHM/synthesized/masks/24813/2.png\n"
     ]
    },
    {
     "name": "stderr",
     "output_type": "stream",
     "text": [
      " 40%|████      | 19920/49737 [25:25<49:42, 10.00it/s]"
     ]
    },
    {
     "name": "stdout",
     "output_type": "stream",
     "text": [
      "0.09644139243669461\n",
      "no match for /home/chuongh/vm2m/data/HHM/synthesized/masks/9792/0.png\n",
      "0.25182014823313476\n",
      "no match for /home/chuongh/vm2m/data/HHM/synthesized/masks/23420/0.png\n"
     ]
    },
    {
     "name": "stderr",
     "output_type": "stream",
     "text": [
      " 40%|████      | 19959/49737 [25:28<31:35, 15.71it/s]"
     ]
    },
    {
     "name": "stdout",
     "output_type": "stream",
     "text": [
      "0.034229140901521064\n",
      "no match for /home/chuongh/vm2m/data/HHM/synthesized/masks/8816/0.png\n"
     ]
    },
    {
     "name": "stderr",
     "output_type": "stream",
     "text": [
      " 40%|████      | 19969/49737 [25:29<34:01, 14.58it/s]"
     ]
    },
    {
     "name": "stdout",
     "output_type": "stream",
     "text": [
      "0.14449084169194887\n",
      "no match for /home/chuongh/vm2m/data/HHM/synthesized/masks/10323/0.png\n"
     ]
    },
    {
     "name": "stderr",
     "output_type": "stream",
     "text": [
      " 40%|████      | 20009/49737 [25:32<38:36, 12.83it/s]"
     ]
    },
    {
     "name": "stdout",
     "output_type": "stream",
     "text": [
      "0.1340210974542378\n",
      "no match for /home/chuongh/vm2m/data/HHM/synthesized/masks/44485/2.png\n"
     ]
    },
    {
     "name": "stderr",
     "output_type": "stream",
     "text": [
      " 40%|████      | 20016/49737 [25:32<41:17, 11.99it/s]"
     ]
    },
    {
     "name": "stdout",
     "output_type": "stream",
     "text": [
      "0.1725691803927236\n",
      "no match for /home/chuongh/vm2m/data/HHM/synthesized/masks/19464/1.png\n"
     ]
    },
    {
     "name": "stderr",
     "output_type": "stream",
     "text": [
      " 40%|████      | 20023/49737 [25:33<33:25, 14.82it/s]"
     ]
    },
    {
     "name": "stdout",
     "output_type": "stream",
     "text": [
      "0.2719241292003105\n",
      "no match for /home/chuongh/vm2m/data/HHM/synthesized/masks/11478/1.png\n"
     ]
    },
    {
     "name": "stderr",
     "output_type": "stream",
     "text": [
      " 40%|████      | 20083/49737 [25:37<38:37, 12.80it/s]"
     ]
    },
    {
     "name": "stdout",
     "output_type": "stream",
     "text": [
      "0.023419306647846003\n",
      "no match for /home/chuongh/vm2m/data/HHM/synthesized/masks/49458/0.png\n"
     ]
    },
    {
     "name": "stderr",
     "output_type": "stream",
     "text": [
      " 40%|████      | 20096/49737 [25:38<38:20, 12.89it/s]"
     ]
    },
    {
     "name": "stdout",
     "output_type": "stream",
     "text": [
      "0.030819360880474093\n",
      "no match for /home/chuongh/vm2m/data/HHM/synthesized/masks/18936/1.png\n"
     ]
    },
    {
     "name": "stderr",
     "output_type": "stream",
     "text": [
      " 40%|████      | 20122/49737 [25:41<38:00, 12.99it/s]"
     ]
    },
    {
     "name": "stdout",
     "output_type": "stream",
     "text": [
      "0.21601386065607103\n",
      "no match for /home/chuongh/vm2m/data/HHM/synthesized/masks/7737/1.png\n"
     ]
    },
    {
     "name": "stderr",
     "output_type": "stream",
     "text": [
      " 40%|████      | 20129/49737 [25:41<39:03, 12.64it/s]"
     ]
    },
    {
     "name": "stdout",
     "output_type": "stream",
     "text": [
      "0.003288386923258512\n",
      "no match for /home/chuongh/vm2m/data/HHM/synthesized/masks/22078/0.png\n"
     ]
    },
    {
     "name": "stderr",
     "output_type": "stream",
     "text": [
      " 41%|████      | 20160/49737 [25:44<35:07, 14.04it/s]"
     ]
    },
    {
     "name": "stdout",
     "output_type": "stream",
     "text": [
      "0.1073438834353462\n",
      "no match for /home/chuongh/vm2m/data/HHM/synthesized/masks/6271/1.png\n"
     ]
    },
    {
     "name": "stderr",
     "output_type": "stream",
     "text": [
      " 41%|████      | 20185/49737 [25:45<33:16, 14.80it/s]"
     ]
    },
    {
     "name": "stdout",
     "output_type": "stream",
     "text": [
      "0.1397505418976432\n",
      "no match for /home/chuongh/vm2m/data/HHM/synthesized/masks/47245/1.png\n",
      "0.0004023425276033692\n",
      "no match for /home/chuongh/vm2m/data/HHM/synthesized/masks/5846/1.png\n"
     ]
    },
    {
     "name": "stderr",
     "output_type": "stream",
     "text": [
      " 41%|████      | 20221/49737 [25:48<38:00, 12.94it/s]"
     ]
    },
    {
     "name": "stdout",
     "output_type": "stream",
     "text": [
      "0.13673724608821883\n",
      "no match for /home/chuongh/vm2m/data/HHM/synthesized/masks/7459/1.png\n"
     ]
    },
    {
     "name": "stderr",
     "output_type": "stream",
     "text": [
      " 41%|████      | 20232/49737 [25:49<30:49, 15.95it/s]"
     ]
    },
    {
     "name": "stdout",
     "output_type": "stream",
     "text": [
      "0.28440720939093234\n",
      "no match for /home/chuongh/vm2m/data/HHM/synthesized/masks/28573/2.png\n"
     ]
    },
    {
     "name": "stderr",
     "output_type": "stream",
     "text": [
      " 41%|████      | 20245/49737 [25:49<24:42, 19.89it/s]"
     ]
    },
    {
     "name": "stdout",
     "output_type": "stream",
     "text": [
      "0.2641464308148106\n",
      "no match for /home/chuongh/vm2m/data/HHM/synthesized/masks/6744/1.png\n",
      "0.1771986524859099\n",
      "no match for /home/chuongh/vm2m/data/HHM/synthesized/masks/21296/1.png\n"
     ]
    },
    {
     "name": "stderr",
     "output_type": "stream",
     "text": [
      " 41%|████      | 20278/49737 [25:52<43:30, 11.28it/s]"
     ]
    },
    {
     "name": "stdout",
     "output_type": "stream",
     "text": [
      "0.02523614903032721\n",
      "no match for /home/chuongh/vm2m/data/HHM/synthesized/masks/4368/0.png\n"
     ]
    },
    {
     "name": "stderr",
     "output_type": "stream",
     "text": [
      " 41%|████      | 20286/49737 [25:53<38:15, 12.83it/s]"
     ]
    },
    {
     "name": "stdout",
     "output_type": "stream",
     "text": [
      "0.025507319943191113\n",
      "no match for /home/chuongh/vm2m/data/HHM/synthesized/masks/12356/1.png\n"
     ]
    },
    {
     "name": "stderr",
     "output_type": "stream",
     "text": [
      " 41%|████      | 20308/49737 [25:54<32:28, 15.10it/s]"
     ]
    },
    {
     "name": "stdout",
     "output_type": "stream",
     "text": [
      "0.007577357074125252\n",
      "no match for /home/chuongh/vm2m/data/HHM/synthesized/masks/35809/1.png\n"
     ]
    },
    {
     "name": "stderr",
     "output_type": "stream",
     "text": [
      " 41%|████      | 20313/49737 [25:54<32:10, 15.24it/s]"
     ]
    },
    {
     "name": "stdout",
     "output_type": "stream",
     "text": [
      "0.05541319227930505\n",
      "no match for /home/chuongh/vm2m/data/HHM/synthesized/masks/8065/0.png\n",
      "0.015509359566306839\n",
      "no match for /home/chuongh/vm2m/data/HHM/synthesized/masks/19762/1.png\n"
     ]
    },
    {
     "name": "stderr",
     "output_type": "stream",
     "text": [
      " 41%|████      | 20320/49737 [25:55<35:45, 13.71it/s]"
     ]
    },
    {
     "name": "stdout",
     "output_type": "stream",
     "text": [
      "0.014582401631925649\n",
      "no match for /home/chuongh/vm2m/data/HHM/synthesized/masks/36891/0.png\n"
     ]
    },
    {
     "name": "stderr",
     "output_type": "stream",
     "text": [
      " 41%|████      | 20334/49737 [25:56<33:00, 14.85it/s]"
     ]
    },
    {
     "name": "stdout",
     "output_type": "stream",
     "text": [
      "0.23072031992790165\n",
      "no match for /home/chuongh/vm2m/data/HHM/synthesized/masks/16402/2.png\n"
     ]
    },
    {
     "name": "stderr",
     "output_type": "stream",
     "text": [
      " 41%|████      | 20358/49737 [25:58<42:29, 11.52it/s]"
     ]
    },
    {
     "name": "stdout",
     "output_type": "stream",
     "text": [
      "0.03294815959527624\n",
      "no match for /home/chuongh/vm2m/data/HHM/synthesized/masks/21581/0.png\n"
     ]
    },
    {
     "name": "stderr",
     "output_type": "stream",
     "text": [
      " 41%|████      | 20364/49737 [25:58<47:34, 10.29it/s]"
     ]
    },
    {
     "name": "stdout",
     "output_type": "stream",
     "text": [
      "0.09888297510022359\n",
      "no match for /home/chuongh/vm2m/data/HHM/synthesized/masks/15777/0.png\n"
     ]
    },
    {
     "name": "stderr",
     "output_type": "stream",
     "text": [
      " 41%|████      | 20376/49737 [25:59<31:11, 15.69it/s]"
     ]
    },
    {
     "name": "stdout",
     "output_type": "stream",
     "text": [
      "0.19993886139342484\n",
      "no match for /home/chuongh/vm2m/data/HHM/synthesized/masks/29729/1.png\n"
     ]
    },
    {
     "name": "stderr",
     "output_type": "stream",
     "text": [
      " 41%|████      | 20399/49737 [26:01<33:53, 14.43it/s]"
     ]
    },
    {
     "name": "stdout",
     "output_type": "stream",
     "text": [
      "0.03239320057699741\n",
      "no match for /home/chuongh/vm2m/data/HHM/synthesized/masks/10632/1.png\n"
     ]
    },
    {
     "name": "stderr",
     "output_type": "stream",
     "text": [
      " 41%|████      | 20440/49737 [26:04<32:25, 15.06it/s]"
     ]
    },
    {
     "name": "stdout",
     "output_type": "stream",
     "text": [
      "0.13930251425920454\n",
      "no match for /home/chuongh/vm2m/data/HHM/synthesized/masks/3152/0.png\n",
      "0.19255000642697365\n",
      "no match for /home/chuongh/vm2m/data/HHM/synthesized/masks/33497/0.png\n"
     ]
    },
    {
     "name": "stderr",
     "output_type": "stream",
     "text": [
      " 41%|████      | 20459/49737 [26:06<36:13, 13.47it/s]"
     ]
    },
    {
     "name": "stdout",
     "output_type": "stream",
     "text": [
      "0.09986347207562082\n",
      "no match for /home/chuongh/vm2m/data/HHM/synthesized/masks/32798/0.png\n"
     ]
    },
    {
     "name": "stderr",
     "output_type": "stream",
     "text": [
      " 41%|████      | 20465/49737 [26:06<37:55, 12.86it/s]"
     ]
    },
    {
     "name": "stdout",
     "output_type": "stream",
     "text": [
      "0.04626989974044999\n",
      "no match for /home/chuongh/vm2m/data/HHM/synthesized/masks/41561/2.png\n",
      "0.2640983259142691\n",
      "no match for /home/chuongh/vm2m/data/HHM/synthesized/masks/27736/0.png\n"
     ]
    },
    {
     "name": "stderr",
     "output_type": "stream",
     "text": [
      " 41%|████      | 20508/49737 [26:09<32:29, 14.99it/s]"
     ]
    },
    {
     "name": "stdout",
     "output_type": "stream",
     "text": [
      "0.023498321272464814\n",
      "no match for /home/chuongh/vm2m/data/HHM/synthesized/masks/2711/0.png\n"
     ]
    },
    {
     "name": "stderr",
     "output_type": "stream",
     "text": [
      " 41%|████      | 20512/49737 [26:10<31:56, 15.25it/s]"
     ]
    },
    {
     "name": "stdout",
     "output_type": "stream",
     "text": [
      "0.005233737815784297\n",
      "no match for /home/chuongh/vm2m/data/HHM/synthesized/masks/40454/2.png\n"
     ]
    },
    {
     "name": "stderr",
     "output_type": "stream",
     "text": [
      " 41%|████▏     | 20601/49737 [26:16<34:49, 13.94it/s]"
     ]
    },
    {
     "name": "stdout",
     "output_type": "stream",
     "text": [
      "0.20977503593438224\n",
      "no match for /home/chuongh/vm2m/data/HHM/synthesized/masks/35487/1.png\n"
     ]
    },
    {
     "name": "stderr",
     "output_type": "stream",
     "text": [
      " 41%|████▏     | 20611/49737 [26:17<33:26, 14.52it/s]"
     ]
    },
    {
     "name": "stdout",
     "output_type": "stream",
     "text": [
      "0.11270235912183978\n",
      "no match for /home/chuongh/vm2m/data/HHM/synthesized/masks/46912/1.png\n"
     ]
    },
    {
     "name": "stderr",
     "output_type": "stream",
     "text": [
      " 41%|████▏     | 20617/49737 [26:17<25:05, 19.34it/s]"
     ]
    },
    {
     "name": "stdout",
     "output_type": "stream",
     "text": [
      "0.018560490261167437\n",
      "no match for /home/chuongh/vm2m/data/HHM/synthesized/masks/28882/0.png\n"
     ]
    },
    {
     "name": "stderr",
     "output_type": "stream",
     "text": [
      " 41%|████▏     | 20625/49737 [26:18<32:31, 14.92it/s]"
     ]
    },
    {
     "name": "stdout",
     "output_type": "stream",
     "text": [
      "0.1436871727060287\n",
      "no match for /home/chuongh/vm2m/data/HHM/synthesized/masks/37897/0.png\n"
     ]
    },
    {
     "name": "stderr",
     "output_type": "stream",
     "text": [
      " 42%|████▏     | 20657/49737 [26:20<45:15, 10.71it/s]"
     ]
    },
    {
     "name": "stdout",
     "output_type": "stream",
     "text": [
      "0\n",
      "no match for /home/chuongh/vm2m/data/HHM/synthesized/masks/43488/2.png\n"
     ]
    },
    {
     "name": "stderr",
     "output_type": "stream",
     "text": [
      " 42%|████▏     | 20706/49737 [26:24<40:59, 11.80it/s]"
     ]
    },
    {
     "name": "stdout",
     "output_type": "stream",
     "text": [
      "0.017999924090932668\n",
      "no match for /home/chuongh/vm2m/data/HHM/synthesized/masks/42865/1.png\n"
     ]
    },
    {
     "name": "stderr",
     "output_type": "stream",
     "text": [
      " 42%|████▏     | 20730/49737 [26:26<32:24, 14.92it/s]"
     ]
    },
    {
     "name": "stdout",
     "output_type": "stream",
     "text": [
      "0.11231875141203905\n",
      "no match for /home/chuongh/vm2m/data/HHM/synthesized/masks/44086/0.png\n"
     ]
    },
    {
     "name": "stderr",
     "output_type": "stream",
     "text": [
      " 42%|████▏     | 20760/49737 [26:28<34:30, 14.00it/s]"
     ]
    },
    {
     "name": "stdout",
     "output_type": "stream",
     "text": [
      "0\n",
      "no match for /home/chuongh/vm2m/data/HHM/synthesized/masks/34257/0.png\n",
      "0\n",
      "no match for /home/chuongh/vm2m/data/HHM/synthesized/masks/34257/2.png\n",
      "0.21735037440828253\n",
      "no match for /home/chuongh/vm2m/data/HHM/synthesized/masks/10197/1.png\n"
     ]
    },
    {
     "name": "stderr",
     "output_type": "stream",
     "text": [
      " 42%|████▏     | 20773/49737 [26:29<50:15,  9.61it/s]"
     ]
    },
    {
     "name": "stdout",
     "output_type": "stream",
     "text": [
      "0.05800550993149404\n",
      "no match for /home/chuongh/vm2m/data/HHM/synthesized/masks/1706/0.png\n",
      "0.13763368494934197\n",
      "no match for /home/chuongh/vm2m/data/HHM/synthesized/masks/1706/1.png\n",
      "0.12031950389243638\n",
      "no match for /home/chuongh/vm2m/data/HHM/synthesized/masks/45456/0.png\n"
     ]
    },
    {
     "name": "stderr",
     "output_type": "stream",
     "text": [
      " 42%|████▏     | 20775/49737 [26:29<44:19, 10.89it/s]"
     ]
    },
    {
     "name": "stdout",
     "output_type": "stream",
     "text": [
      "0.28523812576067503\n",
      "no match for /home/chuongh/vm2m/data/HHM/synthesized/masks/15775/1.png\n"
     ]
    },
    {
     "name": "stderr",
     "output_type": "stream",
     "text": [
      " 42%|████▏     | 20831/49737 [26:34<39:21, 12.24it/s]"
     ]
    },
    {
     "name": "stdout",
     "output_type": "stream",
     "text": [
      "0.06477807962147288\n",
      "no match for /home/chuongh/vm2m/data/HHM/synthesized/masks/47803/0.png\n"
     ]
    },
    {
     "name": "stderr",
     "output_type": "stream",
     "text": [
      " 42%|████▏     | 20843/49737 [26:35<34:49, 13.83it/s]"
     ]
    },
    {
     "name": "stdout",
     "output_type": "stream",
     "text": [
      "0.04411128018686115\n",
      "no match for /home/chuongh/vm2m/data/HHM/synthesized/masks/42421/0.png\n"
     ]
    },
    {
     "name": "stderr",
     "output_type": "stream",
     "text": [
      " 42%|████▏     | 20909/49737 [26:40<42:38, 11.27it/s]"
     ]
    },
    {
     "name": "stdout",
     "output_type": "stream",
     "text": [
      "0.03997476355030622\n",
      "no match for /home/chuongh/vm2m/data/HHM/synthesized/masks/12154/2.png\n"
     ]
    },
    {
     "name": "stderr",
     "output_type": "stream",
     "text": [
      " 42%|████▏     | 20919/49737 [26:41<35:08, 13.67it/s]"
     ]
    },
    {
     "name": "stdout",
     "output_type": "stream",
     "text": [
      "0.2913144269974921\n",
      "no match for /home/chuongh/vm2m/data/HHM/synthesized/masks/5942/1.png\n"
     ]
    },
    {
     "name": "stderr",
     "output_type": "stream",
     "text": [
      " 42%|████▏     | 20927/49737 [26:41<29:10, 16.46it/s]"
     ]
    },
    {
     "name": "stdout",
     "output_type": "stream",
     "text": [
      "0.24154683648253505\n",
      "no match for /home/chuongh/vm2m/data/HHM/synthesized/masks/39977/1.png\n",
      "0.015253837373144544\n",
      "no match for /home/chuongh/vm2m/data/HHM/synthesized/masks/39977/2.png\n"
     ]
    },
    {
     "name": "stderr",
     "output_type": "stream",
     "text": [
      " 42%|████▏     | 20947/49737 [26:42<25:14, 19.01it/s]"
     ]
    },
    {
     "name": "stdout",
     "output_type": "stream",
     "text": [
      "0\n",
      "no match for /home/chuongh/vm2m/data/HHM/synthesized/masks/6085/1.png\n"
     ]
    },
    {
     "name": "stderr",
     "output_type": "stream",
     "text": [
      " 42%|████▏     | 20956/49737 [26:43<26:00, 18.45it/s]"
     ]
    },
    {
     "name": "stdout",
     "output_type": "stream",
     "text": [
      "0\n",
      "no match for /home/chuongh/vm2m/data/HHM/synthesized/masks/20702/1.png\n"
     ]
    },
    {
     "name": "stderr",
     "output_type": "stream",
     "text": [
      " 42%|████▏     | 20966/49737 [26:44<38:58, 12.30it/s]"
     ]
    },
    {
     "name": "stdout",
     "output_type": "stream",
     "text": [
      "0.2095082221974614\n",
      "no match for /home/chuongh/vm2m/data/HHM/synthesized/masks/37227/3.png\n"
     ]
    },
    {
     "name": "stderr",
     "output_type": "stream",
     "text": [
      " 42%|████▏     | 20999/49737 [26:46<28:47, 16.64it/s]"
     ]
    },
    {
     "name": "stdout",
     "output_type": "stream",
     "text": [
      "0.20955825668425968\n",
      "no match for /home/chuongh/vm2m/data/HHM/synthesized/masks/16592/1.png\n"
     ]
    },
    {
     "name": "stderr",
     "output_type": "stream",
     "text": [
      " 42%|████▏     | 21003/49737 [26:47<31:34, 15.17it/s]"
     ]
    },
    {
     "name": "stdout",
     "output_type": "stream",
     "text": [
      "0\n",
      "no match for /home/chuongh/vm2m/data/HHM/synthesized/masks/37642/2.png\n"
     ]
    },
    {
     "name": "stderr",
     "output_type": "stream",
     "text": [
      " 42%|████▏     | 21030/49737 [26:48<30:07, 15.89it/s]"
     ]
    },
    {
     "name": "stdout",
     "output_type": "stream",
     "text": [
      "0\n",
      "no match for /home/chuongh/vm2m/data/HHM/synthesized/masks/12829/1.png\n"
     ]
    },
    {
     "name": "stderr",
     "output_type": "stream",
     "text": [
      " 42%|████▏     | 21034/49737 [26:49<32:39, 14.65it/s]"
     ]
    },
    {
     "name": "stdout",
     "output_type": "stream",
     "text": [
      "0.14758821075797418\n",
      "no match for /home/chuongh/vm2m/data/HHM/synthesized/masks/3988/1.png\n"
     ]
    },
    {
     "name": "stderr",
     "output_type": "stream",
     "text": [
      " 42%|████▏     | 21077/49737 [26:52<34:50, 13.71it/s]"
     ]
    },
    {
     "name": "stdout",
     "output_type": "stream",
     "text": [
      "0.23508025311172465\n",
      "no match for /home/chuongh/vm2m/data/HHM/synthesized/masks/16533/1.png\n"
     ]
    },
    {
     "name": "stderr",
     "output_type": "stream",
     "text": [
      " 42%|████▏     | 21098/49737 [26:54<36:00, 13.26it/s]"
     ]
    },
    {
     "name": "stdout",
     "output_type": "stream",
     "text": [
      "0.26635017853647536\n",
      "no match for /home/chuongh/vm2m/data/HHM/synthesized/masks/19316/2.png\n"
     ]
    },
    {
     "name": "stderr",
     "output_type": "stream",
     "text": [
      " 42%|████▏     | 21112/49737 [26:55<32:44, 14.57it/s]"
     ]
    },
    {
     "name": "stdout",
     "output_type": "stream",
     "text": [
      "0.01661747815590518\n",
      "no match for /home/chuongh/vm2m/data/HHM/synthesized/masks/31274/1.png\n"
     ]
    },
    {
     "name": "stderr",
     "output_type": "stream",
     "text": [
      " 42%|████▏     | 21120/49737 [26:56<35:06, 13.59it/s]"
     ]
    },
    {
     "name": "stdout",
     "output_type": "stream",
     "text": [
      "0.1357124947762044\n",
      "no match for /home/chuongh/vm2m/data/HHM/synthesized/masks/37518/1.png\n"
     ]
    },
    {
     "name": "stderr",
     "output_type": "stream",
     "text": [
      " 43%|████▎     | 21149/49737 [26:58<41:03, 11.60it/s]"
     ]
    },
    {
     "name": "stdout",
     "output_type": "stream",
     "text": [
      "0.25215491995975553\n",
      "no match for /home/chuongh/vm2m/data/HHM/synthesized/masks/4266/0.png\n"
     ]
    },
    {
     "name": "stderr",
     "output_type": "stream",
     "text": [
      " 43%|████▎     | 21157/49737 [26:58<39:49, 11.96it/s]"
     ]
    },
    {
     "name": "stdout",
     "output_type": "stream",
     "text": [
      "0.003475820883573411\n",
      "no match for /home/chuongh/vm2m/data/HHM/synthesized/masks/48953/2.png\n"
     ]
    },
    {
     "name": "stderr",
     "output_type": "stream",
     "text": [
      " 43%|████▎     | 21174/49737 [27:00<40:26, 11.77it/s]"
     ]
    },
    {
     "name": "stdout",
     "output_type": "stream",
     "text": [
      "0.02791425808431972\n",
      "no match for /home/chuongh/vm2m/data/HHM/synthesized/masks/19579/2.png\n"
     ]
    },
    {
     "name": "stderr",
     "output_type": "stream",
     "text": [
      " 43%|████▎     | 21217/49737 [27:03<32:33, 14.60it/s]"
     ]
    },
    {
     "name": "stdout",
     "output_type": "stream",
     "text": [
      "0.20776636277015045\n",
      "no match for /home/chuongh/vm2m/data/HHM/synthesized/masks/27700/1.png\n"
     ]
    },
    {
     "name": "stderr",
     "output_type": "stream",
     "text": [
      " 43%|████▎     | 21221/49737 [27:03<34:05, 13.94it/s]"
     ]
    },
    {
     "name": "stdout",
     "output_type": "stream",
     "text": [
      "0.28187834252238225\n",
      "no match for /home/chuongh/vm2m/data/HHM/synthesized/masks/25629/0.png\n"
     ]
    },
    {
     "name": "stderr",
     "output_type": "stream",
     "text": [
      " 43%|████▎     | 21227/49737 [27:04<36:39, 12.96it/s]"
     ]
    },
    {
     "name": "stdout",
     "output_type": "stream",
     "text": [
      "0.08485621144304525\n",
      "no match for /home/chuongh/vm2m/data/HHM/synthesized/masks/17500/1.png\n"
     ]
    },
    {
     "name": "stderr",
     "output_type": "stream",
     "text": [
      " 43%|████▎     | 21232/49737 [27:04<33:40, 14.11it/s]"
     ]
    },
    {
     "name": "stdout",
     "output_type": "stream",
     "text": [
      "0.11142819469507502\n",
      "no match for /home/chuongh/vm2m/data/HHM/synthesized/masks/49526/1.png\n"
     ]
    },
    {
     "name": "stderr",
     "output_type": "stream",
     "text": [
      " 43%|████▎     | 21241/49737 [27:05<30:24, 15.62it/s]"
     ]
    },
    {
     "name": "stdout",
     "output_type": "stream",
     "text": [
      "0.09519978634215194\n",
      "no match for /home/chuongh/vm2m/data/HHM/synthesized/masks/15021/1.png\n"
     ]
    },
    {
     "name": "stderr",
     "output_type": "stream",
     "text": [
      " 43%|████▎     | 21278/49737 [27:08<27:17, 17.38it/s]"
     ]
    },
    {
     "name": "stdout",
     "output_type": "stream",
     "text": [
      "0.00022881958306039462\n",
      "no match for /home/chuongh/vm2m/data/HHM/synthesized/masks/41295/0.png\n"
     ]
    },
    {
     "name": "stderr",
     "output_type": "stream",
     "text": [
      " 43%|████▎     | 21316/49737 [27:10<37:37, 12.59it/s]"
     ]
    },
    {
     "name": "stdout",
     "output_type": "stream",
     "text": [
      "0.21271257006380476\n",
      "no match for /home/chuongh/vm2m/data/HHM/synthesized/masks/15050/1.png\n"
     ]
    },
    {
     "name": "stderr",
     "output_type": "stream",
     "text": [
      " 43%|████▎     | 21336/49737 [27:12<42:12, 11.21it/s]"
     ]
    },
    {
     "name": "stdout",
     "output_type": "stream",
     "text": [
      "0.014889112903200791\n",
      "no match for /home/chuongh/vm2m/data/HHM/synthesized/masks/34823/0.png\n"
     ]
    },
    {
     "name": "stderr",
     "output_type": "stream",
     "text": [
      " 43%|████▎     | 21356/49737 [27:13<32:06, 14.73it/s]"
     ]
    },
    {
     "name": "stdout",
     "output_type": "stream",
     "text": [
      "0.2032751745107925\n",
      "no match for /home/chuongh/vm2m/data/HHM/synthesized/masks/21008/1.png\n"
     ]
    },
    {
     "name": "stderr",
     "output_type": "stream",
     "text": [
      " 43%|████▎     | 21407/49737 [27:17<28:36, 16.51it/s]"
     ]
    },
    {
     "name": "stdout",
     "output_type": "stream",
     "text": [
      "0.06882925932722234\n",
      "no match for /home/chuongh/vm2m/data/HHM/synthesized/masks/7102/1.png\n"
     ]
    },
    {
     "name": "stderr",
     "output_type": "stream",
     "text": [
      " 43%|████▎     | 21432/49737 [27:18<31:58, 14.75it/s]"
     ]
    },
    {
     "name": "stdout",
     "output_type": "stream",
     "text": [
      "0.2181237833489485\n",
      "no match for /home/chuongh/vm2m/data/HHM/synthesized/masks/16478/2.png\n"
     ]
    },
    {
     "name": "stderr",
     "output_type": "stream",
     "text": [
      " 43%|████▎     | 21441/49737 [27:19<37:15, 12.66it/s]"
     ]
    },
    {
     "name": "stdout",
     "output_type": "stream",
     "text": [
      "0.2901770432920227\n",
      "no match for /home/chuongh/vm2m/data/HHM/synthesized/masks/4814/0.png\n"
     ]
    },
    {
     "name": "stderr",
     "output_type": "stream",
     "text": [
      " 43%|████▎     | 21477/49737 [27:22<32:42, 14.40it/s]"
     ]
    },
    {
     "name": "stdout",
     "output_type": "stream",
     "text": [
      "0.01462211380887484\n",
      "no match for /home/chuongh/vm2m/data/HHM/synthesized/masks/5436/2.png\n"
     ]
    },
    {
     "name": "stderr",
     "output_type": "stream",
     "text": [
      " 43%|████▎     | 21486/49737 [27:23<30:39, 15.35it/s]"
     ]
    },
    {
     "name": "stdout",
     "output_type": "stream",
     "text": [
      "0.031020168012188997\n",
      "no match for /home/chuongh/vm2m/data/HHM/synthesized/masks/38168/0.png\n",
      "0.18675132182019039\n",
      "no match for /home/chuongh/vm2m/data/HHM/synthesized/masks/23132/1.png\n"
     ]
    },
    {
     "name": "stderr",
     "output_type": "stream",
     "text": [
      " 43%|████▎     | 21517/49737 [27:25<31:27, 14.95it/s]"
     ]
    },
    {
     "name": "stdout",
     "output_type": "stream",
     "text": [
      "0.020637651903317008\n",
      "no match for /home/chuongh/vm2m/data/HHM/synthesized/masks/4914/1.png\n"
     ]
    },
    {
     "name": "stderr",
     "output_type": "stream",
     "text": [
      " 43%|████▎     | 21525/49737 [27:26<37:21, 12.59it/s]"
     ]
    },
    {
     "name": "stdout",
     "output_type": "stream",
     "text": [
      "0.06760229684572763\n",
      "no match for /home/chuongh/vm2m/data/HHM/synthesized/masks/23595/1.png\n"
     ]
    },
    {
     "name": "stderr",
     "output_type": "stream",
     "text": [
      " 43%|████▎     | 21539/49737 [27:27<41:03, 11.45it/s]"
     ]
    },
    {
     "name": "stdout",
     "output_type": "stream",
     "text": [
      "0.0014248988020786968\n",
      "no match for /home/chuongh/vm2m/data/HHM/synthesized/masks/8017/0.png\n"
     ]
    },
    {
     "name": "stderr",
     "output_type": "stream",
     "text": [
      " 43%|████▎     | 21548/49737 [27:28<40:40, 11.55it/s]"
     ]
    },
    {
     "name": "stdout",
     "output_type": "stream",
     "text": [
      "0.22345010073666274\n",
      "no match for /home/chuongh/vm2m/data/HHM/synthesized/masks/11039/2.png\n"
     ]
    },
    {
     "name": "stderr",
     "output_type": "stream",
     "text": [
      " 43%|████▎     | 21560/49737 [27:29<39:54, 11.77it/s]"
     ]
    },
    {
     "name": "stdout",
     "output_type": "stream",
     "text": [
      "0.17742742489746133\n",
      "no match for /home/chuongh/vm2m/data/HHM/synthesized/masks/22274/0.png\n"
     ]
    },
    {
     "name": "stderr",
     "output_type": "stream",
     "text": [
      " 44%|████▎     | 21663/49737 [27:37<35:30, 13.18it/s]  "
     ]
    },
    {
     "name": "stdout",
     "output_type": "stream",
     "text": [
      "0.02015987667361995\n",
      "no match for /home/chuongh/vm2m/data/HHM/synthesized/masks/46725/1.png\n"
     ]
    },
    {
     "name": "stderr",
     "output_type": "stream",
     "text": [
      " 44%|████▎     | 21687/49737 [27:39<35:38, 13.12it/s]"
     ]
    },
    {
     "name": "stdout",
     "output_type": "stream",
     "text": [
      "0.19002157837462655\n",
      "no match for /home/chuongh/vm2m/data/HHM/synthesized/masks/35003/2.png\n"
     ]
    },
    {
     "name": "stderr",
     "output_type": "stream",
     "text": [
      " 44%|████▎     | 21715/49737 [27:41<26:59, 17.30it/s]"
     ]
    },
    {
     "name": "stdout",
     "output_type": "stream",
     "text": [
      "0.11327015162925509\n",
      "no match for /home/chuongh/vm2m/data/HHM/synthesized/masks/48826/1.png\n"
     ]
    },
    {
     "name": "stderr",
     "output_type": "stream",
     "text": [
      " 44%|████▍     | 21784/49737 [27:46<35:22, 13.17it/s]"
     ]
    },
    {
     "name": "stdout",
     "output_type": "stream",
     "text": [
      "0.2538344393844275\n",
      "no match for /home/chuongh/vm2m/data/HHM/synthesized/masks/29753/0.png\n"
     ]
    },
    {
     "name": "stderr",
     "output_type": "stream",
     "text": [
      " 44%|████▍     | 21806/49737 [27:47<39:46, 11.70it/s]"
     ]
    },
    {
     "name": "stdout",
     "output_type": "stream",
     "text": [
      "0.0466372370810574\n",
      "no match for /home/chuongh/vm2m/data/HHM/synthesized/masks/8470/3.png\n"
     ]
    },
    {
     "name": "stderr",
     "output_type": "stream",
     "text": [
      " 44%|████▍     | 21848/49737 [27:51<28:52, 16.10it/s]"
     ]
    },
    {
     "name": "stdout",
     "output_type": "stream",
     "text": [
      "0.2015085973931659\n",
      "no match for /home/chuongh/vm2m/data/HHM/synthesized/masks/36200/0.png\n"
     ]
    },
    {
     "name": "stderr",
     "output_type": "stream",
     "text": [
      " 44%|████▍     | 21881/49737 [27:53<39:01, 11.90it/s]"
     ]
    },
    {
     "name": "stdout",
     "output_type": "stream",
     "text": [
      "0.2118651989349092\n",
      "no match for /home/chuongh/vm2m/data/HHM/synthesized/masks/3984/1.png\n"
     ]
    },
    {
     "name": "stderr",
     "output_type": "stream",
     "text": [
      " 44%|████▍     | 21927/49737 [27:57<35:29, 13.06it/s]"
     ]
    },
    {
     "name": "stdout",
     "output_type": "stream",
     "text": [
      "0.187053269875439\n",
      "no match for /home/chuongh/vm2m/data/HHM/synthesized/masks/25883/1.png\n"
     ]
    },
    {
     "name": "stderr",
     "output_type": "stream",
     "text": [
      " 44%|████▍     | 21965/49737 [27:59<34:45, 13.31it/s]"
     ]
    },
    {
     "name": "stdout",
     "output_type": "stream",
     "text": [
      "0\n",
      "no match for /home/chuongh/vm2m/data/HHM/synthesized/masks/28646/0.png\n"
     ]
    },
    {
     "name": "stderr",
     "output_type": "stream",
     "text": [
      " 44%|████▍     | 22061/49737 [28:07<35:10, 13.11it/s]"
     ]
    },
    {
     "name": "stdout",
     "output_type": "stream",
     "text": [
      "0.11063904360776458\n",
      "no match for /home/chuongh/vm2m/data/HHM/synthesized/masks/29344/1.png\n",
      "0.0013677398546837448\n",
      "no match for /home/chuongh/vm2m/data/HHM/synthesized/masks/29344/2.png\n",
      "0.1430064570063718\n",
      "no match for /home/chuongh/vm2m/data/HHM/synthesized/masks/540/1.png\n"
     ]
    },
    {
     "name": "stderr",
     "output_type": "stream",
     "text": [
      " 44%|████▍     | 22104/49737 [28:10<40:18, 11.43it/s]"
     ]
    },
    {
     "name": "stdout",
     "output_type": "stream",
     "text": [
      "0.025156827813119984\n",
      "no match for /home/chuongh/vm2m/data/HHM/synthesized/masks/29698/0.png\n"
     ]
    },
    {
     "name": "stderr",
     "output_type": "stream",
     "text": [
      " 44%|████▍     | 22113/49737 [28:11<41:15, 11.16it/s]"
     ]
    },
    {
     "name": "stdout",
     "output_type": "stream",
     "text": [
      "0.21959857710326486\n",
      "no match for /home/chuongh/vm2m/data/HHM/synthesized/masks/36129/1.png\n"
     ]
    },
    {
     "name": "stderr",
     "output_type": "stream",
     "text": [
      " 44%|████▍     | 22120/49737 [28:12<39:17, 11.71it/s]"
     ]
    },
    {
     "name": "stdout",
     "output_type": "stream",
     "text": [
      "0.23825531645585332\n",
      "no match for /home/chuongh/vm2m/data/HHM/synthesized/masks/6854/2.png\n"
     ]
    },
    {
     "name": "stderr",
     "output_type": "stream",
     "text": [
      " 45%|████▍     | 22156/49737 [28:14<32:35, 14.11it/s]"
     ]
    },
    {
     "name": "stdout",
     "output_type": "stream",
     "text": [
      "0.2317116680888145\n",
      "no match for /home/chuongh/vm2m/data/HHM/synthesized/masks/1875/1.png\n"
     ]
    },
    {
     "name": "stderr",
     "output_type": "stream",
     "text": [
      " 45%|████▍     | 22164/49737 [28:15<41:39, 11.03it/s]"
     ]
    },
    {
     "name": "stdout",
     "output_type": "stream",
     "text": [
      "0.23144303048990877\n",
      "no match for /home/chuongh/vm2m/data/HHM/synthesized/masks/1015/3.png\n"
     ]
    },
    {
     "name": "stderr",
     "output_type": "stream",
     "text": [
      " 45%|████▍     | 22175/49737 [28:16<29:31, 15.56it/s]"
     ]
    },
    {
     "name": "stdout",
     "output_type": "stream",
     "text": [
      "0.006985514569114025\n",
      "no match for /home/chuongh/vm2m/data/HHM/synthesized/masks/30643/0.png\n"
     ]
    },
    {
     "name": "stderr",
     "output_type": "stream",
     "text": [
      " 45%|████▍     | 22179/49737 [28:16<39:05, 11.75it/s]"
     ]
    },
    {
     "name": "stdout",
     "output_type": "stream",
     "text": [
      "0.24585453322836737\n",
      "no match for /home/chuongh/vm2m/data/HHM/synthesized/masks/16824/0.png\n"
     ]
    },
    {
     "name": "stderr",
     "output_type": "stream",
     "text": [
      " 45%|████▍     | 22184/49737 [28:16<31:35, 14.54it/s]"
     ]
    },
    {
     "name": "stdout",
     "output_type": "stream",
     "text": [
      "0.2884942106987675\n",
      "no match for /home/chuongh/vm2m/data/HHM/synthesized/masks/22351/1.png\n"
     ]
    },
    {
     "name": "stderr",
     "output_type": "stream",
     "text": [
      " 45%|████▍     | 22186/49737 [28:17<30:57, 14.83it/s]"
     ]
    },
    {
     "name": "stdout",
     "output_type": "stream",
     "text": [
      "0.29423113953722585\n",
      "no match for /home/chuongh/vm2m/data/HHM/synthesized/masks/12589/1.png\n"
     ]
    },
    {
     "name": "stderr",
     "output_type": "stream",
     "text": [
      " 45%|████▍     | 22195/49737 [28:17<29:04, 15.79it/s]"
     ]
    },
    {
     "name": "stdout",
     "output_type": "stream",
     "text": [
      "0\n",
      "no match for /home/chuongh/vm2m/data/HHM/synthesized/masks/22694/0.png\n",
      "0\n",
      "no match for /home/chuongh/vm2m/data/HHM/synthesized/masks/22694/2.png\n"
     ]
    },
    {
     "name": "stderr",
     "output_type": "stream",
     "text": [
      " 45%|████▍     | 22217/49737 [28:19<28:09, 16.29it/s]"
     ]
    },
    {
     "name": "stdout",
     "output_type": "stream",
     "text": [
      "0.2080608232099692\n",
      "no match for /home/chuongh/vm2m/data/HHM/synthesized/masks/15272/0.png\n"
     ]
    },
    {
     "name": "stderr",
     "output_type": "stream",
     "text": [
      " 45%|████▍     | 22240/49737 [28:21<31:57, 14.34it/s]"
     ]
    },
    {
     "name": "stdout",
     "output_type": "stream",
     "text": [
      "0.18918584814656797\n",
      "no match for /home/chuongh/vm2m/data/HHM/synthesized/masks/13792/0.png\n"
     ]
    },
    {
     "name": "stderr",
     "output_type": "stream",
     "text": [
      " 45%|████▍     | 22253/49737 [28:22<36:12, 12.65it/s]"
     ]
    },
    {
     "name": "stdout",
     "output_type": "stream",
     "text": [
      "0.08454491389210117\n",
      "no match for /home/chuongh/vm2m/data/HHM/synthesized/masks/36773/2.png\n"
     ]
    },
    {
     "name": "stderr",
     "output_type": "stream",
     "text": [
      " 45%|████▍     | 22258/49737 [28:22<38:42, 11.83it/s]"
     ]
    },
    {
     "name": "stdout",
     "output_type": "stream",
     "text": [
      "0.22404299910117037\n",
      "no match for /home/chuongh/vm2m/data/HHM/synthesized/masks/17831/0.png\n"
     ]
    },
    {
     "name": "stderr",
     "output_type": "stream",
     "text": [
      " 45%|████▍     | 22279/49737 [28:23<29:48, 15.35it/s]"
     ]
    },
    {
     "name": "stdout",
     "output_type": "stream",
     "text": [
      "0.17037951702890866\n",
      "no match for /home/chuongh/vm2m/data/HHM/synthesized/masks/12131/0.png\n"
     ]
    },
    {
     "name": "stderr",
     "output_type": "stream",
     "text": [
      " 45%|████▍     | 22313/49737 [28:26<29:27, 15.52it/s]"
     ]
    },
    {
     "name": "stdout",
     "output_type": "stream",
     "text": [
      "0.04842341240606453\n",
      "no match for /home/chuongh/vm2m/data/HHM/synthesized/masks/24647/0.png\n"
     ]
    },
    {
     "name": "stderr",
     "output_type": "stream",
     "text": [
      " 45%|████▍     | 22361/49737 [28:30<30:22, 15.02it/s]"
     ]
    },
    {
     "name": "stdout",
     "output_type": "stream",
     "text": [
      "0.24629509662776028\n",
      "no match for /home/chuongh/vm2m/data/HHM/synthesized/masks/5696/0.png\n"
     ]
    },
    {
     "name": "stderr",
     "output_type": "stream",
     "text": [
      " 45%|████▍     | 22366/49737 [28:31<28:55, 15.77it/s]"
     ]
    },
    {
     "name": "stdout",
     "output_type": "stream",
     "text": [
      "0.2818754419123067\n",
      "no match for /home/chuongh/vm2m/data/HHM/synthesized/masks/6139/1.png\n"
     ]
    },
    {
     "name": "stderr",
     "output_type": "stream",
     "text": [
      " 45%|████▍     | 22368/49737 [28:31<33:26, 13.64it/s]"
     ]
    },
    {
     "name": "stdout",
     "output_type": "stream",
     "text": [
      "0.03136594212895798\n",
      "no match for /home/chuongh/vm2m/data/HHM/synthesized/masks/16158/0.png\n"
     ]
    },
    {
     "name": "stderr",
     "output_type": "stream",
     "text": [
      " 45%|████▍     | 22375/49737 [28:32<39:40, 11.49it/s]"
     ]
    },
    {
     "name": "stdout",
     "output_type": "stream",
     "text": [
      "0.20931786230173677\n",
      "no match for /home/chuongh/vm2m/data/HHM/synthesized/masks/30578/1.png\n"
     ]
    },
    {
     "name": "stderr",
     "output_type": "stream",
     "text": [
      " 45%|████▍     | 22377/49737 [28:32<40:07, 11.36it/s]"
     ]
    },
    {
     "name": "stdout",
     "output_type": "stream",
     "text": [
      "0.29650319817830284\n",
      "no match for /home/chuongh/vm2m/data/HHM/synthesized/masks/26736/2.png\n",
      "0.07677039189247488\n",
      "no match for /home/chuongh/vm2m/data/HHM/synthesized/masks/39174/0.png\n"
     ]
    },
    {
     "name": "stderr",
     "output_type": "stream",
     "text": [
      " 45%|████▌     | 22387/49737 [28:32<28:03, 16.24it/s]"
     ]
    },
    {
     "name": "stdout",
     "output_type": "stream",
     "text": [
      "0.03812942981055809\n",
      "no match for /home/chuongh/vm2m/data/HHM/synthesized/masks/27415/0.png\n"
     ]
    },
    {
     "name": "stderr",
     "output_type": "stream",
     "text": [
      " 45%|████▌     | 22407/49737 [28:34<33:48, 13.47it/s]"
     ]
    },
    {
     "name": "stdout",
     "output_type": "stream",
     "text": [
      "0.09691400417192737\n",
      "no match for /home/chuongh/vm2m/data/HHM/synthesized/masks/30653/0.png\n"
     ]
    },
    {
     "name": "stderr",
     "output_type": "stream",
     "text": [
      " 45%|████▌     | 22424/49737 [28:35<48:47,  9.33it/s]"
     ]
    },
    {
     "name": "stdout",
     "output_type": "stream",
     "text": [
      "0.03958206239286977\n",
      "no match for /home/chuongh/vm2m/data/HHM/synthesized/masks/17037/1.png\n"
     ]
    },
    {
     "name": "stderr",
     "output_type": "stream",
     "text": [
      " 45%|████▌     | 22430/49737 [28:36<41:38, 10.93it/s]"
     ]
    },
    {
     "name": "stdout",
     "output_type": "stream",
     "text": [
      "0.056783790624041035\n",
      "no match for /home/chuongh/vm2m/data/HHM/synthesized/masks/21638/1.png\n"
     ]
    },
    {
     "name": "stderr",
     "output_type": "stream",
     "text": [
      " 45%|████▌     | 22442/49737 [28:37<32:48, 13.87it/s]"
     ]
    },
    {
     "name": "stdout",
     "output_type": "stream",
     "text": [
      "0.05457045961118665\n",
      "no match for /home/chuongh/vm2m/data/HHM/synthesized/masks/47969/0.png\n"
     ]
    },
    {
     "name": "stderr",
     "output_type": "stream",
     "text": [
      " 45%|████▌     | 22447/49737 [28:37<37:03, 12.27it/s]"
     ]
    },
    {
     "name": "stdout",
     "output_type": "stream",
     "text": [
      "0.1632105632693129\n",
      "no match for /home/chuongh/vm2m/data/HHM/synthesized/masks/1587/0.png\n",
      "0.010814687169975216\n",
      "no match for /home/chuongh/vm2m/data/HHM/synthesized/masks/10409/0.png\n"
     ]
    },
    {
     "name": "stderr",
     "output_type": "stream",
     "text": [
      " 45%|████▌     | 22456/49737 [28:38<33:02, 13.76it/s]"
     ]
    },
    {
     "name": "stdout",
     "output_type": "stream",
     "text": [
      "0.29283653650727226\n",
      "no match for /home/chuongh/vm2m/data/HHM/synthesized/masks/22530/0.png\n"
     ]
    },
    {
     "name": "stderr",
     "output_type": "stream",
     "text": [
      " 45%|████▌     | 22467/49737 [28:39<37:32, 12.11it/s]"
     ]
    },
    {
     "name": "stdout",
     "output_type": "stream",
     "text": [
      "0.25116847516656815\n",
      "no match for /home/chuongh/vm2m/data/HHM/synthesized/masks/34955/1.png\n"
     ]
    },
    {
     "name": "stderr",
     "output_type": "stream",
     "text": [
      " 45%|████▌     | 22476/49737 [28:40<37:51, 12.00it/s]"
     ]
    },
    {
     "name": "stdout",
     "output_type": "stream",
     "text": [
      "0.28129243947218124\n",
      "no match for /home/chuongh/vm2m/data/HHM/synthesized/masks/8772/0.png\n"
     ]
    },
    {
     "name": "stderr",
     "output_type": "stream",
     "text": [
      " 45%|████▌     | 22521/49737 [28:43<28:21, 15.99it/s]"
     ]
    },
    {
     "name": "stdout",
     "output_type": "stream",
     "text": [
      "0.013317253110279197\n",
      "no match for /home/chuongh/vm2m/data/HHM/synthesized/masks/9615/0.png\n"
     ]
    },
    {
     "name": "stderr",
     "output_type": "stream",
     "text": [
      " 45%|████▌     | 22539/49737 [28:44<24:59, 18.14it/s]"
     ]
    },
    {
     "name": "stdout",
     "output_type": "stream",
     "text": [
      "0.24426737245139418\n",
      "no match for /home/chuongh/vm2m/data/HHM/synthesized/masks/28584/1.png\n",
      "0.01704461114119144\n",
      "no match for /home/chuongh/vm2m/data/HHM/synthesized/masks/46459/0.png\n"
     ]
    },
    {
     "name": "stderr",
     "output_type": "stream",
     "text": [
      " 45%|████▌     | 22553/49737 [28:45<25:01, 18.11it/s]"
     ]
    },
    {
     "name": "stdout",
     "output_type": "stream",
     "text": [
      "0.2576113220566655\n",
      "no match for /home/chuongh/vm2m/data/HHM/synthesized/masks/21833/2.png\n"
     ]
    },
    {
     "name": "stderr",
     "output_type": "stream",
     "text": [
      " 45%|████▌     | 22557/49737 [28:45<34:01, 13.31it/s]"
     ]
    },
    {
     "name": "stdout",
     "output_type": "stream",
     "text": [
      "0.05591207798390287\n",
      "no match for /home/chuongh/vm2m/data/HHM/synthesized/masks/33951/1.png\n",
      "0.010713128460556064\n",
      "no match for /home/chuongh/vm2m/data/HHM/synthesized/masks/5625/0.png\n"
     ]
    },
    {
     "name": "stderr",
     "output_type": "stream",
     "text": [
      " 45%|████▌     | 22576/49737 [28:47<29:55, 15.13it/s]"
     ]
    },
    {
     "name": "stdout",
     "output_type": "stream",
     "text": [
      "0.0805246985769433\n",
      "no match for /home/chuongh/vm2m/data/HHM/synthesized/masks/30651/1.png\n",
      "0\n",
      "no match for /home/chuongh/vm2m/data/HHM/synthesized/masks/43799/0.png\n"
     ]
    },
    {
     "name": "stderr",
     "output_type": "stream",
     "text": [
      " 45%|████▌     | 22593/49737 [28:48<27:40, 16.35it/s]"
     ]
    },
    {
     "name": "stdout",
     "output_type": "stream",
     "text": [
      "0\n",
      "no match for /home/chuongh/vm2m/data/HHM/synthesized/masks/40634/0.png\n"
     ]
    },
    {
     "name": "stderr",
     "output_type": "stream",
     "text": [
      " 46%|████▌     | 22641/49737 [28:52<35:45, 12.63it/s]"
     ]
    },
    {
     "name": "stdout",
     "output_type": "stream",
     "text": [
      "0.2855806192271283\n",
      "no match for /home/chuongh/vm2m/data/HHM/synthesized/masks/43591/0.png\n"
     ]
    },
    {
     "name": "stderr",
     "output_type": "stream",
     "text": [
      " 46%|████▌     | 22645/49737 [28:52<32:29, 13.90it/s]"
     ]
    },
    {
     "name": "stdout",
     "output_type": "stream",
     "text": [
      "0.04513133815431562\n",
      "no match for /home/chuongh/vm2m/data/HHM/synthesized/masks/34152/0.png\n"
     ]
    },
    {
     "name": "stderr",
     "output_type": "stream",
     "text": [
      " 46%|████▌     | 22649/49737 [28:53<39:11, 11.52it/s]"
     ]
    },
    {
     "name": "stdout",
     "output_type": "stream",
     "text": [
      "0.22958804066409014\n",
      "no match for /home/chuongh/vm2m/data/HHM/synthesized/masks/43498/2.png\n"
     ]
    },
    {
     "name": "stderr",
     "output_type": "stream",
     "text": [
      " 46%|████▌     | 22662/49737 [28:54<33:13, 13.58it/s]"
     ]
    },
    {
     "name": "stdout",
     "output_type": "stream",
     "text": [
      "0.18809444565282424\n",
      "no match for /home/chuongh/vm2m/data/HHM/synthesized/masks/2207/2.png\n"
     ]
    },
    {
     "name": "stderr",
     "output_type": "stream",
     "text": [
      " 46%|████▌     | 22666/49737 [28:54<36:25, 12.39it/s]"
     ]
    },
    {
     "name": "stdout",
     "output_type": "stream",
     "text": [
      "0.061332743223093754\n",
      "no match for /home/chuongh/vm2m/data/HHM/synthesized/masks/5248/1.png\n"
     ]
    },
    {
     "name": "stderr",
     "output_type": "stream",
     "text": [
      " 46%|████▌     | 22683/49737 [28:55<28:58, 15.56it/s]"
     ]
    },
    {
     "name": "stdout",
     "output_type": "stream",
     "text": [
      "0.11093085895482899\n",
      "no match for /home/chuongh/vm2m/data/HHM/synthesized/masks/8706/0.png\n",
      "0\n",
      "no match for /home/chuongh/vm2m/data/HHM/synthesized/masks/8706/2.png\n"
     ]
    },
    {
     "name": "stderr",
     "output_type": "stream",
     "text": [
      " 46%|████▌     | 22777/49737 [29:03<30:58, 14.51it/s]"
     ]
    },
    {
     "name": "stdout",
     "output_type": "stream",
     "text": [
      "0.2912352164220109\n",
      "no match for /home/chuongh/vm2m/data/HHM/synthesized/masks/41840/0.png\n"
     ]
    },
    {
     "name": "stderr",
     "output_type": "stream",
     "text": [
      " 46%|████▌     | 22881/49737 [29:11<36:21, 12.31it/s]"
     ]
    },
    {
     "name": "stdout",
     "output_type": "stream",
     "text": [
      "0\n",
      "no match for /home/chuongh/vm2m/data/HHM/synthesized/masks/24690/1.png\n"
     ]
    },
    {
     "name": "stderr",
     "output_type": "stream",
     "text": [
      " 46%|████▌     | 22887/49737 [29:11<38:06, 11.74it/s]"
     ]
    },
    {
     "name": "stdout",
     "output_type": "stream",
     "text": [
      "0.26615350166919327\n",
      "no match for /home/chuongh/vm2m/data/HHM/synthesized/masks/44048/2.png\n"
     ]
    },
    {
     "name": "stderr",
     "output_type": "stream",
     "text": [
      " 46%|████▌     | 22897/49737 [29:12<34:59, 12.78it/s]"
     ]
    },
    {
     "name": "stdout",
     "output_type": "stream",
     "text": [
      "0.15897104028417203\n",
      "no match for /home/chuongh/vm2m/data/HHM/synthesized/masks/44969/1.png\n"
     ]
    },
    {
     "name": "stderr",
     "output_type": "stream",
     "text": [
      " 46%|████▌     | 22907/49737 [29:13<42:37, 10.49it/s]"
     ]
    },
    {
     "name": "stdout",
     "output_type": "stream",
     "text": [
      "0\n",
      "no match for /home/chuongh/vm2m/data/HHM/synthesized/masks/34999/1.png\n",
      "0\n",
      "no match for /home/chuongh/vm2m/data/HHM/synthesized/masks/38327/2.png\n"
     ]
    },
    {
     "name": "stderr",
     "output_type": "stream",
     "text": [
      " 46%|████▌     | 22913/49737 [29:13<41:13, 10.84it/s]"
     ]
    },
    {
     "name": "stdout",
     "output_type": "stream",
     "text": [
      "0.1684518504812753\n",
      "no match for /home/chuongh/vm2m/data/HHM/synthesized/masks/32836/2.png\n"
     ]
    },
    {
     "name": "stderr",
     "output_type": "stream",
     "text": [
      " 46%|████▌     | 22921/49737 [29:14<40:19, 11.08it/s]"
     ]
    },
    {
     "name": "stdout",
     "output_type": "stream",
     "text": [
      "0.02304520038853771\n",
      "no match for /home/chuongh/vm2m/data/HHM/synthesized/masks/2605/2.png\n"
     ]
    },
    {
     "name": "stderr",
     "output_type": "stream",
     "text": [
      " 46%|████▌     | 22936/49737 [29:15<29:07, 15.33it/s]"
     ]
    },
    {
     "name": "stdout",
     "output_type": "stream",
     "text": [
      "0.26106938130013624\n",
      "no match for /home/chuongh/vm2m/data/HHM/synthesized/masks/36571/0.png\n",
      "0.022782674539787374\n",
      "no match for /home/chuongh/vm2m/data/HHM/synthesized/masks/36571/1.png\n"
     ]
    },
    {
     "name": "stderr",
     "output_type": "stream",
     "text": [
      " 46%|████▌     | 22966/49737 [29:18<34:04, 13.09it/s]"
     ]
    },
    {
     "name": "stdout",
     "output_type": "stream",
     "text": [
      "0.22302568837562964\n",
      "no match for /home/chuongh/vm2m/data/HHM/synthesized/masks/25300/1.png\n"
     ]
    },
    {
     "name": "stderr",
     "output_type": "stream",
     "text": [
      " 46%|████▌     | 22972/49737 [29:18<50:32,  8.83it/s]"
     ]
    },
    {
     "name": "stdout",
     "output_type": "stream",
     "text": [
      "0.034411019046070634\n",
      "no match for /home/chuongh/vm2m/data/HHM/synthesized/masks/41537/0.png\n"
     ]
    },
    {
     "name": "stderr",
     "output_type": "stream",
     "text": [
      " 46%|████▌     | 22990/49737 [29:20<32:37, 13.66it/s]"
     ]
    },
    {
     "name": "stdout",
     "output_type": "stream",
     "text": [
      "0.005250828929344853\n",
      "no match for /home/chuongh/vm2m/data/HHM/synthesized/masks/31453/1.png\n"
     ]
    },
    {
     "name": "stderr",
     "output_type": "stream",
     "text": [
      " 46%|████▋     | 23007/49737 [29:21<29:39, 15.02it/s]"
     ]
    },
    {
     "name": "stdout",
     "output_type": "stream",
     "text": [
      "0.14075519806488462\n",
      "no match for /home/chuongh/vm2m/data/HHM/synthesized/masks/38145/0.png\n"
     ]
    },
    {
     "name": "stderr",
     "output_type": "stream",
     "text": [
      " 46%|████▋     | 23025/49737 [29:23<34:06, 13.05it/s]"
     ]
    },
    {
     "name": "stdout",
     "output_type": "stream",
     "text": [
      "0.02653793670331384\n",
      "no match for /home/chuongh/vm2m/data/HHM/synthesized/masks/27230/0.png\n"
     ]
    },
    {
     "name": "stderr",
     "output_type": "stream",
     "text": [
      " 46%|████▋     | 23101/49737 [29:28<26:22, 16.83it/s]"
     ]
    },
    {
     "name": "stdout",
     "output_type": "stream",
     "text": [
      "0.0020550926171603308\n",
      "no match for /home/chuongh/vm2m/data/HHM/synthesized/masks/34169/0.png\n"
     ]
    },
    {
     "name": "stderr",
     "output_type": "stream",
     "text": [
      " 46%|████▋     | 23106/49737 [29:28<22:42, 19.54it/s]"
     ]
    },
    {
     "name": "stdout",
     "output_type": "stream",
     "text": [
      "0.12592323941184233\n",
      "no match for /home/chuongh/vm2m/data/HHM/synthesized/masks/5597/2.png\n"
     ]
    },
    {
     "name": "stderr",
     "output_type": "stream",
     "text": [
      " 47%|████▋     | 23134/49737 [29:30<42:53, 10.34it/s]"
     ]
    },
    {
     "name": "stdout",
     "output_type": "stream",
     "text": [
      "0.021516796027431943\n",
      "no match for /home/chuongh/vm2m/data/HHM/synthesized/masks/34585/0.png\n"
     ]
    },
    {
     "name": "stderr",
     "output_type": "stream",
     "text": [
      " 47%|████▋     | 23163/49737 [29:32<31:58, 13.85it/s]"
     ]
    },
    {
     "name": "stdout",
     "output_type": "stream",
     "text": [
      "0.2020848966079112\n",
      "no match for /home/chuongh/vm2m/data/HHM/synthesized/masks/42217/2.png\n"
     ]
    },
    {
     "name": "stderr",
     "output_type": "stream",
     "text": [
      " 47%|████▋     | 23179/49737 [29:34<30:15, 14.63it/s]"
     ]
    },
    {
     "name": "stdout",
     "output_type": "stream",
     "text": [
      "0.01425633079403976\n",
      "no match for /home/chuongh/vm2m/data/HHM/synthesized/masks/24241/0.png\n",
      "0.14382999545332267\n",
      "no match for /home/chuongh/vm2m/data/HHM/synthesized/masks/38719/0.png\n"
     ]
    },
    {
     "name": "stderr",
     "output_type": "stream",
     "text": [
      " 47%|████▋     | 23183/49737 [29:34<30:30, 14.51it/s]"
     ]
    },
    {
     "name": "stdout",
     "output_type": "stream",
     "text": [
      "0.1964965116164655\n",
      "no match for /home/chuongh/vm2m/data/HHM/synthesized/masks/29663/1.png\n"
     ]
    },
    {
     "name": "stderr",
     "output_type": "stream",
     "text": [
      " 47%|████▋     | 23276/49737 [29:41<29:51, 14.77it/s]"
     ]
    },
    {
     "name": "stdout",
     "output_type": "stream",
     "text": [
      "0.1779374543474869\n",
      "no match for /home/chuongh/vm2m/data/HHM/synthesized/masks/45313/0.png\n"
     ]
    },
    {
     "name": "stderr",
     "output_type": "stream",
     "text": [
      " 47%|████▋     | 23315/49737 [29:44<27:44, 15.88it/s]"
     ]
    },
    {
     "name": "stdout",
     "output_type": "stream",
     "text": [
      "0.12832490964879464\n",
      "no match for /home/chuongh/vm2m/data/HHM/synthesized/masks/15181/0.png\n"
     ]
    },
    {
     "name": "stderr",
     "output_type": "stream",
     "text": [
      " 47%|████▋     | 23326/49737 [29:44<28:11, 15.61it/s]"
     ]
    },
    {
     "name": "stdout",
     "output_type": "stream",
     "text": [
      "0\n",
      "no match for /home/chuongh/vm2m/data/HHM/synthesized/masks/10106/1.png\n"
     ]
    },
    {
     "name": "stderr",
     "output_type": "stream",
     "text": [
      " 47%|████▋     | 23352/49737 [29:46<37:31, 11.72it/s]"
     ]
    },
    {
     "name": "stdout",
     "output_type": "stream",
     "text": [
      "0.03576922866346275\n",
      "no match for /home/chuongh/vm2m/data/HHM/synthesized/masks/46587/0.png\n"
     ]
    },
    {
     "name": "stderr",
     "output_type": "stream",
     "text": [
      " 47%|████▋     | 23464/49737 [29:55<34:22, 12.74it/s]"
     ]
    },
    {
     "name": "stdout",
     "output_type": "stream",
     "text": [
      "0.030687360096914897\n",
      "no match for /home/chuongh/vm2m/data/HHM/synthesized/masks/40948/0.png\n"
     ]
    },
    {
     "name": "stderr",
     "output_type": "stream",
     "text": [
      " 47%|████▋     | 23518/49737 [30:00<38:33, 11.33it/s]"
     ]
    },
    {
     "name": "stdout",
     "output_type": "stream",
     "text": [
      "0.013970342976107329\n",
      "no match for /home/chuongh/vm2m/data/HHM/synthesized/masks/23969/0.png\n"
     ]
    },
    {
     "name": "stderr",
     "output_type": "stream",
     "text": [
      " 47%|████▋     | 23567/49737 [30:03<40:07, 10.87it/s]"
     ]
    },
    {
     "name": "stdout",
     "output_type": "stream",
     "text": [
      "0.2826738742253887\n",
      "no match for /home/chuongh/vm2m/data/HHM/synthesized/masks/1839/0.png\n"
     ]
    },
    {
     "name": "stderr",
     "output_type": "stream",
     "text": [
      " 47%|████▋     | 23571/49737 [30:04<50:13,  8.68it/s]"
     ]
    },
    {
     "name": "stdout",
     "output_type": "stream",
     "text": [
      "0.16574627221018212\n",
      "no match for /home/chuongh/vm2m/data/HHM/synthesized/masks/33363/2.png\n"
     ]
    },
    {
     "name": "stderr",
     "output_type": "stream",
     "text": [
      " 47%|████▋     | 23589/49737 [30:05<38:54, 11.20it/s]"
     ]
    },
    {
     "name": "stdout",
     "output_type": "stream",
     "text": [
      "0.08748931351095575\n",
      "no match for /home/chuongh/vm2m/data/HHM/synthesized/masks/37740/0.png\n"
     ]
    },
    {
     "name": "stderr",
     "output_type": "stream",
     "text": [
      " 47%|████▋     | 23606/49737 [30:07<27:14, 15.99it/s]"
     ]
    },
    {
     "name": "stdout",
     "output_type": "stream",
     "text": [
      "0.17425046079530634\n",
      "no match for /home/chuongh/vm2m/data/HHM/synthesized/masks/15397/3.png\n"
     ]
    },
    {
     "name": "stderr",
     "output_type": "stream",
     "text": [
      " 48%|████▊     | 23655/49737 [30:10<35:40, 12.18it/s]"
     ]
    },
    {
     "name": "stdout",
     "output_type": "stream",
     "text": [
      "0.023516639979887947\n",
      "no match for /home/chuongh/vm2m/data/HHM/synthesized/masks/2709/0.png\n"
     ]
    },
    {
     "name": "stderr",
     "output_type": "stream",
     "text": [
      " 48%|████▊     | 23702/49737 [30:14<32:24, 13.39it/s]"
     ]
    },
    {
     "name": "stdout",
     "output_type": "stream",
     "text": [
      "0.009846237710813941\n",
      "no match for /home/chuongh/vm2m/data/HHM/synthesized/masks/47865/0.png\n"
     ]
    },
    {
     "name": "stderr",
     "output_type": "stream",
     "text": [
      " 48%|████▊     | 23709/49737 [30:14<27:03, 16.03it/s]"
     ]
    },
    {
     "name": "stdout",
     "output_type": "stream",
     "text": [
      "0.2994121457578857\n",
      "no match for /home/chuongh/vm2m/data/HHM/synthesized/masks/29370/2.png\n"
     ]
    },
    {
     "name": "stderr",
     "output_type": "stream",
     "text": [
      " 48%|████▊     | 23768/49737 [30:19<32:57, 13.13it/s]"
     ]
    },
    {
     "name": "stdout",
     "output_type": "stream",
     "text": [
      "0.05315113254970884\n",
      "no match for /home/chuongh/vm2m/data/HHM/synthesized/masks/3828/0.png\n"
     ]
    },
    {
     "name": "stderr",
     "output_type": "stream",
     "text": [
      " 48%|████▊     | 23797/49737 [30:21<33:46, 12.80it/s]"
     ]
    },
    {
     "name": "stdout",
     "output_type": "stream",
     "text": [
      "0.23791479047207345\n",
      "no match for /home/chuongh/vm2m/data/HHM/synthesized/masks/1636/0.png\n"
     ]
    },
    {
     "name": "stderr",
     "output_type": "stream",
     "text": [
      " 48%|████▊     | 23815/49737 [30:22<28:41, 15.06it/s]"
     ]
    },
    {
     "name": "stdout",
     "output_type": "stream",
     "text": [
      "0.02397983680047372\n",
      "no match for /home/chuongh/vm2m/data/HHM/synthesized/masks/49674/0.png\n",
      "0.023164422884998023\n",
      "no match for /home/chuongh/vm2m/data/HHM/synthesized/masks/47002/1.png\n"
     ]
    },
    {
     "name": "stderr",
     "output_type": "stream",
     "text": [
      " 48%|████▊     | 23817/49737 [30:22<30:58, 13.94it/s]"
     ]
    },
    {
     "name": "stdout",
     "output_type": "stream",
     "text": [
      "0.05841360523464052\n",
      "no match for /home/chuongh/vm2m/data/HHM/synthesized/masks/22106/1.png\n"
     ]
    },
    {
     "name": "stderr",
     "output_type": "stream",
     "text": [
      " 48%|████▊     | 23821/49737 [30:23<32:09, 13.43it/s]"
     ]
    },
    {
     "name": "stdout",
     "output_type": "stream",
     "text": [
      "0.28993559855569717\n",
      "no match for /home/chuongh/vm2m/data/HHM/synthesized/masks/45254/0.png\n"
     ]
    },
    {
     "name": "stderr",
     "output_type": "stream",
     "text": [
      " 48%|████▊     | 23852/49737 [30:25<33:35, 12.84it/s]"
     ]
    },
    {
     "name": "stdout",
     "output_type": "stream",
     "text": [
      "0.27994680511193587\n",
      "no match for /home/chuongh/vm2m/data/HHM/synthesized/masks/73/2.png\n"
     ]
    },
    {
     "name": "stderr",
     "output_type": "stream",
     "text": [
      " 48%|████▊     | 23867/49737 [30:26<26:48, 16.08it/s]"
     ]
    },
    {
     "name": "stdout",
     "output_type": "stream",
     "text": [
      "0.01487613460527969\n",
      "no match for /home/chuongh/vm2m/data/HHM/synthesized/masks/39472/0.png\n"
     ]
    },
    {
     "name": "stderr",
     "output_type": "stream",
     "text": [
      " 48%|████▊     | 23886/49737 [30:27<32:10, 13.39it/s]"
     ]
    },
    {
     "name": "stdout",
     "output_type": "stream",
     "text": [
      "0.012925303580079\n",
      "no match for /home/chuongh/vm2m/data/HHM/synthesized/masks/42648/0.png\n",
      "0\n",
      "no match for /home/chuongh/vm2m/data/HHM/synthesized/masks/31970/0.png\n"
     ]
    },
    {
     "name": "stderr",
     "output_type": "stream",
     "text": [
      " 48%|████▊     | 23921/49737 [30:30<28:28, 15.11it/s]"
     ]
    },
    {
     "name": "stdout",
     "output_type": "stream",
     "text": [
      "0.24718714738542327\n",
      "no match for /home/chuongh/vm2m/data/HHM/synthesized/masks/48357/0.png\n"
     ]
    },
    {
     "name": "stderr",
     "output_type": "stream",
     "text": [
      " 48%|████▊     | 23930/49737 [30:30<27:51, 15.44it/s]"
     ]
    },
    {
     "name": "stdout",
     "output_type": "stream",
     "text": [
      "0\n",
      "no match for /home/chuongh/vm2m/data/HHM/synthesized/masks/6509/0.png\n"
     ]
    },
    {
     "name": "stderr",
     "output_type": "stream",
     "text": [
      " 48%|████▊     | 23949/49737 [30:32<32:45, 13.12it/s]"
     ]
    },
    {
     "name": "stdout",
     "output_type": "stream",
     "text": [
      "0\n",
      "no match for /home/chuongh/vm2m/data/HHM/synthesized/masks/1070/1.png\n"
     ]
    },
    {
     "name": "stderr",
     "output_type": "stream",
     "text": [
      " 48%|████▊     | 23972/49737 [30:33<26:23, 16.28it/s]"
     ]
    },
    {
     "name": "stdout",
     "output_type": "stream",
     "text": [
      "0.07332407964540827\n",
      "no match for /home/chuongh/vm2m/data/HHM/synthesized/masks/39114/0.png\n",
      "0.07243410992153786\n",
      "no match for /home/chuongh/vm2m/data/HHM/synthesized/masks/23161/1.png\n"
     ]
    },
    {
     "name": "stderr",
     "output_type": "stream",
     "text": [
      " 48%|████▊     | 24037/49737 [30:38<33:45, 12.69it/s]"
     ]
    },
    {
     "name": "stdout",
     "output_type": "stream",
     "text": [
      "0.22447979143294766\n",
      "no match for /home/chuongh/vm2m/data/HHM/synthesized/masks/16099/2.png\n"
     ]
    },
    {
     "name": "stderr",
     "output_type": "stream",
     "text": [
      " 48%|████▊     | 24075/49737 [30:41<31:04, 13.76it/s]"
     ]
    },
    {
     "name": "stdout",
     "output_type": "stream",
     "text": [
      "0.2751651190402061\n",
      "no match for /home/chuongh/vm2m/data/HHM/synthesized/masks/37716/1.png\n",
      "0.009656650235554818\n",
      "no match for /home/chuongh/vm2m/data/HHM/synthesized/masks/23516/0.png\n"
     ]
    },
    {
     "name": "stderr",
     "output_type": "stream",
     "text": [
      " 49%|████▊     | 24126/49737 [30:45<32:54, 12.97it/s]"
     ]
    },
    {
     "name": "stdout",
     "output_type": "stream",
     "text": [
      "0.12361291342224909\n",
      "no match for /home/chuongh/vm2m/data/HHM/synthesized/masks/9202/0.png\n"
     ]
    },
    {
     "name": "stderr",
     "output_type": "stream",
     "text": [
      " 49%|████▊     | 24168/49737 [30:48<39:38, 10.75it/s]"
     ]
    },
    {
     "name": "stdout",
     "output_type": "stream",
     "text": [
      "0.013390959331065672\n",
      "no match for /home/chuongh/vm2m/data/HHM/synthesized/masks/36989/3.png\n"
     ]
    },
    {
     "name": "stderr",
     "output_type": "stream",
     "text": [
      " 49%|████▊     | 24175/49737 [30:49<34:26, 12.37it/s]"
     ]
    },
    {
     "name": "stdout",
     "output_type": "stream",
     "text": [
      "0.25812385187987497\n",
      "no match for /home/chuongh/vm2m/data/HHM/synthesized/masks/19513/2.png\n"
     ]
    },
    {
     "name": "stderr",
     "output_type": "stream",
     "text": [
      " 49%|████▊     | 24202/49737 [30:50<28:57, 14.70it/s]"
     ]
    },
    {
     "name": "stdout",
     "output_type": "stream",
     "text": [
      "0.29543527176812856\n",
      "no match for /home/chuongh/vm2m/data/HHM/synthesized/masks/13382/2.png\n"
     ]
    },
    {
     "name": "stderr",
     "output_type": "stream",
     "text": [
      " 49%|████▊     | 24229/49737 [30:52<29:27, 14.43it/s]"
     ]
    },
    {
     "name": "stdout",
     "output_type": "stream",
     "text": [
      "0.26807675972336703\n",
      "no match for /home/chuongh/vm2m/data/HHM/synthesized/masks/17573/1.png\n"
     ]
    },
    {
     "name": "stderr",
     "output_type": "stream",
     "text": [
      " 49%|████▉     | 24249/49737 [30:53<20:58, 20.26it/s]"
     ]
    },
    {
     "name": "stdout",
     "output_type": "stream",
     "text": [
      "0\n",
      "no match for /home/chuongh/vm2m/data/HHM/synthesized/masks/45118/0.png\n"
     ]
    },
    {
     "name": "stderr",
     "output_type": "stream",
     "text": [
      " 49%|████▉     | 24281/49737 [30:56<39:18, 10.79it/s]"
     ]
    },
    {
     "name": "stdout",
     "output_type": "stream",
     "text": [
      "0.27806064781274925\n",
      "no match for /home/chuongh/vm2m/data/HHM/synthesized/masks/28113/1.png\n"
     ]
    },
    {
     "name": "stderr",
     "output_type": "stream",
     "text": [
      " 49%|████▉     | 24311/49737 [30:58<30:02, 14.10it/s]"
     ]
    },
    {
     "name": "stdout",
     "output_type": "stream",
     "text": [
      "0.013454407550929318\n",
      "no match for /home/chuongh/vm2m/data/HHM/synthesized/masks/9010/1.png\n"
     ]
    },
    {
     "name": "stderr",
     "output_type": "stream",
     "text": [
      " 49%|████▉     | 24317/49737 [30:59<31:16, 13.55it/s]"
     ]
    },
    {
     "name": "stdout",
     "output_type": "stream",
     "text": [
      "0.19196886583418474\n",
      "no match for /home/chuongh/vm2m/data/HHM/synthesized/masks/27653/2.png\n"
     ]
    },
    {
     "name": "stderr",
     "output_type": "stream",
     "text": [
      " 49%|████▉     | 24321/49737 [30:59<30:07, 14.06it/s]"
     ]
    },
    {
     "name": "stdout",
     "output_type": "stream",
     "text": [
      "0.00984879368488991\n",
      "no match for /home/chuongh/vm2m/data/HHM/synthesized/masks/39389/0.png\n"
     ]
    },
    {
     "name": "stderr",
     "output_type": "stream",
     "text": [
      " 49%|████▉     | 24326/49737 [30:59<26:23, 16.05it/s]"
     ]
    },
    {
     "name": "stdout",
     "output_type": "stream",
     "text": [
      "0.021369850031927446\n",
      "no match for /home/chuongh/vm2m/data/HHM/synthesized/masks/38112/0.png\n"
     ]
    },
    {
     "name": "stderr",
     "output_type": "stream",
     "text": [
      " 49%|████▉     | 24352/49737 [31:01<30:42, 13.77it/s]"
     ]
    },
    {
     "name": "stdout",
     "output_type": "stream",
     "text": [
      "0.21057370332474135\n",
      "no match for /home/chuongh/vm2m/data/HHM/synthesized/masks/13891/2.png\n"
     ]
    },
    {
     "name": "stderr",
     "output_type": "stream",
     "text": [
      " 49%|████▉     | 24366/49737 [31:03<34:37, 12.21it/s]"
     ]
    },
    {
     "name": "stdout",
     "output_type": "stream",
     "text": [
      "0.04004210581023784\n",
      "no match for /home/chuongh/vm2m/data/HHM/synthesized/masks/33343/1.png\n",
      "0.02538280446085865\n",
      "no match for /home/chuongh/vm2m/data/HHM/synthesized/masks/6575/0.png\n"
     ]
    },
    {
     "name": "stderr",
     "output_type": "stream",
     "text": [
      " 49%|████▉     | 24374/49737 [31:03<32:17, 13.09it/s]"
     ]
    },
    {
     "name": "stdout",
     "output_type": "stream",
     "text": [
      "0.16224439333660157\n",
      "no match for /home/chuongh/vm2m/data/HHM/synthesized/masks/43914/1.png\n",
      "0.22894095495422265\n",
      "no match for /home/chuongh/vm2m/data/HHM/synthesized/masks/2250/1.png\n"
     ]
    },
    {
     "name": "stderr",
     "output_type": "stream",
     "text": [
      " 49%|████▉     | 24400/49737 [31:05<35:59, 11.73it/s]"
     ]
    },
    {
     "name": "stdout",
     "output_type": "stream",
     "text": [
      "0.20571773371297783\n",
      "no match for /home/chuongh/vm2m/data/HHM/synthesized/masks/9740/0.png\n"
     ]
    },
    {
     "name": "stderr",
     "output_type": "stream",
     "text": [
      " 49%|████▉     | 24408/49737 [31:06<44:11,  9.55it/s]"
     ]
    },
    {
     "name": "stdout",
     "output_type": "stream",
     "text": [
      "0.23324643424001934\n",
      "no match for /home/chuongh/vm2m/data/HHM/synthesized/masks/27376/3.png\n"
     ]
    },
    {
     "name": "stderr",
     "output_type": "stream",
     "text": [
      " 49%|████▉     | 24422/49737 [31:07<32:42, 12.90it/s]"
     ]
    },
    {
     "name": "stdout",
     "output_type": "stream",
     "text": [
      "0.12249459965286509\n",
      "no match for /home/chuongh/vm2m/data/HHM/synthesized/masks/15214/0.png\n"
     ]
    },
    {
     "name": "stderr",
     "output_type": "stream",
     "text": [
      " 49%|████▉     | 24454/49737 [31:09<26:21, 15.99it/s]"
     ]
    },
    {
     "name": "stdout",
     "output_type": "stream",
     "text": [
      "0.0023377318519432863\n",
      "no match for /home/chuongh/vm2m/data/HHM/synthesized/masks/23157/1.png\n"
     ]
    },
    {
     "name": "stderr",
     "output_type": "stream",
     "text": [
      " 49%|████▉     | 24459/49737 [31:10<36:44, 11.47it/s]"
     ]
    },
    {
     "name": "stdout",
     "output_type": "stream",
     "text": [
      "0.002308176040698436\n",
      "no match for /home/chuongh/vm2m/data/HHM/synthesized/masks/35913/0.png\n"
     ]
    },
    {
     "name": "stderr",
     "output_type": "stream",
     "text": [
      " 49%|████▉     | 24516/49737 [31:14<31:09, 13.49it/s]"
     ]
    },
    {
     "name": "stdout",
     "output_type": "stream",
     "text": [
      "0.03910678326757184\n",
      "no match for /home/chuongh/vm2m/data/HHM/synthesized/masks/20246/0.png\n"
     ]
    },
    {
     "name": "stderr",
     "output_type": "stream",
     "text": [
      " 49%|████▉     | 24521/49737 [31:14<25:38, 16.39it/s]"
     ]
    },
    {
     "name": "stdout",
     "output_type": "stream",
     "text": [
      "0.008784400449304283\n",
      "no match for /home/chuongh/vm2m/data/HHM/synthesized/masks/31/0.png\n"
     ]
    },
    {
     "name": "stderr",
     "output_type": "stream",
     "text": [
      " 49%|████▉     | 24561/49737 [31:17<36:40, 11.44it/s]"
     ]
    },
    {
     "name": "stdout",
     "output_type": "stream",
     "text": [
      "0\n",
      "no match for /home/chuongh/vm2m/data/HHM/synthesized/masks/20487/0.png\n",
      "0.255879184264483\n",
      "no match for /home/chuongh/vm2m/data/HHM/synthesized/masks/181/2.png\n",
      "0\n",
      "no match for /home/chuongh/vm2m/data/HHM/synthesized/masks/9949/0.png\n",
      "0\n",
      "no match for /home/chuongh/vm2m/data/HHM/synthesized/masks/9949/2.png\n"
     ]
    },
    {
     "name": "stderr",
     "output_type": "stream",
     "text": [
      " 49%|████▉     | 24573/49737 [31:18<30:40, 13.67it/s]"
     ]
    },
    {
     "name": "stdout",
     "output_type": "stream",
     "text": [
      "0\n",
      "no match for /home/chuongh/vm2m/data/HHM/synthesized/masks/20840/1.png\n"
     ]
    },
    {
     "name": "stderr",
     "output_type": "stream",
     "text": [
      " 49%|████▉     | 24607/49737 [31:21<28:54, 14.49it/s]"
     ]
    },
    {
     "name": "stdout",
     "output_type": "stream",
     "text": [
      "0.0031433724123701204\n",
      "no match for /home/chuongh/vm2m/data/HHM/synthesized/masks/17086/1.png\n"
     ]
    },
    {
     "name": "stderr",
     "output_type": "stream",
     "text": [
      " 50%|████▉     | 24640/49737 [31:23<30:07, 13.89it/s]"
     ]
    },
    {
     "name": "stdout",
     "output_type": "stream",
     "text": [
      "0.25808104280953925\n",
      "no match for /home/chuongh/vm2m/data/HHM/synthesized/masks/11038/0.png\n"
     ]
    },
    {
     "name": "stderr",
     "output_type": "stream",
     "text": [
      " 50%|████▉     | 24644/49737 [31:24<35:57, 11.63it/s]"
     ]
    },
    {
     "name": "stdout",
     "output_type": "stream",
     "text": [
      "0.1812047883074707\n",
      "no match for /home/chuongh/vm2m/data/HHM/synthesized/masks/5282/0.png\n"
     ]
    },
    {
     "name": "stderr",
     "output_type": "stream",
     "text": [
      " 50%|████▉     | 24658/49737 [31:25<50:54,  8.21it/s]"
     ]
    },
    {
     "name": "stdout",
     "output_type": "stream",
     "text": [
      "0.27007639277010004\n",
      "no match for /home/chuongh/vm2m/data/HHM/synthesized/masks/45674/0.png\n"
     ]
    },
    {
     "name": "stderr",
     "output_type": "stream",
     "text": [
      " 50%|████▉     | 24721/49737 [31:30<27:19, 15.26it/s]"
     ]
    },
    {
     "name": "stdout",
     "output_type": "stream",
     "text": [
      "0.09096490646858153\n",
      "no match for /home/chuongh/vm2m/data/HHM/synthesized/masks/42570/1.png\n"
     ]
    },
    {
     "name": "stderr",
     "output_type": "stream",
     "text": [
      " 50%|████▉     | 24725/49737 [31:30<32:55, 12.66it/s]"
     ]
    },
    {
     "name": "stdout",
     "output_type": "stream",
     "text": [
      "0.24303031539972866\n",
      "no match for /home/chuongh/vm2m/data/HHM/synthesized/masks/15739/0.png\n"
     ]
    },
    {
     "name": "stderr",
     "output_type": "stream",
     "text": [
      " 50%|████▉     | 24735/49737 [31:31<35:54, 11.61it/s]"
     ]
    },
    {
     "name": "stdout",
     "output_type": "stream",
     "text": [
      "0.2320833509087083\n",
      "no match for /home/chuongh/vm2m/data/HHM/synthesized/masks/8605/0.png\n"
     ]
    },
    {
     "name": "stderr",
     "output_type": "stream",
     "text": [
      " 50%|████▉     | 24746/49737 [31:32<25:33, 16.30it/s]"
     ]
    },
    {
     "name": "stdout",
     "output_type": "stream",
     "text": [
      "0.015356967294175279\n",
      "no match for /home/chuongh/vm2m/data/HHM/synthesized/masks/23626/1.png\n"
     ]
    },
    {
     "name": "stderr",
     "output_type": "stream",
     "text": [
      " 50%|████▉     | 24757/49737 [31:33<33:17, 12.50it/s]"
     ]
    },
    {
     "name": "stdout",
     "output_type": "stream",
     "text": [
      "0.2337667738704957\n",
      "no match for /home/chuongh/vm2m/data/HHM/synthesized/masks/18041/0.png\n"
     ]
    },
    {
     "name": "stderr",
     "output_type": "stream",
     "text": [
      " 50%|████▉     | 24768/49737 [31:33<26:07, 15.93it/s]"
     ]
    },
    {
     "name": "stdout",
     "output_type": "stream",
     "text": [
      "0.011506497820662707\n",
      "no match for /home/chuongh/vm2m/data/HHM/synthesized/masks/21421/1.png\n"
     ]
    },
    {
     "name": "stderr",
     "output_type": "stream",
     "text": [
      " 50%|████▉     | 24782/49737 [31:35<32:19, 12.87it/s]"
     ]
    },
    {
     "name": "stdout",
     "output_type": "stream",
     "text": [
      "0.2070725521760405\n",
      "no match for /home/chuongh/vm2m/data/HHM/synthesized/masks/34075/2.png\n"
     ]
    },
    {
     "name": "stderr",
     "output_type": "stream",
     "text": [
      " 50%|████▉     | 24808/49737 [31:37<28:32, 14.56it/s]"
     ]
    },
    {
     "name": "stdout",
     "output_type": "stream",
     "text": [
      "0.2691312437910187\n",
      "no match for /home/chuongh/vm2m/data/HHM/synthesized/masks/7956/1.png\n"
     ]
    },
    {
     "name": "stderr",
     "output_type": "stream",
     "text": [
      " 50%|████▉     | 24816/49737 [31:37<27:31, 15.09it/s]"
     ]
    },
    {
     "name": "stdout",
     "output_type": "stream",
     "text": [
      "0.0706608477456874\n",
      "no match for /home/chuongh/vm2m/data/HHM/synthesized/masks/1619/0.png\n"
     ]
    },
    {
     "name": "stderr",
     "output_type": "stream",
     "text": [
      " 50%|████▉     | 24853/49737 [31:40<28:04, 14.77it/s]"
     ]
    },
    {
     "name": "stdout",
     "output_type": "stream",
     "text": [
      "0.1296139204656011\n",
      "no match for /home/chuongh/vm2m/data/HHM/synthesized/masks/42603/0.png\n"
     ]
    },
    {
     "name": "stderr",
     "output_type": "stream",
     "text": [
      " 50%|█████     | 24930/49737 [31:46<32:32, 12.70it/s]"
     ]
    },
    {
     "name": "stdout",
     "output_type": "stream",
     "text": [
      "0.05985709860389321\n",
      "no match for /home/chuongh/vm2m/data/HHM/synthesized/masks/4232/0.png\n"
     ]
    },
    {
     "name": "stderr",
     "output_type": "stream",
     "text": [
      " 50%|█████     | 24970/49737 [31:49<29:25, 14.03it/s]"
     ]
    },
    {
     "name": "stdout",
     "output_type": "stream",
     "text": [
      "0.06356634944575887\n",
      "no match for /home/chuongh/vm2m/data/HHM/synthesized/masks/11104/0.png\n"
     ]
    },
    {
     "name": "stderr",
     "output_type": "stream",
     "text": [
      " 50%|█████     | 25040/49737 [31:55<37:33, 10.96it/s]"
     ]
    },
    {
     "name": "stdout",
     "output_type": "stream",
     "text": [
      "0\n",
      "no match for /home/chuongh/vm2m/data/HHM/synthesized/masks/20290/0.png\n"
     ]
    },
    {
     "name": "stderr",
     "output_type": "stream",
     "text": [
      " 50%|█████     | 25076/49737 [31:58<31:46, 12.94it/s]"
     ]
    },
    {
     "name": "stdout",
     "output_type": "stream",
     "text": [
      "0.22632600460325875\n",
      "no match for /home/chuongh/vm2m/data/HHM/synthesized/masks/21806/1.png\n"
     ]
    },
    {
     "name": "stderr",
     "output_type": "stream",
     "text": [
      " 50%|█████     | 25080/49737 [31:58<36:02, 11.40it/s]"
     ]
    },
    {
     "name": "stdout",
     "output_type": "stream",
     "text": [
      "0.19315514537667983\n",
      "no match for /home/chuongh/vm2m/data/HHM/synthesized/masks/38776/0.png\n"
     ]
    },
    {
     "name": "stderr",
     "output_type": "stream",
     "text": [
      " 51%|█████     | 25138/49737 [32:03<29:45, 13.77it/s]"
     ]
    },
    {
     "name": "stdout",
     "output_type": "stream",
     "text": [
      "0.2672734240270225\n",
      "no match for /home/chuongh/vm2m/data/HHM/synthesized/masks/6922/1.png\n"
     ]
    },
    {
     "name": "stderr",
     "output_type": "stream",
     "text": [
      " 51%|█████     | 25160/49737 [32:05<33:33, 12.20it/s]"
     ]
    },
    {
     "name": "stdout",
     "output_type": "stream",
     "text": [
      "0.24010528285165136\n",
      "no match for /home/chuongh/vm2m/data/HHM/synthesized/masks/5203/1.png\n"
     ]
    },
    {
     "name": "stderr",
     "output_type": "stream",
     "text": [
      " 51%|█████     | 25184/49737 [32:07<32:51, 12.45it/s]"
     ]
    },
    {
     "name": "stdout",
     "output_type": "stream",
     "text": [
      "0.09928140253057795\n",
      "no match for /home/chuongh/vm2m/data/HHM/synthesized/masks/49743/2.png\n"
     ]
    },
    {
     "name": "stderr",
     "output_type": "stream",
     "text": [
      " 51%|█████     | 25189/49737 [32:07<30:19, 13.49it/s]"
     ]
    },
    {
     "name": "stdout",
     "output_type": "stream",
     "text": [
      "0.0013475708687495664\n",
      "no match for /home/chuongh/vm2m/data/HHM/synthesized/masks/41942/0.png\n"
     ]
    },
    {
     "name": "stderr",
     "output_type": "stream",
     "text": [
      " 51%|█████     | 25209/49737 [32:09<30:37, 13.35it/s]"
     ]
    },
    {
     "name": "stdout",
     "output_type": "stream",
     "text": [
      "0.009954921111922237\n",
      "no match for /home/chuongh/vm2m/data/HHM/synthesized/masks/19354/0.png\n"
     ]
    },
    {
     "name": "stderr",
     "output_type": "stream",
     "text": [
      " 51%|█████     | 25215/49737 [32:09<35:17, 11.58it/s]"
     ]
    },
    {
     "name": "stdout",
     "output_type": "stream",
     "text": [
      "0.24852314561669447\n",
      "no match for /home/chuongh/vm2m/data/HHM/synthesized/masks/9765/0.png\n"
     ]
    },
    {
     "name": "stderr",
     "output_type": "stream",
     "text": [
      " 51%|█████     | 25245/49737 [32:11<26:19, 15.50it/s]"
     ]
    },
    {
     "name": "stdout",
     "output_type": "stream",
     "text": [
      "0.1350155338703936\n",
      "no match for /home/chuongh/vm2m/data/HHM/synthesized/masks/28684/1.png\n"
     ]
    },
    {
     "name": "stderr",
     "output_type": "stream",
     "text": [
      " 51%|█████     | 25260/49737 [32:13<29:22, 13.89it/s]"
     ]
    },
    {
     "name": "stdout",
     "output_type": "stream",
     "text": [
      "0.2637051356914967\n",
      "no match for /home/chuongh/vm2m/data/HHM/synthesized/masks/29352/0.png\n"
     ]
    },
    {
     "name": "stderr",
     "output_type": "stream",
     "text": [
      " 51%|█████     | 25341/49737 [32:19<27:40, 14.70it/s]"
     ]
    },
    {
     "name": "stdout",
     "output_type": "stream",
     "text": [
      "0.29341634533225963\n",
      "no match for /home/chuongh/vm2m/data/HHM/synthesized/masks/43296/0.png\n",
      "0.0058297158796958405\n",
      "no match for /home/chuongh/vm2m/data/HHM/synthesized/masks/7843/1.png\n",
      "0\n",
      "no match for /home/chuongh/vm2m/data/HHM/synthesized/masks/7843/2.png\n"
     ]
    },
    {
     "name": "stderr",
     "output_type": "stream",
     "text": [
      " 51%|█████     | 25365/49737 [32:21<24:43, 16.43it/s]"
     ]
    },
    {
     "name": "stdout",
     "output_type": "stream",
     "text": [
      "0.03200656812304804\n",
      "no match for /home/chuongh/vm2m/data/HHM/synthesized/masks/49436/0.png\n"
     ]
    },
    {
     "name": "stderr",
     "output_type": "stream",
     "text": [
      " 51%|█████     | 25387/49737 [32:23<41:45,  9.72it/s]"
     ]
    },
    {
     "name": "stdout",
     "output_type": "stream",
     "text": [
      "0.007921222951621001\n",
      "no match for /home/chuongh/vm2m/data/HHM/synthesized/masks/25780/0.png\n",
      "0.2525267153872079\n",
      "no match for /home/chuongh/vm2m/data/HHM/synthesized/masks/30756/1.png\n"
     ]
    },
    {
     "name": "stderr",
     "output_type": "stream",
     "text": [
      " 51%|█████     | 25394/49737 [32:23<30:42, 13.21it/s]"
     ]
    },
    {
     "name": "stdout",
     "output_type": "stream",
     "text": [
      "0\n",
      "no match for /home/chuongh/vm2m/data/HHM/synthesized/masks/7827/0.png\n"
     ]
    },
    {
     "name": "stderr",
     "output_type": "stream",
     "text": [
      " 51%|█████     | 25403/49737 [32:24<27:59, 14.49it/s]"
     ]
    },
    {
     "name": "stdout",
     "output_type": "stream",
     "text": [
      "0.2284917381556502\n",
      "no match for /home/chuongh/vm2m/data/HHM/synthesized/masks/22724/0.png\n",
      "0.10316748877086432\n",
      "no match for /home/chuongh/vm2m/data/HHM/synthesized/masks/30630/1.png\n"
     ]
    },
    {
     "name": "stderr",
     "output_type": "stream",
     "text": [
      " 51%|█████     | 25406/49737 [32:24<25:41, 15.78it/s]"
     ]
    },
    {
     "name": "stdout",
     "output_type": "stream",
     "text": [
      "0.0031630647708270755\n",
      "no match for /home/chuongh/vm2m/data/HHM/synthesized/masks/4988/0.png\n",
      "0.2206799919116571\n",
      "no match for /home/chuongh/vm2m/data/HHM/synthesized/masks/40546/0.png\n"
     ]
    },
    {
     "name": "stderr",
     "output_type": "stream",
     "text": [
      " 51%|█████     | 25435/49737 [32:26<32:40, 12.40it/s]"
     ]
    },
    {
     "name": "stdout",
     "output_type": "stream",
     "text": [
      "0.14428194642524655\n",
      "no match for /home/chuongh/vm2m/data/HHM/synthesized/masks/38568/0.png\n"
     ]
    },
    {
     "name": "stderr",
     "output_type": "stream",
     "text": [
      " 51%|█████     | 25447/49737 [32:27<23:48, 17.00it/s]"
     ]
    },
    {
     "name": "stdout",
     "output_type": "stream",
     "text": [
      "0.15409978419859643\n",
      "no match for /home/chuongh/vm2m/data/HHM/synthesized/masks/39583/0.png\n"
     ]
    },
    {
     "name": "stderr",
     "output_type": "stream",
     "text": [
      " 51%|█████▏    | 25497/49737 [32:30<25:09, 16.05it/s]"
     ]
    },
    {
     "name": "stdout",
     "output_type": "stream",
     "text": [
      "0\n",
      "no match for /home/chuongh/vm2m/data/HHM/synthesized/masks/21101/0.png\n"
     ]
    },
    {
     "name": "stderr",
     "output_type": "stream",
     "text": [
      " 51%|█████▏    | 25503/49737 [32:31<24:55, 16.20it/s]"
     ]
    },
    {
     "name": "stdout",
     "output_type": "stream",
     "text": [
      "0\n",
      "no match for /home/chuongh/vm2m/data/HHM/synthesized/masks/36496/0.png\n"
     ]
    },
    {
     "name": "stderr",
     "output_type": "stream",
     "text": [
      " 51%|█████▏    | 25543/49737 [32:34<33:37, 11.99it/s]"
     ]
    },
    {
     "name": "stdout",
     "output_type": "stream",
     "text": [
      "0.2752720658499545\n",
      "no match for /home/chuongh/vm2m/data/HHM/synthesized/masks/28079/2.png\n"
     ]
    },
    {
     "name": "stderr",
     "output_type": "stream",
     "text": [
      " 51%|█████▏    | 25564/49737 [32:36<30:36, 13.16it/s]"
     ]
    },
    {
     "name": "stdout",
     "output_type": "stream",
     "text": [
      "0.2721621136943167\n",
      "no match for /home/chuongh/vm2m/data/HHM/synthesized/masks/32961/1.png\n"
     ]
    },
    {
     "name": "stderr",
     "output_type": "stream",
     "text": [
      " 51%|█████▏    | 25589/49737 [32:38<23:32, 17.10it/s]"
     ]
    },
    {
     "name": "stdout",
     "output_type": "stream",
     "text": [
      "0\n",
      "no match for /home/chuongh/vm2m/data/HHM/synthesized/masks/39311/1.png\n"
     ]
    },
    {
     "name": "stderr",
     "output_type": "stream",
     "text": [
      " 51%|█████▏    | 25607/49737 [32:39<46:03,  8.73it/s]"
     ]
    },
    {
     "name": "stdout",
     "output_type": "stream",
     "text": [
      "0.005798695618257019\n",
      "no match for /home/chuongh/vm2m/data/HHM/synthesized/masks/13174/0.png\n"
     ]
    },
    {
     "name": "stderr",
     "output_type": "stream",
     "text": [
      " 52%|█████▏    | 25617/49737 [32:40<31:15, 12.86it/s]"
     ]
    },
    {
     "name": "stdout",
     "output_type": "stream",
     "text": [
      "0.018638491397664117\n",
      "no match for /home/chuongh/vm2m/data/HHM/synthesized/masks/26550/0.png\n"
     ]
    },
    {
     "name": "stderr",
     "output_type": "stream",
     "text": [
      " 52%|█████▏    | 25635/49737 [32:42<26:26, 15.19it/s]"
     ]
    },
    {
     "name": "stdout",
     "output_type": "stream",
     "text": [
      "0.20758915361640218\n",
      "no match for /home/chuongh/vm2m/data/HHM/synthesized/masks/39864/0.png\n"
     ]
    },
    {
     "name": "stderr",
     "output_type": "stream",
     "text": [
      " 52%|█████▏    | 25650/49737 [32:43<27:57, 14.36it/s]"
     ]
    },
    {
     "name": "stdout",
     "output_type": "stream",
     "text": [
      "0.11782357997440314\n",
      "no match for /home/chuongh/vm2m/data/HHM/synthesized/masks/42713/2.png\n"
     ]
    },
    {
     "name": "stderr",
     "output_type": "stream",
     "text": [
      " 52%|█████▏    | 25658/49737 [32:43<31:29, 12.74it/s]"
     ]
    },
    {
     "name": "stdout",
     "output_type": "stream",
     "text": [
      "0\n",
      "no match for /home/chuongh/vm2m/data/HHM/synthesized/masks/11672/0.png\n"
     ]
    },
    {
     "name": "stderr",
     "output_type": "stream",
     "text": [
      " 52%|█████▏    | 25674/49737 [32:45<36:28, 10.99it/s]"
     ]
    },
    {
     "name": "stdout",
     "output_type": "stream",
     "text": [
      "0.04815682406591346\n",
      "no match for /home/chuongh/vm2m/data/HHM/synthesized/masks/33713/2.png\n"
     ]
    },
    {
     "name": "stderr",
     "output_type": "stream",
     "text": [
      " 52%|█████▏    | 25684/49737 [32:46<41:00,  9.78it/s]"
     ]
    },
    {
     "name": "stdout",
     "output_type": "stream",
     "text": [
      "0.1962071955889244\n",
      "no match for /home/chuongh/vm2m/data/HHM/synthesized/masks/14236/0.png\n",
      "0.17356994379793067\n",
      "no match for /home/chuongh/vm2m/data/HHM/synthesized/masks/14236/1.png\n"
     ]
    },
    {
     "name": "stderr",
     "output_type": "stream",
     "text": [
      " 52%|█████▏    | 25719/49737 [32:49<23:03, 17.36it/s]"
     ]
    },
    {
     "name": "stdout",
     "output_type": "stream",
     "text": [
      "0.014660912356791681\n",
      "no match for /home/chuongh/vm2m/data/HHM/synthesized/masks/6187/0.png\n"
     ]
    },
    {
     "name": "stderr",
     "output_type": "stream",
     "text": [
      " 52%|█████▏    | 25738/49737 [32:50<32:43, 12.22it/s]"
     ]
    },
    {
     "name": "stdout",
     "output_type": "stream",
     "text": [
      "0.19301015240443542\n",
      "no match for /home/chuongh/vm2m/data/HHM/synthesized/masks/26519/1.png\n"
     ]
    },
    {
     "name": "stderr",
     "output_type": "stream",
     "text": [
      " 52%|█████▏    | 25746/49737 [32:51<33:07, 12.07it/s]"
     ]
    },
    {
     "name": "stdout",
     "output_type": "stream",
     "text": [
      "0.09459623016444713\n",
      "no match for /home/chuongh/vm2m/data/HHM/synthesized/masks/14378/0.png\n"
     ]
    },
    {
     "name": "stderr",
     "output_type": "stream",
     "text": [
      " 52%|█████▏    | 25772/49737 [32:52<24:33, 16.27it/s]"
     ]
    },
    {
     "name": "stdout",
     "output_type": "stream",
     "text": [
      "0.04555942225021938\n",
      "no match for /home/chuongh/vm2m/data/HHM/synthesized/masks/41157/1.png\n",
      "0.005830022456373803\n",
      "no match for /home/chuongh/vm2m/data/HHM/synthesized/masks/49903/0.png\n"
     ]
    },
    {
     "name": "stderr",
     "output_type": "stream",
     "text": [
      " 52%|█████▏    | 25789/49737 [32:54<23:22, 17.08it/s]"
     ]
    },
    {
     "name": "stdout",
     "output_type": "stream",
     "text": [
      "0.2624463073383369\n",
      "no match for /home/chuongh/vm2m/data/HHM/synthesized/masks/46851/0.png\n"
     ]
    },
    {
     "name": "stderr",
     "output_type": "stream",
     "text": [
      " 52%|█████▏    | 25845/49737 [32:57<31:33, 12.62it/s]"
     ]
    },
    {
     "name": "stdout",
     "output_type": "stream",
     "text": [
      "0.23625797372657248\n",
      "no match for /home/chuongh/vm2m/data/HHM/synthesized/masks/15896/1.png\n"
     ]
    },
    {
     "name": "stderr",
     "output_type": "stream",
     "text": [
      " 52%|█████▏    | 25877/49737 [33:00<24:35, 16.17it/s]"
     ]
    },
    {
     "name": "stdout",
     "output_type": "stream",
     "text": [
      "0.1589982666427895\n",
      "no match for /home/chuongh/vm2m/data/HHM/synthesized/masks/12720/0.png\n"
     ]
    },
    {
     "name": "stderr",
     "output_type": "stream",
     "text": [
      " 52%|█████▏    | 25888/49737 [33:01<32:36, 12.19it/s]"
     ]
    },
    {
     "name": "stdout",
     "output_type": "stream",
     "text": [
      "0.16067513341248152\n",
      "no match for /home/chuongh/vm2m/data/HHM/synthesized/masks/47184/1.png\n"
     ]
    },
    {
     "name": "stderr",
     "output_type": "stream",
     "text": [
      " 52%|█████▏    | 25905/49737 [33:02<23:17, 17.06it/s]"
     ]
    },
    {
     "name": "stdout",
     "output_type": "stream",
     "text": [
      "0.19492041419544104\n",
      "no match for /home/chuongh/vm2m/data/HHM/synthesized/masks/48476/1.png\n"
     ]
    },
    {
     "name": "stderr",
     "output_type": "stream",
     "text": [
      " 52%|█████▏    | 25916/49737 [33:03<28:42, 13.83it/s]"
     ]
    },
    {
     "name": "stdout",
     "output_type": "stream",
     "text": [
      "0.22278894277019298\n",
      "no match for /home/chuongh/vm2m/data/HHM/synthesized/masks/19385/0.png\n"
     ]
    },
    {
     "name": "stderr",
     "output_type": "stream",
     "text": [
      " 52%|█████▏    | 25930/49737 [33:04<28:05, 14.12it/s]"
     ]
    },
    {
     "name": "stdout",
     "output_type": "stream",
     "text": [
      "0.28345628731947664\n",
      "no match for /home/chuongh/vm2m/data/HHM/synthesized/masks/25827/0.png\n"
     ]
    },
    {
     "name": "stderr",
     "output_type": "stream",
     "text": [
      " 52%|█████▏    | 25938/49737 [33:04<28:42, 13.81it/s]"
     ]
    },
    {
     "name": "stdout",
     "output_type": "stream",
     "text": [
      "0\n",
      "no match for /home/chuongh/vm2m/data/HHM/synthesized/masks/23854/0.png\n"
     ]
    },
    {
     "name": "stderr",
     "output_type": "stream",
     "text": [
      " 52%|█████▏    | 25971/49737 [33:07<27:24, 14.45it/s]"
     ]
    },
    {
     "name": "stdout",
     "output_type": "stream",
     "text": [
      "0.18405014924458055\n",
      "no match for /home/chuongh/vm2m/data/HHM/synthesized/masks/22581/1.png\n"
     ]
    },
    {
     "name": "stderr",
     "output_type": "stream",
     "text": [
      " 52%|█████▏    | 26080/49737 [33:15<26:32, 14.86it/s]"
     ]
    },
    {
     "name": "stdout",
     "output_type": "stream",
     "text": [
      "0.2475206845919511\n",
      "no match for /home/chuongh/vm2m/data/HHM/synthesized/masks/15236/0.png\n"
     ]
    },
    {
     "name": "stderr",
     "output_type": "stream",
     "text": [
      " 52%|█████▏    | 26093/49737 [33:15<26:03, 15.13it/s]"
     ]
    },
    {
     "name": "stdout",
     "output_type": "stream",
     "text": [
      "0\n",
      "no match for /home/chuongh/vm2m/data/HHM/synthesized/masks/42846/1.png\n"
     ]
    },
    {
     "name": "stderr",
     "output_type": "stream",
     "text": [
      " 52%|█████▏    | 26101/49737 [33:16<32:12, 12.23it/s]"
     ]
    },
    {
     "name": "stdout",
     "output_type": "stream",
     "text": [
      "0.14640151765481801\n",
      "no match for /home/chuongh/vm2m/data/HHM/synthesized/masks/31340/1.png\n",
      "0.07581468752636963\n",
      "no match for /home/chuongh/vm2m/data/HHM/synthesized/masks/31684/2.png\n"
     ]
    },
    {
     "name": "stderr",
     "output_type": "stream",
     "text": [
      " 52%|█████▏    | 26103/49737 [33:16<31:40, 12.43it/s]"
     ]
    },
    {
     "name": "stdout",
     "output_type": "stream",
     "text": [
      "0.16961919375023235\n",
      "no match for /home/chuongh/vm2m/data/HHM/synthesized/masks/11213/3.png\n"
     ]
    },
    {
     "name": "stderr",
     "output_type": "stream",
     "text": [
      " 53%|█████▎    | 26124/49737 [33:18<23:53, 16.47it/s]"
     ]
    },
    {
     "name": "stdout",
     "output_type": "stream",
     "text": [
      "0\n",
      "no match for /home/chuongh/vm2m/data/HHM/synthesized/masks/39916/0.png\n"
     ]
    },
    {
     "name": "stderr",
     "output_type": "stream",
     "text": [
      " 53%|█████▎    | 26151/49737 [33:20<32:11, 12.21it/s]"
     ]
    },
    {
     "name": "stdout",
     "output_type": "stream",
     "text": [
      "0.011636670585682452\n",
      "no match for /home/chuongh/vm2m/data/HHM/synthesized/masks/43656/0.png\n"
     ]
    },
    {
     "name": "stderr",
     "output_type": "stream",
     "text": [
      " 53%|█████▎    | 26174/49737 [33:21<28:47, 13.64it/s]"
     ]
    },
    {
     "name": "stdout",
     "output_type": "stream",
     "text": [
      "0.06589341136803797\n",
      "no match for /home/chuongh/vm2m/data/HHM/synthesized/masks/20038/0.png\n"
     ]
    },
    {
     "name": "stderr",
     "output_type": "stream",
     "text": [
      " 53%|█████▎    | 26206/49737 [33:24<24:14, 16.18it/s]"
     ]
    },
    {
     "name": "stdout",
     "output_type": "stream",
     "text": [
      "0\n",
      "no match for /home/chuongh/vm2m/data/HHM/synthesized/masks/14936/1.png\n"
     ]
    },
    {
     "name": "stderr",
     "output_type": "stream",
     "text": [
      " 53%|█████▎    | 26215/49737 [33:24<28:10, 13.91it/s]"
     ]
    },
    {
     "name": "stdout",
     "output_type": "stream",
     "text": [
      "0.11269073608051716\n",
      "no match for /home/chuongh/vm2m/data/HHM/synthesized/masks/2521/0.png\n",
      "0.24523695971698264\n",
      "no match for /home/chuongh/vm2m/data/HHM/synthesized/masks/2521/1.png\n",
      "0.2482996569553892\n",
      "no match for /home/chuongh/vm2m/data/HHM/synthesized/masks/8749/1.png\n"
     ]
    },
    {
     "name": "stderr",
     "output_type": "stream",
     "text": [
      " 53%|█████▎    | 26226/49737 [33:25<34:27, 11.37it/s]"
     ]
    },
    {
     "name": "stdout",
     "output_type": "stream",
     "text": [
      "0.19929369817700077\n",
      "no match for /home/chuongh/vm2m/data/HHM/synthesized/masks/43983/0.png\n"
     ]
    },
    {
     "name": "stderr",
     "output_type": "stream",
     "text": [
      " 53%|█████▎    | 26236/49737 [33:26<28:35, 13.70it/s]"
     ]
    },
    {
     "name": "stdout",
     "output_type": "stream",
     "text": [
      "0.019594041889356876\n",
      "no match for /home/chuongh/vm2m/data/HHM/synthesized/masks/16900/0.png\n"
     ]
    },
    {
     "name": "stderr",
     "output_type": "stream",
     "text": [
      " 53%|█████▎    | 26246/49737 [33:27<25:58, 15.07it/s]"
     ]
    },
    {
     "name": "stdout",
     "output_type": "stream",
     "text": [
      "0.28880130091072187\n",
      "no match for /home/chuongh/vm2m/data/HHM/synthesized/masks/8876/0.png\n"
     ]
    },
    {
     "name": "stderr",
     "output_type": "stream",
     "text": [
      " 53%|█████▎    | 26266/49737 [33:28<29:07, 13.43it/s]"
     ]
    },
    {
     "name": "stdout",
     "output_type": "stream",
     "text": [
      "0.013826089151600185\n",
      "no match for /home/chuongh/vm2m/data/HHM/synthesized/masks/2229/0.png\n"
     ]
    },
    {
     "name": "stderr",
     "output_type": "stream",
     "text": [
      " 53%|█████▎    | 26311/49737 [33:32<30:15, 12.90it/s]"
     ]
    },
    {
     "name": "stdout",
     "output_type": "stream",
     "text": [
      "0.2334178065114497\n",
      "no match for /home/chuongh/vm2m/data/HHM/synthesized/masks/30748/1.png\n"
     ]
    },
    {
     "name": "stderr",
     "output_type": "stream",
     "text": [
      " 53%|█████▎    | 26315/49737 [33:32<27:07, 14.39it/s]"
     ]
    },
    {
     "name": "stdout",
     "output_type": "stream",
     "text": [
      "0.2757100608215372\n",
      "no match for /home/chuongh/vm2m/data/HHM/synthesized/masks/37645/2.png\n"
     ]
    },
    {
     "name": "stderr",
     "output_type": "stream",
     "text": [
      " 53%|█████▎    | 26373/49737 [33:37<27:22, 14.23it/s]"
     ]
    },
    {
     "name": "stdout",
     "output_type": "stream",
     "text": [
      "0.08033332807183967\n",
      "no match for /home/chuongh/vm2m/data/HHM/synthesized/masks/38721/1.png\n"
     ]
    },
    {
     "name": "stderr",
     "output_type": "stream",
     "text": [
      " 53%|█████▎    | 26381/49737 [33:38<33:21, 11.67it/s]"
     ]
    },
    {
     "name": "stdout",
     "output_type": "stream",
     "text": [
      "0\n",
      "no match for /home/chuongh/vm2m/data/HHM/synthesized/masks/40030/1.png\n"
     ]
    },
    {
     "name": "stderr",
     "output_type": "stream",
     "text": [
      " 53%|█████▎    | 26386/49737 [33:38<32:46, 11.87it/s]"
     ]
    },
    {
     "name": "stdout",
     "output_type": "stream",
     "text": [
      "0.08389775828063496\n",
      "no match for /home/chuongh/vm2m/data/HHM/synthesized/masks/17611/1.png\n"
     ]
    },
    {
     "name": "stderr",
     "output_type": "stream",
     "text": [
      " 53%|█████▎    | 26391/49737 [33:38<25:58, 14.98it/s]"
     ]
    },
    {
     "name": "stdout",
     "output_type": "stream",
     "text": [
      "0.1705022988004533\n",
      "no match for /home/chuongh/vm2m/data/HHM/synthesized/masks/39028/2.png\n"
     ]
    },
    {
     "name": "stderr",
     "output_type": "stream",
     "text": [
      " 53%|█████▎    | 26407/49737 [33:39<27:09, 14.32it/s]"
     ]
    },
    {
     "name": "stdout",
     "output_type": "stream",
     "text": [
      "0\n",
      "no match for /home/chuongh/vm2m/data/HHM/synthesized/masks/45449/0.png\n"
     ]
    },
    {
     "name": "stderr",
     "output_type": "stream",
     "text": [
      " 53%|█████▎    | 26411/49737 [33:40<26:51, 14.47it/s]"
     ]
    },
    {
     "name": "stdout",
     "output_type": "stream",
     "text": [
      "0\n",
      "no match for /home/chuongh/vm2m/data/HHM/synthesized/masks/24592/1.png\n"
     ]
    },
    {
     "name": "stderr",
     "output_type": "stream",
     "text": [
      " 53%|█████▎    | 26436/49737 [33:42<23:07, 16.80it/s]"
     ]
    },
    {
     "name": "stdout",
     "output_type": "stream",
     "text": [
      "0.16756789454945112\n",
      "no match for /home/chuongh/vm2m/data/HHM/synthesized/masks/251/2.png\n"
     ]
    },
    {
     "name": "stderr",
     "output_type": "stream",
     "text": [
      " 53%|█████▎    | 26444/49737 [33:42<24:03, 16.13it/s]"
     ]
    },
    {
     "name": "stdout",
     "output_type": "stream",
     "text": [
      "0.25233207591186196\n",
      "no match for /home/chuongh/vm2m/data/HHM/synthesized/masks/24759/1.png\n"
     ]
    },
    {
     "name": "stderr",
     "output_type": "stream",
     "text": [
      " 53%|█████▎    | 26462/49737 [33:43<31:46, 12.21it/s]"
     ]
    },
    {
     "name": "stdout",
     "output_type": "stream",
     "text": [
      "0.042424987702783544\n",
      "no match for /home/chuongh/vm2m/data/HHM/synthesized/masks/27797/2.png\n",
      "0\n",
      "no match for /home/chuongh/vm2m/data/HHM/synthesized/masks/28276/0.png\n"
     ]
    },
    {
     "name": "stderr",
     "output_type": "stream",
     "text": [
      " 53%|█████▎    | 26571/49737 [33:52<31:36, 12.21it/s]"
     ]
    },
    {
     "name": "stdout",
     "output_type": "stream",
     "text": [
      "0.17393789161958984\n",
      "no match for /home/chuongh/vm2m/data/HHM/synthesized/masks/10990/0.png\n"
     ]
    },
    {
     "name": "stderr",
     "output_type": "stream",
     "text": [
      " 53%|█████▎    | 26596/49737 [33:54<29:08, 13.24it/s]"
     ]
    },
    {
     "name": "stdout",
     "output_type": "stream",
     "text": [
      "0.0022765207855552612\n",
      "no match for /home/chuongh/vm2m/data/HHM/synthesized/masks/39350/0.png\n"
     ]
    },
    {
     "name": "stderr",
     "output_type": "stream",
     "text": [
      " 54%|█████▎    | 26615/49737 [33:55<25:25, 15.16it/s]"
     ]
    },
    {
     "name": "stdout",
     "output_type": "stream",
     "text": [
      "0.2099626842976542\n",
      "no match for /home/chuongh/vm2m/data/HHM/synthesized/masks/37412/0.png\n"
     ]
    },
    {
     "name": "stderr",
     "output_type": "stream",
     "text": [
      " 54%|█████▎    | 26630/49737 [33:56<27:03, 14.24it/s]"
     ]
    },
    {
     "name": "stdout",
     "output_type": "stream",
     "text": [
      "0.23934464740328826\n",
      "no match for /home/chuongh/vm2m/data/HHM/synthesized/masks/3928/0.png\n"
     ]
    },
    {
     "name": "stderr",
     "output_type": "stream",
     "text": [
      " 54%|█████▎    | 26643/49737 [33:57<23:58, 16.05it/s]"
     ]
    },
    {
     "name": "stdout",
     "output_type": "stream",
     "text": [
      "0.18766118320957423\n",
      "no match for /home/chuongh/vm2m/data/HHM/synthesized/masks/8183/0.png\n"
     ]
    },
    {
     "name": "stderr",
     "output_type": "stream",
     "text": [
      " 54%|█████▎    | 26711/49737 [34:02<28:09, 13.63it/s]"
     ]
    },
    {
     "name": "stdout",
     "output_type": "stream",
     "text": [
      "0.21015781900552402\n",
      "no match for /home/chuongh/vm2m/data/HHM/synthesized/masks/47213/1.png\n"
     ]
    },
    {
     "name": "stderr",
     "output_type": "stream",
     "text": [
      " 54%|█████▎    | 26727/49737 [34:04<35:20, 10.85it/s]"
     ]
    },
    {
     "name": "stdout",
     "output_type": "stream",
     "text": [
      "0.29548112835801765\n",
      "no match for /home/chuongh/vm2m/data/HHM/synthesized/masks/49509/0.png\n"
     ]
    },
    {
     "name": "stderr",
     "output_type": "stream",
     "text": [
      " 54%|█████▍    | 26771/49737 [34:07<31:17, 12.23it/s]"
     ]
    },
    {
     "name": "stdout",
     "output_type": "stream",
     "text": [
      "0.12054053434474414\n",
      "no match for /home/chuongh/vm2m/data/HHM/synthesized/masks/47853/3.png\n"
     ]
    },
    {
     "name": "stderr",
     "output_type": "stream",
     "text": [
      " 54%|█████▍    | 26787/49737 [34:08<22:38, 16.90it/s]"
     ]
    },
    {
     "name": "stdout",
     "output_type": "stream",
     "text": [
      "0.29549190137917697\n",
      "no match for /home/chuongh/vm2m/data/HHM/synthesized/masks/16555/1.png\n",
      "0.014482036813641998\n",
      "no match for /home/chuongh/vm2m/data/HHM/synthesized/masks/32709/0.png\n"
     ]
    },
    {
     "name": "stderr",
     "output_type": "stream",
     "text": [
      " 54%|█████▍    | 26813/49737 [34:10<28:25, 13.44it/s]"
     ]
    },
    {
     "name": "stdout",
     "output_type": "stream",
     "text": [
      "0.2402953268005205\n",
      "no match for /home/chuongh/vm2m/data/HHM/synthesized/masks/19744/2.png\n"
     ]
    },
    {
     "name": "stderr",
     "output_type": "stream",
     "text": [
      " 54%|█████▍    | 26835/49737 [34:12<28:07, 13.57it/s]"
     ]
    },
    {
     "name": "stdout",
     "output_type": "stream",
     "text": [
      "0.0005978726942187618\n",
      "no match for /home/chuongh/vm2m/data/HHM/synthesized/masks/2210/0.png\n"
     ]
    },
    {
     "name": "stderr",
     "output_type": "stream",
     "text": [
      " 54%|█████▍    | 26855/49737 [34:14<39:13,  9.72it/s]"
     ]
    },
    {
     "name": "stdout",
     "output_type": "stream",
     "text": [
      "0.06637127368300537\n",
      "no match for /home/chuongh/vm2m/data/HHM/synthesized/masks/33123/0.png\n",
      "0.030904073933257073\n",
      "no match for /home/chuongh/vm2m/data/HHM/synthesized/masks/39954/2.png\n"
     ]
    },
    {
     "name": "stderr",
     "output_type": "stream",
     "text": [
      " 54%|█████▍    | 26912/49737 [34:18<23:52, 15.94it/s]"
     ]
    },
    {
     "name": "stdout",
     "output_type": "stream",
     "text": [
      "0.00024838196888794355\n",
      "no match for /home/chuongh/vm2m/data/HHM/synthesized/masks/14421/1.png\n"
     ]
    },
    {
     "name": "stderr",
     "output_type": "stream",
     "text": [
      " 54%|█████▍    | 26920/49737 [34:19<26:28, 14.36it/s]"
     ]
    },
    {
     "name": "stdout",
     "output_type": "stream",
     "text": [
      "0.003956991330450048\n",
      "no match for /home/chuongh/vm2m/data/HHM/synthesized/masks/15285/0.png\n"
     ]
    },
    {
     "name": "stderr",
     "output_type": "stream",
     "text": [
      " 54%|█████▍    | 26964/49737 [34:22<26:42, 14.21it/s]"
     ]
    },
    {
     "name": "stdout",
     "output_type": "stream",
     "text": [
      "0\n",
      "no match for /home/chuongh/vm2m/data/HHM/synthesized/masks/19643/2.png\n"
     ]
    },
    {
     "name": "stderr",
     "output_type": "stream",
     "text": [
      " 54%|█████▍    | 26985/49737 [34:24<28:51, 13.14it/s]"
     ]
    },
    {
     "name": "stdout",
     "output_type": "stream",
     "text": [
      "0.19896522898217625\n",
      "no match for /home/chuongh/vm2m/data/HHM/synthesized/masks/36624/0.png\n"
     ]
    },
    {
     "name": "stderr",
     "output_type": "stream",
     "text": [
      " 54%|█████▍    | 26991/49737 [34:24<27:56, 13.57it/s]"
     ]
    },
    {
     "name": "stdout",
     "output_type": "stream",
     "text": [
      "0.15010945224664043\n",
      "no match for /home/chuongh/vm2m/data/HHM/synthesized/masks/12823/0.png\n"
     ]
    },
    {
     "name": "stderr",
     "output_type": "stream",
     "text": [
      " 54%|█████▍    | 27015/49737 [34:26<27:20, 13.85it/s]"
     ]
    },
    {
     "name": "stdout",
     "output_type": "stream",
     "text": [
      "0.010994235751090707\n",
      "no match for /home/chuongh/vm2m/data/HHM/synthesized/masks/23368/0.png\n"
     ]
    },
    {
     "name": "stderr",
     "output_type": "stream",
     "text": [
      " 54%|█████▍    | 27056/49737 [34:29<35:03, 10.78it/s]"
     ]
    },
    {
     "name": "stdout",
     "output_type": "stream",
     "text": [
      "0.04678645590051044\n",
      "no match for /home/chuongh/vm2m/data/HHM/synthesized/masks/2815/0.png\n"
     ]
    },
    {
     "name": "stderr",
     "output_type": "stream",
     "text": [
      " 54%|█████▍    | 27093/49737 [34:32<31:22, 12.03it/s]"
     ]
    },
    {
     "name": "stdout",
     "output_type": "stream",
     "text": [
      "0.12243429996882406\n",
      "no match for /home/chuongh/vm2m/data/HHM/synthesized/masks/21831/2.png\n"
     ]
    },
    {
     "name": "stderr",
     "output_type": "stream",
     "text": [
      " 55%|█████▍    | 27124/49737 [34:34<24:05, 15.64it/s]"
     ]
    },
    {
     "name": "stdout",
     "output_type": "stream",
     "text": [
      "0.2150041024118271\n",
      "no match for /home/chuongh/vm2m/data/HHM/synthesized/masks/6142/0.png\n"
     ]
    },
    {
     "name": "stderr",
     "output_type": "stream",
     "text": [
      " 55%|█████▍    | 27128/49737 [34:35<27:59, 13.46it/s]"
     ]
    },
    {
     "name": "stdout",
     "output_type": "stream",
     "text": [
      "0.15084304118052175\n",
      "no match for /home/chuongh/vm2m/data/HHM/synthesized/masks/15710/1.png\n"
     ]
    },
    {
     "name": "stderr",
     "output_type": "stream",
     "text": [
      " 55%|█████▍    | 27163/49737 [34:38<28:12, 13.34it/s]"
     ]
    },
    {
     "name": "stdout",
     "output_type": "stream",
     "text": [
      "0\n",
      "no match for /home/chuongh/vm2m/data/HHM/synthesized/masks/34474/2.png\n"
     ]
    },
    {
     "name": "stderr",
     "output_type": "stream",
     "text": [
      " 55%|█████▍    | 27208/49737 [34:41<28:46, 13.05it/s]"
     ]
    },
    {
     "name": "stdout",
     "output_type": "stream",
     "text": [
      "0.01803007506293813\n",
      "no match for /home/chuongh/vm2m/data/HHM/synthesized/masks/13919/0.png\n"
     ]
    },
    {
     "name": "stderr",
     "output_type": "stream",
     "text": [
      " 55%|█████▍    | 27212/49737 [34:41<33:57, 11.05it/s]"
     ]
    },
    {
     "name": "stdout",
     "output_type": "stream",
     "text": [
      "0.020783581207256884\n",
      "no match for /home/chuongh/vm2m/data/HHM/synthesized/masks/48194/0.png\n"
     ]
    },
    {
     "name": "stderr",
     "output_type": "stream",
     "text": [
      " 55%|█████▍    | 27220/49737 [34:42<33:17, 11.27it/s]"
     ]
    },
    {
     "name": "stdout",
     "output_type": "stream",
     "text": [
      "0.2623090358990886\n",
      "no match for /home/chuongh/vm2m/data/HHM/synthesized/masks/39329/1.png\n"
     ]
    },
    {
     "name": "stderr",
     "output_type": "stream",
     "text": [
      " 55%|█████▍    | 27245/49737 [34:44<31:11, 12.02it/s]"
     ]
    },
    {
     "name": "stdout",
     "output_type": "stream",
     "text": [
      "0.2631557053108326\n",
      "no match for /home/chuongh/vm2m/data/HHM/synthesized/masks/31491/2.png\n"
     ]
    },
    {
     "name": "stderr",
     "output_type": "stream",
     "text": [
      " 55%|█████▍    | 27346/49737 [34:52<30:07, 12.39it/s]"
     ]
    },
    {
     "name": "stdout",
     "output_type": "stream",
     "text": [
      "0.004815555151719212\n",
      "no match for /home/chuongh/vm2m/data/HHM/synthesized/masks/26544/0.png\n"
     ]
    },
    {
     "name": "stderr",
     "output_type": "stream",
     "text": [
      " 55%|█████▌    | 27390/49737 [34:55<28:26, 13.10it/s]"
     ]
    },
    {
     "name": "stdout",
     "output_type": "stream",
     "text": [
      "0.24652196081212965\n",
      "no match for /home/chuongh/vm2m/data/HHM/synthesized/masks/4749/1.png\n"
     ]
    },
    {
     "name": "stderr",
     "output_type": "stream",
     "text": [
      " 55%|█████▌    | 27402/49737 [34:56<29:27, 12.64it/s]"
     ]
    },
    {
     "name": "stdout",
     "output_type": "stream",
     "text": [
      "0.17802319443971928\n",
      "no match for /home/chuongh/vm2m/data/HHM/synthesized/masks/49491/0.png\n"
     ]
    },
    {
     "name": "stderr",
     "output_type": "stream",
     "text": [
      " 55%|█████▌    | 27434/49737 [34:58<24:12, 15.35it/s]"
     ]
    },
    {
     "name": "stdout",
     "output_type": "stream",
     "text": [
      "0.15670942022201742\n",
      "no match for /home/chuongh/vm2m/data/HHM/synthesized/masks/128/1.png\n"
     ]
    },
    {
     "name": "stderr",
     "output_type": "stream",
     "text": [
      " 55%|█████▌    | 27446/49737 [34:59<29:10, 12.74it/s]"
     ]
    },
    {
     "name": "stdout",
     "output_type": "stream",
     "text": [
      "0.1503833479991238\n",
      "no match for /home/chuongh/vm2m/data/HHM/synthesized/masks/31386/3.png\n"
     ]
    },
    {
     "name": "stderr",
     "output_type": "stream",
     "text": [
      " 55%|█████▌    | 27452/49737 [35:00<37:12,  9.98it/s]"
     ]
    },
    {
     "name": "stdout",
     "output_type": "stream",
     "text": [
      "0.0030351038105477218\n",
      "no match for /home/chuongh/vm2m/data/HHM/synthesized/masks/15150/1.png\n"
     ]
    },
    {
     "name": "stderr",
     "output_type": "stream",
     "text": [
      " 55%|█████▌    | 27470/49737 [35:01<29:07, 12.74it/s]"
     ]
    },
    {
     "name": "stdout",
     "output_type": "stream",
     "text": [
      "0.20283510863177248\n",
      "no match for /home/chuongh/vm2m/data/HHM/synthesized/masks/7075/1.png\n"
     ]
    },
    {
     "name": "stderr",
     "output_type": "stream",
     "text": [
      " 55%|█████▌    | 27485/49737 [35:02<23:19, 15.89it/s]"
     ]
    },
    {
     "name": "stdout",
     "output_type": "stream",
     "text": [
      "0.009306403552787784\n",
      "no match for /home/chuongh/vm2m/data/HHM/synthesized/masks/15713/0.png\n"
     ]
    },
    {
     "name": "stderr",
     "output_type": "stream",
     "text": [
      " 55%|█████▌    | 27489/49737 [35:03<28:27, 13.03it/s]"
     ]
    },
    {
     "name": "stdout",
     "output_type": "stream",
     "text": [
      "0.27143153670466064\n",
      "no match for /home/chuongh/vm2m/data/HHM/synthesized/masks/38290/0.png\n",
      "0.2002426256571524\n",
      "no match for /home/chuongh/vm2m/data/HHM/synthesized/masks/13421/0.png\n"
     ]
    },
    {
     "name": "stderr",
     "output_type": "stream",
     "text": [
      " 55%|█████▌    | 27520/49737 [35:05<25:07, 14.74it/s]"
     ]
    },
    {
     "name": "stdout",
     "output_type": "stream",
     "text": [
      "0.09790445121672678\n",
      "no match for /home/chuongh/vm2m/data/HHM/synthesized/masks/17672/3.png\n"
     ]
    },
    {
     "name": "stderr",
     "output_type": "stream",
     "text": [
      " 55%|█████▌    | 27590/49737 [35:10<23:53, 15.45it/s]"
     ]
    },
    {
     "name": "stdout",
     "output_type": "stream",
     "text": [
      "0.12008624863691608\n",
      "no match for /home/chuongh/vm2m/data/HHM/synthesized/masks/8263/1.png\n"
     ]
    },
    {
     "name": "stderr",
     "output_type": "stream",
     "text": [
      " 56%|█████▌    | 27671/49737 [35:15<19:24, 18.95it/s]"
     ]
    },
    {
     "name": "stdout",
     "output_type": "stream",
     "text": [
      "0.23621926299700696\n",
      "no match for /home/chuongh/vm2m/data/HHM/synthesized/masks/38061/1.png\n"
     ]
    },
    {
     "name": "stderr",
     "output_type": "stream",
     "text": [
      " 56%|█████▌    | 27684/49737 [35:16<27:37, 13.30it/s]"
     ]
    },
    {
     "name": "stdout",
     "output_type": "stream",
     "text": [
      "0.09884132730056965\n",
      "no match for /home/chuongh/vm2m/data/HHM/synthesized/masks/20883/0.png\n"
     ]
    },
    {
     "name": "stderr",
     "output_type": "stream",
     "text": [
      " 56%|█████▌    | 27689/49737 [35:17<23:19, 15.75it/s]"
     ]
    },
    {
     "name": "stdout",
     "output_type": "stream",
     "text": [
      "0.2189238245795272\n",
      "no match for /home/chuongh/vm2m/data/HHM/synthesized/masks/5342/2.png\n"
     ]
    },
    {
     "name": "stderr",
     "output_type": "stream",
     "text": [
      " 56%|█████▌    | 27703/49737 [35:18<34:10, 10.75it/s]"
     ]
    },
    {
     "name": "stdout",
     "output_type": "stream",
     "text": [
      "0.1783562355478504\n",
      "no match for /home/chuongh/vm2m/data/HHM/synthesized/masks/27706/1.png\n"
     ]
    },
    {
     "name": "stderr",
     "output_type": "stream",
     "text": [
      " 56%|█████▌    | 27728/49737 [35:20<28:06, 13.05it/s]"
     ]
    },
    {
     "name": "stdout",
     "output_type": "stream",
     "text": [
      "0.034831219092616945\n",
      "no match for /home/chuongh/vm2m/data/HHM/synthesized/masks/49344/0.png\n"
     ]
    },
    {
     "name": "stderr",
     "output_type": "stream",
     "text": [
      " 56%|█████▌    | 27738/49737 [35:21<32:34, 11.26it/s]"
     ]
    },
    {
     "name": "stdout",
     "output_type": "stream",
     "text": [
      "6.71451880399864e-05\n",
      "no match for /home/chuongh/vm2m/data/HHM/synthesized/masks/17397/0.png\n"
     ]
    },
    {
     "name": "stderr",
     "output_type": "stream",
     "text": [
      " 56%|█████▌    | 27756/49737 [35:23<28:14, 12.97it/s]"
     ]
    },
    {
     "name": "stdout",
     "output_type": "stream",
     "text": [
      "0\n",
      "no match for /home/chuongh/vm2m/data/HHM/synthesized/masks/36445/0.png\n"
     ]
    },
    {
     "name": "stderr",
     "output_type": "stream",
     "text": [
      " 56%|█████▌    | 27764/49737 [35:23<36:28, 10.04it/s]"
     ]
    },
    {
     "name": "stdout",
     "output_type": "stream",
     "text": [
      "0.05139330766627841\n",
      "no match for /home/chuongh/vm2m/data/HHM/synthesized/masks/34487/2.png\n"
     ]
    },
    {
     "name": "stderr",
     "output_type": "stream",
     "text": [
      " 56%|█████▌    | 27776/49737 [35:24<30:36, 11.96it/s]"
     ]
    },
    {
     "name": "stdout",
     "output_type": "stream",
     "text": [
      "0.03214874413557537\n",
      "no match for /home/chuongh/vm2m/data/HHM/synthesized/masks/25100/0.png\n"
     ]
    },
    {
     "name": "stderr",
     "output_type": "stream",
     "text": [
      " 56%|█████▌    | 27819/49737 [35:28<33:17, 10.98it/s]"
     ]
    },
    {
     "name": "stdout",
     "output_type": "stream",
     "text": [
      "0.1093984883548286\n",
      "no match for /home/chuongh/vm2m/data/HHM/synthesized/masks/38785/0.png\n"
     ]
    },
    {
     "name": "stderr",
     "output_type": "stream",
     "text": [
      " 56%|█████▌    | 27828/49737 [35:28<27:02, 13.50it/s]"
     ]
    },
    {
     "name": "stdout",
     "output_type": "stream",
     "text": [
      "0.2871942187271965\n",
      "no match for /home/chuongh/vm2m/data/HHM/synthesized/masks/39117/0.png\n"
     ]
    },
    {
     "name": "stderr",
     "output_type": "stream",
     "text": [
      " 56%|█████▌    | 27851/49737 [35:30<29:50, 12.22it/s]"
     ]
    },
    {
     "name": "stdout",
     "output_type": "stream",
     "text": [
      "0.29378691321923583\n",
      "no match for /home/chuongh/vm2m/data/HHM/synthesized/masks/41780/2.png\n"
     ]
    },
    {
     "name": "stderr",
     "output_type": "stream",
     "text": [
      " 56%|█████▌    | 27896/49737 [35:33<29:51, 12.19it/s]"
     ]
    },
    {
     "name": "stdout",
     "output_type": "stream",
     "text": [
      "0.28321461518577795\n",
      "no match for /home/chuongh/vm2m/data/HHM/synthesized/masks/34227/2.png\n"
     ]
    },
    {
     "name": "stderr",
     "output_type": "stream",
     "text": [
      " 56%|█████▌    | 27900/49737 [35:34<26:20, 13.82it/s]"
     ]
    },
    {
     "name": "stdout",
     "output_type": "stream",
     "text": [
      "0\n",
      "no match for /home/chuongh/vm2m/data/HHM/synthesized/masks/4957/1.png\n"
     ]
    },
    {
     "name": "stderr",
     "output_type": "stream",
     "text": [
      " 56%|█████▌    | 27919/49737 [35:35<21:28, 16.94it/s]"
     ]
    },
    {
     "name": "stdout",
     "output_type": "stream",
     "text": [
      "0.20928001152680836\n",
      "no match for /home/chuongh/vm2m/data/HHM/synthesized/masks/21697/1.png\n"
     ]
    },
    {
     "name": "stderr",
     "output_type": "stream",
     "text": [
      " 56%|█████▌    | 27935/49737 [35:36<22:58, 15.82it/s]"
     ]
    },
    {
     "name": "stdout",
     "output_type": "stream",
     "text": [
      "0.1325943678846668\n",
      "no match for /home/chuongh/vm2m/data/HHM/synthesized/masks/20389/2.png\n"
     ]
    },
    {
     "name": "stderr",
     "output_type": "stream",
     "text": [
      " 56%|█████▌    | 27967/49737 [35:38<29:41, 12.22it/s]"
     ]
    },
    {
     "name": "stdout",
     "output_type": "stream",
     "text": [
      "0.2203352891148121\n",
      "no match for /home/chuongh/vm2m/data/HHM/synthesized/masks/9327/2.png\n"
     ]
    },
    {
     "name": "stderr",
     "output_type": "stream",
     "text": [
      " 56%|█████▋    | 27986/49737 [35:39<22:57, 15.80it/s]"
     ]
    },
    {
     "name": "stdout",
     "output_type": "stream",
     "text": [
      "0.2807947849112274\n",
      "no match for /home/chuongh/vm2m/data/HHM/synthesized/masks/22132/2.png\n"
     ]
    },
    {
     "name": "stderr",
     "output_type": "stream",
     "text": [
      " 56%|█████▋    | 28017/49737 [35:42<23:10, 15.62it/s]"
     ]
    },
    {
     "name": "stdout",
     "output_type": "stream",
     "text": [
      "0.009006169655946143\n",
      "no match for /home/chuongh/vm2m/data/HHM/synthesized/masks/34018/0.png\n"
     ]
    },
    {
     "name": "stderr",
     "output_type": "stream",
     "text": [
      " 56%|█████▋    | 28042/49737 [35:44<32:01, 11.29it/s]"
     ]
    },
    {
     "name": "stdout",
     "output_type": "stream",
     "text": [
      "0.024730517573899366\n",
      "no match for /home/chuongh/vm2m/data/HHM/synthesized/masks/49017/0.png\n"
     ]
    },
    {
     "name": "stderr",
     "output_type": "stream",
     "text": [
      " 56%|█████▋    | 28058/49737 [35:45<26:49, 13.47it/s]"
     ]
    },
    {
     "name": "stdout",
     "output_type": "stream",
     "text": [
      "0.058485324775889726\n",
      "no match for /home/chuongh/vm2m/data/HHM/synthesized/masks/48990/0.png\n"
     ]
    },
    {
     "name": "stderr",
     "output_type": "stream",
     "text": [
      " 56%|█████▋    | 28062/49737 [35:45<30:41, 11.77it/s]"
     ]
    },
    {
     "name": "stdout",
     "output_type": "stream",
     "text": [
      "0.0070103763693300175\n",
      "no match for /home/chuongh/vm2m/data/HHM/synthesized/masks/49823/1.png\n"
     ]
    },
    {
     "name": "stderr",
     "output_type": "stream",
     "text": [
      " 56%|█████▋    | 28066/49737 [35:46<26:36, 13.58it/s]"
     ]
    },
    {
     "name": "stdout",
     "output_type": "stream",
     "text": [
      "0.052679189499942526\n",
      "no match for /home/chuongh/vm2m/data/HHM/synthesized/masks/3819/1.png\n"
     ]
    },
    {
     "name": "stderr",
     "output_type": "stream",
     "text": [
      " 56%|█████▋    | 28078/49737 [35:47<26:10, 13.79it/s]"
     ]
    },
    {
     "name": "stdout",
     "output_type": "stream",
     "text": [
      "0.08898954940644511\n",
      "no match for /home/chuongh/vm2m/data/HHM/synthesized/masks/12201/0.png\n"
     ]
    },
    {
     "name": "stderr",
     "output_type": "stream",
     "text": [
      " 56%|█████▋    | 28094/49737 [35:48<30:00, 12.02it/s]"
     ]
    },
    {
     "name": "stdout",
     "output_type": "stream",
     "text": [
      "0.20034312258384465\n",
      "no match for /home/chuongh/vm2m/data/HHM/synthesized/masks/15990/0.png\n",
      "0.2310447010567081\n",
      "no match for /home/chuongh/vm2m/data/HHM/synthesized/masks/7122/0.png\n"
     ]
    },
    {
     "name": "stderr",
     "output_type": "stream",
     "text": [
      " 57%|█████▋    | 28109/49737 [35:49<25:36, 14.08it/s]"
     ]
    },
    {
     "name": "stdout",
     "output_type": "stream",
     "text": [
      "0.12752076192199607\n",
      "no match for /home/chuongh/vm2m/data/HHM/synthesized/masks/3035/0.png\n"
     ]
    },
    {
     "name": "stderr",
     "output_type": "stream",
     "text": [
      " 57%|█████▋    | 28128/49737 [35:51<27:23, 13.15it/s]"
     ]
    },
    {
     "name": "stdout",
     "output_type": "stream",
     "text": [
      "0.22369916267775344\n",
      "no match for /home/chuongh/vm2m/data/HHM/synthesized/masks/17069/0.png\n"
     ]
    },
    {
     "name": "stderr",
     "output_type": "stream",
     "text": [
      " 57%|█████▋    | 28132/49737 [35:51<30:26, 11.83it/s]"
     ]
    },
    {
     "name": "stdout",
     "output_type": "stream",
     "text": [
      "0.0016841598748870846\n",
      "no match for /home/chuongh/vm2m/data/HHM/synthesized/masks/46864/1.png\n"
     ]
    },
    {
     "name": "stderr",
     "output_type": "stream",
     "text": [
      " 57%|█████▋    | 28157/49737 [35:53<30:21, 11.85it/s]"
     ]
    },
    {
     "name": "stdout",
     "output_type": "stream",
     "text": [
      "0.20834708935004517\n",
      "no match for /home/chuongh/vm2m/data/HHM/synthesized/masks/7220/2.png\n",
      "0.01905727975133621\n",
      "no match for /home/chuongh/vm2m/data/HHM/synthesized/masks/31510/2.png\n"
     ]
    },
    {
     "name": "stderr",
     "output_type": "stream",
     "text": [
      " 57%|█████▋    | 28200/49737 [35:56<23:30, 15.27it/s]"
     ]
    },
    {
     "name": "stdout",
     "output_type": "stream",
     "text": [
      "0.007418885850846235\n",
      "no match for /home/chuongh/vm2m/data/HHM/synthesized/masks/19228/0.png\n",
      "0.18073452679436933\n",
      "no match for /home/chuongh/vm2m/data/HHM/synthesized/masks/19228/2.png\n"
     ]
    },
    {
     "name": "stderr",
     "output_type": "stream",
     "text": [
      " 57%|█████▋    | 28250/49737 [36:00<26:17, 13.62it/s]"
     ]
    },
    {
     "name": "stdout",
     "output_type": "stream",
     "text": [
      "0.07552953337303855\n",
      "no match for /home/chuongh/vm2m/data/HHM/synthesized/masks/16339/0.png\n"
     ]
    },
    {
     "name": "stderr",
     "output_type": "stream",
     "text": [
      " 57%|█████▋    | 28285/49737 [36:03<27:10, 13.16it/s]"
     ]
    },
    {
     "name": "stdout",
     "output_type": "stream",
     "text": [
      "0.0008104613840853349\n",
      "no match for /home/chuongh/vm2m/data/HHM/synthesized/masks/17970/3.png\n"
     ]
    },
    {
     "name": "stderr",
     "output_type": "stream",
     "text": [
      " 57%|█████▋    | 28291/49737 [36:03<21:02, 16.99it/s]"
     ]
    },
    {
     "name": "stdout",
     "output_type": "stream",
     "text": [
      "0.025785208177992035\n",
      "no match for /home/chuongh/vm2m/data/HHM/synthesized/masks/36020/0.png\n"
     ]
    },
    {
     "name": "stderr",
     "output_type": "stream",
     "text": [
      " 57%|█████▋    | 28295/49737 [36:03<23:22, 15.29it/s]"
     ]
    },
    {
     "name": "stdout",
     "output_type": "stream",
     "text": [
      "0.26818414196144147\n",
      "no match for /home/chuongh/vm2m/data/HHM/synthesized/masks/17930/2.png\n"
     ]
    },
    {
     "name": "stderr",
     "output_type": "stream",
     "text": [
      " 57%|█████▋    | 28304/49737 [36:04<27:44, 12.87it/s]"
     ]
    },
    {
     "name": "stdout",
     "output_type": "stream",
     "text": [
      "0.1939483266855876\n",
      "no match for /home/chuongh/vm2m/data/HHM/synthesized/masks/39766/1.png\n"
     ]
    },
    {
     "name": "stderr",
     "output_type": "stream",
     "text": [
      " 57%|█████▋    | 28342/49737 [36:07<24:07, 14.78it/s]"
     ]
    },
    {
     "name": "stdout",
     "output_type": "stream",
     "text": [
      "0.19472364232567413\n",
      "no match for /home/chuongh/vm2m/data/HHM/synthesized/masks/10330/3.png\n"
     ]
    },
    {
     "name": "stderr",
     "output_type": "stream",
     "text": [
      " 57%|█████▋    | 28352/49737 [36:08<34:01, 10.48it/s]"
     ]
    },
    {
     "name": "stdout",
     "output_type": "stream",
     "text": [
      "0\n",
      "no match for /home/chuongh/vm2m/data/HHM/synthesized/masks/30058/2.png\n"
     ]
    },
    {
     "name": "stderr",
     "output_type": "stream",
     "text": [
      " 57%|█████▋    | 28361/49737 [36:09<25:26, 14.00it/s]"
     ]
    },
    {
     "name": "stdout",
     "output_type": "stream",
     "text": [
      "0.010093906908204253\n",
      "no match for /home/chuongh/vm2m/data/HHM/synthesized/masks/2110/2.png\n"
     ]
    },
    {
     "name": "stderr",
     "output_type": "stream",
     "text": [
      " 57%|█████▋    | 28374/49737 [36:10<28:21, 12.55it/s]"
     ]
    },
    {
     "name": "stdout",
     "output_type": "stream",
     "text": [
      "0.006198332644996891\n",
      "no match for /home/chuongh/vm2m/data/HHM/synthesized/masks/30063/1.png\n"
     ]
    },
    {
     "name": "stderr",
     "output_type": "stream",
     "text": [
      " 57%|█████▋    | 28385/49737 [36:11<21:21, 16.66it/s]"
     ]
    },
    {
     "name": "stdout",
     "output_type": "stream",
     "text": [
      "0.03241964458213452\n",
      "no match for /home/chuongh/vm2m/data/HHM/synthesized/masks/21151/1.png\n"
     ]
    },
    {
     "name": "stderr",
     "output_type": "stream",
     "text": [
      " 57%|█████▋    | 28411/49737 [36:13<21:30, 16.53it/s]"
     ]
    },
    {
     "name": "stdout",
     "output_type": "stream",
     "text": [
      "0.1502210868646953\n",
      "no match for /home/chuongh/vm2m/data/HHM/synthesized/masks/6442/2.png\n"
     ]
    },
    {
     "name": "stderr",
     "output_type": "stream",
     "text": [
      " 57%|█████▋    | 28438/49737 [36:15<25:04, 14.16it/s]"
     ]
    },
    {
     "name": "stdout",
     "output_type": "stream",
     "text": [
      "0.08125546327050387\n",
      "no match for /home/chuongh/vm2m/data/HHM/synthesized/masks/29035/0.png\n"
     ]
    },
    {
     "name": "stderr",
     "output_type": "stream",
     "text": [
      " 57%|█████▋    | 28444/49737 [36:15<31:28, 11.28it/s]"
     ]
    },
    {
     "name": "stdout",
     "output_type": "stream",
     "text": [
      "0.025395217322179062\n",
      "no match for /home/chuongh/vm2m/data/HHM/synthesized/masks/32787/0.png\n"
     ]
    },
    {
     "name": "stderr",
     "output_type": "stream",
     "text": [
      " 57%|█████▋    | 28463/49737 [36:17<21:44, 16.31it/s]"
     ]
    },
    {
     "name": "stdout",
     "output_type": "stream",
     "text": [
      "0\n",
      "no match for /home/chuongh/vm2m/data/HHM/synthesized/masks/41563/0.png\n"
     ]
    },
    {
     "name": "stderr",
     "output_type": "stream",
     "text": [
      " 57%|█████▋    | 28469/49737 [36:17<22:56, 15.45it/s]"
     ]
    },
    {
     "name": "stdout",
     "output_type": "stream",
     "text": [
      "0.18848944927293812\n",
      "no match for /home/chuongh/vm2m/data/HHM/synthesized/masks/31638/0.png\n"
     ]
    },
    {
     "name": "stderr",
     "output_type": "stream",
     "text": [
      " 57%|█████▋    | 28479/49737 [36:18<22:35, 15.69it/s]"
     ]
    },
    {
     "name": "stdout",
     "output_type": "stream",
     "text": [
      "0.1078916718344871\n",
      "no match for /home/chuongh/vm2m/data/HHM/synthesized/masks/26060/0.png\n"
     ]
    },
    {
     "name": "stderr",
     "output_type": "stream",
     "text": [
      " 57%|█████▋    | 28504/49737 [36:20<31:47, 11.13it/s]"
     ]
    },
    {
     "name": "stdout",
     "output_type": "stream",
     "text": [
      "0.2402161043609129\n",
      "no match for /home/chuongh/vm2m/data/HHM/synthesized/masks/23364/0.png\n",
      "0.1754866907603077\n",
      "no match for /home/chuongh/vm2m/data/HHM/synthesized/masks/23364/3.png\n"
     ]
    },
    {
     "name": "stderr",
     "output_type": "stream",
     "text": [
      " 57%|█████▋    | 28527/49737 [36:22<21:05, 16.76it/s]"
     ]
    },
    {
     "name": "stdout",
     "output_type": "stream",
     "text": [
      "0\n",
      "no match for /home/chuongh/vm2m/data/HHM/synthesized/masks/35335/0.png\n"
     ]
    },
    {
     "name": "stderr",
     "output_type": "stream",
     "text": [
      " 57%|█████▋    | 28537/49737 [36:22<26:16, 13.44it/s]"
     ]
    },
    {
     "name": "stdout",
     "output_type": "stream",
     "text": [
      "0.29893688263818263\n",
      "no match for /home/chuongh/vm2m/data/HHM/synthesized/masks/21449/1.png\n"
     ]
    },
    {
     "name": "stderr",
     "output_type": "stream",
     "text": [
      " 57%|█████▋    | 28552/49737 [36:23<24:29, 14.41it/s]"
     ]
    },
    {
     "name": "stdout",
     "output_type": "stream",
     "text": [
      "0.08266498825402942\n",
      "no match for /home/chuongh/vm2m/data/HHM/synthesized/masks/40419/0.png\n"
     ]
    },
    {
     "name": "stderr",
     "output_type": "stream",
     "text": [
      " 58%|█████▊    | 28599/49737 [36:27<23:55, 14.72it/s]"
     ]
    },
    {
     "name": "stdout",
     "output_type": "stream",
     "text": [
      "0.1330687171785351\n",
      "no match for /home/chuongh/vm2m/data/HHM/synthesized/masks/6293/2.png\n"
     ]
    },
    {
     "name": "stderr",
     "output_type": "stream",
     "text": [
      " 58%|█████▊    | 28623/49737 [36:29<41:28,  8.48it/s]"
     ]
    },
    {
     "name": "stdout",
     "output_type": "stream",
     "text": [
      "0\n",
      "no match for /home/chuongh/vm2m/data/HHM/synthesized/masks/2632/3.png\n"
     ]
    },
    {
     "name": "stderr",
     "output_type": "stream",
     "text": [
      " 58%|█████▊    | 28634/49737 [36:30<26:16, 13.39it/s]"
     ]
    },
    {
     "name": "stdout",
     "output_type": "stream",
     "text": [
      "0.15958807276434855\n",
      "no match for /home/chuongh/vm2m/data/HHM/synthesized/masks/49063/0.png\n"
     ]
    },
    {
     "name": "stderr",
     "output_type": "stream",
     "text": [
      " 58%|█████▊    | 28643/49737 [36:31<26:19, 13.35it/s]"
     ]
    },
    {
     "name": "stdout",
     "output_type": "stream",
     "text": [
      "0\n",
      "no match for /home/chuongh/vm2m/data/HHM/synthesized/masks/20362/0.png\n",
      "0.0061209612413956165\n",
      "no match for /home/chuongh/vm2m/data/HHM/synthesized/masks/20362/1.png\n"
     ]
    },
    {
     "name": "stderr",
     "output_type": "stream",
     "text": [
      " 58%|█████▊    | 28663/49737 [36:32<21:40, 16.21it/s]"
     ]
    },
    {
     "name": "stdout",
     "output_type": "stream",
     "text": [
      "0.032336559149724914\n",
      "no match for /home/chuongh/vm2m/data/HHM/synthesized/masks/44262/0.png\n"
     ]
    },
    {
     "name": "stderr",
     "output_type": "stream",
     "text": [
      " 58%|█████▊    | 28689/49737 [36:34<25:32, 13.73it/s]"
     ]
    },
    {
     "name": "stdout",
     "output_type": "stream",
     "text": [
      "0.268326517336568\n",
      "no match for /home/chuongh/vm2m/data/HHM/synthesized/masks/40464/1.png\n"
     ]
    },
    {
     "name": "stderr",
     "output_type": "stream",
     "text": [
      " 58%|█████▊    | 28739/49737 [36:37<21:20, 16.39it/s]"
     ]
    },
    {
     "name": "stdout",
     "output_type": "stream",
     "text": [
      "0.2389504034454776\n",
      "no match for /home/chuongh/vm2m/data/HHM/synthesized/masks/29940/1.png\n"
     ]
    },
    {
     "name": "stderr",
     "output_type": "stream",
     "text": [
      " 58%|█████▊    | 28751/49737 [36:38<25:43, 13.60it/s]"
     ]
    },
    {
     "name": "stdout",
     "output_type": "stream",
     "text": [
      "0.2842242270788281\n",
      "no match for /home/chuongh/vm2m/data/HHM/synthesized/masks/35378/0.png\n"
     ]
    },
    {
     "name": "stderr",
     "output_type": "stream",
     "text": [
      " 58%|█████▊    | 28791/49737 [36:41<31:57, 10.93it/s]"
     ]
    },
    {
     "name": "stdout",
     "output_type": "stream",
     "text": [
      "0.2662493728110334\n",
      "no match for /home/chuongh/vm2m/data/HHM/synthesized/masks/34875/0.png\n",
      "0.29196761257364945\n",
      "no match for /home/chuongh/vm2m/data/HHM/synthesized/masks/34875/3.png\n",
      "0.2645224621771821\n",
      "no match for /home/chuongh/vm2m/data/HHM/synthesized/masks/34875/2.png\n"
     ]
    },
    {
     "name": "stderr",
     "output_type": "stream",
     "text": [
      " 58%|█████▊    | 28804/49737 [36:42<29:22, 11.88it/s]"
     ]
    },
    {
     "name": "stdout",
     "output_type": "stream",
     "text": [
      "0.1952457573934213\n",
      "no match for /home/chuongh/vm2m/data/HHM/synthesized/masks/16670/1.png\n"
     ]
    },
    {
     "name": "stderr",
     "output_type": "stream",
     "text": [
      " 58%|█████▊    | 28822/49737 [36:44<29:59, 11.63it/s]"
     ]
    },
    {
     "name": "stdout",
     "output_type": "stream",
     "text": [
      "0.2191830436350657\n",
      "no match for /home/chuongh/vm2m/data/HHM/synthesized/masks/23615/2.png\n"
     ]
    },
    {
     "name": "stderr",
     "output_type": "stream",
     "text": [
      " 58%|█████▊    | 28856/49737 [36:46<17:44, 19.61it/s]"
     ]
    },
    {
     "name": "stdout",
     "output_type": "stream",
     "text": [
      "0.006642581023979671\n",
      "no match for /home/chuongh/vm2m/data/HHM/synthesized/masks/13786/0.png\n"
     ]
    },
    {
     "name": "stderr",
     "output_type": "stream",
     "text": [
      " 58%|█████▊    | 28884/49737 [36:48<33:45, 10.29it/s]"
     ]
    },
    {
     "name": "stdout",
     "output_type": "stream",
     "text": [
      "0.2430757708290261\n",
      "no match for /home/chuongh/vm2m/data/HHM/synthesized/masks/34014/0.png\n"
     ]
    },
    {
     "name": "stderr",
     "output_type": "stream",
     "text": [
      " 58%|█████▊    | 28907/49737 [36:50<26:57, 12.88it/s]"
     ]
    },
    {
     "name": "stdout",
     "output_type": "stream",
     "text": [
      "0.05004600278059974\n",
      "no match for /home/chuongh/vm2m/data/HHM/synthesized/masks/31173/0.png\n"
     ]
    },
    {
     "name": "stderr",
     "output_type": "stream",
     "text": [
      " 58%|█████▊    | 28964/49737 [36:55<24:03, 14.39it/s]"
     ]
    },
    {
     "name": "stdout",
     "output_type": "stream",
     "text": [
      "0.008587879044398445\n",
      "no match for /home/chuongh/vm2m/data/HHM/synthesized/masks/35278/0.png\n"
     ]
    },
    {
     "name": "stderr",
     "output_type": "stream",
     "text": [
      " 58%|█████▊    | 28974/49737 [36:55<23:17, 14.85it/s]"
     ]
    },
    {
     "name": "stdout",
     "output_type": "stream",
     "text": [
      "0.1697646476781047\n",
      "no match for /home/chuongh/vm2m/data/HHM/synthesized/masks/9860/1.png\n"
     ]
    },
    {
     "name": "stderr",
     "output_type": "stream",
     "text": [
      " 58%|█████▊    | 29028/49737 [37:00<28:13, 12.23it/s]"
     ]
    },
    {
     "name": "stdout",
     "output_type": "stream",
     "text": [
      "0.12423554847048171\n",
      "no match for /home/chuongh/vm2m/data/HHM/synthesized/masks/9314/0.png\n"
     ]
    },
    {
     "name": "stderr",
     "output_type": "stream",
     "text": [
      " 58%|█████▊    | 29036/49737 [37:00<22:39, 15.22it/s]"
     ]
    },
    {
     "name": "stdout",
     "output_type": "stream",
     "text": [
      "0\n",
      "no match for /home/chuongh/vm2m/data/HHM/synthesized/masks/49932/0.png\n"
     ]
    },
    {
     "name": "stderr",
     "output_type": "stream",
     "text": [
      " 58%|█████▊    | 29040/49737 [37:00<22:26, 15.37it/s]"
     ]
    },
    {
     "name": "stdout",
     "output_type": "stream",
     "text": [
      "0.17489669556546936\n",
      "no match for /home/chuongh/vm2m/data/HHM/synthesized/masks/13649/1.png\n"
     ]
    },
    {
     "name": "stderr",
     "output_type": "stream",
     "text": [
      " 58%|█████▊    | 29059/49737 [37:02<21:29, 16.03it/s]"
     ]
    },
    {
     "name": "stdout",
     "output_type": "stream",
     "text": [
      "0.1950086081442788\n",
      "no match for /home/chuongh/vm2m/data/HHM/synthesized/masks/44072/1.png\n",
      "0.23987659732232597\n",
      "no match for /home/chuongh/vm2m/data/HHM/synthesized/masks/24248/2.png\n"
     ]
    },
    {
     "name": "stderr",
     "output_type": "stream",
     "text": [
      " 58%|█████▊    | 29076/49737 [37:03<25:21, 13.58it/s]"
     ]
    },
    {
     "name": "stdout",
     "output_type": "stream",
     "text": [
      "0.0034281040925896425\n",
      "no match for /home/chuongh/vm2m/data/HHM/synthesized/masks/20079/0.png\n"
     ]
    },
    {
     "name": "stderr",
     "output_type": "stream",
     "text": [
      " 59%|█████▊    | 29174/49737 [37:11<26:50, 12.77it/s]"
     ]
    },
    {
     "name": "stdout",
     "output_type": "stream",
     "text": [
      "0.2827928014621858\n",
      "no match for /home/chuongh/vm2m/data/HHM/synthesized/masks/46704/2.png\n"
     ]
    },
    {
     "name": "stderr",
     "output_type": "stream",
     "text": [
      " 59%|█████▉    | 29236/49737 [37:16<31:19, 10.91it/s]"
     ]
    },
    {
     "name": "stdout",
     "output_type": "stream",
     "text": [
      "0.25016859223946136\n",
      "no match for /home/chuongh/vm2m/data/HHM/synthesized/masks/9787/1.png\n"
     ]
    },
    {
     "name": "stderr",
     "output_type": "stream",
     "text": [
      " 59%|█████▉    | 29258/49737 [37:18<26:43, 12.77it/s]"
     ]
    },
    {
     "name": "stdout",
     "output_type": "stream",
     "text": [
      "0.004462836407850388\n",
      "no match for /home/chuongh/vm2m/data/HHM/synthesized/masks/22301/1.png\n"
     ]
    },
    {
     "name": "stderr",
     "output_type": "stream",
     "text": [
      " 59%|█████▉    | 29272/49737 [37:19<26:16, 12.98it/s]"
     ]
    },
    {
     "name": "stdout",
     "output_type": "stream",
     "text": [
      "0.04312692391034789\n",
      "no match for /home/chuongh/vm2m/data/HHM/synthesized/masks/48285/0.png\n"
     ]
    },
    {
     "name": "stderr",
     "output_type": "stream",
     "text": [
      " 59%|█████▉    | 29312/49737 [37:22<25:36, 13.30it/s]"
     ]
    },
    {
     "name": "stdout",
     "output_type": "stream",
     "text": [
      "0.001686025700210696\n",
      "no match for /home/chuongh/vm2m/data/HHM/synthesized/masks/34153/0.png\n"
     ]
    },
    {
     "name": "stderr",
     "output_type": "stream",
     "text": [
      " 59%|█████▉    | 29320/49737 [37:22<29:37, 11.48it/s]"
     ]
    },
    {
     "name": "stdout",
     "output_type": "stream",
     "text": [
      "0.0018886808290722935\n",
      "no match for /home/chuongh/vm2m/data/HHM/synthesized/masks/31280/1.png\n",
      "0.21104696849567625\n",
      "no match for /home/chuongh/vm2m/data/HHM/synthesized/masks/48466/0.png\n"
     ]
    },
    {
     "name": "stderr",
     "output_type": "stream",
     "text": [
      " 59%|█████▉    | 29336/49737 [37:24<27:08, 12.53it/s]"
     ]
    },
    {
     "name": "stdout",
     "output_type": "stream",
     "text": [
      "0.13039679559361522\n",
      "no match for /home/chuongh/vm2m/data/HHM/synthesized/masks/13865/2.png\n"
     ]
    },
    {
     "name": "stderr",
     "output_type": "stream",
     "text": [
      " 59%|█████▉    | 29384/49737 [37:28<28:02, 12.10it/s]"
     ]
    },
    {
     "name": "stdout",
     "output_type": "stream",
     "text": [
      "0\n",
      "no match for /home/chuongh/vm2m/data/HHM/synthesized/masks/46888/0.png\n"
     ]
    },
    {
     "name": "stderr",
     "output_type": "stream",
     "text": [
      " 59%|█████▉    | 29402/49737 [37:29<22:07, 15.32it/s]"
     ]
    },
    {
     "name": "stdout",
     "output_type": "stream",
     "text": [
      "0\n",
      "no match for /home/chuongh/vm2m/data/HHM/synthesized/masks/12214/0.png\n"
     ]
    },
    {
     "name": "stderr",
     "output_type": "stream",
     "text": [
      " 59%|█████▉    | 29449/49737 [37:33<24:41, 13.70it/s]"
     ]
    },
    {
     "name": "stdout",
     "output_type": "stream",
     "text": [
      "0.28776876754968017\n",
      "no match for /home/chuongh/vm2m/data/HHM/synthesized/masks/10567/0.png\n"
     ]
    },
    {
     "name": "stderr",
     "output_type": "stream",
     "text": [
      " 59%|█████▉    | 29486/49737 [37:36<24:40, 13.68it/s]"
     ]
    },
    {
     "name": "stdout",
     "output_type": "stream",
     "text": [
      "0.00900418644827852\n",
      "no match for /home/chuongh/vm2m/data/HHM/synthesized/masks/49021/0.png\n",
      "0.009755309348191576\n",
      "no match for /home/chuongh/vm2m/data/HHM/synthesized/masks/49021/1.png\n"
     ]
    },
    {
     "name": "stderr",
     "output_type": "stream",
     "text": [
      " 59%|█████▉    | 29490/49737 [37:36<22:38, 14.90it/s]"
     ]
    },
    {
     "name": "stdout",
     "output_type": "stream",
     "text": [
      "0.19583112726765217\n",
      "no match for /home/chuongh/vm2m/data/HHM/synthesized/masks/25363/0.png\n",
      "0.028020371456809193\n",
      "no match for /home/chuongh/vm2m/data/HHM/synthesized/masks/13593/0.png\n"
     ]
    },
    {
     "name": "stderr",
     "output_type": "stream",
     "text": [
      " 59%|█████▉    | 29503/49737 [37:37<22:22, 15.07it/s]"
     ]
    },
    {
     "name": "stdout",
     "output_type": "stream",
     "text": [
      "0.2502820908384908\n",
      "no match for /home/chuongh/vm2m/data/HHM/synthesized/masks/19630/0.png\n"
     ]
    },
    {
     "name": "stderr",
     "output_type": "stream",
     "text": [
      " 59%|█████▉    | 29507/49737 [37:37<22:01, 15.31it/s]"
     ]
    },
    {
     "name": "stdout",
     "output_type": "stream",
     "text": [
      "0.06637203782549887\n",
      "no match for /home/chuongh/vm2m/data/HHM/synthesized/masks/20857/2.png\n"
     ]
    },
    {
     "name": "stderr",
     "output_type": "stream",
     "text": [
      " 59%|█████▉    | 29517/49737 [37:38<25:41, 13.12it/s]"
     ]
    },
    {
     "name": "stdout",
     "output_type": "stream",
     "text": [
      "0.2656572676443321\n",
      "no match for /home/chuongh/vm2m/data/HHM/synthesized/masks/21511/1.png\n"
     ]
    },
    {
     "name": "stderr",
     "output_type": "stream",
     "text": [
      " 59%|█████▉    | 29531/49737 [37:39<25:51, 13.03it/s]"
     ]
    },
    {
     "name": "stdout",
     "output_type": "stream",
     "text": [
      "0.008161968224787286\n",
      "no match for /home/chuongh/vm2m/data/HHM/synthesized/masks/15461/0.png\n",
      "0.01984702957163328\n",
      "no match for /home/chuongh/vm2m/data/HHM/synthesized/masks/26509/0.png\n"
     ]
    },
    {
     "name": "stderr",
     "output_type": "stream",
     "text": [
      " 59%|█████▉    | 29540/49737 [37:40<22:58, 14.65it/s]"
     ]
    },
    {
     "name": "stdout",
     "output_type": "stream",
     "text": [
      "0\n",
      "no match for /home/chuongh/vm2m/data/HHM/synthesized/masks/2045/1.png\n",
      "0.056823093428805344\n",
      "no match for /home/chuongh/vm2m/data/HHM/synthesized/masks/49937/0.png\n"
     ]
    },
    {
     "name": "stderr",
     "output_type": "stream",
     "text": [
      " 59%|█████▉    | 29551/49737 [37:41<30:13, 11.13it/s]"
     ]
    },
    {
     "name": "stdout",
     "output_type": "stream",
     "text": [
      "0.278060343834945\n",
      "no match for /home/chuongh/vm2m/data/HHM/synthesized/masks/28664/1.png\n"
     ]
    },
    {
     "name": "stderr",
     "output_type": "stream",
     "text": [
      " 59%|█████▉    | 29555/49737 [37:41<30:31, 11.02it/s]"
     ]
    },
    {
     "name": "stdout",
     "output_type": "stream",
     "text": [
      "0\n",
      "no match for /home/chuongh/vm2m/data/HHM/synthesized/masks/27185/1.png\n"
     ]
    },
    {
     "name": "stderr",
     "output_type": "stream",
     "text": [
      " 60%|█████▉    | 29611/49737 [37:46<21:06, 15.89it/s]"
     ]
    },
    {
     "name": "stdout",
     "output_type": "stream",
     "text": [
      "0.005260128994205576\n",
      "no match for /home/chuongh/vm2m/data/HHM/synthesized/masks/3963/0.png\n"
     ]
    },
    {
     "name": "stderr",
     "output_type": "stream",
     "text": [
      " 60%|█████▉    | 29637/49737 [37:48<25:56, 12.92it/s]"
     ]
    },
    {
     "name": "stdout",
     "output_type": "stream",
     "text": [
      "0.26977852415861014\n",
      "no match for /home/chuongh/vm2m/data/HHM/synthesized/masks/26689/1.png\n"
     ]
    },
    {
     "name": "stderr",
     "output_type": "stream",
     "text": [
      " 60%|█████▉    | 29643/49737 [37:48<30:38, 10.93it/s]"
     ]
    },
    {
     "name": "stdout",
     "output_type": "stream",
     "text": [
      "0.024161833184732296\n",
      "no match for /home/chuongh/vm2m/data/HHM/synthesized/masks/40355/0.png\n"
     ]
    },
    {
     "name": "stderr",
     "output_type": "stream",
     "text": [
      " 60%|█████▉    | 29696/49737 [37:53<29:56, 11.16it/s]"
     ]
    },
    {
     "name": "stdout",
     "output_type": "stream",
     "text": [
      "0.12123809784855301\n",
      "no match for /home/chuongh/vm2m/data/HHM/synthesized/masks/45195/0.png\n"
     ]
    },
    {
     "name": "stderr",
     "output_type": "stream",
     "text": [
      " 60%|█████▉    | 29748/49737 [37:57<26:19, 12.65it/s]"
     ]
    },
    {
     "name": "stdout",
     "output_type": "stream",
     "text": [
      "0.2977658394574264\n",
      "no match for /home/chuongh/vm2m/data/HHM/synthesized/masks/38994/2.png\n"
     ]
    },
    {
     "name": "stderr",
     "output_type": "stream",
     "text": [
      " 60%|█████▉    | 29786/49737 [37:59<25:13, 13.18it/s]"
     ]
    },
    {
     "name": "stdout",
     "output_type": "stream",
     "text": [
      "0.008067203311025468\n",
      "no match for /home/chuongh/vm2m/data/HHM/synthesized/masks/9809/0.png\n"
     ]
    },
    {
     "name": "stderr",
     "output_type": "stream",
     "text": [
      " 60%|█████▉    | 29799/49737 [38:01<30:58, 10.73it/s]"
     ]
    },
    {
     "name": "stdout",
     "output_type": "stream",
     "text": [
      "0.019921921427540325\n",
      "no match for /home/chuongh/vm2m/data/HHM/synthesized/masks/45779/0.png\n"
     ]
    },
    {
     "name": "stderr",
     "output_type": "stream",
     "text": [
      " 60%|█████▉    | 29829/49737 [38:03<21:55, 15.13it/s]"
     ]
    },
    {
     "name": "stdout",
     "output_type": "stream",
     "text": [
      "0.1798916792842682\n",
      "no match for /home/chuongh/vm2m/data/HHM/synthesized/masks/41595/2.png\n"
     ]
    },
    {
     "name": "stderr",
     "output_type": "stream",
     "text": [
      " 60%|█████▉    | 29836/49737 [38:04<25:19, 13.10it/s]"
     ]
    },
    {
     "name": "stdout",
     "output_type": "stream",
     "text": [
      "0.143518965609358\n",
      "no match for /home/chuongh/vm2m/data/HHM/synthesized/masks/2852/1.png\n"
     ]
    },
    {
     "name": "stderr",
     "output_type": "stream",
     "text": [
      " 60%|██████    | 29858/49737 [38:06<29:57, 11.06it/s]"
     ]
    },
    {
     "name": "stdout",
     "output_type": "stream",
     "text": [
      "0.29476863255094105\n",
      "no match for /home/chuongh/vm2m/data/HHM/synthesized/masks/287/3.png\n"
     ]
    },
    {
     "name": "stderr",
     "output_type": "stream",
     "text": [
      " 60%|██████    | 29904/49737 [38:09<27:56, 11.83it/s]"
     ]
    },
    {
     "name": "stdout",
     "output_type": "stream",
     "text": [
      "0.011991560153615764\n",
      "no match for /home/chuongh/vm2m/data/HHM/synthesized/masks/46509/2.png\n"
     ]
    },
    {
     "name": "stderr",
     "output_type": "stream",
     "text": [
      " 60%|██████    | 29983/49737 [38:15<24:11, 13.61it/s]"
     ]
    },
    {
     "name": "stdout",
     "output_type": "stream",
     "text": [
      "0.2025233449389125\n",
      "no match for /home/chuongh/vm2m/data/HHM/synthesized/masks/48031/1.png\n"
     ]
    },
    {
     "name": "stderr",
     "output_type": "stream",
     "text": [
      " 60%|██████    | 30072/49737 [38:21<26:36, 12.32it/s]"
     ]
    },
    {
     "name": "stdout",
     "output_type": "stream",
     "text": [
      "0.06930271010366792\n",
      "no match for /home/chuongh/vm2m/data/HHM/synthesized/masks/1822/2.png\n"
     ]
    },
    {
     "name": "stderr",
     "output_type": "stream",
     "text": [
      " 61%|██████    | 30092/49737 [38:22<20:00, 16.36it/s]"
     ]
    },
    {
     "name": "stdout",
     "output_type": "stream",
     "text": [
      "0.041153738189075875\n",
      "no match for /home/chuongh/vm2m/data/HHM/synthesized/masks/8148/0.png\n"
     ]
    },
    {
     "name": "stderr",
     "output_type": "stream",
     "text": [
      " 61%|██████    | 30120/49737 [38:25<29:17, 11.16it/s]"
     ]
    },
    {
     "name": "stdout",
     "output_type": "stream",
     "text": [
      "0.03613683052720916\n",
      "no match for /home/chuongh/vm2m/data/HHM/synthesized/masks/16016/1.png\n",
      "0.025546805643667608\n",
      "no match for /home/chuongh/vm2m/data/HHM/synthesized/masks/34121/0.png\n"
     ]
    },
    {
     "name": "stderr",
     "output_type": "stream",
     "text": [
      " 61%|██████    | 30130/49737 [38:25<28:16, 11.56it/s]"
     ]
    },
    {
     "name": "stdout",
     "output_type": "stream",
     "text": [
      "0.01890856163986236\n",
      "no match for /home/chuongh/vm2m/data/HHM/synthesized/masks/26574/0.png\n"
     ]
    },
    {
     "name": "stderr",
     "output_type": "stream",
     "text": [
      " 61%|██████    | 30146/49737 [38:26<20:52, 15.64it/s]"
     ]
    },
    {
     "name": "stdout",
     "output_type": "stream",
     "text": [
      "0.061861968719823086\n",
      "no match for /home/chuongh/vm2m/data/HHM/synthesized/masks/43237/0.png\n"
     ]
    },
    {
     "name": "stderr",
     "output_type": "stream",
     "text": [
      " 61%|██████    | 30169/49737 [38:29<23:32, 13.85it/s]"
     ]
    },
    {
     "name": "stdout",
     "output_type": "stream",
     "text": [
      "0.2648626428139917\n",
      "no match for /home/chuongh/vm2m/data/HHM/synthesized/masks/31961/0.png\n"
     ]
    },
    {
     "name": "stderr",
     "output_type": "stream",
     "text": [
      " 61%|██████    | 30174/49737 [38:29<30:33, 10.67it/s]"
     ]
    },
    {
     "name": "stdout",
     "output_type": "stream",
     "text": [
      "0.0144016651214557\n",
      "no match for /home/chuongh/vm2m/data/HHM/synthesized/masks/2905/2.png\n"
     ]
    },
    {
     "name": "stderr",
     "output_type": "stream",
     "text": [
      " 61%|██████    | 30187/49737 [38:30<26:07, 12.47it/s]"
     ]
    },
    {
     "name": "stdout",
     "output_type": "stream",
     "text": [
      "0.18151309680504968\n",
      "no match for /home/chuongh/vm2m/data/HHM/synthesized/masks/10177/1.png\n"
     ]
    },
    {
     "name": "stderr",
     "output_type": "stream",
     "text": [
      " 61%|██████    | 30201/49737 [38:31<20:31, 15.87it/s]"
     ]
    },
    {
     "name": "stdout",
     "output_type": "stream",
     "text": [
      "0.05890293706535004\n",
      "no match for /home/chuongh/vm2m/data/HHM/synthesized/masks/46111/1.png\n"
     ]
    },
    {
     "name": "stderr",
     "output_type": "stream",
     "text": [
      " 61%|██████    | 30218/49737 [38:32<26:57, 12.06it/s]"
     ]
    },
    {
     "name": "stdout",
     "output_type": "stream",
     "text": [
      "0.0182624034626512\n",
      "no match for /home/chuongh/vm2m/data/HHM/synthesized/masks/33262/3.png\n"
     ]
    },
    {
     "name": "stderr",
     "output_type": "stream",
     "text": [
      " 61%|██████    | 30235/49737 [38:33<23:50, 13.63it/s]"
     ]
    },
    {
     "name": "stdout",
     "output_type": "stream",
     "text": [
      "0.0895106162149328\n",
      "no match for /home/chuongh/vm2m/data/HHM/synthesized/masks/4668/3.png\n"
     ]
    },
    {
     "name": "stderr",
     "output_type": "stream",
     "text": [
      " 61%|██████    | 30237/49737 [38:34<28:16, 11.49it/s]"
     ]
    },
    {
     "name": "stdout",
     "output_type": "stream",
     "text": [
      "0.03696406711922323\n",
      "no match for /home/chuongh/vm2m/data/HHM/synthesized/masks/6987/0.png\n"
     ]
    },
    {
     "name": "stderr",
     "output_type": "stream",
     "text": [
      " 61%|██████    | 30241/49737 [38:34<28:51, 11.26it/s]"
     ]
    },
    {
     "name": "stdout",
     "output_type": "stream",
     "text": [
      "0.1646400157818066\n",
      "no match for /home/chuongh/vm2m/data/HHM/synthesized/masks/10353/1.png\n"
     ]
    },
    {
     "name": "stderr",
     "output_type": "stream",
     "text": [
      " 61%|██████    | 30252/49737 [38:35<28:58, 11.21it/s]"
     ]
    },
    {
     "name": "stdout",
     "output_type": "stream",
     "text": [
      "0.22130118778291524\n",
      "no match for /home/chuongh/vm2m/data/HHM/synthesized/masks/46503/1.png\n"
     ]
    },
    {
     "name": "stderr",
     "output_type": "stream",
     "text": [
      " 61%|██████    | 30278/49737 [38:37<24:16, 13.36it/s]"
     ]
    },
    {
     "name": "stdout",
     "output_type": "stream",
     "text": [
      "0.29988999259301635\n",
      "no match for /home/chuongh/vm2m/data/HHM/synthesized/masks/29565/0.png\n"
     ]
    },
    {
     "name": "stderr",
     "output_type": "stream",
     "text": [
      " 61%|██████    | 30317/49737 [38:40<26:00, 12.45it/s]"
     ]
    },
    {
     "name": "stdout",
     "output_type": "stream",
     "text": [
      "0.29778899930855046\n",
      "no match for /home/chuongh/vm2m/data/HHM/synthesized/masks/12323/2.png\n"
     ]
    },
    {
     "name": "stderr",
     "output_type": "stream",
     "text": [
      " 61%|██████    | 30326/49737 [38:41<29:14, 11.07it/s]"
     ]
    },
    {
     "name": "stdout",
     "output_type": "stream",
     "text": [
      "0.24375951722833591\n",
      "no match for /home/chuongh/vm2m/data/HHM/synthesized/masks/9078/2.png\n"
     ]
    },
    {
     "name": "stderr",
     "output_type": "stream",
     "text": [
      " 61%|██████    | 30458/49737 [38:50<25:50, 12.43it/s]"
     ]
    },
    {
     "name": "stdout",
     "output_type": "stream",
     "text": [
      "0.11044078906636667\n",
      "no match for /home/chuongh/vm2m/data/HHM/synthesized/masks/13841/0.png\n"
     ]
    },
    {
     "name": "stderr",
     "output_type": "stream",
     "text": [
      " 61%|██████▏   | 30478/49737 [38:52<18:56, 16.95it/s]"
     ]
    },
    {
     "name": "stdout",
     "output_type": "stream",
     "text": [
      "0.25990698406277424\n",
      "no match for /home/chuongh/vm2m/data/HHM/synthesized/masks/22203/1.png\n"
     ]
    },
    {
     "name": "stderr",
     "output_type": "stream",
     "text": [
      " 61%|██████▏   | 30539/49737 [38:57<22:15, 14.37it/s]"
     ]
    },
    {
     "name": "stdout",
     "output_type": "stream",
     "text": [
      "0\n",
      "no match for /home/chuongh/vm2m/data/HHM/synthesized/masks/26833/0.png\n"
     ]
    },
    {
     "name": "stderr",
     "output_type": "stream",
     "text": [
      " 61%|██████▏   | 30544/49737 [38:57<21:29, 14.88it/s]"
     ]
    },
    {
     "name": "stdout",
     "output_type": "stream",
     "text": [
      "0.21643703127768057\n",
      "no match for /home/chuongh/vm2m/data/HHM/synthesized/masks/21253/0.png\n",
      "0.09391421067006833\n",
      "no match for /home/chuongh/vm2m/data/HHM/synthesized/masks/4053/0.png\n"
     ]
    },
    {
     "name": "stderr",
     "output_type": "stream",
     "text": [
      " 61%|██████▏   | 30554/49737 [38:58<23:41, 13.49it/s]"
     ]
    },
    {
     "name": "stdout",
     "output_type": "stream",
     "text": [
      "0.01264417728680145\n",
      "no match for /home/chuongh/vm2m/data/HHM/synthesized/masks/21667/2.png\n"
     ]
    },
    {
     "name": "stderr",
     "output_type": "stream",
     "text": [
      " 61%|██████▏   | 30562/49737 [38:58<21:23, 14.94it/s]"
     ]
    },
    {
     "name": "stdout",
     "output_type": "stream",
     "text": [
      "0.2682941005504324\n",
      "no match for /home/chuongh/vm2m/data/HHM/synthesized/masks/322/0.png\n"
     ]
    },
    {
     "name": "stderr",
     "output_type": "stream",
     "text": [
      " 61%|██████▏   | 30567/49737 [38:59<19:30, 16.38it/s]"
     ]
    },
    {
     "name": "stdout",
     "output_type": "stream",
     "text": [
      "0.2642972373261525\n",
      "no match for /home/chuongh/vm2m/data/HHM/synthesized/masks/4334/1.png\n"
     ]
    },
    {
     "name": "stderr",
     "output_type": "stream",
     "text": [
      " 61%|██████▏   | 30577/49737 [38:59<21:35, 14.79it/s]"
     ]
    },
    {
     "name": "stdout",
     "output_type": "stream",
     "text": [
      "0.22103927481905938\n",
      "no match for /home/chuongh/vm2m/data/HHM/synthesized/masks/46246/0.png\n"
     ]
    },
    {
     "name": "stderr",
     "output_type": "stream",
     "text": [
      " 62%|██████▏   | 30627/49737 [39:03<17:31, 18.18it/s]"
     ]
    },
    {
     "name": "stdout",
     "output_type": "stream",
     "text": [
      "0\n",
      "no match for /home/chuongh/vm2m/data/HHM/synthesized/masks/23003/0.png\n",
      "0\n",
      "no match for /home/chuongh/vm2m/data/HHM/synthesized/masks/23003/1.png\n",
      "0.20720130171964854\n",
      "no match for /home/chuongh/vm2m/data/HHM/synthesized/masks/8406/0.png\n",
      "0.00822067768950686\n",
      "no match for /home/chuongh/vm2m/data/HHM/synthesized/masks/11040/0.png\n"
     ]
    },
    {
     "name": "stderr",
     "output_type": "stream",
     "text": [
      " 62%|██████▏   | 30646/49737 [39:05<27:22, 11.63it/s]"
     ]
    },
    {
     "name": "stdout",
     "output_type": "stream",
     "text": [
      "0.09864371581136921\n",
      "no match for /home/chuongh/vm2m/data/HHM/synthesized/masks/41340/0.png\n"
     ]
    },
    {
     "name": "stderr",
     "output_type": "stream",
     "text": [
      " 62%|██████▏   | 30672/49737 [39:06<22:47, 13.94it/s]"
     ]
    },
    {
     "name": "stdout",
     "output_type": "stream",
     "text": [
      "0.00895920025530258\n",
      "no match for /home/chuongh/vm2m/data/HHM/synthesized/masks/18475/0.png\n"
     ]
    },
    {
     "name": "stderr",
     "output_type": "stream",
     "text": [
      " 62%|██████▏   | 30674/49737 [39:06<25:46, 12.33it/s]"
     ]
    },
    {
     "name": "stdout",
     "output_type": "stream",
     "text": [
      "0.007665976592107492\n",
      "no match for /home/chuongh/vm2m/data/HHM/synthesized/masks/22610/0.png\n"
     ]
    },
    {
     "name": "stderr",
     "output_type": "stream",
     "text": [
      " 62%|██████▏   | 30676/49737 [39:07<25:29, 12.46it/s]"
     ]
    },
    {
     "name": "stdout",
     "output_type": "stream",
     "text": [
      "0.23097932339601682\n",
      "no match for /home/chuongh/vm2m/data/HHM/synthesized/masks/3266/0.png\n"
     ]
    },
    {
     "name": "stderr",
     "output_type": "stream",
     "text": [
      " 62%|██████▏   | 30689/49737 [39:07<19:47, 16.04it/s]"
     ]
    },
    {
     "name": "stdout",
     "output_type": "stream",
     "text": [
      "0.16947909934145738\n",
      "no match for /home/chuongh/vm2m/data/HHM/synthesized/masks/6576/0.png\n"
     ]
    },
    {
     "name": "stderr",
     "output_type": "stream",
     "text": [
      " 62%|██████▏   | 30693/49737 [39:08<23:07, 13.73it/s]"
     ]
    },
    {
     "name": "stdout",
     "output_type": "stream",
     "text": [
      "0.2946738123056056\n",
      "no match for /home/chuongh/vm2m/data/HHM/synthesized/masks/1234/1.png\n"
     ]
    },
    {
     "name": "stderr",
     "output_type": "stream",
     "text": [
      " 62%|██████▏   | 30705/49737 [39:09<20:10, 15.72it/s]"
     ]
    },
    {
     "name": "stdout",
     "output_type": "stream",
     "text": [
      "0.2850361374691847\n",
      "no match for /home/chuongh/vm2m/data/HHM/synthesized/masks/25915/1.png\n"
     ]
    },
    {
     "name": "stderr",
     "output_type": "stream",
     "text": [
      " 62%|██████▏   | 30712/49737 [39:09<20:15, 15.65it/s]"
     ]
    },
    {
     "name": "stdout",
     "output_type": "stream",
     "text": [
      "0.010049125071685405\n",
      "no match for /home/chuongh/vm2m/data/HHM/synthesized/masks/6156/0.png\n"
     ]
    },
    {
     "name": "stderr",
     "output_type": "stream",
     "text": [
      " 62%|██████▏   | 30720/49737 [39:09<16:56, 18.70it/s]"
     ]
    },
    {
     "name": "stdout",
     "output_type": "stream",
     "text": [
      "0.00037021029955144213\n",
      "no match for /home/chuongh/vm2m/data/HHM/synthesized/masks/22233/1.png\n"
     ]
    },
    {
     "name": "stderr",
     "output_type": "stream",
     "text": [
      " 62%|██████▏   | 30722/49737 [39:10<22:01, 14.39it/s]"
     ]
    },
    {
     "name": "stdout",
     "output_type": "stream",
     "text": [
      "0.2591150500474998\n",
      "no match for /home/chuongh/vm2m/data/HHM/synthesized/masks/43690/0.png\n"
     ]
    },
    {
     "name": "stderr",
     "output_type": "stream",
     "text": [
      " 62%|██████▏   | 30796/49737 [39:16<25:23, 12.44it/s]"
     ]
    },
    {
     "name": "stdout",
     "output_type": "stream",
     "text": [
      "0.016262832632324874\n",
      "no match for /home/chuongh/vm2m/data/HHM/synthesized/masks/9376/0.png\n",
      "0.07710716227287549\n",
      "no match for /home/chuongh/vm2m/data/HHM/synthesized/masks/9376/2.png\n"
     ]
    },
    {
     "name": "stderr",
     "output_type": "stream",
     "text": [
      " 62%|██████▏   | 30815/49737 [39:17<32:11,  9.80it/s]"
     ]
    },
    {
     "name": "stdout",
     "output_type": "stream",
     "text": [
      "0\n",
      "no match for /home/chuongh/vm2m/data/HHM/synthesized/masks/42489/2.png\n"
     ]
    },
    {
     "name": "stderr",
     "output_type": "stream",
     "text": [
      " 62%|██████▏   | 30827/49737 [39:18<23:44, 13.27it/s]"
     ]
    },
    {
     "name": "stdout",
     "output_type": "stream",
     "text": [
      "0.2939719110798398\n",
      "no match for /home/chuongh/vm2m/data/HHM/synthesized/masks/18448/2.png\n"
     ]
    },
    {
     "name": "stderr",
     "output_type": "stream",
     "text": [
      " 62%|██████▏   | 30838/49737 [39:19<15:49, 19.91it/s]"
     ]
    },
    {
     "name": "stdout",
     "output_type": "stream",
     "text": [
      "0.02544593586410451\n",
      "no match for /home/chuongh/vm2m/data/HHM/synthesized/masks/48628/1.png\n"
     ]
    },
    {
     "name": "stderr",
     "output_type": "stream",
     "text": [
      " 62%|██████▏   | 30877/49737 [39:22<21:35, 14.56it/s]"
     ]
    },
    {
     "name": "stdout",
     "output_type": "stream",
     "text": [
      "0.1972607682054916\n",
      "no match for /home/chuongh/vm2m/data/HHM/synthesized/masks/34354/0.png\n",
      "0\n",
      "no match for /home/chuongh/vm2m/data/HHM/synthesized/masks/13677/1.png\n"
     ]
    },
    {
     "name": "stderr",
     "output_type": "stream",
     "text": [
      " 62%|██████▏   | 30891/49737 [39:23<21:35, 14.55it/s]"
     ]
    },
    {
     "name": "stdout",
     "output_type": "stream",
     "text": [
      "0.0020403438764152724\n",
      "no match for /home/chuongh/vm2m/data/HHM/synthesized/masks/23055/0.png\n"
     ]
    },
    {
     "name": "stderr",
     "output_type": "stream",
     "text": [
      " 62%|██████▏   | 30926/49737 [39:26<30:07, 10.41it/s]"
     ]
    },
    {
     "name": "stdout",
     "output_type": "stream",
     "text": [
      "0\n",
      "no match for /home/chuongh/vm2m/data/HHM/synthesized/masks/45566/1.png\n"
     ]
    },
    {
     "name": "stderr",
     "output_type": "stream",
     "text": [
      " 62%|██████▏   | 30953/49737 [39:28<22:51, 13.70it/s]"
     ]
    },
    {
     "name": "stdout",
     "output_type": "stream",
     "text": [
      "0.2758745563837026\n",
      "no match for /home/chuongh/vm2m/data/HHM/synthesized/masks/8571/1.png\n"
     ]
    },
    {
     "name": "stderr",
     "output_type": "stream",
     "text": [
      " 62%|██████▏   | 30964/49737 [39:29<22:29, 13.91it/s]"
     ]
    },
    {
     "name": "stdout",
     "output_type": "stream",
     "text": [
      "0.006146821678813004\n",
      "no match for /home/chuongh/vm2m/data/HHM/synthesized/masks/41764/1.png\n"
     ]
    },
    {
     "name": "stderr",
     "output_type": "stream",
     "text": [
      " 62%|██████▏   | 30980/49737 [39:30<26:15, 11.91it/s]"
     ]
    },
    {
     "name": "stdout",
     "output_type": "stream",
     "text": [
      "0.08669714019722018\n",
      "no match for /home/chuongh/vm2m/data/HHM/synthesized/masks/17650/2.png\n"
     ]
    },
    {
     "name": "stderr",
     "output_type": "stream",
     "text": [
      " 62%|██████▏   | 30986/49737 [39:30<23:24, 13.35it/s]"
     ]
    },
    {
     "name": "stdout",
     "output_type": "stream",
     "text": [
      "0.003378886424293726\n",
      "no match for /home/chuongh/vm2m/data/HHM/synthesized/masks/13034/0.png\n"
     ]
    },
    {
     "name": "stderr",
     "output_type": "stream",
     "text": [
      " 62%|██████▏   | 31004/49737 [39:32<25:44, 12.13it/s]"
     ]
    },
    {
     "name": "stdout",
     "output_type": "stream",
     "text": [
      "0.28863310736037573\n",
      "no match for /home/chuongh/vm2m/data/HHM/synthesized/masks/21686/3.png\n"
     ]
    },
    {
     "name": "stderr",
     "output_type": "stream",
     "text": [
      " 62%|██████▏   | 31006/49737 [39:32<29:59, 10.41it/s]"
     ]
    },
    {
     "name": "stdout",
     "output_type": "stream",
     "text": [
      "0.27654857628444973\n",
      "no match for /home/chuongh/vm2m/data/HHM/synthesized/masks/44225/1.png\n"
     ]
    },
    {
     "name": "stderr",
     "output_type": "stream",
     "text": [
      " 62%|██████▏   | 31016/49737 [39:33<25:02, 12.46it/s]"
     ]
    },
    {
     "name": "stdout",
     "output_type": "stream",
     "text": [
      "0.042870935454314196\n",
      "no match for /home/chuongh/vm2m/data/HHM/synthesized/masks/27611/0.png\n",
      "0.0027009877563004144\n",
      "no match for /home/chuongh/vm2m/data/HHM/synthesized/masks/47926/0.png\n"
     ]
    },
    {
     "name": "stderr",
     "output_type": "stream",
     "text": [
      " 62%|██████▏   | 31030/49737 [39:34<22:55, 13.60it/s]"
     ]
    },
    {
     "name": "stdout",
     "output_type": "stream",
     "text": [
      "0\n",
      "no match for /home/chuongh/vm2m/data/HHM/synthesized/masks/39296/0.png\n"
     ]
    },
    {
     "name": "stderr",
     "output_type": "stream",
     "text": [
      " 63%|██████▎   | 31090/49737 [39:39<22:15, 13.96it/s]"
     ]
    },
    {
     "name": "stdout",
     "output_type": "stream",
     "text": [
      "0.1813937691317433\n",
      "no match for /home/chuongh/vm2m/data/HHM/synthesized/masks/8524/1.png\n"
     ]
    },
    {
     "name": "stderr",
     "output_type": "stream",
     "text": [
      " 63%|██████▎   | 31100/49737 [39:40<24:32, 12.66it/s]"
     ]
    },
    {
     "name": "stdout",
     "output_type": "stream",
     "text": [
      "0.2512341000792404\n",
      "no match for /home/chuongh/vm2m/data/HHM/synthesized/masks/30700/2.png\n"
     ]
    },
    {
     "name": "stderr",
     "output_type": "stream",
     "text": [
      " 63%|██████▎   | 31125/49737 [39:42<23:50, 13.02it/s]"
     ]
    },
    {
     "name": "stdout",
     "output_type": "stream",
     "text": [
      "0.21222042659915158\n",
      "no match for /home/chuongh/vm2m/data/HHM/synthesized/masks/30107/1.png\n"
     ]
    },
    {
     "name": "stderr",
     "output_type": "stream",
     "text": [
      " 63%|██████▎   | 31149/49737 [39:43<19:41, 15.74it/s]"
     ]
    },
    {
     "name": "stdout",
     "output_type": "stream",
     "text": [
      "0.004512787795756438\n",
      "no match for /home/chuongh/vm2m/data/HHM/synthesized/masks/41802/0.png\n"
     ]
    },
    {
     "name": "stderr",
     "output_type": "stream",
     "text": [
      " 63%|██████▎   | 31175/49737 [39:46<29:55, 10.34it/s]"
     ]
    },
    {
     "name": "stdout",
     "output_type": "stream",
     "text": [
      "0\n",
      "no match for /home/chuongh/vm2m/data/HHM/synthesized/masks/43414/0.png\n"
     ]
    },
    {
     "name": "stderr",
     "output_type": "stream",
     "text": [
      " 63%|██████▎   | 31185/49737 [39:46<25:31, 12.11it/s]Bad pipe message: %s [b\"\\xe2\\xf5@\\xbb\\x9e4\\xdc\\x8ao\\xa6\\x13\\xe0\\xaf\\xf0\\xd3Vk\\xe3 \\xae\\x9f%*\\xeds\\xa1\\x15\\xf7\\xce(\\x95\\x96\\xc8)\\xablR\\x83\\xbc\\xe2\\xf2~\\x9a\\x82\\x8c\\xc9\\x13\\xf0\\x14\\x98\\x1a\\x00>\\x13\\x02\\x13\\x03\\x13\\x01\\xc0,\\xc00\\x00\\x9f\\xcc\\xa9\\xcc\\xa8\\xcc\\xaa\\xc0+\\xc0/\\x00\\x9e\\xc0$\\xc0(\\x00k\\xc0#\\xc0'\\x00g\\xc0\\n\\xc0\\x14\\x009\\xc0\\t\\xc0\\x13\\x003\\x00\\x9d\\x00\\x9c\\x00=\\x00<\\x005\\x00/\\x00\\xff\\x01\\x00\\x01u\\x00\\x0b\\x00\\x04\\x03\\x00\\x01\\x02\\x00\\n\\x00\\x0c\\x00\\n\\x00\\x1d\\x00\\x17\\x00\\x1e\\x00\\x19\\x00\\x18\\x00#\\x00\\x00\\x00\\x16\\x00\\x00\\x00\\x17\\x00\\x00\\x00\\r\\x000\\x00.\\x04\", b'\\x03\\x06', b'\\x07\\x08']\n",
      "Bad pipe message: %s [b'\\t\\x08\\n\\x08\\x0b\\x08\\x04']\n",
      "Bad pipe message: %s [b'\\x08\\x06\\x04\\x01\\x05\\x01\\x06', b'', b'\\x03\\x03']\n",
      "Bad pipe message: %s [b'']\n",
      "Bad pipe message: %s [b'', b'\\x02']\n",
      "Bad pipe message: %s [b'\\x05\\x02\\x06']\n",
      "Bad pipe message: %s [b'+']\n",
      " 63%|██████▎   | 31201/49737 [39:48<27:26, 11.26it/s]"
     ]
    },
    {
     "name": "stdout",
     "output_type": "stream",
     "text": [
      "0.036233282914212954\n",
      "no match for /home/chuongh/vm2m/data/HHM/synthesized/masks/44039/1.png\n"
     ]
    },
    {
     "name": "stderr",
     "output_type": "stream",
     "text": [
      " 63%|██████▎   | 31246/49737 [39:51<20:31, 15.01it/s]"
     ]
    },
    {
     "name": "stdout",
     "output_type": "stream",
     "text": [
      "0.29710948529042547\n",
      "no match for /home/chuongh/vm2m/data/HHM/synthesized/masks/23188/1.png\n"
     ]
    },
    {
     "name": "stderr",
     "output_type": "stream",
     "text": [
      " 63%|██████▎   | 31252/49737 [39:51<20:34, 14.98it/s]"
     ]
    },
    {
     "name": "stdout",
     "output_type": "stream",
     "text": [
      "0.01135303624542482\n",
      "no match for /home/chuongh/vm2m/data/HHM/synthesized/masks/23243/0.png\n"
     ]
    },
    {
     "name": "stderr",
     "output_type": "stream",
     "text": [
      " 63%|██████▎   | 31264/49737 [39:52<24:12, 12.72it/s]"
     ]
    },
    {
     "name": "stdout",
     "output_type": "stream",
     "text": [
      "0.25672375357449134\n",
      "no match for /home/chuongh/vm2m/data/HHM/synthesized/masks/44239/1.png\n",
      "0.02328571428567515\n",
      "no match for /home/chuongh/vm2m/data/HHM/synthesized/masks/26129/0.png\n",
      "0.22748873608943648\n",
      "no match for /home/chuongh/vm2m/data/HHM/synthesized/masks/26129/1.png\n"
     ]
    },
    {
     "name": "stderr",
     "output_type": "stream",
     "text": [
      " 63%|██████▎   | 31345/49737 [39:58<21:50, 14.03it/s]"
     ]
    },
    {
     "name": "stdout",
     "output_type": "stream",
     "text": [
      "0.23641381340409393\n",
      "no match for /home/chuongh/vm2m/data/HHM/synthesized/masks/415/1.png\n"
     ]
    },
    {
     "name": "stderr",
     "output_type": "stream",
     "text": [
      " 63%|██████▎   | 31351/49737 [39:59<31:29,  9.73it/s]"
     ]
    },
    {
     "name": "stdout",
     "output_type": "stream",
     "text": [
      "0.24547124653073352\n",
      "no match for /home/chuongh/vm2m/data/HHM/synthesized/masks/10202/0.png\n"
     ]
    },
    {
     "name": "stderr",
     "output_type": "stream",
     "text": [
      " 63%|██████▎   | 31374/49737 [40:01<19:32, 15.66it/s]"
     ]
    },
    {
     "name": "stdout",
     "output_type": "stream",
     "text": [
      "0.2278200088880775\n",
      "no match for /home/chuongh/vm2m/data/HHM/synthesized/masks/41113/2.png\n"
     ]
    },
    {
     "name": "stderr",
     "output_type": "stream",
     "text": [
      " 63%|██████▎   | 31396/49737 [40:03<25:12, 12.13it/s]"
     ]
    },
    {
     "name": "stdout",
     "output_type": "stream",
     "text": [
      "0\n",
      "no match for /home/chuongh/vm2m/data/HHM/synthesized/masks/16240/0.png\n"
     ]
    },
    {
     "name": "stderr",
     "output_type": "stream",
     "text": [
      " 63%|██████▎   | 31404/49737 [40:03<24:00, 12.73it/s]"
     ]
    },
    {
     "name": "stdout",
     "output_type": "stream",
     "text": [
      "0.021891470353116105\n",
      "no match for /home/chuongh/vm2m/data/HHM/synthesized/masks/17492/0.png\n"
     ]
    },
    {
     "name": "stderr",
     "output_type": "stream",
     "text": [
      " 63%|██████▎   | 31413/49737 [40:04<23:53, 12.78it/s]"
     ]
    },
    {
     "name": "stdout",
     "output_type": "stream",
     "text": [
      "0.2612033295745941\n",
      "no match for /home/chuongh/vm2m/data/HHM/synthesized/masks/25879/0.png\n"
     ]
    },
    {
     "name": "stderr",
     "output_type": "stream",
     "text": [
      " 63%|██████▎   | 31427/49737 [40:05<19:00, 16.06it/s]"
     ]
    },
    {
     "name": "stdout",
     "output_type": "stream",
     "text": [
      "0\n",
      "no match for /home/chuongh/vm2m/data/HHM/synthesized/masks/3406/0.png\n"
     ]
    },
    {
     "name": "stderr",
     "output_type": "stream",
     "text": [
      " 63%|██████▎   | 31455/49737 [40:08<28:35, 10.66it/s]"
     ]
    },
    {
     "name": "stdout",
     "output_type": "stream",
     "text": [
      "0.031023680707273286\n",
      "no match for /home/chuongh/vm2m/data/HHM/synthesized/masks/7151/2.png\n",
      "0.23979806370828513\n",
      "no match for /home/chuongh/vm2m/data/HHM/synthesized/masks/25256/2.png\n"
     ]
    },
    {
     "name": "stderr",
     "output_type": "stream",
     "text": [
      " 63%|██████▎   | 31494/49737 [40:11<21:26, 14.18it/s]"
     ]
    },
    {
     "name": "stdout",
     "output_type": "stream",
     "text": [
      "0.26116233411828904\n",
      "no match for /home/chuongh/vm2m/data/HHM/synthesized/masks/42917/1.png\n"
     ]
    },
    {
     "name": "stderr",
     "output_type": "stream",
     "text": [
      " 63%|██████▎   | 31523/49737 [40:13<20:52, 14.54it/s]"
     ]
    },
    {
     "name": "stdout",
     "output_type": "stream",
     "text": [
      "0.047021943573531476\n",
      "no match for /home/chuongh/vm2m/data/HHM/synthesized/masks/18956/0.png\n"
     ]
    },
    {
     "name": "stderr",
     "output_type": "stream",
     "text": [
      " 63%|██████▎   | 31568/49737 [40:17<25:11, 12.02it/s]"
     ]
    },
    {
     "name": "stdout",
     "output_type": "stream",
     "text": [
      "0.013524909510075527\n",
      "no match for /home/chuongh/vm2m/data/HHM/synthesized/masks/13540/0.png\n"
     ]
    },
    {
     "name": "stderr",
     "output_type": "stream",
     "text": [
      " 63%|██████▎   | 31580/49737 [40:18<26:43, 11.32it/s]"
     ]
    },
    {
     "name": "stdout",
     "output_type": "stream",
     "text": [
      "0.042044197536727\n",
      "no match for /home/chuongh/vm2m/data/HHM/synthesized/masks/45253/1.png\n",
      "0.29836571823147495\n",
      "no match for /home/chuongh/vm2m/data/HHM/synthesized/masks/5546/1.png\n"
     ]
    },
    {
     "name": "stderr",
     "output_type": "stream",
     "text": [
      " 64%|██████▎   | 31624/49737 [40:21<22:46, 13.26it/s]"
     ]
    },
    {
     "name": "stdout",
     "output_type": "stream",
     "text": [
      "0.21825668166650228\n",
      "no match for /home/chuongh/vm2m/data/HHM/synthesized/masks/3769/0.png\n"
     ]
    },
    {
     "name": "stderr",
     "output_type": "stream",
     "text": [
      " 64%|██████▎   | 31641/49737 [40:22<22:03, 13.67it/s]"
     ]
    },
    {
     "name": "stdout",
     "output_type": "stream",
     "text": [
      "0.1900088333859403\n",
      "no match for /home/chuongh/vm2m/data/HHM/synthesized/masks/33382/1.png\n"
     ]
    },
    {
     "name": "stderr",
     "output_type": "stream",
     "text": [
      " 64%|██████▎   | 31650/49737 [40:23<22:50, 13.19it/s]"
     ]
    },
    {
     "name": "stdout",
     "output_type": "stream",
     "text": [
      "0.1396155261218918\n",
      "no match for /home/chuongh/vm2m/data/HHM/synthesized/masks/8023/0.png\n",
      "0.24422867724096248\n",
      "no match for /home/chuongh/vm2m/data/HHM/synthesized/masks/4294/1.png\n"
     ]
    },
    {
     "name": "stderr",
     "output_type": "stream",
     "text": [
      " 64%|██████▎   | 31691/49737 [40:26<25:12, 11.93it/s]"
     ]
    },
    {
     "name": "stdout",
     "output_type": "stream",
     "text": [
      "0\n",
      "no match for /home/chuongh/vm2m/data/HHM/synthesized/masks/36180/1.png\n"
     ]
    },
    {
     "name": "stderr",
     "output_type": "stream",
     "text": [
      " 64%|██████▎   | 31697/49737 [40:27<26:40, 11.27it/s]"
     ]
    },
    {
     "name": "stdout",
     "output_type": "stream",
     "text": [
      "0.013823162496226987\n",
      "no match for /home/chuongh/vm2m/data/HHM/synthesized/masks/3554/2.png\n"
     ]
    },
    {
     "name": "stderr",
     "output_type": "stream",
     "text": [
      " 64%|██████▍   | 31735/49737 [40:30<22:49, 13.15it/s]"
     ]
    },
    {
     "name": "stdout",
     "output_type": "stream",
     "text": [
      "0.16170389231821555\n",
      "no match for /home/chuongh/vm2m/data/HHM/synthesized/masks/37976/2.png\n"
     ]
    },
    {
     "name": "stderr",
     "output_type": "stream",
     "text": [
      " 64%|██████▍   | 31744/49737 [40:30<22:47, 13.15it/s]"
     ]
    },
    {
     "name": "stdout",
     "output_type": "stream",
     "text": [
      "0.1816645117013981\n",
      "no match for /home/chuongh/vm2m/data/HHM/synthesized/masks/11563/0.png\n"
     ]
    },
    {
     "name": "stderr",
     "output_type": "stream",
     "text": [
      " 64%|██████▍   | 31775/49737 [40:32<20:50, 14.37it/s]"
     ]
    },
    {
     "name": "stdout",
     "output_type": "stream",
     "text": [
      "0.11867377830277959\n",
      "no match for /home/chuongh/vm2m/data/HHM/synthesized/masks/38754/1.png\n"
     ]
    },
    {
     "name": "stderr",
     "output_type": "stream",
     "text": [
      " 64%|██████▍   | 31788/49737 [40:34<23:18, 12.84it/s]"
     ]
    },
    {
     "name": "stdout",
     "output_type": "stream",
     "text": [
      "0.008581377000486116\n",
      "no match for /home/chuongh/vm2m/data/HHM/synthesized/masks/34757/1.png\n"
     ]
    },
    {
     "name": "stderr",
     "output_type": "stream",
     "text": [
      " 64%|██████▍   | 31795/49737 [40:34<21:50, 13.69it/s]"
     ]
    },
    {
     "name": "stdout",
     "output_type": "stream",
     "text": [
      "0.10170709820301246\n",
      "no match for /home/chuongh/vm2m/data/HHM/synthesized/masks/49209/0.png\n"
     ]
    },
    {
     "name": "stderr",
     "output_type": "stream",
     "text": [
      " 64%|██████▍   | 31845/49737 [40:38<27:42, 10.76it/s]"
     ]
    },
    {
     "name": "stdout",
     "output_type": "stream",
     "text": [
      "0.2742723896483129\n",
      "no match for /home/chuongh/vm2m/data/HHM/synthesized/masks/47539/0.png\n"
     ]
    },
    {
     "name": "stderr",
     "output_type": "stream",
     "text": [
      " 64%|██████▍   | 31849/49737 [40:38<28:42, 10.39it/s]"
     ]
    },
    {
     "name": "stdout",
     "output_type": "stream",
     "text": [
      "0.16136292208406436\n",
      "no match for /home/chuongh/vm2m/data/HHM/synthesized/masks/6047/2.png\n"
     ]
    },
    {
     "name": "stderr",
     "output_type": "stream",
     "text": [
      " 64%|██████▍   | 31884/49737 [40:41<28:05, 10.59it/s]"
     ]
    },
    {
     "name": "stdout",
     "output_type": "stream",
     "text": [
      "0.13115507456070133\n",
      "no match for /home/chuongh/vm2m/data/HHM/synthesized/masks/8404/2.png\n"
     ]
    },
    {
     "name": "stderr",
     "output_type": "stream",
     "text": [
      " 64%|██████▍   | 31996/49737 [40:49<22:53, 12.92it/s]"
     ]
    },
    {
     "name": "stdout",
     "output_type": "stream",
     "text": [
      "0.1871686005004764\n",
      "no match for /home/chuongh/vm2m/data/HHM/synthesized/masks/17926/0.png\n"
     ]
    },
    {
     "name": "stderr",
     "output_type": "stream",
     "text": [
      " 64%|██████▍   | 32022/49737 [40:51<20:33, 14.36it/s]"
     ]
    },
    {
     "name": "stdout",
     "output_type": "stream",
     "text": [
      "0.09831577231416752\n",
      "no match for /home/chuongh/vm2m/data/HHM/synthesized/masks/7978/1.png\n"
     ]
    },
    {
     "name": "stderr",
     "output_type": "stream",
     "text": [
      " 64%|██████▍   | 32053/49737 [40:54<25:42, 11.46it/s]"
     ]
    },
    {
     "name": "stdout",
     "output_type": "stream",
     "text": [
      "0.2531035711821455\n",
      "no match for /home/chuongh/vm2m/data/HHM/synthesized/masks/44790/1.png\n"
     ]
    },
    {
     "name": "stderr",
     "output_type": "stream",
     "text": [
      " 64%|██████▍   | 32070/49737 [40:55<18:48, 15.65it/s]"
     ]
    },
    {
     "name": "stdout",
     "output_type": "stream",
     "text": [
      "0.28559526529531826\n",
      "no match for /home/chuongh/vm2m/data/HHM/synthesized/masks/48038/2.png\n"
     ]
    },
    {
     "name": "stderr",
     "output_type": "stream",
     "text": [
      " 65%|██████▍   | 32086/49737 [40:56<26:21, 11.16it/s]"
     ]
    },
    {
     "name": "stdout",
     "output_type": "stream",
     "text": [
      "0.0056498823345814625\n",
      "no match for /home/chuongh/vm2m/data/HHM/synthesized/masks/22977/0.png\n"
     ]
    },
    {
     "name": "stderr",
     "output_type": "stream",
     "text": [
      " 65%|██████▍   | 32095/49737 [40:57<21:10, 13.89it/s]"
     ]
    },
    {
     "name": "stdout",
     "output_type": "stream",
     "text": [
      "0.03857024705589381\n",
      "no match for /home/chuongh/vm2m/data/HHM/synthesized/masks/49584/0.png\n"
     ]
    },
    {
     "name": "stderr",
     "output_type": "stream",
     "text": [
      " 65%|██████▍   | 32105/49737 [40:58<22:41, 12.95it/s]"
     ]
    },
    {
     "name": "stdout",
     "output_type": "stream",
     "text": [
      "0\n",
      "no match for /home/chuongh/vm2m/data/HHM/synthesized/masks/28797/1.png\n",
      "0.0136831944092197\n",
      "no match for /home/chuongh/vm2m/data/HHM/synthesized/masks/28797/2.png\n"
     ]
    },
    {
     "name": "stderr",
     "output_type": "stream",
     "text": [
      " 65%|██████▍   | 32113/49737 [40:58<28:35, 10.28it/s]"
     ]
    },
    {
     "name": "stdout",
     "output_type": "stream",
     "text": [
      "0.25518344573344975\n",
      "no match for /home/chuongh/vm2m/data/HHM/synthesized/masks/32648/1.png\n"
     ]
    },
    {
     "name": "stderr",
     "output_type": "stream",
     "text": [
      " 65%|██████▍   | 32131/49737 [41:00<19:10, 15.31it/s]"
     ]
    },
    {
     "name": "stdout",
     "output_type": "stream",
     "text": [
      "0.273641783991503\n",
      "no match for /home/chuongh/vm2m/data/HHM/synthesized/masks/23390/0.png\n"
     ]
    },
    {
     "name": "stderr",
     "output_type": "stream",
     "text": [
      " 65%|██████▍   | 32151/49737 [41:01<24:02, 12.19it/s]"
     ]
    },
    {
     "name": "stdout",
     "output_type": "stream",
     "text": [
      "0\n",
      "no match for /home/chuongh/vm2m/data/HHM/synthesized/masks/13700/2.png\n"
     ]
    },
    {
     "name": "stderr",
     "output_type": "stream",
     "text": [
      " 65%|██████▍   | 32162/49737 [41:02<18:13, 16.07it/s]"
     ]
    },
    {
     "name": "stdout",
     "output_type": "stream",
     "text": [
      "0.008865581102298936\n",
      "no match for /home/chuongh/vm2m/data/HHM/synthesized/masks/555/1.png\n"
     ]
    },
    {
     "name": "stderr",
     "output_type": "stream",
     "text": [
      " 65%|██████▍   | 32179/49737 [41:04<24:39, 11.87it/s]"
     ]
    },
    {
     "name": "stdout",
     "output_type": "stream",
     "text": [
      "0\n",
      "no match for /home/chuongh/vm2m/data/HHM/synthesized/masks/14816/1.png\n"
     ]
    },
    {
     "name": "stderr",
     "output_type": "stream",
     "text": [
      " 65%|██████▍   | 32192/49737 [41:05<21:51, 13.38it/s]"
     ]
    },
    {
     "name": "stdout",
     "output_type": "stream",
     "text": [
      "0.24893700383586093\n",
      "no match for /home/chuongh/vm2m/data/HHM/synthesized/masks/23107/1.png\n"
     ]
    },
    {
     "name": "stderr",
     "output_type": "stream",
     "text": [
      " 65%|██████▍   | 32207/49737 [41:06<27:08, 10.76it/s]"
     ]
    },
    {
     "name": "stdout",
     "output_type": "stream",
     "text": [
      "0.11675534529004909\n",
      "no match for /home/chuongh/vm2m/data/HHM/synthesized/masks/41570/0.png\n"
     ]
    },
    {
     "name": "stderr",
     "output_type": "stream",
     "text": [
      " 65%|██████▍   | 32214/49737 [41:06<23:03, 12.67it/s]"
     ]
    },
    {
     "name": "stdout",
     "output_type": "stream",
     "text": [
      "0.04193622678638074\n",
      "no match for /home/chuongh/vm2m/data/HHM/synthesized/masks/23900/0.png\n"
     ]
    },
    {
     "name": "stderr",
     "output_type": "stream",
     "text": [
      " 65%|██████▍   | 32228/49737 [41:08<22:43, 12.84it/s]"
     ]
    },
    {
     "name": "stdout",
     "output_type": "stream",
     "text": [
      "0.2630530509535581\n",
      "no match for /home/chuongh/vm2m/data/HHM/synthesized/masks/7348/2.png\n"
     ]
    },
    {
     "name": "stderr",
     "output_type": "stream",
     "text": [
      " 65%|██████▍   | 32241/49737 [41:08<18:52, 15.44it/s]"
     ]
    },
    {
     "name": "stdout",
     "output_type": "stream",
     "text": [
      "0.11202588122064759\n",
      "no match for /home/chuongh/vm2m/data/HHM/synthesized/masks/6366/1.png\n"
     ]
    },
    {
     "name": "stderr",
     "output_type": "stream",
     "text": [
      " 65%|██████▍   | 32282/49737 [41:12<22:09, 13.13it/s]"
     ]
    },
    {
     "name": "stdout",
     "output_type": "stream",
     "text": [
      "0.24879538660689218\n",
      "no match for /home/chuongh/vm2m/data/HHM/synthesized/masks/34782/0.png\n"
     ]
    },
    {
     "name": "stderr",
     "output_type": "stream",
     "text": [
      " 65%|██████▍   | 32286/49737 [41:12<21:32, 13.50it/s]"
     ]
    },
    {
     "name": "stdout",
     "output_type": "stream",
     "text": [
      "0.28813884092481357\n",
      "no match for /home/chuongh/vm2m/data/HHM/synthesized/masks/33891/2.png\n",
      "0.05603953574925123\n",
      "no match for /home/chuongh/vm2m/data/HHM/synthesized/masks/37994/3.png\n"
     ]
    },
    {
     "name": "stderr",
     "output_type": "stream",
     "text": [
      " 65%|██████▍   | 32290/49737 [41:13<28:37, 10.16it/s]"
     ]
    },
    {
     "name": "stdout",
     "output_type": "stream",
     "text": [
      "0.030380565466048635\n",
      "no match for /home/chuongh/vm2m/data/HHM/synthesized/masks/1025/0.png\n"
     ]
    },
    {
     "name": "stderr",
     "output_type": "stream",
     "text": [
      " 65%|██████▍   | 32294/49737 [41:13<22:17, 13.04it/s]"
     ]
    },
    {
     "name": "stdout",
     "output_type": "stream",
     "text": [
      "0.07603155495206987\n",
      "no match for /home/chuongh/vm2m/data/HHM/synthesized/masks/5187/0.png\n"
     ]
    },
    {
     "name": "stderr",
     "output_type": "stream",
     "text": [
      " 65%|██████▍   | 32303/49737 [41:13<20:52, 13.92it/s]"
     ]
    },
    {
     "name": "stdout",
     "output_type": "stream",
     "text": [
      "0.0316181448882222\n",
      "no match for /home/chuongh/vm2m/data/HHM/synthesized/masks/46559/0.png\n"
     ]
    },
    {
     "name": "stderr",
     "output_type": "stream",
     "text": [
      " 65%|██████▍   | 32309/49737 [41:14<18:55, 15.34it/s]"
     ]
    },
    {
     "name": "stdout",
     "output_type": "stream",
     "text": [
      "0.09669550315448101\n",
      "no match for /home/chuongh/vm2m/data/HHM/synthesized/masks/13419/0.png\n"
     ]
    },
    {
     "name": "stderr",
     "output_type": "stream",
     "text": [
      " 65%|██████▌   | 32374/49737 [41:19<17:16, 16.76it/s]"
     ]
    },
    {
     "name": "stdout",
     "output_type": "stream",
     "text": [
      "0\n",
      "no match for /home/chuongh/vm2m/data/HHM/synthesized/masks/45112/0.png\n"
     ]
    },
    {
     "name": "stderr",
     "output_type": "stream",
     "text": [
      " 65%|██████▌   | 32380/49737 [41:20<26:14, 11.02it/s]"
     ]
    },
    {
     "name": "stdout",
     "output_type": "stream",
     "text": [
      "0.24226826862745854\n",
      "no match for /home/chuongh/vm2m/data/HHM/synthesized/masks/19234/2.png\n"
     ]
    },
    {
     "name": "stderr",
     "output_type": "stream",
     "text": [
      " 65%|██████▌   | 32383/49737 [41:20<21:55, 13.20it/s]"
     ]
    },
    {
     "name": "stdout",
     "output_type": "stream",
     "text": [
      "0.23700856854764046\n",
      "no match for /home/chuongh/vm2m/data/HHM/synthesized/masks/24368/1.png\n"
     ]
    },
    {
     "name": "stderr",
     "output_type": "stream",
     "text": [
      " 65%|██████▌   | 32441/49737 [41:25<23:31, 12.25it/s]"
     ]
    },
    {
     "name": "stdout",
     "output_type": "stream",
     "text": [
      "0.27000772188923294\n",
      "no match for /home/chuongh/vm2m/data/HHM/synthesized/masks/34750/2.png\n"
     ]
    },
    {
     "name": "stderr",
     "output_type": "stream",
     "text": [
      " 65%|██████▌   | 32451/49737 [41:25<16:43, 17.22it/s]"
     ]
    },
    {
     "name": "stdout",
     "output_type": "stream",
     "text": [
      "0.2837563419857123\n",
      "no match for /home/chuongh/vm2m/data/HHM/synthesized/masks/24931/0.png\n"
     ]
    },
    {
     "name": "stderr",
     "output_type": "stream",
     "text": [
      " 65%|██████▌   | 32529/49737 [41:31<20:31, 13.97it/s]"
     ]
    },
    {
     "name": "stdout",
     "output_type": "stream",
     "text": [
      "0.20590272713952315\n",
      "no match for /home/chuongh/vm2m/data/HHM/synthesized/masks/23627/2.png\n"
     ]
    },
    {
     "name": "stderr",
     "output_type": "stream",
     "text": [
      " 65%|██████▌   | 32554/49737 [41:33<22:56, 12.48it/s]"
     ]
    },
    {
     "name": "stdout",
     "output_type": "stream",
     "text": [
      "0\n",
      "no match for /home/chuongh/vm2m/data/HHM/synthesized/masks/32530/0.png\n"
     ]
    },
    {
     "name": "stderr",
     "output_type": "stream",
     "text": [
      " 65%|██████▌   | 32560/49737 [41:33<24:23, 11.74it/s]"
     ]
    },
    {
     "name": "stdout",
     "output_type": "stream",
     "text": [
      "0.23379547241585952\n",
      "no match for /home/chuongh/vm2m/data/HHM/synthesized/masks/20911/0.png\n"
     ]
    },
    {
     "name": "stderr",
     "output_type": "stream",
     "text": [
      " 66%|██████▌   | 32589/49737 [41:36<18:55, 15.10it/s]"
     ]
    },
    {
     "name": "stdout",
     "output_type": "stream",
     "text": [
      "0.015558764778590198\n",
      "no match for /home/chuongh/vm2m/data/HHM/synthesized/masks/47854/0.png\n"
     ]
    },
    {
     "name": "stderr",
     "output_type": "stream",
     "text": [
      " 66%|██████▌   | 32658/49737 [41:41<14:30, 19.61it/s]"
     ]
    },
    {
     "name": "stdout",
     "output_type": "stream",
     "text": [
      "0.05879876213121102\n",
      "no match for /home/chuongh/vm2m/data/HHM/synthesized/masks/40924/0.png\n"
     ]
    },
    {
     "name": "stderr",
     "output_type": "stream",
     "text": [
      " 66%|██████▌   | 32661/49737 [41:41<16:13, 17.55it/s]"
     ]
    },
    {
     "name": "stdout",
     "output_type": "stream",
     "text": [
      "0.23056047587005027\n",
      "no match for /home/chuongh/vm2m/data/HHM/synthesized/masks/9211/2.png\n"
     ]
    },
    {
     "name": "stderr",
     "output_type": "stream",
     "text": [
      " 66%|██████▌   | 32687/49737 [41:43<19:26, 14.61it/s]"
     ]
    },
    {
     "name": "stdout",
     "output_type": "stream",
     "text": [
      "0.28557582256586006\n",
      "no match for /home/chuongh/vm2m/data/HHM/synthesized/masks/9164/3.png\n"
     ]
    },
    {
     "name": "stderr",
     "output_type": "stream",
     "text": [
      " 66%|██████▌   | 32706/49737 [41:45<26:04, 10.88it/s]"
     ]
    },
    {
     "name": "stdout",
     "output_type": "stream",
     "text": [
      "0.09329613697318181\n",
      "no match for /home/chuongh/vm2m/data/HHM/synthesized/masks/46413/1.png\n"
     ]
    },
    {
     "name": "stderr",
     "output_type": "stream",
     "text": [
      " 66%|██████▌   | 32710/49737 [41:45<23:16, 12.19it/s]"
     ]
    },
    {
     "name": "stdout",
     "output_type": "stream",
     "text": [
      "0.20624906426202008\n",
      "no match for /home/chuongh/vm2m/data/HHM/synthesized/masks/46599/0.png\n"
     ]
    },
    {
     "name": "stderr",
     "output_type": "stream",
     "text": [
      " 66%|██████▌   | 32723/49737 [41:46<17:37, 16.08it/s]"
     ]
    },
    {
     "name": "stdout",
     "output_type": "stream",
     "text": [
      "0.1637315254441665\n",
      "no match for /home/chuongh/vm2m/data/HHM/synthesized/masks/38264/2.png\n"
     ]
    },
    {
     "name": "stderr",
     "output_type": "stream",
     "text": [
      " 66%|██████▌   | 32780/49737 [41:50<18:44, 15.07it/s]"
     ]
    },
    {
     "name": "stdout",
     "output_type": "stream",
     "text": [
      "0.02330801929588198\n",
      "no match for /home/chuongh/vm2m/data/HHM/synthesized/masks/6846/1.png\n"
     ]
    },
    {
     "name": "stderr",
     "output_type": "stream",
     "text": [
      " 66%|██████▌   | 32789/49737 [41:50<20:41, 13.65it/s]"
     ]
    },
    {
     "name": "stdout",
     "output_type": "stream",
     "text": [
      "0.15720016849783305\n",
      "no match for /home/chuongh/vm2m/data/HHM/synthesized/masks/48144/0.png\n"
     ]
    },
    {
     "name": "stderr",
     "output_type": "stream",
     "text": [
      " 66%|██████▌   | 32858/49737 [41:56<25:48, 10.90it/s]"
     ]
    },
    {
     "name": "stdout",
     "output_type": "stream",
     "text": [
      "0.0873029452694213\n",
      "no match for /home/chuongh/vm2m/data/HHM/synthesized/masks/25872/1.png\n"
     ]
    },
    {
     "name": "stderr",
     "output_type": "stream",
     "text": [
      " 66%|██████▌   | 32894/49737 [41:58<18:42, 15.01it/s]"
     ]
    },
    {
     "name": "stdout",
     "output_type": "stream",
     "text": [
      "0.013884955186212609\n",
      "no match for /home/chuongh/vm2m/data/HHM/synthesized/masks/24327/0.png\n"
     ]
    },
    {
     "name": "stderr",
     "output_type": "stream",
     "text": [
      " 66%|██████▌   | 32905/49737 [41:59<19:23, 14.46it/s]"
     ]
    },
    {
     "name": "stdout",
     "output_type": "stream",
     "text": [
      "0.12649726037079367\n",
      "no match for /home/chuongh/vm2m/data/HHM/synthesized/masks/23012/1.png\n"
     ]
    },
    {
     "name": "stderr",
     "output_type": "stream",
     "text": [
      " 66%|██████▌   | 32930/49737 [42:01<18:57, 14.77it/s]"
     ]
    },
    {
     "name": "stdout",
     "output_type": "stream",
     "text": [
      "0.006923008470560288\n",
      "no match for /home/chuongh/vm2m/data/HHM/synthesized/masks/13232/0.png\n"
     ]
    },
    {
     "name": "stderr",
     "output_type": "stream",
     "text": [
      " 66%|██████▋   | 33019/49737 [42:08<20:24, 13.65it/s]"
     ]
    },
    {
     "name": "stdout",
     "output_type": "stream",
     "text": [
      "0.20050592902616615\n",
      "no match for /home/chuongh/vm2m/data/HHM/synthesized/masks/1775/0.png\n"
     ]
    },
    {
     "name": "stderr",
     "output_type": "stream",
     "text": [
      " 66%|██████▋   | 33031/49737 [42:09<23:37, 11.78it/s]"
     ]
    },
    {
     "name": "stdout",
     "output_type": "stream",
     "text": [
      "0.059499258543884714\n",
      "no match for /home/chuongh/vm2m/data/HHM/synthesized/masks/21195/0.png\n"
     ]
    },
    {
     "name": "stderr",
     "output_type": "stream",
     "text": [
      " 66%|██████▋   | 33052/49737 [42:11<18:17, 15.21it/s]"
     ]
    },
    {
     "name": "stdout",
     "output_type": "stream",
     "text": [
      "0.0712408998849119\n",
      "no match for /home/chuongh/vm2m/data/HHM/synthesized/masks/1284/0.png\n"
     ]
    },
    {
     "name": "stderr",
     "output_type": "stream",
     "text": [
      " 67%|██████▋   | 33085/49737 [42:13<19:12, 14.45it/s]"
     ]
    },
    {
     "name": "stdout",
     "output_type": "stream",
     "text": [
      "0.03531842804126841\n",
      "no match for /home/chuongh/vm2m/data/HHM/synthesized/masks/5892/1.png\n"
     ]
    },
    {
     "name": "stderr",
     "output_type": "stream",
     "text": [
      " 67%|██████▋   | 33101/49737 [42:14<18:10, 15.25it/s]"
     ]
    },
    {
     "name": "stdout",
     "output_type": "stream",
     "text": [
      "0.02102703876790902\n",
      "no match for /home/chuongh/vm2m/data/HHM/synthesized/masks/18436/0.png\n"
     ]
    },
    {
     "name": "stderr",
     "output_type": "stream",
     "text": [
      " 67%|██████▋   | 33134/49737 [42:16<16:39, 16.61it/s]"
     ]
    },
    {
     "name": "stdout",
     "output_type": "stream",
     "text": [
      "0\n",
      "no match for /home/chuongh/vm2m/data/HHM/synthesized/masks/32006/1.png\n",
      "0.2965401007257956\n",
      "no match for /home/chuongh/vm2m/data/HHM/synthesized/masks/48944/0.png\n"
     ]
    },
    {
     "name": "stderr",
     "output_type": "stream",
     "text": [
      " 67%|██████▋   | 33220/49737 [42:23<20:22, 13.51it/s]"
     ]
    },
    {
     "name": "stdout",
     "output_type": "stream",
     "text": [
      "0.17579326111897156\n",
      "no match for /home/chuongh/vm2m/data/HHM/synthesized/masks/40823/0.png\n"
     ]
    },
    {
     "name": "stderr",
     "output_type": "stream",
     "text": [
      " 67%|██████▋   | 33242/49737 [42:25<18:19, 15.00it/s]"
     ]
    },
    {
     "name": "stdout",
     "output_type": "stream",
     "text": [
      "0.14275669755815393\n",
      "no match for /home/chuongh/vm2m/data/HHM/synthesized/masks/47064/1.png\n"
     ]
    },
    {
     "name": "stderr",
     "output_type": "stream",
     "text": [
      " 67%|██████▋   | 33260/49737 [42:26<15:09, 18.12it/s]"
     ]
    },
    {
     "name": "stdout",
     "output_type": "stream",
     "text": [
      "0.2871820410289966\n",
      "no match for /home/chuongh/vm2m/data/HHM/synthesized/masks/10987/0.png\n"
     ]
    },
    {
     "name": "stderr",
     "output_type": "stream",
     "text": [
      " 67%|██████▋   | 33278/49737 [42:27<20:43, 13.23it/s]"
     ]
    },
    {
     "name": "stdout",
     "output_type": "stream",
     "text": [
      "0\n",
      "no match for /home/chuongh/vm2m/data/HHM/synthesized/masks/40592/0.png\n"
     ]
    },
    {
     "name": "stderr",
     "output_type": "stream",
     "text": [
      " 67%|██████▋   | 33323/49737 [42:31<16:21, 16.72it/s]"
     ]
    },
    {
     "name": "stdout",
     "output_type": "stream",
     "text": [
      "0\n",
      "no match for /home/chuongh/vm2m/data/HHM/synthesized/masks/23436/1.png\n",
      "0.22547338702140463\n",
      "no match for /home/chuongh/vm2m/data/HHM/synthesized/masks/11910/0.png\n"
     ]
    },
    {
     "name": "stderr",
     "output_type": "stream",
     "text": [
      " 67%|██████▋   | 33327/49737 [42:31<19:33, 13.98it/s]"
     ]
    },
    {
     "name": "stdout",
     "output_type": "stream",
     "text": [
      "0.24342515744106671\n",
      "no match for /home/chuongh/vm2m/data/HHM/synthesized/masks/25232/1.png\n"
     ]
    },
    {
     "name": "stderr",
     "output_type": "stream",
     "text": [
      " 67%|██████▋   | 33366/49737 [42:33<18:52, 14.46it/s]"
     ]
    },
    {
     "name": "stdout",
     "output_type": "stream",
     "text": [
      "0.0018324917090085276\n",
      "no match for /home/chuongh/vm2m/data/HHM/synthesized/masks/33980/0.png\n"
     ]
    },
    {
     "name": "stderr",
     "output_type": "stream",
     "text": [
      " 67%|██████▋   | 33383/49737 [42:35<23:50, 11.43it/s]"
     ]
    },
    {
     "name": "stdout",
     "output_type": "stream",
     "text": [
      "0.006138945924576081\n",
      "no match for /home/chuongh/vm2m/data/HHM/synthesized/masks/48814/1.png\n"
     ]
    },
    {
     "name": "stderr",
     "output_type": "stream",
     "text": [
      " 67%|██████▋   | 33385/49737 [42:35<21:08, 12.89it/s]"
     ]
    },
    {
     "name": "stdout",
     "output_type": "stream",
     "text": [
      "0.03410244485709296\n",
      "no match for /home/chuongh/vm2m/data/HHM/synthesized/masks/18777/0.png\n",
      "0.25163495334936503\n",
      "no match for /home/chuongh/vm2m/data/HHM/synthesized/masks/38639/1.png\n"
     ]
    },
    {
     "name": "stderr",
     "output_type": "stream",
     "text": [
      " 67%|██████▋   | 33458/49737 [42:40<18:56, 14.32it/s]"
     ]
    },
    {
     "name": "stdout",
     "output_type": "stream",
     "text": [
      "0.006700020573725425\n",
      "no match for /home/chuongh/vm2m/data/HHM/synthesized/masks/48369/1.png\n"
     ]
    },
    {
     "name": "stderr",
     "output_type": "stream",
     "text": [
      " 67%|██████▋   | 33517/49737 [42:45<17:52, 15.13it/s]"
     ]
    },
    {
     "name": "stdout",
     "output_type": "stream",
     "text": [
      "0.006086425712642841\n",
      "no match for /home/chuongh/vm2m/data/HHM/synthesized/masks/13255/1.png\n"
     ]
    },
    {
     "name": "stderr",
     "output_type": "stream",
     "text": [
      " 67%|██████▋   | 33521/49737 [42:45<17:52, 15.13it/s]"
     ]
    },
    {
     "name": "stdout",
     "output_type": "stream",
     "text": [
      "0.2502982924971604\n",
      "no match for /home/chuongh/vm2m/data/HHM/synthesized/masks/36347/1.png\n"
     ]
    },
    {
     "name": "stderr",
     "output_type": "stream",
     "text": [
      " 67%|██████▋   | 33543/49737 [42:47<16:48, 16.06it/s]"
     ]
    },
    {
     "name": "stdout",
     "output_type": "stream",
     "text": [
      "0.12965565911147436\n",
      "no match for /home/chuongh/vm2m/data/HHM/synthesized/masks/690/0.png\n"
     ]
    },
    {
     "name": "stderr",
     "output_type": "stream",
     "text": [
      " 68%|██████▊   | 33594/49737 [42:51<17:51, 15.06it/s]"
     ]
    },
    {
     "name": "stdout",
     "output_type": "stream",
     "text": [
      "0.26838900135929805\n",
      "no match for /home/chuongh/vm2m/data/HHM/synthesized/masks/42951/1.png\n"
     ]
    },
    {
     "name": "stderr",
     "output_type": "stream",
     "text": [
      " 68%|██████▊   | 33628/49737 [42:53<19:38, 13.67it/s]"
     ]
    },
    {
     "name": "stdout",
     "output_type": "stream",
     "text": [
      "0.04160005873720844\n",
      "no match for /home/chuongh/vm2m/data/HHM/synthesized/masks/23222/0.png\n"
     ]
    },
    {
     "name": "stderr",
     "output_type": "stream",
     "text": [
      " 68%|██████▊   | 33642/49737 [42:54<15:12, 17.64it/s]"
     ]
    },
    {
     "name": "stdout",
     "output_type": "stream",
     "text": [
      "0.0010435602686182492\n",
      "no match for /home/chuongh/vm2m/data/HHM/synthesized/masks/31185/0.png\n",
      "0.1986024075866133\n",
      "no match for /home/chuongh/vm2m/data/HHM/synthesized/masks/31185/2.png\n"
     ]
    },
    {
     "name": "stderr",
     "output_type": "stream",
     "text": [
      " 68%|██████▊   | 33658/49737 [42:55<21:00, 12.75it/s]"
     ]
    },
    {
     "name": "stdout",
     "output_type": "stream",
     "text": [
      "0\n",
      "no match for /home/chuongh/vm2m/data/HHM/synthesized/masks/5096/0.png\n"
     ]
    },
    {
     "name": "stderr",
     "output_type": "stream",
     "text": [
      " 68%|██████▊   | 33686/49737 [42:57<16:42, 16.01it/s]"
     ]
    },
    {
     "name": "stdout",
     "output_type": "stream",
     "text": [
      "0.0729899227240978\n",
      "no match for /home/chuongh/vm2m/data/HHM/synthesized/masks/35052/1.png\n"
     ]
    },
    {
     "name": "stderr",
     "output_type": "stream",
     "text": [
      " 68%|██████▊   | 33696/49737 [42:58<16:31, 16.18it/s]"
     ]
    },
    {
     "name": "stdout",
     "output_type": "stream",
     "text": [
      "0.20620073805503328\n",
      "no match for /home/chuongh/vm2m/data/HHM/synthesized/masks/25984/0.png\n"
     ]
    },
    {
     "name": "stderr",
     "output_type": "stream",
     "text": [
      " 68%|██████▊   | 33746/49737 [43:01<24:20, 10.95it/s]"
     ]
    },
    {
     "name": "stdout",
     "output_type": "stream",
     "text": [
      "8.309003234757108e-05\n",
      "no match for /home/chuongh/vm2m/data/HHM/synthesized/masks/4426/1.png\n"
     ]
    },
    {
     "name": "stderr",
     "output_type": "stream",
     "text": [
      " 68%|██████▊   | 33789/49737 [43:05<19:02, 13.96it/s]"
     ]
    },
    {
     "name": "stdout",
     "output_type": "stream",
     "text": [
      "0.2482660143087357\n",
      "no match for /home/chuongh/vm2m/data/HHM/synthesized/masks/42443/1.png\n"
     ]
    },
    {
     "name": "stderr",
     "output_type": "stream",
     "text": [
      " 68%|██████▊   | 33798/49737 [43:05<18:37, 14.26it/s]"
     ]
    },
    {
     "name": "stdout",
     "output_type": "stream",
     "text": [
      "0.018775039361428002\n",
      "no match for /home/chuongh/vm2m/data/HHM/synthesized/masks/46326/0.png\n"
     ]
    },
    {
     "name": "stderr",
     "output_type": "stream",
     "text": [
      " 68%|██████▊   | 33814/49737 [43:07<18:18, 14.49it/s]"
     ]
    },
    {
     "name": "stdout",
     "output_type": "stream",
     "text": [
      "0.17651501307154188\n",
      "no match for /home/chuongh/vm2m/data/HHM/synthesized/masks/37210/0.png\n"
     ]
    },
    {
     "name": "stderr",
     "output_type": "stream",
     "text": [
      " 68%|██████▊   | 33824/49737 [43:07<20:41, 12.82it/s]"
     ]
    },
    {
     "name": "stdout",
     "output_type": "stream",
     "text": [
      "0\n",
      "no match for /home/chuongh/vm2m/data/HHM/synthesized/masks/48290/0.png\n"
     ]
    },
    {
     "name": "stderr",
     "output_type": "stream",
     "text": [
      " 68%|██████▊   | 33832/49737 [43:08<17:24, 15.23it/s]"
     ]
    },
    {
     "name": "stdout",
     "output_type": "stream",
     "text": [
      "0\n",
      "no match for /home/chuongh/vm2m/data/HHM/synthesized/masks/17187/1.png\n"
     ]
    },
    {
     "name": "stderr",
     "output_type": "stream",
     "text": [
      " 68%|██████▊   | 33843/49737 [43:09<18:19, 14.46it/s]"
     ]
    },
    {
     "name": "stdout",
     "output_type": "stream",
     "text": [
      "0\n",
      "no match for /home/chuongh/vm2m/data/HHM/synthesized/masks/27445/0.png\n"
     ]
    },
    {
     "name": "stderr",
     "output_type": "stream",
     "text": [
      " 68%|██████▊   | 33906/49737 [43:14<20:43, 12.73it/s]"
     ]
    },
    {
     "name": "stdout",
     "output_type": "stream",
     "text": [
      "0.24186158530595037\n",
      "no match for /home/chuongh/vm2m/data/HHM/synthesized/masks/4134/0.png\n"
     ]
    },
    {
     "name": "stderr",
     "output_type": "stream",
     "text": [
      " 68%|██████▊   | 33945/49737 [43:17<17:09, 15.34it/s]"
     ]
    },
    {
     "name": "stdout",
     "output_type": "stream",
     "text": [
      "0.1080085804045065\n",
      "no match for /home/chuongh/vm2m/data/HHM/synthesized/masks/14576/1.png\n"
     ]
    },
    {
     "name": "stderr",
     "output_type": "stream",
     "text": [
      " 68%|██████▊   | 33961/49737 [43:18<16:36, 15.83it/s]"
     ]
    },
    {
     "name": "stdout",
     "output_type": "stream",
     "text": [
      "0.01980147490362142\n",
      "no match for /home/chuongh/vm2m/data/HHM/synthesized/masks/18473/1.png\n",
      "0.15673469032077897\n",
      "no match for /home/chuongh/vm2m/data/HHM/synthesized/masks/12821/0.png\n"
     ]
    },
    {
     "name": "stderr",
     "output_type": "stream",
     "text": [
      " 68%|██████▊   | 33967/49737 [43:18<20:56, 12.55it/s]"
     ]
    },
    {
     "name": "stdout",
     "output_type": "stream",
     "text": [
      "0\n",
      "no match for /home/chuongh/vm2m/data/HHM/synthesized/masks/42837/1.png\n"
     ]
    },
    {
     "name": "stderr",
     "output_type": "stream",
     "text": [
      " 68%|██████▊   | 33970/49737 [43:18<18:38, 14.09it/s]"
     ]
    },
    {
     "name": "stdout",
     "output_type": "stream",
     "text": [
      "0.2835063359037622\n",
      "no match for /home/chuongh/vm2m/data/HHM/synthesized/masks/2660/2.png\n"
     ]
    },
    {
     "name": "stderr",
     "output_type": "stream",
     "text": [
      " 68%|██████▊   | 33985/49737 [43:20<19:55, 13.17it/s]"
     ]
    },
    {
     "name": "stdout",
     "output_type": "stream",
     "text": [
      "0.2892865088602258\n",
      "no match for /home/chuongh/vm2m/data/HHM/synthesized/masks/5206/1.png\n"
     ]
    },
    {
     "name": "stderr",
     "output_type": "stream",
     "text": [
      " 68%|██████▊   | 34006/49737 [43:21<17:42, 14.80it/s]"
     ]
    },
    {
     "name": "stdout",
     "output_type": "stream",
     "text": [
      "0.2962713387228108\n",
      "no match for /home/chuongh/vm2m/data/HHM/synthesized/masks/40087/1.png\n"
     ]
    },
    {
     "name": "stderr",
     "output_type": "stream",
     "text": [
      " 68%|██████▊   | 34014/49737 [43:22<20:22, 12.86it/s]"
     ]
    },
    {
     "name": "stdout",
     "output_type": "stream",
     "text": [
      "0.2829606857811813\n",
      "no match for /home/chuongh/vm2m/data/HHM/synthesized/masks/4252/2.png\n"
     ]
    },
    {
     "name": "stderr",
     "output_type": "stream",
     "text": [
      " 68%|██████▊   | 34025/49737 [43:23<17:55, 14.61it/s]"
     ]
    },
    {
     "name": "stdout",
     "output_type": "stream",
     "text": [
      "0\n",
      "no match for /home/chuongh/vm2m/data/HHM/synthesized/masks/49075/1.png\n"
     ]
    },
    {
     "name": "stderr",
     "output_type": "stream",
     "text": [
      " 69%|██████▊   | 34074/49737 [43:26<22:53, 11.40it/s]"
     ]
    },
    {
     "name": "stdout",
     "output_type": "stream",
     "text": [
      "0\n",
      "no match for /home/chuongh/vm2m/data/HHM/synthesized/masks/23732/3.png\n"
     ]
    },
    {
     "name": "stderr",
     "output_type": "stream",
     "text": [
      " 69%|██████▊   | 34096/49737 [43:28<15:14, 17.10it/s]"
     ]
    },
    {
     "name": "stdout",
     "output_type": "stream",
     "text": [
      "0\n",
      "no match for /home/chuongh/vm2m/data/HHM/synthesized/masks/48899/0.png\n"
     ]
    },
    {
     "name": "stderr",
     "output_type": "stream",
     "text": [
      " 69%|██████▊   | 34118/49737 [43:30<24:52, 10.46it/s]"
     ]
    },
    {
     "name": "stdout",
     "output_type": "stream",
     "text": [
      "0.09190598830493252\n",
      "no match for /home/chuongh/vm2m/data/HHM/synthesized/masks/6303/1.png\n"
     ]
    },
    {
     "name": "stderr",
     "output_type": "stream",
     "text": [
      " 69%|██████▊   | 34122/49737 [43:30<25:04, 10.38it/s]"
     ]
    },
    {
     "name": "stdout",
     "output_type": "stream",
     "text": [
      "0.0021600856670272125\n",
      "no match for /home/chuongh/vm2m/data/HHM/synthesized/masks/36897/2.png\n"
     ]
    },
    {
     "name": "stderr",
     "output_type": "stream",
     "text": [
      " 69%|██████▊   | 34137/49737 [43:31<15:22, 16.90it/s]"
     ]
    },
    {
     "name": "stdout",
     "output_type": "stream",
     "text": [
      "0.030323287467655804\n",
      "no match for /home/chuongh/vm2m/data/HHM/synthesized/masks/10581/0.png\n"
     ]
    },
    {
     "name": "stderr",
     "output_type": "stream",
     "text": [
      " 69%|██████▊   | 34141/49737 [43:31<18:00, 14.43it/s]"
     ]
    },
    {
     "name": "stdout",
     "output_type": "stream",
     "text": [
      "0.23936919726581776\n",
      "no match for /home/chuongh/vm2m/data/HHM/synthesized/masks/32316/0.png\n"
     ]
    },
    {
     "name": "stderr",
     "output_type": "stream",
     "text": [
      " 69%|██████▊   | 34154/49737 [43:32<15:02, 17.26it/s]"
     ]
    },
    {
     "name": "stdout",
     "output_type": "stream",
     "text": [
      "0.24435296912318763\n",
      "no match for /home/chuongh/vm2m/data/HHM/synthesized/masks/19983/2.png\n",
      "0.11943195427232033\n",
      "no match for /home/chuongh/vm2m/data/HHM/synthesized/masks/26245/0.png\n"
     ]
    },
    {
     "name": "stderr",
     "output_type": "stream",
     "text": [
      " 69%|██████▊   | 34175/49737 [43:34<23:01, 11.27it/s]"
     ]
    },
    {
     "name": "stdout",
     "output_type": "stream",
     "text": [
      "0.236889464257899\n",
      "no match for /home/chuongh/vm2m/data/HHM/synthesized/masks/18151/0.png\n"
     ]
    },
    {
     "name": "stderr",
     "output_type": "stream",
     "text": [
      " 69%|██████▊   | 34189/49737 [43:35<19:38, 13.20it/s]"
     ]
    },
    {
     "name": "stdout",
     "output_type": "stream",
     "text": [
      "0.0034878559198181533\n",
      "no match for /home/chuongh/vm2m/data/HHM/synthesized/masks/41379/1.png\n"
     ]
    },
    {
     "name": "stderr",
     "output_type": "stream",
     "text": [
      " 69%|██████▊   | 34191/49737 [43:35<18:42, 13.85it/s]"
     ]
    },
    {
     "name": "stdout",
     "output_type": "stream",
     "text": [
      "0.0012528505313721423\n",
      "no match for /home/chuongh/vm2m/data/HHM/synthesized/masks/29284/1.png\n"
     ]
    },
    {
     "name": "stderr",
     "output_type": "stream",
     "text": [
      " 69%|██████▉   | 34222/49737 [43:37<19:40, 13.14it/s]"
     ]
    },
    {
     "name": "stdout",
     "output_type": "stream",
     "text": [
      "0.13467945875290735\n",
      "no match for /home/chuongh/vm2m/data/HHM/synthesized/masks/21124/0.png\n"
     ]
    },
    {
     "name": "stderr",
     "output_type": "stream",
     "text": [
      " 69%|██████▉   | 34275/49737 [43:41<21:12, 12.15it/s]"
     ]
    },
    {
     "name": "stdout",
     "output_type": "stream",
     "text": [
      "0.16891125703677248\n",
      "no match for /home/chuongh/vm2m/data/HHM/synthesized/masks/5384/0.png\n"
     ]
    },
    {
     "name": "stderr",
     "output_type": "stream",
     "text": [
      " 69%|██████▉   | 34279/49737 [43:41<17:50, 14.44it/s]"
     ]
    },
    {
     "name": "stdout",
     "output_type": "stream",
     "text": [
      "0.19735956650805564\n",
      "no match for /home/chuongh/vm2m/data/HHM/synthesized/masks/38040/0.png\n"
     ]
    },
    {
     "name": "stderr",
     "output_type": "stream",
     "text": [
      " 69%|██████▉   | 34297/49737 [43:42<18:02, 14.27it/s]"
     ]
    },
    {
     "name": "stdout",
     "output_type": "stream",
     "text": [
      "0.048357879813970626\n",
      "no match for /home/chuongh/vm2m/data/HHM/synthesized/masks/7457/1.png\n"
     ]
    },
    {
     "name": "stderr",
     "output_type": "stream",
     "text": [
      " 69%|██████▉   | 34438/49737 [43:54<21:00, 12.14it/s]"
     ]
    },
    {
     "name": "stdout",
     "output_type": "stream",
     "text": [
      "0.02218864459447787\n",
      "no match for /home/chuongh/vm2m/data/HHM/synthesized/masks/10917/0.png\n"
     ]
    },
    {
     "name": "stderr",
     "output_type": "stream",
     "text": [
      " 69%|██████▉   | 34520/49737 [44:00<20:31, 12.36it/s]"
     ]
    },
    {
     "name": "stdout",
     "output_type": "stream",
     "text": [
      "0.25061550753879\n",
      "no match for /home/chuongh/vm2m/data/HHM/synthesized/masks/19648/0.png\n"
     ]
    },
    {
     "name": "stderr",
     "output_type": "stream",
     "text": [
      " 70%|██████▉   | 34632/49737 [44:08<19:58, 12.60it/s]"
     ]
    },
    {
     "name": "stdout",
     "output_type": "stream",
     "text": [
      "0.2883590841883531\n",
      "no match for /home/chuongh/vm2m/data/HHM/synthesized/masks/18433/1.png\n"
     ]
    },
    {
     "name": "stderr",
     "output_type": "stream",
     "text": [
      " 70%|██████▉   | 34664/49737 [44:10<16:34, 15.15it/s]"
     ]
    },
    {
     "name": "stdout",
     "output_type": "stream",
     "text": [
      "0.17103494475526543\n",
      "no match for /home/chuongh/vm2m/data/HHM/synthesized/masks/13349/1.png\n"
     ]
    },
    {
     "name": "stderr",
     "output_type": "stream",
     "text": [
      " 70%|██████▉   | 34670/49737 [44:11<20:25, 12.30it/s]"
     ]
    },
    {
     "name": "stdout",
     "output_type": "stream",
     "text": [
      "0.0039202846877418335\n",
      "no match for /home/chuongh/vm2m/data/HHM/synthesized/masks/34881/1.png\n"
     ]
    },
    {
     "name": "stderr",
     "output_type": "stream",
     "text": [
      " 70%|██████▉   | 34676/49737 [44:11<21:40, 11.58it/s]"
     ]
    },
    {
     "name": "stdout",
     "output_type": "stream",
     "text": [
      "0.168075266605062\n",
      "no match for /home/chuongh/vm2m/data/HHM/synthesized/masks/49851/1.png\n"
     ]
    },
    {
     "name": "stderr",
     "output_type": "stream",
     "text": [
      " 70%|██████▉   | 34682/49737 [44:12<22:45, 11.02it/s]"
     ]
    },
    {
     "name": "stdout",
     "output_type": "stream",
     "text": [
      "0\n",
      "no match for /home/chuongh/vm2m/data/HHM/synthesized/masks/5198/1.png\n"
     ]
    },
    {
     "name": "stderr",
     "output_type": "stream",
     "text": [
      " 70%|██████▉   | 34701/49737 [44:13<16:35, 15.10it/s]"
     ]
    },
    {
     "name": "stdout",
     "output_type": "stream",
     "text": [
      "0.2847523512989102\n",
      "no match for /home/chuongh/vm2m/data/HHM/synthesized/masks/27359/0.png\n"
     ]
    },
    {
     "name": "stderr",
     "output_type": "stream",
     "text": [
      " 70%|██████▉   | 34707/49737 [44:14<20:40, 12.12it/s]"
     ]
    },
    {
     "name": "stdout",
     "output_type": "stream",
     "text": [
      "0.22253185815290744\n",
      "no match for /home/chuongh/vm2m/data/HHM/synthesized/masks/25356/1.png\n"
     ]
    },
    {
     "name": "stderr",
     "output_type": "stream",
     "text": [
      " 70%|██████▉   | 34774/49737 [44:19<19:36, 12.72it/s]"
     ]
    },
    {
     "name": "stdout",
     "output_type": "stream",
     "text": [
      "0.09369798255531839\n",
      "no match for /home/chuongh/vm2m/data/HHM/synthesized/masks/45234/0.png\n"
     ]
    },
    {
     "name": "stderr",
     "output_type": "stream",
     "text": [
      " 70%|██████▉   | 34788/49737 [44:21<22:19, 11.16it/s]"
     ]
    },
    {
     "name": "stdout",
     "output_type": "stream",
     "text": [
      "0.09997223842930687\n",
      "no match for /home/chuongh/vm2m/data/HHM/synthesized/masks/21396/0.png\n"
     ]
    },
    {
     "name": "stderr",
     "output_type": "stream",
     "text": [
      " 70%|██████▉   | 34797/49737 [44:21<18:07, 13.73it/s]"
     ]
    },
    {
     "name": "stdout",
     "output_type": "stream",
     "text": [
      "0.01168560031922312\n",
      "no match for /home/chuongh/vm2m/data/HHM/synthesized/masks/27058/0.png\n"
     ]
    },
    {
     "name": "stderr",
     "output_type": "stream",
     "text": [
      " 70%|███████   | 34853/49737 [44:26<19:20, 12.83it/s]"
     ]
    },
    {
     "name": "stdout",
     "output_type": "stream",
     "text": [
      "0.2423696491410956\n",
      "no match for /home/chuongh/vm2m/data/HHM/synthesized/masks/34089/1.png\n"
     ]
    },
    {
     "name": "stderr",
     "output_type": "stream",
     "text": [
      " 70%|███████   | 34892/49737 [44:29<16:52, 14.67it/s]"
     ]
    },
    {
     "name": "stdout",
     "output_type": "stream",
     "text": [
      "0.21165897205530781\n",
      "no match for /home/chuongh/vm2m/data/HHM/synthesized/masks/29772/0.png\n"
     ]
    },
    {
     "name": "stderr",
     "output_type": "stream",
     "text": [
      " 70%|███████   | 34896/49737 [44:29<19:21, 12.77it/s]"
     ]
    },
    {
     "name": "stdout",
     "output_type": "stream",
     "text": [
      "0.00325311382302318\n",
      "no match for /home/chuongh/vm2m/data/HHM/synthesized/masks/10592/0.png\n"
     ]
    },
    {
     "name": "stderr",
     "output_type": "stream",
     "text": [
      " 70%|███████   | 34905/49737 [44:30<23:09, 10.67it/s]"
     ]
    },
    {
     "name": "stdout",
     "output_type": "stream",
     "text": [
      "0.02913518946793103\n",
      "no match for /home/chuongh/vm2m/data/HHM/synthesized/masks/35202/0.png\n"
     ]
    },
    {
     "name": "stderr",
     "output_type": "stream",
     "text": [
      " 70%|███████   | 34914/49737 [44:31<15:51, 15.58it/s]"
     ]
    },
    {
     "name": "stdout",
     "output_type": "stream",
     "text": [
      "0.26583388262886243\n",
      "no match for /home/chuongh/vm2m/data/HHM/synthesized/masks/16254/0.png\n"
     ]
    },
    {
     "name": "stderr",
     "output_type": "stream",
     "text": [
      " 70%|███████   | 34920/49737 [44:32<19:09, 12.89it/s]"
     ]
    },
    {
     "name": "stdout",
     "output_type": "stream",
     "text": [
      "0.06802979282860618\n",
      "no match for /home/chuongh/vm2m/data/HHM/synthesized/masks/14847/1.png\n"
     ]
    },
    {
     "name": "stderr",
     "output_type": "stream",
     "text": [
      " 70%|███████   | 34928/49737 [44:32<21:53, 11.28it/s]"
     ]
    },
    {
     "name": "stdout",
     "output_type": "stream",
     "text": [
      "0.21236104466495828\n",
      "no match for /home/chuongh/vm2m/data/HHM/synthesized/masks/15370/2.png\n"
     ]
    },
    {
     "name": "stderr",
     "output_type": "stream",
     "text": [
      " 70%|███████   | 34930/49737 [44:33<24:44,  9.97it/s]"
     ]
    },
    {
     "name": "stdout",
     "output_type": "stream",
     "text": [
      "0.03141952287005525\n",
      "no match for /home/chuongh/vm2m/data/HHM/synthesized/masks/9195/0.png\n"
     ]
    },
    {
     "name": "stderr",
     "output_type": "stream",
     "text": [
      " 70%|███████   | 34952/49737 [44:34<19:27, 12.67it/s]"
     ]
    },
    {
     "name": "stdout",
     "output_type": "stream",
     "text": [
      "0.22316601739166742\n",
      "no match for /home/chuongh/vm2m/data/HHM/synthesized/masks/42811/1.png\n"
     ]
    },
    {
     "name": "stderr",
     "output_type": "stream",
     "text": [
      " 70%|███████   | 34958/49737 [44:35<19:28, 12.65it/s]"
     ]
    },
    {
     "name": "stdout",
     "output_type": "stream",
     "text": [
      "0.19248400939530028\n",
      "no match for /home/chuongh/vm2m/data/HHM/synthesized/masks/27767/2.png\n",
      "0.009843541091165049\n",
      "no match for /home/chuongh/vm2m/data/HHM/synthesized/masks/38975/0.png\n"
     ]
    },
    {
     "name": "stderr",
     "output_type": "stream",
     "text": [
      " 70%|███████   | 34972/49737 [44:36<19:42, 12.49it/s]"
     ]
    },
    {
     "name": "stdout",
     "output_type": "stream",
     "text": [
      "0.05705876701497808\n",
      "no match for /home/chuongh/vm2m/data/HHM/synthesized/masks/39054/2.png\n"
     ]
    },
    {
     "name": "stderr",
     "output_type": "stream",
     "text": [
      " 70%|███████   | 34976/49737 [44:36<21:12, 11.60it/s]"
     ]
    },
    {
     "name": "stdout",
     "output_type": "stream",
     "text": [
      "0.23643143611002698\n",
      "no match for /home/chuongh/vm2m/data/HHM/synthesized/masks/37735/0.png\n"
     ]
    },
    {
     "name": "stderr",
     "output_type": "stream",
     "text": [
      " 70%|███████   | 34998/49737 [44:38<22:22, 10.98it/s]"
     ]
    },
    {
     "name": "stdout",
     "output_type": "stream",
     "text": [
      "0.08776077017874165\n",
      "no match for /home/chuongh/vm2m/data/HHM/synthesized/masks/31614/1.png\n"
     ]
    },
    {
     "name": "stderr",
     "output_type": "stream",
     "text": [
      " 70%|███████   | 35023/49737 [44:40<19:03, 12.87it/s]"
     ]
    },
    {
     "name": "stdout",
     "output_type": "stream",
     "text": [
      "0.04040509987630855\n",
      "no match for /home/chuongh/vm2m/data/HHM/synthesized/masks/36901/2.png\n",
      "0.23998854049759208\n",
      "no match for /home/chuongh/vm2m/data/HHM/synthesized/masks/8026/0.png\n"
     ]
    },
    {
     "name": "stderr",
     "output_type": "stream",
     "text": [
      " 70%|███████   | 35036/49737 [44:41<17:00, 14.41it/s]"
     ]
    },
    {
     "name": "stdout",
     "output_type": "stream",
     "text": [
      "0.11064466331367206\n",
      "no match for /home/chuongh/vm2m/data/HHM/synthesized/masks/2949/2.png\n",
      "0.17271185362610997\n",
      "no match for /home/chuongh/vm2m/data/HHM/synthesized/masks/31543/1.png\n"
     ]
    },
    {
     "name": "stderr",
     "output_type": "stream",
     "text": [
      " 70%|███████   | 35046/49737 [44:42<18:32, 13.20it/s]"
     ]
    },
    {
     "name": "stdout",
     "output_type": "stream",
     "text": [
      "0.2703914578113468\n",
      "no match for /home/chuongh/vm2m/data/HHM/synthesized/masks/29043/0.png\n"
     ]
    },
    {
     "name": "stderr",
     "output_type": "stream",
     "text": [
      " 70%|███████   | 35054/49737 [44:42<16:59, 14.40it/s]"
     ]
    },
    {
     "name": "stdout",
     "output_type": "stream",
     "text": [
      "0.11383227623122955\n",
      "no match for /home/chuongh/vm2m/data/HHM/synthesized/masks/4170/0.png\n"
     ]
    },
    {
     "name": "stderr",
     "output_type": "stream",
     "text": [
      " 71%|███████   | 35079/49737 [44:44<23:45, 10.28it/s]"
     ]
    },
    {
     "name": "stdout",
     "output_type": "stream",
     "text": [
      "0.10547548641338209\n",
      "no match for /home/chuongh/vm2m/data/HHM/synthesized/masks/45507/1.png\n",
      "0.28181828920318636\n",
      "no match for /home/chuongh/vm2m/data/HHM/synthesized/masks/45507/2.png\n"
     ]
    },
    {
     "name": "stderr",
     "output_type": "stream",
     "text": [
      " 71%|███████   | 35086/49737 [44:46<59:17,  4.12it/s]"
     ]
    },
    {
     "name": "stdout",
     "output_type": "stream",
     "text": [
      "0\n",
      "no match for /home/chuongh/vm2m/data/HHM/synthesized/masks/16468/3.png\n"
     ]
    },
    {
     "name": "stderr",
     "output_type": "stream",
     "text": [
      " 71%|███████   | 35103/49737 [44:48<18:16, 13.35it/s]"
     ]
    },
    {
     "name": "stdout",
     "output_type": "stream",
     "text": [
      "0.034902443796472865\n",
      "no match for /home/chuongh/vm2m/data/HHM/synthesized/masks/29719/1.png\n"
     ]
    },
    {
     "name": "stderr",
     "output_type": "stream",
     "text": [
      " 71%|███████   | 35144/49737 [44:51<20:25, 11.91it/s]"
     ]
    },
    {
     "name": "stdout",
     "output_type": "stream",
     "text": [
      "0.24215146771590637\n",
      "no match for /home/chuongh/vm2m/data/HHM/synthesized/masks/38576/1.png\n"
     ]
    },
    {
     "name": "stderr",
     "output_type": "stream",
     "text": [
      " 71%|███████   | 35197/49737 [44:55<15:39, 15.48it/s]"
     ]
    },
    {
     "name": "stdout",
     "output_type": "stream",
     "text": [
      "0.044406030843840205\n",
      "no match for /home/chuongh/vm2m/data/HHM/synthesized/masks/7328/1.png\n"
     ]
    },
    {
     "name": "stderr",
     "output_type": "stream",
     "text": [
      " 71%|███████   | 35221/49737 [44:57<17:03, 14.18it/s]"
     ]
    },
    {
     "name": "stdout",
     "output_type": "stream",
     "text": [
      "0.2689580796008424\n",
      "no match for /home/chuongh/vm2m/data/HHM/synthesized/masks/20507/1.png\n"
     ]
    },
    {
     "name": "stderr",
     "output_type": "stream",
     "text": [
      " 71%|███████   | 35231/49737 [44:57<18:45, 12.89it/s]"
     ]
    },
    {
     "name": "stdout",
     "output_type": "stream",
     "text": [
      "0.26277748455359873\n",
      "no match for /home/chuongh/vm2m/data/HHM/synthesized/masks/37602/1.png\n"
     ]
    },
    {
     "name": "stderr",
     "output_type": "stream",
     "text": [
      " 71%|███████   | 35243/49737 [44:59<21:29, 11.24it/s]"
     ]
    },
    {
     "name": "stdout",
     "output_type": "stream",
     "text": [
      "0\n",
      "no match for /home/chuongh/vm2m/data/HHM/synthesized/masks/17372/1.png\n"
     ]
    },
    {
     "name": "stderr",
     "output_type": "stream",
     "text": [
      " 71%|███████   | 35252/49737 [44:59<19:12, 12.57it/s]"
     ]
    },
    {
     "name": "stdout",
     "output_type": "stream",
     "text": [
      "0.19170345134406244\n",
      "no match for /home/chuongh/vm2m/data/HHM/synthesized/masks/19003/0.png\n"
     ]
    },
    {
     "name": "stderr",
     "output_type": "stream",
     "text": [
      " 71%|███████   | 35259/49737 [45:00<17:08, 14.08it/s]"
     ]
    },
    {
     "name": "stdout",
     "output_type": "stream",
     "text": [
      "0.21045614761269624\n",
      "no match for /home/chuongh/vm2m/data/HHM/synthesized/masks/20354/0.png\n"
     ]
    },
    {
     "name": "stderr",
     "output_type": "stream",
     "text": [
      " 71%|███████   | 35276/49737 [45:01<15:40, 15.37it/s]"
     ]
    },
    {
     "name": "stdout",
     "output_type": "stream",
     "text": [
      "0.06210191082785844\n",
      "no match for /home/chuongh/vm2m/data/HHM/synthesized/masks/40846/2.png\n"
     ]
    },
    {
     "name": "stderr",
     "output_type": "stream",
     "text": [
      " 71%|███████   | 35280/49737 [45:01<15:30, 15.53it/s]"
     ]
    },
    {
     "name": "stdout",
     "output_type": "stream",
     "text": [
      "0\n",
      "no match for /home/chuongh/vm2m/data/HHM/synthesized/masks/29606/1.png\n"
     ]
    },
    {
     "name": "stderr",
     "output_type": "stream",
     "text": [
      " 71%|███████   | 35284/49737 [45:01<15:07, 15.92it/s]"
     ]
    },
    {
     "name": "stdout",
     "output_type": "stream",
     "text": [
      "0\n",
      "no match for /home/chuongh/vm2m/data/HHM/synthesized/masks/17120/0.png\n"
     ]
    },
    {
     "name": "stderr",
     "output_type": "stream",
     "text": [
      " 71%|███████   | 35388/49737 [45:09<13:26, 17.79it/s]"
     ]
    },
    {
     "name": "stdout",
     "output_type": "stream",
     "text": [
      "0\n",
      "no match for /home/chuongh/vm2m/data/HHM/synthesized/masks/44451/0.png\n",
      "0.01998064067405454\n",
      "no match for /home/chuongh/vm2m/data/HHM/synthesized/masks/48801/1.png\n"
     ]
    },
    {
     "name": "stderr",
     "output_type": "stream",
     "text": [
      " 71%|███████   | 35419/49737 [45:12<16:10, 14.76it/s]"
     ]
    },
    {
     "name": "stdout",
     "output_type": "stream",
     "text": [
      "0.2476625523290619\n",
      "no match for /home/chuongh/vm2m/data/HHM/synthesized/masks/22085/3.png\n"
     ]
    },
    {
     "name": "stderr",
     "output_type": "stream",
     "text": [
      " 71%|███████▏  | 35440/49737 [45:14<20:33, 11.59it/s]"
     ]
    },
    {
     "name": "stdout",
     "output_type": "stream",
     "text": [
      "0.22480571813695852\n",
      "no match for /home/chuongh/vm2m/data/HHM/synthesized/masks/7963/0.png\n"
     ]
    },
    {
     "name": "stderr",
     "output_type": "stream",
     "text": [
      " 71%|███████▏  | 35487/49737 [45:17<16:51, 14.08it/s]"
     ]
    },
    {
     "name": "stdout",
     "output_type": "stream",
     "text": [
      "0.024520217810571773\n",
      "no match for /home/chuongh/vm2m/data/HHM/synthesized/masks/3865/0.png\n"
     ]
    },
    {
     "name": "stderr",
     "output_type": "stream",
     "text": [
      " 71%|███████▏  | 35493/49737 [45:18<22:01, 10.78it/s]"
     ]
    },
    {
     "name": "stdout",
     "output_type": "stream",
     "text": [
      "0\n",
      "no match for /home/chuongh/vm2m/data/HHM/synthesized/masks/46204/1.png\n"
     ]
    },
    {
     "name": "stderr",
     "output_type": "stream",
     "text": [
      " 71%|███████▏  | 35495/49737 [45:18<22:29, 10.56it/s]"
     ]
    },
    {
     "name": "stdout",
     "output_type": "stream",
     "text": [
      "0.2369709067967704\n",
      "no match for /home/chuongh/vm2m/data/HHM/synthesized/masks/48345/0.png\n"
     ]
    },
    {
     "name": "stderr",
     "output_type": "stream",
     "text": [
      " 71%|███████▏  | 35551/49737 [45:22<17:47, 13.29it/s]"
     ]
    },
    {
     "name": "stdout",
     "output_type": "stream",
     "text": [
      "0\n",
      "no match for /home/chuongh/vm2m/data/HHM/synthesized/masks/1328/0.png\n"
     ]
    },
    {
     "name": "stderr",
     "output_type": "stream",
     "text": [
      " 72%|███████▏  | 35569/49737 [45:23<18:13, 12.96it/s]"
     ]
    },
    {
     "name": "stdout",
     "output_type": "stream",
     "text": [
      "0\n",
      "no match for /home/chuongh/vm2m/data/HHM/synthesized/masks/45442/0.png\n"
     ]
    },
    {
     "name": "stderr",
     "output_type": "stream",
     "text": [
      " 72%|███████▏  | 35587/49737 [45:25<19:00, 12.40it/s]"
     ]
    },
    {
     "name": "stdout",
     "output_type": "stream",
     "text": [
      "0.010714405468441527\n",
      "no match for /home/chuongh/vm2m/data/HHM/synthesized/masks/45113/0.png\n"
     ]
    },
    {
     "name": "stderr",
     "output_type": "stream",
     "text": [
      " 72%|███████▏  | 35609/49737 [45:26<15:06, 15.58it/s]"
     ]
    },
    {
     "name": "stdout",
     "output_type": "stream",
     "text": [
      "0.26892575138843855\n",
      "no match for /home/chuongh/vm2m/data/HHM/synthesized/masks/47084/0.png\n"
     ]
    },
    {
     "name": "stderr",
     "output_type": "stream",
     "text": [
      " 72%|███████▏  | 35643/49737 [45:29<17:19, 13.56it/s]"
     ]
    },
    {
     "name": "stdout",
     "output_type": "stream",
     "text": [
      "0.2550598452447254\n",
      "no match for /home/chuongh/vm2m/data/HHM/synthesized/masks/6899/0.png\n"
     ]
    },
    {
     "name": "stderr",
     "output_type": "stream",
     "text": [
      " 72%|███████▏  | 35660/49737 [45:30<16:22, 14.33it/s]"
     ]
    },
    {
     "name": "stdout",
     "output_type": "stream",
     "text": [
      "0.004111686840491988\n",
      "no match for /home/chuongh/vm2m/data/HHM/synthesized/masks/3496/2.png\n",
      "0.016620028322524384\n",
      "no match for /home/chuongh/vm2m/data/HHM/synthesized/masks/7551/0.png\n"
     ]
    },
    {
     "name": "stderr",
     "output_type": "stream",
     "text": [
      " 72%|███████▏  | 35672/49737 [45:31<21:20, 10.99it/s]"
     ]
    },
    {
     "name": "stdout",
     "output_type": "stream",
     "text": [
      "0.01890412040721581\n",
      "no match for /home/chuongh/vm2m/data/HHM/synthesized/masks/32230/0.png\n"
     ]
    },
    {
     "name": "stderr",
     "output_type": "stream",
     "text": [
      " 72%|███████▏  | 35707/49737 [45:34<17:14, 13.56it/s]"
     ]
    },
    {
     "name": "stdout",
     "output_type": "stream",
     "text": [
      "0.21178469899937666\n",
      "no match for /home/chuongh/vm2m/data/HHM/synthesized/masks/29101/1.png\n"
     ]
    },
    {
     "name": "stderr",
     "output_type": "stream",
     "text": [
      " 72%|███████▏  | 35732/49737 [45:36<18:23, 12.69it/s]"
     ]
    },
    {
     "name": "stdout",
     "output_type": "stream",
     "text": [
      "0\n",
      "no match for /home/chuongh/vm2m/data/HHM/synthesized/masks/37661/0.png\n"
     ]
    },
    {
     "name": "stderr",
     "output_type": "stream",
     "text": [
      " 72%|███████▏  | 35741/49737 [45:36<17:52, 13.05it/s]"
     ]
    },
    {
     "name": "stdout",
     "output_type": "stream",
     "text": [
      "0.022309229108693637\n",
      "no match for /home/chuongh/vm2m/data/HHM/synthesized/masks/29544/1.png\n"
     ]
    },
    {
     "name": "stderr",
     "output_type": "stream",
     "text": [
      " 72%|███████▏  | 35749/49737 [45:37<20:33, 11.34it/s]"
     ]
    },
    {
     "name": "stdout",
     "output_type": "stream",
     "text": [
      "0.01594435124313265\n",
      "no match for /home/chuongh/vm2m/data/HHM/synthesized/masks/42378/1.png\n"
     ]
    },
    {
     "name": "stderr",
     "output_type": "stream",
     "text": [
      " 72%|███████▏  | 35764/49737 [45:38<15:01, 15.50it/s]"
     ]
    },
    {
     "name": "stdout",
     "output_type": "stream",
     "text": [
      "0.03754340987411122\n",
      "no match for /home/chuongh/vm2m/data/HHM/synthesized/masks/26386/0.png\n"
     ]
    },
    {
     "name": "stderr",
     "output_type": "stream",
     "text": [
      " 72%|███████▏  | 35776/49737 [45:39<19:09, 12.14it/s]"
     ]
    },
    {
     "name": "stdout",
     "output_type": "stream",
     "text": [
      "0.19787021917367673\n",
      "no match for /home/chuongh/vm2m/data/HHM/synthesized/masks/564/0.png\n",
      "0.01944805591264196\n",
      "no match for /home/chuongh/vm2m/data/HHM/synthesized/masks/42411/0.png\n"
     ]
    },
    {
     "name": "stderr",
     "output_type": "stream",
     "text": [
      " 72%|███████▏  | 35831/49737 [45:43<18:33, 12.49it/s]"
     ]
    },
    {
     "name": "stdout",
     "output_type": "stream",
     "text": [
      "0.29371633837706324\n",
      "no match for /home/chuongh/vm2m/data/HHM/synthesized/masks/16806/2.png\n"
     ]
    },
    {
     "name": "stderr",
     "output_type": "stream",
     "text": [
      " 72%|███████▏  | 35837/49737 [45:43<21:07, 10.97it/s]"
     ]
    },
    {
     "name": "stdout",
     "output_type": "stream",
     "text": [
      "0.003684756743137941\n",
      "no match for /home/chuongh/vm2m/data/HHM/synthesized/masks/16898/3.png\n"
     ]
    },
    {
     "name": "stderr",
     "output_type": "stream",
     "text": [
      " 72%|███████▏  | 35868/49737 [45:46<18:33, 12.45it/s]"
     ]
    },
    {
     "name": "stdout",
     "output_type": "stream",
     "text": [
      "0.025234540590661332\n",
      "no match for /home/chuongh/vm2m/data/HHM/synthesized/masks/36813/0.png\n",
      "0\n",
      "no match for /home/chuongh/vm2m/data/HHM/synthesized/masks/36813/2.png\n"
     ]
    },
    {
     "name": "stderr",
     "output_type": "stream",
     "text": [
      " 72%|███████▏  | 35894/49737 [45:48<18:20, 12.57it/s]"
     ]
    },
    {
     "name": "stdout",
     "output_type": "stream",
     "text": [
      "0.17133155206218317\n",
      "no match for /home/chuongh/vm2m/data/HHM/synthesized/masks/16959/1.png\n"
     ]
    },
    {
     "name": "stderr",
     "output_type": "stream",
     "text": [
      " 72%|███████▏  | 35906/49737 [45:49<16:51, 13.67it/s]"
     ]
    },
    {
     "name": "stdout",
     "output_type": "stream",
     "text": [
      "0.17412110832355135\n",
      "no match for /home/chuongh/vm2m/data/HHM/synthesized/masks/47269/0.png\n"
     ]
    },
    {
     "name": "stderr",
     "output_type": "stream",
     "text": [
      " 72%|███████▏  | 35939/49737 [45:51<15:21, 14.98it/s]"
     ]
    },
    {
     "name": "stdout",
     "output_type": "stream",
     "text": [
      "0.12891552352762828\n",
      "no match for /home/chuongh/vm2m/data/HHM/synthesized/masks/3564/0.png\n"
     ]
    },
    {
     "name": "stderr",
     "output_type": "stream",
     "text": [
      " 72%|███████▏  | 35941/49737 [45:52<17:22, 13.24it/s]"
     ]
    },
    {
     "name": "stdout",
     "output_type": "stream",
     "text": [
      "0.12165439778540994\n",
      "no match for /home/chuongh/vm2m/data/HHM/synthesized/masks/21220/1.png\n"
     ]
    },
    {
     "name": "stderr",
     "output_type": "stream",
     "text": [
      " 72%|███████▏  | 35995/49737 [45:56<17:54, 12.79it/s]"
     ]
    },
    {
     "name": "stdout",
     "output_type": "stream",
     "text": [
      "0.27433339709514737\n",
      "no match for /home/chuongh/vm2m/data/HHM/synthesized/masks/26685/1.png\n"
     ]
    },
    {
     "name": "stderr",
     "output_type": "stream",
     "text": [
      " 72%|███████▏  | 36008/49737 [45:56<15:34, 14.69it/s]"
     ]
    },
    {
     "name": "stdout",
     "output_type": "stream",
     "text": [
      "2.5970959744951078e-05\n",
      "no match for /home/chuongh/vm2m/data/HHM/synthesized/masks/28543/1.png\n"
     ]
    },
    {
     "name": "stderr",
     "output_type": "stream",
     "text": [
      " 72%|███████▏  | 36015/49737 [45:57<15:05, 15.15it/s]"
     ]
    },
    {
     "name": "stdout",
     "output_type": "stream",
     "text": [
      "0.28951194018436\n",
      "no match for /home/chuongh/vm2m/data/HHM/synthesized/masks/2748/1.png\n"
     ]
    },
    {
     "name": "stderr",
     "output_type": "stream",
     "text": [
      " 72%|███████▏  | 36021/49737 [45:57<13:54, 16.43it/s]"
     ]
    },
    {
     "name": "stdout",
     "output_type": "stream",
     "text": [
      "0\n",
      "no match for /home/chuongh/vm2m/data/HHM/synthesized/masks/28256/0.png\n"
     ]
    },
    {
     "name": "stderr",
     "output_type": "stream",
     "text": [
      " 72%|███████▏  | 36040/49737 [45:59<14:47, 15.43it/s]"
     ]
    },
    {
     "name": "stdout",
     "output_type": "stream",
     "text": [
      "0\n",
      "no match for /home/chuongh/vm2m/data/HHM/synthesized/masks/5535/0.png\n"
     ]
    },
    {
     "name": "stderr",
     "output_type": "stream",
     "text": [
      " 72%|███████▏  | 36049/49737 [45:59<15:56, 14.30it/s]"
     ]
    },
    {
     "name": "stdout",
     "output_type": "stream",
     "text": [
      "0.06684242342815214\n",
      "no match for /home/chuongh/vm2m/data/HHM/synthesized/masks/10367/1.png\n"
     ]
    },
    {
     "name": "stderr",
     "output_type": "stream",
     "text": [
      " 73%|███████▎  | 36061/49737 [46:00<20:19, 11.22it/s]"
     ]
    },
    {
     "name": "stdout",
     "output_type": "stream",
     "text": [
      "0.12047088256157855\n",
      "no match for /home/chuongh/vm2m/data/HHM/synthesized/masks/24173/0.png\n"
     ]
    },
    {
     "name": "stderr",
     "output_type": "stream",
     "text": [
      " 73%|███████▎  | 36121/49737 [46:05<15:29, 14.66it/s]"
     ]
    },
    {
     "name": "stdout",
     "output_type": "stream",
     "text": [
      "0.29084490497266796\n",
      "no match for /home/chuongh/vm2m/data/HHM/synthesized/masks/8031/0.png\n"
     ]
    },
    {
     "name": "stderr",
     "output_type": "stream",
     "text": [
      " 73%|███████▎  | 36133/49737 [46:06<16:37, 13.64it/s]"
     ]
    },
    {
     "name": "stdout",
     "output_type": "stream",
     "text": [
      "0.2882498199397935\n",
      "no match for /home/chuongh/vm2m/data/HHM/synthesized/masks/32694/1.png\n"
     ]
    },
    {
     "name": "stderr",
     "output_type": "stream",
     "text": [
      " 73%|███████▎  | 36175/49737 [46:09<12:59, 17.39it/s]"
     ]
    },
    {
     "name": "stdout",
     "output_type": "stream",
     "text": [
      "0\n",
      "no match for /home/chuongh/vm2m/data/HHM/synthesized/masks/12027/0.png\n"
     ]
    },
    {
     "name": "stderr",
     "output_type": "stream",
     "text": [
      " 73%|███████▎  | 36194/49737 [46:10<12:24, 18.20it/s]"
     ]
    },
    {
     "name": "stdout",
     "output_type": "stream",
     "text": [
      "0.27974286147756394\n",
      "no match for /home/chuongh/vm2m/data/HHM/synthesized/masks/37209/0.png\n"
     ]
    },
    {
     "name": "stderr",
     "output_type": "stream",
     "text": [
      " 73%|███████▎  | 36202/49737 [46:11<22:06, 10.20it/s]"
     ]
    },
    {
     "name": "stdout",
     "output_type": "stream",
     "text": [
      "0.03134488218303216\n",
      "no match for /home/chuongh/vm2m/data/HHM/synthesized/masks/41851/2.png\n"
     ]
    },
    {
     "name": "stderr",
     "output_type": "stream",
     "text": [
      " 73%|███████▎  | 36226/49737 [46:13<14:34, 15.46it/s]"
     ]
    },
    {
     "name": "stdout",
     "output_type": "stream",
     "text": [
      "0.2613222877313715\n",
      "no match for /home/chuongh/vm2m/data/HHM/synthesized/masks/39931/3.png\n"
     ]
    },
    {
     "name": "stderr",
     "output_type": "stream",
     "text": [
      " 73%|███████▎  | 36241/49737 [46:14<15:15, 14.75it/s]"
     ]
    },
    {
     "name": "stdout",
     "output_type": "stream",
     "text": [
      "0.043311342509854515\n",
      "no match for /home/chuongh/vm2m/data/HHM/synthesized/masks/4997/0.png\n"
     ]
    },
    {
     "name": "stderr",
     "output_type": "stream",
     "text": [
      " 73%|███████▎  | 36253/49737 [46:15<16:45, 13.41it/s]"
     ]
    },
    {
     "name": "stdout",
     "output_type": "stream",
     "text": [
      "0.20665584932047132\n",
      "no match for /home/chuongh/vm2m/data/HHM/synthesized/masks/13418/0.png\n"
     ]
    },
    {
     "name": "stderr",
     "output_type": "stream",
     "text": [
      " 73%|███████▎  | 36260/49737 [46:15<18:36, 12.07it/s]"
     ]
    },
    {
     "name": "stdout",
     "output_type": "stream",
     "text": [
      "0.008347215822468522\n",
      "no match for /home/chuongh/vm2m/data/HHM/synthesized/masks/18938/1.png\n"
     ]
    },
    {
     "name": "stderr",
     "output_type": "stream",
     "text": [
      " 73%|███████▎  | 36314/49737 [46:19<20:34, 10.88it/s]"
     ]
    },
    {
     "name": "stdout",
     "output_type": "stream",
     "text": [
      "0.28720132678769056\n",
      "no match for /home/chuongh/vm2m/data/HHM/synthesized/masks/41422/1.png\n"
     ]
    },
    {
     "name": "stderr",
     "output_type": "stream",
     "text": [
      " 73%|███████▎  | 36337/49737 [46:21<17:24, 12.83it/s]"
     ]
    },
    {
     "name": "stdout",
     "output_type": "stream",
     "text": [
      "0.19630919679469538\n",
      "no match for /home/chuongh/vm2m/data/HHM/synthesized/masks/29183/0.png\n",
      "0.2648715072584608\n",
      "no match for /home/chuongh/vm2m/data/HHM/synthesized/masks/3914/0.png\n"
     ]
    },
    {
     "name": "stderr",
     "output_type": "stream",
     "text": [
      " 73%|███████▎  | 36384/49737 [46:25<16:42, 13.32it/s]"
     ]
    },
    {
     "name": "stdout",
     "output_type": "stream",
     "text": [
      "0.011365606243820365\n",
      "no match for /home/chuongh/vm2m/data/HHM/synthesized/masks/42035/0.png\n"
     ]
    },
    {
     "name": "stderr",
     "output_type": "stream",
     "text": [
      " 73%|███████▎  | 36402/49737 [46:26<14:21, 15.48it/s]"
     ]
    },
    {
     "name": "stdout",
     "output_type": "stream",
     "text": [
      "0.00024866092730308484\n",
      "no match for /home/chuongh/vm2m/data/HHM/synthesized/masks/8959/0.png\n"
     ]
    },
    {
     "name": "stderr",
     "output_type": "stream",
     "text": [
      " 73%|███████▎  | 36420/49737 [46:28<21:20, 10.40it/s]"
     ]
    },
    {
     "name": "stdout",
     "output_type": "stream",
     "text": [
      "0.25976298814832505\n",
      "no match for /home/chuongh/vm2m/data/HHM/synthesized/masks/33855/0.png\n"
     ]
    },
    {
     "name": "stderr",
     "output_type": "stream",
     "text": [
      " 73%|███████▎  | 36450/49737 [46:30<13:42, 16.15it/s]"
     ]
    },
    {
     "name": "stdout",
     "output_type": "stream",
     "text": [
      "0.2981839360682392\n",
      "no match for /home/chuongh/vm2m/data/HHM/synthesized/masks/13050/0.png\n",
      "0.19671616855721868\n",
      "no match for /home/chuongh/vm2m/data/HHM/synthesized/masks/13050/1.png\n"
     ]
    },
    {
     "name": "stderr",
     "output_type": "stream",
     "text": [
      " 73%|███████▎  | 36474/49737 [46:31<13:41, 16.14it/s]"
     ]
    },
    {
     "name": "stdout",
     "output_type": "stream",
     "text": [
      "0.227402255900289\n",
      "no match for /home/chuongh/vm2m/data/HHM/synthesized/masks/13511/1.png\n"
     ]
    },
    {
     "name": "stderr",
     "output_type": "stream",
     "text": [
      " 73%|███████▎  | 36479/49737 [46:32<17:24, 12.69it/s]"
     ]
    },
    {
     "name": "stdout",
     "output_type": "stream",
     "text": [
      "0.27356841680647553\n",
      "no match for /home/chuongh/vm2m/data/HHM/synthesized/masks/25772/0.png\n"
     ]
    },
    {
     "name": "stderr",
     "output_type": "stream",
     "text": [
      " 74%|███████▎  | 36558/49737 [46:38<17:21, 12.66it/s]"
     ]
    },
    {
     "name": "stdout",
     "output_type": "stream",
     "text": [
      "0\n",
      "no match for /home/chuongh/vm2m/data/HHM/synthesized/masks/15868/0.png\n"
     ]
    },
    {
     "name": "stderr",
     "output_type": "stream",
     "text": [
      " 74%|███████▎  | 36587/49737 [46:40<16:46, 13.06it/s]"
     ]
    },
    {
     "name": "stdout",
     "output_type": "stream",
     "text": [
      "0.264188694249747\n",
      "no match for /home/chuongh/vm2m/data/HHM/synthesized/masks/41415/1.png\n"
     ]
    },
    {
     "name": "stderr",
     "output_type": "stream",
     "text": [
      " 74%|███████▎  | 36612/49737 [46:42<14:37, 14.96it/s]"
     ]
    },
    {
     "name": "stdout",
     "output_type": "stream",
     "text": [
      "0\n",
      "no match for /home/chuongh/vm2m/data/HHM/synthesized/masks/7046/1.png\n"
     ]
    },
    {
     "name": "stderr",
     "output_type": "stream",
     "text": [
      " 74%|███████▎  | 36618/49737 [46:42<11:47, 18.54it/s]"
     ]
    },
    {
     "name": "stdout",
     "output_type": "stream",
     "text": [
      "0.04858255484543211\n",
      "no match for /home/chuongh/vm2m/data/HHM/synthesized/masks/8416/1.png\n"
     ]
    },
    {
     "name": "stderr",
     "output_type": "stream",
     "text": [
      " 74%|███████▎  | 36632/49737 [46:43<15:48, 13.81it/s]"
     ]
    },
    {
     "name": "stdout",
     "output_type": "stream",
     "text": [
      "0.011417979166575807\n",
      "no match for /home/chuongh/vm2m/data/HHM/synthesized/masks/33480/2.png\n"
     ]
    },
    {
     "name": "stderr",
     "output_type": "stream",
     "text": [
      " 74%|███████▎  | 36654/49737 [46:45<15:33, 14.02it/s]"
     ]
    },
    {
     "name": "stdout",
     "output_type": "stream",
     "text": [
      "0.09314469817864185\n",
      "no match for /home/chuongh/vm2m/data/HHM/synthesized/masks/36631/0.png\n"
     ]
    },
    {
     "name": "stderr",
     "output_type": "stream",
     "text": [
      " 74%|███████▍  | 36710/49737 [46:48<13:39, 15.89it/s]"
     ]
    },
    {
     "name": "stdout",
     "output_type": "stream",
     "text": [
      "0\n",
      "no match for /home/chuongh/vm2m/data/HHM/synthesized/masks/9399/0.png\n"
     ]
    },
    {
     "name": "stderr",
     "output_type": "stream",
     "text": [
      " 74%|███████▍  | 36720/49737 [46:49<13:13, 16.40it/s]"
     ]
    },
    {
     "name": "stdout",
     "output_type": "stream",
     "text": [
      "0.0032104391052062533\n",
      "no match for /home/chuongh/vm2m/data/HHM/synthesized/masks/8687/0.png\n",
      "0\n",
      "no match for /home/chuongh/vm2m/data/HHM/synthesized/masks/30128/0.png\n"
     ]
    },
    {
     "name": "stderr",
     "output_type": "stream",
     "text": [
      " 74%|███████▍  | 36764/49737 [46:52<14:25, 14.99it/s]"
     ]
    },
    {
     "name": "stdout",
     "output_type": "stream",
     "text": [
      "0.12850337096669068\n",
      "no match for /home/chuongh/vm2m/data/HHM/synthesized/masks/12928/1.png\n"
     ]
    },
    {
     "name": "stderr",
     "output_type": "stream",
     "text": [
      " 74%|███████▍  | 36776/49737 [46:53<18:56, 11.40it/s]"
     ]
    },
    {
     "name": "stdout",
     "output_type": "stream",
     "text": [
      "0\n",
      "no match for /home/chuongh/vm2m/data/HHM/synthesized/masks/2116/3.png\n"
     ]
    },
    {
     "name": "stderr",
     "output_type": "stream",
     "text": [
      " 74%|███████▍  | 36781/49737 [46:54<14:41, 14.70it/s]"
     ]
    },
    {
     "name": "stdout",
     "output_type": "stream",
     "text": [
      "0.00045244046386116223\n",
      "no match for /home/chuongh/vm2m/data/HHM/synthesized/masks/31827/0.png\n",
      "0.03932981055361186\n",
      "no match for /home/chuongh/vm2m/data/HHM/synthesized/masks/30959/0.png\n"
     ]
    },
    {
     "name": "stderr",
     "output_type": "stream",
     "text": [
      " 74%|███████▍  | 36825/49737 [46:56<11:17, 19.06it/s]"
     ]
    },
    {
     "name": "stdout",
     "output_type": "stream",
     "text": [
      "0\n",
      "no match for /home/chuongh/vm2m/data/HHM/synthesized/masks/37932/0.png\n"
     ]
    },
    {
     "name": "stderr",
     "output_type": "stream",
     "text": [
      " 74%|███████▍  | 36864/49737 [47:00<15:28, 13.87it/s]"
     ]
    },
    {
     "name": "stdout",
     "output_type": "stream",
     "text": [
      "0.002972653092877962\n",
      "no match for /home/chuongh/vm2m/data/HHM/synthesized/masks/27511/0.png\n"
     ]
    },
    {
     "name": "stderr",
     "output_type": "stream",
     "text": [
      " 74%|███████▍  | 36877/49737 [47:01<15:37, 13.71it/s]"
     ]
    },
    {
     "name": "stdout",
     "output_type": "stream",
     "text": [
      "0\n",
      "no match for /home/chuongh/vm2m/data/HHM/synthesized/masks/17206/0.png\n"
     ]
    },
    {
     "name": "stderr",
     "output_type": "stream",
     "text": [
      " 74%|███████▍  | 36899/49737 [47:02<14:02, 15.23it/s]"
     ]
    },
    {
     "name": "stdout",
     "output_type": "stream",
     "text": [
      "0.0327717111829703\n",
      "no match for /home/chuongh/vm2m/data/HHM/synthesized/masks/44007/2.png\n"
     ]
    },
    {
     "name": "stderr",
     "output_type": "stream",
     "text": [
      " 74%|███████▍  | 36920/49737 [47:03<11:01, 19.37it/s]"
     ]
    },
    {
     "name": "stdout",
     "output_type": "stream",
     "text": [
      "0.2268146627310261\n",
      "no match for /home/chuongh/vm2m/data/HHM/synthesized/masks/46643/0.png\n"
     ]
    },
    {
     "name": "stderr",
     "output_type": "stream",
     "text": [
      " 74%|███████▍  | 36971/49737 [47:07<12:51, 16.56it/s]"
     ]
    },
    {
     "name": "stdout",
     "output_type": "stream",
     "text": [
      "0.02666015222591768\n",
      "no match for /home/chuongh/vm2m/data/HHM/synthesized/masks/1159/0.png\n"
     ]
    },
    {
     "name": "stderr",
     "output_type": "stream",
     "text": [
      " 74%|███████▍  | 37007/49737 [47:09<12:48, 16.57it/s]"
     ]
    },
    {
     "name": "stdout",
     "output_type": "stream",
     "text": [
      "0.03698642426308391\n",
      "no match for /home/chuongh/vm2m/data/HHM/synthesized/masks/36368/1.png\n"
     ]
    },
    {
     "name": "stderr",
     "output_type": "stream",
     "text": [
      " 74%|███████▍  | 37042/49737 [47:12<12:22, 17.10it/s]"
     ]
    },
    {
     "name": "stdout",
     "output_type": "stream",
     "text": [
      "0\n",
      "no match for /home/chuongh/vm2m/data/HHM/synthesized/masks/7161/0.png\n"
     ]
    },
    {
     "name": "stderr",
     "output_type": "stream",
     "text": [
      " 75%|███████▍  | 37062/49737 [47:13<14:27, 14.62it/s]"
     ]
    },
    {
     "name": "stdout",
     "output_type": "stream",
     "text": [
      "0.17708768754316162\n",
      "no match for /home/chuongh/vm2m/data/HHM/synthesized/masks/38862/0.png\n"
     ]
    },
    {
     "name": "stderr",
     "output_type": "stream",
     "text": [
      " 75%|███████▍  | 37071/49737 [47:14<15:33, 13.57it/s]"
     ]
    },
    {
     "name": "stdout",
     "output_type": "stream",
     "text": [
      "0.15533195863220453\n",
      "no match for /home/chuongh/vm2m/data/HHM/synthesized/masks/2586/0.png\n",
      "0.23681030551485627\n",
      "no match for /home/chuongh/vm2m/data/HHM/synthesized/masks/2586/1.png\n"
     ]
    },
    {
     "name": "stderr",
     "output_type": "stream",
     "text": [
      " 75%|███████▍  | 37155/49737 [47:20<15:54, 13.18it/s]"
     ]
    },
    {
     "name": "stdout",
     "output_type": "stream",
     "text": [
      "0.0765397765104651\n",
      "no match for /home/chuongh/vm2m/data/HHM/synthesized/masks/46648/0.png\n"
     ]
    },
    {
     "name": "stderr",
     "output_type": "stream",
     "text": [
      " 75%|███████▍  | 37163/49737 [47:21<14:52, 14.08it/s]"
     ]
    },
    {
     "name": "stdout",
     "output_type": "stream",
     "text": [
      "0.12653201510725492\n",
      "no match for /home/chuongh/vm2m/data/HHM/synthesized/masks/48405/2.png\n"
     ]
    },
    {
     "name": "stderr",
     "output_type": "stream",
     "text": [
      " 75%|███████▍  | 37169/49737 [47:21<13:40, 15.31it/s]"
     ]
    },
    {
     "name": "stdout",
     "output_type": "stream",
     "text": [
      "0.001426321110330537\n",
      "no match for /home/chuongh/vm2m/data/HHM/synthesized/masks/16904/2.png\n"
     ]
    },
    {
     "name": "stderr",
     "output_type": "stream",
     "text": [
      " 75%|███████▍  | 37183/49737 [47:22<16:21, 12.79it/s]"
     ]
    },
    {
     "name": "stdout",
     "output_type": "stream",
     "text": [
      "0.12382456035795966\n",
      "no match for /home/chuongh/vm2m/data/HHM/synthesized/masks/26328/0.png\n"
     ]
    },
    {
     "name": "stderr",
     "output_type": "stream",
     "text": [
      " 75%|███████▍  | 37205/49737 [47:24<16:53, 12.37it/s]"
     ]
    },
    {
     "name": "stdout",
     "output_type": "stream",
     "text": [
      "0.2645132594420587\n",
      "no match for /home/chuongh/vm2m/data/HHM/synthesized/masks/15682/1.png\n"
     ]
    },
    {
     "name": "stderr",
     "output_type": "stream",
     "text": [
      " 75%|███████▍  | 37260/49737 [47:29<19:00, 10.94it/s]"
     ]
    },
    {
     "name": "stdout",
     "output_type": "stream",
     "text": [
      "0.09039548022579941\n",
      "no match for /home/chuongh/vm2m/data/HHM/synthesized/masks/45144/2.png\n"
     ]
    },
    {
     "name": "stderr",
     "output_type": "stream",
     "text": [
      " 75%|███████▍  | 37264/49737 [47:29<16:55, 12.29it/s]"
     ]
    },
    {
     "name": "stdout",
     "output_type": "stream",
     "text": [
      "0.05858749111762575\n",
      "no match for /home/chuongh/vm2m/data/HHM/synthesized/masks/42958/2.png\n"
     ]
    },
    {
     "name": "stderr",
     "output_type": "stream",
     "text": [
      " 75%|███████▍  | 37291/49737 [47:31<19:17, 10.75it/s]"
     ]
    },
    {
     "name": "stdout",
     "output_type": "stream",
     "text": [
      "0.015173650857302603\n",
      "no match for /home/chuongh/vm2m/data/HHM/synthesized/masks/48774/0.png\n"
     ]
    },
    {
     "name": "stderr",
     "output_type": "stream",
     "text": [
      " 75%|███████▌  | 37315/49737 [47:33<16:08, 12.82it/s]"
     ]
    },
    {
     "name": "stdout",
     "output_type": "stream",
     "text": [
      "0.028961919121546626\n",
      "no match for /home/chuongh/vm2m/data/HHM/synthesized/masks/40442/0.png\n"
     ]
    },
    {
     "name": "stderr",
     "output_type": "stream",
     "text": [
      " 75%|███████▌  | 37321/49737 [47:34<15:44, 13.15it/s]"
     ]
    },
    {
     "name": "stdout",
     "output_type": "stream",
     "text": [
      "0.22862144105985455\n",
      "no match for /home/chuongh/vm2m/data/HHM/synthesized/masks/37585/0.png\n"
     ]
    },
    {
     "name": "stderr",
     "output_type": "stream",
     "text": [
      " 75%|███████▌  | 37350/49737 [47:36<15:18, 13.48it/s]"
     ]
    },
    {
     "name": "stdout",
     "output_type": "stream",
     "text": [
      "0.08625381941384357\n",
      "no match for /home/chuongh/vm2m/data/HHM/synthesized/masks/21244/2.png\n"
     ]
    },
    {
     "name": "stderr",
     "output_type": "stream",
     "text": [
      " 75%|███████▌  | 37371/49737 [47:38<18:46, 10.97it/s]"
     ]
    },
    {
     "name": "stdout",
     "output_type": "stream",
     "text": [
      "0.13871501829662441\n",
      "no match for /home/chuongh/vm2m/data/HHM/synthesized/masks/38144/0.png\n"
     ]
    },
    {
     "name": "stderr",
     "output_type": "stream",
     "text": [
      " 75%|███████▌  | 37389/49737 [47:39<14:09, 14.53it/s]"
     ]
    },
    {
     "name": "stdout",
     "output_type": "stream",
     "text": [
      "0.04430935748602576\n",
      "no match for /home/chuongh/vm2m/data/HHM/synthesized/masks/2472/0.png\n"
     ]
    },
    {
     "name": "stderr",
     "output_type": "stream",
     "text": [
      " 75%|███████▌  | 37393/49737 [47:39<14:41, 14.00it/s]"
     ]
    },
    {
     "name": "stdout",
     "output_type": "stream",
     "text": [
      "0.19538408692828332\n",
      "no match for /home/chuongh/vm2m/data/HHM/synthesized/masks/14824/0.png\n"
     ]
    },
    {
     "name": "stderr",
     "output_type": "stream",
     "text": [
      " 75%|███████▌  | 37399/49737 [47:40<16:32, 12.43it/s]"
     ]
    },
    {
     "name": "stdout",
     "output_type": "stream",
     "text": [
      "0\n",
      "no match for /home/chuongh/vm2m/data/HHM/synthesized/masks/44818/0.png\n"
     ]
    },
    {
     "name": "stderr",
     "output_type": "stream",
     "text": [
      " 75%|███████▌  | 37422/49737 [47:41<13:39, 15.02it/s]"
     ]
    },
    {
     "name": "stdout",
     "output_type": "stream",
     "text": [
      "0.12355030652700405\n",
      "no match for /home/chuongh/vm2m/data/HHM/synthesized/masks/44662/1.png\n"
     ]
    },
    {
     "name": "stderr",
     "output_type": "stream",
     "text": [
      " 75%|███████▌  | 37434/49737 [47:42<09:27, 21.66it/s]"
     ]
    },
    {
     "name": "stdout",
     "output_type": "stream",
     "text": [
      "0.1531868431382152\n",
      "no match for /home/chuongh/vm2m/data/HHM/synthesized/masks/20922/0.png\n",
      "0.13249918102382385\n",
      "no match for /home/chuongh/vm2m/data/HHM/synthesized/masks/14668/0.png\n"
     ]
    },
    {
     "name": "stderr",
     "output_type": "stream",
     "text": [
      " 75%|███████▌  | 37440/49737 [47:42<12:04, 16.98it/s]"
     ]
    },
    {
     "name": "stdout",
     "output_type": "stream",
     "text": [
      "0.04223795958564682\n",
      "no match for /home/chuongh/vm2m/data/HHM/synthesized/masks/45734/0.png\n"
     ]
    },
    {
     "name": "stderr",
     "output_type": "stream",
     "text": [
      " 75%|███████▌  | 37444/49737 [47:43<16:05, 12.73it/s]"
     ]
    },
    {
     "name": "stdout",
     "output_type": "stream",
     "text": [
      "0.04111133436012654\n",
      "no match for /home/chuongh/vm2m/data/HHM/synthesized/masks/1856/0.png\n"
     ]
    },
    {
     "name": "stderr",
     "output_type": "stream",
     "text": [
      " 75%|███████▌  | 37454/49737 [47:44<17:40, 11.58it/s]"
     ]
    },
    {
     "name": "stdout",
     "output_type": "stream",
     "text": [
      "0.2995508848295724\n",
      "no match for /home/chuongh/vm2m/data/HHM/synthesized/masks/7493/0.png\n"
     ]
    },
    {
     "name": "stderr",
     "output_type": "stream",
     "text": [
      " 75%|███████▌  | 37482/49737 [47:46<15:15, 13.39it/s]"
     ]
    },
    {
     "name": "stdout",
     "output_type": "stream",
     "text": [
      "0.18034888992614112\n",
      "no match for /home/chuongh/vm2m/data/HHM/synthesized/masks/49647/2.png\n"
     ]
    },
    {
     "name": "stderr",
     "output_type": "stream",
     "text": [
      " 75%|███████▌  | 37486/49737 [47:46<17:54, 11.40it/s]"
     ]
    },
    {
     "name": "stdout",
     "output_type": "stream",
     "text": [
      "0.21726129550945122\n",
      "no match for /home/chuongh/vm2m/data/HHM/synthesized/masks/18706/2.png\n"
     ]
    },
    {
     "name": "stderr",
     "output_type": "stream",
     "text": [
      " 75%|███████▌  | 37498/49737 [47:47<18:28, 11.04it/s]"
     ]
    },
    {
     "name": "stdout",
     "output_type": "stream",
     "text": [
      "0.012452462828186036\n",
      "no match for /home/chuongh/vm2m/data/HHM/synthesized/masks/37068/1.png\n"
     ]
    },
    {
     "name": "stderr",
     "output_type": "stream",
     "text": [
      " 75%|███████▌  | 37528/49737 [47:50<14:16, 14.25it/s]"
     ]
    },
    {
     "name": "stdout",
     "output_type": "stream",
     "text": [
      "0.014936105478604978\n",
      "no match for /home/chuongh/vm2m/data/HHM/synthesized/masks/40/2.png\n"
     ]
    },
    {
     "name": "stderr",
     "output_type": "stream",
     "text": [
      " 75%|███████▌  | 37534/49737 [47:50<15:51, 12.82it/s]"
     ]
    },
    {
     "name": "stdout",
     "output_type": "stream",
     "text": [
      "0\n",
      "no match for /home/chuongh/vm2m/data/HHM/synthesized/masks/23744/2.png\n"
     ]
    },
    {
     "name": "stderr",
     "output_type": "stream",
     "text": [
      " 75%|███████▌  | 37547/49737 [47:51<13:03, 15.56it/s]"
     ]
    },
    {
     "name": "stdout",
     "output_type": "stream",
     "text": [
      "0.008334867702755032\n",
      "no match for /home/chuongh/vm2m/data/HHM/synthesized/masks/17287/1.png\n",
      "0.08439050318906136\n",
      "no match for /home/chuongh/vm2m/data/HHM/synthesized/masks/38316/1.png\n"
     ]
    },
    {
     "name": "stderr",
     "output_type": "stream",
     "text": [
      " 76%|███████▌  | 37556/49737 [47:52<13:33, 14.98it/s]"
     ]
    },
    {
     "name": "stdout",
     "output_type": "stream",
     "text": [
      "0.2692048650997208\n",
      "no match for /home/chuongh/vm2m/data/HHM/synthesized/masks/17465/2.png\n"
     ]
    },
    {
     "name": "stderr",
     "output_type": "stream",
     "text": [
      " 76%|███████▌  | 37572/49737 [47:53<13:11, 15.38it/s]"
     ]
    },
    {
     "name": "stdout",
     "output_type": "stream",
     "text": [
      "0.012639865357393257\n",
      "no match for /home/chuongh/vm2m/data/HHM/synthesized/masks/10190/0.png\n"
     ]
    },
    {
     "name": "stderr",
     "output_type": "stream",
     "text": [
      " 76%|███████▌  | 37587/49737 [47:54<17:02, 11.88it/s]"
     ]
    },
    {
     "name": "stdout",
     "output_type": "stream",
     "text": [
      "0.1429293589076874\n",
      "no match for /home/chuongh/vm2m/data/HHM/synthesized/masks/11140/0.png\n"
     ]
    },
    {
     "name": "stderr",
     "output_type": "stream",
     "text": [
      " 76%|███████▌  | 37593/49737 [47:55<19:33, 10.35it/s]"
     ]
    },
    {
     "name": "stdout",
     "output_type": "stream",
     "text": [
      "0.04733842140849027\n",
      "no match for /home/chuongh/vm2m/data/HHM/synthesized/masks/15279/0.png\n",
      "0.03447759068999024\n",
      "no match for /home/chuongh/vm2m/data/HHM/synthesized/masks/47987/0.png\n"
     ]
    },
    {
     "name": "stderr",
     "output_type": "stream",
     "text": [
      " 76%|███████▌  | 37598/49737 [47:55<16:21, 12.37it/s]"
     ]
    },
    {
     "name": "stdout",
     "output_type": "stream",
     "text": [
      "0.2715318488719299\n",
      "no match for /home/chuongh/vm2m/data/HHM/synthesized/masks/4055/0.png\n"
     ]
    },
    {
     "name": "stderr",
     "output_type": "stream",
     "text": [
      " 76%|███████▌  | 37621/49737 [47:57<12:08, 16.63it/s]"
     ]
    },
    {
     "name": "stdout",
     "output_type": "stream",
     "text": [
      "0\n",
      "no match for /home/chuongh/vm2m/data/HHM/synthesized/masks/24668/0.png\n"
     ]
    },
    {
     "name": "stderr",
     "output_type": "stream",
     "text": [
      " 76%|███████▌  | 37629/49737 [47:57<14:48, 13.63it/s]"
     ]
    },
    {
     "name": "stdout",
     "output_type": "stream",
     "text": [
      "0\n",
      "no match for /home/chuongh/vm2m/data/HHM/synthesized/masks/1867/0.png\n"
     ]
    },
    {
     "name": "stderr",
     "output_type": "stream",
     "text": [
      " 76%|███████▌  | 37646/49737 [47:59<17:14, 11.69it/s]"
     ]
    },
    {
     "name": "stdout",
     "output_type": "stream",
     "text": [
      "0.13605333899216165\n",
      "no match for /home/chuongh/vm2m/data/HHM/synthesized/masks/21143/2.png\n"
     ]
    },
    {
     "name": "stderr",
     "output_type": "stream",
     "text": [
      " 76%|███████▌  | 37681/49737 [48:02<20:09,  9.97it/s]"
     ]
    },
    {
     "name": "stdout",
     "output_type": "stream",
     "text": [
      "0.2171384774049383\n",
      "no match for /home/chuongh/vm2m/data/HHM/synthesized/masks/3652/2.png\n"
     ]
    },
    {
     "name": "stderr",
     "output_type": "stream",
     "text": [
      " 76%|███████▌  | 37688/49737 [48:02<17:13, 11.66it/s]"
     ]
    },
    {
     "name": "stdout",
     "output_type": "stream",
     "text": [
      "0.2254104066472046\n",
      "no match for /home/chuongh/vm2m/data/HHM/synthesized/masks/6089/0.png\n",
      "0.20277991522894703\n",
      "no match for /home/chuongh/vm2m/data/HHM/synthesized/masks/210/2.png\n"
     ]
    },
    {
     "name": "stderr",
     "output_type": "stream",
     "text": [
      " 76%|███████▌  | 37704/49737 [48:03<12:12, 16.42it/s]"
     ]
    },
    {
     "name": "stdout",
     "output_type": "stream",
     "text": [
      "0.001337469053238845\n",
      "no match for /home/chuongh/vm2m/data/HHM/synthesized/masks/4013/0.png\n",
      "0.26784668633971487\n",
      "no match for /home/chuongh/vm2m/data/HHM/synthesized/masks/15327/2.png\n"
     ]
    },
    {
     "name": "stderr",
     "output_type": "stream",
     "text": [
      " 76%|███████▌  | 37710/49737 [48:04<13:10, 15.21it/s]"
     ]
    },
    {
     "name": "stdout",
     "output_type": "stream",
     "text": [
      "0.054924350269714775\n",
      "no match for /home/chuongh/vm2m/data/HHM/synthesized/masks/9484/2.png\n"
     ]
    },
    {
     "name": "stderr",
     "output_type": "stream",
     "text": [
      " 76%|███████▌  | 37743/49737 [48:07<15:50, 12.62it/s]"
     ]
    },
    {
     "name": "stdout",
     "output_type": "stream",
     "text": [
      "0.26200852880029235\n",
      "no match for /home/chuongh/vm2m/data/HHM/synthesized/masks/45833/0.png\n"
     ]
    },
    {
     "name": "stderr",
     "output_type": "stream",
     "text": [
      " 76%|███████▌  | 37750/49737 [48:07<13:08, 15.21it/s]"
     ]
    },
    {
     "name": "stdout",
     "output_type": "stream",
     "text": [
      "0.003891463168924008\n",
      "no match for /home/chuongh/vm2m/data/HHM/synthesized/masks/13373/1.png\n"
     ]
    },
    {
     "name": "stderr",
     "output_type": "stream",
     "text": [
      " 76%|███████▌  | 37788/49737 [48:10<16:41, 11.93it/s]"
     ]
    },
    {
     "name": "stdout",
     "output_type": "stream",
     "text": [
      "0.054945919307473466\n",
      "no match for /home/chuongh/vm2m/data/HHM/synthesized/masks/48301/0.png\n"
     ]
    },
    {
     "name": "stderr",
     "output_type": "stream",
     "text": [
      " 76%|███████▌  | 37816/49737 [48:12<12:50, 15.47it/s]"
     ]
    },
    {
     "name": "stdout",
     "output_type": "stream",
     "text": [
      "0.0485350020294317\n",
      "no match for /home/chuongh/vm2m/data/HHM/synthesized/masks/24423/1.png\n"
     ]
    },
    {
     "name": "stderr",
     "output_type": "stream",
     "text": [
      " 76%|███████▌  | 37827/49737 [48:13<14:05, 14.08it/s]"
     ]
    },
    {
     "name": "stdout",
     "output_type": "stream",
     "text": [
      "0.09519815042074321\n",
      "no match for /home/chuongh/vm2m/data/HHM/synthesized/masks/25333/2.png\n"
     ]
    },
    {
     "name": "stderr",
     "output_type": "stream",
     "text": [
      " 76%|███████▌  | 37840/49737 [48:14<16:23, 12.09it/s]"
     ]
    },
    {
     "name": "stdout",
     "output_type": "stream",
     "text": [
      "0.00018187221923990306\n",
      "no match for /home/chuongh/vm2m/data/HHM/synthesized/masks/35293/1.png\n"
     ]
    },
    {
     "name": "stderr",
     "output_type": "stream",
     "text": [
      " 76%|███████▌  | 37848/49737 [48:15<17:18, 11.45it/s]"
     ]
    },
    {
     "name": "stdout",
     "output_type": "stream",
     "text": [
      "0.19465343535508736\n",
      "no match for /home/chuongh/vm2m/data/HHM/synthesized/masks/21994/1.png\n"
     ]
    },
    {
     "name": "stderr",
     "output_type": "stream",
     "text": [
      " 76%|███████▋  | 37930/49737 [48:21<19:01, 10.34it/s]"
     ]
    },
    {
     "name": "stdout",
     "output_type": "stream",
     "text": [
      "0.28667556534004335\n",
      "no match for /home/chuongh/vm2m/data/HHM/synthesized/masks/7448/1.png\n"
     ]
    },
    {
     "name": "stderr",
     "output_type": "stream",
     "text": [
      " 76%|███████▋  | 37934/49737 [48:22<19:50,  9.92it/s]"
     ]
    },
    {
     "name": "stdout",
     "output_type": "stream",
     "text": [
      "0.11578026132172088\n",
      "no match for /home/chuongh/vm2m/data/HHM/synthesized/masks/11807/1.png\n"
     ]
    },
    {
     "name": "stderr",
     "output_type": "stream",
     "text": [
      " 76%|███████▋  | 37949/49737 [48:23<17:56, 10.96it/s]"
     ]
    },
    {
     "name": "stdout",
     "output_type": "stream",
     "text": [
      "0.03544103053949641\n",
      "no match for /home/chuongh/vm2m/data/HHM/synthesized/masks/23006/1.png\n"
     ]
    },
    {
     "name": "stderr",
     "output_type": "stream",
     "text": [
      " 76%|███████▋  | 37996/49737 [48:27<16:00, 12.23it/s]"
     ]
    },
    {
     "name": "stdout",
     "output_type": "stream",
     "text": [
      "0.2632075418720397\n",
      "no match for /home/chuongh/vm2m/data/HHM/synthesized/masks/25775/0.png\n"
     ]
    },
    {
     "name": "stderr",
     "output_type": "stream",
     "text": [
      " 77%|███████▋  | 38119/49737 [48:37<12:29, 15.50it/s]"
     ]
    },
    {
     "name": "stdout",
     "output_type": "stream",
     "text": [
      "0.19204175469071197\n",
      "no match for /home/chuongh/vm2m/data/HHM/synthesized/masks/44562/1.png\n"
     ]
    },
    {
     "name": "stderr",
     "output_type": "stream",
     "text": [
      " 77%|███████▋  | 38134/49737 [48:38<11:14, 17.19it/s]"
     ]
    },
    {
     "name": "stdout",
     "output_type": "stream",
     "text": [
      "0.11413219271034176\n",
      "no match for /home/chuongh/vm2m/data/HHM/synthesized/masks/12311/0.png\n"
     ]
    },
    {
     "name": "stderr",
     "output_type": "stream",
     "text": [
      " 77%|███████▋  | 38144/49737 [48:39<14:49, 13.03it/s]"
     ]
    },
    {
     "name": "stdout",
     "output_type": "stream",
     "text": [
      "0.024442312194875367\n",
      "no match for /home/chuongh/vm2m/data/HHM/synthesized/masks/2307/0.png\n",
      "0\n",
      "no match for /home/chuongh/vm2m/data/HHM/synthesized/masks/46229/1.png\n"
     ]
    },
    {
     "name": "stderr",
     "output_type": "stream",
     "text": [
      " 77%|███████▋  | 38181/49737 [48:42<12:50, 15.01it/s]"
     ]
    },
    {
     "name": "stdout",
     "output_type": "stream",
     "text": [
      "0.008712415073894668\n",
      "no match for /home/chuongh/vm2m/data/HHM/synthesized/masks/47097/3.png\n"
     ]
    },
    {
     "name": "stderr",
     "output_type": "stream",
     "text": [
      " 77%|███████▋  | 38201/49737 [48:43<14:35, 13.17it/s]"
     ]
    },
    {
     "name": "stdout",
     "output_type": "stream",
     "text": [
      "0.28123190497383604\n",
      "no match for /home/chuongh/vm2m/data/HHM/synthesized/masks/22360/2.png\n",
      "0\n",
      "no match for /home/chuongh/vm2m/data/HHM/synthesized/masks/1014/1.png\n"
     ]
    },
    {
     "name": "stderr",
     "output_type": "stream",
     "text": [
      " 77%|███████▋  | 38313/49737 [48:52<10:33, 18.02it/s]"
     ]
    },
    {
     "name": "stdout",
     "output_type": "stream",
     "text": [
      "0.0014238731178951862\n",
      "no match for /home/chuongh/vm2m/data/HHM/synthesized/masks/6869/2.png\n"
     ]
    },
    {
     "name": "stderr",
     "output_type": "stream",
     "text": [
      " 77%|███████▋  | 38323/49737 [48:52<12:23, 15.35it/s]"
     ]
    },
    {
     "name": "stdout",
     "output_type": "stream",
     "text": [
      "0.19718887809590332\n",
      "no match for /home/chuongh/vm2m/data/HHM/synthesized/masks/44246/3.png\n"
     ]
    },
    {
     "name": "stderr",
     "output_type": "stream",
     "text": [
      " 77%|███████▋  | 38332/49737 [48:53<16:06, 11.80it/s]"
     ]
    },
    {
     "name": "stdout",
     "output_type": "stream",
     "text": [
      "0.07876669579296706\n",
      "no match for /home/chuongh/vm2m/data/HHM/synthesized/masks/47654/2.png\n",
      "0.015074150245986316\n",
      "no match for /home/chuongh/vm2m/data/HHM/synthesized/masks/13604/0.png\n"
     ]
    },
    {
     "name": "stderr",
     "output_type": "stream",
     "text": [
      " 77%|███████▋  | 38345/49737 [48:54<13:38, 13.91it/s]"
     ]
    },
    {
     "name": "stdout",
     "output_type": "stream",
     "text": [
      "0.03496751928535329\n",
      "no match for /home/chuongh/vm2m/data/HHM/synthesized/masks/49837/0.png\n",
      "0.2902947317404447\n",
      "no match for /home/chuongh/vm2m/data/HHM/synthesized/masks/5709/1.png\n"
     ]
    },
    {
     "name": "stderr",
     "output_type": "stream",
     "text": [
      " 77%|███████▋  | 38378/49737 [48:56<14:25, 13.12it/s]"
     ]
    },
    {
     "name": "stdout",
     "output_type": "stream",
     "text": [
      "0.27263743832111925\n",
      "no match for /home/chuongh/vm2m/data/HHM/synthesized/masks/44509/1.png\n"
     ]
    },
    {
     "name": "stderr",
     "output_type": "stream",
     "text": [
      " 77%|███████▋  | 38387/49737 [48:57<15:32, 12.18it/s]"
     ]
    },
    {
     "name": "stdout",
     "output_type": "stream",
     "text": [
      "0.13373764615850342\n",
      "no match for /home/chuongh/vm2m/data/HHM/synthesized/masks/44724/1.png\n"
     ]
    },
    {
     "name": "stderr",
     "output_type": "stream",
     "text": [
      " 77%|███████▋  | 38417/49737 [48:59<15:06, 12.49it/s]"
     ]
    },
    {
     "name": "stdout",
     "output_type": "stream",
     "text": [
      "4.596200780413767e-05\n",
      "no match for /home/chuongh/vm2m/data/HHM/synthesized/masks/46165/1.png\n"
     ]
    },
    {
     "name": "stderr",
     "output_type": "stream",
     "text": [
      " 77%|███████▋  | 38421/49737 [49:00<16:24, 11.49it/s]"
     ]
    },
    {
     "name": "stdout",
     "output_type": "stream",
     "text": [
      "0.1409452831956935\n",
      "no match for /home/chuongh/vm2m/data/HHM/synthesized/masks/47812/2.png\n"
     ]
    },
    {
     "name": "stderr",
     "output_type": "stream",
     "text": [
      " 77%|███████▋  | 38441/49737 [49:01<14:39, 12.85it/s]"
     ]
    },
    {
     "name": "stdout",
     "output_type": "stream",
     "text": [
      "0.2621578732359266\n",
      "no match for /home/chuongh/vm2m/data/HHM/synthesized/masks/14452/1.png\n"
     ]
    },
    {
     "name": "stderr",
     "output_type": "stream",
     "text": [
      " 77%|███████▋  | 38518/49737 [49:08<15:40, 11.93it/s]"
     ]
    },
    {
     "name": "stdout",
     "output_type": "stream",
     "text": [
      "0.007719477937336116\n",
      "no match for /home/chuongh/vm2m/data/HHM/synthesized/masks/34332/1.png\n"
     ]
    },
    {
     "name": "stderr",
     "output_type": "stream",
     "text": [
      " 78%|███████▊  | 38583/49737 [49:12<13:04, 14.22it/s]"
     ]
    },
    {
     "name": "stdout",
     "output_type": "stream",
     "text": [
      "0.17189455619883126\n",
      "no match for /home/chuongh/vm2m/data/HHM/synthesized/masks/12850/2.png\n"
     ]
    },
    {
     "name": "stderr",
     "output_type": "stream",
     "text": [
      " 78%|███████▊  | 38592/49737 [49:13<14:29, 12.82it/s]"
     ]
    },
    {
     "name": "stdout",
     "output_type": "stream",
     "text": [
      "0\n",
      "no match for /home/chuongh/vm2m/data/HHM/synthesized/masks/13234/0.png\n",
      "0.06640338421468937\n",
      "no match for /home/chuongh/vm2m/data/HHM/synthesized/masks/46642/0.png\n"
     ]
    },
    {
     "name": "stderr",
     "output_type": "stream",
     "text": [
      " 78%|███████▊  | 38619/49737 [49:15<13:11, 14.05it/s]"
     ]
    },
    {
     "name": "stdout",
     "output_type": "stream",
     "text": [
      "0.1870665612934914\n",
      "no match for /home/chuongh/vm2m/data/HHM/synthesized/masks/7724/1.png\n",
      "0.1481102642282794\n",
      "no match for /home/chuongh/vm2m/data/HHM/synthesized/masks/27742/0.png\n"
     ]
    },
    {
     "name": "stderr",
     "output_type": "stream",
     "text": [
      " 78%|███████▊  | 38644/49737 [49:17<11:49, 15.64it/s]"
     ]
    },
    {
     "name": "stdout",
     "output_type": "stream",
     "text": [
      "0.21286554250458647\n",
      "no match for /home/chuongh/vm2m/data/HHM/synthesized/masks/32423/1.png\n"
     ]
    },
    {
     "name": "stderr",
     "output_type": "stream",
     "text": [
      " 78%|███████▊  | 38662/49737 [49:18<12:47, 14.43it/s]"
     ]
    },
    {
     "name": "stdout",
     "output_type": "stream",
     "text": [
      "0.2362669674380901\n",
      "no match for /home/chuongh/vm2m/data/HHM/synthesized/masks/1756/1.png\n"
     ]
    },
    {
     "name": "stderr",
     "output_type": "stream",
     "text": [
      " 78%|███████▊  | 38676/49737 [49:19<10:44, 17.15it/s]"
     ]
    },
    {
     "name": "stdout",
     "output_type": "stream",
     "text": [
      "0.18334711006476384\n",
      "no match for /home/chuongh/vm2m/data/HHM/synthesized/masks/24503/0.png\n"
     ]
    },
    {
     "name": "stderr",
     "output_type": "stream",
     "text": [
      " 78%|███████▊  | 38686/49737 [49:20<12:45, 14.44it/s]"
     ]
    },
    {
     "name": "stdout",
     "output_type": "stream",
     "text": [
      "0.0136370137050093\n",
      "no match for /home/chuongh/vm2m/data/HHM/synthesized/masks/48886/0.png\n"
     ]
    },
    {
     "name": "stderr",
     "output_type": "stream",
     "text": [
      " 78%|███████▊  | 38693/49737 [49:20<11:18, 16.27it/s]"
     ]
    },
    {
     "name": "stdout",
     "output_type": "stream",
     "text": [
      "0.2029870483446277\n",
      "no match for /home/chuongh/vm2m/data/HHM/synthesized/masks/35676/2.png\n"
     ]
    },
    {
     "name": "stderr",
     "output_type": "stream",
     "text": [
      " 78%|███████▊  | 38706/49737 [49:21<11:51, 15.49it/s]"
     ]
    },
    {
     "name": "stdout",
     "output_type": "stream",
     "text": [
      "0.1687321601143158\n",
      "no match for /home/chuongh/vm2m/data/HHM/synthesized/masks/42636/0.png\n",
      "0.1838373179228106\n",
      "no match for /home/chuongh/vm2m/data/HHM/synthesized/masks/13236/2.png\n"
     ]
    },
    {
     "name": "stderr",
     "output_type": "stream",
     "text": [
      " 78%|███████▊  | 38738/49737 [49:23<12:00, 15.27it/s]"
     ]
    },
    {
     "name": "stdout",
     "output_type": "stream",
     "text": [
      "0.10881034082597969\n",
      "no match for /home/chuongh/vm2m/data/HHM/synthesized/masks/10060/2.png\n",
      "0.028802310264360254\n",
      "no match for /home/chuongh/vm2m/data/HHM/synthesized/masks/2878/1.png\n"
     ]
    },
    {
     "name": "stderr",
     "output_type": "stream",
     "text": [
      " 78%|███████▊  | 38741/49737 [49:24<12:46, 14.34it/s]"
     ]
    },
    {
     "name": "stdout",
     "output_type": "stream",
     "text": [
      "0\n",
      "no match for /home/chuongh/vm2m/data/HHM/synthesized/masks/28235/1.png\n"
     ]
    },
    {
     "name": "stderr",
     "output_type": "stream",
     "text": [
      " 78%|███████▊  | 38768/49737 [49:25<11:15, 16.23it/s]"
     ]
    },
    {
     "name": "stdout",
     "output_type": "stream",
     "text": [
      "0.14163238443610598\n",
      "no match for /home/chuongh/vm2m/data/HHM/synthesized/masks/10296/0.png\n"
     ]
    },
    {
     "name": "stderr",
     "output_type": "stream",
     "text": [
      " 78%|███████▊  | 38778/49737 [49:26<14:55, 12.24it/s]"
     ]
    },
    {
     "name": "stdout",
     "output_type": "stream",
     "text": [
      "0.06931011001496941\n",
      "no match for /home/chuongh/vm2m/data/HHM/synthesized/masks/38147/0.png\n"
     ]
    },
    {
     "name": "stderr",
     "output_type": "stream",
     "text": [
      " 78%|███████▊  | 38793/49737 [49:27<13:03, 13.96it/s]"
     ]
    },
    {
     "name": "stdout",
     "output_type": "stream",
     "text": [
      "0.2822065659034005\n",
      "no match for /home/chuongh/vm2m/data/HHM/synthesized/masks/36707/0.png\n"
     ]
    },
    {
     "name": "stderr",
     "output_type": "stream",
     "text": [
      " 78%|███████▊  | 38803/49737 [49:28<14:05, 12.93it/s]"
     ]
    },
    {
     "name": "stdout",
     "output_type": "stream",
     "text": [
      "0.01915793145829876\n",
      "no match for /home/chuongh/vm2m/data/HHM/synthesized/masks/13170/0.png\n"
     ]
    },
    {
     "name": "stderr",
     "output_type": "stream",
     "text": [
      " 78%|███████▊  | 38813/49737 [49:29<14:24, 12.64it/s]"
     ]
    },
    {
     "name": "stdout",
     "output_type": "stream",
     "text": [
      "0.06820242200136142\n",
      "no match for /home/chuongh/vm2m/data/HHM/synthesized/masks/21037/0.png\n"
     ]
    },
    {
     "name": "stderr",
     "output_type": "stream",
     "text": [
      " 78%|███████▊  | 38850/49737 [49:32<18:40,  9.72it/s]"
     ]
    },
    {
     "name": "stdout",
     "output_type": "stream",
     "text": [
      "0.2704915456036936\n",
      "no match for /home/chuongh/vm2m/data/HHM/synthesized/masks/26615/1.png\n"
     ]
    },
    {
     "name": "stderr",
     "output_type": "stream",
     "text": [
      " 78%|███████▊  | 38889/49737 [49:35<13:16, 13.62it/s]"
     ]
    },
    {
     "name": "stdout",
     "output_type": "stream",
     "text": [
      "0.017437387588714073\n",
      "no match for /home/chuongh/vm2m/data/HHM/synthesized/masks/40654/2.png\n",
      "0.29776375699692437\n",
      "no match for /home/chuongh/vm2m/data/HHM/synthesized/masks/36151/0.png\n"
     ]
    },
    {
     "name": "stderr",
     "output_type": "stream",
     "text": [
      " 78%|███████▊  | 38897/49737 [49:35<18:07,  9.97it/s]"
     ]
    },
    {
     "name": "stdout",
     "output_type": "stream",
     "text": [
      "0.22158450611848596\n",
      "no match for /home/chuongh/vm2m/data/HHM/synthesized/masks/26380/2.png\n"
     ]
    },
    {
     "name": "stderr",
     "output_type": "stream",
     "text": [
      " 78%|███████▊  | 38901/49737 [49:36<15:00, 12.03it/s]"
     ]
    },
    {
     "name": "stdout",
     "output_type": "stream",
     "text": [
      "0.265505896914863\n",
      "no match for /home/chuongh/vm2m/data/HHM/synthesized/masks/14314/0.png\n"
     ]
    },
    {
     "name": "stderr",
     "output_type": "stream",
     "text": [
      " 78%|███████▊  | 38929/49737 [49:38<12:41, 14.19it/s]"
     ]
    },
    {
     "name": "stdout",
     "output_type": "stream",
     "text": [
      "0.08695872794198498\n",
      "no match for /home/chuongh/vm2m/data/HHM/synthesized/masks/4679/0.png\n"
     ]
    },
    {
     "name": "stderr",
     "output_type": "stream",
     "text": [
      " 78%|███████▊  | 38937/49737 [49:39<14:45, 12.20it/s]"
     ]
    },
    {
     "name": "stdout",
     "output_type": "stream",
     "text": [
      "0.0508523827972758\n",
      "no match for /home/chuongh/vm2m/data/HHM/synthesized/masks/22419/1.png\n"
     ]
    },
    {
     "name": "stderr",
     "output_type": "stream",
     "text": [
      " 78%|███████▊  | 38948/49737 [49:39<12:31, 14.35it/s]"
     ]
    },
    {
     "name": "stdout",
     "output_type": "stream",
     "text": [
      "0.26566334103627065\n",
      "no match for /home/chuongh/vm2m/data/HHM/synthesized/masks/19345/0.png\n"
     ]
    },
    {
     "name": "stderr",
     "output_type": "stream",
     "text": [
      " 78%|███████▊  | 38952/49737 [49:40<12:14, 14.69it/s]"
     ]
    },
    {
     "name": "stdout",
     "output_type": "stream",
     "text": [
      "0.0010916947803322624\n",
      "no match for /home/chuongh/vm2m/data/HHM/synthesized/masks/14531/0.png\n"
     ]
    },
    {
     "name": "stderr",
     "output_type": "stream",
     "text": [
      " 78%|███████▊  | 38969/49737 [49:41<14:03, 12.77it/s]"
     ]
    },
    {
     "name": "stdout",
     "output_type": "stream",
     "text": [
      "0.06152994225107966\n",
      "no match for /home/chuongh/vm2m/data/HHM/synthesized/masks/27488/2.png\n"
     ]
    },
    {
     "name": "stderr",
     "output_type": "stream",
     "text": [
      " 78%|███████▊  | 38979/49737 [49:41<11:59, 14.95it/s]"
     ]
    },
    {
     "name": "stdout",
     "output_type": "stream",
     "text": [
      "0.021993822772157504\n",
      "no match for /home/chuongh/vm2m/data/HHM/synthesized/masks/8082/1.png\n"
     ]
    },
    {
     "name": "stderr",
     "output_type": "stream",
     "text": [
      " 78%|███████▊  | 39035/49737 [49:46<13:38, 13.07it/s]"
     ]
    },
    {
     "name": "stdout",
     "output_type": "stream",
     "text": [
      "0.016323827840875556\n",
      "no match for /home/chuongh/vm2m/data/HHM/synthesized/masks/27941/1.png\n"
     ]
    },
    {
     "name": "stderr",
     "output_type": "stream",
     "text": [
      " 79%|███████▊  | 39103/49737 [49:51<10:48, 16.39it/s]"
     ]
    },
    {
     "name": "stdout",
     "output_type": "stream",
     "text": [
      "0.03154499289997307\n",
      "no match for /home/chuongh/vm2m/data/HHM/synthesized/masks/29651/0.png\n",
      "0.04808229944184304\n",
      "no match for /home/chuongh/vm2m/data/HHM/synthesized/masks/26748/1.png\n"
     ]
    },
    {
     "name": "stderr",
     "output_type": "stream",
     "text": [
      " 79%|███████▊  | 39121/49737 [49:52<15:12, 11.63it/s]"
     ]
    },
    {
     "name": "stdout",
     "output_type": "stream",
     "text": [
      "0.08853016377570516\n",
      "no match for /home/chuongh/vm2m/data/HHM/synthesized/masks/18748/0.png\n"
     ]
    },
    {
     "name": "stderr",
     "output_type": "stream",
     "text": [
      " 79%|███████▊  | 39137/49737 [49:53<12:41, 13.93it/s]"
     ]
    },
    {
     "name": "stdout",
     "output_type": "stream",
     "text": [
      "0.11823274289632649\n",
      "no match for /home/chuongh/vm2m/data/HHM/synthesized/masks/15195/1.png\n"
     ]
    },
    {
     "name": "stderr",
     "output_type": "stream",
     "text": [
      " 79%|███████▊  | 39160/49737 [49:55<13:47, 12.78it/s]"
     ]
    },
    {
     "name": "stdout",
     "output_type": "stream",
     "text": [
      "0.14323797413055764\n",
      "no match for /home/chuongh/vm2m/data/HHM/synthesized/masks/39605/2.png\n"
     ]
    },
    {
     "name": "stderr",
     "output_type": "stream",
     "text": [
      " 79%|███████▉  | 39191/49737 [49:57<14:03, 12.51it/s]"
     ]
    },
    {
     "name": "stdout",
     "output_type": "stream",
     "text": [
      "0.18140063252197444\n",
      "no match for /home/chuongh/vm2m/data/HHM/synthesized/masks/13307/0.png\n"
     ]
    },
    {
     "name": "stderr",
     "output_type": "stream",
     "text": [
      " 79%|███████▉  | 39209/49737 [49:59<13:14, 13.25it/s]"
     ]
    },
    {
     "name": "stdout",
     "output_type": "stream",
     "text": [
      "0.013211566413731769\n",
      "no match for /home/chuongh/vm2m/data/HHM/synthesized/masks/21360/1.png\n"
     ]
    },
    {
     "name": "stderr",
     "output_type": "stream",
     "text": [
      " 79%|███████▉  | 39232/49737 [50:00<11:39, 15.03it/s]"
     ]
    },
    {
     "name": "stdout",
     "output_type": "stream",
     "text": [
      "0.17414497224014153\n",
      "no match for /home/chuongh/vm2m/data/HHM/synthesized/masks/7340/0.png\n"
     ]
    },
    {
     "name": "stderr",
     "output_type": "stream",
     "text": [
      " 79%|███████▉  | 39239/49737 [50:01<11:46, 14.86it/s]"
     ]
    },
    {
     "name": "stdout",
     "output_type": "stream",
     "text": [
      "0.19610682301260018\n",
      "no match for /home/chuongh/vm2m/data/HHM/synthesized/masks/13539/0.png\n"
     ]
    },
    {
     "name": "stderr",
     "output_type": "stream",
     "text": [
      " 79%|███████▉  | 39246/49737 [50:01<10:29, 16.66it/s]"
     ]
    },
    {
     "name": "stdout",
     "output_type": "stream",
     "text": [
      "0.19815326130412533\n",
      "no match for /home/chuongh/vm2m/data/HHM/synthesized/masks/3734/2.png\n"
     ]
    },
    {
     "name": "stderr",
     "output_type": "stream",
     "text": [
      " 79%|███████▉  | 39256/49737 [50:02<13:19, 13.12it/s]"
     ]
    },
    {
     "name": "stdout",
     "output_type": "stream",
     "text": [
      "0.08940568094728105\n",
      "no match for /home/chuongh/vm2m/data/HHM/synthesized/masks/1659/0.png\n"
     ]
    },
    {
     "name": "stderr",
     "output_type": "stream",
     "text": [
      " 79%|███████▉  | 39353/49737 [50:10<10:22, 16.67it/s]"
     ]
    },
    {
     "name": "stdout",
     "output_type": "stream",
     "text": [
      "0.033839381170910406\n",
      "no match for /home/chuongh/vm2m/data/HHM/synthesized/masks/10142/2.png\n"
     ]
    },
    {
     "name": "stderr",
     "output_type": "stream",
     "text": [
      " 79%|███████▉  | 39380/49737 [50:12<12:01, 14.36it/s]"
     ]
    },
    {
     "name": "stdout",
     "output_type": "stream",
     "text": [
      "0.006096412512353903\n",
      "no match for /home/chuongh/vm2m/data/HHM/synthesized/masks/27021/0.png\n"
     ]
    },
    {
     "name": "stderr",
     "output_type": "stream",
     "text": [
      " 79%|███████▉  | 39408/49737 [50:14<13:52, 12.40it/s]"
     ]
    },
    {
     "name": "stdout",
     "output_type": "stream",
     "text": [
      "0.08696514811621738\n",
      "no match for /home/chuongh/vm2m/data/HHM/synthesized/masks/33189/1.png\n"
     ]
    },
    {
     "name": "stderr",
     "output_type": "stream",
     "text": [
      " 79%|███████▉  | 39418/49737 [50:14<12:34, 13.68it/s]"
     ]
    },
    {
     "name": "stdout",
     "output_type": "stream",
     "text": [
      "0.02778965767301774\n",
      "no match for /home/chuongh/vm2m/data/HHM/synthesized/masks/44516/0.png\n",
      "0.14389439617210634\n",
      "no match for /home/chuongh/vm2m/data/HHM/synthesized/masks/45604/1.png\n"
     ]
    },
    {
     "name": "stderr",
     "output_type": "stream",
     "text": [
      " 79%|███████▉  | 39423/49737 [50:15<10:53, 15.78it/s]"
     ]
    },
    {
     "name": "stdout",
     "output_type": "stream",
     "text": [
      "0.17260265785516138\n",
      "no match for /home/chuongh/vm2m/data/HHM/synthesized/masks/37882/1.png\n",
      "0.11118294406812534\n",
      "no match for /home/chuongh/vm2m/data/HHM/synthesized/masks/17906/0.png\n"
     ]
    },
    {
     "name": "stderr",
     "output_type": "stream",
     "text": [
      " 79%|███████▉  | 39486/49737 [50:19<14:55, 11.44it/s]"
     ]
    },
    {
     "name": "stdout",
     "output_type": "stream",
     "text": [
      "0.13422909442155515\n",
      "no match for /home/chuongh/vm2m/data/HHM/synthesized/masks/19973/2.png\n"
     ]
    },
    {
     "name": "stderr",
     "output_type": "stream",
     "text": [
      " 79%|███████▉  | 39499/49737 [50:20<13:55, 12.26it/s]"
     ]
    },
    {
     "name": "stdout",
     "output_type": "stream",
     "text": [
      "0.11483315507570602\n",
      "no match for /home/chuongh/vm2m/data/HHM/synthesized/masks/24735/1.png\n"
     ]
    },
    {
     "name": "stderr",
     "output_type": "stream",
     "text": [
      " 79%|███████▉  | 39509/49737 [50:21<13:55, 12.24it/s]"
     ]
    },
    {
     "name": "stdout",
     "output_type": "stream",
     "text": [
      "0.05883511163748108\n",
      "no match for /home/chuongh/vm2m/data/HHM/synthesized/masks/37903/2.png\n"
     ]
    },
    {
     "name": "stderr",
     "output_type": "stream",
     "text": [
      " 79%|███████▉  | 39520/49737 [50:22<12:15, 13.89it/s]"
     ]
    },
    {
     "name": "stdout",
     "output_type": "stream",
     "text": [
      "0.2632187415233821\n",
      "no match for /home/chuongh/vm2m/data/HHM/synthesized/masks/27131/1.png\n"
     ]
    },
    {
     "name": "stderr",
     "output_type": "stream",
     "text": [
      " 80%|███████▉  | 39542/49737 [50:24<15:27, 11.00it/s]"
     ]
    },
    {
     "name": "stdout",
     "output_type": "stream",
     "text": [
      "0.03221596712034247\n",
      "no match for /home/chuongh/vm2m/data/HHM/synthesized/masks/12074/0.png\n"
     ]
    },
    {
     "name": "stderr",
     "output_type": "stream",
     "text": [
      " 80%|███████▉  | 39552/49737 [50:25<14:18, 11.86it/s]"
     ]
    },
    {
     "name": "stdout",
     "output_type": "stream",
     "text": [
      "0.267430699414165\n",
      "no match for /home/chuongh/vm2m/data/HHM/synthesized/masks/33254/3.png\n"
     ]
    },
    {
     "name": "stderr",
     "output_type": "stream",
     "text": [
      " 80%|███████▉  | 39573/49737 [50:27<13:52, 12.21it/s]"
     ]
    },
    {
     "name": "stdout",
     "output_type": "stream",
     "text": [
      "0.25709434746045373\n",
      "no match for /home/chuongh/vm2m/data/HHM/synthesized/masks/14356/1.png\n",
      "0.2707065470941492\n",
      "no match for /home/chuongh/vm2m/data/HHM/synthesized/masks/10348/0.png\n"
     ]
    },
    {
     "name": "stderr",
     "output_type": "stream",
     "text": [
      " 80%|███████▉  | 39579/49737 [50:27<15:05, 11.22it/s]"
     ]
    },
    {
     "name": "stdout",
     "output_type": "stream",
     "text": [
      "0.003501921879022265\n",
      "no match for /home/chuongh/vm2m/data/HHM/synthesized/masks/22063/0.png\n"
     ]
    },
    {
     "name": "stderr",
     "output_type": "stream",
     "text": [
      " 80%|███████▉  | 39606/49737 [50:29<16:53, 10.00it/s]"
     ]
    },
    {
     "name": "stdout",
     "output_type": "stream",
     "text": [
      "0.018414184225542553\n",
      "no match for /home/chuongh/vm2m/data/HHM/synthesized/masks/9776/0.png\n",
      "0.09980522491853515\n",
      "no match for /home/chuongh/vm2m/data/HHM/synthesized/masks/38801/1.png\n"
     ]
    },
    {
     "name": "stderr",
     "output_type": "stream",
     "text": [
      " 80%|███████▉  | 39611/49737 [50:30<12:27, 13.54it/s]"
     ]
    },
    {
     "name": "stdout",
     "output_type": "stream",
     "text": [
      "0.21227192794613506\n",
      "no match for /home/chuongh/vm2m/data/HHM/synthesized/masks/18888/0.png\n"
     ]
    },
    {
     "name": "stderr",
     "output_type": "stream",
     "text": [
      " 80%|███████▉  | 39641/49737 [50:32<11:44, 14.33it/s]"
     ]
    },
    {
     "name": "stdout",
     "output_type": "stream",
     "text": [
      "0.03052974655831695\n",
      "no match for /home/chuongh/vm2m/data/HHM/synthesized/masks/41220/0.png\n"
     ]
    },
    {
     "name": "stderr",
     "output_type": "stream",
     "text": [
      " 80%|███████▉  | 39660/49737 [50:33<10:13, 16.42it/s]"
     ]
    },
    {
     "name": "stdout",
     "output_type": "stream",
     "text": [
      "0.2582836996515229\n",
      "no match for /home/chuongh/vm2m/data/HHM/synthesized/masks/34983/0.png\n"
     ]
    },
    {
     "name": "stderr",
     "output_type": "stream",
     "text": [
      " 80%|███████▉  | 39675/49737 [50:34<10:34, 15.85it/s]"
     ]
    },
    {
     "name": "stdout",
     "output_type": "stream",
     "text": [
      "0.28364011101038133\n",
      "no match for /home/chuongh/vm2m/data/HHM/synthesized/masks/3442/1.png\n"
     ]
    },
    {
     "name": "stderr",
     "output_type": "stream",
     "text": [
      " 80%|███████▉  | 39692/49737 [50:35<09:48, 17.08it/s]"
     ]
    },
    {
     "name": "stdout",
     "output_type": "stream",
     "text": [
      "0.049468571190132316\n",
      "no match for /home/chuongh/vm2m/data/HHM/synthesized/masks/20424/1.png\n"
     ]
    },
    {
     "name": "stderr",
     "output_type": "stream",
     "text": [
      " 80%|███████▉  | 39715/49737 [50:37<14:12, 11.76it/s]"
     ]
    },
    {
     "name": "stdout",
     "output_type": "stream",
     "text": [
      "0.06509971717101132\n",
      "no match for /home/chuongh/vm2m/data/HHM/synthesized/masks/1177/0.png\n"
     ]
    },
    {
     "name": "stderr",
     "output_type": "stream",
     "text": [
      " 80%|███████▉  | 39727/49737 [50:38<12:20, 13.51it/s]"
     ]
    },
    {
     "name": "stdout",
     "output_type": "stream",
     "text": [
      "0.0032982757115521287\n",
      "no match for /home/chuongh/vm2m/data/HHM/synthesized/masks/40509/0.png\n"
     ]
    },
    {
     "name": "stderr",
     "output_type": "stream",
     "text": [
      " 80%|███████▉  | 39739/49737 [50:39<14:04, 11.84it/s]"
     ]
    },
    {
     "name": "stdout",
     "output_type": "stream",
     "text": [
      "0\n",
      "no match for /home/chuongh/vm2m/data/HHM/synthesized/masks/21003/1.png\n"
     ]
    },
    {
     "name": "stderr",
     "output_type": "stream",
     "text": [
      " 80%|████████  | 39791/49737 [50:43<09:32, 17.37it/s]"
     ]
    },
    {
     "name": "stdout",
     "output_type": "stream",
     "text": [
      "0.1874735952676897\n",
      "no match for /home/chuongh/vm2m/data/HHM/synthesized/masks/968/2.png\n"
     ]
    },
    {
     "name": "stderr",
     "output_type": "stream",
     "text": [
      " 80%|████████  | 39799/49737 [50:44<11:55, 13.90it/s]"
     ]
    },
    {
     "name": "stdout",
     "output_type": "stream",
     "text": [
      "0.17667245409216134\n",
      "no match for /home/chuongh/vm2m/data/HHM/synthesized/masks/40074/0.png\n"
     ]
    },
    {
     "name": "stderr",
     "output_type": "stream",
     "text": [
      " 80%|████████  | 39815/49737 [50:45<11:24, 14.50it/s]"
     ]
    },
    {
     "name": "stdout",
     "output_type": "stream",
     "text": [
      "0.1838342957110318\n",
      "no match for /home/chuongh/vm2m/data/HHM/synthesized/masks/25868/1.png\n"
     ]
    },
    {
     "name": "stderr",
     "output_type": "stream",
     "text": [
      " 80%|████████  | 39853/49737 [50:48<12:24, 13.28it/s]"
     ]
    },
    {
     "name": "stdout",
     "output_type": "stream",
     "text": [
      "0.005722388458185503\n",
      "no match for /home/chuongh/vm2m/data/HHM/synthesized/masks/15378/1.png\n"
     ]
    },
    {
     "name": "stderr",
     "output_type": "stream",
     "text": [
      " 80%|████████  | 39870/49737 [50:49<11:51, 13.86it/s]"
     ]
    },
    {
     "name": "stdout",
     "output_type": "stream",
     "text": [
      "0.24498700023387493\n",
      "no match for /home/chuongh/vm2m/data/HHM/synthesized/masks/17320/0.png\n"
     ]
    },
    {
     "name": "stderr",
     "output_type": "stream",
     "text": [
      " 80%|████████  | 39898/49737 [50:51<09:49, 16.69it/s]"
     ]
    },
    {
     "name": "stdout",
     "output_type": "stream",
     "text": [
      "0.007621034572668976\n",
      "no match for /home/chuongh/vm2m/data/HHM/synthesized/masks/16061/2.png\n"
     ]
    },
    {
     "name": "stderr",
     "output_type": "stream",
     "text": [
      " 80%|████████  | 39935/49737 [50:54<10:51, 15.04it/s]"
     ]
    },
    {
     "name": "stdout",
     "output_type": "stream",
     "text": [
      "0.029091247994529126\n",
      "no match for /home/chuongh/vm2m/data/HHM/synthesized/masks/13150/1.png\n"
     ]
    },
    {
     "name": "stderr",
     "output_type": "stream",
     "text": [
      " 80%|████████  | 39940/49737 [50:54<09:30, 17.18it/s]"
     ]
    },
    {
     "name": "stdout",
     "output_type": "stream",
     "text": [
      "0.29584302290518977\n",
      "no match for /home/chuongh/vm2m/data/HHM/synthesized/masks/40114/0.png\n"
     ]
    },
    {
     "name": "stderr",
     "output_type": "stream",
     "text": [
      " 80%|████████  | 39963/49737 [50:55<10:57, 14.87it/s]"
     ]
    },
    {
     "name": "stdout",
     "output_type": "stream",
     "text": [
      "0.2669011800577488\n",
      "no match for /home/chuongh/vm2m/data/HHM/synthesized/masks/37986/0.png\n"
     ]
    },
    {
     "name": "stderr",
     "output_type": "stream",
     "text": [
      " 80%|████████  | 39983/49737 [50:57<12:36, 12.90it/s]"
     ]
    },
    {
     "name": "stdout",
     "output_type": "stream",
     "text": [
      "0.020475669207251176\n",
      "no match for /home/chuongh/vm2m/data/HHM/synthesized/masks/10751/0.png\n"
     ]
    },
    {
     "name": "stderr",
     "output_type": "stream",
     "text": [
      " 80%|████████  | 39999/49737 [50:58<11:07, 14.60it/s]"
     ]
    },
    {
     "name": "stdout",
     "output_type": "stream",
     "text": [
      "0.08443464049062713\n",
      "no match for /home/chuongh/vm2m/data/HHM/synthesized/masks/12417/0.png\n"
     ]
    },
    {
     "name": "stderr",
     "output_type": "stream",
     "text": [
      " 80%|████████  | 40006/49737 [50:59<09:57, 16.29it/s]"
     ]
    },
    {
     "name": "stdout",
     "output_type": "stream",
     "text": [
      "0.017635980061301217\n",
      "no match for /home/chuongh/vm2m/data/HHM/synthesized/masks/35495/0.png\n"
     ]
    },
    {
     "name": "stderr",
     "output_type": "stream",
     "text": [
      " 81%|████████  | 40043/49737 [51:01<11:03, 14.61it/s]"
     ]
    },
    {
     "name": "stdout",
     "output_type": "stream",
     "text": [
      "0.08031423259438016\n",
      "no match for /home/chuongh/vm2m/data/HHM/synthesized/masks/5154/3.png\n"
     ]
    },
    {
     "name": "stderr",
     "output_type": "stream",
     "text": [
      " 81%|████████  | 40052/49737 [51:02<12:56, 12.47it/s]"
     ]
    },
    {
     "name": "stdout",
     "output_type": "stream",
     "text": [
      "1.6636188316511627e-05\n",
      "no match for /home/chuongh/vm2m/data/HHM/synthesized/masks/12499/1.png\n"
     ]
    },
    {
     "name": "stderr",
     "output_type": "stream",
     "text": [
      " 81%|████████  | 40074/49737 [51:03<10:11, 15.81it/s]"
     ]
    },
    {
     "name": "stdout",
     "output_type": "stream",
     "text": [
      "0.06267942381411089\n",
      "no match for /home/chuongh/vm2m/data/HHM/synthesized/masks/45389/0.png\n"
     ]
    },
    {
     "name": "stderr",
     "output_type": "stream",
     "text": [
      " 81%|████████  | 40084/49737 [51:04<08:54, 18.05it/s]"
     ]
    },
    {
     "name": "stdout",
     "output_type": "stream",
     "text": [
      "0.2333317293477165\n",
      "no match for /home/chuongh/vm2m/data/HHM/synthesized/masks/47305/1.png\n"
     ]
    },
    {
     "name": "stderr",
     "output_type": "stream",
     "text": [
      " 81%|████████  | 40114/49737 [51:06<13:18, 12.06it/s]"
     ]
    },
    {
     "name": "stdout",
     "output_type": "stream",
     "text": [
      "0\n",
      "no match for /home/chuongh/vm2m/data/HHM/synthesized/masks/23811/0.png\n",
      "0.001940545140848672\n",
      "no match for /home/chuongh/vm2m/data/HHM/synthesized/masks/23811/1.png\n"
     ]
    },
    {
     "name": "stderr",
     "output_type": "stream",
     "text": [
      " 81%|████████  | 40118/49737 [51:07<13:28, 11.90it/s]"
     ]
    },
    {
     "name": "stdout",
     "output_type": "stream",
     "text": [
      "0.17221418234372435\n",
      "no match for /home/chuongh/vm2m/data/HHM/synthesized/masks/46644/0.png\n"
     ]
    },
    {
     "name": "stderr",
     "output_type": "stream",
     "text": [
      " 81%|████████  | 40133/49737 [51:08<11:35, 13.80it/s]"
     ]
    },
    {
     "name": "stdout",
     "output_type": "stream",
     "text": [
      "0.018204888418291803\n",
      "no match for /home/chuongh/vm2m/data/HHM/synthesized/masks/23267/0.png\n"
     ]
    },
    {
     "name": "stderr",
     "output_type": "stream",
     "text": [
      " 81%|████████  | 40213/49737 [51:14<11:19, 14.02it/s]"
     ]
    },
    {
     "name": "stdout",
     "output_type": "stream",
     "text": [
      "0.1704512408237048\n",
      "no match for /home/chuongh/vm2m/data/HHM/synthesized/masks/4087/0.png\n"
     ]
    },
    {
     "name": "stderr",
     "output_type": "stream",
     "text": [
      " 81%|████████  | 40269/49737 [51:17<11:16, 14.00it/s]"
     ]
    },
    {
     "name": "stdout",
     "output_type": "stream",
     "text": [
      "0\n",
      "no match for /home/chuongh/vm2m/data/HHM/synthesized/masks/24477/2.png\n"
     ]
    },
    {
     "name": "stderr",
     "output_type": "stream",
     "text": [
      " 81%|████████  | 40281/49737 [51:18<12:34, 12.53it/s]"
     ]
    },
    {
     "name": "stdout",
     "output_type": "stream",
     "text": [
      "0.2772994781059669\n",
      "no match for /home/chuongh/vm2m/data/HHM/synthesized/masks/25731/0.png\n"
     ]
    },
    {
     "name": "stderr",
     "output_type": "stream",
     "text": [
      " 81%|████████  | 40336/49737 [51:23<11:58, 13.08it/s]"
     ]
    },
    {
     "name": "stdout",
     "output_type": "stream",
     "text": [
      "0.011843229420855049\n",
      "no match for /home/chuongh/vm2m/data/HHM/synthesized/masks/49946/0.png\n"
     ]
    },
    {
     "name": "stderr",
     "output_type": "stream",
     "text": [
      " 81%|████████▏ | 40421/49737 [51:29<11:11, 13.88it/s]"
     ]
    },
    {
     "name": "stdout",
     "output_type": "stream",
     "text": [
      "0.2747706104755224\n",
      "no match for /home/chuongh/vm2m/data/HHM/synthesized/masks/34962/0.png\n"
     ]
    },
    {
     "name": "stderr",
     "output_type": "stream",
     "text": [
      " 81%|████████▏ | 40425/49737 [51:29<11:02, 14.06it/s]"
     ]
    },
    {
     "name": "stdout",
     "output_type": "stream",
     "text": [
      "0.017972478630909908\n",
      "no match for /home/chuongh/vm2m/data/HHM/synthesized/masks/41226/1.png\n"
     ]
    },
    {
     "name": "stderr",
     "output_type": "stream",
     "text": [
      " 81%|████████▏ | 40445/49737 [51:31<10:06, 15.33it/s]"
     ]
    },
    {
     "name": "stdout",
     "output_type": "stream",
     "text": [
      "0.26125229351404694\n",
      "no match for /home/chuongh/vm2m/data/HHM/synthesized/masks/3075/0.png\n"
     ]
    },
    {
     "name": "stderr",
     "output_type": "stream",
     "text": [
      " 81%|████████▏ | 40464/49737 [51:32<10:08, 15.24it/s]"
     ]
    },
    {
     "name": "stdout",
     "output_type": "stream",
     "text": [
      "0.005791867536562725\n",
      "no match for /home/chuongh/vm2m/data/HHM/synthesized/masks/15024/1.png\n"
     ]
    },
    {
     "name": "stderr",
     "output_type": "stream",
     "text": [
      " 81%|████████▏ | 40481/49737 [51:33<09:15, 16.66it/s]"
     ]
    },
    {
     "name": "stdout",
     "output_type": "stream",
     "text": [
      "0.07843297909370352\n",
      "no match for /home/chuongh/vm2m/data/HHM/synthesized/masks/41232/3.png\n",
      "0.2591275250531569\n",
      "no match for /home/chuongh/vm2m/data/HHM/synthesized/masks/41232/2.png\n"
     ]
    },
    {
     "name": "stderr",
     "output_type": "stream",
     "text": [
      " 81%|████████▏ | 40504/49737 [51:35<10:47, 14.25it/s]"
     ]
    },
    {
     "name": "stdout",
     "output_type": "stream",
     "text": [
      "0\n",
      "no match for /home/chuongh/vm2m/data/HHM/synthesized/masks/43878/0.png\n",
      "0.2212585643763965\n",
      "no match for /home/chuongh/vm2m/data/HHM/synthesized/masks/11731/0.png\n",
      "0.017529701568732473\n",
      "no match for /home/chuongh/vm2m/data/HHM/synthesized/masks/22282/1.png\n"
     ]
    },
    {
     "name": "stderr",
     "output_type": "stream",
     "text": [
      " 81%|████████▏ | 40518/49737 [51:36<12:15, 12.54it/s]"
     ]
    },
    {
     "name": "stdout",
     "output_type": "stream",
     "text": [
      "0.12279685768928694\n",
      "no match for /home/chuongh/vm2m/data/HHM/synthesized/masks/11125/0.png\n",
      "0.0023885241025766385\n",
      "no match for /home/chuongh/vm2m/data/HHM/synthesized/masks/21651/0.png\n",
      "0.11081954377402951\n",
      "no match for /home/chuongh/vm2m/data/HHM/synthesized/masks/20263/1.png\n"
     ]
    },
    {
     "name": "stderr",
     "output_type": "stream",
     "text": [
      " 81%|████████▏ | 40522/49737 [51:36<11:42, 13.11it/s]"
     ]
    },
    {
     "name": "stdout",
     "output_type": "stream",
     "text": [
      "0.044373832883724845\n",
      "no match for /home/chuongh/vm2m/data/HHM/synthesized/masks/25926/0.png\n"
     ]
    },
    {
     "name": "stderr",
     "output_type": "stream",
     "text": [
      " 81%|████████▏ | 40531/49737 [51:37<09:53, 15.51it/s]"
     ]
    },
    {
     "name": "stdout",
     "output_type": "stream",
     "text": [
      "0\n",
      "no match for /home/chuongh/vm2m/data/HHM/synthesized/masks/31309/0.png\n"
     ]
    },
    {
     "name": "stderr",
     "output_type": "stream",
     "text": [
      " 82%|████████▏ | 40545/49737 [51:38<09:27, 16.19it/s]"
     ]
    },
    {
     "name": "stdout",
     "output_type": "stream",
     "text": [
      "0.13271157813175455\n",
      "no match for /home/chuongh/vm2m/data/HHM/synthesized/masks/47403/0.png\n",
      "0.2745771508809378\n",
      "no match for /home/chuongh/vm2m/data/HHM/synthesized/masks/47403/1.png\n"
     ]
    },
    {
     "name": "stderr",
     "output_type": "stream",
     "text": [
      " 82%|████████▏ | 40576/49737 [51:40<14:50, 10.29it/s]"
     ]
    },
    {
     "name": "stdout",
     "output_type": "stream",
     "text": [
      "0.00421705163042762\n",
      "no match for /home/chuongh/vm2m/data/HHM/synthesized/masks/24876/0.png\n"
     ]
    },
    {
     "name": "stderr",
     "output_type": "stream",
     "text": [
      " 82%|████████▏ | 40632/49737 [51:44<11:29, 13.21it/s]"
     ]
    },
    {
     "name": "stdout",
     "output_type": "stream",
     "text": [
      "0.19824933538868994\n",
      "no match for /home/chuongh/vm2m/data/HHM/synthesized/masks/3275/0.png\n"
     ]
    },
    {
     "name": "stderr",
     "output_type": "stream",
     "text": [
      " 82%|████████▏ | 40655/49737 [51:46<08:32, 17.71it/s]"
     ]
    },
    {
     "name": "stdout",
     "output_type": "stream",
     "text": [
      "0.25227586946399344\n",
      "no match for /home/chuongh/vm2m/data/HHM/synthesized/masks/40825/0.png\n"
     ]
    },
    {
     "name": "stderr",
     "output_type": "stream",
     "text": [
      " 82%|████████▏ | 40725/49737 [51:51<10:23, 14.45it/s]"
     ]
    },
    {
     "name": "stdout",
     "output_type": "stream",
     "text": [
      "0.01670655418075811\n",
      "no match for /home/chuongh/vm2m/data/HHM/synthesized/masks/906/1.png\n"
     ]
    },
    {
     "name": "stderr",
     "output_type": "stream",
     "text": [
      " 82%|████████▏ | 40745/49737 [51:52<09:11, 16.31it/s]"
     ]
    },
    {
     "name": "stdout",
     "output_type": "stream",
     "text": [
      "0.25595672016423093\n",
      "no match for /home/chuongh/vm2m/data/HHM/synthesized/masks/14553/2.png\n"
     ]
    },
    {
     "name": "stderr",
     "output_type": "stream",
     "text": [
      " 82%|████████▏ | 40751/49737 [51:53<11:36, 12.90it/s]"
     ]
    },
    {
     "name": "stdout",
     "output_type": "stream",
     "text": [
      "0\n",
      "no match for /home/chuongh/vm2m/data/HHM/synthesized/masks/31632/0.png\n"
     ]
    },
    {
     "name": "stderr",
     "output_type": "stream",
     "text": [
      " 82%|████████▏ | 40753/49737 [51:53<11:46, 12.72it/s]"
     ]
    },
    {
     "name": "stdout",
     "output_type": "stream",
     "text": [
      "0.2474152034942824\n",
      "no match for /home/chuongh/vm2m/data/HHM/synthesized/masks/24467/0.png\n"
     ]
    },
    {
     "name": "stderr",
     "output_type": "stream",
     "text": [
      " 82%|████████▏ | 40813/49737 [51:57<14:04, 10.57it/s]"
     ]
    },
    {
     "name": "stdout",
     "output_type": "stream",
     "text": [
      "0.18122825782781443\n",
      "no match for /home/chuongh/vm2m/data/HHM/synthesized/masks/22313/2.png\n"
     ]
    },
    {
     "name": "stderr",
     "output_type": "stream",
     "text": [
      " 82%|████████▏ | 40836/49737 [51:59<10:28, 14.16it/s]"
     ]
    },
    {
     "name": "stdout",
     "output_type": "stream",
     "text": [
      "0.28830588689745423\n",
      "no match for /home/chuongh/vm2m/data/HHM/synthesized/masks/22145/0.png\n"
     ]
    },
    {
     "name": "stderr",
     "output_type": "stream",
     "text": [
      " 82%|████████▏ | 40842/49737 [52:00<12:58, 11.43it/s]"
     ]
    },
    {
     "name": "stdout",
     "output_type": "stream",
     "text": [
      "0.004044795421392371\n",
      "no match for /home/chuongh/vm2m/data/HHM/synthesized/masks/46179/0.png\n"
     ]
    },
    {
     "name": "stderr",
     "output_type": "stream",
     "text": [
      " 82%|████████▏ | 40850/49737 [52:00<09:47, 15.12it/s]"
     ]
    },
    {
     "name": "stdout",
     "output_type": "stream",
     "text": [
      "0\n",
      "no match for /home/chuongh/vm2m/data/HHM/synthesized/masks/41939/0.png\n",
      "0.02862072369806119\n",
      "no match for /home/chuongh/vm2m/data/HHM/synthesized/masks/25085/0.png\n"
     ]
    },
    {
     "name": "stderr",
     "output_type": "stream",
     "text": [
      " 82%|████████▏ | 40874/49737 [52:02<11:05, 13.32it/s]"
     ]
    },
    {
     "name": "stdout",
     "output_type": "stream",
     "text": [
      "0.2903210889383034\n",
      "no match for /home/chuongh/vm2m/data/HHM/synthesized/masks/26638/1.png\n"
     ]
    },
    {
     "name": "stderr",
     "output_type": "stream",
     "text": [
      " 82%|████████▏ | 40884/49737 [52:03<13:14, 11.14it/s]"
     ]
    },
    {
     "name": "stdout",
     "output_type": "stream",
     "text": [
      "0.272470681090133\n",
      "no match for /home/chuongh/vm2m/data/HHM/synthesized/masks/6209/0.png\n"
     ]
    },
    {
     "name": "stderr",
     "output_type": "stream",
     "text": [
      " 82%|████████▏ | 40894/49737 [52:04<13:03, 11.29it/s]"
     ]
    },
    {
     "name": "stdout",
     "output_type": "stream",
     "text": [
      "0.17159127491594411\n",
      "no match for /home/chuongh/vm2m/data/HHM/synthesized/masks/24018/3.png\n"
     ]
    },
    {
     "name": "stderr",
     "output_type": "stream",
     "text": [
      " 82%|████████▏ | 40923/49737 [52:07<13:36, 10.80it/s]"
     ]
    },
    {
     "name": "stdout",
     "output_type": "stream",
     "text": [
      "0.07019830695290033\n",
      "no match for /home/chuongh/vm2m/data/HHM/synthesized/masks/27092/0.png\n"
     ]
    },
    {
     "name": "stderr",
     "output_type": "stream",
     "text": [
      " 82%|████████▏ | 40943/49737 [52:08<14:02, 10.44it/s]"
     ]
    },
    {
     "name": "stdout",
     "output_type": "stream",
     "text": [
      "0.24105311623455797\n",
      "no match for /home/chuongh/vm2m/data/HHM/synthesized/masks/48325/3.png\n"
     ]
    },
    {
     "name": "stderr",
     "output_type": "stream",
     "text": [
      " 82%|████████▏ | 40963/49737 [52:10<11:35, 12.62it/s]"
     ]
    },
    {
     "name": "stdout",
     "output_type": "stream",
     "text": [
      "0\n",
      "no match for /home/chuongh/vm2m/data/HHM/synthesized/masks/46925/0.png\n"
     ]
    },
    {
     "name": "stderr",
     "output_type": "stream",
     "text": [
      " 82%|████████▏ | 40992/49737 [52:12<09:11, 15.85it/s]"
     ]
    },
    {
     "name": "stdout",
     "output_type": "stream",
     "text": [
      "0.021118804417506014\n",
      "no match for /home/chuongh/vm2m/data/HHM/synthesized/masks/15448/0.png\n"
     ]
    },
    {
     "name": "stderr",
     "output_type": "stream",
     "text": [
      " 82%|████████▏ | 41026/49737 [52:14<08:35, 16.91it/s]"
     ]
    },
    {
     "name": "stdout",
     "output_type": "stream",
     "text": [
      "0\n",
      "no match for /home/chuongh/vm2m/data/HHM/synthesized/masks/40362/0.png\n"
     ]
    },
    {
     "name": "stderr",
     "output_type": "stream",
     "text": [
      " 83%|████████▎ | 41034/49737 [52:14<09:57, 14.57it/s]"
     ]
    },
    {
     "name": "stdout",
     "output_type": "stream",
     "text": [
      "0.016723772480570043\n",
      "no match for /home/chuongh/vm2m/data/HHM/synthesized/masks/36319/1.png\n"
     ]
    },
    {
     "name": "stderr",
     "output_type": "stream",
     "text": [
      " 83%|████████▎ | 41042/49737 [52:15<12:10, 11.91it/s]"
     ]
    },
    {
     "name": "stdout",
     "output_type": "stream",
     "text": [
      "0.21651613316225798\n",
      "no match for /home/chuongh/vm2m/data/HHM/synthesized/masks/19053/0.png\n"
     ]
    },
    {
     "name": "stderr",
     "output_type": "stream",
     "text": [
      " 83%|████████▎ | 41075/49737 [52:18<12:11, 11.84it/s]"
     ]
    },
    {
     "name": "stdout",
     "output_type": "stream",
     "text": [
      "0.2069383184811156\n",
      "no match for /home/chuongh/vm2m/data/HHM/synthesized/masks/39252/2.png\n"
     ]
    },
    {
     "name": "stderr",
     "output_type": "stream",
     "text": [
      " 83%|████████▎ | 41079/49737 [52:18<11:43, 12.31it/s]"
     ]
    },
    {
     "name": "stdout",
     "output_type": "stream",
     "text": [
      "0.09601358299233323\n",
      "no match for /home/chuongh/vm2m/data/HHM/synthesized/masks/7322/1.png\n"
     ]
    },
    {
     "name": "stderr",
     "output_type": "stream",
     "text": [
      " 83%|████████▎ | 41108/49737 [52:20<10:57, 13.13it/s]"
     ]
    },
    {
     "name": "stdout",
     "output_type": "stream",
     "text": [
      "0.00467786629270124\n",
      "no match for /home/chuongh/vm2m/data/HHM/synthesized/masks/46487/0.png\n"
     ]
    },
    {
     "name": "stderr",
     "output_type": "stream",
     "text": [
      " 83%|████████▎ | 41190/49737 [52:27<08:56, 15.94it/s]"
     ]
    },
    {
     "name": "stdout",
     "output_type": "stream",
     "text": [
      "0\n",
      "no match for /home/chuongh/vm2m/data/HHM/synthesized/masks/21086/1.png\n"
     ]
    },
    {
     "name": "stderr",
     "output_type": "stream",
     "text": [
      " 83%|████████▎ | 41218/49737 [52:29<07:45, 18.29it/s]"
     ]
    },
    {
     "name": "stdout",
     "output_type": "stream",
     "text": [
      "0.0901517298032587\n",
      "no match for /home/chuongh/vm2m/data/HHM/synthesized/masks/39194/0.png\n"
     ]
    },
    {
     "name": "stderr",
     "output_type": "stream",
     "text": [
      " 83%|████████▎ | 41243/49737 [52:31<10:34, 13.39it/s]"
     ]
    },
    {
     "name": "stdout",
     "output_type": "stream",
     "text": [
      "0.10698545262901213\n",
      "no match for /home/chuongh/vm2m/data/HHM/synthesized/masks/6560/1.png\n"
     ]
    },
    {
     "name": "stderr",
     "output_type": "stream",
     "text": [
      " 83%|████████▎ | 41247/49737 [52:31<11:46, 12.02it/s]"
     ]
    },
    {
     "name": "stdout",
     "output_type": "stream",
     "text": [
      "0.007119766513523805\n",
      "no match for /home/chuongh/vm2m/data/HHM/synthesized/masks/22315/0.png\n"
     ]
    },
    {
     "name": "stderr",
     "output_type": "stream",
     "text": [
      " 83%|████████▎ | 41294/49737 [52:35<11:52, 11.85it/s]"
     ]
    },
    {
     "name": "stdout",
     "output_type": "stream",
     "text": [
      "0.2201234559579735\n",
      "no match for /home/chuongh/vm2m/data/HHM/synthesized/masks/49327/3.png\n"
     ]
    },
    {
     "name": "stderr",
     "output_type": "stream",
     "text": [
      " 83%|████████▎ | 41302/49737 [52:35<10:21, 13.57it/s]"
     ]
    },
    {
     "name": "stdout",
     "output_type": "stream",
     "text": [
      "0.010742335877311594\n",
      "no match for /home/chuongh/vm2m/data/HHM/synthesized/masks/16724/0.png\n"
     ]
    },
    {
     "name": "stderr",
     "output_type": "stream",
     "text": [
      " 83%|████████▎ | 41308/49737 [52:36<09:50, 14.28it/s]"
     ]
    },
    {
     "name": "stdout",
     "output_type": "stream",
     "text": [
      "0.20899765006554186\n",
      "no match for /home/chuongh/vm2m/data/HHM/synthesized/masks/24704/2.png\n",
      "0.14564614618315552\n",
      "no match for /home/chuongh/vm2m/data/HHM/synthesized/masks/35467/0.png\n"
     ]
    },
    {
     "name": "stderr",
     "output_type": "stream",
     "text": [
      " 83%|████████▎ | 41328/49737 [52:38<12:53, 10.87it/s]"
     ]
    },
    {
     "name": "stdout",
     "output_type": "stream",
     "text": [
      "0.08255235724494202\n",
      "no match for /home/chuongh/vm2m/data/HHM/synthesized/masks/28273/0.png\n"
     ]
    },
    {
     "name": "stderr",
     "output_type": "stream",
     "text": [
      " 83%|████████▎ | 41336/49737 [52:38<09:44, 14.36it/s]"
     ]
    },
    {
     "name": "stdout",
     "output_type": "stream",
     "text": [
      "0.22528930904074435\n",
      "no match for /home/chuongh/vm2m/data/HHM/synthesized/masks/45171/0.png\n"
     ]
    },
    {
     "name": "stderr",
     "output_type": "stream",
     "text": [
      " 83%|████████▎ | 41365/49737 [52:40<11:47, 11.83it/s]"
     ]
    },
    {
     "name": "stdout",
     "output_type": "stream",
     "text": [
      "0\n",
      "no match for /home/chuongh/vm2m/data/HHM/synthesized/masks/49899/1.png\n",
      "0.010845247994820555\n",
      "no match for /home/chuongh/vm2m/data/HHM/synthesized/masks/49899/2.png\n"
     ]
    },
    {
     "name": "stderr",
     "output_type": "stream",
     "text": [
      " 83%|████████▎ | 41376/49737 [52:41<10:31, 13.25it/s]"
     ]
    },
    {
     "name": "stdout",
     "output_type": "stream",
     "text": [
      "0\n",
      "no match for /home/chuongh/vm2m/data/HHM/synthesized/masks/46514/0.png\n"
     ]
    },
    {
     "name": "stderr",
     "output_type": "stream",
     "text": [
      " 83%|████████▎ | 41384/49737 [52:42<10:27, 13.32it/s]"
     ]
    },
    {
     "name": "stdout",
     "output_type": "stream",
     "text": [
      "0.007435231161058269\n",
      "no match for /home/chuongh/vm2m/data/HHM/synthesized/masks/48197/1.png\n",
      "0.14128546850918808\n",
      "no match for /home/chuongh/vm2m/data/HHM/synthesized/masks/41742/0.png\n"
     ]
    },
    {
     "name": "stderr",
     "output_type": "stream",
     "text": [
      " 83%|████████▎ | 41388/49737 [52:42<09:48, 14.20it/s]"
     ]
    },
    {
     "name": "stdout",
     "output_type": "stream",
     "text": [
      "0\n",
      "no match for /home/chuongh/vm2m/data/HHM/synthesized/masks/158/1.png\n"
     ]
    },
    {
     "name": "stderr",
     "output_type": "stream",
     "text": [
      " 83%|████████▎ | 41390/49737 [52:42<10:37, 13.10it/s]"
     ]
    },
    {
     "name": "stdout",
     "output_type": "stream",
     "text": [
      "0.27682572203983646\n",
      "no match for /home/chuongh/vm2m/data/HHM/synthesized/masks/24685/1.png\n"
     ]
    },
    {
     "name": "stderr",
     "output_type": "stream",
     "text": [
      " 83%|████████▎ | 41421/49737 [52:44<10:04, 13.75it/s]"
     ]
    },
    {
     "name": "stdout",
     "output_type": "stream",
     "text": [
      "0.182388906833597\n",
      "no match for /home/chuongh/vm2m/data/HHM/synthesized/masks/12090/0.png\n",
      "0.008451758687163169\n",
      "no match for /home/chuongh/vm2m/data/HHM/synthesized/masks/40071/0.png\n"
     ]
    },
    {
     "name": "stderr",
     "output_type": "stream",
     "text": [
      " 83%|████████▎ | 41427/49737 [52:45<12:17, 11.26it/s]"
     ]
    },
    {
     "name": "stdout",
     "output_type": "stream",
     "text": [
      "0.07549150601239198\n",
      "no match for /home/chuongh/vm2m/data/HHM/synthesized/masks/23457/1.png\n"
     ]
    },
    {
     "name": "stderr",
     "output_type": "stream",
     "text": [
      " 83%|████████▎ | 41433/49737 [52:45<11:12, 12.36it/s]"
     ]
    },
    {
     "name": "stdout",
     "output_type": "stream",
     "text": [
      "0.14236986986951358\n",
      "no match for /home/chuongh/vm2m/data/HHM/synthesized/masks/16348/0.png\n",
      "0.024130702888468934\n",
      "no match for /home/chuongh/vm2m/data/HHM/synthesized/masks/1571/0.png\n"
     ]
    },
    {
     "name": "stderr",
     "output_type": "stream",
     "text": [
      " 83%|████████▎ | 41439/49737 [52:46<08:03, 17.17it/s]"
     ]
    },
    {
     "name": "stdout",
     "output_type": "stream",
     "text": [
      "0.24239810878493034\n",
      "no match for /home/chuongh/vm2m/data/HHM/synthesized/masks/26226/1.png\n"
     ]
    },
    {
     "name": "stderr",
     "output_type": "stream",
     "text": [
      " 83%|████████▎ | 41449/49737 [52:47<12:38, 10.93it/s]"
     ]
    },
    {
     "name": "stdout",
     "output_type": "stream",
     "text": [
      "0.02009636135107449\n",
      "no match for /home/chuongh/vm2m/data/HHM/synthesized/masks/19754/0.png\n"
     ]
    },
    {
     "name": "stderr",
     "output_type": "stream",
     "text": [
      " 83%|████████▎ | 41492/49737 [52:50<09:27, 14.54it/s]"
     ]
    },
    {
     "name": "stdout",
     "output_type": "stream",
     "text": [
      "0.25098438811114826\n",
      "no match for /home/chuongh/vm2m/data/HHM/synthesized/masks/40934/1.png\n"
     ]
    },
    {
     "name": "stderr",
     "output_type": "stream",
     "text": [
      " 83%|████████▎ | 41518/49737 [52:52<09:45, 14.03it/s]"
     ]
    },
    {
     "name": "stdout",
     "output_type": "stream",
     "text": [
      "0.23743038567592362\n",
      "no match for /home/chuongh/vm2m/data/HHM/synthesized/masks/20337/0.png\n"
     ]
    },
    {
     "name": "stderr",
     "output_type": "stream",
     "text": [
      " 84%|████████▎ | 41562/49737 [52:55<08:11, 16.62it/s]"
     ]
    },
    {
     "name": "stdout",
     "output_type": "stream",
     "text": [
      "0.12378135020392461\n",
      "no match for /home/chuongh/vm2m/data/HHM/synthesized/masks/5965/1.png\n"
     ]
    },
    {
     "name": "stderr",
     "output_type": "stream",
     "text": [
      " 84%|████████▎ | 41584/49737 [52:56<09:56, 13.67it/s]"
     ]
    },
    {
     "name": "stdout",
     "output_type": "stream",
     "text": [
      "0\n",
      "no match for /home/chuongh/vm2m/data/HHM/synthesized/masks/22981/1.png\n"
     ]
    },
    {
     "name": "stderr",
     "output_type": "stream",
     "text": [
      " 84%|████████▎ | 41599/49737 [52:58<10:02, 13.50it/s]"
     ]
    },
    {
     "name": "stdout",
     "output_type": "stream",
     "text": [
      "0.1446877943461923\n",
      "no match for /home/chuongh/vm2m/data/HHM/synthesized/masks/45787/0.png\n",
      "0.011535065157012721\n",
      "no match for /home/chuongh/vm2m/data/HHM/synthesized/masks/45787/1.png\n"
     ]
    },
    {
     "name": "stderr",
     "output_type": "stream",
     "text": [
      " 84%|████████▎ | 41638/49737 [53:01<10:46, 12.54it/s]"
     ]
    },
    {
     "name": "stdout",
     "output_type": "stream",
     "text": [
      "0.2980589277129872\n",
      "no match for /home/chuongh/vm2m/data/HHM/synthesized/masks/5424/2.png\n"
     ]
    },
    {
     "name": "stderr",
     "output_type": "stream",
     "text": [
      " 84%|████████▍ | 41657/49737 [53:02<09:08, 14.73it/s]"
     ]
    },
    {
     "name": "stdout",
     "output_type": "stream",
     "text": [
      "0\n",
      "no match for /home/chuongh/vm2m/data/HHM/synthesized/masks/14583/0.png\n"
     ]
    },
    {
     "name": "stderr",
     "output_type": "stream",
     "text": [
      " 84%|████████▍ | 41687/49737 [53:04<09:42, 13.81it/s]"
     ]
    },
    {
     "name": "stdout",
     "output_type": "stream",
     "text": [
      "0.007195838102935857\n",
      "no match for /home/chuongh/vm2m/data/HHM/synthesized/masks/21747/0.png\n"
     ]
    },
    {
     "name": "stderr",
     "output_type": "stream",
     "text": [
      " 84%|████████▍ | 41718/49737 [53:06<08:46, 15.22it/s]"
     ]
    },
    {
     "name": "stdout",
     "output_type": "stream",
     "text": [
      "0.07807147486332564\n",
      "no match for /home/chuongh/vm2m/data/HHM/synthesized/masks/25433/1.png\n"
     ]
    },
    {
     "name": "stderr",
     "output_type": "stream",
     "text": [
      " 84%|████████▍ | 41736/49737 [53:08<09:42, 13.74it/s]"
     ]
    },
    {
     "name": "stdout",
     "output_type": "stream",
     "text": [
      "0.0847115049868192\n",
      "no match for /home/chuongh/vm2m/data/HHM/synthesized/masks/26711/0.png\n"
     ]
    },
    {
     "name": "stderr",
     "output_type": "stream",
     "text": [
      " 84%|████████▍ | 41756/49737 [53:09<09:06, 14.59it/s]"
     ]
    },
    {
     "name": "stdout",
     "output_type": "stream",
     "text": [
      "0.2582266461463921\n",
      "no match for /home/chuongh/vm2m/data/HHM/synthesized/masks/4207/0.png\n"
     ]
    },
    {
     "name": "stderr",
     "output_type": "stream",
     "text": [
      " 84%|████████▍ | 41758/49737 [53:09<09:16, 14.35it/s]"
     ]
    },
    {
     "name": "stdout",
     "output_type": "stream",
     "text": [
      "0.27116501273092275\n",
      "no match for /home/chuongh/vm2m/data/HHM/synthesized/masks/47626/0.png\n"
     ]
    },
    {
     "name": "stderr",
     "output_type": "stream",
     "text": [
      " 84%|████████▍ | 41778/49737 [53:11<11:18, 11.73it/s]"
     ]
    },
    {
     "name": "stdout",
     "output_type": "stream",
     "text": [
      "0.29861818599184026\n",
      "no match for /home/chuongh/vm2m/data/HHM/synthesized/masks/36700/0.png\n"
     ]
    },
    {
     "name": "stderr",
     "output_type": "stream",
     "text": [
      " 84%|████████▍ | 41795/49737 [53:12<09:12, 14.37it/s]"
     ]
    },
    {
     "name": "stdout",
     "output_type": "stream",
     "text": [
      "0.21225056112651358\n",
      "no match for /home/chuongh/vm2m/data/HHM/synthesized/masks/45415/1.png\n"
     ]
    },
    {
     "name": "stderr",
     "output_type": "stream",
     "text": [
      " 84%|████████▍ | 41818/49737 [53:14<08:56, 14.76it/s]"
     ]
    },
    {
     "name": "stdout",
     "output_type": "stream",
     "text": [
      "0.20848557400931808\n",
      "no match for /home/chuongh/vm2m/data/HHM/synthesized/masks/23166/1.png\n"
     ]
    },
    {
     "name": "stderr",
     "output_type": "stream",
     "text": [
      " 84%|████████▍ | 41849/49737 [53:16<11:13, 11.71it/s]"
     ]
    },
    {
     "name": "stdout",
     "output_type": "stream",
     "text": [
      "0.0982143714758133\n",
      "no match for /home/chuongh/vm2m/data/HHM/synthesized/masks/43349/2.png\n"
     ]
    },
    {
     "name": "stderr",
     "output_type": "stream",
     "text": [
      " 84%|████████▍ | 41911/49737 [53:20<10:01, 13.02it/s]"
     ]
    },
    {
     "name": "stdout",
     "output_type": "stream",
     "text": [
      "0.254037385175892\n",
      "no match for /home/chuongh/vm2m/data/HHM/synthesized/masks/32117/2.png\n"
     ]
    },
    {
     "name": "stderr",
     "output_type": "stream",
     "text": [
      " 84%|████████▍ | 41943/49737 [53:22<09:36, 13.52it/s]"
     ]
    },
    {
     "name": "stdout",
     "output_type": "stream",
     "text": [
      "0\n",
      "no match for /home/chuongh/vm2m/data/HHM/synthesized/masks/21297/0.png\n"
     ]
    },
    {
     "name": "stderr",
     "output_type": "stream",
     "text": [
      " 84%|████████▍ | 42002/49737 [53:27<09:53, 13.02it/s]"
     ]
    },
    {
     "name": "stdout",
     "output_type": "stream",
     "text": [
      "0.25237972175379836\n",
      "no match for /home/chuongh/vm2m/data/HHM/synthesized/masks/22041/2.png\n"
     ]
    },
    {
     "name": "stderr",
     "output_type": "stream",
     "text": [
      " 84%|████████▍ | 42011/49737 [53:27<08:22, 15.39it/s]"
     ]
    },
    {
     "name": "stdout",
     "output_type": "stream",
     "text": [
      "0.21642903419029652\n",
      "no match for /home/chuongh/vm2m/data/HHM/synthesized/masks/15437/1.png\n"
     ]
    },
    {
     "name": "stderr",
     "output_type": "stream",
     "text": [
      " 85%|████████▍ | 42033/49737 [53:29<09:17, 13.83it/s]"
     ]
    },
    {
     "name": "stdout",
     "output_type": "stream",
     "text": [
      "0.020760826393844717\n",
      "no match for /home/chuongh/vm2m/data/HHM/synthesized/masks/46940/0.png\n"
     ]
    },
    {
     "name": "stderr",
     "output_type": "stream",
     "text": [
      " 85%|████████▍ | 42070/49737 [53:32<09:42, 13.17it/s]"
     ]
    },
    {
     "name": "stdout",
     "output_type": "stream",
     "text": [
      "0.17935524092548877\n",
      "no match for /home/chuongh/vm2m/data/HHM/synthesized/masks/9380/0.png\n"
     ]
    },
    {
     "name": "stderr",
     "output_type": "stream",
     "text": [
      " 85%|████████▍ | 42099/49737 [53:34<09:11, 13.84it/s]"
     ]
    },
    {
     "name": "stdout",
     "output_type": "stream",
     "text": [
      "0\n",
      "no match for /home/chuongh/vm2m/data/HHM/synthesized/masks/33032/0.png\n"
     ]
    },
    {
     "name": "stderr",
     "output_type": "stream",
     "text": [
      " 85%|████████▍ | 42110/49737 [53:35<08:26, 15.06it/s]"
     ]
    },
    {
     "name": "stdout",
     "output_type": "stream",
     "text": [
      "0.27054431901634607\n",
      "no match for /home/chuongh/vm2m/data/HHM/synthesized/masks/47759/2.png\n"
     ]
    },
    {
     "name": "stderr",
     "output_type": "stream",
     "text": [
      " 85%|████████▍ | 42148/49737 [53:38<09:37, 13.14it/s]"
     ]
    },
    {
     "name": "stdout",
     "output_type": "stream",
     "text": [
      "0.24541056023697302\n",
      "no match for /home/chuongh/vm2m/data/HHM/synthesized/masks/4/0.png\n"
     ]
    },
    {
     "name": "stderr",
     "output_type": "stream",
     "text": [
      " 85%|████████▍ | 42162/49737 [53:39<06:52, 18.37it/s]"
     ]
    },
    {
     "name": "stdout",
     "output_type": "stream",
     "text": [
      "0.25028497845248243\n",
      "no match for /home/chuongh/vm2m/data/HHM/synthesized/masks/48732/1.png\n",
      "0.20335300248145674\n",
      "no match for /home/chuongh/vm2m/data/HHM/synthesized/masks/48732/2.png\n",
      "0.2927503419636208\n",
      "no match for /home/chuongh/vm2m/data/HHM/synthesized/masks/4316/3.png\n"
     ]
    },
    {
     "name": "stderr",
     "output_type": "stream",
     "text": [
      " 85%|████████▍ | 42187/49737 [53:41<08:12, 15.35it/s]"
     ]
    },
    {
     "name": "stdout",
     "output_type": "stream",
     "text": [
      "0.29019613806732264\n",
      "no match for /home/chuongh/vm2m/data/HHM/synthesized/masks/1063/0.png\n"
     ]
    },
    {
     "name": "stderr",
     "output_type": "stream",
     "text": [
      " 85%|████████▍ | 42191/49737 [53:41<10:25, 12.06it/s]"
     ]
    },
    {
     "name": "stdout",
     "output_type": "stream",
     "text": [
      "0.0655849553299664\n",
      "no match for /home/chuongh/vm2m/data/HHM/synthesized/masks/39554/2.png\n"
     ]
    },
    {
     "name": "stderr",
     "output_type": "stream",
     "text": [
      " 85%|████████▍ | 42196/49737 [53:41<09:12, 13.65it/s]"
     ]
    },
    {
     "name": "stdout",
     "output_type": "stream",
     "text": [
      "0.16056902097556186\n",
      "no match for /home/chuongh/vm2m/data/HHM/synthesized/masks/46760/1.png\n"
     ]
    },
    {
     "name": "stderr",
     "output_type": "stream",
     "text": [
      " 85%|████████▍ | 42200/49737 [53:42<09:05, 13.81it/s]"
     ]
    },
    {
     "name": "stdout",
     "output_type": "stream",
     "text": [
      "0.12370819371198491\n",
      "no match for /home/chuongh/vm2m/data/HHM/synthesized/masks/26867/0.png\n"
     ]
    },
    {
     "name": "stderr",
     "output_type": "stream",
     "text": [
      " 85%|████████▍ | 42225/49737 [53:43<09:03, 13.82it/s]"
     ]
    },
    {
     "name": "stdout",
     "output_type": "stream",
     "text": [
      "0\n",
      "no match for /home/chuongh/vm2m/data/HHM/synthesized/masks/33366/0.png\n"
     ]
    },
    {
     "name": "stderr",
     "output_type": "stream",
     "text": [
      " 85%|████████▌ | 42292/49737 [53:48<07:32, 16.46it/s]"
     ]
    },
    {
     "name": "stdout",
     "output_type": "stream",
     "text": [
      "0.015492351121864447\n",
      "no match for /home/chuongh/vm2m/data/HHM/synthesized/masks/47992/2.png\n"
     ]
    },
    {
     "name": "stderr",
     "output_type": "stream",
     "text": [
      " 85%|████████▌ | 42306/49737 [53:49<11:27, 10.81it/s]"
     ]
    },
    {
     "name": "stdout",
     "output_type": "stream",
     "text": [
      "0.22269575376823122\n",
      "no match for /home/chuongh/vm2m/data/HHM/synthesized/masks/15402/2.png\n",
      "0.17682864715196447\n",
      "no match for /home/chuongh/vm2m/data/HHM/synthesized/masks/19421/1.png\n"
     ]
    },
    {
     "name": "stderr",
     "output_type": "stream",
     "text": [
      " 85%|████████▌ | 42332/49737 [53:51<08:11, 15.07it/s]"
     ]
    },
    {
     "name": "stdout",
     "output_type": "stream",
     "text": [
      "0.29016372704877447\n",
      "no match for /home/chuongh/vm2m/data/HHM/synthesized/masks/45849/2.png\n",
      "0\n",
      "no match for /home/chuongh/vm2m/data/HHM/synthesized/masks/5683/0.png\n"
     ]
    },
    {
     "name": "stderr",
     "output_type": "stream",
     "text": [
      " 85%|████████▌ | 42384/49737 [53:54<06:13, 19.68it/s]"
     ]
    },
    {
     "name": "stdout",
     "output_type": "stream",
     "text": [
      "0.03508570812027664\n",
      "no match for /home/chuongh/vm2m/data/HHM/synthesized/masks/13079/1.png\n"
     ]
    },
    {
     "name": "stderr",
     "output_type": "stream",
     "text": [
      " 85%|████████▌ | 42412/49737 [53:56<07:55, 15.39it/s]"
     ]
    },
    {
     "name": "stdout",
     "output_type": "stream",
     "text": [
      "0.07739283440295858\n",
      "no match for /home/chuongh/vm2m/data/HHM/synthesized/masks/41211/1.png\n"
     ]
    },
    {
     "name": "stderr",
     "output_type": "stream",
     "text": [
      " 85%|████████▌ | 42416/49737 [53:56<09:32, 12.79it/s]"
     ]
    },
    {
     "name": "stdout",
     "output_type": "stream",
     "text": [
      "0\n",
      "no match for /home/chuongh/vm2m/data/HHM/synthesized/masks/12523/0.png\n"
     ]
    },
    {
     "name": "stderr",
     "output_type": "stream",
     "text": [
      " 85%|████████▌ | 42461/49737 [54:00<09:43, 12.47it/s]"
     ]
    },
    {
     "name": "stdout",
     "output_type": "stream",
     "text": [
      "0.27420931147538824\n",
      "no match for /home/chuongh/vm2m/data/HHM/synthesized/masks/39013/0.png\n"
     ]
    },
    {
     "name": "stderr",
     "output_type": "stream",
     "text": [
      " 85%|████████▌ | 42468/49737 [54:00<08:04, 14.99it/s]"
     ]
    },
    {
     "name": "stdout",
     "output_type": "stream",
     "text": [
      "0.2572351545242764\n",
      "no match for /home/chuongh/vm2m/data/HHM/synthesized/masks/21080/1.png\n"
     ]
    },
    {
     "name": "stderr",
     "output_type": "stream",
     "text": [
      " 85%|████████▌ | 42488/49737 [54:02<10:33, 11.45it/s]"
     ]
    },
    {
     "name": "stdout",
     "output_type": "stream",
     "text": [
      "0.0036472840435694057\n",
      "no match for /home/chuongh/vm2m/data/HHM/synthesized/masks/46972/2.png\n"
     ]
    },
    {
     "name": "stderr",
     "output_type": "stream",
     "text": [
      " 85%|████████▌ | 42505/49737 [54:03<10:14, 11.78it/s]"
     ]
    },
    {
     "name": "stdout",
     "output_type": "stream",
     "text": [
      "0.018572214985260578\n",
      "no match for /home/chuongh/vm2m/data/HHM/synthesized/masks/20968/1.png\n"
     ]
    },
    {
     "name": "stderr",
     "output_type": "stream",
     "text": [
      " 85%|████████▌ | 42512/49737 [54:04<07:45, 15.51it/s]"
     ]
    },
    {
     "name": "stdout",
     "output_type": "stream",
     "text": [
      "0\n",
      "no match for /home/chuongh/vm2m/data/HHM/synthesized/masks/9141/0.png\n"
     ]
    },
    {
     "name": "stderr",
     "output_type": "stream",
     "text": [
      " 85%|████████▌ | 42522/49737 [54:04<10:49, 11.11it/s]"
     ]
    },
    {
     "name": "stdout",
     "output_type": "stream",
     "text": [
      "0.2573390761568178\n",
      "no match for /home/chuongh/vm2m/data/HHM/synthesized/masks/33843/0.png\n"
     ]
    },
    {
     "name": "stderr",
     "output_type": "stream",
     "text": [
      " 86%|████████▌ | 42529/49737 [54:05<07:15, 16.53it/s]"
     ]
    },
    {
     "name": "stdout",
     "output_type": "stream",
     "text": [
      "0.2746337841725534\n",
      "no match for /home/chuongh/vm2m/data/HHM/synthesized/masks/33024/2.png\n"
     ]
    },
    {
     "name": "stderr",
     "output_type": "stream",
     "text": [
      " 86%|████████▌ | 42547/49737 [54:06<10:31, 11.39it/s]"
     ]
    },
    {
     "name": "stdout",
     "output_type": "stream",
     "text": [
      "0.23200437143073208\n",
      "no match for /home/chuongh/vm2m/data/HHM/synthesized/masks/34815/1.png\n"
     ]
    },
    {
     "name": "stderr",
     "output_type": "stream",
     "text": [
      " 86%|████████▌ | 42589/49737 [54:09<10:31, 11.31it/s]"
     ]
    },
    {
     "name": "stdout",
     "output_type": "stream",
     "text": [
      "0.29220983830759023\n",
      "no match for /home/chuongh/vm2m/data/HHM/synthesized/masks/46737/1.png\n"
     ]
    },
    {
     "name": "stderr",
     "output_type": "stream",
     "text": [
      " 86%|████████▌ | 42610/49737 [54:11<07:55, 14.98it/s]"
     ]
    },
    {
     "name": "stdout",
     "output_type": "stream",
     "text": [
      "0.09056420448870793\n",
      "no match for /home/chuongh/vm2m/data/HHM/synthesized/masks/30480/1.png\n"
     ]
    },
    {
     "name": "stderr",
     "output_type": "stream",
     "text": [
      " 86%|████████▌ | 42678/49737 [54:16<07:05, 16.57it/s]"
     ]
    },
    {
     "name": "stdout",
     "output_type": "stream",
     "text": [
      "0\n",
      "no match for /home/chuongh/vm2m/data/HHM/synthesized/masks/31698/1.png\n"
     ]
    },
    {
     "name": "stderr",
     "output_type": "stream",
     "text": [
      " 86%|████████▌ | 42693/49737 [54:17<08:32, 13.75it/s]"
     ]
    },
    {
     "name": "stdout",
     "output_type": "stream",
     "text": [
      "0\n",
      "no match for /home/chuongh/vm2m/data/HHM/synthesized/masks/28555/0.png\n"
     ]
    },
    {
     "name": "stderr",
     "output_type": "stream",
     "text": [
      " 86%|████████▌ | 42702/49737 [54:18<10:35, 11.06it/s]"
     ]
    },
    {
     "name": "stdout",
     "output_type": "stream",
     "text": [
      "0.11057984726619406\n",
      "no match for /home/chuongh/vm2m/data/HHM/synthesized/masks/42442/0.png\n"
     ]
    },
    {
     "name": "stderr",
     "output_type": "stream",
     "text": [
      " 86%|████████▌ | 42753/49737 [54:22<08:39, 13.43it/s]"
     ]
    },
    {
     "name": "stdout",
     "output_type": "stream",
     "text": [
      "0.26029830546631993\n",
      "no match for /home/chuongh/vm2m/data/HHM/synthesized/masks/6205/2.png\n"
     ]
    },
    {
     "name": "stderr",
     "output_type": "stream",
     "text": [
      " 86%|████████▌ | 42773/49737 [54:23<07:24, 15.67it/s]"
     ]
    },
    {
     "name": "stdout",
     "output_type": "stream",
     "text": [
      "0.034208980430926655\n",
      "no match for /home/chuongh/vm2m/data/HHM/synthesized/masks/28675/1.png\n",
      "0.22192865353848254\n",
      "no match for /home/chuongh/vm2m/data/HHM/synthesized/masks/28675/3.png\n"
     ]
    },
    {
     "name": "stderr",
     "output_type": "stream",
     "text": [
      " 86%|████████▌ | 42778/49737 [54:23<06:18, 18.39it/s]"
     ]
    },
    {
     "name": "stdout",
     "output_type": "stream",
     "text": [
      "0.003737455150530096\n",
      "no match for /home/chuongh/vm2m/data/HHM/synthesized/masks/39468/0.png\n"
     ]
    },
    {
     "name": "stderr",
     "output_type": "stream",
     "text": [
      " 86%|████████▌ | 42794/49737 [54:24<08:14, 14.05it/s]"
     ]
    },
    {
     "name": "stdout",
     "output_type": "stream",
     "text": [
      "0.21076857937777577\n",
      "no match for /home/chuongh/vm2m/data/HHM/synthesized/masks/43557/0.png\n"
     ]
    },
    {
     "name": "stderr",
     "output_type": "stream",
     "text": [
      " 86%|████████▌ | 42806/49737 [54:25<07:30, 15.38it/s]"
     ]
    },
    {
     "name": "stdout",
     "output_type": "stream",
     "text": [
      "0\n",
      "no match for /home/chuongh/vm2m/data/HHM/synthesized/masks/4448/2.png\n",
      "0.037855995326358895\n",
      "no match for /home/chuongh/vm2m/data/HHM/synthesized/masks/7707/1.png\n"
     ]
    },
    {
     "name": "stderr",
     "output_type": "stream",
     "text": [
      " 86%|████████▌ | 42814/49737 [54:26<07:19, 15.76it/s]"
     ]
    },
    {
     "name": "stdout",
     "output_type": "stream",
     "text": [
      "0.07548391739198428\n",
      "no match for /home/chuongh/vm2m/data/HHM/synthesized/masks/14637/0.png\n"
     ]
    },
    {
     "name": "stderr",
     "output_type": "stream",
     "text": [
      " 86%|████████▌ | 42818/49737 [54:26<08:12, 14.04it/s]"
     ]
    },
    {
     "name": "stdout",
     "output_type": "stream",
     "text": [
      "0.1664781220630191\n",
      "no match for /home/chuongh/vm2m/data/HHM/synthesized/masks/42711/2.png\n"
     ]
    },
    {
     "name": "stderr",
     "output_type": "stream",
     "text": [
      " 86%|████████▌ | 42845/49737 [54:28<06:55, 16.60it/s]"
     ]
    },
    {
     "name": "stdout",
     "output_type": "stream",
     "text": [
      "0\n",
      "no match for /home/chuongh/vm2m/data/HHM/synthesized/masks/9086/0.png\n"
     ]
    },
    {
     "name": "stderr",
     "output_type": "stream",
     "text": [
      " 86%|████████▌ | 42898/49737 [54:32<08:31, 13.37it/s]"
     ]
    },
    {
     "name": "stdout",
     "output_type": "stream",
     "text": [
      "0.12786262135237858\n",
      "no match for /home/chuongh/vm2m/data/HHM/synthesized/masks/30283/1.png\n"
     ]
    },
    {
     "name": "stderr",
     "output_type": "stream",
     "text": [
      " 86%|████████▋ | 42931/49737 [54:34<06:37, 17.12it/s]"
     ]
    },
    {
     "name": "stdout",
     "output_type": "stream",
     "text": [
      "0.06372278712739461\n",
      "no match for /home/chuongh/vm2m/data/HHM/synthesized/masks/1496/0.png\n"
     ]
    },
    {
     "name": "stderr",
     "output_type": "stream",
     "text": [
      " 86%|████████▋ | 42936/49737 [54:34<06:50, 16.56it/s]"
     ]
    },
    {
     "name": "stdout",
     "output_type": "stream",
     "text": [
      "0.1864593649220352\n",
      "no match for /home/chuongh/vm2m/data/HHM/synthesized/masks/16803/0.png\n"
     ]
    },
    {
     "name": "stderr",
     "output_type": "stream",
     "text": [
      " 86%|████████▋ | 42991/49737 [54:39<09:10, 12.26it/s]"
     ]
    },
    {
     "name": "stdout",
     "output_type": "stream",
     "text": [
      "0.01206167668397889\n",
      "no match for /home/chuongh/vm2m/data/HHM/synthesized/masks/22689/1.png\n"
     ]
    },
    {
     "name": "stderr",
     "output_type": "stream",
     "text": [
      " 86%|████████▋ | 43006/49737 [54:39<05:30, 20.35it/s]"
     ]
    },
    {
     "name": "stdout",
     "output_type": "stream",
     "text": [
      "0\n",
      "no match for /home/chuongh/vm2m/data/HHM/synthesized/masks/3478/1.png\n"
     ]
    },
    {
     "name": "stderr",
     "output_type": "stream",
     "text": [
      " 86%|████████▋ | 43012/49737 [54:40<07:20, 15.27it/s]"
     ]
    },
    {
     "name": "stdout",
     "output_type": "stream",
     "text": [
      "0.2174246162629619\n",
      "no match for /home/chuongh/vm2m/data/HHM/synthesized/masks/13121/1.png\n"
     ]
    },
    {
     "name": "stderr",
     "output_type": "stream",
     "text": [
      " 86%|████████▋ | 43018/49737 [54:40<08:00, 13.99it/s]"
     ]
    },
    {
     "name": "stdout",
     "output_type": "stream",
     "text": [
      "0\n",
      "no match for /home/chuongh/vm2m/data/HHM/synthesized/masks/302/0.png\n"
     ]
    },
    {
     "name": "stderr",
     "output_type": "stream",
     "text": [
      " 87%|████████▋ | 43036/49737 [54:41<05:34, 20.03it/s]"
     ]
    },
    {
     "name": "stdout",
     "output_type": "stream",
     "text": [
      "0.2994213039351358\n",
      "no match for /home/chuongh/vm2m/data/HHM/synthesized/masks/40260/0.png\n"
     ]
    },
    {
     "name": "stderr",
     "output_type": "stream",
     "text": [
      " 87%|████████▋ | 43053/49737 [54:43<08:12, 13.56it/s]"
     ]
    },
    {
     "name": "stdout",
     "output_type": "stream",
     "text": [
      "0.21877872692364458\n",
      "no match for /home/chuongh/vm2m/data/HHM/synthesized/masks/19751/0.png\n"
     ]
    },
    {
     "name": "stderr",
     "output_type": "stream",
     "text": [
      " 87%|████████▋ | 43069/49737 [54:44<07:56, 14.01it/s]"
     ]
    },
    {
     "name": "stdout",
     "output_type": "stream",
     "text": [
      "0.011846458816134203\n",
      "no match for /home/chuongh/vm2m/data/HHM/synthesized/masks/41103/0.png\n"
     ]
    },
    {
     "name": "stderr",
     "output_type": "stream",
     "text": [
      " 87%|████████▋ | 43081/49737 [54:45<07:49, 14.19it/s]"
     ]
    },
    {
     "name": "stdout",
     "output_type": "stream",
     "text": [
      "0\n",
      "no match for /home/chuongh/vm2m/data/HHM/synthesized/masks/44139/1.png\n"
     ]
    },
    {
     "name": "stderr",
     "output_type": "stream",
     "text": [
      " 87%|████████▋ | 43090/49737 [54:46<11:36,  9.54it/s]"
     ]
    },
    {
     "name": "stdout",
     "output_type": "stream",
     "text": [
      "0.005637543188989475\n",
      "no match for /home/chuongh/vm2m/data/HHM/synthesized/masks/19858/0.png\n"
     ]
    },
    {
     "name": "stderr",
     "output_type": "stream",
     "text": [
      " 87%|████████▋ | 43106/49737 [54:47<08:17, 13.33it/s]"
     ]
    },
    {
     "name": "stdout",
     "output_type": "stream",
     "text": [
      "0.021577089054474377\n",
      "no match for /home/chuongh/vm2m/data/HHM/synthesized/masks/5984/0.png\n"
     ]
    },
    {
     "name": "stderr",
     "output_type": "stream",
     "text": [
      " 87%|████████▋ | 43154/49737 [54:51<07:47, 14.07it/s]"
     ]
    },
    {
     "name": "stdout",
     "output_type": "stream",
     "text": [
      "0.0002862526383995548\n",
      "no match for /home/chuongh/vm2m/data/HHM/synthesized/masks/33378/2.png\n"
     ]
    },
    {
     "name": "stderr",
     "output_type": "stream",
     "text": [
      " 87%|████████▋ | 43197/49737 [54:55<08:11, 13.31it/s]"
     ]
    },
    {
     "name": "stdout",
     "output_type": "stream",
     "text": [
      "0.23830884407637543\n",
      "no match for /home/chuongh/vm2m/data/HHM/synthesized/masks/39390/2.png\n",
      "0.0046522929317143885\n",
      "no match for /home/chuongh/vm2m/data/HHM/synthesized/masks/20880/1.png\n"
     ]
    },
    {
     "name": "stderr",
     "output_type": "stream",
     "text": [
      " 87%|████████▋ | 43229/49737 [54:57<06:11, 17.52it/s]"
     ]
    },
    {
     "name": "stdout",
     "output_type": "stream",
     "text": [
      "0.21347045810239457\n",
      "no match for /home/chuongh/vm2m/data/HHM/synthesized/masks/1691/0.png\n"
     ]
    },
    {
     "name": "stderr",
     "output_type": "stream",
     "text": [
      " 87%|████████▋ | 43231/49737 [54:57<06:57, 15.57it/s]"
     ]
    },
    {
     "name": "stdout",
     "output_type": "stream",
     "text": [
      "0.06975080655742304\n",
      "no match for /home/chuongh/vm2m/data/HHM/synthesized/masks/34956/0.png\n"
     ]
    },
    {
     "name": "stderr",
     "output_type": "stream",
     "text": [
      " 87%|████████▋ | 43246/49737 [54:58<07:38, 14.17it/s]"
     ]
    },
    {
     "name": "stdout",
     "output_type": "stream",
     "text": [
      "0.23846594018948483\n",
      "no match for /home/chuongh/vm2m/data/HHM/synthesized/masks/29592/0.png\n"
     ]
    },
    {
     "name": "stderr",
     "output_type": "stream",
     "text": [
      " 87%|████████▋ | 43296/49737 [55:02<08:39, 12.40it/s]"
     ]
    },
    {
     "name": "stdout",
     "output_type": "stream",
     "text": [
      "0\n",
      "no match for /home/chuongh/vm2m/data/HHM/synthesized/masks/13085/0.png\n"
     ]
    },
    {
     "name": "stderr",
     "output_type": "stream",
     "text": [
      " 87%|████████▋ | 43301/49737 [55:02<08:14, 13.02it/s]"
     ]
    },
    {
     "name": "stdout",
     "output_type": "stream",
     "text": [
      "0.27781279838199635\n",
      "no match for /home/chuongh/vm2m/data/HHM/synthesized/masks/36381/1.png\n",
      "0.2901835653104099\n",
      "no match for /home/chuongh/vm2m/data/HHM/synthesized/masks/2262/1.png\n"
     ]
    },
    {
     "name": "stderr",
     "output_type": "stream",
     "text": [
      " 87%|████████▋ | 43303/49737 [55:03<08:07, 13.19it/s]"
     ]
    },
    {
     "name": "stdout",
     "output_type": "stream",
     "text": [
      "0.032457062447252216\n",
      "no match for /home/chuongh/vm2m/data/HHM/synthesized/masks/13890/1.png\n"
     ]
    },
    {
     "name": "stderr",
     "output_type": "stream",
     "text": [
      " 87%|████████▋ | 43316/49737 [55:04<09:14, 11.59it/s]"
     ]
    },
    {
     "name": "stdout",
     "output_type": "stream",
     "text": [
      "0.016209703547680407\n",
      "no match for /home/chuongh/vm2m/data/HHM/synthesized/masks/3112/0.png\n"
     ]
    },
    {
     "name": "stderr",
     "output_type": "stream",
     "text": [
      " 87%|████████▋ | 43376/49737 [55:08<07:34, 13.98it/s]"
     ]
    },
    {
     "name": "stdout",
     "output_type": "stream",
     "text": [
      "0.05584249827028047\n",
      "no match for /home/chuongh/vm2m/data/HHM/synthesized/masks/19440/0.png\n"
     ]
    },
    {
     "name": "stderr",
     "output_type": "stream",
     "text": [
      " 87%|████████▋ | 43429/49737 [55:13<07:47, 13.48it/s]"
     ]
    },
    {
     "name": "stdout",
     "output_type": "stream",
     "text": [
      "0.28603218031324074\n",
      "no match for /home/chuongh/vm2m/data/HHM/synthesized/masks/49317/2.png\n"
     ]
    },
    {
     "name": "stderr",
     "output_type": "stream",
     "text": [
      " 87%|████████▋ | 43440/49737 [55:14<08:03, 13.03it/s]"
     ]
    },
    {
     "name": "stdout",
     "output_type": "stream",
     "text": [
      "0.2757430290890344\n",
      "no match for /home/chuongh/vm2m/data/HHM/synthesized/masks/32956/2.png\n"
     ]
    },
    {
     "name": "stderr",
     "output_type": "stream",
     "text": [
      " 87%|████████▋ | 43454/49737 [55:15<08:55, 11.73it/s]"
     ]
    },
    {
     "name": "stdout",
     "output_type": "stream",
     "text": [
      "0.1520851485102459\n",
      "no match for /home/chuongh/vm2m/data/HHM/synthesized/masks/14015/0.png\n"
     ]
    },
    {
     "name": "stderr",
     "output_type": "stream",
     "text": [
      " 87%|████████▋ | 43474/49737 [55:16<08:45, 11.92it/s]"
     ]
    },
    {
     "name": "stdout",
     "output_type": "stream",
     "text": [
      "0.28573210276765665\n",
      "no match for /home/chuongh/vm2m/data/HHM/synthesized/masks/28201/2.png\n"
     ]
    },
    {
     "name": "stderr",
     "output_type": "stream",
     "text": [
      " 87%|████████▋ | 43480/49737 [55:17<07:27, 14.00it/s]"
     ]
    },
    {
     "name": "stdout",
     "output_type": "stream",
     "text": [
      "0.20612263653457163\n",
      "no match for /home/chuongh/vm2m/data/HHM/synthesized/masks/22380/0.png\n"
     ]
    },
    {
     "name": "stderr",
     "output_type": "stream",
     "text": [
      " 87%|████████▋ | 43497/49737 [55:18<06:40, 15.59it/s]"
     ]
    },
    {
     "name": "stdout",
     "output_type": "stream",
     "text": [
      "0.22145145333686087\n",
      "no match for /home/chuongh/vm2m/data/HHM/synthesized/masks/33424/0.png\n"
     ]
    },
    {
     "name": "stderr",
     "output_type": "stream",
     "text": [
      " 87%|████████▋ | 43510/49737 [55:19<07:27, 13.93it/s]"
     ]
    },
    {
     "name": "stdout",
     "output_type": "stream",
     "text": [
      "0.2738454559146965\n",
      "no match for /home/chuongh/vm2m/data/HHM/synthesized/masks/12328/1.png\n"
     ]
    },
    {
     "name": "stderr",
     "output_type": "stream",
     "text": [
      " 88%|████████▊ | 43548/49737 [55:21<08:34, 12.03it/s]"
     ]
    },
    {
     "name": "stdout",
     "output_type": "stream",
     "text": [
      "0.02625908476673533\n",
      "no match for /home/chuongh/vm2m/data/HHM/synthesized/masks/9030/0.png\n"
     ]
    },
    {
     "name": "stderr",
     "output_type": "stream",
     "text": [
      " 88%|████████▊ | 43567/49737 [55:23<08:55, 11.53it/s]"
     ]
    },
    {
     "name": "stdout",
     "output_type": "stream",
     "text": [
      "0.20160486967266464\n",
      "no match for /home/chuongh/vm2m/data/HHM/synthesized/masks/25844/0.png\n"
     ]
    },
    {
     "name": "stderr",
     "output_type": "stream",
     "text": [
      " 88%|████████▊ | 43582/49737 [55:24<08:17, 12.37it/s]"
     ]
    },
    {
     "name": "stdout",
     "output_type": "stream",
     "text": [
      "0.02355754407844308\n",
      "no match for /home/chuongh/vm2m/data/HHM/synthesized/masks/36714/0.png\n"
     ]
    },
    {
     "name": "stderr",
     "output_type": "stream",
     "text": [
      " 88%|████████▊ | 43647/49737 [55:29<07:19, 13.86it/s]"
     ]
    },
    {
     "name": "stdout",
     "output_type": "stream",
     "text": [
      "0.1528818238916654\n",
      "no match for /home/chuongh/vm2m/data/HHM/synthesized/masks/35649/1.png\n"
     ]
    },
    {
     "name": "stderr",
     "output_type": "stream",
     "text": [
      " 88%|████████▊ | 43658/49737 [55:30<08:22, 12.09it/s]"
     ]
    },
    {
     "name": "stdout",
     "output_type": "stream",
     "text": [
      "0\n",
      "no match for /home/chuongh/vm2m/data/HHM/synthesized/masks/55/0.png\n"
     ]
    },
    {
     "name": "stderr",
     "output_type": "stream",
     "text": [
      " 88%|████████▊ | 43664/49737 [55:30<09:15, 10.93it/s]"
     ]
    },
    {
     "name": "stdout",
     "output_type": "stream",
     "text": [
      "0\n",
      "no match for /home/chuongh/vm2m/data/HHM/synthesized/masks/27660/2.png\n"
     ]
    },
    {
     "name": "stderr",
     "output_type": "stream",
     "text": [
      " 88%|████████▊ | 43693/49737 [55:33<08:14, 12.22it/s]"
     ]
    },
    {
     "name": "stdout",
     "output_type": "stream",
     "text": [
      "0.2991033069203168\n",
      "no match for /home/chuongh/vm2m/data/HHM/synthesized/masks/23109/2.png\n"
     ]
    },
    {
     "name": "stderr",
     "output_type": "stream",
     "text": [
      " 88%|████████▊ | 43718/49737 [55:35<07:07, 14.08it/s]"
     ]
    },
    {
     "name": "stdout",
     "output_type": "stream",
     "text": [
      "0.24367818595245336\n",
      "no match for /home/chuongh/vm2m/data/HHM/synthesized/masks/12297/0.png\n",
      "0.0008323352439600758\n",
      "no match for /home/chuongh/vm2m/data/HHM/synthesized/masks/12297/2.png\n"
     ]
    },
    {
     "name": "stderr",
     "output_type": "stream",
     "text": [
      " 88%|████████▊ | 43750/49737 [55:37<07:48, 12.79it/s]"
     ]
    },
    {
     "name": "stdout",
     "output_type": "stream",
     "text": [
      "0.2732454299271865\n",
      "no match for /home/chuongh/vm2m/data/HHM/synthesized/masks/42106/0.png\n"
     ]
    },
    {
     "name": "stderr",
     "output_type": "stream",
     "text": [
      " 88%|████████▊ | 43795/49737 [55:40<08:20, 11.86it/s]"
     ]
    },
    {
     "name": "stdout",
     "output_type": "stream",
     "text": [
      "0.24338405764881235\n",
      "no match for /home/chuongh/vm2m/data/HHM/synthesized/masks/26877/1.png\n"
     ]
    },
    {
     "name": "stderr",
     "output_type": "stream",
     "text": [
      " 88%|████████▊ | 43826/49737 [55:43<06:51, 14.37it/s]"
     ]
    },
    {
     "name": "stdout",
     "output_type": "stream",
     "text": [
      "0.021645460009812514\n",
      "no match for /home/chuongh/vm2m/data/HHM/synthesized/masks/29238/0.png\n"
     ]
    },
    {
     "name": "stderr",
     "output_type": "stream",
     "text": [
      " 88%|████████▊ | 43836/49737 [55:43<05:40, 17.33it/s]"
     ]
    },
    {
     "name": "stdout",
     "output_type": "stream",
     "text": [
      "0.06757072588881154\n",
      "no match for /home/chuongh/vm2m/data/HHM/synthesized/masks/19947/1.png\n"
     ]
    },
    {
     "name": "stderr",
     "output_type": "stream",
     "text": [
      " 88%|████████▊ | 43849/49737 [55:44<07:34, 12.94it/s]"
     ]
    },
    {
     "name": "stdout",
     "output_type": "stream",
     "text": [
      "0.2275872344482654\n",
      "no match for /home/chuongh/vm2m/data/HHM/synthesized/masks/8450/1.png\n"
     ]
    },
    {
     "name": "stderr",
     "output_type": "stream",
     "text": [
      " 88%|████████▊ | 43875/49737 [55:47<08:45, 11.16it/s]"
     ]
    },
    {
     "name": "stdout",
     "output_type": "stream",
     "text": [
      "0.21613694132890943\n",
      "no match for /home/chuongh/vm2m/data/HHM/synthesized/masks/32090/0.png\n"
     ]
    },
    {
     "name": "stderr",
     "output_type": "stream",
     "text": [
      " 88%|████████▊ | 43902/49737 [55:48<05:49, 16.72it/s]"
     ]
    },
    {
     "name": "stdout",
     "output_type": "stream",
     "text": [
      "0.03371448609443072\n",
      "no match for /home/chuongh/vm2m/data/HHM/synthesized/masks/14330/0.png\n"
     ]
    },
    {
     "name": "stderr",
     "output_type": "stream",
     "text": [
      " 88%|████████▊ | 43994/49737 [55:55<06:22, 15.01it/s]"
     ]
    },
    {
     "name": "stdout",
     "output_type": "stream",
     "text": [
      "0.14256100799616925\n",
      "no match for /home/chuongh/vm2m/data/HHM/synthesized/masks/21036/0.png\n"
     ]
    },
    {
     "name": "stderr",
     "output_type": "stream",
     "text": [
      " 89%|████████▊ | 44082/49737 [56:02<07:47, 12.10it/s]"
     ]
    },
    {
     "name": "stdout",
     "output_type": "stream",
     "text": [
      "0.25000602073294215\n",
      "no match for /home/chuongh/vm2m/data/HHM/synthesized/masks/49262/0.png\n"
     ]
    },
    {
     "name": "stderr",
     "output_type": "stream",
     "text": [
      " 89%|████████▊ | 44106/49737 [56:04<06:11, 15.17it/s]"
     ]
    },
    {
     "name": "stdout",
     "output_type": "stream",
     "text": [
      "0.06343217887759334\n",
      "no match for /home/chuongh/vm2m/data/HHM/synthesized/masks/41189/0.png\n"
     ]
    },
    {
     "name": "stderr",
     "output_type": "stream",
     "text": [
      " 89%|████████▊ | 44114/49737 [56:04<05:42, 16.44it/s]"
     ]
    },
    {
     "name": "stdout",
     "output_type": "stream",
     "text": [
      "0\n",
      "no match for /home/chuongh/vm2m/data/HHM/synthesized/masks/25829/0.png\n"
     ]
    },
    {
     "name": "stderr",
     "output_type": "stream",
     "text": [
      " 89%|████████▊ | 44122/49737 [56:05<05:27, 17.16it/s]"
     ]
    },
    {
     "name": "stdout",
     "output_type": "stream",
     "text": [
      "0.2981157058086845\n",
      "no match for /home/chuongh/vm2m/data/HHM/synthesized/masks/24621/1.png\n",
      "0.23578173332449814\n",
      "no match for /home/chuongh/vm2m/data/HHM/synthesized/masks/24621/2.png\n"
     ]
    },
    {
     "name": "stderr",
     "output_type": "stream",
     "text": [
      " 89%|████████▊ | 44128/49737 [56:05<06:31, 14.33it/s]"
     ]
    },
    {
     "name": "stdout",
     "output_type": "stream",
     "text": [
      "0.14910199391359058\n",
      "no match for /home/chuongh/vm2m/data/HHM/synthesized/masks/44816/1.png\n",
      "0.022869258408000727\n",
      "no match for /home/chuongh/vm2m/data/HHM/synthesized/masks/4153/0.png\n"
     ]
    },
    {
     "name": "stderr",
     "output_type": "stream",
     "text": [
      " 89%|████████▉ | 44149/49737 [56:06<04:48, 19.36it/s]"
     ]
    },
    {
     "name": "stdout",
     "output_type": "stream",
     "text": [
      "0.08198991826926542\n",
      "no match for /home/chuongh/vm2m/data/HHM/synthesized/masks/48492/1.png\n"
     ]
    },
    {
     "name": "stderr",
     "output_type": "stream",
     "text": [
      " 89%|████████▉ | 44152/49737 [56:07<05:43, 16.27it/s]"
     ]
    },
    {
     "name": "stdout",
     "output_type": "stream",
     "text": [
      "0.2454795390665294\n",
      "no match for /home/chuongh/vm2m/data/HHM/synthesized/masks/33976/1.png\n"
     ]
    },
    {
     "name": "stderr",
     "output_type": "stream",
     "text": [
      " 89%|████████▉ | 44200/49737 [56:10<08:23, 10.99it/s]"
     ]
    },
    {
     "name": "stdout",
     "output_type": "stream",
     "text": [
      "0.2501944286401212\n",
      "no match for /home/chuongh/vm2m/data/HHM/synthesized/masks/902/0.png\n"
     ]
    },
    {
     "name": "stderr",
     "output_type": "stream",
     "text": [
      " 89%|████████▉ | 44240/49737 [56:13<05:35, 16.37it/s]"
     ]
    },
    {
     "name": "stdout",
     "output_type": "stream",
     "text": [
      "0.20290894040908722\n",
      "no match for /home/chuongh/vm2m/data/HHM/synthesized/masks/40267/1.png\n"
     ]
    },
    {
     "name": "stderr",
     "output_type": "stream",
     "text": [
      " 89%|████████▉ | 44249/49737 [56:14<08:52, 10.31it/s]"
     ]
    },
    {
     "name": "stdout",
     "output_type": "stream",
     "text": [
      "0.13836195173226531\n",
      "no match for /home/chuongh/vm2m/data/HHM/synthesized/masks/45641/0.png\n"
     ]
    },
    {
     "name": "stderr",
     "output_type": "stream",
     "text": [
      " 89%|████████▉ | 44261/49737 [56:15<07:40, 11.88it/s]"
     ]
    },
    {
     "name": "stdout",
     "output_type": "stream",
     "text": [
      "0.014654236931116034\n",
      "no match for /home/chuongh/vm2m/data/HHM/synthesized/masks/19355/0.png\n"
     ]
    },
    {
     "name": "stderr",
     "output_type": "stream",
     "text": [
      " 89%|████████▉ | 44352/49737 [56:23<08:57, 10.03it/s]"
     ]
    },
    {
     "name": "stdout",
     "output_type": "stream",
     "text": [
      "0.10667802003003833\n",
      "no match for /home/chuongh/vm2m/data/HHM/synthesized/masks/42931/2.png\n"
     ]
    },
    {
     "name": "stderr",
     "output_type": "stream",
     "text": [
      " 89%|████████▉ | 44373/49737 [56:25<08:23, 10.66it/s]"
     ]
    },
    {
     "name": "stdout",
     "output_type": "stream",
     "text": [
      "0.06629263074050888\n",
      "no match for /home/chuongh/vm2m/data/HHM/synthesized/masks/48805/0.png\n",
      "0.27504503914129325\n",
      "no match for /home/chuongh/vm2m/data/HHM/synthesized/masks/7686/0.png\n",
      "0.18529296630476633\n",
      "no match for /home/chuongh/vm2m/data/HHM/synthesized/masks/7686/1.png\n"
     ]
    },
    {
     "name": "stderr",
     "output_type": "stream",
     "text": [
      " 89%|████████▉ | 44388/49737 [56:26<06:11, 14.40it/s]"
     ]
    },
    {
     "name": "stdout",
     "output_type": "stream",
     "text": [
      "0.013014415553432862\n",
      "no match for /home/chuongh/vm2m/data/HHM/synthesized/masks/46645/0.png\n"
     ]
    },
    {
     "name": "stderr",
     "output_type": "stream",
     "text": [
      " 89%|████████▉ | 44444/49737 [56:30<07:18, 12.08it/s]"
     ]
    },
    {
     "name": "stdout",
     "output_type": "stream",
     "text": [
      "0.0024547238729691087\n",
      "no match for /home/chuongh/vm2m/data/HHM/synthesized/masks/28700/0.png\n"
     ]
    },
    {
     "name": "stderr",
     "output_type": "stream",
     "text": [
      " 89%|████████▉ | 44474/49737 [56:33<10:02,  8.74it/s]"
     ]
    },
    {
     "name": "stdout",
     "output_type": "stream",
     "text": [
      "0.299227828862011\n",
      "no match for /home/chuongh/vm2m/data/HHM/synthesized/masks/22052/0.png\n"
     ]
    },
    {
     "name": "stderr",
     "output_type": "stream",
     "text": [
      " 89%|████████▉ | 44487/49737 [56:34<07:09, 12.24it/s]"
     ]
    },
    {
     "name": "stdout",
     "output_type": "stream",
     "text": [
      "0.03988625780059438\n",
      "no match for /home/chuongh/vm2m/data/HHM/synthesized/masks/30259/0.png\n"
     ]
    },
    {
     "name": "stderr",
     "output_type": "stream",
     "text": [
      " 89%|████████▉ | 44492/49737 [56:34<05:55, 14.77it/s]"
     ]
    },
    {
     "name": "stdout",
     "output_type": "stream",
     "text": [
      "0.01264966544735627\n",
      "no match for /home/chuongh/vm2m/data/HHM/synthesized/masks/41662/0.png\n"
     ]
    },
    {
     "name": "stderr",
     "output_type": "stream",
     "text": [
      " 89%|████████▉ | 44496/49737 [56:34<04:54, 17.77it/s]"
     ]
    },
    {
     "name": "stdout",
     "output_type": "stream",
     "text": [
      "0.15631287209989303\n",
      "no match for /home/chuongh/vm2m/data/HHM/synthesized/masks/6042/1.png\n"
     ]
    },
    {
     "name": "stderr",
     "output_type": "stream",
     "text": [
      " 90%|████████▉ | 44519/49737 [56:36<06:36, 13.17it/s]"
     ]
    },
    {
     "name": "stdout",
     "output_type": "stream",
     "text": [
      "0\n",
      "no match for /home/chuongh/vm2m/data/HHM/synthesized/masks/6403/1.png\n"
     ]
    },
    {
     "name": "stderr",
     "output_type": "stream",
     "text": [
      " 90%|████████▉ | 44532/49737 [56:37<08:21, 10.37it/s]"
     ]
    },
    {
     "name": "stdout",
     "output_type": "stream",
     "text": [
      "0.2586282197621256\n",
      "no match for /home/chuongh/vm2m/data/HHM/synthesized/masks/24769/3.png\n"
     ]
    },
    {
     "name": "stderr",
     "output_type": "stream",
     "text": [
      " 90%|████████▉ | 44573/49737 [56:40<06:25, 13.40it/s]"
     ]
    },
    {
     "name": "stdout",
     "output_type": "stream",
     "text": [
      "0.1923945641031781\n",
      "no match for /home/chuongh/vm2m/data/HHM/synthesized/masks/9372/2.png\n"
     ]
    },
    {
     "name": "stderr",
     "output_type": "stream",
     "text": [
      " 90%|████████▉ | 44584/49737 [56:41<06:47, 12.65it/s]"
     ]
    },
    {
     "name": "stdout",
     "output_type": "stream",
     "text": [
      "0.050604178470327\n",
      "no match for /home/chuongh/vm2m/data/HHM/synthesized/masks/43047/0.png\n"
     ]
    },
    {
     "name": "stderr",
     "output_type": "stream",
     "text": [
      " 90%|████████▉ | 44609/49737 [56:43<06:42, 12.74it/s]"
     ]
    },
    {
     "name": "stdout",
     "output_type": "stream",
     "text": [
      "0.09580132105953096\n",
      "no match for /home/chuongh/vm2m/data/HHM/synthesized/masks/19306/0.png\n",
      "0.05815897740459201\n",
      "no match for /home/chuongh/vm2m/data/HHM/synthesized/masks/17964/1.png\n"
     ]
    },
    {
     "name": "stderr",
     "output_type": "stream",
     "text": [
      " 90%|████████▉ | 44631/49737 [56:45<06:26, 13.22it/s]"
     ]
    },
    {
     "name": "stdout",
     "output_type": "stream",
     "text": [
      "0.008823917720799138\n",
      "no match for /home/chuongh/vm2m/data/HHM/synthesized/masks/44532/1.png\n"
     ]
    },
    {
     "name": "stderr",
     "output_type": "stream",
     "text": [
      " 90%|████████▉ | 44635/49737 [56:45<07:01, 12.11it/s]"
     ]
    },
    {
     "name": "stdout",
     "output_type": "stream",
     "text": [
      "0.00742835376678426\n",
      "no match for /home/chuongh/vm2m/data/HHM/synthesized/masks/18496/0.png\n",
      "0\n",
      "no match for /home/chuongh/vm2m/data/HHM/synthesized/masks/18841/0.png\n"
     ]
    },
    {
     "name": "stderr",
     "output_type": "stream",
     "text": [
      " 90%|████████▉ | 44642/49737 [56:46<06:37, 12.81it/s]"
     ]
    },
    {
     "name": "stdout",
     "output_type": "stream",
     "text": [
      "0.1761477156966313\n",
      "no match for /home/chuongh/vm2m/data/HHM/synthesized/masks/36534/1.png\n"
     ]
    },
    {
     "name": "stderr",
     "output_type": "stream",
     "text": [
      " 90%|████████▉ | 44650/49737 [56:46<06:19, 13.40it/s]"
     ]
    },
    {
     "name": "stdout",
     "output_type": "stream",
     "text": [
      "0.00907810849920179\n",
      "no match for /home/chuongh/vm2m/data/HHM/synthesized/masks/42523/2.png\n"
     ]
    },
    {
     "name": "stderr",
     "output_type": "stream",
     "text": [
      " 90%|████████▉ | 44654/49737 [56:46<06:12, 13.66it/s]"
     ]
    },
    {
     "name": "stdout",
     "output_type": "stream",
     "text": [
      "0.23098303303471004\n",
      "no match for /home/chuongh/vm2m/data/HHM/synthesized/masks/2427/0.png\n"
     ]
    },
    {
     "name": "stderr",
     "output_type": "stream",
     "text": [
      " 90%|████████▉ | 44682/49737 [56:49<05:42, 14.78it/s]"
     ]
    },
    {
     "name": "stdout",
     "output_type": "stream",
     "text": [
      "0.16875776125848851\n",
      "no match for /home/chuongh/vm2m/data/HHM/synthesized/masks/21864/0.png\n"
     ]
    },
    {
     "name": "stderr",
     "output_type": "stream",
     "text": [
      " 90%|████████▉ | 44696/49737 [56:50<06:07, 13.73it/s]"
     ]
    },
    {
     "name": "stdout",
     "output_type": "stream",
     "text": [
      "0.27595464668905456\n",
      "no match for /home/chuongh/vm2m/data/HHM/synthesized/masks/37066/0.png\n"
     ]
    },
    {
     "name": "stderr",
     "output_type": "stream",
     "text": [
      " 90%|████████▉ | 44736/49737 [56:53<06:20, 13.15it/s]"
     ]
    },
    {
     "name": "stdout",
     "output_type": "stream",
     "text": [
      "0.29976205686470647\n",
      "no match for /home/chuongh/vm2m/data/HHM/synthesized/masks/4978/0.png\n"
     ]
    },
    {
     "name": "stderr",
     "output_type": "stream",
     "text": [
      " 90%|████████▉ | 44763/49737 [56:54<04:21, 18.99it/s]"
     ]
    },
    {
     "name": "stdout",
     "output_type": "stream",
     "text": [
      "0\n",
      "no match for /home/chuongh/vm2m/data/HHM/synthesized/masks/5648/0.png\n"
     ]
    },
    {
     "name": "stderr",
     "output_type": "stream",
     "text": [
      " 90%|█████████ | 44803/49737 [56:58<05:49, 14.11it/s]"
     ]
    },
    {
     "name": "stdout",
     "output_type": "stream",
     "text": [
      "0.29980956914940937\n",
      "no match for /home/chuongh/vm2m/data/HHM/synthesized/masks/12735/1.png\n"
     ]
    },
    {
     "name": "stderr",
     "output_type": "stream",
     "text": [
      " 90%|█████████ | 44822/49737 [56:59<04:31, 18.08it/s]"
     ]
    },
    {
     "name": "stdout",
     "output_type": "stream",
     "text": [
      "0.08868330933896233\n",
      "no match for /home/chuongh/vm2m/data/HHM/synthesized/masks/16130/1.png\n"
     ]
    },
    {
     "name": "stderr",
     "output_type": "stream",
     "text": [
      " 90%|█████████ | 44858/49737 [57:01<05:48, 14.00it/s]"
     ]
    },
    {
     "name": "stdout",
     "output_type": "stream",
     "text": [
      "0.052639816935540276\n",
      "no match for /home/chuongh/vm2m/data/HHM/synthesized/masks/6208/0.png\n"
     ]
    },
    {
     "name": "stderr",
     "output_type": "stream",
     "text": [
      " 90%|█████████ | 44894/49737 [57:04<05:08, 15.68it/s]"
     ]
    },
    {
     "name": "stdout",
     "output_type": "stream",
     "text": [
      "0.18730934679560204\n",
      "no match for /home/chuongh/vm2m/data/HHM/synthesized/masks/46777/1.png\n"
     ]
    },
    {
     "name": "stderr",
     "output_type": "stream",
     "text": [
      " 90%|█████████ | 44930/49737 [57:07<08:00, 10.00it/s]"
     ]
    },
    {
     "name": "stdout",
     "output_type": "stream",
     "text": [
      "0.20469069410002205\n",
      "no match for /home/chuongh/vm2m/data/HHM/synthesized/masks/49189/0.png\n"
     ]
    },
    {
     "name": "stderr",
     "output_type": "stream",
     "text": [
      " 90%|█████████ | 44947/49737 [57:08<06:56, 11.51it/s]"
     ]
    },
    {
     "name": "stdout",
     "output_type": "stream",
     "text": [
      "0.003615113279390056\n",
      "no match for /home/chuongh/vm2m/data/HHM/synthesized/masks/31341/0.png\n"
     ]
    },
    {
     "name": "stderr",
     "output_type": "stream",
     "text": [
      " 90%|█████████ | 44953/49737 [57:09<08:34,  9.30it/s]"
     ]
    },
    {
     "name": "stdout",
     "output_type": "stream",
     "text": [
      "0.2924853103189411\n",
      "no match for /home/chuongh/vm2m/data/HHM/synthesized/masks/3012/0.png\n"
     ]
    },
    {
     "name": "stderr",
     "output_type": "stream",
     "text": [
      " 90%|█████████ | 44979/49737 [57:11<06:35, 12.02it/s]"
     ]
    },
    {
     "name": "stdout",
     "output_type": "stream",
     "text": [
      "0.0026169895552327835\n",
      "no match for /home/chuongh/vm2m/data/HHM/synthesized/masks/31710/1.png\n"
     ]
    },
    {
     "name": "stderr",
     "output_type": "stream",
     "text": [
      " 90%|█████████ | 44999/49737 [57:12<04:47, 16.50it/s]"
     ]
    },
    {
     "name": "stdout",
     "output_type": "stream",
     "text": [
      "0.21582649029252007\n",
      "no match for /home/chuongh/vm2m/data/HHM/synthesized/masks/5834/1.png\n"
     ]
    },
    {
     "name": "stderr",
     "output_type": "stream",
     "text": [
      " 90%|█████████ | 45003/49737 [57:12<05:55, 13.33it/s]"
     ]
    },
    {
     "name": "stdout",
     "output_type": "stream",
     "text": [
      "0.28647051968064946\n",
      "no match for /home/chuongh/vm2m/data/HHM/synthesized/masks/4804/0.png\n"
     ]
    },
    {
     "name": "stderr",
     "output_type": "stream",
     "text": [
      " 90%|█████████ | 45007/49737 [57:13<06:02, 13.06it/s]"
     ]
    },
    {
     "name": "stdout",
     "output_type": "stream",
     "text": [
      "0.010703088519742835\n",
      "no match for /home/chuongh/vm2m/data/HHM/synthesized/masks/26691/0.png\n"
     ]
    },
    {
     "name": "stderr",
     "output_type": "stream",
     "text": [
      " 91%|█████████ | 45076/49737 [57:18<06:06, 12.71it/s]"
     ]
    },
    {
     "name": "stdout",
     "output_type": "stream",
     "text": [
      "0.14085550426049545\n",
      "no match for /home/chuongh/vm2m/data/HHM/synthesized/masks/15335/1.png\n",
      "0.04945044707450391\n",
      "no match for /home/chuongh/vm2m/data/HHM/synthesized/masks/39965/0.png\n"
     ]
    },
    {
     "name": "stderr",
     "output_type": "stream",
     "text": [
      " 91%|█████████ | 45080/49737 [57:18<05:44, 13.51it/s]"
     ]
    },
    {
     "name": "stdout",
     "output_type": "stream",
     "text": [
      "0.20287797223951465\n",
      "no match for /home/chuongh/vm2m/data/HHM/synthesized/masks/32389/0.png\n"
     ]
    },
    {
     "name": "stderr",
     "output_type": "stream",
     "text": [
      " 91%|█████████ | 45114/49737 [57:21<06:12, 12.42it/s]"
     ]
    },
    {
     "name": "stdout",
     "output_type": "stream",
     "text": [
      "0.007838705779628148\n",
      "no match for /home/chuongh/vm2m/data/HHM/synthesized/masks/5066/0.png\n"
     ]
    },
    {
     "name": "stderr",
     "output_type": "stream",
     "text": [
      " 91%|█████████ | 45183/49737 [57:26<04:59, 15.18it/s]"
     ]
    },
    {
     "name": "stdout",
     "output_type": "stream",
     "text": [
      "0.05677647468909252\n",
      "no match for /home/chuongh/vm2m/data/HHM/synthesized/masks/25318/1.png\n"
     ]
    },
    {
     "name": "stderr",
     "output_type": "stream",
     "text": [
      " 91%|█████████ | 45229/49737 [57:29<05:40, 13.25it/s]"
     ]
    },
    {
     "name": "stdout",
     "output_type": "stream",
     "text": [
      "0.0388835092781846\n",
      "no match for /home/chuongh/vm2m/data/HHM/synthesized/masks/24786/0.png\n"
     ]
    },
    {
     "name": "stderr",
     "output_type": "stream",
     "text": [
      " 91%|█████████ | 45242/49737 [57:30<05:28, 13.70it/s]"
     ]
    },
    {
     "name": "stdout",
     "output_type": "stream",
     "text": [
      "0.27997086335199695\n",
      "no match for /home/chuongh/vm2m/data/HHM/synthesized/masks/42854/0.png\n"
     ]
    },
    {
     "name": "stderr",
     "output_type": "stream",
     "text": [
      " 91%|█████████ | 45255/49737 [57:31<05:38, 13.25it/s]"
     ]
    },
    {
     "name": "stdout",
     "output_type": "stream",
     "text": [
      "0.19547153930377253\n",
      "no match for /home/chuongh/vm2m/data/HHM/synthesized/masks/38060/0.png\n"
     ]
    },
    {
     "name": "stderr",
     "output_type": "stream",
     "text": [
      " 91%|█████████ | 45287/49737 [57:33<06:13, 11.90it/s]"
     ]
    },
    {
     "name": "stdout",
     "output_type": "stream",
     "text": [
      "0.27384362139853297\n",
      "no match for /home/chuongh/vm2m/data/HHM/synthesized/masks/13484/0.png\n"
     ]
    },
    {
     "name": "stderr",
     "output_type": "stream",
     "text": [
      " 91%|█████████ | 45301/49737 [57:34<05:34, 13.25it/s]"
     ]
    },
    {
     "name": "stdout",
     "output_type": "stream",
     "text": [
      "0.1620433154242325\n",
      "no match for /home/chuongh/vm2m/data/HHM/synthesized/masks/15958/0.png\n"
     ]
    },
    {
     "name": "stderr",
     "output_type": "stream",
     "text": [
      " 91%|█████████ | 45313/49737 [57:35<04:48, 15.35it/s]"
     ]
    },
    {
     "name": "stdout",
     "output_type": "stream",
     "text": [
      "0.1451162364368402\n",
      "no match for /home/chuongh/vm2m/data/HHM/synthesized/masks/36754/0.png\n",
      "0.01826739390301798\n",
      "no match for /home/chuongh/vm2m/data/HHM/synthesized/masks/17030/1.png\n"
     ]
    },
    {
     "name": "stderr",
     "output_type": "stream",
     "text": [
      " 91%|█████████ | 45362/49737 [57:39<05:52, 12.40it/s]"
     ]
    },
    {
     "name": "stdout",
     "output_type": "stream",
     "text": [
      "0.01583101110502105\n",
      "no match for /home/chuongh/vm2m/data/HHM/synthesized/masks/509/0.png\n"
     ]
    },
    {
     "name": "stderr",
     "output_type": "stream",
     "text": [
      " 91%|█████████ | 45370/49737 [57:39<04:28, 16.25it/s]"
     ]
    },
    {
     "name": "stdout",
     "output_type": "stream",
     "text": [
      "0.16911085138366005\n",
      "no match for /home/chuongh/vm2m/data/HHM/synthesized/masks/14763/0.png\n"
     ]
    },
    {
     "name": "stderr",
     "output_type": "stream",
     "text": [
      " 91%|█████████ | 45377/49737 [57:40<04:15, 17.07it/s]"
     ]
    },
    {
     "name": "stdout",
     "output_type": "stream",
     "text": [
      "0.041060146975042774\n",
      "no match for /home/chuongh/vm2m/data/HHM/synthesized/masks/5337/1.png\n"
     ]
    },
    {
     "name": "stderr",
     "output_type": "stream",
     "text": [
      " 91%|█████████ | 45382/49737 [57:40<03:48, 19.06it/s]"
     ]
    },
    {
     "name": "stdout",
     "output_type": "stream",
     "text": [
      "0.18243145082277193\n",
      "no match for /home/chuongh/vm2m/data/HHM/synthesized/masks/37665/0.png\n"
     ]
    },
    {
     "name": "stderr",
     "output_type": "stream",
     "text": [
      " 91%|█████████▏| 45392/49737 [57:41<04:49, 15.03it/s]"
     ]
    },
    {
     "name": "stdout",
     "output_type": "stream",
     "text": [
      "0.17305450125222316\n",
      "no match for /home/chuongh/vm2m/data/HHM/synthesized/masks/7266/0.png\n"
     ]
    },
    {
     "name": "stderr",
     "output_type": "stream",
     "text": [
      " 91%|█████████▏| 45434/49737 [57:44<04:21, 16.48it/s]"
     ]
    },
    {
     "name": "stdout",
     "output_type": "stream",
     "text": [
      "0.22471496269073787\n",
      "no match for /home/chuongh/vm2m/data/HHM/synthesized/masks/11066/0.png\n",
      "0.1870526125998768\n",
      "no match for /home/chuongh/vm2m/data/HHM/synthesized/masks/26334/0.png\n"
     ]
    },
    {
     "name": "stderr",
     "output_type": "stream",
     "text": [
      " 91%|█████████▏| 45443/49737 [57:44<04:13, 16.93it/s]"
     ]
    },
    {
     "name": "stdout",
     "output_type": "stream",
     "text": [
      "0.007038316356977754\n",
      "no match for /home/chuongh/vm2m/data/HHM/synthesized/masks/1686/0.png\n"
     ]
    },
    {
     "name": "stderr",
     "output_type": "stream",
     "text": [
      " 91%|█████████▏| 45445/49737 [57:44<04:57, 14.41it/s]"
     ]
    },
    {
     "name": "stdout",
     "output_type": "stream",
     "text": [
      "0.036895872225623044\n",
      "no match for /home/chuongh/vm2m/data/HHM/synthesized/masks/38444/2.png\n"
     ]
    },
    {
     "name": "stderr",
     "output_type": "stream",
     "text": [
      " 91%|█████████▏| 45447/49737 [57:45<06:00, 11.91it/s]"
     ]
    },
    {
     "name": "stdout",
     "output_type": "stream",
     "text": [
      "0\n",
      "no match for /home/chuongh/vm2m/data/HHM/synthesized/masks/34529/0.png\n"
     ]
    },
    {
     "name": "stderr",
     "output_type": "stream",
     "text": [
      " 91%|█████████▏| 45493/49737 [57:48<04:20, 16.31it/s]"
     ]
    },
    {
     "name": "stdout",
     "output_type": "stream",
     "text": [
      "0.2891964050682781\n",
      "no match for /home/chuongh/vm2m/data/HHM/synthesized/masks/451/0.png\n"
     ]
    },
    {
     "name": "stderr",
     "output_type": "stream",
     "text": [
      " 92%|█████████▏| 45516/49737 [57:50<04:33, 15.45it/s]"
     ]
    },
    {
     "name": "stdout",
     "output_type": "stream",
     "text": [
      "0.23316175287764973\n",
      "no match for /home/chuongh/vm2m/data/HHM/synthesized/masks/34079/0.png\n"
     ]
    },
    {
     "name": "stderr",
     "output_type": "stream",
     "text": [
      " 92%|█████████▏| 45520/49737 [57:50<05:18, 13.25it/s]"
     ]
    },
    {
     "name": "stdout",
     "output_type": "stream",
     "text": [
      "0.06397376527792696\n",
      "no match for /home/chuongh/vm2m/data/HHM/synthesized/masks/1616/0.png\n"
     ]
    },
    {
     "name": "stderr",
     "output_type": "stream",
     "text": [
      " 92%|█████████▏| 45577/49737 [57:54<05:27, 12.70it/s]"
     ]
    },
    {
     "name": "stdout",
     "output_type": "stream",
     "text": [
      "0.19693040311241042\n",
      "no match for /home/chuongh/vm2m/data/HHM/synthesized/masks/35091/2.png\n"
     ]
    },
    {
     "name": "stderr",
     "output_type": "stream",
     "text": [
      " 92%|█████████▏| 45617/49737 [57:57<04:32, 15.14it/s]"
     ]
    },
    {
     "name": "stdout",
     "output_type": "stream",
     "text": [
      "0.1501686180798614\n",
      "no match for /home/chuongh/vm2m/data/HHM/synthesized/masks/14762/0.png\n",
      "0\n",
      "no match for /home/chuongh/vm2m/data/HHM/synthesized/masks/29860/0.png\n"
     ]
    },
    {
     "name": "stderr",
     "output_type": "stream",
     "text": [
      " 92%|█████████▏| 45623/49737 [57:58<05:18, 12.93it/s]"
     ]
    },
    {
     "name": "stdout",
     "output_type": "stream",
     "text": [
      "0.025698853192846947\n",
      "no match for /home/chuongh/vm2m/data/HHM/synthesized/masks/5980/0.png\n"
     ]
    },
    {
     "name": "stderr",
     "output_type": "stream",
     "text": [
      " 92%|█████████▏| 45674/49737 [58:01<04:14, 15.95it/s]"
     ]
    },
    {
     "name": "stdout",
     "output_type": "stream",
     "text": [
      "0.26437712619338055\n",
      "no match for /home/chuongh/vm2m/data/HHM/synthesized/masks/17979/1.png\n"
     ]
    },
    {
     "name": "stderr",
     "output_type": "stream",
     "text": [
      " 92%|█████████▏| 45739/49737 [58:05<04:11, 15.89it/s]"
     ]
    },
    {
     "name": "stdout",
     "output_type": "stream",
     "text": [
      "0.282173430499102\n",
      "no match for /home/chuongh/vm2m/data/HHM/synthesized/masks/19035/2.png\n"
     ]
    },
    {
     "name": "stderr",
     "output_type": "stream",
     "text": [
      " 92%|█████████▏| 45756/49737 [58:06<04:45, 13.93it/s]"
     ]
    },
    {
     "name": "stdout",
     "output_type": "stream",
     "text": [
      "0.00043066197659271033\n",
      "no match for /home/chuongh/vm2m/data/HHM/synthesized/masks/29401/0.png\n",
      "0.03312688240609522\n",
      "no match for /home/chuongh/vm2m/data/HHM/synthesized/masks/43998/0.png\n"
     ]
    },
    {
     "name": "stderr",
     "output_type": "stream",
     "text": [
      " 92%|█████████▏| 45767/49737 [58:07<03:44, 17.69it/s]"
     ]
    },
    {
     "name": "stdout",
     "output_type": "stream",
     "text": [
      "0.046163805257184644\n",
      "no match for /home/chuongh/vm2m/data/HHM/synthesized/masks/9441/0.png\n"
     ]
    },
    {
     "name": "stderr",
     "output_type": "stream",
     "text": [
      " 92%|█████████▏| 45775/49737 [58:07<03:26, 19.20it/s]"
     ]
    },
    {
     "name": "stdout",
     "output_type": "stream",
     "text": [
      "0\n",
      "no match for /home/chuongh/vm2m/data/HHM/synthesized/masks/18772/1.png\n",
      "0\n",
      "no match for /home/chuongh/vm2m/data/HHM/synthesized/masks/42058/0.png\n",
      "0\n",
      "no match for /home/chuongh/vm2m/data/HHM/synthesized/masks/42058/1.png\n"
     ]
    },
    {
     "name": "stderr",
     "output_type": "stream",
     "text": [
      " 92%|█████████▏| 45818/49737 [58:11<04:23, 14.89it/s]"
     ]
    },
    {
     "name": "stdout",
     "output_type": "stream",
     "text": [
      "0.21071872354947735\n",
      "no match for /home/chuongh/vm2m/data/HHM/synthesized/masks/16745/2.png\n"
     ]
    },
    {
     "name": "stderr",
     "output_type": "stream",
     "text": [
      " 92%|█████████▏| 45824/49737 [58:11<04:47, 13.63it/s]"
     ]
    },
    {
     "name": "stdout",
     "output_type": "stream",
     "text": [
      "0.012026467582387233\n",
      "no match for /home/chuongh/vm2m/data/HHM/synthesized/masks/36423/0.png\n"
     ]
    },
    {
     "name": "stderr",
     "output_type": "stream",
     "text": [
      " 92%|█████████▏| 45835/49737 [58:12<04:42, 13.81it/s]"
     ]
    },
    {
     "name": "stdout",
     "output_type": "stream",
     "text": [
      "0.24775324956226055\n",
      "no match for /home/chuongh/vm2m/data/HHM/synthesized/masks/30030/0.png\n"
     ]
    },
    {
     "name": "stderr",
     "output_type": "stream",
     "text": [
      " 92%|█████████▏| 45841/49737 [58:13<04:56, 13.15it/s]"
     ]
    },
    {
     "name": "stdout",
     "output_type": "stream",
     "text": [
      "0.029698685690878662\n",
      "no match for /home/chuongh/vm2m/data/HHM/synthesized/masks/4930/0.png\n",
      "0.2951355666798455\n",
      "no match for /home/chuongh/vm2m/data/HHM/synthesized/masks/4930/3.png\n"
     ]
    },
    {
     "name": "stderr",
     "output_type": "stream",
     "text": [
      " 92%|█████████▏| 45854/49737 [58:13<04:11, 15.44it/s]"
     ]
    },
    {
     "name": "stdout",
     "output_type": "stream",
     "text": [
      "0.17800057543110634\n",
      "no match for /home/chuongh/vm2m/data/HHM/synthesized/masks/46328/0.png\n"
     ]
    },
    {
     "name": "stderr",
     "output_type": "stream",
     "text": [
      " 92%|█████████▏| 45857/49737 [58:14<04:48, 13.46it/s]"
     ]
    },
    {
     "name": "stdout",
     "output_type": "stream",
     "text": [
      "0.006130238301237454\n",
      "no match for /home/chuongh/vm2m/data/HHM/synthesized/masks/6393/0.png\n"
     ]
    },
    {
     "name": "stderr",
     "output_type": "stream",
     "text": [
      " 92%|█████████▏| 45896/49737 [58:17<03:59, 16.04it/s]"
     ]
    },
    {
     "name": "stdout",
     "output_type": "stream",
     "text": [
      "0.26127306288701574\n",
      "no match for /home/chuongh/vm2m/data/HHM/synthesized/masks/24409/2.png\n",
      "0.2931342034696099\n",
      "no match for /home/chuongh/vm2m/data/HHM/synthesized/masks/2200/1.png\n"
     ]
    },
    {
     "name": "stderr",
     "output_type": "stream",
     "text": [
      " 92%|█████████▏| 45964/49737 [58:22<04:41, 13.43it/s]"
     ]
    },
    {
     "name": "stdout",
     "output_type": "stream",
     "text": [
      "0\n",
      "no match for /home/chuongh/vm2m/data/HHM/synthesized/masks/9492/0.png\n"
     ]
    },
    {
     "name": "stderr",
     "output_type": "stream",
     "text": [
      " 92%|█████████▏| 45986/49737 [58:24<05:01, 12.44it/s]"
     ]
    },
    {
     "name": "stdout",
     "output_type": "stream",
     "text": [
      "0.018523999408026886\n",
      "no match for /home/chuongh/vm2m/data/HHM/synthesized/masks/2750/0.png\n"
     ]
    },
    {
     "name": "stderr",
     "output_type": "stream",
     "text": [
      " 93%|█████████▎| 46026/49737 [58:27<04:19, 14.29it/s]"
     ]
    },
    {
     "name": "stdout",
     "output_type": "stream",
     "text": [
      "0.17731910247177757\n",
      "no match for /home/chuongh/vm2m/data/HHM/synthesized/masks/7432/1.png\n"
     ]
    },
    {
     "name": "stderr",
     "output_type": "stream",
     "text": [
      " 93%|█████████▎| 46068/49737 [58:30<03:42, 16.47it/s]"
     ]
    },
    {
     "name": "stdout",
     "output_type": "stream",
     "text": [
      "0.18518923016573238\n",
      "no match for /home/chuongh/vm2m/data/HHM/synthesized/masks/16992/1.png\n"
     ]
    },
    {
     "name": "stderr",
     "output_type": "stream",
     "text": [
      " 93%|█████████▎| 46072/49737 [58:30<04:11, 14.56it/s]"
     ]
    },
    {
     "name": "stdout",
     "output_type": "stream",
     "text": [
      "0.24546908724637337\n",
      "no match for /home/chuongh/vm2m/data/HHM/synthesized/masks/13019/0.png\n"
     ]
    },
    {
     "name": "stderr",
     "output_type": "stream",
     "text": [
      " 93%|█████████▎| 46117/49737 [58:33<03:25, 17.60it/s]"
     ]
    },
    {
     "name": "stdout",
     "output_type": "stream",
     "text": [
      "0.27530341867059294\n",
      "no match for /home/chuongh/vm2m/data/HHM/synthesized/masks/5660/0.png\n",
      "0\n",
      "no match for /home/chuongh/vm2m/data/HHM/synthesized/masks/31762/2.png\n"
     ]
    },
    {
     "name": "stderr",
     "output_type": "stream",
     "text": [
      " 93%|█████████▎| 46137/49737 [58:35<04:03, 14.78it/s]"
     ]
    },
    {
     "name": "stdout",
     "output_type": "stream",
     "text": [
      "0.02651783060154265\n",
      "no match for /home/chuongh/vm2m/data/HHM/synthesized/masks/43968/1.png\n"
     ]
    },
    {
     "name": "stderr",
     "output_type": "stream",
     "text": [
      " 93%|█████████▎| 46155/49737 [58:36<04:42, 12.68it/s]"
     ]
    },
    {
     "name": "stdout",
     "output_type": "stream",
     "text": [
      "0.06882551385342585\n",
      "no match for /home/chuongh/vm2m/data/HHM/synthesized/masks/49308/2.png\n"
     ]
    },
    {
     "name": "stderr",
     "output_type": "stream",
     "text": [
      " 93%|█████████▎| 46188/49737 [58:39<04:33, 12.97it/s]"
     ]
    },
    {
     "name": "stdout",
     "output_type": "stream",
     "text": [
      "0.2231485401971335\n",
      "no match for /home/chuongh/vm2m/data/HHM/synthesized/masks/26115/1.png\n"
     ]
    },
    {
     "name": "stderr",
     "output_type": "stream",
     "text": [
      " 93%|█████████▎| 46213/49737 [58:40<03:59, 14.69it/s]"
     ]
    },
    {
     "name": "stdout",
     "output_type": "stream",
     "text": [
      "0.11472181757161992\n",
      "no match for /home/chuongh/vm2m/data/HHM/synthesized/masks/32853/1.png\n",
      "0.29964769379931044\n",
      "no match for /home/chuongh/vm2m/data/HHM/synthesized/masks/32853/2.png\n"
     ]
    },
    {
     "name": "stderr",
     "output_type": "stream",
     "text": [
      " 93%|█████████▎| 46219/49737 [58:41<03:16, 17.89it/s]"
     ]
    },
    {
     "name": "stdout",
     "output_type": "stream",
     "text": [
      "0.2590345944909486\n",
      "no match for /home/chuongh/vm2m/data/HHM/synthesized/masks/49709/1.png\n",
      "0.2909333972394202\n",
      "no match for /home/chuongh/vm2m/data/HHM/synthesized/masks/563/0.png\n"
     ]
    },
    {
     "name": "stderr",
     "output_type": "stream",
     "text": [
      " 93%|█████████▎| 46242/49737 [58:42<03:02, 19.15it/s]"
     ]
    },
    {
     "name": "stdout",
     "output_type": "stream",
     "text": [
      "0.055602908167061364\n",
      "no match for /home/chuongh/vm2m/data/HHM/synthesized/masks/27377/0.png\n",
      "0.2463426059052806\n",
      "no match for /home/chuongh/vm2m/data/HHM/synthesized/masks/21180/0.png\n"
     ]
    },
    {
     "name": "stderr",
     "output_type": "stream",
     "text": [
      " 93%|█████████▎| 46264/49737 [58:44<04:21, 13.26it/s]"
     ]
    },
    {
     "name": "stdout",
     "output_type": "stream",
     "text": [
      "0\n",
      "no match for /home/chuongh/vm2m/data/HHM/synthesized/masks/42529/0.png\n"
     ]
    },
    {
     "name": "stderr",
     "output_type": "stream",
     "text": [
      " 93%|█████████▎| 46272/49737 [58:45<05:26, 10.61it/s]"
     ]
    },
    {
     "name": "stdout",
     "output_type": "stream",
     "text": [
      "0.006926719107294069\n",
      "no match for /home/chuongh/vm2m/data/HHM/synthesized/masks/48118/0.png\n",
      "0.12178603772019145\n",
      "no match for /home/chuongh/vm2m/data/HHM/synthesized/masks/45048/0.png\n"
     ]
    },
    {
     "name": "stderr",
     "output_type": "stream",
     "text": [
      " 93%|█████████▎| 46302/49737 [58:47<03:48, 15.02it/s]"
     ]
    },
    {
     "name": "stdout",
     "output_type": "stream",
     "text": [
      "0\n",
      "no match for /home/chuongh/vm2m/data/HHM/synthesized/masks/19279/1.png\n"
     ]
    },
    {
     "name": "stderr",
     "output_type": "stream",
     "text": [
      " 93%|█████████▎| 46335/49737 [58:50<04:54, 11.54it/s]"
     ]
    },
    {
     "name": "stdout",
     "output_type": "stream",
     "text": [
      "0.028298915873352842\n",
      "no match for /home/chuongh/vm2m/data/HHM/synthesized/masks/46830/1.png\n"
     ]
    },
    {
     "name": "stderr",
     "output_type": "stream",
     "text": [
      " 93%|█████████▎| 46379/49737 [58:53<03:07, 17.89it/s]"
     ]
    },
    {
     "name": "stdout",
     "output_type": "stream",
     "text": [
      "0.0965055505523273\n",
      "no match for /home/chuongh/vm2m/data/HHM/synthesized/masks/6811/0.png\n"
     ]
    },
    {
     "name": "stderr",
     "output_type": "stream",
     "text": [
      " 93%|█████████▎| 46393/49737 [58:54<03:50, 14.48it/s]"
     ]
    },
    {
     "name": "stdout",
     "output_type": "stream",
     "text": [
      "0.07382768919420252\n",
      "no match for /home/chuongh/vm2m/data/HHM/synthesized/masks/27402/3.png\n",
      "0.299490856216984\n",
      "no match for /home/chuongh/vm2m/data/HHM/synthesized/masks/26823/0.png\n"
     ]
    },
    {
     "name": "stderr",
     "output_type": "stream",
     "text": [
      " 93%|█████████▎| 46409/49737 [58:55<03:39, 15.16it/s]"
     ]
    },
    {
     "name": "stdout",
     "output_type": "stream",
     "text": [
      "0\n",
      "no match for /home/chuongh/vm2m/data/HHM/synthesized/masks/16703/0.png\n"
     ]
    },
    {
     "name": "stderr",
     "output_type": "stream",
     "text": [
      " 93%|█████████▎| 46429/49737 [58:57<03:45, 14.69it/s]"
     ]
    },
    {
     "name": "stdout",
     "output_type": "stream",
     "text": [
      "0.15531917684195493\n",
      "no match for /home/chuongh/vm2m/data/HHM/synthesized/masks/544/0.png\n"
     ]
    },
    {
     "name": "stderr",
     "output_type": "stream",
     "text": [
      " 93%|█████████▎| 46441/49737 [58:58<03:32, 15.54it/s]"
     ]
    },
    {
     "name": "stdout",
     "output_type": "stream",
     "text": [
      "0.01458035262259435\n",
      "no match for /home/chuongh/vm2m/data/HHM/synthesized/masks/47088/0.png\n"
     ]
    },
    {
     "name": "stderr",
     "output_type": "stream",
     "text": [
      " 93%|█████████▎| 46487/49737 [59:00<03:21, 16.15it/s]"
     ]
    },
    {
     "name": "stdout",
     "output_type": "stream",
     "text": [
      "0.009961170274095649\n",
      "no match for /home/chuongh/vm2m/data/HHM/synthesized/masks/24175/1.png\n"
     ]
    },
    {
     "name": "stderr",
     "output_type": "stream",
     "text": [
      " 93%|█████████▎| 46491/49737 [59:01<04:09, 13.03it/s]"
     ]
    },
    {
     "name": "stdout",
     "output_type": "stream",
     "text": [
      "0.030620087166266796\n",
      "no match for /home/chuongh/vm2m/data/HHM/synthesized/masks/27789/0.png\n"
     ]
    },
    {
     "name": "stderr",
     "output_type": "stream",
     "text": [
      " 94%|█████████▎| 46514/49737 [59:03<03:54, 13.77it/s]"
     ]
    },
    {
     "name": "stdout",
     "output_type": "stream",
     "text": [
      "0\n",
      "no match for /home/chuongh/vm2m/data/HHM/synthesized/masks/979/0.png\n"
     ]
    },
    {
     "name": "stderr",
     "output_type": "stream",
     "text": [
      " 94%|█████████▎| 46538/49737 [59:04<03:49, 13.92it/s]"
     ]
    },
    {
     "name": "stdout",
     "output_type": "stream",
     "text": [
      "0.16553747376736977\n",
      "no match for /home/chuongh/vm2m/data/HHM/synthesized/masks/15398/0.png\n"
     ]
    },
    {
     "name": "stderr",
     "output_type": "stream",
     "text": [
      " 94%|█████████▎| 46554/49737 [59:06<04:03, 13.07it/s]"
     ]
    },
    {
     "name": "stdout",
     "output_type": "stream",
     "text": [
      "0.002236658784084393\n",
      "no match for /home/chuongh/vm2m/data/HHM/synthesized/masks/36952/0.png\n"
     ]
    },
    {
     "name": "stderr",
     "output_type": "stream",
     "text": [
      " 94%|█████████▎| 46558/49737 [59:06<03:59, 13.27it/s]"
     ]
    },
    {
     "name": "stdout",
     "output_type": "stream",
     "text": [
      "0.004074237887849091\n",
      "no match for /home/chuongh/vm2m/data/HHM/synthesized/masks/45273/0.png\n"
     ]
    },
    {
     "name": "stderr",
     "output_type": "stream",
     "text": [
      " 94%|█████████▎| 46581/49737 [59:08<04:00, 13.10it/s]"
     ]
    },
    {
     "name": "stdout",
     "output_type": "stream",
     "text": [
      "0.011296348938252269\n",
      "no match for /home/chuongh/vm2m/data/HHM/synthesized/masks/464/1.png\n"
     ]
    },
    {
     "name": "stderr",
     "output_type": "stream",
     "text": [
      " 94%|█████████▍| 46638/49737 [59:12<04:15, 12.12it/s]"
     ]
    },
    {
     "name": "stdout",
     "output_type": "stream",
     "text": [
      "0.17747388225265037\n",
      "no match for /home/chuongh/vm2m/data/HHM/synthesized/masks/7068/0.png\n"
     ]
    },
    {
     "name": "stderr",
     "output_type": "stream",
     "text": [
      " 94%|█████████▍| 46646/49737 [59:13<03:29, 14.79it/s]"
     ]
    },
    {
     "name": "stdout",
     "output_type": "stream",
     "text": [
      "0.014089877490929532\n",
      "no match for /home/chuongh/vm2m/data/HHM/synthesized/masks/37848/0.png\n"
     ]
    },
    {
     "name": "stderr",
     "output_type": "stream",
     "text": [
      " 94%|█████████▍| 46673/49737 [59:15<03:27, 14.78it/s]"
     ]
    },
    {
     "name": "stdout",
     "output_type": "stream",
     "text": [
      "0.24370761147409908\n",
      "no match for /home/chuongh/vm2m/data/HHM/synthesized/masks/33496/2.png\n"
     ]
    },
    {
     "name": "stderr",
     "output_type": "stream",
     "text": [
      " 94%|█████████▍| 46679/49737 [59:16<04:01, 12.66it/s]"
     ]
    },
    {
     "name": "stdout",
     "output_type": "stream",
     "text": [
      "0.28004489385407355\n",
      "no match for /home/chuongh/vm2m/data/HHM/synthesized/masks/18603/1.png\n"
     ]
    },
    {
     "name": "stderr",
     "output_type": "stream",
     "text": [
      " 94%|█████████▍| 46721/49737 [59:19<03:22, 14.91it/s]"
     ]
    },
    {
     "name": "stdout",
     "output_type": "stream",
     "text": [
      "0.021725571020746834\n",
      "no match for /home/chuongh/vm2m/data/HHM/synthesized/masks/3996/1.png\n"
     ]
    },
    {
     "name": "stderr",
     "output_type": "stream",
     "text": [
      " 94%|█████████▍| 46730/49737 [59:19<03:23, 14.75it/s]"
     ]
    },
    {
     "name": "stdout",
     "output_type": "stream",
     "text": [
      "0.11290233162218485\n",
      "no match for /home/chuongh/vm2m/data/HHM/synthesized/masks/31514/1.png\n"
     ]
    },
    {
     "name": "stderr",
     "output_type": "stream",
     "text": [
      " 94%|█████████▍| 46732/49737 [59:20<05:27,  9.19it/s]"
     ]
    },
    {
     "name": "stdout",
     "output_type": "stream",
     "text": [
      "0.24312610613819968\n",
      "no match for /home/chuongh/vm2m/data/HHM/synthesized/masks/15560/0.png\n"
     ]
    },
    {
     "name": "stderr",
     "output_type": "stream",
     "text": [
      " 94%|█████████▍| 46799/49737 [59:25<03:40, 13.30it/s]"
     ]
    },
    {
     "name": "stdout",
     "output_type": "stream",
     "text": [
      "0.10775822729452116\n",
      "no match for /home/chuongh/vm2m/data/HHM/synthesized/masks/30734/2.png\n"
     ]
    },
    {
     "name": "stderr",
     "output_type": "stream",
     "text": [
      " 94%|█████████▍| 46902/49737 [59:32<03:02, 15.54it/s]"
     ]
    },
    {
     "name": "stdout",
     "output_type": "stream",
     "text": [
      "0.011100813295960386\n",
      "no match for /home/chuongh/vm2m/data/HHM/synthesized/masks/33346/0.png\n"
     ]
    },
    {
     "name": "stderr",
     "output_type": "stream",
     "text": [
      " 94%|█████████▍| 46912/49737 [59:33<03:17, 14.32it/s]"
     ]
    },
    {
     "name": "stdout",
     "output_type": "stream",
     "text": [
      "0.27433454274138835\n",
      "no match for /home/chuongh/vm2m/data/HHM/synthesized/masks/12348/2.png\n"
     ]
    },
    {
     "name": "stderr",
     "output_type": "stream",
     "text": [
      " 94%|█████████▍| 46917/49737 [59:33<03:05, 15.21it/s]"
     ]
    },
    {
     "name": "stdout",
     "output_type": "stream",
     "text": [
      "0\n",
      "no match for /home/chuongh/vm2m/data/HHM/synthesized/masks/49782/2.png\n"
     ]
    },
    {
     "name": "stderr",
     "output_type": "stream",
     "text": [
      " 94%|█████████▍| 46938/49737 [59:35<03:33, 13.10it/s]"
     ]
    },
    {
     "name": "stdout",
     "output_type": "stream",
     "text": [
      "0.01954657270124378\n",
      "no match for /home/chuongh/vm2m/data/HHM/synthesized/masks/5332/1.png\n"
     ]
    },
    {
     "name": "stderr",
     "output_type": "stream",
     "text": [
      " 94%|█████████▍| 46989/49737 [59:39<03:18, 13.84it/s]"
     ]
    },
    {
     "name": "stdout",
     "output_type": "stream",
     "text": [
      "0.17498999017137284\n",
      "no match for /home/chuongh/vm2m/data/HHM/synthesized/masks/491/1.png\n"
     ]
    },
    {
     "name": "stderr",
     "output_type": "stream",
     "text": [
      " 95%|█████████▍| 47004/49737 [59:40<03:28, 13.13it/s]"
     ]
    },
    {
     "name": "stdout",
     "output_type": "stream",
     "text": [
      "0.01932963281106117\n",
      "no match for /home/chuongh/vm2m/data/HHM/synthesized/masks/17414/0.png\n"
     ]
    },
    {
     "name": "stderr",
     "output_type": "stream",
     "text": [
      " 95%|█████████▍| 47050/49737 [59:43<03:23, 13.22it/s]"
     ]
    },
    {
     "name": "stdout",
     "output_type": "stream",
     "text": [
      "0\n",
      "no match for /home/chuongh/vm2m/data/HHM/synthesized/masks/34958/1.png\n"
     ]
    },
    {
     "name": "stderr",
     "output_type": "stream",
     "text": [
      " 95%|█████████▍| 47061/49737 [59:44<02:55, 15.26it/s]"
     ]
    },
    {
     "name": "stdout",
     "output_type": "stream",
     "text": [
      "0.00938416007520982\n",
      "no match for /home/chuongh/vm2m/data/HHM/synthesized/masks/15996/2.png\n"
     ]
    },
    {
     "name": "stderr",
     "output_type": "stream",
     "text": [
      " 95%|█████████▍| 47077/49737 [59:45<03:27, 12.81it/s]"
     ]
    },
    {
     "name": "stdout",
     "output_type": "stream",
     "text": [
      "0.1842060410237424\n",
      "no match for /home/chuongh/vm2m/data/HHM/synthesized/masks/25312/0.png\n"
     ]
    },
    {
     "name": "stderr",
     "output_type": "stream",
     "text": [
      " 95%|█████████▍| 47081/49737 [59:46<03:32, 12.51it/s]"
     ]
    },
    {
     "name": "stdout",
     "output_type": "stream",
     "text": [
      "0.25236110591879923\n",
      "no match for /home/chuongh/vm2m/data/HHM/synthesized/masks/14656/0.png\n"
     ]
    },
    {
     "name": "stderr",
     "output_type": "stream",
     "text": [
      " 95%|█████████▍| 47113/49737 [59:48<02:32, 17.22it/s]"
     ]
    },
    {
     "name": "stdout",
     "output_type": "stream",
     "text": [
      "0.24031300019715765\n",
      "no match for /home/chuongh/vm2m/data/HHM/synthesized/masks/7351/2.png\n"
     ]
    },
    {
     "name": "stderr",
     "output_type": "stream",
     "text": [
      " 95%|█████████▍| 47126/49737 [59:48<02:16, 19.19it/s]"
     ]
    },
    {
     "name": "stdout",
     "output_type": "stream",
     "text": [
      "0\n",
      "no match for /home/chuongh/vm2m/data/HHM/synthesized/masks/5900/0.png\n"
     ]
    },
    {
     "name": "stderr",
     "output_type": "stream",
     "text": [
      " 95%|█████████▍| 47164/49737 [59:51<02:58, 14.45it/s]"
     ]
    },
    {
     "name": "stdout",
     "output_type": "stream",
     "text": [
      "0.010457796258681963\n",
      "no match for /home/chuongh/vm2m/data/HHM/synthesized/masks/36671/1.png\n"
     ]
    },
    {
     "name": "stderr",
     "output_type": "stream",
     "text": [
      " 95%|█████████▍| 47168/49737 [59:51<02:56, 14.57it/s]"
     ]
    },
    {
     "name": "stdout",
     "output_type": "stream",
     "text": [
      "0\n",
      "no match for /home/chuongh/vm2m/data/HHM/synthesized/masks/31474/1.png\n",
      "0.19686042955495384\n",
      "no match for /home/chuongh/vm2m/data/HHM/synthesized/masks/46548/1.png\n"
     ]
    },
    {
     "name": "stderr",
     "output_type": "stream",
     "text": [
      " 95%|█████████▍| 47211/49737 [59:54<02:33, 16.45it/s]"
     ]
    },
    {
     "name": "stdout",
     "output_type": "stream",
     "text": [
      "0.005062582814655985\n",
      "no match for /home/chuongh/vm2m/data/HHM/synthesized/masks/16624/2.png\n"
     ]
    },
    {
     "name": "stderr",
     "output_type": "stream",
     "text": [
      " 95%|█████████▍| 47243/49737 [59:56<02:44, 15.18it/s]"
     ]
    },
    {
     "name": "stdout",
     "output_type": "stream",
     "text": [
      "0.120463398912195\n",
      "no match for /home/chuongh/vm2m/data/HHM/synthesized/masks/17574/1.png\n"
     ]
    },
    {
     "name": "stderr",
     "output_type": "stream",
     "text": [
      " 95%|█████████▌| 47256/49737 [59:57<03:04, 13.48it/s]"
     ]
    },
    {
     "name": "stdout",
     "output_type": "stream",
     "text": [
      "0.05832972766904936\n",
      "no match for /home/chuongh/vm2m/data/HHM/synthesized/masks/42646/0.png\n"
     ]
    },
    {
     "name": "stderr",
     "output_type": "stream",
     "text": [
      " 95%|█████████▌| 47292/49737 [1:00:00<03:28, 11.72it/s]"
     ]
    },
    {
     "name": "stdout",
     "output_type": "stream",
     "text": [
      "0\n",
      "no match for /home/chuongh/vm2m/data/HHM/synthesized/masks/40216/0.png\n"
     ]
    },
    {
     "name": "stderr",
     "output_type": "stream",
     "text": [
      " 95%|█████████▌| 47315/49737 [1:00:02<03:27, 11.68it/s]"
     ]
    },
    {
     "name": "stdout",
     "output_type": "stream",
     "text": [
      "0.11403416187289736\n",
      "no match for /home/chuongh/vm2m/data/HHM/synthesized/masks/19158/0.png\n",
      "0.23239333913597846\n",
      "no match for /home/chuongh/vm2m/data/HHM/synthesized/masks/19158/1.png\n"
     ]
    },
    {
     "name": "stderr",
     "output_type": "stream",
     "text": [
      " 95%|█████████▌| 47380/49737 [1:00:07<02:34, 15.23it/s]"
     ]
    },
    {
     "name": "stdout",
     "output_type": "stream",
     "text": [
      "0.2744877139850446\n",
      "no match for /home/chuongh/vm2m/data/HHM/synthesized/masks/1606/0.png\n",
      "0.13042463394087284\n",
      "no match for /home/chuongh/vm2m/data/HHM/synthesized/masks/49448/1.png\n"
     ]
    },
    {
     "name": "stderr",
     "output_type": "stream",
     "text": [
      " 95%|█████████▌| 47384/49737 [1:00:07<02:29, 15.79it/s]"
     ]
    },
    {
     "name": "stdout",
     "output_type": "stream",
     "text": [
      "0.21685087110091264\n",
      "no match for /home/chuongh/vm2m/data/HHM/synthesized/masks/11924/0.png\n"
     ]
    },
    {
     "name": "stderr",
     "output_type": "stream",
     "text": [
      " 95%|█████████▌| 47404/49737 [1:00:09<03:38, 10.67it/s]"
     ]
    },
    {
     "name": "stdout",
     "output_type": "stream",
     "text": [
      "0.05280603844209229\n",
      "no match for /home/chuongh/vm2m/data/HHM/synthesized/masks/31520/0.png\n"
     ]
    },
    {
     "name": "stderr",
     "output_type": "stream",
     "text": [
      " 95%|█████████▌| 47414/49737 [1:00:10<03:10, 12.20it/s]"
     ]
    },
    {
     "name": "stdout",
     "output_type": "stream",
     "text": [
      "0.13784013107806822\n",
      "no match for /home/chuongh/vm2m/data/HHM/synthesized/masks/30012/1.png\n"
     ]
    },
    {
     "name": "stderr",
     "output_type": "stream",
     "text": [
      " 95%|█████████▌| 47437/49737 [1:00:11<02:36, 14.71it/s]"
     ]
    },
    {
     "name": "stdout",
     "output_type": "stream",
     "text": [
      "0.09828004593755356\n",
      "no match for /home/chuongh/vm2m/data/HHM/synthesized/masks/13345/1.png\n"
     ]
    },
    {
     "name": "stderr",
     "output_type": "stream",
     "text": [
      " 95%|█████████▌| 47448/49737 [1:00:12<03:09, 12.08it/s]"
     ]
    },
    {
     "name": "stdout",
     "output_type": "stream",
     "text": [
      "0\n",
      "no match for /home/chuongh/vm2m/data/HHM/synthesized/masks/49322/1.png\n"
     ]
    },
    {
     "name": "stderr",
     "output_type": "stream",
     "text": [
      " 96%|█████████▌| 47504/49737 [1:00:16<03:08, 11.88it/s]"
     ]
    },
    {
     "name": "stdout",
     "output_type": "stream",
     "text": [
      "0.2617009757045303\n",
      "no match for /home/chuongh/vm2m/data/HHM/synthesized/masks/14462/0.png\n"
     ]
    },
    {
     "name": "stderr",
     "output_type": "stream",
     "text": [
      " 96%|█████████▌| 47542/49737 [1:00:19<02:30, 14.63it/s]"
     ]
    },
    {
     "name": "stdout",
     "output_type": "stream",
     "text": [
      "0.2904395423375351\n",
      "no match for /home/chuongh/vm2m/data/HHM/synthesized/masks/8097/0.png\n"
     ]
    },
    {
     "name": "stderr",
     "output_type": "stream",
     "text": [
      " 96%|█████████▌| 47559/49737 [1:00:20<02:42, 13.44it/s]"
     ]
    },
    {
     "name": "stdout",
     "output_type": "stream",
     "text": [
      "0.000723675036145992\n",
      "no match for /home/chuongh/vm2m/data/HHM/synthesized/masks/44261/0.png\n"
     ]
    },
    {
     "name": "stderr",
     "output_type": "stream",
     "text": [
      " 96%|█████████▌| 47592/49737 [1:00:23<02:36, 13.70it/s]"
     ]
    },
    {
     "name": "stdout",
     "output_type": "stream",
     "text": [
      "0.0028371005455815165\n",
      "no match for /home/chuongh/vm2m/data/HHM/synthesized/masks/30930/1.png\n"
     ]
    },
    {
     "name": "stderr",
     "output_type": "stream",
     "text": [
      " 96%|█████████▌| 47595/49737 [1:00:23<02:41, 13.23it/s]"
     ]
    },
    {
     "name": "stdout",
     "output_type": "stream",
     "text": [
      "0.08863638683250254\n",
      "no match for /home/chuongh/vm2m/data/HHM/synthesized/masks/49499/0.png\n"
     ]
    },
    {
     "name": "stderr",
     "output_type": "stream",
     "text": [
      " 96%|█████████▌| 47606/49737 [1:00:24<02:22, 14.96it/s]"
     ]
    },
    {
     "name": "stdout",
     "output_type": "stream",
     "text": [
      "0\n",
      "no match for /home/chuongh/vm2m/data/HHM/synthesized/masks/6626/0.png\n"
     ]
    },
    {
     "name": "stderr",
     "output_type": "stream",
     "text": [
      " 96%|█████████▌| 47610/49737 [1:00:24<02:47, 12.72it/s]"
     ]
    },
    {
     "name": "stdout",
     "output_type": "stream",
     "text": [
      "0.019512790172805754\n",
      "no match for /home/chuongh/vm2m/data/HHM/synthesized/masks/34882/1.png\n"
     ]
    },
    {
     "name": "stderr",
     "output_type": "stream",
     "text": [
      " 96%|█████████▌| 47621/49737 [1:00:25<03:08, 11.21it/s]"
     ]
    },
    {
     "name": "stdout",
     "output_type": "stream",
     "text": [
      "0.11543578358087321\n",
      "no match for /home/chuongh/vm2m/data/HHM/synthesized/masks/22453/0.png\n"
     ]
    },
    {
     "name": "stderr",
     "output_type": "stream",
     "text": [
      " 96%|█████████▌| 47653/49737 [1:00:28<02:36, 13.29it/s]"
     ]
    },
    {
     "name": "stdout",
     "output_type": "stream",
     "text": [
      "0.03457872843071172\n",
      "no match for /home/chuongh/vm2m/data/HHM/synthesized/masks/15898/1.png\n"
     ]
    },
    {
     "name": "stderr",
     "output_type": "stream",
     "text": [
      " 96%|█████████▌| 47690/49737 [1:00:30<03:00, 11.34it/s]"
     ]
    },
    {
     "name": "stdout",
     "output_type": "stream",
     "text": [
      "0\n",
      "no match for /home/chuongh/vm2m/data/HHM/synthesized/masks/16965/0.png\n"
     ]
    },
    {
     "name": "stderr",
     "output_type": "stream",
     "text": [
      " 96%|█████████▌| 47719/49737 [1:00:33<02:28, 13.57it/s]"
     ]
    },
    {
     "name": "stdout",
     "output_type": "stream",
     "text": [
      "0.08620487959613715\n",
      "no match for /home/chuongh/vm2m/data/HHM/synthesized/masks/12905/0.png\n",
      "0.1438779044884368\n",
      "no match for /home/chuongh/vm2m/data/HHM/synthesized/masks/38067/0.png\n"
     ]
    },
    {
     "name": "stderr",
     "output_type": "stream",
     "text": [
      " 96%|█████████▌| 47723/49737 [1:00:33<02:37, 12.77it/s]"
     ]
    },
    {
     "name": "stdout",
     "output_type": "stream",
     "text": [
      "0.24695190724254204\n",
      "no match for /home/chuongh/vm2m/data/HHM/synthesized/masks/19979/0.png\n"
     ]
    },
    {
     "name": "stderr",
     "output_type": "stream",
     "text": [
      " 96%|█████████▌| 47741/49737 [1:00:34<02:15, 14.74it/s]"
     ]
    },
    {
     "name": "stdout",
     "output_type": "stream",
     "text": [
      "0.015510420224146082\n",
      "no match for /home/chuongh/vm2m/data/HHM/synthesized/masks/19652/0.png\n"
     ]
    },
    {
     "name": "stderr",
     "output_type": "stream",
     "text": [
      " 96%|█████████▌| 47755/49737 [1:00:35<01:55, 17.14it/s]"
     ]
    },
    {
     "name": "stdout",
     "output_type": "stream",
     "text": [
      "0.14452084506958593\n",
      "no match for /home/chuongh/vm2m/data/HHM/synthesized/masks/33295/0.png\n"
     ]
    },
    {
     "name": "stderr",
     "output_type": "stream",
     "text": [
      " 96%|█████████▌| 47777/49737 [1:00:37<02:18, 14.19it/s]"
     ]
    },
    {
     "name": "stdout",
     "output_type": "stream",
     "text": [
      "0.24618956992606333\n",
      "no match for /home/chuongh/vm2m/data/HHM/synthesized/masks/31846/2.png\n"
     ]
    },
    {
     "name": "stderr",
     "output_type": "stream",
     "text": [
      " 96%|█████████▌| 47806/49737 [1:00:39<02:26, 13.23it/s]"
     ]
    },
    {
     "name": "stdout",
     "output_type": "stream",
     "text": [
      "0.047995653346157054\n",
      "no match for /home/chuongh/vm2m/data/HHM/synthesized/masks/34975/0.png\n"
     ]
    },
    {
     "name": "stderr",
     "output_type": "stream",
     "text": [
      " 96%|█████████▌| 47852/49737 [1:00:43<02:13, 14.10it/s]"
     ]
    },
    {
     "name": "stdout",
     "output_type": "stream",
     "text": [
      "0\n",
      "no match for /home/chuongh/vm2m/data/HHM/synthesized/masks/23891/1.png\n"
     ]
    },
    {
     "name": "stderr",
     "output_type": "stream",
     "text": [
      " 96%|█████████▋| 47920/49737 [1:00:48<01:58, 15.36it/s]"
     ]
    },
    {
     "name": "stdout",
     "output_type": "stream",
     "text": [
      "0.2591275994711818\n",
      "no match for /home/chuongh/vm2m/data/HHM/synthesized/masks/30678/1.png\n"
     ]
    },
    {
     "name": "stderr",
     "output_type": "stream",
     "text": [
      " 96%|█████████▋| 47936/49737 [1:00:49<02:36, 11.47it/s]"
     ]
    },
    {
     "name": "stdout",
     "output_type": "stream",
     "text": [
      "0.02138513179790289\n",
      "no match for /home/chuongh/vm2m/data/HHM/synthesized/masks/25156/0.png\n"
     ]
    },
    {
     "name": "stderr",
     "output_type": "stream",
     "text": [
      " 96%|█████████▋| 47952/49737 [1:00:50<02:05, 14.19it/s]"
     ]
    },
    {
     "name": "stdout",
     "output_type": "stream",
     "text": [
      "0.06651383797105802\n",
      "no match for /home/chuongh/vm2m/data/HHM/synthesized/masks/43368/0.png\n"
     ]
    },
    {
     "name": "stderr",
     "output_type": "stream",
     "text": [
      " 97%|█████████▋| 48007/49737 [1:00:54<01:56, 14.79it/s]"
     ]
    },
    {
     "name": "stdout",
     "output_type": "stream",
     "text": [
      "0.10278610337833308\n",
      "no match for /home/chuongh/vm2m/data/HHM/synthesized/masks/47290/0.png\n",
      "0.2636132527725978\n",
      "no match for /home/chuongh/vm2m/data/HHM/synthesized/masks/30430/1.png\n"
     ]
    },
    {
     "name": "stderr",
     "output_type": "stream",
     "text": [
      " 97%|█████████▋| 48028/49737 [1:00:56<01:51, 15.31it/s]"
     ]
    },
    {
     "name": "stdout",
     "output_type": "stream",
     "text": [
      "0.28335977000028906\n",
      "no match for /home/chuongh/vm2m/data/HHM/synthesized/masks/48783/0.png\n"
     ]
    },
    {
     "name": "stderr",
     "output_type": "stream",
     "text": [
      " 97%|█████████▋| 48077/49737 [1:00:59<02:04, 13.37it/s]"
     ]
    },
    {
     "name": "stdout",
     "output_type": "stream",
     "text": [
      "0\n",
      "no match for /home/chuongh/vm2m/data/HHM/synthesized/masks/16159/0.png\n"
     ]
    },
    {
     "name": "stderr",
     "output_type": "stream",
     "text": [
      " 97%|█████████▋| 48103/49737 [1:01:01<01:45, 15.46it/s]"
     ]
    },
    {
     "name": "stdout",
     "output_type": "stream",
     "text": [
      "0.21734222140370998\n",
      "no match for /home/chuongh/vm2m/data/HHM/synthesized/masks/48018/1.png\n",
      "0.25038191437249946\n",
      "no match for /home/chuongh/vm2m/data/HHM/synthesized/masks/3353/2.png\n"
     ]
    },
    {
     "name": "stderr",
     "output_type": "stream",
     "text": [
      " 97%|█████████▋| 48124/49737 [1:01:03<02:00, 13.37it/s]"
     ]
    },
    {
     "name": "stdout",
     "output_type": "stream",
     "text": [
      "0.2731903159649872\n",
      "no match for /home/chuongh/vm2m/data/HHM/synthesized/masks/12367/0.png\n",
      "0.1960430066622427\n",
      "no match for /home/chuongh/vm2m/data/HHM/synthesized/masks/12367/2.png\n"
     ]
    },
    {
     "name": "stderr",
     "output_type": "stream",
     "text": [
      " 97%|█████████▋| 48136/49737 [1:01:04<01:40, 16.01it/s]"
     ]
    },
    {
     "name": "stdout",
     "output_type": "stream",
     "text": [
      "0.06522947889151398\n",
      "no match for /home/chuongh/vm2m/data/HHM/synthesized/masks/24483/0.png\n"
     ]
    },
    {
     "name": "stderr",
     "output_type": "stream",
     "text": [
      " 97%|█████████▋| 48156/49737 [1:01:05<02:23, 11.04it/s]"
     ]
    },
    {
     "name": "stdout",
     "output_type": "stream",
     "text": [
      "0.2472079654559221\n",
      "no match for /home/chuongh/vm2m/data/HHM/synthesized/masks/5640/0.png\n",
      "0.09055575206489554\n",
      "no match for /home/chuongh/vm2m/data/HHM/synthesized/masks/5640/2.png\n"
     ]
    },
    {
     "name": "stderr",
     "output_type": "stream",
     "text": [
      " 97%|█████████▋| 48224/49737 [1:01:11<01:46, 14.23it/s]"
     ]
    },
    {
     "name": "stdout",
     "output_type": "stream",
     "text": [
      "0.009833427328020729\n",
      "no match for /home/chuongh/vm2m/data/HHM/synthesized/masks/23167/0.png\n"
     ]
    },
    {
     "name": "stderr",
     "output_type": "stream",
     "text": [
      " 97%|█████████▋| 48235/49737 [1:01:11<01:44, 14.40it/s]"
     ]
    },
    {
     "name": "stdout",
     "output_type": "stream",
     "text": [
      "0\n",
      "no match for /home/chuongh/vm2m/data/HHM/synthesized/masks/5969/0.png\n"
     ]
    },
    {
     "name": "stderr",
     "output_type": "stream",
     "text": [
      " 97%|█████████▋| 48276/49737 [1:01:14<02:10, 11.21it/s]"
     ]
    },
    {
     "name": "stdout",
     "output_type": "stream",
     "text": [
      "0.268818933317725\n",
      "no match for /home/chuongh/vm2m/data/HHM/synthesized/masks/19294/1.png\n"
     ]
    },
    {
     "name": "stderr",
     "output_type": "stream",
     "text": [
      " 97%|█████████▋| 48298/49737 [1:01:16<01:19, 18.08it/s]"
     ]
    },
    {
     "name": "stdout",
     "output_type": "stream",
     "text": [
      "0.2684804676748851\n",
      "no match for /home/chuongh/vm2m/data/HHM/synthesized/masks/28124/1.png\n"
     ]
    },
    {
     "name": "stderr",
     "output_type": "stream",
     "text": [
      " 97%|█████████▋| 48311/49737 [1:01:17<01:52, 12.62it/s]"
     ]
    },
    {
     "name": "stdout",
     "output_type": "stream",
     "text": [
      "0.029374990584828287\n",
      "no match for /home/chuongh/vm2m/data/HHM/synthesized/masks/17971/1.png\n",
      "0.17477278851485867\n",
      "no match for /home/chuongh/vm2m/data/HHM/synthesized/masks/17971/2.png\n"
     ]
    },
    {
     "name": "stderr",
     "output_type": "stream",
     "text": [
      " 97%|█████████▋| 48328/49737 [1:01:18<02:00, 11.69it/s]"
     ]
    },
    {
     "name": "stdout",
     "output_type": "stream",
     "text": [
      "0\n",
      "no match for /home/chuongh/vm2m/data/HHM/synthesized/masks/27513/0.png\n"
     ]
    },
    {
     "name": "stderr",
     "output_type": "stream",
     "text": [
      " 97%|█████████▋| 48363/49737 [1:01:21<01:29, 15.29it/s]"
     ]
    },
    {
     "name": "stdout",
     "output_type": "stream",
     "text": [
      "0\n",
      "no match for /home/chuongh/vm2m/data/HHM/synthesized/masks/3434/0.png\n"
     ]
    },
    {
     "name": "stderr",
     "output_type": "stream",
     "text": [
      " 97%|█████████▋| 48368/49737 [1:01:21<01:15, 18.14it/s]"
     ]
    },
    {
     "name": "stdout",
     "output_type": "stream",
     "text": [
      "0\n",
      "no match for /home/chuongh/vm2m/data/HHM/synthesized/masks/31136/0.png\n"
     ]
    },
    {
     "name": "stderr",
     "output_type": "stream",
     "text": [
      " 97%|█████████▋| 48397/49737 [1:01:23<01:47, 12.45it/s]"
     ]
    },
    {
     "name": "stdout",
     "output_type": "stream",
     "text": [
      "0.1261012202291545\n",
      "no match for /home/chuongh/vm2m/data/HHM/synthesized/masks/13449/1.png\n"
     ]
    },
    {
     "name": "stderr",
     "output_type": "stream",
     "text": [
      " 97%|█████████▋| 48439/49737 [1:01:26<01:29, 14.54it/s]"
     ]
    },
    {
     "name": "stdout",
     "output_type": "stream",
     "text": [
      "0.0023304926493025084\n",
      "no match for /home/chuongh/vm2m/data/HHM/synthesized/masks/17426/0.png\n"
     ]
    },
    {
     "name": "stderr",
     "output_type": "stream",
     "text": [
      " 97%|█████████▋| 48447/49737 [1:01:27<01:26, 14.83it/s]"
     ]
    },
    {
     "name": "stdout",
     "output_type": "stream",
     "text": [
      "0.24269978408089\n",
      "no match for /home/chuongh/vm2m/data/HHM/synthesized/masks/42330/0.png\n"
     ]
    },
    {
     "name": "stderr",
     "output_type": "stream",
     "text": [
      " 97%|█████████▋| 48480/49737 [1:01:29<01:34, 13.37it/s]"
     ]
    },
    {
     "name": "stdout",
     "output_type": "stream",
     "text": [
      "0.27469928055453113\n",
      "no match for /home/chuongh/vm2m/data/HHM/synthesized/masks/22747/0.png\n"
     ]
    },
    {
     "name": "stderr",
     "output_type": "stream",
     "text": [
      " 97%|█████████▋| 48486/49737 [1:01:30<01:36, 12.96it/s]"
     ]
    },
    {
     "name": "stdout",
     "output_type": "stream",
     "text": [
      "0.23728677264873108\n",
      "no match for /home/chuongh/vm2m/data/HHM/synthesized/masks/31358/1.png\n"
     ]
    },
    {
     "name": "stderr",
     "output_type": "stream",
     "text": [
      " 98%|█████████▊| 48515/49737 [1:01:32<01:37, 12.58it/s]"
     ]
    },
    {
     "name": "stdout",
     "output_type": "stream",
     "text": [
      "0.018615297358558998\n",
      "no match for /home/chuongh/vm2m/data/HHM/synthesized/masks/11699/0.png\n",
      "0.1545454689360037\n",
      "no match for /home/chuongh/vm2m/data/HHM/synthesized/masks/22837/0.png\n"
     ]
    },
    {
     "name": "stderr",
     "output_type": "stream",
     "text": [
      " 98%|█████████▊| 48539/49737 [1:01:33<01:10, 17.08it/s]"
     ]
    },
    {
     "name": "stdout",
     "output_type": "stream",
     "text": [
      "0.14654635457604864\n",
      "no match for /home/chuongh/vm2m/data/HHM/synthesized/masks/39453/1.png\n"
     ]
    },
    {
     "name": "stderr",
     "output_type": "stream",
     "text": [
      " 98%|█████████▊| 48553/49737 [1:01:34<01:18, 15.07it/s]"
     ]
    },
    {
     "name": "stdout",
     "output_type": "stream",
     "text": [
      "0.19490357599392555\n",
      "no match for /home/chuongh/vm2m/data/HHM/synthesized/masks/42290/2.png\n",
      "0.2951495096155575\n",
      "no match for /home/chuongh/vm2m/data/HHM/synthesized/masks/1288/2.png\n"
     ]
    },
    {
     "name": "stderr",
     "output_type": "stream",
     "text": [
      " 98%|█████████▊| 48557/49737 [1:01:34<01:15, 15.59it/s]"
     ]
    },
    {
     "name": "stdout",
     "output_type": "stream",
     "text": [
      "0.24068313494628626\n",
      "no match for /home/chuongh/vm2m/data/HHM/synthesized/masks/7352/1.png\n"
     ]
    },
    {
     "name": "stderr",
     "output_type": "stream",
     "text": [
      " 98%|█████████▊| 48569/49737 [1:01:35<01:09, 16.86it/s]"
     ]
    },
    {
     "name": "stdout",
     "output_type": "stream",
     "text": [
      "0.15280821062409486\n",
      "no match for /home/chuongh/vm2m/data/HHM/synthesized/masks/40151/1.png\n"
     ]
    },
    {
     "name": "stderr",
     "output_type": "stream",
     "text": [
      " 98%|█████████▊| 48585/49737 [1:01:36<01:29, 12.89it/s]"
     ]
    },
    {
     "name": "stdout",
     "output_type": "stream",
     "text": [
      "0.12760418924411582\n",
      "no match for /home/chuongh/vm2m/data/HHM/synthesized/masks/2928/0.png\n",
      "0.00020333075135488209\n",
      "no match for /home/chuongh/vm2m/data/HHM/synthesized/masks/2928/1.png\n"
     ]
    },
    {
     "name": "stderr",
     "output_type": "stream",
     "text": [
      " 98%|█████████▊| 48594/49737 [1:01:37<01:19, 14.41it/s]"
     ]
    },
    {
     "name": "stdout",
     "output_type": "stream",
     "text": [
      "0.09926061599529863\n",
      "no match for /home/chuongh/vm2m/data/HHM/synthesized/masks/28204/2.png\n"
     ]
    },
    {
     "name": "stderr",
     "output_type": "stream",
     "text": [
      " 98%|█████████▊| 48640/49737 [1:01:40<01:23, 13.13it/s]"
     ]
    },
    {
     "name": "stdout",
     "output_type": "stream",
     "text": [
      "0.2777700460839676\n",
      "no match for /home/chuongh/vm2m/data/HHM/synthesized/masks/19175/1.png\n"
     ]
    },
    {
     "name": "stderr",
     "output_type": "stream",
     "text": [
      " 98%|█████████▊| 48671/49737 [1:01:43<01:17, 13.71it/s]"
     ]
    },
    {
     "name": "stdout",
     "output_type": "stream",
     "text": [
      "0.027341259423113717\n",
      "no match for /home/chuongh/vm2m/data/HHM/synthesized/masks/25376/1.png\n"
     ]
    },
    {
     "name": "stderr",
     "output_type": "stream",
     "text": [
      " 98%|█████████▊| 48679/49737 [1:01:43<01:17, 13.64it/s]"
     ]
    },
    {
     "name": "stdout",
     "output_type": "stream",
     "text": [
      "0.26566278351064104\n",
      "no match for /home/chuongh/vm2m/data/HHM/synthesized/masks/33428/0.png\n"
     ]
    },
    {
     "name": "stderr",
     "output_type": "stream",
     "text": [
      " 98%|█████████▊| 48689/49737 [1:01:44<01:29, 11.71it/s]"
     ]
    },
    {
     "name": "stdout",
     "output_type": "stream",
     "text": [
      "0.009111312503365885\n",
      "no match for /home/chuongh/vm2m/data/HHM/synthesized/masks/25086/1.png\n"
     ]
    },
    {
     "name": "stderr",
     "output_type": "stream",
     "text": [
      " 98%|█████████▊| 48697/49737 [1:01:45<01:12, 14.40it/s]"
     ]
    },
    {
     "name": "stdout",
     "output_type": "stream",
     "text": [
      "0.0001455107294316734\n",
      "no match for /home/chuongh/vm2m/data/HHM/synthesized/masks/1521/0.png\n"
     ]
    },
    {
     "name": "stderr",
     "output_type": "stream",
     "text": [
      " 98%|█████████▊| 48703/49737 [1:01:45<01:24, 12.21it/s]"
     ]
    },
    {
     "name": "stdout",
     "output_type": "stream",
     "text": [
      "0.20283964154647846\n",
      "no match for /home/chuongh/vm2m/data/HHM/synthesized/masks/8940/2.png\n"
     ]
    },
    {
     "name": "stderr",
     "output_type": "stream",
     "text": [
      " 98%|█████████▊| 48714/49737 [1:01:46<01:10, 14.53it/s]"
     ]
    },
    {
     "name": "stdout",
     "output_type": "stream",
     "text": [
      "0\n",
      "no match for /home/chuongh/vm2m/data/HHM/synthesized/masks/40832/1.png\n"
     ]
    },
    {
     "name": "stderr",
     "output_type": "stream",
     "text": [
      " 98%|█████████▊| 48755/49737 [1:01:49<01:18, 12.50it/s]"
     ]
    },
    {
     "name": "stdout",
     "output_type": "stream",
     "text": [
      "0.13030410260158298\n",
      "no match for /home/chuongh/vm2m/data/HHM/synthesized/masks/44382/0.png\n"
     ]
    },
    {
     "name": "stderr",
     "output_type": "stream",
     "text": [
      " 98%|█████████▊| 48767/49737 [1:01:50<01:01, 15.81it/s]"
     ]
    },
    {
     "name": "stdout",
     "output_type": "stream",
     "text": [
      "0.09037642882178047\n",
      "no match for /home/chuongh/vm2m/data/HHM/synthesized/masks/1184/0.png\n"
     ]
    },
    {
     "name": "stderr",
     "output_type": "stream",
     "text": [
      " 98%|█████████▊| 48780/49737 [1:01:51<01:11, 13.40it/s]"
     ]
    },
    {
     "name": "stdout",
     "output_type": "stream",
     "text": [
      "0.2679658988746034\n",
      "no match for /home/chuongh/vm2m/data/HHM/synthesized/masks/48527/1.png\n"
     ]
    },
    {
     "name": "stderr",
     "output_type": "stream",
     "text": [
      " 98%|█████████▊| 48785/49737 [1:01:51<00:59, 15.87it/s]"
     ]
    },
    {
     "name": "stdout",
     "output_type": "stream",
     "text": [
      "0.004420068568295605\n",
      "no match for /home/chuongh/vm2m/data/HHM/synthesized/masks/33256/2.png\n"
     ]
    },
    {
     "name": "stderr",
     "output_type": "stream",
     "text": [
      " 98%|█████████▊| 48791/49737 [1:01:52<01:19, 11.83it/s]"
     ]
    },
    {
     "name": "stdout",
     "output_type": "stream",
     "text": [
      "0.25539721786277814\n",
      "no match for /home/chuongh/vm2m/data/HHM/synthesized/masks/22604/1.png\n",
      "0.22293636164630093\n",
      "no match for /home/chuongh/vm2m/data/HHM/synthesized/masks/26139/2.png\n"
     ]
    },
    {
     "name": "stderr",
     "output_type": "stream",
     "text": [
      " 98%|█████████▊| 48809/49737 [1:01:53<00:58, 15.88it/s]"
     ]
    },
    {
     "name": "stdout",
     "output_type": "stream",
     "text": [
      "0.11638215355737472\n",
      "no match for /home/chuongh/vm2m/data/HHM/synthesized/masks/3674/0.png\n"
     ]
    },
    {
     "name": "stderr",
     "output_type": "stream",
     "text": [
      " 98%|█████████▊| 48813/49737 [1:01:53<01:15, 12.27it/s]"
     ]
    },
    {
     "name": "stdout",
     "output_type": "stream",
     "text": [
      "0.26043345467618023\n",
      "no match for /home/chuongh/vm2m/data/HHM/synthesized/masks/34171/0.png\n"
     ]
    },
    {
     "name": "stderr",
     "output_type": "stream",
     "text": [
      " 98%|█████████▊| 48818/49737 [1:01:54<01:07, 13.54it/s]"
     ]
    },
    {
     "name": "stdout",
     "output_type": "stream",
     "text": [
      "0.12381376729120273\n",
      "no match for /home/chuongh/vm2m/data/HHM/synthesized/masks/29763/0.png\n"
     ]
    },
    {
     "name": "stderr",
     "output_type": "stream",
     "text": [
      " 98%|█████████▊| 48866/49737 [1:01:58<01:28,  9.85it/s]"
     ]
    },
    {
     "name": "stdout",
     "output_type": "stream",
     "text": [
      "0.022371062087466698\n",
      "no match for /home/chuongh/vm2m/data/HHM/synthesized/masks/47117/1.png\n",
      "0.012273255345796904\n",
      "no match for /home/chuongh/vm2m/data/HHM/synthesized/masks/587/1.png\n"
     ]
    },
    {
     "name": "stderr",
     "output_type": "stream",
     "text": [
      " 98%|█████████▊| 48881/49737 [1:01:59<00:52, 16.31it/s]"
     ]
    },
    {
     "name": "stdout",
     "output_type": "stream",
     "text": [
      "0.25235337196778285\n",
      "no match for /home/chuongh/vm2m/data/HHM/synthesized/masks/11900/0.png\n"
     ]
    },
    {
     "name": "stderr",
     "output_type": "stream",
     "text": [
      " 98%|█████████▊| 48890/49737 [1:02:00<01:03, 13.26it/s]"
     ]
    },
    {
     "name": "stdout",
     "output_type": "stream",
     "text": [
      "0.19184033650466417\n",
      "no match for /home/chuongh/vm2m/data/HHM/synthesized/masks/27109/2.png\n"
     ]
    },
    {
     "name": "stderr",
     "output_type": "stream",
     "text": [
      " 98%|█████████▊| 48899/49737 [1:02:00<01:03, 13.18it/s]"
     ]
    },
    {
     "name": "stdout",
     "output_type": "stream",
     "text": [
      "0.28209065528912697\n",
      "no match for /home/chuongh/vm2m/data/HHM/synthesized/masks/40134/0.png\n"
     ]
    },
    {
     "name": "stderr",
     "output_type": "stream",
     "text": [
      " 98%|█████████▊| 48917/49737 [1:02:02<01:00, 13.48it/s]"
     ]
    },
    {
     "name": "stdout",
     "output_type": "stream",
     "text": [
      "0.1694953392809017\n",
      "no match for /home/chuongh/vm2m/data/HHM/synthesized/masks/24149/1.png\n"
     ]
    },
    {
     "name": "stderr",
     "output_type": "stream",
     "text": [
      " 98%|█████████▊| 48930/49737 [1:02:03<00:54, 14.75it/s]"
     ]
    },
    {
     "name": "stdout",
     "output_type": "stream",
     "text": [
      "0.2546693459436828\n",
      "no match for /home/chuongh/vm2m/data/HHM/synthesized/masks/41782/0.png\n"
     ]
    },
    {
     "name": "stderr",
     "output_type": "stream",
     "text": [
      " 98%|█████████▊| 48934/49737 [1:02:03<01:06, 12.09it/s]"
     ]
    },
    {
     "name": "stdout",
     "output_type": "stream",
     "text": [
      "0\n",
      "no match for /home/chuongh/vm2m/data/HHM/synthesized/masks/37696/1.png\n"
     ]
    },
    {
     "name": "stderr",
     "output_type": "stream",
     "text": [
      " 98%|█████████▊| 48964/49737 [1:02:05<00:45, 17.06it/s]"
     ]
    },
    {
     "name": "stdout",
     "output_type": "stream",
     "text": [
      "1.6490656394059916e-06\n",
      "no match for /home/chuongh/vm2m/data/HHM/synthesized/masks/11049/1.png\n"
     ]
    },
    {
     "name": "stderr",
     "output_type": "stream",
     "text": [
      " 98%|█████████▊| 48986/49737 [1:02:07<00:50, 14.79it/s]"
     ]
    },
    {
     "name": "stdout",
     "output_type": "stream",
     "text": [
      "0.25316601079578976\n",
      "no match for /home/chuongh/vm2m/data/HHM/synthesized/masks/41578/0.png\n"
     ]
    },
    {
     "name": "stderr",
     "output_type": "stream",
     "text": [
      " 99%|█████████▊| 49038/49737 [1:02:11<00:54, 12.93it/s]"
     ]
    },
    {
     "name": "stdout",
     "output_type": "stream",
     "text": [
      "0.12528423182271883\n",
      "no match for /home/chuongh/vm2m/data/HHM/synthesized/masks/48806/1.png\n"
     ]
    },
    {
     "name": "stderr",
     "output_type": "stream",
     "text": [
      " 99%|█████████▊| 49095/49737 [1:02:15<00:52, 12.25it/s]"
     ]
    },
    {
     "name": "stdout",
     "output_type": "stream",
     "text": [
      "0.2385237955929582\n",
      "no match for /home/chuongh/vm2m/data/HHM/synthesized/masks/24163/0.png\n"
     ]
    },
    {
     "name": "stderr",
     "output_type": "stream",
     "text": [
      " 99%|█████████▊| 49108/49737 [1:02:16<00:33, 19.04it/s]"
     ]
    },
    {
     "name": "stdout",
     "output_type": "stream",
     "text": [
      "0.21602488923567884\n",
      "no match for /home/chuongh/vm2m/data/HHM/synthesized/masks/10210/0.png\n"
     ]
    },
    {
     "name": "stderr",
     "output_type": "stream",
     "text": [
      " 99%|█████████▊| 49115/49737 [1:02:16<00:47, 13.22it/s]"
     ]
    },
    {
     "name": "stdout",
     "output_type": "stream",
     "text": [
      "0.21638755821458827\n",
      "no match for /home/chuongh/vm2m/data/HHM/synthesized/masks/17948/3.png\n"
     ]
    },
    {
     "name": "stderr",
     "output_type": "stream",
     "text": [
      " 99%|█████████▉| 49213/49737 [1:02:24<00:43, 12.00it/s]"
     ]
    },
    {
     "name": "stdout",
     "output_type": "stream",
     "text": [
      "0.21429903120815982\n",
      "no match for /home/chuongh/vm2m/data/HHM/synthesized/masks/12326/0.png\n"
     ]
    },
    {
     "name": "stderr",
     "output_type": "stream",
     "text": [
      " 99%|█████████▉| 49309/49737 [1:02:30<00:30, 13.82it/s]"
     ]
    },
    {
     "name": "stdout",
     "output_type": "stream",
     "text": [
      "0.04913608809433027\n",
      "no match for /home/chuongh/vm2m/data/HHM/synthesized/masks/16883/0.png\n"
     ]
    },
    {
     "name": "stderr",
     "output_type": "stream",
     "text": [
      " 99%|█████████▉| 49323/49737 [1:02:32<00:38, 10.71it/s]"
     ]
    },
    {
     "name": "stdout",
     "output_type": "stream",
     "text": [
      "0.002403001102774279\n",
      "no match for /home/chuongh/vm2m/data/HHM/synthesized/masks/27926/1.png\n"
     ]
    },
    {
     "name": "stderr",
     "output_type": "stream",
     "text": [
      " 99%|█████████▉| 49329/49737 [1:02:32<00:33, 12.12it/s]"
     ]
    },
    {
     "name": "stdout",
     "output_type": "stream",
     "text": [
      "0.15155951649979338\n",
      "no match for /home/chuongh/vm2m/data/HHM/synthesized/masks/8471/0.png\n",
      "0.23718361814116024\n",
      "no match for /home/chuongh/vm2m/data/HHM/synthesized/masks/42265/1.png\n"
     ]
    },
    {
     "name": "stderr",
     "output_type": "stream",
     "text": [
      " 99%|█████████▉| 49340/49737 [1:02:33<00:36, 10.93it/s]"
     ]
    },
    {
     "name": "stdout",
     "output_type": "stream",
     "text": [
      "0.028106258668364255\n",
      "no match for /home/chuongh/vm2m/data/HHM/synthesized/masks/47045/0.png\n"
     ]
    },
    {
     "name": "stderr",
     "output_type": "stream",
     "text": [
      " 99%|█████████▉| 49358/49737 [1:02:34<00:25, 15.05it/s]"
     ]
    },
    {
     "name": "stdout",
     "output_type": "stream",
     "text": [
      "0.0131882755042373\n",
      "no match for /home/chuongh/vm2m/data/HHM/synthesized/masks/14027/0.png\n"
     ]
    },
    {
     "name": "stderr",
     "output_type": "stream",
     "text": [
      " 99%|█████████▉| 49448/49737 [1:02:41<00:18, 15.62it/s]"
     ]
    },
    {
     "name": "stdout",
     "output_type": "stream",
     "text": [
      "0.27737071361379856\n",
      "no match for /home/chuongh/vm2m/data/HHM/synthesized/masks/2526/1.png\n"
     ]
    },
    {
     "name": "stderr",
     "output_type": "stream",
     "text": [
      " 99%|█████████▉| 49480/49737 [1:02:43<00:15, 16.69it/s]"
     ]
    },
    {
     "name": "stdout",
     "output_type": "stream",
     "text": [
      "0.12180166334276907\n",
      "no match for /home/chuongh/vm2m/data/HHM/synthesized/masks/30660/0.png\n"
     ]
    },
    {
     "name": "stderr",
     "output_type": "stream",
     "text": [
      "100%|█████████▉| 49503/49737 [1:02:45<00:19, 11.73it/s]"
     ]
    },
    {
     "name": "stdout",
     "output_type": "stream",
     "text": [
      "0\n",
      "no match for /home/chuongh/vm2m/data/HHM/synthesized/masks/12061/1.png\n"
     ]
    },
    {
     "name": "stderr",
     "output_type": "stream",
     "text": [
      "100%|█████████▉| 49535/49737 [1:02:47<00:12, 16.39it/s]"
     ]
    },
    {
     "name": "stdout",
     "output_type": "stream",
     "text": [
      "0.2789827882118381\n",
      "no match for /home/chuongh/vm2m/data/HHM/synthesized/masks/26422/2.png\n"
     ]
    },
    {
     "name": "stderr",
     "output_type": "stream",
     "text": [
      "100%|█████████▉| 49570/49737 [1:02:49<00:10, 16.15it/s]"
     ]
    },
    {
     "name": "stdout",
     "output_type": "stream",
     "text": [
      "0.035656030084871615\n",
      "no match for /home/chuongh/vm2m/data/HHM/synthesized/masks/15115/0.png\n"
     ]
    },
    {
     "name": "stderr",
     "output_type": "stream",
     "text": [
      "100%|█████████▉| 49578/49737 [1:02:50<00:10, 15.45it/s]"
     ]
    },
    {
     "name": "stdout",
     "output_type": "stream",
     "text": [
      "0.22967518739130846\n",
      "no match for /home/chuongh/vm2m/data/HHM/synthesized/masks/12569/1.png\n"
     ]
    },
    {
     "name": "stderr",
     "output_type": "stream",
     "text": [
      "100%|█████████▉| 49580/49737 [1:02:50<00:11, 14.07it/s]"
     ]
    },
    {
     "name": "stdout",
     "output_type": "stream",
     "text": [
      "0.2997174131182604\n",
      "no match for /home/chuongh/vm2m/data/HHM/synthesized/masks/25787/1.png\n"
     ]
    },
    {
     "name": "stderr",
     "output_type": "stream",
     "text": [
      "100%|█████████▉| 49587/49737 [1:02:51<00:08, 16.81it/s]"
     ]
    },
    {
     "name": "stdout",
     "output_type": "stream",
     "text": [
      "0.03371902879244003\n",
      "no match for /home/chuongh/vm2m/data/HHM/synthesized/masks/47371/2.png\n"
     ]
    },
    {
     "name": "stderr",
     "output_type": "stream",
     "text": [
      "100%|█████████▉| 49608/49737 [1:02:52<00:10, 12.72it/s]"
     ]
    },
    {
     "name": "stdout",
     "output_type": "stream",
     "text": [
      "0.1905480473772846\n",
      "no match for /home/chuongh/vm2m/data/HHM/synthesized/masks/10433/1.png\n"
     ]
    },
    {
     "name": "stderr",
     "output_type": "stream",
     "text": [
      "100%|█████████▉| 49612/49737 [1:02:53<00:09, 12.59it/s]"
     ]
    },
    {
     "name": "stdout",
     "output_type": "stream",
     "text": [
      "0.19955914666335292\n",
      "no match for /home/chuongh/vm2m/data/HHM/synthesized/masks/32328/2.png\n"
     ]
    },
    {
     "name": "stderr",
     "output_type": "stream",
     "text": [
      "100%|█████████▉| 49618/49737 [1:02:53<00:11, 10.68it/s]"
     ]
    },
    {
     "name": "stdout",
     "output_type": "stream",
     "text": [
      "0.036306305881601976\n",
      "no match for /home/chuongh/vm2m/data/HHM/synthesized/masks/31107/1.png\n"
     ]
    },
    {
     "name": "stderr",
     "output_type": "stream",
     "text": [
      "100%|█████████▉| 49650/49737 [1:02:56<00:07, 10.89it/s]"
     ]
    },
    {
     "name": "stdout",
     "output_type": "stream",
     "text": [
      "0.25542437304120363\n",
      "no match for /home/chuongh/vm2m/data/HHM/synthesized/masks/2422/0.png\n"
     ]
    },
    {
     "name": "stderr",
     "output_type": "stream",
     "text": [
      "100%|█████████▉| 49666/49737 [1:02:57<00:05, 13.87it/s]"
     ]
    },
    {
     "name": "stdout",
     "output_type": "stream",
     "text": [
      "0.27898992847678006\n",
      "no match for /home/chuongh/vm2m/data/HHM/synthesized/masks/28494/1.png\n"
     ]
    },
    {
     "name": "stderr",
     "output_type": "stream",
     "text": [
      "100%|█████████▉| 49672/49737 [1:02:57<00:05, 11.45it/s]"
     ]
    },
    {
     "name": "stdout",
     "output_type": "stream",
     "text": [
      "0.015049668676704318\n",
      "no match for /home/chuongh/vm2m/data/HHM/synthesized/masks/1114/2.png\n"
     ]
    },
    {
     "name": "stderr",
     "output_type": "stream",
     "text": [
      "100%|█████████▉| 49686/49737 [1:02:59<00:04, 12.46it/s]"
     ]
    },
    {
     "name": "stdout",
     "output_type": "stream",
     "text": [
      "0.09269297631889743\n",
      "no match for /home/chuongh/vm2m/data/HHM/synthesized/masks/47916/1.png\n"
     ]
    },
    {
     "name": "stderr",
     "output_type": "stream",
     "text": [
      "100%|█████████▉| 49715/49737 [1:03:01<00:01, 12.03it/s]"
     ]
    },
    {
     "name": "stdout",
     "output_type": "stream",
     "text": [
      "0.10297882982867684\n",
      "no match for /home/chuongh/vm2m/data/HHM/synthesized/masks/5260/1.png\n"
     ]
    },
    {
     "name": "stderr",
     "output_type": "stream",
     "text": [
      "100%|█████████▉| 49734/49737 [1:03:02<00:00, 16.95it/s]"
     ]
    },
    {
     "name": "stdout",
     "output_type": "stream",
     "text": [
      "0.29251177933646433\n",
      "no match for /home/chuongh/vm2m/data/HHM/synthesized/masks/242/1.png\n"
     ]
    },
    {
     "name": "stderr",
     "output_type": "stream",
     "text": [
      "100%|██████████| 49737/49737 [1:03:02<00:00, 13.15it/s]\n"
     ]
    }
   ],
   "source": [
    "for image_name in tqdm.tqdm(os.listdir(alpha_dir)):\n",
    "    image_dir = os.path.join(alpha_dir, image_name)\n",
    "    all_alphas = []\n",
    "    all_names = []\n",
    "    for alpha_name in os.listdir(image_dir):\n",
    "        alpha = np.array(Image.open(os.path.join(image_dir, alpha_name)).convert('L')) / 255.0\n",
    "        all_alphas.append(alpha)\n",
    "        all_names.append(alpha_name)\n",
    "    image_dir = os.path.join(mask_dir, image_name)\n",
    "    for mask_name in os.listdir(image_dir):\n",
    "        mask = np.array(Image.open(os.path.join(image_dir, mask_name)).convert('L')) / 255.0\n",
    "        mask = mask > 0.0\n",
    "        match_idx = -1\n",
    "        max_iou = 0\n",
    "        for i in range(len(all_alphas)):\n",
    "            alpha = all_alphas[i]\n",
    "            iou = np.sum(np.minimum(alpha, mask)) / (np.sum(np.maximum(alpha, mask)) + 1e-6)\n",
    "            if iou > max_iou:\n",
    "                max_iou = iou\n",
    "                match_idx = i\n",
    "        if max_iou > 0.3:\n",
    "            # os.rename(os.path.join(image_dir, mask_name), os.path.join(image_dir, all_names[match_idx]))\n",
    "            target_path = os.path.join(out_dir, image_name, mask_name)\n",
    "            os.makedirs(os.path.dirname(target_path), exist_ok=True)\n",
    "            if os.path.exists(target_path):\n",
    "                print('file exists: %s' % target_path)\n",
    "            else:\n",
    "                shutil.copy(os.path.join(alpha_dir, image_name, all_names[match_idx]), target_path)\n",
    "        else:\n",
    "            print(max_iou)\n",
    "            print('no match for %s' % os.path.join(alpha_dir, image_name, mask_name))"
   ]
  },
  {
   "cell_type": "code",
   "execution_count": 3,
   "metadata": {},
   "outputs": [
    {
     "data": {
      "text/plain": [
       "14322"
      ]
     },
     "execution_count": 3,
     "metadata": {},
     "output_type": "execute_result"
    }
   ],
   "source": [
    "import glob\n",
    "mask_paths = list(glob.glob(f'{out_dir}/*/*.png'))\n",
    "alpha_paths = list(glob.glob(f'{mask_dir}/*/*.png'))\n",
    "mask_paths = [m.replace('/masks_matched/', '/alphas/') for m in mask_paths]\n",
    "len(set(alpha_paths).difference(set(mask_paths)))"
   ]
  },
  {
   "cell_type": "code",
   "execution_count": 6,
   "metadata": {},
   "outputs": [
    {
     "data": {
      "text/plain": [
       "542"
      ]
     },
     "execution_count": 6,
     "metadata": {},
     "output_type": "execute_result"
    }
   ],
   "source": []
  },
  {
   "cell_type": "code",
   "execution_count": 4,
   "metadata": {},
   "outputs": [
    {
     "data": {
      "text/plain": [
       "113634"
      ]
     },
     "execution_count": 4,
     "metadata": {},
     "output_type": "execute_result"
    }
   ],
   "source": [
    "len(alpha_paths)"
   ]
  },
  {
   "cell_type": "code",
   "execution_count": null,
   "metadata": {},
   "outputs": [],
   "source": []
  }
 ],
 "metadata": {
  "kernelspec": {
   "display_name": "mask2matte",
   "language": "python",
   "name": "python3"
  },
  "language_info": {
   "codemirror_mode": {
    "name": "ipython",
    "version": 3
   },
   "file_extension": ".py",
   "mimetype": "text/x-python",
   "name": "python",
   "nbconvert_exporter": "python",
   "pygments_lexer": "ipython3",
   "version": "3.8.16"
  },
  "orig_nbformat": 4
 },
 "nbformat": 4,
 "nbformat_minor": 2
}
