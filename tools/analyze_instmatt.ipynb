{
 "cells": [
  {
   "cell_type": "code",
   "execution_count": 2,
   "metadata": {},
   "outputs": [],
   "source": [
    "import sys\n",
    "sys.path.append('../')"
   ]
  },
  {
   "cell_type": "code",
   "execution_count": 3,
   "metadata": {},
   "outputs": [],
   "source": [
    "import os\n",
    "from PIL import Image\n",
    "import numpy as np\n",
    "import torch\n",
    "from tqdm import tqdm\n",
    "from vm2m.utils.metric import build_metric\n",
    "from vm2m.dataloader.utils import gen_transition_gt"
   ]
  },
  {
   "cell_type": "code",
   "execution_count": 12,
   "metadata": {},
   "outputs": [
    {
     "name": "stderr",
     "output_type": "stream",
     "text": [
      "100%|██████████| 1680/1680 [1:09:30<00:00,  2.48s/it]\n"
     ]
    }
   ],
   "source": [
    "val_error_dict = build_metric(['MAD', 'MSE', 'SAD'])\n",
    "\n",
    "gt_dir = '/mnt/localssd/HIM2K/alphas/comp'\n",
    "pred_dir = '/home/chuongh/InstMatt/results/him2k_comp'\n",
    "\n",
    "for image_name in tqdm(os.listdir(gt_dir)):\n",
    "    image_dir = os.path.join(gt_dir, image_name)\n",
    "    for mask_name in os.listdir(image_dir):\n",
    "        gt_mask_path = os.path.join(image_dir, mask_name)\n",
    "        pred_mask_path = gt_mask_path.replace(gt_dir, pred_dir)\n",
    "        gt_mask = Image.open(gt_mask_path).convert('L')\n",
    "        pred_mask = Image.open(pred_mask_path).convert('L')\n",
    "        gt_mask = np.array(gt_mask) / 255.0\n",
    "        pred_mask = np.array(pred_mask) / 255.0\n",
    "        \n",
    "        trimap = None\n",
    "        trans = gen_transition_gt(torch.from_numpy(gt_mask[None, None])).numpy().squeeze()\n",
    "        trimap = np.zeros_like(gt_mask)\n",
    "        trimap[gt_mask > 0.5] = 2.0 # FG\n",
    "        trimap[trans > 0] = 1.0 # Transition\n",
    "\n",
    "        for k, v in val_error_dict.items():\n",
    "            v.update(pred_mask, gt_mask, trimap=trimap)\n"
   ]
  },
  {
   "cell_type": "code",
   "execution_count": 14,
   "metadata": {},
   "outputs": [
    {
     "name": "stdout",
     "output_type": "stream",
     "text": [
      "MAD: 55.644013284486824\n",
      "\n",
      "MSE: 18.597158670451343\n",
      "\n",
      "SAD: 5.751119888501254\n",
      "\n"
     ]
    },
    {
     "name": "stderr",
     "output_type": "stream",
     "text": [
      "Bad pipe message: %s [b\"\\xde\\xa1\\xe2\\xb4\\\\4\\xd6\\xbd2\\xcd\\x1c\\x83^\\x91\\x87\\xd1\\xac\\xd4 \\xc17\\xfd\\x8d\\xc1\\xfd\\x1f\\xfc\\xaa\\x8c\\xf7\\xbe\\xc4\\xdd\\x9d\\xadH\\x97\\x075e\\x826t\\\\\\x9e\\x92\\xf6\\xb0\\xf8\\xd8I\\x00>\\x13\\x02\\x13\\x03\\x13\\x01\\xc0,\\xc00\\x00\\x9f\\xcc\\xa9\\xcc\\xa8\\xcc\\xaa\\xc0+\\xc0/\\x00\\x9e\\xc0$\\xc0(\\x00k\\xc0#\\xc0'\\x00g\\xc0\\n\\xc0\\x14\\x009\\xc0\\t\\xc0\\x13\\x003\\x00\\x9d\\x00\\x9c\\x00=\\x00<\\x005\\x00/\\x00\\xff\\x01\\x00\\x01u\\x00\\x0b\\x00\\x04\\x03\\x00\\x01\\x02\\x00\\n\\x00\\x0c\\x00\\n\\x00\\x1d\\x00\\x17\\x00\\x1e\\x00\\x19\\x00\\x18\\x00#\\x00\\x00\\x00\\x16\\x00\\x00\\x00\\x17\\x00\\x00\\x00\\r\\x000\\x00.\\x04\\x03\\x05\\x03\\x06\\x03\\x08\\x07\\x08\\x08\\x08\\t\\x08\\n\\x08\\x0b\\x08\\x04\\x08\\x05\\x08\\x06\\x04\\x01\\x05\\x01\\x06\\x01\\x03\\x03\\x02\"]\n",
      "Bad pipe message: %s [b'\\x01\\x02', b'', b'\\x02']\n",
      "Bad pipe message: %s [b'\\x05\\x02\\x06']\n",
      "Bad pipe message: %s [b'+']\n"
     ]
    }
   ],
   "source": [
    "for k, v in val_error_dict.items():\n",
    "    print(\"{}: {}\\n\".format(k, v.average()))"
   ]
  },
  {
   "cell_type": "code",
   "execution_count": 15,
   "metadata": {},
   "outputs": [
    {
     "name": "stderr",
     "output_type": "stream",
     "text": [
      "100%|██████████| 320/320 [13:18<00:00,  2.50s/it]\n"
     ]
    }
   ],
   "source": [
    "val_error_dict = build_metric(['MAD', 'MSE', 'SAD'])\n",
    "\n",
    "gt_dir = '/mnt/localssd/HIM2K/alphas/natural'\n",
    "pred_dir = '/home/chuongh/InstMatt/results/him2k_natural_random'\n",
    "\n",
    "for image_name in tqdm(os.listdir(gt_dir)):\n",
    "    image_dir = os.path.join(gt_dir, image_name)\n",
    "    for mask_name in os.listdir(image_dir):\n",
    "        gt_mask_path = os.path.join(image_dir, mask_name)\n",
    "        pred_mask_path = gt_mask_path.replace(gt_dir, pred_dir)\n",
    "        if not os.path.exists(pred_mask_path):\n",
    "            continue\n",
    "        gt_mask = Image.open(gt_mask_path).convert('L')\n",
    "        pred_mask = Image.open(pred_mask_path).convert('L')\n",
    "        gt_mask = np.array(gt_mask) / 255.0\n",
    "        pred_mask = np.array(pred_mask) / 255.0\n",
    "        \n",
    "        trimap = None\n",
    "        trans = gen_transition_gt(torch.from_numpy(gt_mask[None, None])).numpy().squeeze()\n",
    "        trimap = np.zeros_like(gt_mask)\n",
    "        trimap[gt_mask > 0.5] = 2.0 # FG\n",
    "        trimap[trans > 0] = 1.0 # Transition\n",
    "\n",
    "        for k, v in val_error_dict.items():\n",
    "            v.update(pred_mask, gt_mask, trimap=trimap)\n"
   ]
  },
  {
   "cell_type": "code",
   "execution_count": 11,
   "metadata": {},
   "outputs": [
    {
     "name": "stderr",
     "output_type": "stream",
     "text": [
      "100%|██████████| 320/320 [13:58<00:00,  2.62s/it]"
     ]
    },
    {
     "name": "stdout",
     "output_type": "stream",
     "text": [
      "MAD: 45.40313660731048\n",
      "\n",
      "MSE: 26.85180017863952\n",
      "\n",
      "SAD: 14.165006020131647\n",
      "\n"
     ]
    },
    {
     "name": "stderr",
     "output_type": "stream",
     "text": [
      "\n"
     ]
    }
   ],
   "source": [
    "\n",
    "\"output/HIM/mgm_enc-dec-spconv_him_syn_short-576-512x512_bs256_20k_adamw_5.0e-5/vis_natural_random/alpha_pred/natural\"\n",
    "\n",
    "val_error_dict = build_metric(['MAD', 'MSE', 'SAD'])\n",
    "\n",
    "gt_dir = '/mnt/localssd/HIM2K/alphas/natural'\n",
    "pred_dir = '/home/chuongh/vm2m/output/HIM/mgm_enc-dec-spconv_him_syn_short-576-512x512_bs256_20k_adamw_5.0e-5/vis_natural_random/alpha_pred/natural'\n",
    "\n",
    "for image_name in tqdm(os.listdir(gt_dir)):\n",
    "    image_dir = os.path.join(gt_dir, image_name)\n",
    "    for mask_name in os.listdir(image_dir):\n",
    "        gt_mask_path = os.path.join(image_dir, mask_name)\n",
    "        pred_mask_path = gt_mask_path.replace(gt_dir, pred_dir)\n",
    "        if not os.path.exists(pred_mask_path):\n",
    "            continue\n",
    "        gt_mask = Image.open(gt_mask_path).convert('L')\n",
    "        pred_mask = Image.open(pred_mask_path).convert('L')\n",
    "        gt_mask = np.array(gt_mask) / 255.0\n",
    "        pred_mask = np.array(pred_mask) / 255.0\n",
    "        \n",
    "        trimap = None\n",
    "        trans = gen_transition_gt(torch.from_numpy(gt_mask[None, None])).numpy().squeeze()\n",
    "        trimap = np.zeros_like(gt_mask)\n",
    "        trimap[gt_mask > 0.5] = 2.0 # FG\n",
    "        trimap[trans > 0] = 1.0 # Transition\n",
    "\n",
    "        for k, v in val_error_dict.items():\n",
    "            v.update(pred_mask, gt_mask, trimap=trimap)\n",
    "for k, v in val_error_dict.items():\n",
    "    print(\"{}: {}\\n\".format(k, v.average()))"
   ]
  },
  {
   "cell_type": "code",
   "execution_count": 12,
   "metadata": {},
   "outputs": [
    {
     "name": "stdout",
     "output_type": "stream",
     "text": [
      "MAD: 45.40313660731048\n",
      "\n",
      "MSE: 26.85180017863952\n",
      "\n",
      "SAD: 14.165006020131647\n",
      "\n"
     ]
    }
   ],
   "source": [
    "for k, v in val_error_dict.items():\n",
    "    print(\"{}: {}\\n\".format(k, v.average()))"
   ]
  },
  {
   "cell_type": "code",
   "execution_count": 8,
   "metadata": {},
   "outputs": [
    {
     "name": "stderr",
     "output_type": "stream",
     "text": [
      "100%|██████████| 320/320 [14:14<00:00,  2.67s/it]"
     ]
    },
    {
     "name": "stdout",
     "output_type": "stream",
     "text": [
      "MAD: 51.66515046492084\n",
      "\n",
      "MSE: 32.4974354115286\n",
      "\n",
      "SAD: 16.118647786302425\n",
      "\n"
     ]
    },
    {
     "name": "stderr",
     "output_type": "stream",
     "text": [
      "\n"
     ]
    }
   ],
   "source": [
    "\n",
    "\"output/HIM/mgm_enc-dec-spconv_him_syn_short-576-512x512_bs256_20k_adamw_5.0e-5/vis_natural_random/alpha_pred/natural\"\n",
    "\n",
    "val_error_dict = build_metric(['MAD', 'MSE', 'SAD'])\n",
    "\n",
    "gt_dir = '/mnt/localssd/HIM2K/alphas/natural'\n",
    "pred_dir = '/home/chuongh/vm2m/output/HIM/mgm_cvpr23/vis_natural_random/alpha_pred/natural'\n",
    "\n",
    "for image_name in tqdm(os.listdir(gt_dir)):\n",
    "    image_dir = os.path.join(gt_dir, image_name)\n",
    "    for mask_name in os.listdir(image_dir):\n",
    "        gt_mask_path = os.path.join(image_dir, mask_name)\n",
    "        pred_mask_path = gt_mask_path.replace(gt_dir, pred_dir)\n",
    "        if not os.path.exists(pred_mask_path):\n",
    "            continue\n",
    "        gt_mask = Image.open(gt_mask_path).convert('L')\n",
    "        pred_mask = Image.open(pred_mask_path).convert('L')\n",
    "        gt_mask = np.array(gt_mask) / 255.0\n",
    "        pred_mask = np.array(pred_mask) / 255.0\n",
    "        \n",
    "        trimap = None\n",
    "        trans = gen_transition_gt(torch.from_numpy(gt_mask[None, None])).numpy().squeeze()\n",
    "        trimap = np.zeros_like(gt_mask)\n",
    "        trimap[gt_mask > 0.5] = 2.0 # FG\n",
    "        trimap[trans > 0] = 1.0 # Transition\n",
    "\n",
    "        for k, v in val_error_dict.items():\n",
    "            v.update(pred_mask, gt_mask, trimap=trimap)\n",
    "for k, v in val_error_dict.items():\n",
    "    print(\"{}: {}\\n\".format(k, v.average()))"
   ]
  },
  {
   "cell_type": "code",
   "execution_count": 10,
   "metadata": {},
   "outputs": [
    {
     "name": "stdout",
     "output_type": "stream",
     "text": [
      "MAD: 51.66515046492084\n",
      "\n",
      "MSE: 32.4974354115286\n",
      "\n",
      "SAD: 16.118647786302425\n",
      "\n"
     ]
    }
   ],
   "source": [
    "for k, v in val_error_dict.items():\n",
    "    print(\"{}: {}\\n\".format(k, v.average()))"
   ]
  },
  {
   "cell_type": "code",
   "execution_count": 7,
   "metadata": {},
   "outputs": [
    {
     "name": "stderr",
     "output_type": "stream",
     "text": [
      "100%|██████████| 320/320 [14:05<00:00,  2.64s/it]"
     ]
    },
    {
     "name": "stdout",
     "output_type": "stream",
     "text": [
      "MAD: 46.678289329694906\n",
      "\n",
      "MSE: 28.47122912463364\n",
      "\n",
      "SAD: 14.562831970910898\n",
      "\n"
     ]
    },
    {
     "name": "stderr",
     "output_type": "stream",
     "text": [
      "\n"
     ]
    }
   ],
   "source": [
    "\n",
    "\n",
    "val_error_dict = build_metric(['MAD', 'MSE', 'SAD'])\n",
    "\n",
    "gt_dir = '/mnt/localssd/HIM2K/alphas/natural'\n",
    "pred_dir = \"/home/chuongh/vm2m/output/HIM/mgm_enc-dec-spconv_atten-loss_him_syn_short-576-512x512_bs128_20k_adamw_5.0e-5/vis_natural_random/alpha_pred/natural\"\n",
    "\n",
    "for image_name in tqdm(os.listdir(gt_dir)):\n",
    "    image_dir = os.path.join(gt_dir, image_name)\n",
    "    for mask_name in os.listdir(image_dir):\n",
    "        gt_mask_path = os.path.join(image_dir, mask_name)\n",
    "        pred_mask_path = gt_mask_path.replace(gt_dir, pred_dir)\n",
    "        if not os.path.exists(pred_mask_path):\n",
    "            continue\n",
    "        gt_mask = Image.open(gt_mask_path).convert('L')\n",
    "        pred_mask = Image.open(pred_mask_path).convert('L')\n",
    "        gt_mask = np.array(gt_mask) / 255.0\n",
    "        pred_mask = np.array(pred_mask) / 255.0\n",
    "        \n",
    "        trimap = None\n",
    "        trans = gen_transition_gt(torch.from_numpy(gt_mask[None, None])).numpy().squeeze()\n",
    "        trimap = np.zeros_like(gt_mask)\n",
    "        trimap[gt_mask > 0.5] = 2.0 # FG\n",
    "        trimap[trans > 0] = 1.0 # Transition\n",
    "\n",
    "        for k, v in val_error_dict.items():\n",
    "            v.update(pred_mask, gt_mask, trimap=trimap)\n",
    "for k, v in val_error_dict.items():\n",
    "    print(\"{}: {}\\n\".format(k, v.average()))"
   ]
  },
  {
   "cell_type": "code",
   "execution_count": 8,
   "metadata": {},
   "outputs": [
    {
     "name": "stdout",
     "output_type": "stream",
     "text": [
      "MAD: 46.678289329694906\n",
      "\n",
      "MSE: 28.47122912463364\n",
      "\n",
      "SAD: 14.562831970910898\n",
      "\n"
     ]
    }
   ],
   "source": [
    "for k, v in val_error_dict.items():\n",
    "    print(\"{}: {}\\n\".format(k, v.average()))"
   ]
  },
  {
   "cell_type": "code",
   "execution_count": null,
   "metadata": {},
   "outputs": [],
   "source": [
    "MAD: 6.321395039778849\n",
    "\n",
    "MSE: 4.46113154723329\n",
    "\n",
    "SAD: 23.769040783046474"
   ]
  }
 ],
 "metadata": {
  "kernelspec": {
   "display_name": "mask2matte",
   "language": "python",
   "name": "python3"
  },
  "language_info": {
   "codemirror_mode": {
    "name": "ipython",
    "version": 3
   },
   "file_extension": ".py",
   "mimetype": "text/x-python",
   "name": "python",
   "nbconvert_exporter": "python",
   "pygments_lexer": "ipython3",
   "version": "3.8.16"
  },
  "orig_nbformat": 4
 },
 "nbformat": 4,
 "nbformat_minor": 2
}
