{
 "cells": [
  {
   "cell_type": "code",
   "execution_count": 2,
   "metadata": {},
   "outputs": [],
   "source": [
    "import sys\n",
    "import glob\n",
    "from PIL import Image"
   ]
  },
  {
   "cell_type": "code",
   "execution_count": 3,
   "metadata": {},
   "outputs": [],
   "source": [
    "video_dirs = []\n",
    "with open('../data/VHM/train.txt', 'r') as f:\n",
    "    for line in f:\n",
    "        if 'VideoMatte240K/' in line:\n",
    "            video_dirs.append(line.strip())"
   ]
  },
  {
   "cell_type": "code",
   "execution_count": null,
   "metadata": {},
   "outputs": [],
   "source": [
    "for video_dir in video_dirs:\n",
    "    all_names = list(glob.glob('../data/VHM/' + video_dir + '/*.jpg'))\n",
    "    all_names = sorted(all_names)\n",
    "    Image.open(all_names[10]).save(\"test.png\")\n",
    "    next = input(f\"{all_names[10]}\")\n",
    "    if next == 'q':\n",
    "        sys.exit(0)"
   ]
  }
 ],
 "metadata": {
  "kernelspec": {
   "display_name": "mask2matte",
   "language": "python",
   "name": "python3"
  },
  "language_info": {
   "codemirror_mode": {
    "name": "ipython",
    "version": 3
   },
   "file_extension": ".py",
   "mimetype": "text/x-python",
   "name": "python",
   "nbconvert_exporter": "python",
   "pygments_lexer": "ipython3",
   "version": "3.8.16"
  },
  "orig_nbformat": 4
 },
 "nbformat": 4,
 "nbformat_minor": 2
}
