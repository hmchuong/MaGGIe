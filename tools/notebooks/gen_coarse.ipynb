{
 "cells": [
  {
   "cell_type": "code",
   "execution_count": 16,
   "metadata": {},
   "outputs": [],
   "source": [
    "import cv2\n",
    "import os\n",
    "from PIL import Image\n",
    "import glob\n",
    "import numpy as np\n",
    "import sys\n",
    "sys.path.append('../')\n",
    "from tqdm import tqdm\n",
    "\n",
    "from vm2m.dataloader.transforms import ModifyMaskBoundary, RandomBinarizedMask"
   ]
  },
  {
   "cell_type": "code",
   "execution_count": 8,
   "metadata": {},
   "outputs": [],
   "source": [
    "random = np.random.RandomState(1234)\n",
    "modily_mask_boundary = ModifyMaskBoundary(random, p=0.5)\n",
    "random_binary_mask = RandomBinarizedMask(random)"
   ]
  },
  {
   "cell_type": "code",
   "execution_count": 17,
   "metadata": {},
   "outputs": [
    {
     "name": "stderr",
     "output_type": "stream",
     "text": [
      "  0%|          | 0/12452 [00:00<?, ?it/s]"
     ]
    },
    {
     "name": "stderr",
     "output_type": "stream",
     "text": [
      "100%|██████████| 12452/12452 [09:31<00:00, 21.80it/s]\n",
      "100%|██████████| 12452/12452 [09:34<00:00, 21.68it/s]\n",
      " 63%|██████▎   | 7850/12452 [06:11<03:37, 21.13it/s]\n"
     ]
    },
    {
     "ename": "KeyboardInterrupt",
     "evalue": "",
     "output_type": "error",
     "traceback": [
      "\u001b[0;31m---------------------------------------------------------------------------\u001b[0m",
      "\u001b[0;31mKeyboardInterrupt\u001b[0m                         Traceback (most recent call last)",
      "Cell \u001b[0;32mIn[17], line 13\u001b[0m\n\u001b[1;32m     11\u001b[0m input_dict[\u001b[39m'\u001b[39m\u001b[39mmasks\u001b[39m\u001b[39m'\u001b[39m] \u001b[39m=\u001b[39m new_masks[\u001b[39mNone\u001b[39;00m]\n\u001b[1;32m     12\u001b[0m \u001b[39mif\u001b[39;00m random\u001b[39m.\u001b[39mrand() \u001b[39m<\u001b[39m \u001b[39m0.5\u001b[39m:\n\u001b[0;32m---> 13\u001b[0m     input_dict \u001b[39m=\u001b[39m modily_mask_boundary(input_dict)\n\u001b[1;32m     14\u001b[0m \u001b[39melse\u001b[39;00m:\n\u001b[1;32m     15\u001b[0m     input_dict \u001b[39m=\u001b[39m random_binary_mask(input_dict)\n",
      "File \u001b[0;32m~/vm2m/tools/../vm2m/dataloader/transforms.py:548\u001b[0m, in \u001b[0;36mModifyMaskBoundary.__call__\u001b[0;34m(self, input_dict)\u001b[0m\n\u001b[1;32m    546\u001b[0m \u001b[39mdef\u001b[39;00m \u001b[39m__call__\u001b[39m(\u001b[39mself\u001b[39m, input_dict: \u001b[39mdict\u001b[39m):\n\u001b[1;32m    547\u001b[0m     masks \u001b[39m=\u001b[39m input_dict[\u001b[39m\"\u001b[39m\u001b[39mmasks\u001b[39m\u001b[39m\"\u001b[39m]\n\u001b[0;32m--> 548\u001b[0m     input_dict[\u001b[39m\"\u001b[39m\u001b[39mmasks\u001b[39m\u001b[39m\"\u001b[39m] \u001b[39m=\u001b[39m np\u001b[39m.\u001b[39mstack([\u001b[39mself\u001b[39m\u001b[39m.\u001b[39mmodify_mask(m) \u001b[39mfor\u001b[39;00m m \u001b[39min\u001b[39;00m masks], axis\u001b[39m=\u001b[39m\u001b[39m0\u001b[39m)\n\u001b[1;32m    550\u001b[0m     \u001b[39mreturn\u001b[39;00m input_dict\n",
      "File \u001b[0;32m~/vm2m/tools/../vm2m/dataloader/transforms.py:548\u001b[0m, in \u001b[0;36m<listcomp>\u001b[0;34m(.0)\u001b[0m\n\u001b[1;32m    546\u001b[0m \u001b[39mdef\u001b[39;00m \u001b[39m__call__\u001b[39m(\u001b[39mself\u001b[39m, input_dict: \u001b[39mdict\u001b[39m):\n\u001b[1;32m    547\u001b[0m     masks \u001b[39m=\u001b[39m input_dict[\u001b[39m\"\u001b[39m\u001b[39mmasks\u001b[39m\u001b[39m\"\u001b[39m]\n\u001b[0;32m--> 548\u001b[0m     input_dict[\u001b[39m\"\u001b[39m\u001b[39mmasks\u001b[39m\u001b[39m\"\u001b[39m] \u001b[39m=\u001b[39m np\u001b[39m.\u001b[39mstack([\u001b[39mself\u001b[39;49m\u001b[39m.\u001b[39;49mmodify_mask(m) \u001b[39mfor\u001b[39;00m m \u001b[39min\u001b[39;00m masks], axis\u001b[39m=\u001b[39m\u001b[39m0\u001b[39m)\n\u001b[1;32m    550\u001b[0m     \u001b[39mreturn\u001b[39;00m input_dict\n",
      "File \u001b[0;32m~/vm2m/tools/../vm2m/dataloader/transforms.py:542\u001b[0m, in \u001b[0;36mModifyMaskBoundary.modify_mask\u001b[0;34m(self, image)\u001b[0m\n\u001b[1;32m    539\u001b[0m \u001b[39melse\u001b[39;00m:\n\u001b[1;32m    540\u001b[0m     image \u001b[39m=\u001b[39m cv2\u001b[39m.\u001b[39mdrawContours(image, modified_contours, \u001b[39m-\u001b[39m\u001b[39m1\u001b[39m, (\u001b[39m255\u001b[39m, \u001b[39m0\u001b[39m, \u001b[39m0\u001b[39m), \u001b[39m-\u001b[39m\u001b[39m1\u001b[39m)\n\u001b[0;32m--> 542\u001b[0m image \u001b[39m=\u001b[39m perturb_seg(image, iou_target)\n\u001b[1;32m    544\u001b[0m \u001b[39mreturn\u001b[39;00m image\n",
      "File \u001b[0;32m~/vm2m/tools/../vm2m/dataloader/transforms.py:458\u001b[0m, in \u001b[0;36mperturb_seg\u001b[0;34m(gt, iou_target)\u001b[0m\n\u001b[1;32m    456\u001b[0m         seg[ly:lh, lx:lw] \u001b[39m=\u001b[39m random_dilate(seg[ly:lh, lx:lw])\n\u001b[1;32m    457\u001b[0m     \u001b[39melse\u001b[39;00m:\n\u001b[0;32m--> 458\u001b[0m         seg[ly:lh, lx:lw] \u001b[39m=\u001b[39m random_erode(seg[ly:lh, lx:lw])\n\u001b[1;32m    460\u001b[0m \u001b[39mif\u001b[39;00m compute_iou(seg, gt) \u001b[39m<\u001b[39m iou_target:\n\u001b[1;32m    461\u001b[0m     \u001b[39mbreak\u001b[39;00m\n",
      "File \u001b[0;32m~/vm2m/tools/../vm2m/dataloader/transforms.py:424\u001b[0m, in \u001b[0;36mrandom_erode\u001b[0;34m(seg, min, max)\u001b[0m\n\u001b[1;32m    422\u001b[0m size \u001b[39m=\u001b[39m np\u001b[39m.\u001b[39mrandom\u001b[39m.\u001b[39mrandint(\u001b[39mmin\u001b[39m, \u001b[39mmax\u001b[39m)\n\u001b[1;32m    423\u001b[0m kernel \u001b[39m=\u001b[39m get_random_structure(size)\n\u001b[0;32m--> 424\u001b[0m seg \u001b[39m=\u001b[39m cv2\u001b[39m.\u001b[39;49merode(seg,kernel,iterations \u001b[39m=\u001b[39;49m \u001b[39m1\u001b[39;49m)\n\u001b[1;32m    425\u001b[0m \u001b[39mreturn\u001b[39;00m seg\n",
      "\u001b[0;31mKeyboardInterrupt\u001b[0m: "
     ]
    }
   ],
   "source": [
    "alpha_path = \"/home/chuongh/vm2m/data/syn/test/pha\"\n",
    "\n",
    "all_alpha_paths = glob.glob(alpha_path + \"/*/*/*.png\")\n",
    "\n",
    "for i in range(10):\n",
    "    out_dir = \"mask_\" + str(i)\n",
    "    for alpha_path in tqdm(all_alpha_paths):\n",
    "        alpha = np.array(Image.open(alpha_path).convert(\"L\"))\n",
    "        new_masks = ((alpha > 127) * 255).astype('uint8')\n",
    "        input_dict = {}\n",
    "        input_dict['masks'] = new_masks[None]\n",
    "        if random.rand() < 0.5:\n",
    "            input_dict = modily_mask_boundary(input_dict)\n",
    "        else:\n",
    "            input_dict = random_binary_mask(input_dict)\n",
    "        new_masks = input_dict['masks'][0]\n",
    "        new_masks = Image.fromarray(new_masks)\n",
    "        out_path = alpha_path.replace(\"pha\", out_dir)\n",
    "        os.makedirs(os.path.dirname(out_path), exist_ok=True)\n",
    "        new_masks.save(out_path)"
   ]
  },
  {
   "cell_type": "code",
   "execution_count": null,
   "metadata": {},
   "outputs": [],
   "source": []
  }
 ],
 "metadata": {
  "kernelspec": {
   "display_name": "mask2matte",
   "language": "python",
   "name": "python3"
  },
  "language_info": {
   "codemirror_mode": {
    "name": "ipython",
    "version": 3
   },
   "file_extension": ".py",
   "mimetype": "text/x-python",
   "name": "python",
   "nbconvert_exporter": "python",
   "pygments_lexer": "ipython3",
   "version": "3.8.16"
  },
  "orig_nbformat": 4
 },
 "nbformat": 4,
 "nbformat_minor": 2
}
