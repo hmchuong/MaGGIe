{
 "cells": [
  {
   "cell_type": "code",
   "execution_count": 17,
   "metadata": {},
   "outputs": [],
   "source": [
    "import glob\n",
    "import os\n",
    "import cv2\n",
    "import tqdm"
   ]
  },
  {
   "cell_type": "code",
   "execution_count": 13,
   "metadata": {},
   "outputs": [],
   "source": [
    "all_dirs = glob.glob(\"/home/chuongh/vm2m/data/syn/pexels-train/xmem_rename/*/*\")"
   ]
  },
  {
   "cell_type": "code",
   "execution_count": 24,
   "metadata": {},
   "outputs": [
    {
     "data": {
      "text/plain": [
       "['frame0001',\n",
       " 'frame0002',\n",
       " 'frame0025',\n",
       " 'frame0010',\n",
       " 'frame0024',\n",
       " 'frame0008',\n",
       " 'frame0020',\n",
       " 'frame0012',\n",
       " 'frame0015',\n",
       " 'frame0019',\n",
       " 'frame0007',\n",
       " 'frame0006',\n",
       " 'frame0004',\n",
       " 'frame0026',\n",
       " 'frame0027',\n",
       " 'frame0016',\n",
       " 'frame0021',\n",
       " 'frame0022',\n",
       " 'frame0017',\n",
       " 'frame0009',\n",
       " 'frame0003',\n",
       " 'frame0005',\n",
       " 'frame0018',\n",
       " 'frame0011',\n",
       " 'frame0023',\n",
       " 'frame0014',\n",
       " 'frame0013']"
      ]
     },
     "execution_count": 24,
     "metadata": {},
     "output_type": "execute_result"
    }
   ],
   "source": [
    "mask_names"
   ]
  },
  {
   "cell_type": "code",
   "execution_count": 25,
   "metadata": {},
   "outputs": [],
   "source": [
    "# Check empty video_name\n",
    "# Count number of masks/ instances\n",
    "\n",
    "for video_name in glob.glob(\"/home/chuongh/vm2m/data/syn/pexels-train/fgr/*\"):\n",
    "    frame_names = os.listdir(video_name)\n",
    "    mask_names = os.listdir(video_name.replace(\"fgr\", \"xmem_rename\"))\n",
    "    if len(frame_names) != len(mask_names):\n",
    "        print(video_name)"
   ]
  },
  {
   "cell_type": "code",
   "execution_count": 16,
   "metadata": {},
   "outputs": [
    {
     "name": "stderr",
     "output_type": "stream",
     "text": [
      "  4%|▎         | 1935/52413 [00:53<11:56, 70.43it/s]  "
     ]
    },
    {
     "name": "stdout",
     "output_type": "stream",
     "text": [
      "/home/chuongh/vm2m/data/syn/pexels-train/xmem_rename/4883847/frame0020\n",
      "/home/chuongh/vm2m/data/syn/pexels-train/xmem_rename/4883847/frame0012\n",
      "/home/chuongh/vm2m/data/syn/pexels-train/xmem_rename/4883847/frame0019\n",
      "/home/chuongh/vm2m/data/syn/pexels-train/xmem_rename/4883847/frame0017\n",
      "/home/chuongh/vm2m/data/syn/pexels-train/xmem_rename/4883847/frame0018\n",
      "/home/chuongh/vm2m/data/syn/pexels-train/xmem_rename/4883847/frame0014\n"
     ]
    },
    {
     "name": "stderr",
     "output_type": "stream",
     "text": [
      "  4%|▎         | 1951/52413 [00:54<12:00, 70.06it/s]"
     ]
    },
    {
     "name": "stdout",
     "output_type": "stream",
     "text": [
      "/home/chuongh/vm2m/data/syn/pexels-train/xmem_rename/4883847/frame0013\n"
     ]
    },
    {
     "name": "stderr",
     "output_type": "stream",
     "text": [
      "  6%|▌         | 3250/52413 [01:22<18:26, 44.44it/s] "
     ]
    },
    {
     "name": "stdout",
     "output_type": "stream",
     "text": [
      "/home/chuongh/vm2m/data/syn/pexels-train/xmem_rename/3785106/frame0010\n",
      "/home/chuongh/vm2m/data/syn/pexels-train/xmem_rename/3785106/frame0012\n",
      "/home/chuongh/vm2m/data/syn/pexels-train/xmem_rename/3785106/frame0015\n"
     ]
    },
    {
     "name": "stderr",
     "output_type": "stream",
     "text": [
      "  6%|▌         | 3261/52413 [01:22<17:02, 48.05it/s]"
     ]
    },
    {
     "name": "stdout",
     "output_type": "stream",
     "text": [
      "/home/chuongh/vm2m/data/syn/pexels-train/xmem_rename/3785106/frame0011\n",
      "/home/chuongh/vm2m/data/syn/pexels-train/xmem_rename/3785106/frame0014\n",
      "/home/chuongh/vm2m/data/syn/pexels-train/xmem_rename/3785106/frame0013\n"
     ]
    },
    {
     "name": "stderr",
     "output_type": "stream",
     "text": [
      "  8%|▊         | 4448/52413 [02:03<26:13, 30.48it/s]  "
     ]
    },
    {
     "name": "stdout",
     "output_type": "stream",
     "text": [
      "/home/chuongh/vm2m/data/syn/pexels-train/xmem_rename/2873755/frame0082\n"
     ]
    },
    {
     "name": "stderr",
     "output_type": "stream",
     "text": [
      " 13%|█▎        | 7037/52413 [03:04<08:35, 87.97it/s] "
     ]
    },
    {
     "name": "stdout",
     "output_type": "stream",
     "text": [
      "/home/chuongh/vm2m/data/syn/pexels-train/xmem_rename/7088592/frame0029\n"
     ]
    },
    {
     "name": "stderr",
     "output_type": "stream",
     "text": [
      " 13%|█▎        | 7055/52413 [03:04<09:07, 82.83it/s]"
     ]
    },
    {
     "name": "stdout",
     "output_type": "stream",
     "text": [
      "/home/chuongh/vm2m/data/syn/pexels-train/xmem_rename/7088592/frame0028\n"
     ]
    },
    {
     "name": "stderr",
     "output_type": "stream",
     "text": [
      " 14%|█▍        | 7595/52413 [03:37<09:11, 81.25it/s]  "
     ]
    },
    {
     "name": "stdout",
     "output_type": "stream",
     "text": [
      "/home/chuongh/vm2m/data/syn/pexels-train/xmem_rename/10484595/frame0001\n"
     ]
    },
    {
     "name": "stderr",
     "output_type": "stream",
     "text": [
      " 15%|█▍        | 7645/52413 [03:39<19:06, 39.06it/s]"
     ]
    },
    {
     "name": "stdout",
     "output_type": "stream",
     "text": [
      "/home/chuongh/vm2m/data/syn/pexels-train/xmem_rename/10484595/frame0057\n"
     ]
    },
    {
     "name": "stderr",
     "output_type": "stream",
     "text": [
      " 16%|█▌        | 8321/52413 [03:58<18:39, 39.37it/s]  "
     ]
    },
    {
     "name": "stdout",
     "output_type": "stream",
     "text": [
      "/home/chuongh/vm2m/data/syn/pexels-train/xmem_rename/10484586/frame0025\n"
     ]
    },
    {
     "name": "stderr",
     "output_type": "stream",
     "text": [
      " 16%|█▌        | 8330/52413 [03:59<22:30, 32.65it/s]"
     ]
    },
    {
     "name": "stdout",
     "output_type": "stream",
     "text": [
      "/home/chuongh/vm2m/data/syn/pexels-train/xmem_rename/10484586/frame0026\n"
     ]
    },
    {
     "name": "stderr",
     "output_type": "stream",
     "text": [
      " 20%|██        | 10550/52413 [05:18<37:38, 18.53it/s]  "
     ]
    },
    {
     "name": "stdout",
     "output_type": "stream",
     "text": [
      "/home/chuongh/vm2m/data/syn/pexels-train/xmem_rename/5030306/frame0058\n"
     ]
    },
    {
     "name": "stderr",
     "output_type": "stream",
     "text": [
      " 20%|██        | 10589/52413 [05:19<32:37, 21.36it/s]"
     ]
    },
    {
     "name": "stdout",
     "output_type": "stream",
     "text": [
      "/home/chuongh/vm2m/data/syn/pexels-train/xmem_rename/5030306/frame0057\n"
     ]
    },
    {
     "name": "stderr",
     "output_type": "stream",
     "text": [
      " 22%|██▏       | 11396/52413 [05:42<10:33, 64.75it/s]  "
     ]
    },
    {
     "name": "stdout",
     "output_type": "stream",
     "text": [
      "/home/chuongh/vm2m/data/syn/pexels-train/xmem_rename/2873848/frame0071\n"
     ]
    },
    {
     "name": "stderr",
     "output_type": "stream",
     "text": [
      " 22%|██▏       | 11425/52413 [05:43<08:30, 80.28it/s]"
     ]
    },
    {
     "name": "stdout",
     "output_type": "stream",
     "text": [
      "/home/chuongh/vm2m/data/syn/pexels-train/xmem_rename/2873848/frame0123\n"
     ]
    },
    {
     "name": "stderr",
     "output_type": "stream",
     "text": [
      " 24%|██▍       | 12668/52413 [06:12<13:36, 48.70it/s] "
     ]
    },
    {
     "name": "stdout",
     "output_type": "stream",
     "text": [
      "/home/chuongh/vm2m/data/syn/pexels-train/xmem_rename/2795732/frame0045\n",
      "/home/chuongh/vm2m/data/syn/pexels-train/xmem_rename/2795732/frame0008\n",
      "/home/chuongh/vm2m/data/syn/pexels-train/xmem_rename/2795732/frame0042\n"
     ]
    },
    {
     "name": "stderr",
     "output_type": "stream",
     "text": [
      " 24%|██▍       | 12686/52413 [06:13<20:16, 32.67it/s]"
     ]
    },
    {
     "name": "stdout",
     "output_type": "stream",
     "text": [
      "/home/chuongh/vm2m/data/syn/pexels-train/xmem_rename/2795732/frame0043\n"
     ]
    },
    {
     "name": "stderr",
     "output_type": "stream",
     "text": [
      " 24%|██▍       | 12694/52413 [06:13<22:23, 29.57it/s]"
     ]
    },
    {
     "name": "stdout",
     "output_type": "stream",
     "text": [
      "/home/chuongh/vm2m/data/syn/pexels-train/xmem_rename/2795732/frame0044\n"
     ]
    },
    {
     "name": "stderr",
     "output_type": "stream",
     "text": [
      " 26%|██▌       | 13700/52413 [06:46<38:08, 16.91it/s]  "
     ]
    },
    {
     "name": "stdout",
     "output_type": "stream",
     "text": [
      "/home/chuongh/vm2m/data/syn/pexels-train/xmem_rename/7293846/frame0020\n"
     ]
    },
    {
     "name": "stderr",
     "output_type": "stream",
     "text": [
      " 26%|██▌       | 13704/52413 [06:46<40:26, 15.95it/s]"
     ]
    },
    {
     "name": "stdout",
     "output_type": "stream",
     "text": [
      "/home/chuongh/vm2m/data/syn/pexels-train/xmem_rename/7293846/frame0019\n"
     ]
    },
    {
     "name": "stderr",
     "output_type": "stream",
     "text": [
      " 26%|██▌       | 13712/52413 [06:46<43:40, 14.77it/s]"
     ]
    },
    {
     "name": "stdout",
     "output_type": "stream",
     "text": [
      "/home/chuongh/vm2m/data/syn/pexels-train/xmem_rename/7293846/frame0021\n",
      "/home/chuongh/vm2m/data/syn/pexels-train/xmem_rename/7293846/frame0022\n"
     ]
    },
    {
     "name": "stderr",
     "output_type": "stream",
     "text": [
      " 32%|███▏      | 16609/52413 [08:05<14:44, 40.46it/s]  "
     ]
    },
    {
     "name": "stdout",
     "output_type": "stream",
     "text": [
      "/home/chuongh/vm2m/data/syn/pexels-train/xmem_rename/4098647/frame0102\n"
     ]
    },
    {
     "name": "stderr",
     "output_type": "stream",
     "text": [
      " 32%|███▏      | 16632/52413 [08:06<22:10, 26.89it/s]"
     ]
    },
    {
     "name": "stdout",
     "output_type": "stream",
     "text": [
      "/home/chuongh/vm2m/data/syn/pexels-train/xmem_rename/4098647/frame0107\n"
     ]
    },
    {
     "name": "stderr",
     "output_type": "stream",
     "text": [
      " 32%|███▏      | 16641/52413 [08:07<24:20, 24.48it/s]"
     ]
    },
    {
     "name": "stdout",
     "output_type": "stream",
     "text": [
      "/home/chuongh/vm2m/data/syn/pexels-train/xmem_rename/4098647/frame0109\n",
      "/home/chuongh/vm2m/data/syn/pexels-train/xmem_rename/4098647/frame0097\n"
     ]
    },
    {
     "name": "stderr",
     "output_type": "stream",
     "text": [
      " 32%|███▏      | 16650/52413 [08:07<24:59, 23.85it/s]"
     ]
    },
    {
     "name": "stdout",
     "output_type": "stream",
     "text": [
      "/home/chuongh/vm2m/data/syn/pexels-train/xmem_rename/4098647/frame0099\n"
     ]
    },
    {
     "name": "stderr",
     "output_type": "stream",
     "text": [
      " 32%|███▏      | 16668/52413 [08:08<25:51, 23.03it/s]"
     ]
    },
    {
     "name": "stdout",
     "output_type": "stream",
     "text": [
      "/home/chuongh/vm2m/data/syn/pexels-train/xmem_rename/4098647/frame0103\n",
      "/home/chuongh/vm2m/data/syn/pexels-train/xmem_rename/4098647/frame0106\n"
     ]
    },
    {
     "name": "stderr",
     "output_type": "stream",
     "text": [
      " 32%|███▏      | 16680/52413 [08:08<25:43, 23.14it/s]"
     ]
    },
    {
     "name": "stdout",
     "output_type": "stream",
     "text": [
      "/home/chuongh/vm2m/data/syn/pexels-train/xmem_rename/4098647/frame0101\n",
      "/home/chuongh/vm2m/data/syn/pexels-train/xmem_rename/4098647/frame0098\n"
     ]
    },
    {
     "name": "stderr",
     "output_type": "stream",
     "text": [
      " 32%|███▏      | 16689/52413 [08:09<25:50, 23.04it/s]"
     ]
    },
    {
     "name": "stdout",
     "output_type": "stream",
     "text": [
      "/home/chuongh/vm2m/data/syn/pexels-train/xmem_rename/4098647/frame0100\n",
      "/home/chuongh/vm2m/data/syn/pexels-train/xmem_rename/4098647/frame0105\n"
     ]
    },
    {
     "name": "stderr",
     "output_type": "stream",
     "text": [
      " 32%|███▏      | 16695/52413 [08:09<25:48, 23.06it/s]"
     ]
    },
    {
     "name": "stdout",
     "output_type": "stream",
     "text": [
      "/home/chuongh/vm2m/data/syn/pexels-train/xmem_rename/4098647/frame0108\n"
     ]
    },
    {
     "name": "stderr",
     "output_type": "stream",
     "text": [
      " 32%|███▏      | 16704/52413 [08:09<25:26, 23.40it/s]"
     ]
    },
    {
     "name": "stdout",
     "output_type": "stream",
     "text": [
      "/home/chuongh/vm2m/data/syn/pexels-train/xmem_rename/4098647/frame0104\n"
     ]
    },
    {
     "name": "stderr",
     "output_type": "stream",
     "text": [
      " 33%|███▎      | 17544/52413 [08:38<12:09, 47.78it/s]"
     ]
    },
    {
     "name": "stdout",
     "output_type": "stream",
     "text": [
      "/home/chuongh/vm2m/data/syn/pexels-train/xmem_rename/5027869/frame0020\n",
      "/home/chuongh/vm2m/data/syn/pexels-train/xmem_rename/5027869/frame0019\n",
      "/home/chuongh/vm2m/data/syn/pexels-train/xmem_rename/5027869/frame0021\n"
     ]
    },
    {
     "name": "stderr",
     "output_type": "stream",
     "text": [
      " 33%|███▎      | 17554/52413 [08:38<12:47, 45.42it/s]"
     ]
    },
    {
     "name": "stdout",
     "output_type": "stream",
     "text": [
      "/home/chuongh/vm2m/data/syn/pexels-train/xmem_rename/5027869/frame0017\n",
      "/home/chuongh/vm2m/data/syn/pexels-train/xmem_rename/5027869/frame0018\n"
     ]
    },
    {
     "name": "stderr",
     "output_type": "stream",
     "text": [
      " 34%|███▍      | 17754/52413 [08:42<07:59, 72.34it/s]"
     ]
    },
    {
     "name": "stdout",
     "output_type": "stream",
     "text": [
      "/home/chuongh/vm2m/data/syn/pexels-train/xmem_rename/6474633/frame0001\n",
      "/home/chuongh/vm2m/data/syn/pexels-train/xmem_rename/6474633/frame0002\n"
     ]
    },
    {
     "name": "stderr",
     "output_type": "stream",
     "text": [
      " 34%|███▍      | 17762/52413 [08:42<20:10, 28.63it/s]"
     ]
    },
    {
     "name": "stdout",
     "output_type": "stream",
     "text": [
      "/home/chuongh/vm2m/data/syn/pexels-train/xmem_rename/6474633/frame0007\n",
      "/home/chuongh/vm2m/data/syn/pexels-train/xmem_rename/6474633/frame0006\n"
     ]
    },
    {
     "name": "stderr",
     "output_type": "stream",
     "text": [
      " 34%|███▍      | 17773/52413 [08:43<33:12, 17.38it/s]"
     ]
    },
    {
     "name": "stdout",
     "output_type": "stream",
     "text": [
      "/home/chuongh/vm2m/data/syn/pexels-train/xmem_rename/6474633/frame0004\n"
     ]
    },
    {
     "name": "stderr",
     "output_type": "stream",
     "text": [
      " 34%|███▍      | 17783/52413 [08:44<43:09, 13.37it/s]"
     ]
    },
    {
     "name": "stdout",
     "output_type": "stream",
     "text": [
      "/home/chuongh/vm2m/data/syn/pexels-train/xmem_rename/6474633/frame0003\n",
      "/home/chuongh/vm2m/data/syn/pexels-train/xmem_rename/6474633/frame0005\n"
     ]
    },
    {
     "name": "stderr",
     "output_type": "stream",
     "text": [
      " 36%|███▌      | 18651/52413 [09:11<10:53, 51.65it/s]"
     ]
    },
    {
     "name": "stdout",
     "output_type": "stream",
     "text": [
      "/home/chuongh/vm2m/data/syn/pexels-train/xmem_rename/2675513/frame0001\n",
      "/home/chuongh/vm2m/data/syn/pexels-train/xmem_rename/2675513/frame0002\n",
      "/home/chuongh/vm2m/data/syn/pexels-train/xmem_rename/2675513/frame0131\n"
     ]
    },
    {
     "name": "stderr",
     "output_type": "stream",
     "text": [
      " 36%|███▌      | 18728/52413 [09:11<06:33, 85.58it/s]"
     ]
    },
    {
     "name": "stdout",
     "output_type": "stream",
     "text": [
      "/home/chuongh/vm2m/data/syn/pexels-train/xmem_rename/2675513/frame0130\n"
     ]
    },
    {
     "name": "stderr",
     "output_type": "stream",
     "text": [
      " 36%|███▋      | 19029/52413 [09:17<04:10, 133.26it/s]"
     ]
    },
    {
     "name": "stdout",
     "output_type": "stream",
     "text": [
      "/home/chuongh/vm2m/data/syn/pexels-train/xmem_rename/3015496/frame0007\n"
     ]
    },
    {
     "name": "stderr",
     "output_type": "stream",
     "text": [
      " 38%|███▊      | 19824/52413 [09:53<06:05, 89.04it/s]  "
     ]
    },
    {
     "name": "stdout",
     "output_type": "stream",
     "text": [
      "/home/chuongh/vm2m/data/syn/pexels-train/xmem_rename/3402903/frame0051\n",
      "/home/chuongh/vm2m/data/syn/pexels-train/xmem_rename/3402903/frame0049\n",
      "/home/chuongh/vm2m/data/syn/pexels-train/xmem_rename/3402903/frame0042\n"
     ]
    },
    {
     "name": "stderr",
     "output_type": "stream",
     "text": [
      " 38%|███▊      | 19851/52413 [09:54<06:27, 84.01it/s]"
     ]
    },
    {
     "name": "stdout",
     "output_type": "stream",
     "text": [
      "/home/chuongh/vm2m/data/syn/pexels-train/xmem_rename/3402903/frame0043\n",
      "/home/chuongh/vm2m/data/syn/pexels-train/xmem_rename/3402903/frame0044\n",
      "/home/chuongh/vm2m/data/syn/pexels-train/xmem_rename/3402903/frame0047\n"
     ]
    },
    {
     "name": "stderr",
     "output_type": "stream",
     "text": [
      " 38%|███▊      | 19878/52413 [09:54<05:07, 105.85it/s]"
     ]
    },
    {
     "name": "stdout",
     "output_type": "stream",
     "text": [
      "/home/chuongh/vm2m/data/syn/pexels-train/xmem_rename/3402903/frame0052\n",
      "/home/chuongh/vm2m/data/syn/pexels-train/xmem_rename/3402903/frame0041\n"
     ]
    },
    {
     "name": "stderr",
     "output_type": "stream",
     "text": [
      " 43%|████▎     | 22378/52413 [10:54<30:41, 16.31it/s] "
     ]
    },
    {
     "name": "stdout",
     "output_type": "stream",
     "text": [
      "/home/chuongh/vm2m/data/syn/pexels-train/xmem_rename/5107299/frame0043\n"
     ]
    },
    {
     "name": "stderr",
     "output_type": "stream",
     "text": [
      " 43%|████▎     | 22386/52413 [10:55<36:42, 13.63it/s]"
     ]
    },
    {
     "name": "stdout",
     "output_type": "stream",
     "text": [
      "/home/chuongh/vm2m/data/syn/pexels-train/xmem_rename/5107299/frame0044\n"
     ]
    },
    {
     "name": "stderr",
     "output_type": "stream",
     "text": [
      " 43%|████▎     | 22524/52413 [10:57<08:47, 56.69it/s]"
     ]
    },
    {
     "name": "stdout",
     "output_type": "stream",
     "text": [
      "/home/chuongh/vm2m/data/syn/pexels-train/xmem_rename/8940719/frame0029\n",
      "/home/chuongh/vm2m/data/syn/pexels-train/xmem_rename/8940719/frame0025\n",
      "/home/chuongh/vm2m/data/syn/pexels-train/xmem_rename/8940719/frame0010\n",
      "/home/chuongh/vm2m/data/syn/pexels-train/xmem_rename/8940719/frame0038\n",
      "/home/chuongh/vm2m/data/syn/pexels-train/xmem_rename/8940719/frame0024\n",
      "/home/chuongh/vm2m/data/syn/pexels-train/xmem_rename/8940719/frame0042\n",
      "/home/chuongh/vm2m/data/syn/pexels-train/xmem_rename/8940719/frame0020\n",
      "/home/chuongh/vm2m/data/syn/pexels-train/xmem_rename/8940719/frame0012\n",
      "/home/chuongh/vm2m/data/syn/pexels-train/xmem_rename/8940719/frame0015\n",
      "/home/chuongh/vm2m/data/syn/pexels-train/xmem_rename/8940719/frame0019\n"
     ]
    },
    {
     "name": "stderr",
     "output_type": "stream",
     "text": [
      " 43%|████▎     | 22538/52413 [10:58<08:24, 59.19it/s]"
     ]
    },
    {
     "name": "stdout",
     "output_type": "stream",
     "text": [
      "/home/chuongh/vm2m/data/syn/pexels-train/xmem_rename/8940719/frame0034\n",
      "/home/chuongh/vm2m/data/syn/pexels-train/xmem_rename/8940719/frame0037\n",
      "/home/chuongh/vm2m/data/syn/pexels-train/xmem_rename/8940719/frame0031\n",
      "/home/chuongh/vm2m/data/syn/pexels-train/xmem_rename/8940719/frame0026\n",
      "/home/chuongh/vm2m/data/syn/pexels-train/xmem_rename/8940719/frame0027\n",
      "/home/chuongh/vm2m/data/syn/pexels-train/xmem_rename/8940719/frame0016\n",
      "/home/chuongh/vm2m/data/syn/pexels-train/xmem_rename/8940719/frame0021\n",
      "/home/chuongh/vm2m/data/syn/pexels-train/xmem_rename/8940719/frame0022\n",
      "/home/chuongh/vm2m/data/syn/pexels-train/xmem_rename/8940719/frame0017\n",
      "/home/chuongh/vm2m/data/syn/pexels-train/xmem_rename/8940719/frame0039\n"
     ]
    },
    {
     "name": "stderr",
     "output_type": "stream",
     "text": [
      " 43%|████▎     | 22552/52413 [10:58<08:15, 60.21it/s]"
     ]
    },
    {
     "name": "stdout",
     "output_type": "stream",
     "text": [
      "/home/chuongh/vm2m/data/syn/pexels-train/xmem_rename/8940719/frame0033\n",
      "/home/chuongh/vm2m/data/syn/pexels-train/xmem_rename/8940719/frame0028\n",
      "/home/chuongh/vm2m/data/syn/pexels-train/xmem_rename/8940719/frame0030\n",
      "/home/chuongh/vm2m/data/syn/pexels-train/xmem_rename/8940719/frame0032\n",
      "/home/chuongh/vm2m/data/syn/pexels-train/xmem_rename/8940719/frame0040\n",
      "/home/chuongh/vm2m/data/syn/pexels-train/xmem_rename/8940719/frame0018\n",
      "/home/chuongh/vm2m/data/syn/pexels-train/xmem_rename/8940719/frame0011\n",
      "/home/chuongh/vm2m/data/syn/pexels-train/xmem_rename/8940719/frame0023\n",
      "/home/chuongh/vm2m/data/syn/pexels-train/xmem_rename/8940719/frame0041\n",
      "/home/chuongh/vm2m/data/syn/pexels-train/xmem_rename/8940719/frame0035\n"
     ]
    },
    {
     "name": "stderr",
     "output_type": "stream",
     "text": [
      " 43%|████▎     | 22559/52413 [10:58<08:27, 58.87it/s]"
     ]
    },
    {
     "name": "stdout",
     "output_type": "stream",
     "text": [
      "/home/chuongh/vm2m/data/syn/pexels-train/xmem_rename/8940719/frame0036\n",
      "/home/chuongh/vm2m/data/syn/pexels-train/xmem_rename/8940719/frame0014\n",
      "/home/chuongh/vm2m/data/syn/pexels-train/xmem_rename/8940719/frame0013\n"
     ]
    },
    {
     "name": "stderr",
     "output_type": "stream",
     "text": [
      " 45%|████▌     | 23749/52413 [11:52<28:10, 16.95it/s]  "
     ]
    },
    {
     "name": "stdout",
     "output_type": "stream",
     "text": [
      "/home/chuongh/vm2m/data/syn/pexels-train/xmem_rename/10484778/frame0106\n"
     ]
    },
    {
     "name": "stderr",
     "output_type": "stream",
     "text": [
      " 48%|████▊     | 25078/52413 [12:52<18:14, 24.98it/s]  "
     ]
    },
    {
     "name": "stdout",
     "output_type": "stream",
     "text": [
      "/home/chuongh/vm2m/data/syn/pexels-train/xmem_rename/3327422/frame0093\n",
      "/home/chuongh/vm2m/data/syn/pexels-train/xmem_rename/3327422/frame0082\n",
      "/home/chuongh/vm2m/data/syn/pexels-train/xmem_rename/3327422/frame0075\n",
      "/home/chuongh/vm2m/data/syn/pexels-train/xmem_rename/3327422/frame0071\n"
     ]
    },
    {
     "name": "stderr",
     "output_type": "stream",
     "text": [
      " 48%|████▊     | 25088/52413 [12:53<13:47, 33.03it/s]"
     ]
    },
    {
     "name": "stdout",
     "output_type": "stream",
     "text": [
      "/home/chuongh/vm2m/data/syn/pexels-train/xmem_rename/3327422/frame0102\n",
      "/home/chuongh/vm2m/data/syn/pexels-train/xmem_rename/3327422/frame0076\n",
      "/home/chuongh/vm2m/data/syn/pexels-train/xmem_rename/3327422/frame0074\n",
      "/home/chuongh/vm2m/data/syn/pexels-train/xmem_rename/3327422/frame0072\n"
     ]
    },
    {
     "name": "stderr",
     "output_type": "stream",
     "text": [
      " 48%|████▊     | 25097/52413 [12:53<12:34, 36.19it/s]"
     ]
    },
    {
     "name": "stdout",
     "output_type": "stream",
     "text": [
      "/home/chuongh/vm2m/data/syn/pexels-train/xmem_rename/3327422/frame0087\n",
      "/home/chuongh/vm2m/data/syn/pexels-train/xmem_rename/3327422/frame0086\n",
      "/home/chuongh/vm2m/data/syn/pexels-train/xmem_rename/3327422/frame0090\n",
      "/home/chuongh/vm2m/data/syn/pexels-train/xmem_rename/3327422/frame0089\n"
     ]
    },
    {
     "name": "stderr",
     "output_type": "stream",
     "text": [
      " 48%|████▊     | 25106/52413 [12:53<11:47, 38.58it/s]"
     ]
    },
    {
     "name": "stdout",
     "output_type": "stream",
     "text": [
      "/home/chuongh/vm2m/data/syn/pexels-train/xmem_rename/3327422/frame0091\n",
      "/home/chuongh/vm2m/data/syn/pexels-train/xmem_rename/3327422/frame0006\n",
      "/home/chuongh/vm2m/data/syn/pexels-train/xmem_rename/3327422/frame0084\n",
      "/home/chuongh/vm2m/data/syn/pexels-train/xmem_rename/3327422/frame0073\n"
     ]
    },
    {
     "name": "stderr",
     "output_type": "stream",
     "text": [
      " 48%|████▊     | 25114/52413 [12:53<12:09, 37.41it/s]"
     ]
    },
    {
     "name": "stdout",
     "output_type": "stream",
     "text": [
      "/home/chuongh/vm2m/data/syn/pexels-train/xmem_rename/3327422/frame0081\n",
      "/home/chuongh/vm2m/data/syn/pexels-train/xmem_rename/3327422/frame0092\n",
      "/home/chuongh/vm2m/data/syn/pexels-train/xmem_rename/3327422/frame0097\n",
      "/home/chuongh/vm2m/data/syn/pexels-train/xmem_rename/3327422/frame0083\n",
      "/home/chuongh/vm2m/data/syn/pexels-train/xmem_rename/3327422/frame0004\n"
     ]
    },
    {
     "name": "stderr",
     "output_type": "stream",
     "text": [
      " 48%|████▊     | 25124/52413 [12:53<11:18, 40.23it/s]"
     ]
    },
    {
     "name": "stdout",
     "output_type": "stream",
     "text": [
      "/home/chuongh/vm2m/data/syn/pexels-train/xmem_rename/3327422/frame0099\n"
     ]
    },
    {
     "name": "stderr",
     "output_type": "stream",
     "text": [
      " 48%|████▊     | 25134/52413 [12:54<11:00, 41.31it/s]"
     ]
    },
    {
     "name": "stdout",
     "output_type": "stream",
     "text": [
      "/home/chuongh/vm2m/data/syn/pexels-train/xmem_rename/3327422/frame0077\n",
      "/home/chuongh/vm2m/data/syn/pexels-train/xmem_rename/3327422/frame0079\n",
      "/home/chuongh/vm2m/data/syn/pexels-train/xmem_rename/3327422/frame0080\n",
      "/home/chuongh/vm2m/data/syn/pexels-train/xmem_rename/3327422/frame0096\n"
     ]
    },
    {
     "name": "stderr",
     "output_type": "stream",
     "text": [
      " 48%|████▊     | 25144/52413 [12:54<11:08, 40.80it/s]"
     ]
    },
    {
     "name": "stdout",
     "output_type": "stream",
     "text": [
      "/home/chuongh/vm2m/data/syn/pexels-train/xmem_rename/3327422/frame0103\n",
      "/home/chuongh/vm2m/data/syn/pexels-train/xmem_rename/3327422/frame0106\n",
      "/home/chuongh/vm2m/data/syn/pexels-train/xmem_rename/3327422/frame0088\n"
     ]
    },
    {
     "name": "stderr",
     "output_type": "stream",
     "text": [
      " 48%|████▊     | 25154/52413 [12:54<11:14, 40.42it/s]"
     ]
    },
    {
     "name": "stdout",
     "output_type": "stream",
     "text": [
      "/home/chuongh/vm2m/data/syn/pexels-train/xmem_rename/3327422/frame0101\n",
      "/home/chuongh/vm2m/data/syn/pexels-train/xmem_rename/3327422/frame0005\n",
      "/home/chuongh/vm2m/data/syn/pexels-train/xmem_rename/3327422/frame0098\n",
      "/home/chuongh/vm2m/data/syn/pexels-train/xmem_rename/3327422/frame0095\n"
     ]
    },
    {
     "name": "stderr",
     "output_type": "stream",
     "text": [
      " 48%|████▊     | 25164/52413 [12:54<11:19, 40.09it/s]"
     ]
    },
    {
     "name": "stdout",
     "output_type": "stream",
     "text": [
      "/home/chuongh/vm2m/data/syn/pexels-train/xmem_rename/3327422/frame0100\n",
      "/home/chuongh/vm2m/data/syn/pexels-train/xmem_rename/3327422/frame0105\n",
      "/home/chuongh/vm2m/data/syn/pexels-train/xmem_rename/3327422/frame0078\n"
     ]
    },
    {
     "name": "stderr",
     "output_type": "stream",
     "text": [
      " 48%|████▊     | 25174/52413 [12:55<11:02, 41.14it/s]"
     ]
    },
    {
     "name": "stdout",
     "output_type": "stream",
     "text": [
      "/home/chuongh/vm2m/data/syn/pexels-train/xmem_rename/3327422/frame0094\n",
      "/home/chuongh/vm2m/data/syn/pexels-train/xmem_rename/3327422/frame0085\n",
      "/home/chuongh/vm2m/data/syn/pexels-train/xmem_rename/3327422/frame0104\n"
     ]
    },
    {
     "name": "stderr",
     "output_type": "stream",
     "text": [
      " 50%|█████     | 26450/52413 [13:24<05:37, 76.87it/s] "
     ]
    },
    {
     "name": "stdout",
     "output_type": "stream",
     "text": [
      "/home/chuongh/vm2m/data/syn/pexels-train/xmem_rename/7293957/frame0022\n"
     ]
    },
    {
     "name": "stderr",
     "output_type": "stream",
     "text": [
      " 54%|█████▍    | 28530/52413 [14:12<07:15, 54.84it/s] "
     ]
    },
    {
     "name": "stdout",
     "output_type": "stream",
     "text": [
      "/home/chuongh/vm2m/data/syn/pexels-train/xmem_rename/3327421/frame0001\n",
      "/home/chuongh/vm2m/data/syn/pexels-train/xmem_rename/3327421/frame0002\n"
     ]
    },
    {
     "name": "stderr",
     "output_type": "stream",
     "text": [
      " 55%|█████▌    | 28998/52413 [14:25<11:09, 34.97it/s] "
     ]
    },
    {
     "name": "stdout",
     "output_type": "stream",
     "text": [
      "/home/chuongh/vm2m/data/syn/pexels-train/xmem_rename/4938059/frame0001\n",
      "/home/chuongh/vm2m/data/syn/pexels-train/xmem_rename/4938059/frame0002\n"
     ]
    },
    {
     "name": "stderr",
     "output_type": "stream",
     "text": [
      " 55%|█████▌    | 29027/52413 [14:27<17:12, 22.64it/s]"
     ]
    },
    {
     "name": "stdout",
     "output_type": "stream",
     "text": [
      "/home/chuongh/vm2m/data/syn/pexels-train/xmem_rename/4938059/frame0124\n",
      "/home/chuongh/vm2m/data/syn/pexels-train/xmem_rename/4938059/frame0123\n"
     ]
    },
    {
     "name": "stderr",
     "output_type": "stream",
     "text": [
      " 55%|█████▌    | 29084/52413 [14:29<18:10, 21.39it/s]"
     ]
    },
    {
     "name": "stdout",
     "output_type": "stream",
     "text": [
      "/home/chuongh/vm2m/data/syn/pexels-train/xmem_rename/4938059/frame0003\n"
     ]
    },
    {
     "name": "stderr",
     "output_type": "stream",
     "text": [
      " 56%|█████▌    | 29125/52413 [14:31<09:25, 41.16it/s]"
     ]
    },
    {
     "name": "stdout",
     "output_type": "stream",
     "text": [
      "/home/chuongh/vm2m/data/syn/pexels-train/xmem_rename/4938059/frame0122\n"
     ]
    },
    {
     "name": "stderr",
     "output_type": "stream",
     "text": [
      " 57%|█████▋    | 29935/52413 [14:57<04:37, 81.01it/s]  "
     ]
    },
    {
     "name": "stdout",
     "output_type": "stream",
     "text": [
      "/home/chuongh/vm2m/data/syn/pexels-train/xmem_rename/7293938/frame0024\n",
      "/home/chuongh/vm2m/data/syn/pexels-train/xmem_rename/7293938/frame0015\n",
      "/home/chuongh/vm2m/data/syn/pexels-train/xmem_rename/7293938/frame0019\n",
      "/home/chuongh/vm2m/data/syn/pexels-train/xmem_rename/7293938/frame0022\n",
      "/home/chuongh/vm2m/data/syn/pexels-train/xmem_rename/7293938/frame0017\n"
     ]
    },
    {
     "name": "stderr",
     "output_type": "stream",
     "text": [
      " 57%|█████▋    | 29944/52413 [14:57<05:20, 70.16it/s]"
     ]
    },
    {
     "name": "stdout",
     "output_type": "stream",
     "text": [
      "/home/chuongh/vm2m/data/syn/pexels-train/xmem_rename/7293938/frame0018\n",
      "/home/chuongh/vm2m/data/syn/pexels-train/xmem_rename/7293938/frame0023\n"
     ]
    },
    {
     "name": "stderr",
     "output_type": "stream",
     "text": [
      " 62%|██████▏   | 32515/52413 [16:17<03:55, 84.65it/s] "
     ]
    },
    {
     "name": "stdout",
     "output_type": "stream",
     "text": [
      "/home/chuongh/vm2m/data/syn/pexels-train/xmem_rename/2873793/frame0038\n",
      "/home/chuongh/vm2m/data/syn/pexels-train/xmem_rename/2873793/frame0042\n",
      "/home/chuongh/vm2m/data/syn/pexels-train/xmem_rename/2873793/frame0034\n",
      "/home/chuongh/vm2m/data/syn/pexels-train/xmem_rename/2873793/frame0037\n",
      "/home/chuongh/vm2m/data/syn/pexels-train/xmem_rename/2873793/frame0031\n"
     ]
    },
    {
     "name": "stderr",
     "output_type": "stream",
     "text": [
      " 62%|██████▏   | 32533/52413 [16:17<04:08, 79.91it/s]"
     ]
    },
    {
     "name": "stdout",
     "output_type": "stream",
     "text": [
      "/home/chuongh/vm2m/data/syn/pexels-train/xmem_rename/2873793/frame0043\n",
      "/home/chuongh/vm2m/data/syn/pexels-train/xmem_rename/2873793/frame0039\n",
      "/home/chuongh/vm2m/data/syn/pexels-train/xmem_rename/2873793/frame0033\n",
      "/home/chuongh/vm2m/data/syn/pexels-train/xmem_rename/2873793/frame0032\n",
      "/home/chuongh/vm2m/data/syn/pexels-train/xmem_rename/2873793/frame0040\n"
     ]
    },
    {
     "name": "stderr",
     "output_type": "stream",
     "text": [
      " 62%|██████▏   | 32542/52413 [16:17<04:22, 75.72it/s]"
     ]
    },
    {
     "name": "stdout",
     "output_type": "stream",
     "text": [
      "/home/chuongh/vm2m/data/syn/pexels-train/xmem_rename/2873793/frame0041\n",
      "/home/chuongh/vm2m/data/syn/pexels-train/xmem_rename/2873793/frame0035\n",
      "/home/chuongh/vm2m/data/syn/pexels-train/xmem_rename/2873793/frame0036\n"
     ]
    },
    {
     "name": "stderr",
     "output_type": "stream",
     "text": [
      " 63%|██████▎   | 32872/52413 [16:22<04:02, 80.63it/s] "
     ]
    },
    {
     "name": "stdout",
     "output_type": "stream",
     "text": [
      "/home/chuongh/vm2m/data/syn/pexels-train/xmem_rename/8034938/frame0025\n",
      "/home/chuongh/vm2m/data/syn/pexels-train/xmem_rename/8034938/frame0024\n",
      "/home/chuongh/vm2m/data/syn/pexels-train/xmem_rename/8034938/frame0020\n",
      "/home/chuongh/vm2m/data/syn/pexels-train/xmem_rename/8034938/frame0012\n",
      "/home/chuongh/vm2m/data/syn/pexels-train/xmem_rename/8034938/frame0019\n",
      "/home/chuongh/vm2m/data/syn/pexels-train/xmem_rename/8034938/frame0021\n",
      "/home/chuongh/vm2m/data/syn/pexels-train/xmem_rename/8034938/frame0022\n"
     ]
    },
    {
     "name": "stderr",
     "output_type": "stream",
     "text": [
      " 63%|██████▎   | 32882/52413 [16:22<04:25, 73.54it/s]"
     ]
    },
    {
     "name": "stdout",
     "output_type": "stream",
     "text": [
      "/home/chuongh/vm2m/data/syn/pexels-train/xmem_rename/8034938/frame0018\n",
      "/home/chuongh/vm2m/data/syn/pexels-train/xmem_rename/8034938/frame0023\n",
      "/home/chuongh/vm2m/data/syn/pexels-train/xmem_rename/8034938/frame0013\n"
     ]
    },
    {
     "name": "stderr",
     "output_type": "stream",
     "text": [
      " 63%|██████▎   | 33044/52413 [16:30<06:44, 47.92it/s]"
     ]
    },
    {
     "name": "stdout",
     "output_type": "stream",
     "text": [
      "/home/chuongh/vm2m/data/syn/pexels-train/xmem_rename/5717527/frame0059\n"
     ]
    },
    {
     "name": "stderr",
     "output_type": "stream",
     "text": [
      " 69%|██████▉   | 36344/52413 [18:49<03:51, 69.35it/s]  "
     ]
    },
    {
     "name": "stdout",
     "output_type": "stream",
     "text": [
      "/home/chuongh/vm2m/data/syn/pexels-train/xmem_rename/5051347/frame0029\n",
      "/home/chuongh/vm2m/data/syn/pexels-train/xmem_rename/5051347/frame0031\n"
     ]
    },
    {
     "name": "stderr",
     "output_type": "stream",
     "text": [
      " 69%|██████▉   | 36361/52413 [18:49<03:51, 69.43it/s]"
     ]
    },
    {
     "name": "stdout",
     "output_type": "stream",
     "text": [
      "/home/chuongh/vm2m/data/syn/pexels-train/xmem_rename/5051347/frame0028\n",
      "/home/chuongh/vm2m/data/syn/pexels-train/xmem_rename/5051347/frame0030\n"
     ]
    },
    {
     "name": "stderr",
     "output_type": "stream",
     "text": [
      " 73%|███████▎  | 38339/52413 [19:37<10:02, 23.35it/s] "
     ]
    },
    {
     "name": "stdout",
     "output_type": "stream",
     "text": [
      "/home/chuongh/vm2m/data/syn/pexels-train/xmem_rename/3959594/frame0001\n",
      "/home/chuongh/vm2m/data/syn/pexels-train/xmem_rename/3959594/frame0038\n"
     ]
    },
    {
     "name": "stderr",
     "output_type": "stream",
     "text": [
      " 73%|███████▎  | 38363/52413 [19:38<10:57, 21.37it/s]"
     ]
    },
    {
     "name": "stdout",
     "output_type": "stream",
     "text": [
      "/home/chuongh/vm2m/data/syn/pexels-train/xmem_rename/3959594/frame0039\n"
     ]
    },
    {
     "name": "stderr",
     "output_type": "stream",
     "text": [
      " 73%|███████▎  | 38369/52413 [19:39<11:05, 21.11it/s]"
     ]
    },
    {
     "name": "stdout",
     "output_type": "stream",
     "text": [
      "/home/chuongh/vm2m/data/syn/pexels-train/xmem_rename/3959594/frame0040\n",
      "/home/chuongh/vm2m/data/syn/pexels-train/xmem_rename/3959594/frame0041\n"
     ]
    },
    {
     "name": "stderr",
     "output_type": "stream",
     "text": [
      " 80%|███████▉  | 41693/52413 [21:48<04:02, 44.21it/s]  "
     ]
    },
    {
     "name": "stdout",
     "output_type": "stream",
     "text": [
      "/home/chuongh/vm2m/data/syn/pexels-train/xmem_rename/3126661/frame0064\n"
     ]
    },
    {
     "name": "stderr",
     "output_type": "stream",
     "text": [
      " 80%|███████▉  | 41721/52413 [21:49<06:21, 28.04it/s]"
     ]
    },
    {
     "name": "stdout",
     "output_type": "stream",
     "text": [
      "/home/chuongh/vm2m/data/syn/pexels-train/xmem_rename/3126661/frame0062\n"
     ]
    },
    {
     "name": "stderr",
     "output_type": "stream",
     "text": [
      " 80%|███████▉  | 41730/52413 [21:49<06:42, 26.56it/s]"
     ]
    },
    {
     "name": "stdout",
     "output_type": "stream",
     "text": [
      "/home/chuongh/vm2m/data/syn/pexels-train/xmem_rename/3126661/frame0063\n"
     ]
    },
    {
     "name": "stderr",
     "output_type": "stream",
     "text": [
      " 80%|███████▉  | 41778/52413 [21:50<01:53, 93.47it/s]"
     ]
    },
    {
     "name": "stdout",
     "output_type": "stream",
     "text": [
      "/home/chuongh/vm2m/data/syn/pexels-train/xmem_rename/3126661/frame0065\n"
     ]
    },
    {
     "name": "stderr",
     "output_type": "stream",
     "text": [
      " 82%|████████▏ | 42844/52413 [22:31<02:10, 73.12it/s]"
     ]
    },
    {
     "name": "stdout",
     "output_type": "stream",
     "text": [
      "/home/chuongh/vm2m/data/syn/pexels-train/xmem_rename/855306/frame0051\n",
      "/home/chuongh/vm2m/data/syn/pexels-train/xmem_rename/855306/frame0049\n",
      "/home/chuongh/vm2m/data/syn/pexels-train/xmem_rename/855306/frame0045\n"
     ]
    },
    {
     "name": "stderr",
     "output_type": "stream",
     "text": [
      " 82%|████████▏ | 42859/52413 [22:31<03:34, 44.53it/s]"
     ]
    },
    {
     "name": "stdout",
     "output_type": "stream",
     "text": [
      "/home/chuongh/vm2m/data/syn/pexels-train/xmem_rename/855306/frame0042\n",
      "/home/chuongh/vm2m/data/syn/pexels-train/xmem_rename/855306/frame0055\n"
     ]
    },
    {
     "name": "stderr",
     "output_type": "stream",
     "text": [
      " 82%|████████▏ | 42870/52413 [22:32<04:07, 38.51it/s]"
     ]
    },
    {
     "name": "stdout",
     "output_type": "stream",
     "text": [
      "/home/chuongh/vm2m/data/syn/pexels-train/xmem_rename/855306/frame0050\n",
      "/home/chuongh/vm2m/data/syn/pexels-train/xmem_rename/855306/frame0048\n"
     ]
    },
    {
     "name": "stderr",
     "output_type": "stream",
     "text": [
      " 82%|████████▏ | 42875/52413 [22:32<04:22, 36.30it/s]"
     ]
    },
    {
     "name": "stdout",
     "output_type": "stream",
     "text": [
      "/home/chuongh/vm2m/data/syn/pexels-train/xmem_rename/855306/frame0043\n",
      "/home/chuongh/vm2m/data/syn/pexels-train/xmem_rename/855306/frame0053\n"
     ]
    },
    {
     "name": "stderr",
     "output_type": "stream",
     "text": [
      " 82%|████████▏ | 42883/52413 [22:32<04:33, 34.80it/s]"
     ]
    },
    {
     "name": "stdout",
     "output_type": "stream",
     "text": [
      "/home/chuongh/vm2m/data/syn/pexels-train/xmem_rename/855306/frame0044\n"
     ]
    },
    {
     "name": "stderr",
     "output_type": "stream",
     "text": [
      " 82%|████████▏ | 42891/52413 [22:32<04:46, 33.27it/s]"
     ]
    },
    {
     "name": "stdout",
     "output_type": "stream",
     "text": [
      "/home/chuongh/vm2m/data/syn/pexels-train/xmem_rename/855306/frame0047\n",
      "/home/chuongh/vm2m/data/syn/pexels-train/xmem_rename/855306/frame0052\n"
     ]
    },
    {
     "name": "stderr",
     "output_type": "stream",
     "text": [
      " 82%|████████▏ | 42899/52413 [22:33<05:13, 30.39it/s]"
     ]
    },
    {
     "name": "stdout",
     "output_type": "stream",
     "text": [
      "/home/chuongh/vm2m/data/syn/pexels-train/xmem_rename/855306/frame0046\n",
      "/home/chuongh/vm2m/data/syn/pexels-train/xmem_rename/855306/frame0054\n"
     ]
    },
    {
     "name": "stderr",
     "output_type": "stream",
     "text": [
      " 83%|████████▎ | 43486/52413 [22:48<01:43, 86.40it/s] "
     ]
    },
    {
     "name": "stdout",
     "output_type": "stream",
     "text": [
      "/home/chuongh/vm2m/data/syn/pexels-train/xmem_rename/10484596/frame0058\n"
     ]
    },
    {
     "name": "stderr",
     "output_type": "stream",
     "text": [
      " 83%|████████▎ | 43510/52413 [22:50<06:33, 22.61it/s]"
     ]
    },
    {
     "name": "stdout",
     "output_type": "stream",
     "text": [
      "/home/chuongh/vm2m/data/syn/pexels-train/xmem_rename/10484596/frame0056\n"
     ]
    },
    {
     "name": "stderr",
     "output_type": "stream",
     "text": [
      " 83%|████████▎ | 43534/52413 [22:51<09:40, 15.28it/s]"
     ]
    },
    {
     "name": "stdout",
     "output_type": "stream",
     "text": [
      "/home/chuongh/vm2m/data/syn/pexels-train/xmem_rename/10484596/frame0057\n"
     ]
    },
    {
     "name": "stderr",
     "output_type": "stream",
     "text": [
      " 91%|█████████ | 47790/52413 [25:11<01:39, 46.61it/s] "
     ]
    },
    {
     "name": "stdout",
     "output_type": "stream",
     "text": [
      "/home/chuongh/vm2m/data/syn/pexels-train/xmem_rename/7106573/frame0023\n"
     ]
    },
    {
     "name": "stderr",
     "output_type": "stream",
     "text": [
      " 91%|█████████▏| 47885/52413 [25:16<01:15, 60.20it/s]"
     ]
    },
    {
     "name": "stdout",
     "output_type": "stream",
     "text": [
      "/home/chuongh/vm2m/data/syn/pexels-train/xmem_rename/7986420/frame0025\n",
      "/home/chuongh/vm2m/data/syn/pexels-train/xmem_rename/7986420/frame0024\n",
      "/home/chuongh/vm2m/data/syn/pexels-train/xmem_rename/7986420/frame0026\n",
      "/home/chuongh/vm2m/data/syn/pexels-train/xmem_rename/7986420/frame0027\n"
     ]
    },
    {
     "name": "stderr",
     "output_type": "stream",
     "text": [
      " 91%|█████████▏| 47926/52413 [25:17<01:23, 53.46it/s]"
     ]
    },
    {
     "name": "stdout",
     "output_type": "stream",
     "text": [
      "/home/chuongh/vm2m/data/syn/pexels-train/xmem_rename/4762564/frame0051\n",
      "/home/chuongh/vm2m/data/syn/pexels-train/xmem_rename/4762564/frame0082\n",
      "/home/chuongh/vm2m/data/syn/pexels-train/xmem_rename/4762564/frame0075\n",
      "/home/chuongh/vm2m/data/syn/pexels-train/xmem_rename/4762564/frame0071\n",
      "/home/chuongh/vm2m/data/syn/pexels-train/xmem_rename/4762564/frame0058\n",
      "/home/chuongh/vm2m/data/syn/pexels-train/xmem_rename/4762564/frame0076\n",
      "/home/chuongh/vm2m/data/syn/pexels-train/xmem_rename/4762564/frame0064\n"
     ]
    },
    {
     "name": "stderr",
     "output_type": "stream",
     "text": [
      " 91%|█████████▏| 47942/52413 [25:17<01:10, 63.67it/s]"
     ]
    },
    {
     "name": "stdout",
     "output_type": "stream",
     "text": [
      "/home/chuongh/vm2m/data/syn/pexels-train/xmem_rename/4762564/frame0074\n",
      "/home/chuongh/vm2m/data/syn/pexels-train/xmem_rename/4762564/frame0072\n",
      "/home/chuongh/vm2m/data/syn/pexels-train/xmem_rename/4762564/frame0070\n",
      "/home/chuongh/vm2m/data/syn/pexels-train/xmem_rename/4762564/frame0055\n",
      "/home/chuongh/vm2m/data/syn/pexels-train/xmem_rename/4762564/frame0084\n"
     ]
    },
    {
     "name": "stderr",
     "output_type": "stream",
     "text": [
      " 91%|█████████▏| 47957/52413 [25:17<01:08, 65.51it/s]"
     ]
    },
    {
     "name": "stdout",
     "output_type": "stream",
     "text": [
      "/home/chuongh/vm2m/data/syn/pexels-train/xmem_rename/4762564/frame0073\n",
      "/home/chuongh/vm2m/data/syn/pexels-train/xmem_rename/4762564/frame0081\n",
      "/home/chuongh/vm2m/data/syn/pexels-train/xmem_rename/4762564/frame0050\n",
      "/home/chuongh/vm2m/data/syn/pexels-train/xmem_rename/4762564/frame0083\n",
      "/home/chuongh/vm2m/data/syn/pexels-train/xmem_rename/4762564/frame0056\n",
      "/home/chuongh/vm2m/data/syn/pexels-train/xmem_rename/4762564/frame0069\n",
      "/home/chuongh/vm2m/data/syn/pexels-train/xmem_rename/4762564/frame0066\n",
      "/home/chuongh/vm2m/data/syn/pexels-train/xmem_rename/4762564/frame0061\n"
     ]
    },
    {
     "name": "stderr",
     "output_type": "stream",
     "text": [
      " 92%|█████████▏| 47974/52413 [25:17<01:06, 66.85it/s]"
     ]
    },
    {
     "name": "stdout",
     "output_type": "stream",
     "text": [
      "/home/chuongh/vm2m/data/syn/pexels-train/xmem_rename/4762564/frame0053\n",
      "/home/chuongh/vm2m/data/syn/pexels-train/xmem_rename/4762564/frame0077\n",
      "/home/chuongh/vm2m/data/syn/pexels-train/xmem_rename/4762564/frame0062\n",
      "/home/chuongh/vm2m/data/syn/pexels-train/xmem_rename/4762564/frame0060\n",
      "/home/chuongh/vm2m/data/syn/pexels-train/xmem_rename/4762564/frame0079\n",
      "/home/chuongh/vm2m/data/syn/pexels-train/xmem_rename/4762564/frame0080\n",
      "/home/chuongh/vm2m/data/syn/pexels-train/xmem_rename/4762564/frame0068\n",
      "/home/chuongh/vm2m/data/syn/pexels-train/xmem_rename/4762564/frame0059\n"
     ]
    },
    {
     "name": "stderr",
     "output_type": "stream",
     "text": [
      " 92%|█████████▏| 47991/52413 [25:18<01:00, 73.53it/s]"
     ]
    },
    {
     "name": "stdout",
     "output_type": "stream",
     "text": [
      "/home/chuongh/vm2m/data/syn/pexels-train/xmem_rename/4762564/frame0063\n",
      "/home/chuongh/vm2m/data/syn/pexels-train/xmem_rename/4762564/frame0057\n",
      "/home/chuongh/vm2m/data/syn/pexels-train/xmem_rename/4762564/frame0078\n",
      "/home/chuongh/vm2m/data/syn/pexels-train/xmem_rename/4762564/frame0052\n"
     ]
    },
    {
     "name": "stderr",
     "output_type": "stream",
     "text": [
      " 92%|█████████▏| 48009/52413 [25:18<00:55, 78.85it/s]"
     ]
    },
    {
     "name": "stdout",
     "output_type": "stream",
     "text": [
      "/home/chuongh/vm2m/data/syn/pexels-train/xmem_rename/4762564/frame0054\n",
      "/home/chuongh/vm2m/data/syn/pexels-train/xmem_rename/4762564/frame0067\n",
      "/home/chuongh/vm2m/data/syn/pexels-train/xmem_rename/4762564/frame0065\n"
     ]
    },
    {
     "name": "stderr",
     "output_type": "stream",
     "text": [
      " 93%|█████████▎| 48668/52413 [25:34<01:24, 44.34it/s] "
     ]
    },
    {
     "name": "stdout",
     "output_type": "stream",
     "text": [
      "/home/chuongh/vm2m/data/syn/pexels-train/xmem_rename/8629576/frame0064\n"
     ]
    },
    {
     "name": "stderr",
     "output_type": "stream",
     "text": [
      " 93%|█████████▎| 48693/52413 [25:35<01:26, 42.91it/s]"
     ]
    },
    {
     "name": "stdout",
     "output_type": "stream",
     "text": [
      "/home/chuongh/vm2m/data/syn/pexels-train/xmem_rename/8629576/frame0062\n"
     ]
    },
    {
     "name": "stderr",
     "output_type": "stream",
     "text": [
      " 93%|█████████▎| 48703/52413 [25:35<01:27, 42.57it/s]"
     ]
    },
    {
     "name": "stdout",
     "output_type": "stream",
     "text": [
      "/home/chuongh/vm2m/data/syn/pexels-train/xmem_rename/8629576/frame0063\n"
     ]
    },
    {
     "name": "stderr",
     "output_type": "stream",
     "text": [
      " 93%|█████████▎| 48733/52413 [25:36<00:54, 67.95it/s]"
     ]
    },
    {
     "name": "stdout",
     "output_type": "stream",
     "text": [
      "/home/chuongh/vm2m/data/syn/pexels-train/xmem_rename/8629576/frame0065\n"
     ]
    },
    {
     "name": "stderr",
     "output_type": "stream",
     "text": [
      " 96%|█████████▌| 50423/52413 [26:17<00:57, 34.53it/s] "
     ]
    },
    {
     "name": "stdout",
     "output_type": "stream",
     "text": [
      "/home/chuongh/vm2m/data/syn/pexels-train/xmem_rename/7660624/frame0029\n",
      "/home/chuongh/vm2m/data/syn/pexels-train/xmem_rename/7660624/frame0025\n"
     ]
    },
    {
     "name": "stderr",
     "output_type": "stream",
     "text": [
      " 96%|█████████▌| 50431/52413 [26:17<01:21, 24.26it/s]"
     ]
    },
    {
     "name": "stdout",
     "output_type": "stream",
     "text": [
      "/home/chuongh/vm2m/data/syn/pexels-train/xmem_rename/7660624/frame0019\n"
     ]
    },
    {
     "name": "stderr",
     "output_type": "stream",
     "text": [
      " 96%|█████████▌| 50437/52413 [26:18<01:36, 20.54it/s]"
     ]
    },
    {
     "name": "stdout",
     "output_type": "stream",
     "text": [
      "/home/chuongh/vm2m/data/syn/pexels-train/xmem_rename/7660624/frame0026\n",
      "/home/chuongh/vm2m/data/syn/pexels-train/xmem_rename/7660624/frame0027\n"
     ]
    },
    {
     "name": "stderr",
     "output_type": "stream",
     "text": [
      " 96%|█████████▌| 50443/52413 [26:18<01:45, 18.60it/s]"
     ]
    },
    {
     "name": "stdout",
     "output_type": "stream",
     "text": [
      "/home/chuongh/vm2m/data/syn/pexels-train/xmem_rename/7660624/frame0017\n",
      "/home/chuongh/vm2m/data/syn/pexels-train/xmem_rename/7660624/frame0028\n"
     ]
    },
    {
     "name": "stderr",
     "output_type": "stream",
     "text": [
      " 96%|█████████▋| 50451/52413 [26:18<01:51, 17.61it/s]"
     ]
    },
    {
     "name": "stdout",
     "output_type": "stream",
     "text": [
      "/home/chuongh/vm2m/data/syn/pexels-train/xmem_rename/7660624/frame0018\n"
     ]
    },
    {
     "name": "stderr",
     "output_type": "stream",
     "text": [
      " 97%|█████████▋| 51053/52413 [26:35<00:59, 22.83it/s]"
     ]
    },
    {
     "name": "stdout",
     "output_type": "stream",
     "text": [
      "/home/chuongh/vm2m/data/syn/pexels-train/xmem_rename/2795737/frame0032\n"
     ]
    },
    {
     "name": "stderr",
     "output_type": "stream",
     "text": [
      " 99%|█████████▉| 51950/52413 [27:11<00:08, 57.13it/s] "
     ]
    },
    {
     "name": "stdout",
     "output_type": "stream",
     "text": [
      "/home/chuongh/vm2m/data/syn/pexels-train/xmem_rename/2786546/frame0051\n",
      "/home/chuongh/vm2m/data/syn/pexels-train/xmem_rename/2786546/frame0049\n"
     ]
    },
    {
     "name": "stderr",
     "output_type": "stream",
     "text": [
      " 99%|█████████▉| 51968/52413 [27:11<00:06, 70.85it/s]"
     ]
    },
    {
     "name": "stdout",
     "output_type": "stream",
     "text": [
      "/home/chuongh/vm2m/data/syn/pexels-train/xmem_rename/2786546/frame0050\n",
      "/home/chuongh/vm2m/data/syn/pexels-train/xmem_rename/2786546/frame0053\n"
     ]
    },
    {
     "name": "stderr",
     "output_type": "stream",
     "text": [
      " 99%|█████████▉| 51996/52413 [27:11<00:05, 81.48it/s]"
     ]
    },
    {
     "name": "stdout",
     "output_type": "stream",
     "text": [
      "/home/chuongh/vm2m/data/syn/pexels-train/xmem_rename/2786546/frame0052\n",
      "/home/chuongh/vm2m/data/syn/pexels-train/xmem_rename/2786546/frame0054\n"
     ]
    },
    {
     "name": "stderr",
     "output_type": "stream",
     "text": [
      "100%|██████████| 52413/52413 [27:24<00:00, 31.86it/s]\n"
     ]
    }
   ],
   "source": [
    "for dir_name in tqdm.tqdm(all_dirs):\n",
    "    mask_area = 0\n",
    "    for image_name in os.listdir(dir_name):\n",
    "        if image_name.endswith(\".png\"):\n",
    "            image = cv2.imread(os.path.join(dir_name, image_name), cv2.IMREAD_GRAYSCALE)\n",
    "            mask_area += image.sum()\n",
    "    if mask_area == 0:\n",
    "        print(dir_name)\n",
    "        os.system(\"rm -rf {}\".format(dir_name))\n",
    "        image_name = dir_name.replace(\"xmem_rename\", \"fgr\") + \".jpg\"\n",
    "        os.system(\"rm -rf {}\".format(image_name))"
   ]
  }
 ],
 "metadata": {
  "kernelspec": {
   "display_name": "mask2matte",
   "language": "python",
   "name": "python3"
  },
  "language_info": {
   "codemirror_mode": {
    "name": "ipython",
    "version": 3
   },
   "file_extension": ".py",
   "mimetype": "text/x-python",
   "name": "python",
   "nbconvert_exporter": "python",
   "pygments_lexer": "ipython3",
   "version": "3.8.16"
  }
 },
 "nbformat": 4,
 "nbformat_minor": 2
}
