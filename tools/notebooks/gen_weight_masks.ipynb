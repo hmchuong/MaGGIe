{
 "cells": [
  {
   "cell_type": "code",
   "execution_count": 9,
   "metadata": {},
   "outputs": [],
   "source": [
    "import glob\n",
    "from PIL import Image\n",
    "import numpy as np\n",
    "import os\n",
    "from tqdm import tqdm"
   ]
  },
  {
   "cell_type": "code",
   "execution_count": 4,
   "metadata": {},
   "outputs": [],
   "source": [
    "raw_dir = 'pha_vid_0911_from-seg'\n",
    "refined_dir = 'pha_vid_0911_from-seg_refined'\n",
    "out_dir = 'weight_mask'\n",
    "all_alphas = glob.glob('/home/chuongh/vm2m/data/VIPSeg/out/pha_vid_0911_from-seg/*/*/*.png')"
   ]
  },
  {
   "cell_type": "code",
   "execution_count": 29,
   "metadata": {},
   "outputs": [
    {
     "name": "stderr",
     "output_type": "stream",
     "text": [
      "100%|██████████| 48171/48171 [00:03<00:00, 12693.32it/s]\n"
     ]
    }
   ],
   "source": [
    "for alpha_path in tqdm(all_alphas):\n",
    "    out_path = alpha_path.replace(raw_dir, out_dir)\n",
    "    if os.path.exists(out_path):\n",
    "        continue\n",
    "    alpha = np.array(Image.open(alpha_path).convert('L'))\n",
    "    refined_path = alpha_path.replace(raw_dir, refined_dir)\n",
    "    if os.path.exists(refined_path):\n",
    "        try:\n",
    "            refined_alpha = np.array(Image.open(refined_path).convert('L'))\n",
    "        except:\n",
    "            continue\n",
    "        diff = np.abs(alpha - refined_alpha)\n",
    "        mask = diff < 20\n",
    "        mask = mask.astype(np.uint8) * 255\n",
    "        os.makedirs(os.path.dirname(out_path), exist_ok=True)\n",
    "        Image.fromarray(mask).save(out_path)"
   ]
  },
  {
   "cell_type": "code",
   "execution_count": 16,
   "metadata": {},
   "outputs": [
    {
     "data": {
      "text/plain": [
       "array([[0, 0, 0, ..., 0, 0, 0],\n",
       "       [0, 0, 0, ..., 0, 0, 0],\n",
       "       [0, 0, 0, ..., 0, 0, 0],\n",
       "       ...,\n",
       "       [0, 0, 0, ..., 0, 0, 0],\n",
       "       [0, 0, 0, ..., 0, 0, 0],\n",
       "       [0, 0, 0, ..., 0, 0, 0]], dtype=uint8)"
      ]
     },
     "execution_count": 16,
     "metadata": {},
     "output_type": "execute_result"
    }
   ],
   "source": [
    "alpha"
   ]
  },
  {
   "cell_type": "code",
   "execution_count": 17,
   "metadata": {},
   "outputs": [
    {
     "data": {
      "text/plain": [
       "array([[0, 0, 0, ..., 0, 0, 0],\n",
       "       [0, 0, 0, ..., 0, 0, 0],\n",
       "       [0, 0, 0, ..., 0, 0, 0],\n",
       "       ...,\n",
       "       [0, 0, 0, ..., 0, 0, 0],\n",
       "       [0, 0, 0, ..., 0, 0, 0],\n",
       "       [0, 0, 0, ..., 0, 0, 0]], dtype=uint8)"
      ]
     },
     "execution_count": 17,
     "metadata": {},
     "output_type": "execute_result"
    }
   ],
   "source": [
    "refined_alpha"
   ]
  }
 ],
 "metadata": {
  "kernelspec": {
   "display_name": "mask2matte",
   "language": "python",
   "name": "python3"
  },
  "language_info": {
   "codemirror_mode": {
    "name": "ipython",
    "version": 3
   },
   "file_extension": ".py",
   "mimetype": "text/x-python",
   "name": "python",
   "nbconvert_exporter": "python",
   "pygments_lexer": "ipython3",
   "version": "3.8.16"
  },
  "orig_nbformat": 4
 },
 "nbformat": 4,
 "nbformat_minor": 2
}
