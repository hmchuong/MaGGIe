{
 "cells": [
  {
   "cell_type": "code",
   "execution_count": 61,
   "metadata": {},
   "outputs": [],
   "source": [
    "import os\n",
    "import glob\n",
    "import numpy as np\n",
    "import cv2\n",
    "import shutil\n",
    "from tqdm import tqdm"
   ]
  },
  {
   "cell_type": "code",
   "execution_count": 71,
   "metadata": {},
   "outputs": [],
   "source": [
    "alpha_dir_template = \"/home/chuongh/vm2m/data/HIM2K/alphas/SPLIT\"\n",
    "mask_dir_template = \"/home/chuongh/vm2m/data/HIM2K/masks_matched_SUBDIR/SPLIT\"\n",
    "out_dir_template = \"/home/chuongh/vm2m/data/HIM2K/masks_matched_SUBDIR_new/SPLIT\"\n",
    "splits = [\"natural\", \"comp\"]\n",
    "subdirs = [\n",
    "    \"r50_c4_3x\", \n",
    "    \"r50_dc5_3x\",\n",
    "    \"r50_fpn_3x\",\n",
    "    \"r50_fpn_400e\",\n",
    "    \"r101_c4_3x\",\n",
    "    \"r101_fpn_3x\",\n",
    "    \"r101_fpn_400e\",\n",
    "    \"regnetx_400e\",\n",
    "    \"regnety_400e\",\n",
    "    \"x101_fpn_3x\"\n",
    "]"
   ]
  },
  {
   "cell_type": "code",
   "execution_count": 72,
   "metadata": {},
   "outputs": [
    {
     "name": "stdout",
     "output_type": "stream",
     "text": [
      "Processing natural r50_c4_3x\n"
     ]
    },
    {
     "name": "stderr",
     "output_type": "stream",
     "text": [
      "100%|██████████| 320/320 [00:00<00:00, 17999.86it/s]\n"
     ]
    },
    {
     "name": "stdout",
     "output_type": "stream",
     "text": [
      "Processing natural r50_dc5_3x\n"
     ]
    },
    {
     "name": "stderr",
     "output_type": "stream",
     "text": [
      "100%|██████████| 320/320 [00:00<00:00, 18696.40it/s]\n"
     ]
    },
    {
     "name": "stdout",
     "output_type": "stream",
     "text": [
      "Processing natural r50_fpn_3x\n"
     ]
    },
    {
     "name": "stderr",
     "output_type": "stream",
     "text": [
      "100%|██████████| 320/320 [00:00<00:00, 18557.58it/s]\n"
     ]
    },
    {
     "name": "stdout",
     "output_type": "stream",
     "text": [
      "Processing natural r50_fpn_400e\n"
     ]
    },
    {
     "name": "stderr",
     "output_type": "stream",
     "text": [
      "100%|██████████| 320/320 [01:21<00:00,  3.94it/s]\n"
     ]
    },
    {
     "name": "stdout",
     "output_type": "stream",
     "text": [
      "Processing natural r101_c4_3x\n"
     ]
    },
    {
     "name": "stderr",
     "output_type": "stream",
     "text": [
      "100%|██████████| 320/320 [00:43<00:00,  7.34it/s] \n"
     ]
    },
    {
     "name": "stdout",
     "output_type": "stream",
     "text": [
      "Processing natural r101_fpn_3x\n"
     ]
    },
    {
     "name": "stderr",
     "output_type": "stream",
     "text": [
      "100%|██████████| 320/320 [01:21<00:00,  3.94it/s]\n"
     ]
    },
    {
     "name": "stdout",
     "output_type": "stream",
     "text": [
      "Processing natural r101_fpn_400e\n"
     ]
    },
    {
     "name": "stderr",
     "output_type": "stream",
     "text": [
      "100%|██████████| 320/320 [01:21<00:00,  3.92it/s]\n"
     ]
    },
    {
     "name": "stdout",
     "output_type": "stream",
     "text": [
      "Processing natural regnetx_400e\n"
     ]
    },
    {
     "name": "stderr",
     "output_type": "stream",
     "text": [
      "100%|██████████| 320/320 [01:24<00:00,  3.80it/s]\n"
     ]
    },
    {
     "name": "stdout",
     "output_type": "stream",
     "text": [
      "Processing natural regnety_400e\n"
     ]
    },
    {
     "name": "stderr",
     "output_type": "stream",
     "text": [
      "100%|██████████| 320/320 [01:23<00:00,  3.84it/s]\n"
     ]
    },
    {
     "name": "stdout",
     "output_type": "stream",
     "text": [
      "Processing natural x101_fpn_3x\n"
     ]
    },
    {
     "name": "stderr",
     "output_type": "stream",
     "text": [
      "100%|██████████| 320/320 [01:24<00:00,  3.80it/s]\n"
     ]
    },
    {
     "name": "stdout",
     "output_type": "stream",
     "text": [
      "Processing comp r50_c4_3x\n"
     ]
    },
    {
     "name": "stderr",
     "output_type": "stream",
     "text": [
      "100%|██████████| 1681/1681 [08:41<00:00,  3.22it/s]\n"
     ]
    },
    {
     "name": "stdout",
     "output_type": "stream",
     "text": [
      "Processing comp r50_dc5_3x\n"
     ]
    },
    {
     "name": "stderr",
     "output_type": "stream",
     "text": [
      "100%|██████████| 1681/1681 [09:01<00:00,  3.11it/s]\n"
     ]
    },
    {
     "name": "stdout",
     "output_type": "stream",
     "text": [
      "Processing comp r50_fpn_3x\n"
     ]
    },
    {
     "name": "stderr",
     "output_type": "stream",
     "text": [
      "100%|██████████| 1681/1681 [08:54<00:00,  3.15it/s]\n"
     ]
    },
    {
     "name": "stdout",
     "output_type": "stream",
     "text": [
      "Processing comp r50_fpn_400e\n"
     ]
    },
    {
     "name": "stderr",
     "output_type": "stream",
     "text": [
      "100%|██████████| 1681/1681 [09:10<00:00,  3.05it/s]\n"
     ]
    },
    {
     "name": "stdout",
     "output_type": "stream",
     "text": [
      "Processing comp r101_c4_3x\n"
     ]
    },
    {
     "name": "stderr",
     "output_type": "stream",
     "text": [
      "100%|██████████| 1681/1681 [09:49<00:00,  2.85it/s]\n"
     ]
    },
    {
     "name": "stdout",
     "output_type": "stream",
     "text": [
      "Processing comp r101_fpn_3x\n"
     ]
    },
    {
     "name": "stderr",
     "output_type": "stream",
     "text": [
      "100%|██████████| 1681/1681 [09:42<00:00,  2.88it/s]\n"
     ]
    },
    {
     "name": "stdout",
     "output_type": "stream",
     "text": [
      "Processing comp r101_fpn_400e\n"
     ]
    },
    {
     "name": "stderr",
     "output_type": "stream",
     "text": [
      "100%|██████████| 1681/1681 [09:34<00:00,  2.93it/s]\n"
     ]
    },
    {
     "name": "stdout",
     "output_type": "stream",
     "text": [
      "Processing comp regnetx_400e\n"
     ]
    },
    {
     "name": "stderr",
     "output_type": "stream",
     "text": [
      "100%|██████████| 1681/1681 [08:40<00:00,  3.23it/s]\n"
     ]
    },
    {
     "name": "stdout",
     "output_type": "stream",
     "text": [
      "Processing comp regnety_400e\n"
     ]
    },
    {
     "name": "stderr",
     "output_type": "stream",
     "text": [
      "100%|██████████| 1681/1681 [09:00<00:00,  3.11it/s]\n"
     ]
    },
    {
     "name": "stdout",
     "output_type": "stream",
     "text": [
      "Processing comp x101_fpn_3x\n"
     ]
    },
    {
     "name": "stderr",
     "output_type": "stream",
     "text": [
      "100%|██████████| 1681/1681 [09:13<00:00,  3.04it/s]\n"
     ]
    }
   ],
   "source": [
    "def load_all_masks(all_paths):\n",
    "    masks = []\n",
    "    for path in all_paths:\n",
    "        mask = cv2.imread(path, cv2.IMREAD_GRAYSCALE) / 255.0\n",
    "        masks.append(mask)\n",
    "    return np.array(masks)\n",
    "\n",
    "count_err = 0\n",
    "for split in splits:\n",
    "    for subdir in subdirs:\n",
    "        alpha_dir = alpha_dir_template.replace(\"SPLIT\", split).replace(\"SUBDIR\", subdir)\n",
    "        mask_dir = mask_dir_template.replace(\"SPLIT\", split).replace(\"SUBDIR\", subdir)\n",
    "        out_dir = out_dir_template.replace(\"SPLIT\", split).replace(\"SUBDIR\", subdir)\n",
    "        print(\"Processing\", split, subdir)\n",
    "        for image_name in tqdm(os.listdir(alpha_dir)):\n",
    "            alpha_paths = glob.glob(os.path.join(alpha_dir, image_name) + \"/*.png\")\n",
    "            mask_paths = glob.glob(os.path.join(mask_dir, image_name) + \"/*.png\")\n",
    "            alpha_paths.sort()\n",
    "            mask_paths.sort()\n",
    "            assert len(alpha_paths) == len(mask_paths)\n",
    "                # print(\"Error\", os.path.join(mask_dir, image_name))\n",
    "                # continue\n",
    "            if os.path.exists(os.path.join(out_dir, image_name)):\n",
    "                continue\n",
    "            masks = load_all_masks(mask_paths)\n",
    "            alphas = load_all_masks(alpha_paths)\n",
    "            \n",
    "\n",
    "            intersection = np.sum(masks, axis=0)> 1.0\n",
    "            if intersection.sum() == 0:\n",
    "                for i, mask_path in enumerate(mask_paths):\n",
    "                    new_mask_path = mask_path.replace(mask_dir, out_dir)\n",
    "                    os.makedirs(os.path.dirname(new_mask_path), exist_ok=True)\n",
    "                    shutil.copyfile(mask_path, new_mask_path)\n",
    "                continue\n",
    "            count_err += 1\n",
    "            # print(\"Processing\", image_name)\n",
    "            # create one-hot masks from alpha_ids\n",
    "            alpha_ids = np.argmax(alphas, axis=0)\n",
    "            onehot_alphas = np.zeros_like(alphas)\n",
    "            xx, yy = np.meshgrid(np.arange(alphas.shape[2]), np.arange(alphas.shape[1]))\n",
    "            onehot_alphas[alpha_ids.flatten(), yy.flatten(), xx.flatten()] = 1\n",
    "\n",
    "            # intersection between masks\n",
    "            new_masks = (onehot_alphas * intersection[None]) * masks\n",
    "            new_masks = masks * (1 - intersection[None]) + new_masks * intersection[None]\n",
    "\n",
    "            for i, mask_path in enumerate(mask_paths):\n",
    "                new_mask_path = mask_path.replace(mask_dir, out_dir)\n",
    "                os.makedirs(os.path.dirname(new_mask_path), exist_ok=True)\n",
    "                cv2.imwrite(new_mask_path, new_masks[i] * 255)\n"
   ]
  },
  {
   "cell_type": "code",
   "execution_count": 68,
   "metadata": {},
   "outputs": [
    {
     "data": {
      "text/plain": [
       "'/home/chuongh/vm2m/data/HIM2K/masks_matched_r101_c4_3x/natural'"
      ]
     },
     "execution_count": 68,
     "metadata": {},
     "output_type": "execute_result"
    }
   ],
   "source": [
    "mask_dir"
   ]
  },
  {
   "cell_type": "code",
   "execution_count": 63,
   "metadata": {},
   "outputs": [
    {
     "data": {
      "text/plain": [
       "['/home/chuongh/vm2m/data/HIM2K/alphas/natural/celebrity_easy_28545f023c9c4f22ad2f16228baaad3d/01.png',\n",
       " '/home/chuongh/vm2m/data/HIM2K/alphas/natural/celebrity_easy_28545f023c9c4f22ad2f16228baaad3d/02.png']"
      ]
     },
     "execution_count": 63,
     "metadata": {},
     "output_type": "execute_result"
    }
   ],
   "source": [
    "alpha_paths"
   ]
  },
  {
   "cell_type": "code",
   "execution_count": 65,
   "metadata": {},
   "outputs": [
    {
     "data": {
      "text/plain": [
       "'/home/chuongh/vm2m/data/HIM2K/masks_matched_r50_fpn_3xr50_fpn_400e/natural/celebrity_easy_28545f023c9c4f22ad2f16228baaad3d'"
      ]
     },
     "execution_count": 65,
     "metadata": {},
     "output_type": "execute_result"
    }
   ],
   "source": [
    "os.path.join(mask_dir, image_name)"
   ]
  },
  {
   "cell_type": "code",
   "execution_count": 50,
   "metadata": {},
   "outputs": [
    {
     "data": {
      "image/png": "[encoded data removed]",
      "text/plain": [
       "<PIL.Image.Image image mode=L size=1920x1271>"
      ]
     },
     "execution_count": 50,
     "metadata": {},
     "output_type": "execute_result"
    }
   ],
   "source": [
    "from PIL import Image\n",
    "Image.fromarray((new_masks[0] * 255).astype('uint8'))"
   ]
  },
  {
   "cell_type": "code",
   "execution_count": 49,
   "metadata": {},
   "outputs": [
    {
     "data": {
      "image/png": "[encoded data removed]",
      "text/plain": [
       "<PIL.Image.Image image mode=L size=1920x1271>"
      ]
     },
     "execution_count": 49,
     "metadata": {},
     "output_type": "execute_result"
    }
   ],
   "source": [
    "Image.fromarray((intersection * 255).astype('uint8'))"
   ]
  },
  {
   "cell_type": "code",
   "execution_count": null,
   "metadata": {},
   "outputs": [],
   "source": []
  }
 ],
 "metadata": {
  "kernelspec": {
   "display_name": "mask2matte",
   "language": "python",
   "name": "python3"
  },
  "language_info": {
   "codemirror_mode": {
    "name": "ipython",
    "version": 3
   },
   "file_extension": ".py",
   "mimetype": "text/x-python",
   "name": "python",
   "nbconvert_exporter": "python",
   "pygments_lexer": "ipython3",
   "version": "3.8.16"
  }
 },
 "nbformat": 4,
 "nbformat_minor": 2
}
