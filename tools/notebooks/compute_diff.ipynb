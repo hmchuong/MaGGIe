{
 "cells": [
  {
   "cell_type": "code",
   "execution_count": 5,
   "metadata": {},
   "outputs": [],
   "source": [
    "import cv2\n",
    "import glob\n",
    "import os\n",
    "import tqdm"
   ]
  },
  {
   "cell_type": "code",
   "execution_count": 2,
   "metadata": {},
   "outputs": [],
   "source": [
    "dir1 = '/home/chuongh/vm2m/output/VHM/ours_vhm_mem-query-post_1003/vis_benchmark_comp_medium_notemp_os8/alpha_pred'\n",
    "dir2 = '/home/chuongh/vm2m/output/VHM/ours_vhm_mem-query-post_1003/vis_benchmark_comp_medium_temp_os8/alpha_pred'\n",
    "out_dir = '/home/chuongh/vm2m/output/VHM/ours_vhm_mem-query-post_1003/diff'"
   ]
  },
  {
   "cell_type": "code",
   "execution_count": 7,
   "metadata": {},
   "outputs": [
    {
     "name": "stderr",
     "output_type": "stream",
     "text": [
      "  0%|          | 2/1038 [00:00<01:02, 16.49it/s]"
     ]
    },
    {
     "name": "stdout",
     "output_type": "stream",
     "text": [
      "0.020556037808641976 1.5568093841642228 14 1\n",
      "0.05089650848765432 2.1938051336472775 24 1\n",
      "0.07171585648148149 1.3755295541658261 16 1\n",
      "0.015501060956790123 1.6868058364185048 20 1\n"
     ]
    },
    {
     "name": "stderr",
     "output_type": "stream",
     "text": [
      "  1%|          | 8/1038 [00:00<00:58, 17.64it/s]"
     ]
    },
    {
     "name": "stdout",
     "output_type": "stream",
     "text": [
      "0.020615837191358025 1.4485485040585744 13 1\n",
      "0.04484905478395062 1.597834385315971 21 1\n",
      "0.019948881172839505 1.2852100759077503 13 1\n",
      "0.06362027391975308 2.4914154468894734 20 1\n"
     ]
    },
    {
     "name": "stderr",
     "output_type": "stream",
     "text": [
      "  1%|          | 12/1038 [00:00<00:57, 17.84it/s]"
     ]
    },
    {
     "name": "stdout",
     "output_type": "stream",
     "text": [
      "0.05187885802469136 1.3027348107384547 11 1\n",
      "0.012334104938271605 1.3971692211448232 10 1\n",
      "0.0334032600308642 1.6183065040063525 16 1\n",
      "0.06263310185185185 1.9472727832701962 18 1\n"
     ]
    },
    {
     "name": "stderr",
     "output_type": "stream",
     "text": [
      "  2%|▏         | 16/1038 [00:00<00:55, 18.25it/s]"
     ]
    },
    {
     "name": "stdout",
     "output_type": "stream",
     "text": [
      "0.02091386959876543 1.4479442894366685 13 1\n",
      "0.04367283950617284 1.6938604240282686 18 1\n",
      "0.020546875 1.8885368257991832 15 1\n",
      "0.04724151234567901 2.2997141690485914 20 1\n"
     ]
    },
    {
     "name": "stderr",
     "output_type": "stream",
     "text": [
      "  2%|▏         | 18/1038 [00:01<00:55, 18.32it/s]/tmp/ipykernel_127373/752527995.py:9: RuntimeWarning: Mean of empty slice.\n",
      "  print(diff[diff > 0].shape[0] * 1.0 / (diff.shape[0] * diff.shape[1]), diff[diff > 0].mean(), diff[diff > 0].max(), diff[diff > 0].min())\n"
     ]
    },
    {
     "name": "stdout",
     "output_type": "stream",
     "text": [
      "0.01937451774691358 1.3347604231487242 13 1\n",
      "0.04989197530864198 2.639556913083823 14 1\n"
     ]
    },
    {
     "name": "stderr",
     "output_type": "stream",
     "text": [
      "  2%|▏         | 23/1038 [00:01<00:54, 18.58it/s]"
     ]
    },
    {
     "name": "stdout",
     "output_type": "stream",
     "text": [
      "0.01705391589506173 1.5122585753471143 14 1\n",
      "0.04502604166666667 2.4043227727438254 19 1\n",
      "0.03290219907407407 1.7350570163867147 18 1\n",
      "0.01990210262345679 2.1817102425549444 28 1\n"
     ]
    },
    {
     "name": "stderr",
     "output_type": "stream",
     "text": [
      "  3%|▎         | 27/1038 [00:01<00:55, 18.37it/s]"
     ]
    },
    {
     "name": "stdout",
     "output_type": "stream",
     "text": [
      "0.0198022762345679 2.0582290195314403 16 1\n",
      "0.014231770833333334 2.0371386940462877 19 1\n",
      "0.042373649691358026 1.5580998338378895 19 1\n",
      "0.01949315200617284 1.8885727715791296 21 1\n"
     ]
    },
    {
     "name": "stderr",
     "output_type": "stream",
     "text": [
      "  3%|▎         | 31/1038 [00:01<00:55, 18.25it/s]"
     ]
    },
    {
     "name": "stdout",
     "output_type": "stream",
     "text": [
      "0.008929398148148148 1.3290667530784186 7 1\n",
      "0.008532503858024692 1.4003278132594812 9 1\n",
      "0.015309124228395062 2.035281146637266 17 1\n",
      "0.022437789351851853 1.7052894018526876 13 1\n"
     ]
    },
    {
     "name": "stderr",
     "output_type": "stream",
     "text": [
      "  3%|▎         | 35/1038 [00:01<00:58, 17.14it/s]"
     ]
    },
    {
     "name": "stdout",
     "output_type": "stream",
     "text": [
      "0.020932677469135803 2.3484771690549695 12 1\n",
      "0.02277247299382716 1.8349251392388979 19 1\n",
      "0.020116705246913582 2.2407824711128157 18 1\n"
     ]
    },
    {
     "name": "stderr",
     "output_type": "stream",
     "text": [
      "  4%|▎         | 37/1038 [00:02<01:09, 14.37it/s]"
     ]
    },
    {
     "name": "stdout",
     "output_type": "stream",
     "text": [
      "0.020230516975308643 2.5453396901072707 23 1\n",
      "0.01646701388888889 2.181983248403913 16 1\n",
      "0.016885609567901236 2.2899411663905864 17 1\n"
     ]
    },
    {
     "name": "stderr",
     "output_type": "stream",
     "text": [
      "  4%|▍         | 39/1038 [00:02<01:20, 12.44it/s]"
     ]
    },
    {
     "name": "stdout",
     "output_type": "stream",
     "text": [
      "0.015969810956790124 2.08071870753435 21 1\n",
      "0.019796006944444444 2.373066335355307 14 1\n"
     ]
    },
    {
     "name": "stderr",
     "output_type": "stream",
     "text": [
      "  4%|▍         | 41/1038 [00:02<01:29, 11.11it/s]"
     ]
    },
    {
     "name": "stdout",
     "output_type": "stream",
     "text": [
      "0.014973476080246913 2.6483944732519564 13 1\n",
      "0.022123842592592594 2.0182884296800068 19 1\n"
     ]
    },
    {
     "name": "stderr",
     "output_type": "stream",
     "text": [
      "  4%|▍         | 43/1038 [00:02<01:38, 10.07it/s]"
     ]
    },
    {
     "name": "stdout",
     "output_type": "stream",
     "text": [
      "0.020311053240740742 1.8451694090272337 13 1\n",
      "0.014444444444444444 1.8767694978632479 17 1\n"
     ]
    },
    {
     "name": "stderr",
     "output_type": "stream",
     "text": [
      "  4%|▍         | 45/1038 [00:03<01:39,  9.96it/s]"
     ]
    },
    {
     "name": "stdout",
     "output_type": "stream",
     "text": [
      "0.010186149691358025 1.4247230375911373 7 1\n",
      "0.011305941358024691 1.6150827503838936 18 1\n",
      "0.01376977237654321 1.9327916506146465 20 1\n"
     ]
    },
    {
     "name": "stderr",
     "output_type": "stream",
     "text": [
      "  5%|▍         | 49/1038 [00:03<01:47,  9.18it/s]"
     ]
    },
    {
     "name": "stdout",
     "output_type": "stream",
     "text": [
      "0.024070698302469135 1.5321459339250296 14 1\n",
      "0.019113618827160495 2.2117373971842356 15 1\n"
     ]
    },
    {
     "name": "stderr",
     "output_type": "stream",
     "text": [
      "  5%|▍         | 50/1038 [00:03<01:57,  8.44it/s]"
     ]
    },
    {
     "name": "stdout",
     "output_type": "stream",
     "text": [
      "0.015638020833333332 2.073056403614272 19 1\n",
      "0.023095100308641977 2.371434537481729 22 1\n"
     ]
    },
    {
     "name": "stderr",
     "output_type": "stream",
     "text": [
      "  5%|▌         | 52/1038 [00:03<02:02,  8.05it/s]"
     ]
    },
    {
     "name": "stdout",
     "output_type": "stream",
     "text": [
      "0.03472704475308642 1.4787112900985975 15 1\n",
      "0.025448013117283952 2.2068259773730787 16 1\n",
      "0.022135416666666668 1.8677995642701526 16 1\n"
     ]
    },
    {
     "name": "stderr",
     "output_type": "stream",
     "text": [
      "  5%|▌         | 56/1038 [00:04<01:58,  8.28it/s]"
     ]
    },
    {
     "name": "stdout",
     "output_type": "stream",
     "text": [
      "0.01593701774691358 2.3376705903712893 20 1\n",
      "0.017297453703703704 2.385942901750864 14 1\n"
     ]
    },
    {
     "name": "stderr",
     "output_type": "stream",
     "text": [
      "  6%|▌         | 58/1038 [00:04<02:06,  7.72it/s]"
     ]
    },
    {
     "name": "stdout",
     "output_type": "stream",
     "text": [
      "0.019165702160493826 1.871747773136732 13 1\n",
      "0.015004340277777778 2.056953684954842 19 1\n"
     ]
    },
    {
     "name": "stderr",
     "output_type": "stream",
     "text": [
      "  6%|▌         | 62/1038 [00:05<01:54,  8.52it/s]"
     ]
    },
    {
     "name": "stdout",
     "output_type": "stream",
     "text": [
      "0.019052854938271604 2.2578718234281663 13 1\n",
      "0.017278163580246912 2.4327899966506643 22 1\n"
     ]
    },
    {
     "name": "stderr",
     "output_type": "stream",
     "text": [
      "  6%|▌         | 63/1038 [00:05<01:59,  8.15it/s]"
     ]
    },
    {
     "name": "stdout",
     "output_type": "stream",
     "text": [
      "0.033883584104938275 1.8841462546789827 20 1\n",
      "0.02189863040123457 2.310995617608844 26 1\n"
     ]
    },
    {
     "name": "stderr",
     "output_type": "stream",
     "text": [
      "  6%|▋         | 65/1038 [00:05<02:19,  6.96it/s]"
     ]
    },
    {
     "name": "stdout",
     "output_type": "stream",
     "text": [
      "0.020113329475308642 2.1446280000959073 22 1\n",
      "0.02023582175925926 2.173303782083363 18 1\n"
     ]
    },
    {
     "name": "stderr",
     "output_type": "stream",
     "text": [
      "  7%|▋         | 68/1038 [00:06<02:16,  7.12it/s]"
     ]
    },
    {
     "name": "stdout",
     "output_type": "stream",
     "text": [
      "0.01829957561728395 1.7825330733147104 18 1\n",
      "0.02390721450617284 2.0245491588332594 15 1\n"
     ]
    },
    {
     "name": "stderr",
     "output_type": "stream",
     "text": [
      "  7%|▋         | 70/1038 [00:06<02:02,  7.88it/s]"
     ]
    },
    {
     "name": "stdout",
     "output_type": "stream",
     "text": [
      "0.032802854938271606 1.5824757424286975 13 1\n",
      "0.023054591049382716 2.417625402669121 23 1\n"
     ]
    },
    {
     "name": "stderr",
     "output_type": "stream",
     "text": [
      "  7%|▋         | 72/1038 [00:06<01:58,  8.17it/s]"
     ]
    },
    {
     "name": "stdout",
     "output_type": "stream",
     "text": [
      "0.021161265432098765 1.5351640838650866 10 1\n",
      "0.012083815586419753 1.9253701560442191 15 1\n"
     ]
    },
    {
     "name": "stderr",
     "output_type": "stream",
     "text": [
      "  7%|▋         | 74/1038 [00:06<01:46,  9.03it/s]"
     ]
    },
    {
     "name": "stdout",
     "output_type": "stream",
     "text": [
      "0.022826003086419754 1.3240936364404632 9 1\n",
      "0.01402488425925926 1.7197235403342273 15 1\n",
      "0.017803337191358026 2.0798548094373865 12 1\n"
     ]
    },
    {
     "name": "stderr",
     "output_type": "stream",
     "text": [
      "  7%|▋         | 76/1038 [00:06<01:34, 10.15it/s]"
     ]
    },
    {
     "name": "stdout",
     "output_type": "stream",
     "text": [
      "0.013739390432098765 1.9691119691119692 18 1\n",
      "0.02005883487654321 2.198418041063615 19 1\n",
      "0.018502604166666665 1.9829541011807021 17 1\n"
     ]
    },
    {
     "name": "stderr",
     "output_type": "stream",
     "text": [
      "  8%|▊         | 80/1038 [00:07<01:29, 10.65it/s]"
     ]
    },
    {
     "name": "stdout",
     "output_type": "stream",
     "text": [
      "0.018941454475308643 1.7021921226162895 22 1\n",
      "0.016397569444444444 2.6563143344509146 16 1\n",
      "0.019497974537037038 2.30073458484826 16 1\n"
     ]
    },
    {
     "name": "stderr",
     "output_type": "stream",
     "text": [
      "  8%|▊         | 82/1038 [00:07<01:39,  9.60it/s]"
     ]
    },
    {
     "name": "stdout",
     "output_type": "stream",
     "text": [
      "0.0179320987654321 2.2332723752151464 25 1\n",
      "0.02824315200617284 1.4519252113036796 13 1\n"
     ]
    },
    {
     "name": "stderr",
     "output_type": "stream",
     "text": [
      "  8%|▊         | 84/1038 [00:07<02:09,  7.37it/s]"
     ]
    },
    {
     "name": "stdout",
     "output_type": "stream",
     "text": [
      "0.02101466049382716 1.8904901780796768 10 1\n"
     ]
    },
    {
     "name": "stderr",
     "output_type": "stream",
     "text": [
      "  8%|▊         | 85/1038 [00:08<02:32,  6.25it/s]"
     ]
    },
    {
     "name": "stdout",
     "output_type": "stream",
     "text": [
      "0.024006076388888888 1.9833463910484341 12 1\n"
     ]
    },
    {
     "name": "stderr",
     "output_type": "stream",
     "text": [
      "  8%|▊         | 86/1038 [00:08<03:09,  5.02it/s]"
     ]
    },
    {
     "name": "stdout",
     "output_type": "stream",
     "text": [
      "0.029521604938271606 1.6353567694720335 15 1\n"
     ]
    },
    {
     "name": "stderr",
     "output_type": "stream",
     "text": [
      "  8%|▊         | 87/1038 [00:08<03:45,  4.23it/s]"
     ]
    },
    {
     "name": "stdout",
     "output_type": "stream",
     "text": [
      "0.059410686728395064 1.378013539620436 20 1\n"
     ]
    },
    {
     "name": "stderr",
     "output_type": "stream",
     "text": [
      "  8%|▊         | 88/1038 [00:09<04:24,  3.59it/s]"
     ]
    },
    {
     "name": "stdout",
     "output_type": "stream",
     "text": [
      "0.026052276234567903 2.3631298359927437 11 1\n",
      "0.04505063657407407 1.3732511213162486 14 1\n"
     ]
    },
    {
     "name": "stderr",
     "output_type": "stream",
     "text": [
      "  9%|▊         | 89/1038 [00:09<05:23,  2.93it/s]"
     ]
    },
    {
     "name": "stdout",
     "output_type": "stream",
     "text": [
      "0.028680073302469137 2.196061946158632 11 1\n"
     ]
    },
    {
     "name": "stderr",
     "output_type": "stream",
     "text": [
      "  9%|▊         | 90/1038 [00:10<06:49,  2.32it/s]"
     ]
    },
    {
     "name": "stdout",
     "output_type": "stream",
     "text": [
      "0.025830439814814816 2.105503902020089 12 1\n"
     ]
    },
    {
     "name": "stderr",
     "output_type": "stream",
     "text": [
      "  9%|▉         | 91/1038 [00:11<08:19,  1.90it/s]"
     ]
    },
    {
     "name": "stdout",
     "output_type": "stream",
     "text": [
      "0.04792341820987654 1.3945498822629663 18 1\n"
     ]
    },
    {
     "name": "stderr",
     "output_type": "stream",
     "text": [
      "  9%|▉         | 92/1038 [00:11<10:01,  1.57it/s]"
     ]
    },
    {
     "name": "stdout",
     "output_type": "stream",
     "text": [
      "0.04000868055555556 1.4823895277355899 17 1\n"
     ]
    },
    {
     "name": "stderr",
     "output_type": "stream",
     "text": [
      "  9%|▉         | 93/1038 [00:13<12:17,  1.28it/s]"
     ]
    },
    {
     "name": "stdout",
     "output_type": "stream",
     "text": [
      "0.030588348765432097 2.306678438544491 14 1\n"
     ]
    },
    {
     "name": "stderr",
     "output_type": "stream",
     "text": [
      "  9%|▉         | 94/1038 [00:14<14:20,  1.10it/s]"
     ]
    },
    {
     "name": "stdout",
     "output_type": "stream",
     "text": [
      "0.024234664351851853 2.5098601078542573 12 1\n"
     ]
    },
    {
     "name": "stderr",
     "output_type": "stream",
     "text": [
      "  9%|▉         | 95/1038 [00:15<16:56,  1.08s/it]"
     ]
    },
    {
     "name": "stdout",
     "output_type": "stream",
     "text": [
      "0.029239486882716048 1.5404825914136333 14 1\n"
     ]
    },
    {
     "name": "stderr",
     "output_type": "stream",
     "text": [
      "  9%|▉         | 96/1038 [00:17<19:53,  1.27s/it]"
     ]
    },
    {
     "name": "stdout",
     "output_type": "stream",
     "text": [
      "0.022894965277777776 1.4319536598209583 6 1\n"
     ]
    },
    {
     "name": "stderr",
     "output_type": "stream",
     "text": [
      "  9%|▉         | 97/1038 [00:19<22:50,  1.46s/it]"
     ]
    },
    {
     "name": "stdout",
     "output_type": "stream",
     "text": [
      "0.013921682098765433 1.813322710267424 10 1\n"
     ]
    },
    {
     "name": "stderr",
     "output_type": "stream",
     "text": [
      "  9%|▉         | 98/1038 [00:21<25:32,  1.63s/it]"
     ]
    },
    {
     "name": "stdout",
     "output_type": "stream",
     "text": [
      "0.018621720679012344 1.8201947480188532 15 1\n"
     ]
    },
    {
     "name": "stderr",
     "output_type": "stream",
     "text": [
      " 10%|▉         | 99/1038 [00:24<34:09,  2.18s/it]"
     ]
    },
    {
     "name": "stdout",
     "output_type": "stream",
     "text": [
      "0.020966435185185185 2.7409605299475572 13 1\n"
     ]
    },
    {
     "name": "stderr",
     "output_type": "stream",
     "text": [
      " 10%|▉         | 101/1038 [00:26<22:08,  1.42s/it]"
     ]
    },
    {
     "name": "stdout",
     "output_type": "stream",
     "text": [
      "0.029485435956790124 1.9816326196823735 11 1\n",
      "0.027568962191358026 2.3777004215718858 17 1\n"
     ]
    },
    {
     "name": "stderr",
     "output_type": "stream",
     "text": [
      " 10%|▉         | 103/1038 [00:26<11:53,  1.31it/s]"
     ]
    },
    {
     "name": "stdout",
     "output_type": "stream",
     "text": [
      "0.034130015432098766 1.9157293845023455 12 1\n",
      "0.02972559799382716 1.3761579519460083 13 1\n"
     ]
    },
    {
     "name": "stderr",
     "output_type": "stream",
     "text": [
      " 10%|█         | 105/1038 [00:26<06:51,  2.27it/s]"
     ]
    },
    {
     "name": "stdout",
     "output_type": "stream",
     "text": [
      "0.049343653549382714 1.4490563824900555 18 1\n",
      "0.02726707175925926 2.154012132788596 12 1\n",
      "0.02810378086419753 2.220725513075709 15 1\n"
     ]
    },
    {
     "name": "stderr",
     "output_type": "stream",
     "text": [
      " 11%|█         | 111/1038 [00:27<02:06,  7.31it/s]"
     ]
    },
    {
     "name": "stdout",
     "output_type": "stream",
     "text": [
      "0.03750771604938272 1.444597305081259 14 1\n",
      "0.024524016203703702 2.2423259198080743 14 1\n",
      "0.02941502700617284 1.8384129846708748 19 1\n"
     ]
    },
    {
     "name": "stderr",
     "output_type": "stream",
     "text": [
      " 11%|█         | 115/1038 [00:27<01:22, 11.17it/s]"
     ]
    },
    {
     "name": "stdout",
     "output_type": "stream",
     "text": [
      "0.01999614197530864 1.5891857997298862 8 1\n",
      "0.013090760030864198 1.634776201878799 9 1\n",
      "0.017965374228395063 1.8367379808337583 19 1\n",
      "0.023661747685185187 2.327850810149801 12 1\n"
     ]
    },
    {
     "name": "stderr",
     "output_type": "stream",
     "text": [
      " 11%|█▏        | 119/1038 [00:27<01:04, 14.19it/s]"
     ]
    },
    {
     "name": "stdout",
     "output_type": "stream",
     "text": [
      "0.04248697916666667 1.4015504931839593 15 1\n",
      "0.030150462962962962 1.9207293666026872 12 1\n",
      "0.04658805941358025 1.3387298794058278 17 1\n",
      "0.028504533179012345 2.1410154465630127 11 1\n"
     ]
    },
    {
     "name": "stderr",
     "output_type": "stream",
     "text": [
      " 12%|█▏        | 123/1038 [00:27<00:55, 16.36it/s]"
     ]
    },
    {
     "name": "stdout",
     "output_type": "stream",
     "text": [
      "0.03303096064814815 1.5984991166980567 17 1\n",
      "0.04083333333333333 2.0044879062736207 13 1\n",
      "0.03471064814814815 1.7992386351005891 14 1\n",
      "0.037856867283950615 1.8327388535031848 13 1\n"
     ]
    },
    {
     "name": "stderr",
     "output_type": "stream",
     "text": [
      " 12%|█▏        | 127/1038 [00:28<00:51, 17.59it/s]"
     ]
    },
    {
     "name": "stdout",
     "output_type": "stream",
     "text": [
      "0.034930555555555555 1.3888198586260216 13 1\n",
      "0.03205198688271605 1.8481561169372434 10 1\n",
      "0.015499131944444444 2.0568468216185942 14 1\n",
      "0.021790605709876544 2.473453579727786 12 1\n"
     ]
    },
    {
     "name": "stderr",
     "output_type": "stream",
     "text": [
      " 13%|█▎        | 131/1038 [00:28<00:49, 18.28it/s]"
     ]
    },
    {
     "name": "stdout",
     "output_type": "stream",
     "text": [
      "0.01694926697530864 1.194901268992204 8 1\n",
      "0.015690586419753086 1.2373985738873863 4 1\n",
      "0.02150270061728395 2.1642145868843636 13 1\n",
      "0.04237413194444444 1.4450590096395688 16 1\n"
     ]
    },
    {
     "name": "stderr",
     "output_type": "stream",
     "text": [
      " 13%|█▎        | 135/1038 [00:28<00:48, 18.58it/s]"
     ]
    },
    {
     "name": "stdout",
     "output_type": "stream",
     "text": [
      "0.02902536651234568 1.9424128133982421 11 1\n",
      "0.031880787037037034 2.1662279905609005 20 1\n",
      "0.03436342592592593 1.8731896261367464 19 1\n",
      "0.027706886574074073 2.1741075313734703 14 1\n"
     ]
    },
    {
     "name": "stderr",
     "output_type": "stream",
     "text": [
      " 13%|█▎        | 139/1038 [00:28<00:48, 18.65it/s]"
     ]
    },
    {
     "name": "stdout",
     "output_type": "stream",
     "text": [
      "0.02472270447530864 1.956246952111577 15 1\n",
      "0.02339699074074074 2.099699068348586 12 1\n",
      "0.024936824845679013 2.2314490707613763 13 1\n",
      "0.04416473765432099 1.4428259445293732 17 1\n"
     ]
    },
    {
     "name": "stderr",
     "output_type": "stream",
     "text": [
      " 14%|█▍        | 143/1038 [00:29<00:47, 18.81it/s]"
     ]
    },
    {
     "name": "stdout",
     "output_type": "stream",
     "text": [
      "0.020853587962962963 2.1084824938716986 11 1\n",
      "0.028462094907407406 1.5043630017452008 16 1\n",
      "0.02172453703703704 1.453827028946901 10 1\n",
      "0.021075906635802468 1.832391369013569 11 1\n"
     ]
    },
    {
     "name": "stderr",
     "output_type": "stream",
     "text": [
      " 14%|█▍        | 147/1038 [00:29<00:47, 18.92it/s]"
     ]
    },
    {
     "name": "stdout",
     "output_type": "stream",
     "text": [
      "0.025502025462962964 2.5999697433860933 22 1\n",
      "0.020516975308641976 1.5219537420082738 13 1\n",
      "0.02181712962962963 1.5122236958443855 12 1\n",
      "0.027371720679012345 2.287395609429508 17 1\n"
     ]
    },
    {
     "name": "stderr",
     "output_type": "stream",
     "text": [
      " 15%|█▍        | 151/1038 [00:29<00:47, 18.76it/s]"
     ]
    },
    {
     "name": "stdout",
     "output_type": "stream",
     "text": [
      "0.025756655092592593 2.288546874122339 17 1\n",
      "0.03179735725308642 1.3872905133843938 10 1\n",
      "0.02822723765432099 2.410664252033076 17 1\n",
      "0.023487172067901234 1.3359751965997988 12 1\n"
     ]
    },
    {
     "name": "stderr",
     "output_type": "stream",
     "text": [
      " 15%|█▍        | 155/1038 [00:29<00:48, 18.12it/s]"
     ]
    },
    {
     "name": "stdout",
     "output_type": "stream",
     "text": [
      "0.03605324074074074 1.916466024612092 19 1\n",
      "0.04516396604938271 1.4973839320035878 16 1\n",
      "0.03658227237654321 1.694082286407319 13 1\n",
      "0.0340625 2.664160720353381 22 1\n"
     ]
    },
    {
     "name": "stderr",
     "output_type": "stream",
     "text": [
      " 15%|█▌        | 159/1038 [00:29<00:59, 14.82it/s]"
     ]
    },
    {
     "name": "stdout",
     "output_type": "stream",
     "text": [
      "0.018046875 1.7012185345518678 8 1\n",
      "0.018180459104938273 1.674076235443911 9 1\n",
      "0.02392361111111111 2.3173076923076925 17 1\n",
      "0.07627363040123457 1.7489140812210342 25 1\n",
      "0.02982253086419753 1.424369340232859 15 1\n"
     ]
    },
    {
     "name": "stderr",
     "output_type": "stream",
     "text": [
      " 16%|█▌        | 163/1038 [00:30<01:37,  8.94it/s]"
     ]
    },
    {
     "name": "stdout",
     "output_type": "stream",
     "text": [
      "0.021257233796296297 2.366138070282901 17 1\n",
      "0.02973186728395062 1.3544410562512166 20 1\n"
     ]
    },
    {
     "name": "stderr",
     "output_type": "stream",
     "text": [
      " 16%|█▌        | 165/1038 [00:30<01:40,  8.71it/s]"
     ]
    },
    {
     "name": "stdout",
     "output_type": "stream",
     "text": [
      "0.028774112654320987 2.2944893239030604 17 1\n",
      "0.02553047839506173 2.1899697771061577 16 1\n",
      "0.026026234567901235 1.3975133412392529 12 1\n",
      "0.02731867283950617 1.5570187826578168 12 1\n"
     ]
    },
    {
     "name": "stderr",
     "output_type": "stream",
     "text": [
      " 16%|█▌        | 168/1038 [00:31<02:10,  6.67it/s]"
     ]
    },
    {
     "name": "stdout",
     "output_type": "stream",
     "text": [
      "0.022705439814814814 2.3659147869674184 17 1\n"
     ]
    },
    {
     "name": "stderr",
     "output_type": "stream",
     "text": [
      " 16%|█▋        | 170/1038 [00:31<02:08,  6.77it/s]"
     ]
    },
    {
     "name": "stdout",
     "output_type": "stream",
     "text": [
      "0.02313802083333333 2.5298568123554053 18 1\n",
      "0.03972608024691358 1.6235432650286492 18 1\n"
     ]
    },
    {
     "name": "stderr",
     "output_type": "stream",
     "text": [
      " 17%|█▋        | 174/1038 [00:32<01:36,  8.96it/s]"
     ]
    },
    {
     "name": "stdout",
     "output_type": "stream",
     "text": [
      "0.017330246913580247 1.5839269813000891 7 1\n",
      "0.023312596450617284 1.525951056039387 9 1\n",
      "0.042680362654320986 1.71468441391155 21 1\n"
     ]
    },
    {
     "name": "stderr",
     "output_type": "stream",
     "text": [
      " 17%|█▋        | 178/1038 [00:32<01:12, 11.87it/s]"
     ]
    },
    {
     "name": "stdout",
     "output_type": "stream",
     "text": [
      "0.03128472222222222 2.5551701812800593 20 1\n",
      "0.02900462962962963 1.3737529928172387 13 1\n",
      "0.02597849151234568 2.379884534704561 15 1\n"
     ]
    },
    {
     "name": "stderr",
     "output_type": "stream",
     "text": [
      " 17%|█▋        | 180/1038 [00:32<01:07, 12.66it/s]"
     ]
    },
    {
     "name": "stdout",
     "output_type": "stream",
     "text": [
      "0.02996045524691358 2.136448507871101 18 1\n",
      "0.028989679783950617 1.7138389366692728 13 1\n",
      "0.045067997685185185 1.701165291643928 17 1\n"
     ]
    },
    {
     "name": "stderr",
     "output_type": "stream",
     "text": [
      " 18%|█▊        | 182/1038 [00:32<01:15, 11.29it/s]"
     ]
    },
    {
     "name": "stdout",
     "output_type": "stream",
     "text": [
      "0.03347463348765432 1.967181939982424 20 1\n",
      "0.025241126543209876 2.3597248758119984 21 1\n"
     ]
    },
    {
     "name": "stderr",
     "output_type": "stream",
     "text": [
      " 18%|█▊        | 184/1038 [00:33<01:32,  9.21it/s]"
     ]
    },
    {
     "name": "stdout",
     "output_type": "stream",
     "text": [
      "0.03043113425925926 1.5361319767994674 20 1\n",
      "0.027160976080246913 2.0514195415564354 13 1\n"
     ]
    },
    {
     "name": "stderr",
     "output_type": "stream",
     "text": [
      " 18%|█▊        | 186/1038 [00:33<01:57,  7.24it/s]"
     ]
    },
    {
     "name": "stdout",
     "output_type": "stream",
     "text": [
      "0.03740644290123457 1.4567851893871027 11 1\n"
     ]
    },
    {
     "name": "stderr",
     "output_type": "stream",
     "text": [
      " 18%|█▊        | 187/1038 [00:33<02:12,  6.41it/s]"
     ]
    },
    {
     "name": "stdout",
     "output_type": "stream",
     "text": [
      "0.03129822530864197 1.4907704160246533 13 1\n"
     ]
    },
    {
     "name": "stderr",
     "output_type": "stream",
     "text": [
      " 18%|█▊        | 188/1038 [00:33<02:21,  5.99it/s]"
     ]
    },
    {
     "name": "stdout",
     "output_type": "stream",
     "text": [
      "0.021391782407407408 2.2100410298029667 17 1\n"
     ]
    },
    {
     "name": "stderr",
     "output_type": "stream",
     "text": [
      " 18%|█▊        | 189/1038 [00:34<02:21,  5.99it/s]"
     ]
    },
    {
     "name": "stdout",
     "output_type": "stream",
     "text": [
      "0.013497781635802468 1.2891850369788131 5 1\n",
      "0.03060619212962963 1.2078626014338611 8 1\n"
     ]
    },
    {
     "name": "stderr",
     "output_type": "stream",
     "text": [
      " 18%|█▊        | 191/1038 [00:34<02:26,  5.78it/s]"
     ]
    },
    {
     "name": "stdout",
     "output_type": "stream",
     "text": [
      "0.02482108410493827 2.281917270590064 16 1\n",
      "0.043032889660493824 1.388499770264364 16 1\n"
     ]
    },
    {
     "name": "stderr",
     "output_type": "stream",
     "text": [
      " 19%|█▊        | 194/1038 [00:34<02:16,  6.19it/s]"
     ]
    },
    {
     "name": "stdout",
     "output_type": "stream",
     "text": [
      "0.03282793209876543 1.85368433423434 15 1\n",
      "0.02199604552469136 2.129749402556401 14 1\n"
     ]
    },
    {
     "name": "stderr",
     "output_type": "stream",
     "text": [
      " 19%|█▉        | 195/1038 [00:34<02:01,  6.91it/s]"
     ]
    },
    {
     "name": "stdout",
     "output_type": "stream",
     "text": [
      "0.01939525462962963 1.4155601969267493 10 1\n",
      "0.02427710262345679 2.2331697820861725 15 1\n",
      "0.031774691358024694 1.6993230937348227 18 1\n"
     ]
    },
    {
     "name": "stderr",
     "output_type": "stream",
     "text": [
      " 19%|█▉        | 199/1038 [00:35<01:35,  8.79it/s]"
     ]
    },
    {
     "name": "stdout",
     "output_type": "stream",
     "text": [
      "0.020499131944444443 2.284635471804644 17 1\n",
      "0.026041666666666668 2.429851851851852 16 1\n"
     ]
    },
    {
     "name": "stderr",
     "output_type": "stream",
     "text": [
      " 19%|█▉        | 201/1038 [00:35<01:38,  8.53it/s]"
     ]
    },
    {
     "name": "stdout",
     "output_type": "stream",
     "text": [
      "0.02173948688271605 1.3766498813194614 10 1\n",
      "0.04011381172839506 1.6142101466698726 20 1\n"
     ]
    },
    {
     "name": "stderr",
     "output_type": "stream",
     "text": [
      " 19%|█▉        | 202/1038 [00:35<01:41,  8.23it/s]"
     ]
    },
    {
     "name": "stdout",
     "output_type": "stream",
     "text": [
      "0.0209008487654321 2.206160590678357 16 1\n",
      "0.018425443672839506 2.841625880074332 35 1\n"
     ]
    },
    {
     "name": "stderr",
     "output_type": "stream",
     "text": [
      " 20%|█▉        | 204/1038 [00:36<02:05,  6.67it/s]"
     ]
    },
    {
     "name": "stdout",
     "output_type": "stream",
     "text": [
      "0.01486159336419753 2.2696563585034233 17 1\n"
     ]
    },
    {
     "name": "stderr",
     "output_type": "stream",
     "text": [
      " 20%|█▉        | 205/1038 [00:36<02:21,  5.88it/s]"
     ]
    },
    {
     "name": "stdout",
     "output_type": "stream",
     "text": [
      "0.017635030864197532 2.6862830890395974 25 1\n"
     ]
    },
    {
     "name": "stderr",
     "output_type": "stream",
     "text": [
      " 20%|█▉        | 206/1038 [00:36<02:40,  5.20it/s]"
     ]
    },
    {
     "name": "stdout",
     "output_type": "stream",
     "text": [
      "0.01582079475308642 2.338688044869841 21 1\n"
     ]
    },
    {
     "name": "stderr",
     "output_type": "stream",
     "text": [
      " 20%|█▉        | 207/1038 [00:36<03:06,  4.45it/s]"
     ]
    },
    {
     "name": "stdout",
     "output_type": "stream",
     "text": [
      "0.014451195987654321 2.148968831342188 17 1\n"
     ]
    },
    {
     "name": "stderr",
     "output_type": "stream",
     "text": [
      " 20%|██        | 208/1038 [00:37<03:33,  3.89it/s]"
     ]
    },
    {
     "name": "stdout",
     "output_type": "stream",
     "text": [
      "0.016107253086419752 2.9569161676646707 33 1\n",
      "0.015228587962962963 2.486034581037431 25 1\n"
     ]
    },
    {
     "name": "stderr",
     "output_type": "stream",
     "text": [
      " 20%|██        | 209/1038 [00:37<04:25,  3.12it/s]"
     ]
    },
    {
     "name": "stdout",
     "output_type": "stream",
     "text": [
      "0.014574170524691357 2.2592237186062674 14 1\n"
     ]
    },
    {
     "name": "stderr",
     "output_type": "stream",
     "text": [
      " 20%|██        | 210/1038 [00:38<05:13,  2.64it/s]"
     ]
    },
    {
     "name": "stdout",
     "output_type": "stream",
     "text": [
      "0.012157118055555555 2.20599785790789 21 1\n"
     ]
    },
    {
     "name": "stderr",
     "output_type": "stream",
     "text": [
      " 20%|██        | 211/1038 [00:38<05:58,  2.31it/s]"
     ]
    },
    {
     "name": "stdout",
     "output_type": "stream",
     "text": [
      "0.0155078125 2.3541064153994467 19 1\n"
     ]
    },
    {
     "name": "stderr",
     "output_type": "stream",
     "text": [
      " 20%|██        | 212/1038 [00:39<07:03,  1.95it/s]"
     ]
    },
    {
     "name": "stdout",
     "output_type": "stream",
     "text": [
      "0.015139371141975309 2.453094638932246 18 1\n"
     ]
    },
    {
     "name": "stderr",
     "output_type": "stream",
     "text": [
      " 21%|██        | 213/1038 [00:40<02:37,  5.24it/s]\n"
     ]
    },
    {
     "ename": "KeyboardInterrupt",
     "evalue": "",
     "output_type": "error",
     "traceback": [
      "\u001b[0;31m---------------------------------------------------------------------------\u001b[0m",
      "\u001b[0;31mKeyboardInterrupt\u001b[0m                         Traceback (most recent call last)",
      "\u001b[1;32m/home/chuongh/vm2m/tools/compute_diff.ipynb Cell 3\u001b[0m line \u001b[0;36m6\n\u001b[1;32m      <a href='vscode-notebook-cell://ssh-remote%2B7b22686f73744e616d65223a2253657373696f6e2d37363631343631322d626238622d346463382d383536652d313832643563653063303965227d/home/chuongh/vm2m/tools/compute_diff.ipynb#W2sdnNjb2RlLXJlbW90ZQ%3D%3D?line=3'>4</a>\u001b[0m filename2 \u001b[39m=\u001b[39m filename\u001b[39m.\u001b[39mreplace(dir1, dir2)\n\u001b[1;32m      <a href='vscode-notebook-cell://ssh-remote%2B7b22686f73744e616d65223a2253657373696f6e2d37363631343631322d626238622d346463382d383536652d313832643563653063303965227d/home/chuongh/vm2m/tools/compute_diff.ipynb#W2sdnNjb2RlLXJlbW90ZQ%3D%3D?line=4'>5</a>\u001b[0m alpha1 \u001b[39m=\u001b[39m cv2\u001b[39m.\u001b[39mimread(filename, cv2\u001b[39m.\u001b[39mIMREAD_GRAYSCALE)\n\u001b[0;32m----> <a href='vscode-notebook-cell://ssh-remote%2B7b22686f73744e616d65223a2253657373696f6e2d37363631343631322d626238622d346463382d383536652d313832643563653063303965227d/home/chuongh/vm2m/tools/compute_diff.ipynb#W2sdnNjb2RlLXJlbW90ZQ%3D%3D?line=5'>6</a>\u001b[0m alpha2 \u001b[39m=\u001b[39m cv2\u001b[39m.\u001b[39;49mimread(filename2, cv2\u001b[39m.\u001b[39;49mIMREAD_GRAYSCALE)\n\u001b[1;32m      <a href='vscode-notebook-cell://ssh-remote%2B7b22686f73744e616d65223a2253657373696f6e2d37363631343631322d626238622d346463382d383536652d313832643563653063303965227d/home/chuongh/vm2m/tools/compute_diff.ipynb#W2sdnNjb2RlLXJlbW90ZQ%3D%3D?line=6'>7</a>\u001b[0m diff \u001b[39m=\u001b[39m cv2\u001b[39m.\u001b[39mabsdiff(alpha1, alpha2)\n\u001b[1;32m      <a href='vscode-notebook-cell://ssh-remote%2B7b22686f73744e616d65223a2253657373696f6e2d37363631343631322d626238622d346463382d383536652d313832643563653063303965227d/home/chuongh/vm2m/tools/compute_diff.ipynb#W2sdnNjb2RlLXJlbW90ZQ%3D%3D?line=7'>8</a>\u001b[0m \u001b[39mtry\u001b[39;00m:\n",
      "\u001b[0;31mKeyboardInterrupt\u001b[0m: "
     ]
    }
   ],
   "source": [
    "all_files = glob.glob(dir1 + '/*/*/*.png')\n",
    "\n",
    "for filename in tqdm.tqdm(all_files):\n",
    "    filename2 = filename.replace(dir1, dir2)\n",
    "    alpha1 = cv2.imread(filename, cv2.IMREAD_GRAYSCALE)\n",
    "    alpha2 = cv2.imread(filename2, cv2.IMREAD_GRAYSCALE)\n",
    "    diff = cv2.absdiff(alpha1, alpha2)\n",
    "    try:\n",
    "        print(diff[diff > 0].shape[0] * 1.0 / (diff.shape[0] * diff.shape[1]), diff[diff > 0].mean(), diff[diff > 0].max(), diff[diff > 0].min())\n",
    "    except:\n",
    "        pass\n",
    "    os.makedirs(os.path.dirname(filename.replace(dir1, out_dir)), exist_ok=True)\n",
    "    cv2.imwrite(filename.replace(dir1, out_dir), diff)"
   ]
  },
  {
   "cell_type": "code",
   "execution_count": null,
   "metadata": {},
   "outputs": [],
   "source": []
  }
 ],
 "metadata": {
  "kernelspec": {
   "display_name": "mask2matte",
   "language": "python",
   "name": "python3"
  },
  "language_info": {
   "codemirror_mode": {
    "name": "ipython",
    "version": 3
   },
   "file_extension": ".py",
   "mimetype": "text/x-python",
   "name": "python",
   "nbconvert_exporter": "python",
   "pygments_lexer": "ipython3",
   "version": "3.8.16"
  },
  "orig_nbformat": 4
 },
 "nbformat": 4,
 "nbformat_minor": 2
}
