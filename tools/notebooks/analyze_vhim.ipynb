{
 "cells": [
  {
   "cell_type": "code",
   "execution_count": 1,
   "metadata": {},
   "outputs": [],
   "source": [
    "import os\n",
    "import glob"
   ]
  },
  {
   "cell_type": "code",
   "execution_count": 6,
   "metadata": {},
   "outputs": [
    {
     "name": "stdout",
     "output_type": "stream",
     "text": [
      "Average number of instances per frame:  2.7\n"
     ]
    }
   ],
   "source": [
    "# For test set\n",
    "# Subset of the data\n",
    "\n",
    "no_instances = []\n",
    "input_dir = \"/home/chuongh/vm2m/data/syn/benchmark/comp_hard/pha\"\n",
    "video_names = os.listdir(input_dir)\n",
    "for video_name in video_names:\n",
    "    video_path = os.path.join(input_dir, video_name)\n",
    "    no_frames = len(os.listdir(video_path))\n",
    "    no_masks = len(glob.glob(video_path + \"/*/*.png\"))\n",
    "    no_instances.append(no_masks / no_frames)\n",
    "print(\"Average number of instances per frame: \", sum(no_instances) / len(no_instances))\n"
   ]
  },
  {
   "cell_type": "code",
   "execution_count": 7,
   "metadata": {},
   "outputs": [],
   "source": [
    "# For train set\n",
    "# Subset of the data\n",
    "\n",
    "no_instances_easy = []\n",
    "no_instances_med = []\n",
    "no_instances_hard = []\n",
    "input_dir = \"/home/chuongh/vm2m/data/syn/train/pha\"\n",
    "video_names = os.listdir(input_dir)\n",
    "for video_name in video_names:\n",
    "    \n",
    "    video_path = os.path.join(input_dir, video_name)\n",
    "    no_frames = len(os.listdir(video_path))\n",
    "    no_masks = len(glob.glob(video_path + \"/*/*.png\"))\n",
    "    if int(video_name) < 500:\n",
    "        no_instances_easy.append(no_masks / no_frames)\n",
    "    elif int(video_name) < 1500:\n",
    "        no_instances_med.append(no_masks / no_frames)\n",
    "    elif int(video_name) < 3500:\n",
    "        no_instances_hard.append(no_masks / no_frames)\n",
    "    else:\n",
    "        no_instances_med.append(no_masks / no_frames)\n",
    "# print(\"Average number of instances per frame: \", sum(no_instances) / len(no_instances))\n"
   ]
  },
  {
   "cell_type": "code",
   "execution_count": 13,
   "metadata": {},
   "outputs": [
    {
     "name": "stdout",
     "output_type": "stream",
     "text": [
      "Easy: Average number of instances per frame:  2.672\n",
      "Med: Average number of instances per frame:  2.651468315301391\n",
      "Hard: Average number of instances per frame:  3.214392803598201\n"
     ]
    }
   ],
   "source": [
    "print(\"Easy: Average number of instances per frame: \", sum(no_instances_easy) / len(no_instances_easy))\n",
    "print(\"Med: Average number of instances per frame: \", sum(no_instances_med) / len(no_instances_med))\n",
    "print(\"Hard: Average number of instances per frame: \", sum(no_instances_hard) / len(no_instances_hard))"
   ]
  },
  {
   "cell_type": "code",
   "execution_count": 12,
   "metadata": {},
   "outputs": [
    {
     "name": "stdout",
     "output_type": "stream",
     "text": [
      "71.1753363982873,69.85414981842041,88.23434953336363,110.95291267741811,85.20622650782266,129.81499433517456,125.35097599029541,110.64963340759277,\n",
      "0.7682440722592965,0.7836530407992276,0.8280583770186812,0.8443503813310103,0.8384193579355875,0.8422462463378906,0.9976787567138672,0.8608207702636719,\n"
     ]
    },
    {
     "name": "stderr",
     "output_type": "stream",
     "text": [
      "Bad pipe message: %s [b\"\\xc0\\x05\\xe3\\x08\\xb5\\xf0\\xf9\\xa5\\xed\\x1e\\x04\\xe8Z\\x15\\xf5\\xcd{\\x9c \\x92R\\xd1\\xa8\\xa7\\xff4\\x86\\xb4\\xfd\\xc5~5\\xa6\\xe5h,o\\x98s\\xb2j\\xbdl\\x0b\\x83\\x92\\xd4\\xd4\\xa8\\xbb\\xe2\\x00>\\x13\\x02\\x13\\x03\\x13\\x01\\xc0,\\xc00\\x00\\x9f\\xcc\\xa9\\xcc\\xa8\\xcc\\xaa\\xc0+\\xc0/\\x00\\x9e\\xc0$\\xc0(\\x00k\\xc0#\\xc0'\\x00g\\xc0\\n\\xc0\\x14\\x009\\xc0\\t\\xc0\\x13\\x003\\x00\\x9d\\x00\\x9c\\x00=\\x00<\\x005\\x00/\\x00\\xff\\x01\\x00\\x01u\\x00\\x0b\\x00\\x04\\x03\\x00\\x01\\x02\\x00\\n\\x00\\x0c\\x00\\n\\x00\\x1d\\x00\\x17\\x00\\x1e\\x00\\x19\\x00\\x18\\x00#\\x00\\x00\\x00\\x16\\x00\\x00\\x00\\x17\\x00\\x00\\x00\\r\\x000\\x00.\\x04\\x03\\x05\\x03\\x06\\x03\\x08\\x07\\x08\\x08\\x08\\t\\x08\\n\\x08\\x0b\\x08\\x04\\x08\\x05\\x08\\x06\\x04\\x01\\x05\\x01\\x06\\x01\\x03\\x03\\x02\\x03\\x03\\x01\\x02\\x01\\x03\\x02\\x02\\x02\\x04\\x02\\x05\\x02\\x06\\x02\\x00+\\x00\\t\\x08\"]\n",
      "Bad pipe message: %s [b'\\x03\\x03']\n",
      "Bad pipe message: %s [b'\\x03\\x01']\n"
     ]
    }
   ],
   "source": [
    "# Check time and mem\n",
    "natural_mem_path = \"/home/chuongh/InstMatt/tracked_memory_natural.pkl\"\n",
    "natural_time_path = \"/home/chuongh/InstMatt/tracked_time_natural.pkl\"\n",
    "natural_mem_path = \"/home/chuongh/sensei-fs-symlink/users/chuongh/vm2m/tracked_memory_natural_ours.pkl\"\n",
    "natural_time_path = \"/home/chuongh/sensei-fs-symlink/users/chuongh/vm2m/tracked_time_natural_ours.pkl\"\n",
    "\n",
    "natural_mem_path = \"/home/chuongh/sensei-fs-symlink/users/chuongh/vm2m/tracked_memory_natural_mgm_stacked.pkl\"\n",
    "natural_time_path = \"/home/chuongh/sensei-fs-symlink/users/chuongh/vm2m/tracked_time_natural_mgm_stacked.pkl\"\n",
    "\n",
    "import pickle\n",
    "with open(natural_mem_path, 'rb') as f:\n",
    "    natural_mem = pickle.load(f)\n",
    "with open(natural_time_path, 'rb') as f:\n",
    "    natural_time = pickle.load(f)\n",
    "\n",
    "mem_answer = \"\"\n",
    "time_answer = \"\"\n",
    "for i in range(2, 11):\n",
    "    if i == 9: continue\n",
    "    mem_answer += str(sum(natural_mem[i]) / len(natural_mem[i]) / 1024) + \",\"\n",
    "    time_answer += str(sum(natural_time[i]) / len(natural_time[i]) * 1000) + \",\"\n",
    "print(time_answer)\n",
    "print(mem_answer)"
   ]
  },
  {
   "cell_type": "code",
   "execution_count": 6,
   "metadata": {},
   "outputs": [],
   "source": [
    "# Find images with large number of instances\n",
    "import os\n",
    "mask_path = \"/home/chuongh/vm2m/data/HIM2K/masks_matched_r50_fpn_3x_new/natural\"\n",
    "image2noinstances = {}\n",
    "for image_name in os.listdir(mask_path):\n",
    "    image_path = os.path.join(mask_path, image_name)\n",
    "    no_instances = len(os.listdir(image_path))\n",
    "    image2noinstances[no_instances] = image2noinstances.get(no_instances, []) + [image_name]"
   ]
  },
  {
   "cell_type": "code",
   "execution_count": 8,
   "metadata": {},
   "outputs": [
    {
     "data": {
      "text/plain": [
       "['google_easy_22b3ffecdf594a75a765e25b3e4ccda8']"
      ]
     },
     "execution_count": 8,
     "metadata": {},
     "output_type": "execute_result"
    }
   ],
   "source": [
    "image2noinstances[10]"
   ]
  },
  {
   "cell_type": "code",
   "execution_count": null,
   "metadata": {},
   "outputs": [],
   "source": []
  }
 ],
 "metadata": {
  "kernelspec": {
   "display_name": "mask2matte",
   "language": "python",
   "name": "python3"
  },
  "language_info": {
   "codemirror_mode": {
    "name": "ipython",
    "version": 3
   },
   "file_extension": ".py",
   "mimetype": "text/x-python",
   "name": "python",
   "nbconvert_exporter": "python",
   "pygments_lexer": "ipython3",
   "version": "3.8.16"
  }
 },
 "nbformat": 4,
 "nbformat_minor": 2
}
