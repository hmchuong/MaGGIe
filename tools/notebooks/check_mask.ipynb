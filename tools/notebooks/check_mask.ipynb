{
 "cells": [
  {
   "cell_type": "code",
   "execution_count": 10,
   "metadata": {},
   "outputs": [],
   "source": [
    "import os\n",
    "import glob\n",
    "import cv2\n",
    "import tqdm"
   ]
  },
  {
   "cell_type": "code",
   "execution_count": 3,
   "metadata": {},
   "outputs": [],
   "source": [
    "root_dir = '/mnt/localssd/HIM2K/alphas'\n",
    "no_masks = []\n",
    "for val_dir in os.listdir(root_dir):\n",
    "    val_dir = os.path.join(root_dir, val_dir)\n",
    "    for image_dir in os.listdir(val_dir):\n",
    "        if image_dir.startswith('.'): continue\n",
    "        no_masks += [len(list(os.listdir(os.path.join(val_dir, image_dir))))]"
   ]
  },
  {
   "cell_type": "code",
   "execution_count": 5,
   "metadata": {},
   "outputs": [
    {
     "data": {
      "text/plain": [
       "10"
      ]
     },
     "execution_count": 5,
     "metadata": {},
     "output_type": "execute_result"
    }
   ],
   "source": [
    "max(no_masks)"
   ]
  },
  {
   "cell_type": "code",
   "execution_count": 11,
   "metadata": {},
   "outputs": [
    {
     "name": "stderr",
     "output_type": "stream",
     "text": [
      "  0%|          | 0/52887 [00:00<?, ?it/s]"
     ]
    },
    {
     "name": "stderr",
     "output_type": "stream",
     "text": [
      "  1%|          | 361/52887 [00:26<1:04:02, 13.67it/s]\n"
     ]
    },
    {
     "ename": "KeyboardInterrupt",
     "evalue": "",
     "output_type": "error",
     "traceback": [
      "\u001b[0;31m---------------------------------------------------------------------------\u001b[0m",
      "\u001b[0;31mKeyboardInterrupt\u001b[0m                         Traceback (most recent call last)",
      "Cell \u001b[0;32mIn[11], line 6\u001b[0m\n\u001b[1;32m      4\u001b[0m \u001b[39mfor\u001b[39;00m image_path \u001b[39min\u001b[39;00m tqdm\u001b[39m.\u001b[39mtqdm(glob\u001b[39m.\u001b[39mglob(root_dir \u001b[39m+\u001b[39m \u001b[39m'\u001b[39m\u001b[39m/images/*.jpg\u001b[39m\u001b[39m'\u001b[39m)):\n\u001b[1;32m      5\u001b[0m     mask_path \u001b[39m=\u001b[39m image_path\u001b[39m.\u001b[39mreplace(\u001b[39m'\u001b[39m\u001b[39mimages\u001b[39m\u001b[39m'\u001b[39m, \u001b[39m'\u001b[39m\u001b[39malphas\u001b[39m\u001b[39m'\u001b[39m)\u001b[39m.\u001b[39mreplace(\u001b[39m'\u001b[39m\u001b[39m.jpg\u001b[39m\u001b[39m'\u001b[39m, \u001b[39m'\u001b[39m\u001b[39m.png\u001b[39m\u001b[39m'\u001b[39m)\n\u001b[0;32m----> 6\u001b[0m     mask \u001b[39m=\u001b[39m cv2\u001b[39m.\u001b[39;49mimread(mask_path, cv2\u001b[39m.\u001b[39;49mIMREAD_GRAYSCALE)\n\u001b[1;32m      7\u001b[0m     mask \u001b[39m=\u001b[39m mask\u001b[39m.\u001b[39mastype(\u001b[39m'\u001b[39m\u001b[39mfloat32\u001b[39m\u001b[39m'\u001b[39m) \u001b[39m/\u001b[39m \u001b[39m255.\u001b[39m\n\u001b[1;32m      8\u001b[0m     \u001b[39mif\u001b[39;00m mask\u001b[39m.\u001b[39msum() \u001b[39m==\u001b[39m \u001b[39m0\u001b[39m:\n",
      "\u001b[0;31mKeyboardInterrupt\u001b[0m: "
     ]
    }
   ],
   "source": [
    "# Clean HHM50K\n",
    "root_dir = '/mnt/localssd/HHM/train'\n",
    "num_empty = 0\n",
    "for image_path in tqdm.tqdm(glob.glob(root_dir + '/images/*.jpg')):\n",
    "    mask_path = image_path.replace('images', 'alphas').replace('.jpg', '.png')\n",
    "    mask = cv2.imread(mask_path, cv2.IMREAD_GRAYSCALE)\n",
    "    mask = mask.astype('float32') / 255.\n",
    "    if mask.sum() == 0:\n",
    "        num_empty += 1\n",
    "num_empty"
   ]
  },
  {
   "cell_type": "code",
   "execution_count": null,
   "metadata": {},
   "outputs": [],
   "source": []
  }
 ],
 "metadata": {
  "kernelspec": {
   "display_name": "mask2matte",
   "language": "python",
   "name": "python3"
  },
  "language_info": {
   "codemirror_mode": {
    "name": "ipython",
    "version": 3
   },
   "file_extension": ".py",
   "mimetype": "text/x-python",
   "name": "python",
   "nbconvert_exporter": "python",
   "pygments_lexer": "ipython3",
   "version": "3.8.16"
  },
  "orig_nbformat": 4
 },
 "nbformat": 4,
 "nbformat_minor": 2
}
