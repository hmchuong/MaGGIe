{
 "cells": [
  {
   "cell_type": "code",
   "execution_count": 62,
   "metadata": {},
   "outputs": [],
   "source": [
    "import os\n",
    "import json\n",
    "import numpy as np\n",
    "import cv2\n",
    "from PIL import Image\n",
    "from pycocotools import mask as maskUtils"
   ]
  },
  {
   "attachments": {},
   "cell_type": "markdown",
   "metadata": {},
   "source": [
    "# Analyze no. person videos"
   ]
  },
  {
   "attachments": {},
   "cell_type": "markdown",
   "metadata": {},
   "source": [
    "## 0. Overlapping between YTVIS2019 and TYTVIS2021?"
   ]
  },
  {
   "cell_type": "code",
   "execution_count": 7,
   "metadata": {},
   "outputs": [],
   "source": [
    "ytvis2019_image_dir = \"/home/chuongh/vm2m/data/YTVIS/2019/train/JPEGImages\"\n",
    "ytvis2021_image_dir = \"/home/chuongh/vm2m/data/YTVIS/2021/train/JPEGImages\"\n",
    "diff_list = set(list(os.listdir(ytvis2019_image_dir))).difference(set(list(os.listdir(ytvis2021_image_dir))))"
   ]
  },
  {
   "cell_type": "code",
   "execution_count": 5,
   "metadata": {},
   "outputs": [
    {
     "data": {
      "text/plain": [
       "3471"
      ]
     },
     "execution_count": 5,
     "metadata": {},
     "output_type": "execute_result"
    }
   ],
   "source": [
    "len(list(os.listdir(ytvis2019_image_dir)))"
   ]
  },
  {
   "cell_type": "code",
   "execution_count": 6,
   "metadata": {},
   "outputs": [
    {
     "data": {
      "text/plain": [
       "2985"
      ]
     },
     "execution_count": 6,
     "metadata": {},
     "output_type": "execute_result"
    }
   ],
   "source": [
    "len(list(os.listdir(ytvis2021_image_dir)))"
   ]
  },
  {
   "cell_type": "code",
   "execution_count": 9,
   "metadata": {},
   "outputs": [
    {
     "data": {
      "text/plain": [
       "1280"
      ]
     },
     "execution_count": 9,
     "metadata": {},
     "output_type": "execute_result"
    }
   ],
   "source": [
    "len(diff_list)"
   ]
  },
  {
   "attachments": {},
   "cell_type": "markdown",
   "metadata": {},
   "source": [
    "## 1. How many videos with people?"
   ]
  },
  {
   "cell_type": "code",
   "execution_count": 32,
   "metadata": {},
   "outputs": [],
   "source": [
    "person_videos = set()\n",
    "\n",
    "# Process 2019 videos\n",
    "data = json.load(open(\"/home/chuongh/vm2m/data/YTVIS/2019/train.json\", \"r\"))\n",
    "videoId2Name = {}\n",
    "for video in data[\"videos\"]:\n",
    "    videoId2Name[video[\"id\"]] = video[\"file_names\"][0].split(\"/\")[0]\n",
    "\n",
    "for anno in data['annotations']:\n",
    "    cate = anno['category_id']\n",
    "    if cate == 1:\n",
    "        person_videos.add(videoId2Name[anno['video_id']])"
   ]
  },
  {
   "cell_type": "code",
   "execution_count": 35,
   "metadata": {},
   "outputs": [],
   "source": [
    "person_videos_2021 = set()\n",
    "data = json.load(open(\"/home/chuongh/vm2m/data/YTVIS/2021/train/instances.json\", \"r\"))\n",
    "videoId2Name = {}\n",
    "for video in data[\"videos\"]:\n",
    "    videoId2Name[video[\"id\"]] = video[\"file_names\"][0].split(\"/\")[0]\n",
    "for anno in data['annotations']:\n",
    "    cate = anno['category_id']\n",
    "    if cate == 26:\n",
    "        person_videos_2021.add(videoId2Name[anno['video_id']])"
   ]
  },
  {
   "cell_type": "code",
   "execution_count": 36,
   "metadata": {},
   "outputs": [
    {
     "data": {
      "text/plain": [
       "1180"
      ]
     },
     "execution_count": 36,
     "metadata": {},
     "output_type": "execute_result"
    }
   ],
   "source": [
    "len(person_videos_2021)"
   ]
  },
  {
   "cell_type": "code",
   "execution_count": 37,
   "metadata": {},
   "outputs": [],
   "source": [
    "for x in person_videos_2021:\n",
    "    person_videos.add(x)"
   ]
  },
  {
   "cell_type": "code",
   "execution_count": 38,
   "metadata": {},
   "outputs": [
    {
     "data": {
      "text/plain": [
       "1180"
      ]
     },
     "execution_count": 38,
     "metadata": {},
     "output_type": "execute_result"
    }
   ],
   "source": [
    "len(person_videos)"
   ]
  },
  {
   "attachments": {},
   "cell_type": "markdown",
   "metadata": {},
   "source": [
    "Person videos in YTVIS: 1180"
   ]
  },
  {
   "cell_type": "code",
   "execution_count": 39,
   "metadata": {},
   "outputs": [],
   "source": [
    "with open(\"/home/chuongh/vm2m/data/YTVIS/person_videos.txt\", \"w\") as f:\n",
    "    for x in list(person_videos):\n",
    "        f.write(str(x) + \"\\n\")"
   ]
  },
  {
   "cell_type": "code",
   "execution_count": 45,
   "metadata": {},
   "outputs": [],
   "source": [
    "# Process OVIS videos\n",
    "data = json.load(open(\"/home/chuongh/vm2m/data/OVIS/annotations_train.json\", \"r\"))\n",
    "videoId2Name = {}\n",
    "person_videos_ovis = set()\n",
    "for video in data[\"videos\"]:\n",
    "    videoId2Name[video[\"id\"]] = video[\"file_names\"][0].split(\"/\")[0]\n",
    "for anno in data['annotations']:\n",
    "    cate = anno['category_id']\n",
    "    if cate == 1:\n",
    "        person_videos_ovis.add(videoId2Name[anno['video_id']])"
   ]
  },
  {
   "cell_type": "code",
   "execution_count": 46,
   "metadata": {},
   "outputs": [
    {
     "data": {
      "text/plain": [
       "181"
      ]
     },
     "execution_count": 46,
     "metadata": {},
     "output_type": "execute_result"
    }
   ],
   "source": [
    "len(person_videos_ovis)"
   ]
  },
  {
   "attachments": {},
   "cell_type": "markdown",
   "metadata": {},
   "source": [
    "Person videos in OVIS: 181"
   ]
  },
  {
   "cell_type": "code",
   "execution_count": 47,
   "metadata": {},
   "outputs": [],
   "source": [
    "with open(\"/home/chuongh/vm2m/data/OVIS/person_videos.txt\", \"w\") as f:\n",
    "    for x in list(person_videos_ovis):\n",
    "        f.write(str(x) + \"\\n\")"
   ]
  },
  {
   "attachments": {},
   "cell_type": "markdown",
   "metadata": {},
   "source": [
    "## 3. How many frames/video?"
   ]
  },
  {
   "cell_type": "code",
   "execution_count": 48,
   "metadata": {},
   "outputs": [],
   "source": [
    "n_frames = 0\n",
    "for video_name in list(person_videos):\n",
    "    video_dir = os.path.join(ytvis2021_image_dir, video_name)\n",
    "    if not os.path.exists(video_dir):\n",
    "        video_dir = os.path.join(ytvis2019_image_dir, video_name)\n",
    "    n_frames += len(os.listdir(video_dir))"
   ]
  },
  {
   "cell_type": "code",
   "execution_count": 49,
   "metadata": {},
   "outputs": [
    {
     "data": {
      "text/plain": [
       "30.608474576271185"
      ]
     },
     "execution_count": 49,
     "metadata": {},
     "output_type": "execute_result"
    }
   ],
   "source": [
    "n_frames/ len(person_videos)"
   ]
  },
  {
   "attachments": {},
   "cell_type": "markdown",
   "metadata": {},
   "source": [
    "YTVIS frame rate: 30frame/video"
   ]
  },
  {
   "cell_type": "code",
   "execution_count": 50,
   "metadata": {},
   "outputs": [],
   "source": [
    "n_frames = 0\n",
    "for video_name in list(person_videos_ovis):\n",
    "    video_dir = os.path.join(\"/home/chuongh/vm2m/data/OVIS/train\", video_name)\n",
    "    n_frames += len(os.listdir(video_dir))"
   ]
  },
  {
   "cell_type": "code",
   "execution_count": 51,
   "metadata": {},
   "outputs": [
    {
     "data": {
      "text/plain": [
       "74.48066298342542"
      ]
     },
     "execution_count": 51,
     "metadata": {},
     "output_type": "execute_result"
    }
   ],
   "source": [
    "n_frames/ len(person_videos_ovis)"
   ]
  },
  {
   "attachments": {},
   "cell_type": "markdown",
   "metadata": {},
   "source": [
    "OVIS frame rate: 75 frame/video"
   ]
  },
  {
   "cell_type": "code",
   "execution_count": 71,
   "metadata": {},
   "outputs": [],
   "source": [
    "# Save annotation of person videos\n",
    "\n",
    "# For YTVIS 2021\n",
    "out_dir = \"/home/chuongh/vm2m/data/YTVIS/2021/train/masks\"\n",
    "data = json.load(open(\"/home/chuongh/vm2m/data/YTVIS/2021/train/instances.json\", \"r\"))\n",
    "videoId2Name = {}\n",
    "videoId2FileNames = {}\n",
    "for video in data[\"videos\"]:\n",
    "    videoId2Name[video[\"id\"]] = video[\"file_names\"][0].split(\"/\")[0]\n",
    "    videoId2FileNames[video[\"id\"]] = video[\"file_names\"]\n",
    "videoId2NoInst = {}\n",
    "for anno in data[\"annotations\"]:\n",
    "    video_name = videoId2Name[anno[\"video_id\"]]\n",
    "    cate = anno[\"category_id\"]\n",
    "    if cate != 26 or video_name not in person_videos:\n",
    "        continue\n",
    "    width, height = anno[\"width\"], anno[\"height\"]\n",
    "    segms = anno[\"segmentations\"]\n",
    "    frame_names = videoId2FileNames[anno[\"video_id\"]]\n",
    "    videoId2NoInst[anno[\"video_id\"]] = videoId2NoInst.get(anno[\"video_id\"], 0) + 1\n",
    "    inst_id = videoId2NoInst[anno[\"video_id\"]] - 1\n",
    "    for seg, frame_name in zip(segms, frame_names):\n",
    "        if seg is None:\n",
    "            mask = np.zeros((height, width), dtype=np.uint8)\n",
    "        else:\n",
    "            mask = maskUtils.decode(maskUtils.frPyObjects(seg, height, width))\n",
    "        \n",
    "        out_name = frame_name.replace(\".jpg\", \"\")\n",
    "        out_path = os.path.join(out_dir, out_name, f\"{inst_id:02d}.png\")\n",
    "        os.makedirs(os.path.dirname(out_path), exist_ok=True)\n",
    "        mask = Image.fromarray(mask * 255)\n",
    "        mask.save(out_path)"
   ]
  },
  {
   "cell_type": "code",
   "execution_count": 69,
   "metadata": {},
   "outputs": [
    {
     "data": {
      "text/plain": [
       "'01c4cb5ffe/00000.jpg'"
      ]
     },
     "execution_count": 69,
     "metadata": {},
     "output_type": "execute_result"
    }
   ],
   "source": [
    "frame_names[0]"
   ]
  },
  {
   "cell_type": "code",
   "execution_count": null,
   "metadata": {},
   "outputs": [],
   "source": []
  }
 ],
 "metadata": {
  "kernelspec": {
   "display_name": "mask2matte",
   "language": "python",
   "name": "python3"
  },
  "language_info": {
   "codemirror_mode": {
    "name": "ipython",
    "version": 3
   },
   "file_extension": ".py",
   "mimetype": "text/x-python",
   "name": "python",
   "nbconvert_exporter": "python",
   "pygments_lexer": "ipython3",
   "version": "3.8.16"
  },
  "orig_nbformat": 4
 },
 "nbformat": 4,
 "nbformat_minor": 2
}
