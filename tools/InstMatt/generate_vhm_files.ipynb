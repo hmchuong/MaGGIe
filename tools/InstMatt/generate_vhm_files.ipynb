{
 "cells": [
  {
   "cell_type": "code",
   "execution_count": 8,
   "metadata": {},
   "outputs": [],
   "source": [
    "import glob\n",
    "import os\n",
    "import cv2\n",
    "import numpy as np\n",
    "from PIL import Image\n",
    "from tqdm import tqdm"
   ]
  },
  {
   "cell_type": "code",
   "execution_count": 2,
   "metadata": {},
   "outputs": [],
   "source": [
    "out_file = \"/sensei-fs/users/chuongh/InstMatt/datasets/VIM_train\"\n",
    "data_root = \"/mnt/localssd/syn/train\""
   ]
  },
  {
   "cell_type": "code",
   "execution_count": 3,
   "metadata": {},
   "outputs": [],
   "source": [
    "all_fgrs = []\n",
    "all_alphas = []\n",
    "\n",
    "video_names = glob.glob(os.path.join(data_root, \"fgr\") + \"/*\")\n",
    "video_names.sort()\n",
    "\n",
    "for video_name in video_names:\n",
    "    framenames = glob.glob(os.path.join(video_name, \"*.jpg\"))\n",
    "    framenames.sort()\n",
    "    alpha_names = glob.glob(video_name.replace(\"fgr\", \"pha\") + \"/*/*.png\")\n",
    "    alpha_names.sort()\n",
    "    n_i = len(alpha_names) // len(framenames)\n",
    "    for j in range(n_i):\n",
    "        all_fgrs.extend(framenames)\n",
    "        all_alphas.extend([x.replace(\"fgr\", \"pha\").replace(\".jpg\", \"\") + f\"/{j:02d}.png\" for x in framenames])"
   ]
  },
  {
   "cell_type": "code",
   "execution_count": 10,
   "metadata": {},
   "outputs": [],
   "source": [
    "with open(out_file + \"_fg.txt\", \"w\") as f:\n",
    "    f.write(\"\\n\".join(all_fgrs))"
   ]
  },
  {
   "cell_type": "code",
   "execution_count": 11,
   "metadata": {},
   "outputs": [],
   "source": [
    "with open(out_file + \"_alpha.txt\", \"w\") as f:\n",
    "    f.write(\"\\n\".join(all_alphas))"
   ]
  },
  {
   "cell_type": "code",
   "execution_count": 9,
   "metadata": {},
   "outputs": [
    {
     "name": "stderr",
     "output_type": "stream",
     "text": [
      "0it [00:00, ?it/s]/tmp/ipykernel_3414852/1933025538.py:15: RuntimeWarning: invalid value encountered in divide\n",
      "  bg_region = (_f[_af > 0].astype(np.float32) - fg_region * _af[_af >0]) / (1. - _af[_af > 0])\n",
      "988it [03:25,  4.81it/s]\n"
     ]
    },
    {
     "ename": "KeyboardInterrupt",
     "evalue": "",
     "output_type": "error",
     "traceback": [
      "\u001b[0;31m---------------------------------------------------------------------------\u001b[0m",
      "\u001b[0;31mKeyboardInterrupt\u001b[0m                         Traceback (most recent call last)",
      "\u001b[1;32m/home/chuongh/InstMatt/generate_vhm_files.ipynb Cell 6\u001b[0m line \u001b[0;36m2\n\u001b[1;32m     <a href='vscode-notebook-cell://ssh-remote%2B7b22686f73744e616d65223a2253657373696f6e2d37363631343631322d626238622d346463382d383536652d313832643563653063303965227d/home/chuongh/InstMatt/generate_vhm_files.ipynb#X10sdnNjb2RlLXJlbW90ZQ%3D%3D?line=26'>27</a>\u001b[0m os\u001b[39m.\u001b[39mmakedirs(os\u001b[39m.\u001b[39mpath\u001b[39m.\u001b[39mdirname(out_fg_path), exist_ok\u001b[39m=\u001b[39m\u001b[39mTrue\u001b[39;00m)\n\u001b[1;32m     <a href='vscode-notebook-cell://ssh-remote%2B7b22686f73744e616d65223a2253657373696f6e2d37363631343631322d626238622d346463382d383536652d313832643563653063303965227d/home/chuongh/InstMatt/generate_vhm_files.ipynb#X10sdnNjb2RlLXJlbW90ZQ%3D%3D?line=27'>28</a>\u001b[0m os\u001b[39m.\u001b[39mmakedirs(os\u001b[39m.\u001b[39mpath\u001b[39m.\u001b[39mdirname(out_bg_path), exist_ok\u001b[39m=\u001b[39m\u001b[39mTrue\u001b[39;00m)\n\u001b[0;32m---> <a href='vscode-notebook-cell://ssh-remote%2B7b22686f73744e616d65223a2253657373696f6e2d37363631343631322d626238622d346463382d383536652d313832643563653063303965227d/home/chuongh/InstMatt/generate_vhm_files.ipynb#X10sdnNjb2RlLXJlbW90ZQ%3D%3D?line=28'>29</a>\u001b[0m fgr\u001b[39m.\u001b[39;49msave(out_fg_path)\n\u001b[1;32m     <a href='vscode-notebook-cell://ssh-remote%2B7b22686f73744e616d65223a2253657373696f6e2d37363631343631322d626238622d346463382d383536652d313832643563653063303965227d/home/chuongh/InstMatt/generate_vhm_files.ipynb#X10sdnNjb2RlLXJlbW90ZQ%3D%3D?line=29'>30</a>\u001b[0m bgr\u001b[39m.\u001b[39msave(out_bg_path)\n",
      "File \u001b[0;32m/opt/conda/envs/mask2matte/lib/python3.8/site-packages/PIL/Image.py:2431\u001b[0m, in \u001b[0;36mImage.save\u001b[0;34m(self, fp, format, **params)\u001b[0m\n\u001b[1;32m   2428\u001b[0m         fp \u001b[39m=\u001b[39m builtins\u001b[39m.\u001b[39mopen(filename, \u001b[39m\"\u001b[39m\u001b[39mw+b\u001b[39m\u001b[39m\"\u001b[39m)\n\u001b[1;32m   2430\u001b[0m \u001b[39mtry\u001b[39;00m:\n\u001b[0;32m-> 2431\u001b[0m     save_handler(\u001b[39mself\u001b[39;49m, fp, filename)\n\u001b[1;32m   2432\u001b[0m \u001b[39mexcept\u001b[39;00m \u001b[39mException\u001b[39;00m:\n\u001b[1;32m   2433\u001b[0m     \u001b[39mif\u001b[39;00m open_fp:\n",
      "File \u001b[0;32m/opt/conda/envs/mask2matte/lib/python3.8/site-packages/PIL/JpegImagePlugin.py:806\u001b[0m, in \u001b[0;36m_save\u001b[0;34m(im, fp, filename)\u001b[0m\n\u001b[1;32m    802\u001b[0m \u001b[39m# The EXIF info needs to be written as one block, + APP1, + one spare byte.\u001b[39;00m\n\u001b[1;32m    803\u001b[0m \u001b[39m# Ensure that our buffer is big enough. Same with the icc_profile block.\u001b[39;00m\n\u001b[1;32m    804\u001b[0m bufsize \u001b[39m=\u001b[39m \u001b[39mmax\u001b[39m(ImageFile\u001b[39m.\u001b[39mMAXBLOCK, bufsize, \u001b[39mlen\u001b[39m(exif) \u001b[39m+\u001b[39m \u001b[39m5\u001b[39m, \u001b[39mlen\u001b[39m(extra) \u001b[39m+\u001b[39m \u001b[39m1\u001b[39m)\n\u001b[0;32m--> 806\u001b[0m ImageFile\u001b[39m.\u001b[39;49m_save(im, fp, [(\u001b[39m\"\u001b[39;49m\u001b[39mjpeg\u001b[39;49m\u001b[39m\"\u001b[39;49m, (\u001b[39m0\u001b[39;49m, \u001b[39m0\u001b[39;49m) \u001b[39m+\u001b[39;49m im\u001b[39m.\u001b[39;49msize, \u001b[39m0\u001b[39;49m, rawmode)], bufsize)\n",
      "File \u001b[0;32m/opt/conda/envs/mask2matte/lib/python3.8/site-packages/PIL/ImageFile.py:520\u001b[0m, in \u001b[0;36m_save\u001b[0;34m(im, fp, tile, bufsize)\u001b[0m\n\u001b[1;32m    518\u001b[0m     fh \u001b[39m=\u001b[39m fp\u001b[39m.\u001b[39mfileno()\n\u001b[1;32m    519\u001b[0m     fp\u001b[39m.\u001b[39mflush()\n\u001b[0;32m--> 520\u001b[0m     _encode_tile(im, fp, tile, bufsize, fh)\n\u001b[1;32m    521\u001b[0m \u001b[39mexcept\u001b[39;00m (\u001b[39mAttributeError\u001b[39;00m, io\u001b[39m.\u001b[39mUnsupportedOperation) \u001b[39mas\u001b[39;00m exc:\n\u001b[1;32m    522\u001b[0m     _encode_tile(im, fp, tile, bufsize, \u001b[39mNone\u001b[39;00m, exc)\n",
      "File \u001b[0;32m/opt/conda/envs/mask2matte/lib/python3.8/site-packages/PIL/ImageFile.py:547\u001b[0m, in \u001b[0;36m_encode_tile\u001b[0;34m(im, fp, tile, bufsize, fh, exc)\u001b[0m\n\u001b[1;32m    544\u001b[0m                 \u001b[39mbreak\u001b[39;00m\n\u001b[1;32m    545\u001b[0m     \u001b[39melse\u001b[39;00m:\n\u001b[1;32m    546\u001b[0m         \u001b[39m# slight speedup: compress to real file object\u001b[39;00m\n\u001b[0;32m--> 547\u001b[0m         s \u001b[39m=\u001b[39m encoder\u001b[39m.\u001b[39;49mencode_to_file(fh, bufsize)\n\u001b[1;32m    548\u001b[0m \u001b[39mif\u001b[39;00m s \u001b[39m<\u001b[39m \u001b[39m0\u001b[39m:\n\u001b[1;32m    549\u001b[0m     msg \u001b[39m=\u001b[39m \u001b[39mf\u001b[39m\u001b[39m\"\u001b[39m\u001b[39mencoder error \u001b[39m\u001b[39m{\u001b[39;00ms\u001b[39m}\u001b[39;00m\u001b[39m when writing image file\u001b[39m\u001b[39m\"\u001b[39m\n",
      "\u001b[0;31mKeyboardInterrupt\u001b[0m: "
     ]
    },
    {
     "name": "stderr",
     "output_type": "stream",
     "text": [
      "Bad pipe message: %s [b'\\x0em\\xd3xM\\xc8\\xfdpi\\xa5/F\\xe7\\x92\\t\\xff\\xd0\\\\ \\x18\\xb2g\\x15\\x19\\xae\\n\\xe44\\xe2[\\x96\\x92n\\xab \\x96\\xed\\xf19H\\xbfND\\xc6p\\xd8\\xf9\\xccj\\x88?\\x00>\\x13\\x02\\x13\\x03\\x13\\x01\\xc0,\\xc00\\x00\\x9f\\xcc\\xa9\\xcc\\xa8\\xcc\\xaa\\xc0+\\xc0/\\x00\\x9e\\xc0$\\xc0(']\n"
     ]
    }
   ],
   "source": [
    "# Extract fg, bg based on frame and alpha\n",
    "\n",
    "for fg_path, alpha_path in tqdm(zip(all_fgrs, all_alphas)):\n",
    "    _f = cv2.imread(fg_path, cv2.IMREAD_UNCHANGED)\n",
    "    _a = cv2.imread(alpha_path, cv2.IMREAD_GRAYSCALE)\n",
    "    _a[_a <= 1] = 0\n",
    "\n",
    "    # Generate FG and BG by remove color by alpha\n",
    "    _bg = _f.copy()\n",
    "    _af = _a.astype(np.float32) / 255.\n",
    "    _af = _af[..., np.newaxis]\n",
    "    _af = np.repeat(_af, 3, axis=2)\n",
    "    fg_region = (_f[_af > 0].astype(np.float32) / _af[_af > 0]).astype(np.uint8)\n",
    "    fg_region = np.clip(fg_region, 0, 255)\n",
    "    bg_region = (_f[_af > 0].astype(np.float32) - fg_region * _af[_af >0]) / (1. - _af[_af > 0])\n",
    "    np.nan_to_num(bg_region, copy=False)\n",
    "    bg_region = np.clip(bg_region, 0, 255)\n",
    "    bg_region = bg_region.astype(np.uint8)\n",
    "    _f[_af > 0] = fg_region\n",
    "    _bg[_af > 0] = bg_region\n",
    "    \n",
    "    fgr = Image.fromarray(_f[:, :, ::-1])\n",
    "    bgr = Image.fromarray(_bg[:, :, ::-1])\n",
    "    \n",
    "    out_fg_path = fg_path.replace(\"/fgr/\", \"/fgr_extracted/\")\n",
    "    out_bg_path = fg_path.replace(\"/fgr/\", \"/bgr_extracted/\")\n",
    "    os.makedirs(os.path.dirname(out_fg_path), exist_ok=True)\n",
    "    os.makedirs(os.path.dirname(out_bg_path), exist_ok=True)\n",
    "    fgr.save(out_fg_path)\n",
    "    bgr.save(out_bg_path)"
   ]
  },
  {
   "cell_type": "code",
   "execution_count": null,
   "metadata": {},
   "outputs": [],
   "source": []
  }
 ],
 "metadata": {
  "kernelspec": {
   "display_name": "mask2matte",
   "language": "python",
   "name": "python3"
  },
  "language_info": {
   "codemirror_mode": {
    "name": "ipython",
    "version": 3
   },
   "file_extension": ".py",
   "mimetype": "text/x-python",
   "name": "python",
   "nbconvert_exporter": "python",
   "pygments_lexer": "ipython3",
   "version": "3.8.16"
  }
 },
 "nbformat": 4,
 "nbformat_minor": 2
}
