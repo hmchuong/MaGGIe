{
 "cells": [
  {
   "cell_type": "code",
   "execution_count": 11,
   "metadata": {},
   "outputs": [],
   "source": [
    "import os\n",
    "import glob\n",
    "import cv2\n",
    "import numpy as np"
   ]
  },
  {
   "cell_type": "code",
   "execution_count": 13,
   "metadata": {},
   "outputs": [],
   "source": [
    "# dirs = [\n",
    "#     \"/home/chuongh/sensei-fs-symlink/users/chuongh/vm2m/data/VHM/benchmark/comp_medium/fgr/00029\",\n",
    "#     \"/home/chuongh/sensei-fs-symlink/users/chuongh/vm2m/data/VHM/benchmark/comp_medium/mask/00029\",\n",
    "#     \"/home/chuongh/sensei-fs-symlink/users/chuongh/vm2m/data/VHM/benchmark/comp_medium/pha/00029\",\n",
    "#     \"/home/chuongh/sensei-fs-symlink/users/chuongh/vm2m/output/VHM/ours_vhm_0919/vis_benchmark_comp_medium_notemp_os8/alpha_pred/00029\",\n",
    "#     \"/home/chuongh/sensei-fs-symlink/users/chuongh/vm2m/output/VHM/ours_vhm_0919/vis_benchmark_comp_medium_temp_os8/alpha_pred/00029\",\n",
    "#     \"/home/chuongh/sensei-fs-symlink/users/chuongh/vm2m/output/VHM/ours_vhm_mem-16-8_1001/vis/alpha_pred/00029\"\n",
    "# ]\n",
    "\n",
    "dirs = [\n",
    "    \"/home/chuongh/sensei-fs-symlink/users/chuongh/vm2m/data/VHM/benchmark/comp_medium/fgr/00029\",\n",
    "    \"/home/chuongh/sensei-fs-symlink/users/chuongh/vm2m/data/VHM/benchmark/comp_medium/mask/00029\",\n",
    "    \"/home/chuongh/sensei-fs-symlink/users/chuongh/vm2m/data/VHM/benchmark/comp_medium/pha/00029\",\n",
    "    \"/home/chuongh/vm2m/output/VHM/ours_vhm_mem-query-post_mem-detail_1004_new/vis_benchmark_comp_medium_notemp/alpha_pred/00029\",\n",
    "    \"/home/chuongh/vm2m/output/VHM/ours_vhm_mem-query-post_mem-detail_1004_new/vis_benchmark_comp_medium_temp_nodetail/alpha_pred/00029\",\n",
    "    \"/home/chuongh/vm2m/output/VHM/ours_vhm_mem-query-post_mem-detail_1004_new/vis_benchmark_comp_medium_temp/alpha_pred/00029\"\n",
    "]\n",
    "\n",
    "anchor_dir = dirs[1]\n",
    "out_dir = \"temp\""
   ]
  },
  {
   "cell_type": "code",
   "execution_count": 16,
   "metadata": {},
   "outputs": [],
   "source": [
    "!rm -rf temp\n",
    "all_image_names = glob.glob(anchor_dir + \"/*/*.png\")\n",
    "for image_name in all_image_names:\n",
    "    all_images = []\n",
    "    for dirname in dirs:\n",
    "        path = image_name.replace(anchor_dir, dirname)\n",
    "        if \"/fgr/\" in dirname:\n",
    "            path = os.path.dirname(path) + \".jpg\"\n",
    "        image = cv2.imread(path, cv2.IMREAD_COLOR)\n",
    "        all_images.append(image)\n",
    "    row1 = np.concatenate(all_images[:3], axis=1)\n",
    "    row2 = np.concatenate(all_images[3:], axis=1)\n",
    "    row3 = np.concatenate([\n",
    "        cv2.absdiff(all_images[3], all_images[2]),\n",
    "        cv2.absdiff(all_images[4], all_images[2]),\n",
    "        cv2.absdiff(all_images[5], all_images[2]),\n",
    "    ], axis=1)\n",
    "    image = np.concatenate([row1, row2, row3], axis=0)\n",
    "    ratio = 2000.0 / image.shape[1]\n",
    "    image = cv2.resize(image, (0, 0), fx=ratio, fy=ratio)\n",
    "    image_name = image_name.replace(anchor_dir, out_dir)\n",
    "    os.makedirs(os.path.dirname(image_name), exist_ok=True)\n",
    "    cv2.imwrite(image_name, image)"
   ]
  },
  {
   "cell_type": "code",
   "execution_count": 9,
   "metadata": {},
   "outputs": [
    {
     "data": {
      "text/plain": [
       "'/*/*.png'"
      ]
     },
     "execution_count": 9,
     "metadata": {},
     "output_type": "execute_result"
    }
   ],
   "source": [
    "os.path.join(anchor_dir, \"/*/*.png\")"
   ]
  },
  {
   "cell_type": "code",
   "execution_count": null,
   "metadata": {},
   "outputs": [],
   "source": []
  }
 ],
 "metadata": {
  "kernelspec": {
   "display_name": "mask2matte",
   "language": "python",
   "name": "python3"
  },
  "language_info": {
   "codemirror_mode": {
    "name": "ipython",
    "version": 3
   },
   "file_extension": ".py",
   "mimetype": "text/x-python",
   "name": "python",
   "nbconvert_exporter": "python",
   "pygments_lexer": "ipython3",
   "version": "3.8.16"
  },
  "orig_nbformat": 4
 },
 "nbformat": 4,
 "nbformat_minor": 2
}
