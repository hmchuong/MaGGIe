{
 "cells": [
  {
   "cell_type": "code",
   "execution_count": 1,
   "metadata": {
    "tags": []
   },
   "outputs": [],
   "source": [
    "import os\n",
    "import numpy as np\n",
    "import cv2\n",
    "import tqdm"
   ]
  },
  {
   "cell_type": "code",
   "execution_count": 2,
   "metadata": {
    "tags": []
   },
   "outputs": [],
   "source": [
    "image_root = \"/fs/nexus-scratch/chuonghm/vm2m/data/I-HIM/HIM2K_M-HIM2K/images/natural\"\n",
    "alpha_root = \"/fs/nexus-scratch/chuonghm/vm2m/data/I-HIM/HIM2K_M-HIM2K/alphas/natural\"\n",
    "\n",
    "pred_dirs = [\n",
    "    \"/fs/nexus-scratch/chuonghm/vm2m/output/HIM/i-him50k_nexus_231220_atten-128_final-c-128/vis/natural\",\n",
    "    \"/fs/nexus-scratch/chuonghm/vm2m/output/HIM/i-him50k_nexus_231226_atten-128_final-c-64/vis/natural\"\n",
    "]\n",
    "output_dir = \"/fs/nexus-scratch/chuonghm/vm2m/output/HIM/compare_final-c\"\n",
    "os.makedirs(output_dir, exist_ok=True)"
   ]
  },
  {
   "cell_type": "code",
   "execution_count": null,
   "metadata": {},
   "outputs": [],
   "source": [
    "image_root = \"/mnt/localssd/HIM2K/images/natural\"\n",
    "alpha_root = \"/mnt/localssd/HIM2K/alphas/natural\"\n",
    "\n",
    "pred_dirs = [\n",
    "    \"/home/chuongh/vm2m/output/HIM/mgm_enc-dec-spconv_him_syn_short-576-512x512_bs256_20k_adamw_5.0e-5/vis_natural/alpha_pred/natural\",\n",
    "    \"/home/chuongh/vm2m/output/HIM/mgm_enc-dec_multi-inst_him_bs12_2gpus_best0804/vis_natural/alpha_pred/natural\",\n",
    "    \"/home/chuongh/vm2m/output/HIM/mgm_cvpr23/vis_natural/alpha_pred/natural\"\n",
    "]\n",
    "output_dir = \"/home/chuongh/vm2m/output/HIM/combine_him2k_0809\"\n",
    "os.makedirs(output_dir, exist_ok=True)"
   ]
  },
  {
   "cell_type": "code",
   "execution_count": 12,
   "metadata": {
    "tags": []
   },
   "outputs": [
    {
     "name": "stderr",
     "output_type": "stream",
     "text": [
      "100%|███████████████████████████████████████████████████████████████████████████████████████████████████████████████████████████████████| 320/320 [01:51<00:00,  2.86it/s]\n"
     ]
    }
   ],
   "source": [
    "for image_name in tqdm.tqdm(os.listdir(image_root)):\n",
    "    image = cv2.imread(os.path.join(image_root, image_name))\n",
    "    h, w, _ = image.shape\n",
    "    w = int(2000 / h * w)\n",
    "    image = cv2.resize(image, (w, 2000))\n",
    "\n",
    "    # Load all alphas\n",
    "    alpha_names = sorted(os.listdir(os.path.join(alpha_root, image_name.replace(\".jpg\", \"\"))))\n",
    "    instance_h = 2000 // len(alpha_names)\n",
    "    instance_w = int(w * instance_h / 2000)\n",
    "\n",
    "    new_image = np.zeros((2000, w + instance_w * 3, 3), dtype=np.uint8)\n",
    "    new_image[:, :w] = image\n",
    "    x = w\n",
    "    y = 0\n",
    "    for alpha_name in alpha_names:\n",
    "        alpha = cv2.imread(os.path.join(alpha_root, image_name.replace(\".jpg\", \"\"), alpha_name))\n",
    "        alpha = cv2.resize(alpha, (instance_w, instance_h))\n",
    "        if len(alpha.shape) == 1:\n",
    "            alpha = np.expand_dims(alpha, axis=-1)\n",
    "            alpha = np.concatenate([alpha, alpha, alpha], axis=-1)\n",
    "        alpha[:2, :, 2] = 255\n",
    "        alpha[-2:, :, 2] = 255\n",
    "        alpha[:, :2, 2] = 255\n",
    "        alpha[:, -2:, 2] = 255\n",
    "        new_image[y: y + instance_h, x:x + instance_w] = alpha\n",
    "        y += instance_h\n",
    "    x += instance_w\n",
    "    for pred_dir in pred_dirs:\n",
    "        for i, alpha_name in enumerate(alpha_names):\n",
    "            pred_name = os.path.join(pred_dir, image_name.replace(\".jpg\", f\"/{alpha_name}\"))\n",
    "            pred = cv2.imread(pred_name)\n",
    "            pred = cv2.resize(pred, (instance_w, instance_h))\n",
    "            pred[:2, :, 2] = 255\n",
    "            pred[-2:, :, 2] = 255\n",
    "            pred[:, :2, 2] = 255\n",
    "            pred[:, -2:, 2] = 255\n",
    "            new_image[i * instance_h: (i + 1) * instance_h, x:x + instance_w] = pred\n",
    "        x += instance_w\n",
    "    cv2.imwrite(os.path.join(output_dir, image_name), new_image)\n",
    "    "
   ]
  },
  {
   "cell_type": "code",
   "execution_count": 10,
   "metadata": {
    "tags": []
   },
   "outputs": [
    {
     "data": {
      "text/plain": [
       "['02.png', '04.png', '06.png', '09.png']"
      ]
     },
     "execution_count": 10,
     "metadata": {},
     "output_type": "execute_result"
    }
   ],
   "source": [
    "alpha_names"
   ]
  },
  {
   "cell_type": "code",
   "execution_count": 4,
   "metadata": {},
   "outputs": [
    {
     "name": "stderr",
     "output_type": "stream",
     "text": [
      "  0%|          | 0/320 [00:00<?, ?it/s]100%|██████████| 320/320 [09:16<00:00,  1.74s/it]\n"
     ]
    }
   ],
   "source": [
    "for image_name in tqdm.tqdm(os.listdir(image_root)):\n",
    "    image = cv2.imread(os.path.join(image_root, image_name))\n",
    "    h, w, _ = image.shape\n",
    "    w = int(2000 / h * w)\n",
    "    image = cv2.resize(image, (w, 2000))\n",
    "\n",
    "    # Load all alphas\n",
    "    alpha_names = sorted(os.listdir(os.path.join(alpha_root, image_name.replace(\".jpg\", \"\"))))\n",
    "    instance_h = 2000 // len(alpha_names)\n",
    "    instance_w = int(w * instance_h / 2000)\n",
    "\n",
    "    new_image = np.zeros((2000, w + instance_w * 4, 3), dtype=np.uint8)\n",
    "    new_image[:, :w] = image\n",
    "    x = w\n",
    "    y = 0\n",
    "    for alpha_name in alpha_names:\n",
    "        alpha = cv2.imread(os.path.join(alpha_root, image_name.replace(\".jpg\", \"\"), alpha_name))\n",
    "        alpha = cv2.resize(alpha, (instance_w, instance_h))\n",
    "        if len(alpha.shape) == 1:\n",
    "            alpha = np.expand_dims(alpha, axis=-1)\n",
    "            alpha = np.concatenate([alpha, alpha, alpha], axis=-1)\n",
    "        alpha[:2, :, 2] = 255\n",
    "        alpha[-2:, :, 2] = 255\n",
    "        alpha[:, :2, 2] = 255\n",
    "        alpha[:, -2:, 2] = 255\n",
    "        new_image[y: y + instance_h, x:x + instance_w] = alpha\n",
    "        y += instance_h\n",
    "    x += instance_w\n",
    "    for pred_dir in pred_dirs:\n",
    "        for i in range(len(alpha_names)):\n",
    "            pred_name = os.path.join(pred_dir, image_name.replace(\".jpg\", f\"_inst{i}.jpg\"))\n",
    "            pred = cv2.imread(pred_name)\n",
    "            pred = cv2.resize(pred, (instance_w, instance_h))\n",
    "            pred[:2, :, 2] = 255\n",
    "            pred[-2:, :, 2] = 255\n",
    "            pred[:, :2, 2] = 255\n",
    "            pred[:, -2:, 2] = 255\n",
    "            new_image[i * instance_h: (i + 1) * instance_h, x:x + instance_w] = pred\n",
    "        x += instance_w\n",
    "    cv2.imwrite(os.path.join(output_dir, image_name), new_image)\n",
    "    "
   ]
  },
  {
   "cell_type": "code",
   "execution_count": 13,
   "metadata": {},
   "outputs": [
    {
     "data": {
      "text/plain": [
       "True"
      ]
     },
     "execution_count": 13,
     "metadata": {},
     "output_type": "execute_result"
    }
   ],
   "source": [
    "cv2.imwrite('test_image.jpg', new_image)"
   ]
  },
  {
   "cell_type": "code",
   "execution_count": 3,
   "metadata": {},
   "outputs": [],
   "source": [
    "image_root = \"/mnt/localssd/HIM2K/images/natural\"\n",
    "alpha_root = \"/mnt/localssd/HIM2K/alphas/natural\"\n",
    "alpha_inst_mat = \"/home/chuongh/InstMatt/results/him2k_natural\"\n",
    "pred_dirs = [\n",
    "    \"/home/chuongh/vm2m/output/HIM/mgm_cvpr23/vis_natural/alpha_pred/natural\",\n",
    "    \"/home/chuongh/vm2m/output/HIM/mgm_enc-dec-spconv_him_syn_short-576-512x512_bs256_20k_adamw_5.0e-5/vis_natural/alpha_pred/natural\",\n",
    "]\n",
    "output_dir = \"/home/chuongh/vm2m/output/HIM/combine_him2k_0814\"\n",
    "os.makedirs(output_dir, exist_ok=True)"
   ]
  },
  {
   "cell_type": "code",
   "execution_count": 3,
   "metadata": {},
   "outputs": [
    {
     "name": "stderr",
     "output_type": "stream",
     "text": [
      "  0%|          | 0/320 [00:00<?, ?it/s]\n"
     ]
    },
    {
     "ename": "NameError",
     "evalue": "name 'alpha_root' is not defined",
     "output_type": "error",
     "traceback": [
      "\u001b[0;31m---------------------------------------------------------------------------\u001b[0m",
      "\u001b[0;31mNameError\u001b[0m                                 Traceback (most recent call last)",
      "Cell \u001b[0;32mIn[3], line 8\u001b[0m\n\u001b[1;32m      5\u001b[0m image \u001b[39m=\u001b[39m cv2\u001b[39m.\u001b[39mresize(image, (w, \u001b[39m2000\u001b[39m))\n\u001b[1;32m      7\u001b[0m \u001b[39m# Load all alphas\u001b[39;00m\n\u001b[0;32m----> 8\u001b[0m alpha_names \u001b[39m=\u001b[39m \u001b[39msorted\u001b[39m(os\u001b[39m.\u001b[39mlistdir(os\u001b[39m.\u001b[39mpath\u001b[39m.\u001b[39mjoin(alpha_root, image_name\u001b[39m.\u001b[39mreplace(\u001b[39m\"\u001b[39m\u001b[39m.jpg\u001b[39m\u001b[39m\"\u001b[39m, \u001b[39m\"\u001b[39m\u001b[39m\"\u001b[39m))))\n\u001b[1;32m      9\u001b[0m instance_h \u001b[39m=\u001b[39m \u001b[39m2000\u001b[39m \u001b[39m/\u001b[39m\u001b[39m/\u001b[39m \u001b[39mlen\u001b[39m(alpha_names)\n\u001b[1;32m     10\u001b[0m instance_w \u001b[39m=\u001b[39m \u001b[39mint\u001b[39m(w \u001b[39m*\u001b[39m instance_h \u001b[39m/\u001b[39m \u001b[39m2000\u001b[39m)\n",
      "\u001b[0;31mNameError\u001b[0m: name 'alpha_root' is not defined"
     ]
    }
   ],
   "source": [
    "for image_name in tqdm.tqdm(os.listdir(image_root)):\n",
    "    image = cv2.imread(os.path.join(image_root, image_name))\n",
    "    h, w, _ = image.shape\n",
    "    w = int(2000 / h * w)\n",
    "    image = cv2.resize(image, (w, 2000))\n",
    "\n",
    "    # Load all alphas\n",
    "    alpha_names = sorted(os.listdir(os.path.join(alpha_root, image_name.replace(\".jpg\", \"\"))))\n",
    "    instance_h = 2000 // len(alpha_names)\n",
    "    instance_w = int(w * instance_h / 2000)\n",
    "\n",
    "    new_image = np.zeros((2000, w + instance_w * 4, 3), dtype=np.uint8)\n",
    "    new_image[:, :w] = image\n",
    "    x = w\n",
    "    y = 0\n",
    "    for alpha_name in alpha_names:\n",
    "        for i, root_dir in enumerate([alpha_root, alpha_inst_mat]):\n",
    "            alpha = cv2.imread(os.path.join(root_dir, image_name.replace(\".jpg\", \"\"), alpha_name))\n",
    "            alpha = cv2.resize(alpha, (instance_w, instance_h))\n",
    "            if len(alpha.shape) == 1:\n",
    "                alpha = np.expand_dims(alpha, axis=-1)\n",
    "                alpha = np.concatenate([alpha, alpha, alpha], axis=-1)\n",
    "            alpha[:2, :, 2] = 255\n",
    "            alpha[-2:, :, 2] = 255\n",
    "            alpha[:, :2, 2] = 255\n",
    "            alpha[:, -2:, 2] = 255\n",
    "            x_start = x + (instance_w * i)\n",
    "            new_image[y: y + instance_h, x_start :x_start + instance_w] = alpha\n",
    "        y += instance_h\n",
    "    x += (instance_w * 2)\n",
    "    for pred_dir in pred_dirs:\n",
    "        for i in range(len(alpha_names)):\n",
    "            pred_name = os.path.join(pred_dir, image_name.replace(\".jpg\", f\"_inst{i}.jpg\"))\n",
    "            pred = cv2.imread(pred_name)\n",
    "            pred = cv2.resize(pred, (instance_w, instance_h))\n",
    "            pred[:2, :, 2] = 255\n",
    "            pred[-2:, :, 2] = 255\n",
    "            pred[:, :2, 2] = 255\n",
    "            pred[:, -2:, 2] = 255\n",
    "            new_image[i * instance_h: (i + 1) * instance_h, x:x + instance_w] = pred\n",
    "        x += instance_w\n",
    "    cv2.imwrite(os.path.join(output_dir, image_name), new_image)"
   ]
  },
  {
   "cell_type": "code",
   "execution_count": 6,
   "metadata": {},
   "outputs": [
    {
     "name": "stderr",
     "output_type": "stream",
     "text": [
      "  0%|          | 0/320 [00:00<?, ?it/s]100%|██████████| 320/320 [04:33<00:00,  1.17it/s]\n"
     ]
    }
   ],
   "source": [
    "# For masks = 0.5\n",
    "image_root = \"/mnt/localssd/HIM2K/images/natural\"\n",
    "pred_dirs = [\n",
    "    \"/mnt/localssd/HIM2K/alphas/natural\",\n",
    "    \"given_masks\",\n",
    "    \"/home/chuongh/vm2m/output/HIM/mgm_cvpr23/vis_natural/alpha_pred/natural\",\n",
    "    \"/home/chuongh/InstMatt/results/him2k_natural\",\n",
    "    \"/home/chuongh/vm2m/output/HIM/mgm_enc-dec-spconv_atten-loss_him_syn_short-576-512x512_bs128_20k_adamw_5.0e-5/vis_natural/alpha_pred/natural\"\n",
    "]\n",
    "output_dir = \"/home/chuongh/vm2m/output/HIM/combine_him2k_0816\"\n",
    "os.makedirs(output_dir, exist_ok=True)\n",
    "\n",
    "for image_name in tqdm.tqdm(os.listdir(image_root)):\n",
    "    image = cv2.imread(os.path.join(image_root, image_name))\n",
    "    h, w, _ = image.shape\n",
    "    w = int(2000 / h * w)\n",
    "    image = cv2.resize(image, (w, 2000))\n",
    "\n",
    "    # Load all alphas\n",
    "    alpha_names = sorted(os.listdir(os.path.join(pred_dirs[0], image_name.replace(\".jpg\", \"\"))))\n",
    "    instance_h = 2000 // len(alpha_names)\n",
    "    instance_w = int(w * instance_h / 2000)\n",
    "\n",
    "    new_image = np.zeros((2000, w + instance_w * len(pred_dirs), 3), dtype=np.uint8)\n",
    "    new_image[:, :w] = image\n",
    "    x = w\n",
    "    y = 0\n",
    "    \n",
    "    for inst_i, alpha_name in enumerate(alpha_names):\n",
    "        alpha_gt = None\n",
    "        for i, pred_dir in enumerate(pred_dirs):\n",
    "            mask = None\n",
    "            if pred_dir == \"given_masks\":\n",
    "                # Generate masks based on alpha\n",
    "                mask = (alpha_gt > 0.5).astype('uint8') * 255\n",
    "                mask = cv2.resize(alpha_gt, (alpha_gt.shape[1] // 8, alpha_gt.shape[0] // 8), interpolation=cv2.INTER_NEAREST)\n",
    "            elif os.path.exists(os.path.join(pred_dir, image_name.replace(\".jpg\", \"\"), alpha_name)):\n",
    "                mask = cv2.imread(os.path.join(pred_dir, image_name.replace(\".jpg\", \"\"), alpha_name))\n",
    "            else:\n",
    "                mask = cv2.imread(os.path.join(pred_dir, image_name.replace(\".jpg\", f\"_inst{inst_i}.jpg\")))\n",
    "            if i == 0:\n",
    "                alpha_gt = mask\n",
    "            mask = cv2.resize(mask, (instance_w, instance_h))\n",
    "            if len(mask.shape) == 1:\n",
    "                mask = np.expand_dims(mask, axis=-1)\n",
    "                mask = np.concatenate([mask, mask, mask], axis=-1)\n",
    "            mask[:2, :, 2] = 255\n",
    "            mask[-2:, :, 2] = 255\n",
    "            mask[:, :2, 2] = 255\n",
    "            mask[:, -2:, 2] = 255\n",
    "            new_image[y: y + instance_h, x + (instance_w * i):x + (instance_w * (i + 1))] = mask\n",
    "        y += instance_h\n",
    "    cv2.imwrite(os.path.join(output_dir, image_name), new_image)"
   ]
  },
  {
   "cell_type": "code",
   "execution_count": 8,
   "metadata": {},
   "outputs": [
    {
     "name": "stderr",
     "output_type": "stream",
     "text": [
      "100%|██████████| 320/320 [04:42<00:00,  1.13it/s]\n",
      "Bad pipe message: %s [b'n\\xeb\\xae\\xd1\\x89,j\\x0f']\n",
      "Bad pipe message: %s [b\"\\xa3Y\\x9d9P\\x1cW\\x0c R\\xef`\\x07\\xe7\\xbd\\x86h\\x82Ka\\xd3B\\xaf\\xd592\\x92Eh\\xa3J\\xc9.\\xbd\\xdb\\x8en\\xbdH\\x91\\xdc\\x00>\\x13\\x02\\x13\\x03\\x13\\x01\\xc0,\\xc00\\x00\\x9f\\xcc\\xa9\\xcc\\xa8\\xcc\\xaa\\xc0+\\xc0/\\x00\\x9e\\xc0$\\xc0(\\x00k\\xc0#\\xc0'\\x00g\\xc0\\n\\xc0\\x14\\x009\\xc0\\t\\xc0\\x13\\x003\\x00\\x9d\\x00\\x9c\\x00=\\x00<\\x005\\x00/\\x00\\xff\\x01\\x00\\x01u\\x00\\x0b\\x00\\x04\\x03\\x00\\x01\\x02\\x00\\n\\x00\\x0c\\x00\\n\\x00\\x1d\\x00\\x17\\x00\\x1e\\x00\\x19\\x00\\x18\\x00#\\x00\\x00\\x00\\x16\\x00\\x00\\x00\\x17\\x00\\x00\\x00\\r\\x000\\x00.\\x04\\x03\\x05\\x03\\x06\\x03\\x08\\x07\\x08\\x08\\x08\\t\", b'\\x08\\x0b\\x08\\x04\\x08\\x05\\x08']\n",
      "Bad pipe message: %s [b'\\x01\\x05\\x01\\x06\\x01']\n",
      "Bad pipe message: %s [b'\\x02\\x03', b'\\x02\\x01', b'\\x02\\x02']\n",
      "Bad pipe message: %s [b'\\x05\\x02\\x06']\n",
      "Bad pipe message: %s [b'+']\n"
     ]
    }
   ],
   "source": [
    "# For masks = 0.5\n",
    "image_root = \"/mnt/localssd/HIM2K/images/natural\"\n",
    "pred_dirs = [\n",
    "    \"/mnt/localssd/HIM2K/alphas/natural\",\n",
    "    \"/mnt/localssd/HIM2K/masks_matched/natural\",\n",
    "    \"/home/chuongh/vm2m/output/HIM/mgm_cvpr23/vis_natural_random/alpha_pred/natural\",\n",
    "    \"/home/chuongh/InstMatt/results/him2k_natural_random\",\n",
    "    \"/home/chuongh/vm2m/output/HIM/mgm_enc-dec-spconv_atten-loss_him_syn_short-576-512x512_bs128_20k_adamw_5.0e-5/vis_natural_random/alpha_pred/natural\"\n",
    "]\n",
    "output_dir = \"/home/chuongh/vm2m/output/HIM/combine_him2k_random_0816\"\n",
    "os.makedirs(output_dir, exist_ok=True)\n",
    "\n",
    "for image_name in tqdm.tqdm(os.listdir(image_root)):\n",
    "    image = cv2.imread(os.path.join(image_root, image_name))\n",
    "    h, w, _ = image.shape\n",
    "    w = int(2000 / h * w)\n",
    "    image = cv2.resize(image, (w, 2000))\n",
    "\n",
    "    # Load all alphas\n",
    "    alpha_names = sorted(os.listdir(os.path.join(pred_dirs[1], image_name.replace(\".jpg\", \"\"))))\n",
    "    instance_h = 2000 // len(alpha_names)\n",
    "    instance_w = int(w * instance_h / 2000)\n",
    "\n",
    "    new_image = np.zeros((2000, w + instance_w * len(pred_dirs), 3), dtype=np.uint8)\n",
    "    new_image[:, :w] = image\n",
    "    x = w\n",
    "    y = 0\n",
    "    \n",
    "    for inst_i, alpha_name in enumerate(alpha_names):\n",
    "        alpha_gt = None\n",
    "        for i, pred_dir in enumerate(pred_dirs):\n",
    "            mask = None\n",
    "            if os.path.exists(os.path.join(pred_dir, image_name.replace(\".jpg\", \"\"), alpha_name)):\n",
    "                mask = cv2.imread(os.path.join(pred_dir, image_name.replace(\".jpg\", \"\"), alpha_name))\n",
    "            else:\n",
    "                mask = cv2.imread(os.path.join(pred_dir, image_name.replace(\".jpg\", f\"_inst{inst_i}.jpg\")))\n",
    "            mask = cv2.resize(mask, (instance_w, instance_h))\n",
    "            if len(mask.shape) == 1:\n",
    "                mask = np.expand_dims(mask, axis=-1)\n",
    "                mask = np.concatenate([mask, mask, mask], axis=-1)\n",
    "            mask[:2, :, 2] = 255\n",
    "            mask[-2:, :, 2] = 255\n",
    "            mask[:, :2, 2] = 255\n",
    "            mask[:, -2:, 2] = 255\n",
    "            new_image[y: y + instance_h, x + (instance_w * i):x + (instance_w * (i + 1))] = mask\n",
    "        y += instance_h\n",
    "    cv2.imwrite(os.path.join(output_dir, image_name), new_image)"
   ]
  },
  {
   "cell_type": "code",
   "execution_count": null,
   "metadata": {},
   "outputs": [
    {
     "name": "stderr",
     "output_type": "stream",
     "text": [
      "  0%|          | 0/320 [00:00<?, ?it/s]100%|██████████| 320/320 [03:19<00:00,  1.61it/s]\n"
     ]
    }
   ],
   "source": [
    "# For masks = 0.5\n",
    "image_root = \"/mnt/localssd/HIM2K/images/natural\"\n",
    "pred_dirs = [\n",
    "    \"/mnt/localssd/HIM2K/alphas/natural\",\n",
    "    \"/home/chuongh/sensei-fs-symlink/users/chuongh/vm2m/output/HIM/ours_1031_single-stage_ft-details/debug/alpha_pred/natural\",\n",
    "    \"/home/chuongh/sensei-fs-symlink/users/chuongh/vm2m/output/HIM/mgm_cvpr23_stacked_multi-inst_him_bs12_0920/vis/alpha_pred/natural\"\n",
    "]\n",
    "output_dir = \"/home/chuongh/vm2m/output/HIM/combine_him2k_1102\"\n",
    "os.makedirs(output_dir, exist_ok=True)\n",
    "\n",
    "target_files = set([\n",
    "    \"unsplash_middle_saeed-karimi-JrrWC7Qcmhs-unsplash\",\n",
    "    \"google_easy_c3668dda4d46436097b6c5d58153e7de\",\n",
    "    \"google_middle_95e6da3a2f164a80b68abdd8058aa696\",\n",
    "    \"google_middle_62604586fc08499ca4d346900c338bc8\",\n",
    "    \"google_middle_44440b07b2d5459ea2053cd3ee9f9406\",\n",
    "    \"google_middle_2db0e2572a654f55947d88d411c3cb61\",\n",
    "    \"celebrity_middle_d3874137945e41319d93448910b8bcdd\",\n",
    "    \"celebrity_easy_e129df9159a64841b62c588ddc5730c9\",\n",
    "    \"celebrity_middle_1650c9fd73ae4313bae6a598a7d7072e\",\n",
    "    \"celebrity_middle_8f47dc49975f4fc484224fdec092253f\",\n",
    "    \"celebrity_easy_c0c60daf04cf41e3bb5752d932944dd9\",\n",
    "    \"celebrity_middle_2b9db99c95e54d918f2a0795515ef271\",\n",
    "    \"celebrity_easy_b71d8703a11240a2aba6babc1193c2e4\",\n",
    "    \"Pexels_middle_pexels-photo-5896435\".\n",
    "    \"Pexels_easy_pexels-photo-5618157\"\n",
    "])\n",
    "\n",
    "# for image_name in tqdm.tqdm(os.listdir(image_root)):\n",
    "for image_name in tqdm.tqdm(target_files):\n",
    "    image_name = image_name + \".jpg\"\n",
    "    image = cv2.imread(os.path.join(image_root, image_name))\n",
    "    h, w, _ = image.shape\n",
    "    w = int(2000 / h * w)\n",
    "    image = cv2.resize(image, (w, 2000))\n",
    "\n",
    "    # Load all alphas\n",
    "    alpha_names = sorted(os.listdir(os.path.join(pred_dirs[1], image_name.replace(\".jpg\", \"\"))))\n",
    "    instance_h = 2000 // len(alpha_names)\n",
    "    instance_w = int(w * instance_h / 2000)\n",
    "\n",
    "    new_image = np.zeros((2000, w + instance_w * len(pred_dirs), 3), dtype=np.uint8)\n",
    "    new_image[:, :w] = image\n",
    "    x = w\n",
    "    y = 0\n",
    "    \n",
    "    for inst_i, alpha_name in enumerate(alpha_names):\n",
    "        alpha_gt = None\n",
    "        for i, pred_dir in enumerate(pred_dirs):\n",
    "            mask = None\n",
    "            if os.path.exists(os.path.join(pred_dir, image_name.replace(\".jpg\", \"\"), alpha_name)):\n",
    "                mask = cv2.imread(os.path.join(pred_dir, image_name.replace(\".jpg\", \"\"), alpha_name))\n",
    "            else:\n",
    "                mask = cv2.imread(os.path.join(pred_dir, image_name.replace(\".jpg\", f\"_inst{inst_i}.jpg\")))\n",
    "            mask = cv2.resize(mask, (instance_w, instance_h))\n",
    "            if len(mask.shape) == 1:\n",
    "                mask = np.expand_dims(mask, axis=-1)\n",
    "                mask = np.concatenate([mask, mask, mask], axis=-1)\n",
    "            mask[:2, :, 2] = 255\n",
    "            mask[-2:, :, 2] = 255\n",
    "            mask[:, :2, 2] = 255\n",
    "            mask[:, -2:, 2] = 255\n",
    "            new_image[y: y + instance_h, x + (instance_w * i):x + (instance_w * (i + 1))] = mask\n",
    "        y += instance_h\n",
    "    cv2.imwrite(os.path.join(output_dir, image_name), new_image)"
   ]
  },
  {
   "cell_type": "code",
   "execution_count": null,
   "metadata": {},
   "outputs": [],
   "source": []
  }
 ],
 "metadata": {
  "kernelspec": {
   "display_name": "Python 3 (ipykernel)",
   "language": "python",
   "name": "python3"
  },
  "language_info": {
   "codemirror_mode": {
    "name": "ipython",
    "version": 3
   },
   "file_extension": ".py",
   "mimetype": "text/x-python",
   "name": "python",
   "nbconvert_exporter": "python",
   "pygments_lexer": "ipython3",
   "version": "3.10.8"
  }
 },
 "nbformat": 4,
 "nbformat_minor": 4
}
